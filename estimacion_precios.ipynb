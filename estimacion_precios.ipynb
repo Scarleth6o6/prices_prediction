{
 "cells": [
  {
   "cell_type": "markdown",
   "metadata": {},
   "source": [
    "# Estimacion de Precios de Vehiculos"
   ]
  },
  {
   "cell_type": "markdown",
   "metadata": {},
   "source": [
    "El servicio de venta de autos usados Rusty Bargain está desarrollando una aplicación para atraer nuevos clientes. Gracias a esa app, puedes averiguar rápidamente el valor de mercado de tu coche. Tienes acceso al historial: especificaciones técnicas, versiones de equipamiento y precios. Tienes que crear un modelo que determine el valor de mercado.\n",
    "A Rusty Bargain le interesa:\n",
    "- la calidad de la predicción;\n",
    "- la velocidad de la predicción;\n",
    "- el tiempo requerido para el entrenamiento"
   ]
  },
  {
   "cell_type": "markdown",
   "metadata": {},
   "source": [
    "## Preparación de datos"
   ]
  },
  {
   "cell_type": "code",
   "execution_count": 1,
   "metadata": {},
   "outputs": [],
   "source": [
    "# Importar librerias\n",
    "import pandas as pd\n",
    "import numpy as np\n",
    "import matplotlib.pyplot as plt\n",
    "from sklearn.tree import DecisionTreeClassifier\n",
    "from sklearn.tree import DecisionTreeRegressor\n",
    "from sklearn.linear_model import LinearRegression\n",
    "import lightgbm as lgb\n",
    "from sklearn.model_selection import train_test_split\n",
    "from sklearn.ensemble import RandomForestRegressor\n",
    "import seaborn as sns\n",
    "from sklearn.metrics import root_mean_squared_error\n",
    "import statistics\n",
    "import time\n",
    "import re"
   ]
  },
  {
   "cell_type": "code",
   "execution_count": 2,
   "metadata": {},
   "outputs": [],
   "source": [
    "# Descargar datos\n",
    "data = pd.read_csv('dataset/car_data.csv')"
   ]
  },
  {
   "cell_type": "code",
   "execution_count": 3,
   "metadata": {},
   "outputs": [
    {
     "name": "stdout",
     "output_type": "stream",
     "text": [
      "<class 'pandas.core.frame.DataFrame'>\n",
      "RangeIndex: 354369 entries, 0 to 354368\n",
      "Data columns (total 16 columns):\n",
      " #   Column             Non-Null Count   Dtype \n",
      "---  ------             --------------   ----- \n",
      " 0   DateCrawled        354369 non-null  object\n",
      " 1   Price              354369 non-null  int64 \n",
      " 2   VehicleType        316879 non-null  object\n",
      " 3   RegistrationYear   354369 non-null  int64 \n",
      " 4   Gearbox            334536 non-null  object\n",
      " 5   Power              354369 non-null  int64 \n",
      " 6   Model              334664 non-null  object\n",
      " 7   Mileage            354369 non-null  int64 \n",
      " 8   RegistrationMonth  354369 non-null  int64 \n",
      " 9   FuelType           321474 non-null  object\n",
      " 10  Brand              354369 non-null  object\n",
      " 11  NotRepaired        283215 non-null  object\n",
      " 12  DateCreated        354369 non-null  object\n",
      " 13  NumberOfPictures   354369 non-null  int64 \n",
      " 14  PostalCode         354369 non-null  int64 \n",
      " 15  LastSeen           354369 non-null  object\n",
      "dtypes: int64(7), object(9)\n",
      "memory usage: 43.3+ MB\n"
     ]
    }
   ],
   "source": [
    "data.info()"
   ]
  },
  {
   "cell_type": "code",
   "execution_count": 4,
   "metadata": {},
   "outputs": [
    {
     "data": {
      "text/plain": [
       "DateCrawled              0\n",
       "Price                    0\n",
       "VehicleType          37490\n",
       "RegistrationYear         0\n",
       "Gearbox              19833\n",
       "Power                    0\n",
       "Model                19705\n",
       "Mileage                  0\n",
       "RegistrationMonth        0\n",
       "FuelType             32895\n",
       "Brand                    0\n",
       "NotRepaired          71154\n",
       "DateCreated              0\n",
       "NumberOfPictures         0\n",
       "PostalCode               0\n",
       "LastSeen                 0\n",
       "dtype: int64"
      ]
     },
     "execution_count": 4,
     "metadata": {},
     "output_type": "execute_result"
    }
   ],
   "source": [
    "data.isna().sum()"
   ]
  },
  {
   "cell_type": "markdown",
   "metadata": {},
   "source": [
    "**Descripción de los datos**\n",
    "\n",
    "- DateCrawled — fecha en la que se descargó el perfil de la base de datos\n",
    "- VehicleType — tipo de carrocería del vehículo\n",
    "- RegistrationYear — año de matriculación del vehículo\n",
    "- Gearbox — tipo de caja de cambios\n",
    "- Power — potencia (CV)\n",
    "- Model — modelo del vehículo\n",
    "- Mileage — kilometraje (medido en km de acuerdo con las especificidades regionales del conjunto de datos)\n",
    "- RegistrationMonth — mes de matriculación del vehículo\n",
    "- FuelType — tipo de combustible\n",
    "- Brand — marca del vehículo\n",
    "- NotRepaired — vehículo con o sin reparación\n",
    "- DateCreated — fecha de creación del perfil\n",
    "- NumberOfPictures — número de fotos del vehículo\n",
    "- PostalCode — código postal del propietario del perfil (usuario)\n",
    "- LastSeen — fecha de la última vez que el usuario estuvo activo\n",
    "\n",
    "Algunos de los datos como `DateCrawled`, `DateCreated`, `NumberOfPictures` , `LastSeen` y `PostalCode` parecen ser poco relevantes a la hora de fijar el precio de un vehiculo. Quizas sean importantes para saber la vigencia de la publicacion o la autenticidad de esta pero para este analisis podiran entorpecer los modelos y estorban visualmente, distraen de las columnas relevantes. \n",
    "\n",
    "Además el dataset tiene muchos errores, que podrian generar problemas durante el análisis o el entrenamiento de los modelos:\n",
    "- Las columnas estan nombradas con estilo CamelCase, por convension sera mejor cambiarlo a Snake_case.\n",
    "- Se identificaron varias columnas con valores ausentes, lo conveniente seria revisarlas individualmente.\n",
    "- La mayoria de las columnas tienen datos de tipo `object` por lo que seria conveniente codificarlas"
   ]
  },
  {
   "cell_type": "code",
   "execution_count": 5,
   "metadata": {},
   "outputs": [
    {
     "data": {
      "text/html": [
       "<div>\n",
       "<style scoped>\n",
       "    .dataframe tbody tr th:only-of-type {\n",
       "        vertical-align: middle;\n",
       "    }\n",
       "\n",
       "    .dataframe tbody tr th {\n",
       "        vertical-align: top;\n",
       "    }\n",
       "\n",
       "    .dataframe thead th {\n",
       "        text-align: right;\n",
       "    }\n",
       "</style>\n",
       "<table border=\"1\" class=\"dataframe\">\n",
       "  <thead>\n",
       "    <tr style=\"text-align: right;\">\n",
       "      <th></th>\n",
       "      <th>Price</th>\n",
       "      <th>RegistrationYear</th>\n",
       "      <th>Power</th>\n",
       "      <th>Mileage</th>\n",
       "      <th>RegistrationMonth</th>\n",
       "      <th>NumberOfPictures</th>\n",
       "      <th>PostalCode</th>\n",
       "    </tr>\n",
       "  </thead>\n",
       "  <tbody>\n",
       "    <tr>\n",
       "      <th>count</th>\n",
       "      <td>354369.000000</td>\n",
       "      <td>354369.000000</td>\n",
       "      <td>354369.000000</td>\n",
       "      <td>354369.000000</td>\n",
       "      <td>354369.000000</td>\n",
       "      <td>354369.0</td>\n",
       "      <td>354369.000000</td>\n",
       "    </tr>\n",
       "    <tr>\n",
       "      <th>mean</th>\n",
       "      <td>4416.656776</td>\n",
       "      <td>2004.234448</td>\n",
       "      <td>110.094337</td>\n",
       "      <td>128211.172535</td>\n",
       "      <td>5.714645</td>\n",
       "      <td>0.0</td>\n",
       "      <td>50508.689087</td>\n",
       "    </tr>\n",
       "    <tr>\n",
       "      <th>std</th>\n",
       "      <td>4514.158514</td>\n",
       "      <td>90.227958</td>\n",
       "      <td>189.850405</td>\n",
       "      <td>37905.341530</td>\n",
       "      <td>3.726421</td>\n",
       "      <td>0.0</td>\n",
       "      <td>25783.096248</td>\n",
       "    </tr>\n",
       "    <tr>\n",
       "      <th>min</th>\n",
       "      <td>0.000000</td>\n",
       "      <td>1000.000000</td>\n",
       "      <td>0.000000</td>\n",
       "      <td>5000.000000</td>\n",
       "      <td>0.000000</td>\n",
       "      <td>0.0</td>\n",
       "      <td>1067.000000</td>\n",
       "    </tr>\n",
       "    <tr>\n",
       "      <th>25%</th>\n",
       "      <td>1050.000000</td>\n",
       "      <td>1999.000000</td>\n",
       "      <td>69.000000</td>\n",
       "      <td>125000.000000</td>\n",
       "      <td>3.000000</td>\n",
       "      <td>0.0</td>\n",
       "      <td>30165.000000</td>\n",
       "    </tr>\n",
       "    <tr>\n",
       "      <th>50%</th>\n",
       "      <td>2700.000000</td>\n",
       "      <td>2003.000000</td>\n",
       "      <td>105.000000</td>\n",
       "      <td>150000.000000</td>\n",
       "      <td>6.000000</td>\n",
       "      <td>0.0</td>\n",
       "      <td>49413.000000</td>\n",
       "    </tr>\n",
       "    <tr>\n",
       "      <th>75%</th>\n",
       "      <td>6400.000000</td>\n",
       "      <td>2008.000000</td>\n",
       "      <td>143.000000</td>\n",
       "      <td>150000.000000</td>\n",
       "      <td>9.000000</td>\n",
       "      <td>0.0</td>\n",
       "      <td>71083.000000</td>\n",
       "    </tr>\n",
       "    <tr>\n",
       "      <th>max</th>\n",
       "      <td>20000.000000</td>\n",
       "      <td>9999.000000</td>\n",
       "      <td>20000.000000</td>\n",
       "      <td>150000.000000</td>\n",
       "      <td>12.000000</td>\n",
       "      <td>0.0</td>\n",
       "      <td>99998.000000</td>\n",
       "    </tr>\n",
       "  </tbody>\n",
       "</table>\n",
       "</div>"
      ],
      "text/plain": [
       "               Price  RegistrationYear          Power        Mileage  \\\n",
       "count  354369.000000     354369.000000  354369.000000  354369.000000   \n",
       "mean     4416.656776       2004.234448     110.094337  128211.172535   \n",
       "std      4514.158514         90.227958     189.850405   37905.341530   \n",
       "min         0.000000       1000.000000       0.000000    5000.000000   \n",
       "25%      1050.000000       1999.000000      69.000000  125000.000000   \n",
       "50%      2700.000000       2003.000000     105.000000  150000.000000   \n",
       "75%      6400.000000       2008.000000     143.000000  150000.000000   \n",
       "max     20000.000000       9999.000000   20000.000000  150000.000000   \n",
       "\n",
       "       RegistrationMonth  NumberOfPictures     PostalCode  \n",
       "count      354369.000000          354369.0  354369.000000  \n",
       "mean            5.714645               0.0   50508.689087  \n",
       "std             3.726421               0.0   25783.096248  \n",
       "min             0.000000               0.0    1067.000000  \n",
       "25%             3.000000               0.0   30165.000000  \n",
       "50%             6.000000               0.0   49413.000000  \n",
       "75%             9.000000               0.0   71083.000000  \n",
       "max            12.000000               0.0   99998.000000  "
      ]
     },
     "execution_count": 5,
     "metadata": {},
     "output_type": "execute_result"
    }
   ],
   "source": [
    "data.describe()"
   ]
  },
  {
   "cell_type": "markdown",
   "metadata": {},
   "source": [
    "En la tabla anterior se identifican varios problemas en los datos:\n",
    "\n",
    "- ***`Price`*** : No es lógico ni factible que el precio de un vehículo sea 0 euros. Además, precios inferiores a 500 euros son poco realistas, ya que es improbable que vehículos usados en condiciones aceptables estén en ese rango. Es probable que estos registros correspondan a anuncios donde el precio fue ingresado como un valor simbólico o temporal, debido a que el precio final sería negociable con el vendedor. Dado que esta columna es el objetivo de los modelos, lo más conveniente será eliminar los registros con valores dudosos para evitar que interfieran negativamente en las estadísticas o en el entrenamiento de los modelos.\n",
    "\n",
    "\n",
    "- ***`RegistrationYear`***: Los valores mínimo y máximo de esta columna carecen de sentido lógico. Los vehículos motorizados no existían antes de 1886, y un año como 9999 está demasiado lejos en el futuro. Para corregir esto, se investigará la antigüedad de los modelos presentes en el conjunto de datos, estableciendo como valor mínimo el año del vehículo más antiguo registrado y como valor máximo el año actual.\n",
    "\n",
    "\n",
    "- ***`Power`***: Tras analizar el rango lógico de potencia para vehículos convencionales, se determinó que oscila entre 30 y 650 CV. Valores de 0 o superiores a 1000 CV son poco realistas y probablemente resultan de errores de registro o entrada de datos incorrectos. Además, no representan una proporción significativa de los datos, ya que el 75% de los valores se encuentran por debajo de 143 CV, lo cual refuerza esta conclusión.\n",
    "\n",
    "\n",
    "- ***`RegistrationMonth:`*** El único valor fuera de rango en esta columna es 0. Es probable que estos registros representen valores ausentes, ya que no es posible que un mes de registro sea 0. Por lo tanto, se considerará este valor como nulo para su tratamiento en el análisis.\n",
    "\n",
    "La columna ***`Mileage`*** parece lógico y factible considerando que se trata de vehiculos de segunda mano.\n",
    "Las columnas ***`NumberOfPictures`*** y ***`PostalCode`*** no son relevantes."
   ]
  },
  {
   "cell_type": "code",
   "execution_count": 6,
   "metadata": {},
   "outputs": [],
   "source": [
    "# Renombrar columnas de CamelCase a snake_case\n",
    "new_columns = []\n",
    "for column in data.columns:\n",
    "    snake_name = re.sub(r'([a-z])([A-Z])', r'\\1_\\2', column).lower()\n",
    "    new_columns.append(snake_name)\n",
    "data.columns = new_columns"
   ]
  },
  {
   "cell_type": "code",
   "execution_count": 7,
   "metadata": {},
   "outputs": [
    {
     "name": "stdout",
     "output_type": "stream",
     "text": [
      "262\n"
     ]
    }
   ],
   "source": [
    "# Verificar y eliminar datos duplicados\n",
    "print(data.duplicated().sum())\n",
    "data.drop_duplicates(inplace=True)"
   ]
  },
  {
   "cell_type": "markdown",
   "metadata": {},
   "source": [
    "Se encontraron algunos datos duplicados, el conjunto de datos ya es grande con más de 350.000 datos, eliminar 262 duplicados no afecta negativamente la diversidad de los datos."
   ]
  },
  {
   "cell_type": "markdown",
   "metadata": {},
   "source": [
    "A contiacion se revisará los valores de las columnas importantes del dataset pera verificar que los valores se encuentren en rangos lógicos y que las columnas de caracteristicas categoricas no tengan duplicados implisitos u otros errores que puedan dificultar o entorpecer el entrenamiento de los modelos de Machine Learning (ML)\n",
    "###  Precio (price)"
   ]
  },
  {
   "cell_type": "code",
   "execution_count": 8,
   "metadata": {},
   "outputs": [],
   "source": [
    "# Funcion para verificar el porcentaje de datos nulos\n",
    "full_data = data.shape[0]\n",
    "def percent_null(data):\n",
    "    data_null= (data/full_data)*100\n",
    "    print('Porcentaje de datos nulos: {:.2f}%'.format(data_null))\n",
    "    return data_null"
   ]
  },
  {
   "cell_type": "code",
   "execution_count": 9,
   "metadata": {},
   "outputs": [
    {
     "name": "stdout",
     "output_type": "stream",
     "text": [
      "Filas con price = 0: 17458\n",
      "Porcentaje de datos nulos: 4.93%\n"
     ]
    }
   ],
   "source": [
    "# Definir el umbral mínimo de precio\n",
    "min_price = 200\n",
    "# Calcular el número y porcentaje de filas con price fuera de rango\n",
    "lowest_price = data[data['price'] < min_price].shape[0]\n",
    "print(f\"Filas con price = 0: {lowest_price}\")\n",
    "price_null= percent_null(lowest_price)"
   ]
  },
  {
   "cell_type": "markdown",
   "metadata": {},
   "source": [
    "En lugar de eliminar los datos ilogicos directamente, se reemplazaran con valores nulos, para verificar el total de datos que se eliminaran del dataset"
   ]
  },
  {
   "cell_type": "code",
   "execution_count": 10,
   "metadata": {},
   "outputs": [
    {
     "name": "stdout",
     "output_type": "stream",
     "text": [
      "count    336649.000000\n",
      "mean       4643.501947\n",
      "std        4515.536595\n",
      "min         200.000000\n",
      "25%        1250.000000\n",
      "50%        2950.000000\n",
      "75%        6650.000000\n",
      "max       20000.000000\n",
      "Name: price, dtype: float64\n"
     ]
    }
   ],
   "source": [
    "# Filtrar valores irreales\n",
    "data.loc[data['price'] < min_price, 'price']=np.nan\n",
    "# Verificar la distribución después del filtro\n",
    "print(data['price'].describe())"
   ]
  },
  {
   "cell_type": "markdown",
   "metadata": {},
   "source": [
    "### Año  de Registro (registration_year)"
   ]
  },
  {
   "cell_type": "code",
   "execution_count": 11,
   "metadata": {},
   "outputs": [
    {
     "name": "stdout",
     "output_type": "stream",
     "text": [
      "Total de valores fuera de rango: 859\n",
      "[1910 1111 1945 1925 1955 1961 1960 1963 5000 1954 1958 1959 9999 1956\n",
      " 3200 1000 1941 8888 1500 2200 4100 1962 1929 1957 1940 3000 2066 1949\n",
      " 1937 1951 1800 1953 1234 8000 5300 9000 2900 6000 5900 5911 1933 1400\n",
      " 1950 4000 1948 1952 1200 8500 1932 1255 3700 3800 4800 1942 7000 1935\n",
      " 1936 6500 1923 2290 2500 1930 1001 9450 1944 1943 1934 1938 1688 2800\n",
      " 1253 1928 1919 5555 5600 1600 2222 1039 9996 1300 8455 1931 1915 4500\n",
      " 1920 1602 7800 9229 1947 1927 7100 8200 1946 7500 3500]\n",
      "Porcentaje de datos nulos: 0.24%\n"
     ]
    }
   ],
   "source": [
    "# Verificar el rango lógico de los años\n",
    "min_year, max_year = 1964, 2024  # Ajustar el año máximo al actual\n",
    "invalid_years = data[(data['registration_year'] < min_year) | (data['registration_year'] > max_year)]\n",
    "print(f\"Total de valores fuera de rango: {invalid_years.shape[0]}\")\n",
    "print(invalid_years['registration_year'].unique())\n",
    "year_null= percent_null(invalid_years.shape[0])"
   ]
  },
  {
   "cell_type": "markdown",
   "metadata": {},
   "source": [
    "Algunos registros tienen valores fuera de rango lógico la columna `registration_year`, como el porcentaje que ocupan es pequeño lo más facíl es eliminarlos"
   ]
  },
  {
   "cell_type": "code",
   "execution_count": 12,
   "metadata": {},
   "outputs": [
    {
     "name": "stdout",
     "output_type": "stream",
     "text": [
      "[1993. 2011. 2004. 2001. 2008. 1995. 1980. 2014. 1998. 2005.   nan 2016.\n",
      " 2007. 2009. 2002. 2018. 1997. 1990. 2017. 1981. 2003. 1994. 1991. 1984.\n",
      " 2006. 1999. 2012. 2010. 2000. 1992. 2013. 1996. 1985. 1989. 2015. 1982.\n",
      " 1976. 1983. 1973. 1969. 1971. 1987. 1986. 1988. 1970. 1965. 1974. 1979.\n",
      " 1978. 1972. 1968. 1977. 1966. 1975. 1964. 1967. 2019.]\n"
     ]
    }
   ],
   "source": [
    "data.loc[(data['registration_year'] < min_year) | (data['registration_year'] > max_year),'registration_year']= np.nan\n",
    "print(data['registration_year'].unique())"
   ]
  },
  {
   "cell_type": "markdown",
   "metadata": {},
   "source": [
    "### Mes de Registro (registration_month)"
   ]
  },
  {
   "cell_type": "code",
   "execution_count": 13,
   "metadata": {},
   "outputs": [
    {
     "name": "stdout",
     "output_type": "stream",
     "text": [
      "registration_month\n",
      "0     37347\n",
      "3     34348\n",
      "6     31471\n",
      "4     29246\n",
      "5     29131\n",
      "7     27186\n",
      "10    26076\n",
      "12    24271\n",
      "11    24167\n",
      "9     23798\n",
      "1     23202\n",
      "8     22610\n",
      "2     21254\n",
      "Name: count, dtype: int64\n"
     ]
    }
   ],
   "source": [
    "print(data['registration_month'].value_counts())"
   ]
  },
  {
   "cell_type": "markdown",
   "metadata": {},
   "source": [
    "Se identificaron varias filas donde `registration_month` tiene un valor de 0. Dado que esta característica parece menos relevante a la hora de determinar el precio de un vehículo en comparación con `registration_year`, reemplazaremos estos valores con la moda correspondiente, permitiendo así conservar estos registros en el conjunto de datos."
   ]
  },
  {
   "cell_type": "code",
   "execution_count": 14,
   "metadata": {},
   "outputs": [
    {
     "name": "stdout",
     "output_type": "stream",
     "text": [
      "registration_month\n",
      "0     37347\n",
      "3     34348\n",
      "6     31471\n",
      "4     29246\n",
      "5     29131\n",
      "7     27186\n",
      "10    26076\n",
      "12    24271\n",
      "11    24167\n",
      "9     23798\n",
      "1     23202\n",
      "8     22610\n",
      "2     21254\n",
      "Name: count, dtype: int64\n"
     ]
    }
   ],
   "source": [
    "mode_month = data['registration_month'].mode().iloc[0]\n",
    "# Corregir valores fuera del rango asignándoles 1\n",
    "data.loc[data['registration_month'] < 1] = mode_month\n",
    "\n",
    "print(data['registration_month'].value_counts())"
   ]
  },
  {
   "cell_type": "markdown",
   "metadata": {},
   "source": [
    "### Marca (brand)"
   ]
  },
  {
   "cell_type": "code",
   "execution_count": 15,
   "metadata": {
    "scrolled": true
   },
   "outputs": [
    {
     "name": "stdout",
     "output_type": "stream",
     "text": [
      "Cantidad de Marcas: 41 \n",
      " [0 'audi' 'jeep' 'volkswagen' 'skoda' 'bmw' 'peugeot' 'ford' 'mazda'\n",
      " 'nissan' 'renault' 'mercedes_benz' 'opel' 'seat' 'citroen' 'honda' 'fiat'\n",
      " 'mini' 'smart' 'hyundai' 'sonstige_autos' 'subaru' 'volvo' 'mitsubishi'\n",
      " 'alfa_romeo' 'kia' 'suzuki' 'lancia' 'toyota' 'chevrolet' 'dacia'\n",
      " 'daihatsu' 'trabant' 'saab' 'chrysler' 'jaguar' 'rover' 'porsche'\n",
      " 'daewoo' 'land_rover' 'lada']\n"
     ]
    }
   ],
   "source": [
    "# verificar la cantidad de marcas \n",
    "brands = data['brand'].unique()\n",
    "n_brands = data['brand'].nunique()\n",
    "print('Cantidad de Marcas:',n_brands,'\\n', brands)"
   ]
  },
  {
   "cell_type": "markdown",
   "metadata": {},
   "source": [
    "El dataset tiene una gran variedad de marcas de auto, lo cual puede resultar un poco exesivo para los modelos a la hora de codificar esta columna con cualquier metodo ya sea OneHotEncoding o LabelEncoding. La mejor opción para reducir la cantidad de marcas sin perjudicar el entrenamiento de modelos es agruparlos."
   ]
  },
  {
   "cell_type": "code",
   "execution_count": 16,
   "metadata": {},
   "outputs": [],
   "source": [
    "# Diccionario de marcas agrupadas\n",
    "brand_map = {\n",
    "    'volkswagen': 'Volkswagen Group',\n",
    "    'audi': 'Volkswagen Group',\n",
    "    'jeep': 'Jeep',\n",
    "    'skoda': 'Volkswagen Group',\n",
    "    'bmw': 'BMW Group',\n",
    "    'peugeot': 'Stellantis',\n",
    "    'ford': 'Ford',\n",
    "    'mazda': 'Marcas japonesas',\n",
    "    'nissan': 'Renault Group',\n",
    "    'renault': 'Renault Group',\n",
    "    'mercedes_benz': 'Mercedes-Benz Group',\n",
    "    'opel': 'Stellantis',\n",
    "    'seat': 'Volkswagen Group',\n",
    "    'citroen': 'Stellantis',\n",
    "    'honda': 'Honda',\n",
    "    'fiat': 'Stellantis',\n",
    "    'mini': 'BMW Group',\n",
    "    'smart': 'Mercedes-Benz Group',\n",
    "    'hyundai': 'Hyundai',\n",
    "    'sonstige_autos': 'Otros',\n",
    "    'alfa_romeo': 'Stellantis',\n",
    "    'subaru': 'Marcas japonesas',\n",
    "    'volvo': 'Volvo',\n",
    "    'mitsubishi': 'Marcas japonesas',\n",
    "    'kia': 'Kia',\n",
    "    'suzuki': 'Marcas japonesas',\n",
    "    'lancia': 'Stellantis',\n",
    "    'toyota': 'Toyota',\n",
    "    'chevrolet': 'General Motors',\n",
    "    'dacia': 'Renault Group',\n",
    "    'daihatsu': 'Marcas japonesas',\n",
    "    'trabant': 'Trabant',\n",
    "    'chrysler': 'Chrysler',\n",
    "    'jaguar': 'Tata Motors',\n",
    "    'daewoo': 'General Motors',\n",
    "    'porsche': 'Volkswagen Group',\n",
    "    'rover': 'Tata Motors',\n",
    "    'saab': 'Saab',\n",
    "    'land_rover': 'Tata Motors',\n",
    "    'lada': 'Lada'\n",
    "}\n",
    "\n",
    "# Aplicar mapeo de marcas\n",
    "data['brand'] = data['brand'].map(brand_map)"
   ]
  },
  {
   "cell_type": "markdown",
   "metadata": {},
   "source": [
    "### Columna Modelo (model)"
   ]
  },
  {
   "cell_type": "code",
   "execution_count": 17,
   "metadata": {},
   "outputs": [
    {
     "name": "stdout",
     "output_type": "stream",
     "text": [
      "250 \n",
      " ['0' '100' '145' '147' '156' '159' '1_reihe' '1er' '200' '2_reihe' '300c'\n",
      " '3_reihe' '3er' '4_reihe' '500' '5_reihe' '5er' '601' '6_reihe' '6er'\n",
      " '7er' '80' '850' '90' '900' '9000' '911' 'a1' 'a2' 'a3' 'a4' 'a5' 'a6'\n",
      " 'a8' 'a_klasse' 'accord' 'agila' 'alhambra' 'almera' 'altea' 'amarok'\n",
      " 'antara' 'arosa' 'astra' 'auris' 'avensis' 'aveo' 'aygo' 'b_klasse'\n",
      " 'b_max' 'beetle' 'berlingo' 'bora' 'boxster' 'bravo' 'c1' 'c2' 'c3' 'c4'\n",
      " 'c5' 'c_klasse' 'c_max' 'c_reihe' 'caddy' 'calibra' 'captiva' 'carisma'\n",
      " 'carnival' 'cayenne' 'cc' 'ceed' 'charade' 'cherokee' 'citigo' 'civic'\n",
      " 'cl' 'clio' 'clk' 'clubman' 'colt' 'combo' 'cooper' 'cordoba' 'corolla'\n",
      " 'corsa' 'cr_reihe' 'croma' 'crossfire' 'cuore' 'cx_reihe' 'defender'\n",
      " 'delta' 'discovery' 'doblo' 'ducato' 'duster' 'e_klasse' 'elefantino'\n",
      " 'eos' 'escort' 'espace' 'exeo' 'fabia' 'fiesta' 'focus' 'forester'\n",
      " 'forfour' 'fortwo' 'fox' 'freelander' 'fusion' 'g_klasse' 'galant'\n",
      " 'galaxy' 'getz' 'gl' 'glk' 'golf' 'grand' 'i3' 'i_reihe' 'ibiza'\n",
      " 'impreza' 'insignia' 'jazz' 'jetta' 'jimny' 'juke' 'justy' 'ka' 'kadett'\n",
      " 'kaefer' 'kalina' 'kalos' 'kangoo' 'kappa' 'kuga' 'laguna' 'lancer'\n",
      " 'lanos' 'legacy' 'leon' 'lodgy' 'logan' 'lupo' 'lybra' 'm_klasse'\n",
      " 'm_reihe' 'materia' 'matiz' 'megane' 'meriva' 'micra' 'mii' 'modus'\n",
      " 'mondeo' 'move' 'musa' 'mustang' 'mx_reihe' 'nan' 'navara' 'niva' 'note'\n",
      " 'nubira' 'octavia' 'omega' 'one' 'other' 'outlander' 'pajero' 'panda'\n",
      " 'passat' 'phaeton' 'picanto' 'polo' 'primera' 'ptcruiser' 'punto' 'q3'\n",
      " 'q5' 'q7' 'qashqai' 'r19' 'range_rover' 'range_rover_evoque'\n",
      " 'range_rover_sport' 'rangerover' 'rav' 'rio' 'roadster' 'roomster'\n",
      " 'rx_reihe' 's60' 's_klasse' 's_max' 's_type' 'samara' 'sandero' 'santa'\n",
      " 'scenic' 'scirocco' 'seicento' 'serie_2' 'serie_3' 'sharan' 'signum'\n",
      " 'sirion' 'sl' 'slk' 'sorento' 'spark' 'spider' 'sportage' 'sprinter'\n",
      " 'stilo' 'superb' 'swift' 'terios' 'tigra' 'tiguan' 'toledo' 'touareg'\n",
      " 'touran' 'transit' 'transporter' 'tt' 'tucson' 'twingo' 'up' 'v40' 'v50'\n",
      " 'v60' 'v70' 'v_klasse' 'vectra' 'verso' 'viano' 'vito' 'vivaro' 'voyager'\n",
      " 'wrangler' 'x_reihe' 'x_trail' 'x_type' 'xc_reihe' 'yaris' 'yeti'\n",
      " 'ypsilon' 'z_reihe' 'zafira']\n"
     ]
    }
   ],
   "source": [
    "car_models= data['model'].unique().astype('str')\n",
    "car_models.sort()\n",
    "n_car_models = data['model'].nunique()\n",
    "print(n_car_models,'\\n', car_models)"
   ]
  },
  {
   "cell_type": "markdown",
   "metadata": {},
   "source": [
    "Algunos modelos están registrados más de una vez bajo diferentes nombres y la cantidad de modelos existentes en el dataset poría dificultar el entrenamiento de los modelos de ML o producir errores en sus calculos."
   ]
  },
  {
   "cell_type": "code",
   "execution_count": 18,
   "metadata": {},
   "outputs": [],
   "source": [
    "def replace_values(data, column, wrong_values_map):\n",
    "    # wrong_values_map debe ser un diccionario donde las claves son las variantes incorrectas\n",
    "    # y los valores son las versiones correctas a usar.\n",
    "    for wrong_value, correct_value in wrong_values_map.items(): \n",
    "        data[column].replace(wrong_value, correct_value, inplace=True)\n",
    "    return data\n",
    "\n",
    "# Crear un diccionario con las variantes incorrectas y sus nombres correctos\n",
    "wrong_models_map = {\n",
    "    '1_reihe': 'serie_1', '1er': 'serie_1',\n",
    "    '2_reihe': 'serie_2', '2er': 'serie_2',\n",
    "    '3_reihe': 'serie_3', '3er': 'serie_3',\n",
    "    '4_reihe': 'serie_4', '4er': 'serie_4',\n",
    "    '5_reihe': 'serie_5', '5er': 'serie_5',\n",
    "    '6_reihe': 'serie_6', '6er': 'serie_6',\n",
    "    '7er': 'serie_7',\n",
    "    'range_rover': 'range_rover', \n",
    "    'range_rover_evoque': 'range_rover', \n",
    "    'range_rover_sport': 'range_rover',\n",
    "    'rangerover': 'range_rover'\n",
    "}\n",
    "\n",
    "# Llamar a la función para agrupar los modelos en la columna 'model'\n",
    "data = replace_values(data, 'model', wrong_models_map)"
   ]
  },
  {
   "cell_type": "code",
   "execution_count": 19,
   "metadata": {},
   "outputs": [
    {
     "name": "stdout",
     "output_type": "stream",
     "text": [
      "Porcentaje de datos nulos: 3.72%\n"
     ]
    },
    {
     "data": {
      "text/plain": [
       "3.7169556094626763"
      ]
     },
     "execution_count": 19,
     "metadata": {},
     "output_type": "execute_result"
    }
   ],
   "source": [
    "# Verificar porcentaje de model nulos\n",
    "percent_null(data['model'].isna().sum())"
   ]
  },
  {
   "cell_type": "markdown",
   "metadata": {},
   "source": [
    "Los registros sin datos en la columna `model` serán eliminados ya que no hay un metodo fiable para imputar valores sin el riesgo de que implique errores considerables en los modelos de ML.\n",
    "Además se identificó una gran cantidad de modelos de vehículos diferentes, lo que podría dificultar el manejo por parte de los modelos de Machine Learning. Para simplificar el análisis, se agruparán los modelos que representen menos del 3% de los datos en la categoría 'otros' (others). Este paso se realizara al concluir la imputacion de valores para los datos nulos, ya que el modelo es un atributo de gran relevancia para determinar datos como el tipo de vehiculo, el tipo de combustible o la potencia"
   ]
  },
  {
   "cell_type": "markdown",
   "metadata": {},
   "source": [
    "### Tipo de Vehiculo (vehicle_type)"
   ]
  },
  {
   "cell_type": "code",
   "execution_count": 20,
   "metadata": {},
   "outputs": [
    {
     "data": {
      "text/plain": [
       "array([0, 'coupe', 'suv', 'small', 'sedan', 'convertible', 'bus', 'wagon',\n",
       "       nan, 'other'], dtype=object)"
      ]
     },
     "execution_count": 20,
     "metadata": {},
     "output_type": "execute_result"
    }
   ],
   "source": [
    "data['vehicle_type'].unique()"
   ]
  },
  {
   "cell_type": "code",
   "execution_count": 21,
   "metadata": {},
   "outputs": [],
   "source": [
    "data['vehicle_type'] = data['vehicle_type'].replace(0, np.nan)"
   ]
  },
  {
   "cell_type": "code",
   "execution_count": 22,
   "metadata": {},
   "outputs": [
    {
     "name": "stdout",
     "output_type": "stream",
     "text": [
      "Porcentaje de datos nulos: 16.92%\n"
     ]
    },
    {
     "data": {
      "text/plain": [
       "16.920591798524175"
      ]
     },
     "execution_count": 22,
     "metadata": {},
     "output_type": "execute_result"
    }
   ],
   "source": [
    "# Verificar porcentaje de datos con vehicle_type nulos\n",
    "percent_null(data['vehicle_type'].isna().sum())"
   ]
  },
  {
   "cell_type": "markdown",
   "metadata": {},
   "source": [
    "La proporcion de datos con `vehicle_type` nulos es superior al 10%, pero este dato se puede inferir con respecto a la información de la  marca y el modelo si lo comparamos con otros registros de similares caracteristicas."
   ]
  },
  {
   "cell_type": "code",
   "execution_count": 23,
   "metadata": {},
   "outputs": [
    {
     "name": "stdout",
     "output_type": "stream",
     "text": [
      "Porcentaje de datos nulos: 11.45%\n"
     ]
    },
    {
     "data": {
      "text/plain": [
       "11.447104971096307"
      ]
     },
     "execution_count": 23,
     "metadata": {},
     "output_type": "execute_result"
    }
   ],
   "source": [
    "vehicle_type_map = data.groupby(['brand', 'model'])['vehicle_type'].agg(lambda x: x.mode()[0]\n",
    "                                                                      if not x.mode().empty else None).to_dict()\n",
    "\n",
    "def infer_vehicle_type(row):\n",
    "    return vehicle_type_map.get((row['brand'], row['model']), None)\n",
    "\n",
    "data['vehicle_type'] = data.apply(\n",
    "    lambda row: infer_vehicle_type(row) if pd.isnull(row['vehicle_type']) else row['vehicle_type'], axis=1\n",
    ")\n",
    "percent_null(data['vehicle_type'].isna().sum())"
   ]
  },
  {
   "cell_type": "markdown",
   "metadata": {},
   "source": [
    "Se redujo el porcentaje de datos nulos en `vehicle_type`. Es recomendable eliminar los datos restantes"
   ]
  },
  {
   "cell_type": "markdown",
   "metadata": {},
   "source": [
    "### Potencia (power)"
   ]
  },
  {
   "cell_type": "code",
   "execution_count": 24,
   "metadata": {},
   "outputs": [
    {
     "data": {
      "image/png": "[encoded data removed]",
      "text/plain": [
       "<Figure size 1000x400 with 1 Axes>"
      ]
     },
     "metadata": {},
     "output_type": "display_data"
    }
   ],
   "source": [
    "# Crear el boxplot para la columna 'power'\n",
    "plt.figure(figsize=(10, 4))\n",
    "sns.boxplot(x=data['power'])\n",
    "\n",
    "# Añadir título y etiquetas\n",
    "plt.title('Distribución de la potencia (caballos de fuerza)')\n",
    "plt.xlabel('Potencia (CV)')\n",
    "\n",
    "# Mostrar el gráfico\n",
    "plt.tight_layout()\n",
    "plt.show()"
   ]
  },
  {
   "cell_type": "markdown",
   "metadata": {},
   "source": [
    "Tras investigar el rango factible o lógico de potencia para vehículos convencionales, como los representados en este dataset (excluyendo autos de carrera o de colección antiguos), se concluyó que varía entre 30 y 650 CV. Por lo tanto, se decidió descartar los valores que exceden este rango que además segun el gráfico son valores atípicos (no representan gran proporcion de los datos).\n",
    "\n",
    "A continuación, se verificará la media de los grupos que se utilizarán para reemplazar los valores fuera de rango, con el objetivo de controlar si esta varía después de la imputación de los valores."
   ]
  },
  {
   "cell_type": "code",
   "execution_count": 25,
   "metadata": {},
   "outputs": [
    {
     "data": {
      "text/plain": [
       "vehicle_type  model   registration_year  brand     \n",
       "wagon         zafira  2003.0             Stellantis     90.888889\n",
       "                      2004.0             Stellantis    108.222222\n",
       "                      2005.0             Stellantis     72.594595\n",
       "                      2006.0             Stellantis    135.850000\n",
       "                      2007.0             Stellantis     86.562500\n",
       "                      2008.0             Stellantis    137.142857\n",
       "                      2009.0             Stellantis    140.000000\n",
       "                      2010.0             Stellantis    141.666667\n",
       "                      2011.0             Stellantis    158.888889\n",
       "                      2012.0             Stellantis    165.000000\n",
       "Name: power, dtype: float64"
      ]
     },
     "execution_count": 25,
     "metadata": {},
     "output_type": "execute_result"
    }
   ],
   "source": [
    "mean_power = data.groupby(['vehicle_type', 'model', 'registration_year', 'brand'])['power'].mean()\n",
    "mean_power.tail(10)"
   ]
  },
  {
   "cell_type": "code",
   "execution_count": 26,
   "metadata": {},
   "outputs": [
    {
     "name": "stdout",
     "output_type": "stream",
     "text": [
      "Porcentaje de datos nulos: 17.88%\n"
     ]
    },
    {
     "data": {
      "text/plain": [
       "17.883295162196738"
      ]
     },
     "execution_count": 26,
     "metadata": {},
     "output_type": "execute_result"
    }
   ],
   "source": [
    "# Filtrando valores fuera del rango de potencia\n",
    "min_power, max_power = 30, 600\n",
    "data.loc[(data['power'] < min_power)|(data['power']>max_power), 'power']= np.nan\n",
    "percent_null(data['power'].isna().sum())"
   ]
  },
  {
   "cell_type": "markdown",
   "metadata": {},
   "source": [
    "Dada la distribución de los datos y la gran cantidad de valores atípicos, se optará por utilizar la moda de grupos de vehículos con características similares para reemplazar algunos valores fuera de rango en la columna `power`. Si no se encuentran vehículos con características similares, se asignará un valor nulo."
   ]
  },
  {
   "cell_type": "code",
   "execution_count": 27,
   "metadata": {},
   "outputs": [
    {
     "name": "stdout",
     "output_type": "stream",
     "text": [
      "Porcentaje de datos nulos: 11.67%\n",
      "11.672178183430432\n"
     ]
    }
   ],
   "source": [
    "# Crear un DataFrame auxiliar con la moda para cada grupo\n",
    "grouped_modes = (\n",
    "    data.groupby(['vehicle_type', 'model', 'registration_year', 'brand'])['power']\n",
    "    .agg(lambda x: x.mode().iloc[0] if not x.mode().empty else np.nan)\n",
    "    .reset_index()\n",
    "    .rename(columns={'power': 'power_mode'})\n",
    ")\n",
    "\n",
    "# Unir las modas al DataFrame original\n",
    "data = data.merge(grouped_modes, on=['vehicle_type', 'model', 'registration_year', 'brand'], how='left')\n",
    "\n",
    "# Reemplazar valores fuera de rango con la moda del grupo\n",
    "data.loc[data['power'].isna(), 'power'] = data['power_mode']\n",
    "\n",
    "# Eliminar la columna auxiliar 'power_mode'\n",
    "data.drop(columns=['power_mode'], inplace=True)\n",
    "\n",
    "# Verificar si quedan valores nulos\n",
    "print(percent_null(data['power'].isnull().sum()))"
   ]
  },
  {
   "cell_type": "code",
   "execution_count": 28,
   "metadata": {},
   "outputs": [
    {
     "data": {
      "text/plain": [
       "vehicle_type  model   registration_year  brand     \n",
       "wagon         zafira  2003.0             Stellantis    118.666667\n",
       "                      2004.0             Stellantis    122.111111\n",
       "                      2005.0             Stellantis    116.270270\n",
       "                      2006.0             Stellantis    143.350000\n",
       "                      2007.0             Stellantis    124.062500\n",
       "                      2008.0             Stellantis    137.142857\n",
       "                      2009.0             Stellantis    140.000000\n",
       "                      2010.0             Stellantis    141.666667\n",
       "                      2011.0             Stellantis    165.000000\n",
       "                      2012.0             Stellantis    165.000000\n",
       "Name: power, dtype: float64"
      ]
     },
     "execution_count": 28,
     "metadata": {},
     "output_type": "execute_result"
    }
   ],
   "source": [
    "mean_power = data.groupby(['vehicle_type', 'model', 'registration_year', 'brand'])['power'].mean()\n",
    "mean_power.tail(10)"
   ]
  },
  {
   "cell_type": "markdown",
   "metadata": {},
   "source": [
    "Se observa una variación en la media de algunos grupos, mientras que otros permanecen sin cambios. Este comportamiento se explica porque únicamente los grupos con valores de potencia fuera del rango establecido se vieron afectados por el tratamiento aplicado. Las variaciones en la media son coherentes y esperables, ya que al reemplazar los valores atípicos o nulos con la moda grupal, los datos tienden a centrarse alrededor de valores representativos de cada grupo."
   ]
  },
  {
   "cell_type": "code",
   "execution_count": 29,
   "metadata": {},
   "outputs": [
    {
     "data": {
      "image/png": "[encoded data removed]",
      "text/plain": [
       "<Figure size 1000x400 with 1 Axes>"
      ]
     },
     "metadata": {},
     "output_type": "display_data"
    }
   ],
   "source": [
    "# Crear el boxplot para la columna 'power'\n",
    "plt.figure(figsize=(10, 4))\n",
    "sns.boxplot(x=data['power'])\n",
    "\n",
    "# Añadir título y etiquetas\n",
    "plt.title('Distribución de la potencia (caballos de fuerza)')\n",
    "plt.xlabel('Potencia (CV)')\n",
    "\n",
    "# Mostrar el gráfico\n",
    "plt.tight_layout()\n",
    "plt.show()"
   ]
  },
  {
   "cell_type": "markdown",
   "metadata": {},
   "source": [
    "La distribución de los datos de potencia se muestra más clara y consistente tras el tratamiento aplicado. Aunque persisten numerosos valores atípicos, es probable que estos representen datos reales, ya que los vehículos con potencias más altas suelen ser menos comunes debido a su costo elevado. Además, considerando que la empresa se dedica a la venta de autos usados, es posible que su público objetivo esté compuesto mayoritariamente por consumidores de clase media o media baja, lo que explicaría la predominancia de vehículos con potencias más moderadas."
   ]
  },
  {
   "cell_type": "markdown",
   "metadata": {},
   "source": [
    "### Tipo de Combustible (fuel_type)"
   ]
  },
  {
   "cell_type": "code",
   "execution_count": 30,
   "metadata": {},
   "outputs": [
    {
     "data": {
      "text/plain": [
       "array([0, 'gasoline', 'petrol', nan, 'lpg', 'other', 'hybrid', 'cng',\n",
       "       'electric'], dtype=object)"
      ]
     },
     "execution_count": 30,
     "metadata": {},
     "output_type": "execute_result"
    }
   ],
   "source": [
    "data['fuel_type'].unique()"
   ]
  },
  {
   "cell_type": "code",
   "execution_count": 31,
   "metadata": {},
   "outputs": [],
   "source": [
    "data['fuel_type'] = data['fuel_type'].replace({'gasoline': 'petrol', 0 : np.nan})"
   ]
  },
  {
   "cell_type": "code",
   "execution_count": 32,
   "metadata": {},
   "outputs": [
    {
     "name": "stdout",
     "output_type": "stream",
     "text": [
      "Porcentaje de datos nulos: 15.98%\n"
     ]
    },
    {
     "data": {
      "text/plain": [
       "15.98443408348324"
      ]
     },
     "execution_count": 32,
     "metadata": {},
     "output_type": "execute_result"
    }
   ],
   "source": [
    "# Verificar porcentaje de valores ausentes\n",
    "percent_null(data['fuel_type'].isna().sum())"
   ]
  },
  {
   "cell_type": "markdown",
   "metadata": {},
   "source": [
    "Considerando el porcentaje de valores ausentes en la columna `fuel_type` parece razonable imputarles el valor de datos con caracteristicas similares de `vehicle_type`, `model` y `brand`, "
   ]
  },
  {
   "cell_type": "code",
   "execution_count": 33,
   "metadata": {},
   "outputs": [
    {
     "name": "stdout",
     "output_type": "stream",
     "text": [
      "Porcentaje de datos nulos: 11.51%\n"
     ]
    },
    {
     "data": {
      "text/plain": [
       "11.506973880776151"
      ]
     },
     "execution_count": 33,
     "metadata": {},
     "output_type": "execute_result"
    }
   ],
   "source": [
    "# Crear el diccionario para inferir fuel_type\n",
    "fuel_type_map = data.groupby(['vehicle_type', 'brand', 'model'])['fuel_type'].agg(\n",
    "    lambda x: x.mode()[0] if not x.mode().empty else np.nan\n",
    ").to_dict()\n",
    "\n",
    "# Definir la función para inferir fuel_type\n",
    "def infer_fuel_type(row):\n",
    "    return fuel_type_map.get((row['vehicle_type'], row['brand'], row['model']), np.nan)\n",
    "\n",
    "# Aplicar la función a la columna fuel_type\n",
    "data['fuel_type'] = data.apply(\n",
    "    lambda row: infer_fuel_type(row) if pd.isnull(row['fuel_type']) else row['fuel_type'], axis=1\n",
    ")\n",
    "\n",
    "percent_null(data['fuel_type'].isna().sum())"
   ]
  },
  {
   "cell_type": "markdown",
   "metadata": {},
   "source": [
    "### Sin Reparacion (not_repaired)"
   ]
  },
  {
   "cell_type": "code",
   "execution_count": 34,
   "metadata": {},
   "outputs": [
    {
     "name": "stdout",
     "output_type": "stream",
     "text": [
      "Porcentaje de datos nulos: 13.85%\n"
     ]
    },
    {
     "data": {
      "text/plain": [
       "13.852592577949602"
      ]
     },
     "execution_count": 34,
     "metadata": {},
     "output_type": "execute_result"
    }
   ],
   "source": [
    "percent_null(data['not_repaired'].isna().sum())"
   ]
  },
  {
   "cell_type": "markdown",
   "metadata": {},
   "source": [
    "Los valores nulos en la columna not_repaired tienen una connotación diferente a las otras columnas, ya que pueden indicar que no se dispone de información sobre si el vehículo requiere reparación. Dado que esta característica no puede inferirse de otras columnas, una solución adecuada sería tratarlos como una tercera categoría denominada 'unknown', diferenciándolos de las opciones 'yes' y 'no'."
   ]
  },
  {
   "cell_type": "code",
   "execution_count": 35,
   "metadata": {},
   "outputs": [
    {
     "name": "stdout",
     "output_type": "stream",
     "text": [
      "Porcentaje de datos nulos: 0.00%\n"
     ]
    },
    {
     "data": {
      "text/plain": [
       "0.0"
      ]
     },
     "execution_count": 35,
     "metadata": {},
     "output_type": "execute_result"
    }
   ],
   "source": [
    "# Reemplazar valores NaN en la columna not_repaired\n",
    "data['not_repaired'] = data['not_repaired'].fillna('unknown')\n",
    "# Reemplazar valores NaN en la columna not_repaired\n",
    "percent_null(data['not_repaired'].isna().sum())"
   ]
  },
  {
   "cell_type": "markdown",
   "metadata": {},
   "source": [
    "### Caja de Cambios (gearbox)"
   ]
  },
  {
   "cell_type": "code",
   "execution_count": 36,
   "metadata": {},
   "outputs": [
    {
     "name": "stdout",
     "output_type": "stream",
     "text": [
      "Porcentaje de datos nulos: 2.84%\n"
     ]
    },
    {
     "data": {
      "text/plain": [
       "2.8417964061710164"
      ]
     },
     "execution_count": 36,
     "metadata": {},
     "output_type": "execute_result"
    }
   ],
   "source": [
    "percent_null(data['gearbox'].isna().sum())"
   ]
  },
  {
   "cell_type": "markdown",
   "metadata": {},
   "source": [
    "La informacion de la **Caja de Cambio (gearbox)** se puede inferir según las caracteristicas de vehiculos similares, considerando que solo existen 2 posibles valores esta imputacion podria ser más certera con un modelo KNN o un Arbol de Decisión para cualquiera de las dos opciones primero se debe codificar las columnas categoricas, ya que hay que hacerlo de todas maneras para entrenar a los modelos para predecir los precios de los vehiculos lo mejor será codificar todas las columnas categoricas, dejando fuera solo `gearbox` para afectar los resultados, esta columna se codificará posteriormente de la imputacion de valores."
   ]
  },
  {
   "cell_type": "code",
   "execution_count": 37,
   "metadata": {},
   "outputs": [],
   "source": [
    "data = data.dropna(subset=['model', 'fuel_type', 'vehicle_type','power', 'price','registration_year'])"
   ]
  },
  {
   "cell_type": "code",
   "execution_count": 38,
   "metadata": {},
   "outputs": [
    {
     "name": "stdout",
     "output_type": "stream",
     "text": [
      "model\n",
      "other       178351\n",
      "golf         24986\n",
      "serie_3      20579\n",
      "polo         10874\n",
      "corsa        10335\n",
      "astra         9227\n",
      "passat        8890\n",
      "a4            8845\n",
      "c_klasse      7675\n",
      "serie_5       7584\n",
      "e_klasse      6154\n",
      "Name: count, dtype: int64\n"
     ]
    }
   ],
   "source": [
    "# Calcular el porcentaje de registros por modelo\n",
    "model_percent=(data['model'].value_counts()/data.shape[0])*100\n",
    "\n",
    "# Obtener los modelos con menos del 2% de registros\n",
    "other = model_percent[model_percent < 2].index.tolist()\n",
    "\n",
    "# Asignar 'other' a esos modelos\n",
    "data['model'] = data['model'].replace(other, 'other')\n",
    "\n",
    "# Verificar el resultado\n",
    "print(data['model'].value_counts())"
   ]
  },
  {
   "cell_type": "markdown",
   "metadata": {},
   "source": [
    "**Codificacion de columnas categóricas**"
   ]
  },
  {
   "cell_type": "code",
   "execution_count": 39,
   "metadata": {},
   "outputs": [
    {
     "name": "stdout",
     "output_type": "stream",
     "text": [
      "    price  vehicle_type  registration_year gearbox  power  model  mileage  \\\n",
      "2  9800.0             6             2004.0    auto  163.0      6   125000   \n",
      "3  1500.0             5             2001.0  manual   75.0      5   150000   \n",
      "4  3600.0             5             2008.0  manual   69.0      6    90000   \n",
      "5   650.0             4             1995.0  manual  102.0      9   150000   \n",
      "6  2200.0             1             2004.0  manual  109.0      6   150000   \n",
      "\n",
      "   registration_month  fuel_type  brand  not_repaired  \n",
      "2                   8          5      6             1  \n",
      "3                   6          5     17             0  \n",
      "4                   7          5     17             0  \n",
      "5                  10          5      0             2  \n",
      "6                   8          5     13             0  \n"
     ]
    }
   ],
   "source": [
    "from sklearn.preprocessing import LabelEncoder\n",
    "\n",
    "data = data.drop(['date_crawled', 'date_created', 'number_of_pictures', 'postal_code', 'last_seen'], axis=1)\n",
    "\n",
    "# Crear una copia del dataset original para no modificarlo directamente\n",
    "encoded_data = data.copy()\n",
    "\n",
    "# Listado de columnas categóricas a codificar\n",
    "columns_to_encode = ['brand', 'model', 'fuel_type', 'vehicle_type', 'not_repaired']\n",
    "\n",
    "# Crear una instancia de LabelEncoder\n",
    "label_encoder = LabelEncoder()\n",
    "\n",
    "# Codificar las columnas categóricas\n",
    "for col in columns_to_encode:\n",
    "    encoded_data[col] = label_encoder.fit_transform(encoded_data[col].astype(str))\n",
    "\n",
    "# Mostrar las primeras filas del dataset codificado\n",
    "print(encoded_data.head())"
   ]
  },
  {
   "cell_type": "code",
   "execution_count": 40,
   "metadata": {},
   "outputs": [
    {
     "name": "stdout",
     "output_type": "stream",
     "text": [
      "Porcentaje de datos nulos: 0.00%\n"
     ]
    },
    {
     "data": {
      "text/plain": [
       "0.0"
      ]
     },
     "execution_count": 40,
     "metadata": {},
     "output_type": "execute_result"
    }
   ],
   "source": [
    "# Filtrar datos completos para entrenar el modelo\n",
    "train_data = encoded_data[encoded_data['gearbox'].notna()]\n",
    "test_data = encoded_data[encoded_data['gearbox'].isna()]\n",
    "\n",
    "# Usar características relevantes para imputar\n",
    "features = ['registration_year', 'model', 'brand', 'vehicle_type']\n",
    "X_train = train_data[features]\n",
    "y_train = train_data['gearbox']\n",
    "\n",
    "# Entrenar el modelo\n",
    "model = DecisionTreeClassifier()\n",
    "model.fit(X_train, y_train)\n",
    "\n",
    "# Predecir los valores faltantes\n",
    "X_test = test_data[features]\n",
    "encoded_data.loc[encoded_data['gearbox'].isna(), 'gearbox'] = model.predict(X_test)\n",
    "percent_null(encoded_data['gearbox'].isna().sum())"
   ]
  },
  {
   "cell_type": "markdown",
   "metadata": {},
   "source": [
    "Finalmente se codifica la columna `gearbox` para entrenar los modelos de ML"
   ]
  },
  {
   "cell_type": "code",
   "execution_count": 41,
   "metadata": {},
   "outputs": [
    {
     "data": {
      "text/html": [
       "<div>\n",
       "<style scoped>\n",
       "    .dataframe tbody tr th:only-of-type {\n",
       "        vertical-align: middle;\n",
       "    }\n",
       "\n",
       "    .dataframe tbody tr th {\n",
       "        vertical-align: top;\n",
       "    }\n",
       "\n",
       "    .dataframe thead th {\n",
       "        text-align: right;\n",
       "    }\n",
       "</style>\n",
       "<table border=\"1\" class=\"dataframe\">\n",
       "  <thead>\n",
       "    <tr style=\"text-align: right;\">\n",
       "      <th></th>\n",
       "      <th>price</th>\n",
       "      <th>vehicle_type</th>\n",
       "      <th>registration_year</th>\n",
       "      <th>gearbox</th>\n",
       "      <th>power</th>\n",
       "      <th>model</th>\n",
       "      <th>mileage</th>\n",
       "      <th>registration_month</th>\n",
       "      <th>fuel_type</th>\n",
       "      <th>brand</th>\n",
       "      <th>not_repaired</th>\n",
       "    </tr>\n",
       "  </thead>\n",
       "  <tbody>\n",
       "    <tr>\n",
       "      <th>2</th>\n",
       "      <td>9800.0</td>\n",
       "      <td>6</td>\n",
       "      <td>2004.0</td>\n",
       "      <td>0</td>\n",
       "      <td>163.0</td>\n",
       "      <td>6</td>\n",
       "      <td>125000</td>\n",
       "      <td>8</td>\n",
       "      <td>5</td>\n",
       "      <td>6</td>\n",
       "      <td>1</td>\n",
       "    </tr>\n",
       "    <tr>\n",
       "      <th>3</th>\n",
       "      <td>1500.0</td>\n",
       "      <td>5</td>\n",
       "      <td>2001.0</td>\n",
       "      <td>1</td>\n",
       "      <td>75.0</td>\n",
       "      <td>5</td>\n",
       "      <td>150000</td>\n",
       "      <td>6</td>\n",
       "      <td>5</td>\n",
       "      <td>17</td>\n",
       "      <td>0</td>\n",
       "    </tr>\n",
       "    <tr>\n",
       "      <th>4</th>\n",
       "      <td>3600.0</td>\n",
       "      <td>5</td>\n",
       "      <td>2008.0</td>\n",
       "      <td>1</td>\n",
       "      <td>69.0</td>\n",
       "      <td>6</td>\n",
       "      <td>90000</td>\n",
       "      <td>7</td>\n",
       "      <td>5</td>\n",
       "      <td>17</td>\n",
       "      <td>0</td>\n",
       "    </tr>\n",
       "  </tbody>\n",
       "</table>\n",
       "</div>"
      ],
      "text/plain": [
       "    price  vehicle_type  registration_year  gearbox  power  model  mileage  \\\n",
       "2  9800.0             6             2004.0        0  163.0      6   125000   \n",
       "3  1500.0             5             2001.0        1   75.0      5   150000   \n",
       "4  3600.0             5             2008.0        1   69.0      6    90000   \n",
       "\n",
       "   registration_month  fuel_type  brand  not_repaired  \n",
       "2                   8          5      6             1  \n",
       "3                   6          5     17             0  \n",
       "4                   7          5     17             0  "
      ]
     },
     "execution_count": 41,
     "metadata": {},
     "output_type": "execute_result"
    }
   ],
   "source": [
    "encoded_data['gearbox']= label_encoder.fit_transform(encoded_data['gearbox'].astype('str'))\n",
    "encoded_data.head(3)"
   ]
  },
  {
   "cell_type": "code",
   "execution_count": 42,
   "metadata": {},
   "outputs": [
    {
     "data": {
      "text/html": [
       "<div>\n",
       "<style scoped>\n",
       "    .dataframe tbody tr th:only-of-type {\n",
       "        vertical-align: middle;\n",
       "    }\n",
       "\n",
       "    .dataframe tbody tr th {\n",
       "        vertical-align: top;\n",
       "    }\n",
       "\n",
       "    .dataframe thead th {\n",
       "        text-align: right;\n",
       "    }\n",
       "</style>\n",
       "<table border=\"1\" class=\"dataframe\">\n",
       "  <thead>\n",
       "    <tr style=\"text-align: right;\">\n",
       "      <th></th>\n",
       "      <th>price</th>\n",
       "      <th>vehicle_type</th>\n",
       "      <th>registration_year</th>\n",
       "      <th>gearbox</th>\n",
       "      <th>power</th>\n",
       "      <th>model</th>\n",
       "      <th>mileage</th>\n",
       "      <th>registration_month</th>\n",
       "      <th>fuel_type</th>\n",
       "      <th>brand</th>\n",
       "      <th>not_repaired</th>\n",
       "    </tr>\n",
       "  </thead>\n",
       "  <tbody>\n",
       "    <tr>\n",
       "      <th>count</th>\n",
       "      <td>293500.000000</td>\n",
       "      <td>293500.000000</td>\n",
       "      <td>293500.00000</td>\n",
       "      <td>293500.000000</td>\n",
       "      <td>293500.000000</td>\n",
       "      <td>293500.000000</td>\n",
       "      <td>293500.000000</td>\n",
       "      <td>293500.000000</td>\n",
       "      <td>293500.000000</td>\n",
       "      <td>293500.000000</td>\n",
       "      <td>293500.000000</td>\n",
       "    </tr>\n",
       "    <tr>\n",
       "      <th>mean</th>\n",
       "      <td>4904.647032</td>\n",
       "      <td>4.258627</td>\n",
       "      <td>2003.52369</td>\n",
       "      <td>0.797813</td>\n",
       "      <td>120.180051</td>\n",
       "      <td>5.742784</td>\n",
       "      <td>128401.873935</td>\n",
       "      <td>6.402460</td>\n",
       "      <td>4.957816</td>\n",
       "      <td>11.213700</td>\n",
       "      <td>0.319976</td>\n",
       "    </tr>\n",
       "    <tr>\n",
       "      <th>std</th>\n",
       "      <td>4585.149351</td>\n",
       "      <td>2.108642</td>\n",
       "      <td>6.54786</td>\n",
       "      <td>0.401632</td>\n",
       "      <td>52.858418</td>\n",
       "      <td>1.982924</td>\n",
       "      <td>36480.513563</td>\n",
       "      <td>3.349842</td>\n",
       "      <td>0.334077</td>\n",
       "      <td>5.972405</td>\n",
       "      <td>0.630776</td>\n",
       "    </tr>\n",
       "    <tr>\n",
       "      <th>min</th>\n",
       "      <td>200.000000</td>\n",
       "      <td>0.000000</td>\n",
       "      <td>1964.00000</td>\n",
       "      <td>0.000000</td>\n",
       "      <td>30.000000</td>\n",
       "      <td>0.000000</td>\n",
       "      <td>5000.000000</td>\n",
       "      <td>1.000000</td>\n",
       "      <td>0.000000</td>\n",
       "      <td>0.000000</td>\n",
       "      <td>0.000000</td>\n",
       "    </tr>\n",
       "    <tr>\n",
       "      <th>25%</th>\n",
       "      <td>1400.000000</td>\n",
       "      <td>4.000000</td>\n",
       "      <td>1999.00000</td>\n",
       "      <td>1.000000</td>\n",
       "      <td>75.000000</td>\n",
       "      <td>6.000000</td>\n",
       "      <td>125000.000000</td>\n",
       "      <td>4.000000</td>\n",
       "      <td>5.000000</td>\n",
       "      <td>9.000000</td>\n",
       "      <td>0.000000</td>\n",
       "    </tr>\n",
       "    <tr>\n",
       "      <th>50%</th>\n",
       "      <td>3230.000000</td>\n",
       "      <td>4.000000</td>\n",
       "      <td>2004.00000</td>\n",
       "      <td>1.000000</td>\n",
       "      <td>110.000000</td>\n",
       "      <td>6.000000</td>\n",
       "      <td>150000.000000</td>\n",
       "      <td>6.000000</td>\n",
       "      <td>5.000000</td>\n",
       "      <td>13.000000</td>\n",
       "      <td>0.000000</td>\n",
       "    </tr>\n",
       "    <tr>\n",
       "      <th>75%</th>\n",
       "      <td>6999.000000</td>\n",
       "      <td>5.000000</td>\n",
       "      <td>2008.00000</td>\n",
       "      <td>1.000000</td>\n",
       "      <td>150.000000</td>\n",
       "      <td>6.000000</td>\n",
       "      <td>150000.000000</td>\n",
       "      <td>9.000000</td>\n",
       "      <td>5.000000</td>\n",
       "      <td>17.000000</td>\n",
       "      <td>0.000000</td>\n",
       "    </tr>\n",
       "    <tr>\n",
       "      <th>max</th>\n",
       "      <td>20000.000000</td>\n",
       "      <td>7.000000</td>\n",
       "      <td>2019.00000</td>\n",
       "      <td>1.000000</td>\n",
       "      <td>600.000000</td>\n",
       "      <td>10.000000</td>\n",
       "      <td>150000.000000</td>\n",
       "      <td>12.000000</td>\n",
       "      <td>5.000000</td>\n",
       "      <td>18.000000</td>\n",
       "      <td>2.000000</td>\n",
       "    </tr>\n",
       "  </tbody>\n",
       "</table>\n",
       "</div>"
      ],
      "text/plain": [
       "               price   vehicle_type  registration_year        gearbox  \\\n",
       "count  293500.000000  293500.000000       293500.00000  293500.000000   \n",
       "mean     4904.647032       4.258627         2003.52369       0.797813   \n",
       "std      4585.149351       2.108642            6.54786       0.401632   \n",
       "min       200.000000       0.000000         1964.00000       0.000000   \n",
       "25%      1400.000000       4.000000         1999.00000       1.000000   \n",
       "50%      3230.000000       4.000000         2004.00000       1.000000   \n",
       "75%      6999.000000       5.000000         2008.00000       1.000000   \n",
       "max     20000.000000       7.000000         2019.00000       1.000000   \n",
       "\n",
       "               power          model        mileage  registration_month  \\\n",
       "count  293500.000000  293500.000000  293500.000000       293500.000000   \n",
       "mean      120.180051       5.742784  128401.873935            6.402460   \n",
       "std        52.858418       1.982924   36480.513563            3.349842   \n",
       "min        30.000000       0.000000    5000.000000            1.000000   \n",
       "25%        75.000000       6.000000  125000.000000            4.000000   \n",
       "50%       110.000000       6.000000  150000.000000            6.000000   \n",
       "75%       150.000000       6.000000  150000.000000            9.000000   \n",
       "max       600.000000      10.000000  150000.000000           12.000000   \n",
       "\n",
       "           fuel_type          brand   not_repaired  \n",
       "count  293500.000000  293500.000000  293500.000000  \n",
       "mean        4.957816      11.213700       0.319976  \n",
       "std         0.334077       5.972405       0.630776  \n",
       "min         0.000000       0.000000       0.000000  \n",
       "25%         5.000000       9.000000       0.000000  \n",
       "50%         5.000000      13.000000       0.000000  \n",
       "75%         5.000000      17.000000       0.000000  \n",
       "max         5.000000      18.000000       2.000000  "
      ]
     },
     "execution_count": 42,
     "metadata": {},
     "output_type": "execute_result"
    }
   ],
   "source": [
    "# Verificar nuevamente las estadisticas para descartar errores\n",
    "encoded_data.describe()"
   ]
  },
  {
   "cell_type": "markdown",
   "metadata": {},
   "source": [
    "Ahora el dataset tiene mucho más sentido, no hay valores fuera de los rangos lógicos en ninguna columna, y las caracteristicas categoricas están codificadas, y se eliminaron las columnas irrelevantes para el calculo del precio de un vehiculo. Aunque las proporciones de los datos podrian generar problemas."
   ]
  },
  {
   "cell_type": "code",
   "execution_count": 43,
   "metadata": {},
   "outputs": [],
   "source": [
    "from sklearn.preprocessing import MaxAbsScaler\n",
    "# Escalar los datos\n",
    "scaler = MaxAbsScaler()\n",
    "# Aplicar la transformación manteniendo nombres de columnas\n",
    "encoded_data = pd.DataFrame(scaler.fit_transform(encoded_data), columns=encoded_data.columns)"
   ]
  },
  {
   "cell_type": "code",
   "execution_count": 44,
   "metadata": {},
   "outputs": [
    {
     "name": "stdout",
     "output_type": "stream",
     "text": [
      "Clean data:82.88%\n"
     ]
    }
   ],
   "source": [
    "final_data = (encoded_data.shape[0] /full_data)*100\n",
    "print(f'Clean data:{final_data:.2f}%')"
   ]
  },
  {
   "cell_type": "markdown",
   "metadata": {},
   "source": [
    "Luego del procesamiento se logró conservar cerca del 83% de los datos del dataset, sin contar los valores duplicados"
   ]
  },
  {
   "cell_type": "code",
   "execution_count": 45,
   "metadata": {},
   "outputs": [
    {
     "data": {
      "text/html": [
       "<div>\n",
       "<style scoped>\n",
       "    .dataframe tbody tr th:only-of-type {\n",
       "        vertical-align: middle;\n",
       "    }\n",
       "\n",
       "    .dataframe tbody tr th {\n",
       "        vertical-align: top;\n",
       "    }\n",
       "\n",
       "    .dataframe thead th {\n",
       "        text-align: right;\n",
       "    }\n",
       "</style>\n",
       "<table border=\"1\" class=\"dataframe\">\n",
       "  <thead>\n",
       "    <tr style=\"text-align: right;\">\n",
       "      <th></th>\n",
       "      <th>price</th>\n",
       "      <th>vehicle_type</th>\n",
       "      <th>registration_year</th>\n",
       "      <th>gearbox</th>\n",
       "      <th>power</th>\n",
       "      <th>model</th>\n",
       "      <th>mileage</th>\n",
       "      <th>registration_month</th>\n",
       "      <th>fuel_type</th>\n",
       "      <th>brand</th>\n",
       "      <th>not_repaired</th>\n",
       "    </tr>\n",
       "  </thead>\n",
       "  <tbody>\n",
       "    <tr>\n",
       "      <th>0</th>\n",
       "      <td>0.4900</td>\n",
       "      <td>0.857143</td>\n",
       "      <td>0.992571</td>\n",
       "      <td>0.0</td>\n",
       "      <td>0.271667</td>\n",
       "      <td>0.6</td>\n",
       "      <td>0.833333</td>\n",
       "      <td>0.666667</td>\n",
       "      <td>1.0</td>\n",
       "      <td>0.333333</td>\n",
       "      <td>0.5</td>\n",
       "    </tr>\n",
       "    <tr>\n",
       "      <th>1</th>\n",
       "      <td>0.0750</td>\n",
       "      <td>0.714286</td>\n",
       "      <td>0.991085</td>\n",
       "      <td>1.0</td>\n",
       "      <td>0.125000</td>\n",
       "      <td>0.5</td>\n",
       "      <td>1.000000</td>\n",
       "      <td>0.500000</td>\n",
       "      <td>1.0</td>\n",
       "      <td>0.944444</td>\n",
       "      <td>0.0</td>\n",
       "    </tr>\n",
       "    <tr>\n",
       "      <th>2</th>\n",
       "      <td>0.1800</td>\n",
       "      <td>0.714286</td>\n",
       "      <td>0.994552</td>\n",
       "      <td>1.0</td>\n",
       "      <td>0.115000</td>\n",
       "      <td>0.6</td>\n",
       "      <td>0.600000</td>\n",
       "      <td>0.583333</td>\n",
       "      <td>1.0</td>\n",
       "      <td>0.944444</td>\n",
       "      <td>0.0</td>\n",
       "    </tr>\n",
       "    <tr>\n",
       "      <th>3</th>\n",
       "      <td>0.0325</td>\n",
       "      <td>0.571429</td>\n",
       "      <td>0.988113</td>\n",
       "      <td>1.0</td>\n",
       "      <td>0.170000</td>\n",
       "      <td>0.9</td>\n",
       "      <td>1.000000</td>\n",
       "      <td>0.833333</td>\n",
       "      <td>1.0</td>\n",
       "      <td>0.000000</td>\n",
       "      <td>1.0</td>\n",
       "    </tr>\n",
       "    <tr>\n",
       "      <th>4</th>\n",
       "      <td>0.1100</td>\n",
       "      <td>0.142857</td>\n",
       "      <td>0.992571</td>\n",
       "      <td>1.0</td>\n",
       "      <td>0.181667</td>\n",
       "      <td>0.6</td>\n",
       "      <td>1.000000</td>\n",
       "      <td>0.666667</td>\n",
       "      <td>1.0</td>\n",
       "      <td>0.722222</td>\n",
       "      <td>0.0</td>\n",
       "    </tr>\n",
       "  </tbody>\n",
       "</table>\n",
       "</div>"
      ],
      "text/plain": [
       "    price  vehicle_type  registration_year  gearbox     power  model  \\\n",
       "0  0.4900      0.857143           0.992571      0.0  0.271667    0.6   \n",
       "1  0.0750      0.714286           0.991085      1.0  0.125000    0.5   \n",
       "2  0.1800      0.714286           0.994552      1.0  0.115000    0.6   \n",
       "3  0.0325      0.571429           0.988113      1.0  0.170000    0.9   \n",
       "4  0.1100      0.142857           0.992571      1.0  0.181667    0.6   \n",
       "\n",
       "    mileage  registration_month  fuel_type     brand  not_repaired  \n",
       "0  0.833333            0.666667        1.0  0.333333           0.5  \n",
       "1  1.000000            0.500000        1.0  0.944444           0.0  \n",
       "2  0.600000            0.583333        1.0  0.944444           0.0  \n",
       "3  1.000000            0.833333        1.0  0.000000           1.0  \n",
       "4  1.000000            0.666667        1.0  0.722222           0.0  "
      ]
     },
     "execution_count": 45,
     "metadata": {},
     "output_type": "execute_result"
    }
   ],
   "source": [
    "encoded_data.head()"
   ]
  },
  {
   "cell_type": "markdown",
   "metadata": {},
   "source": [
    "## Entrenamiento del modelo "
   ]
  },
  {
   "cell_type": "markdown",
   "metadata": {},
   "source": [
    "La mayoria de los modelos se necesita las caracteristicas categoricas codificadas. Previamente se codificaron las columnas para la imputacion de `gearbox`."
   ]
  },
  {
   "cell_type": "code",
   "execution_count": 46,
   "metadata": {},
   "outputs": [],
   "source": [
    "# Separar caracteristicas y objetivo\n",
    "X_encoded = encoded_data.drop('price', axis=1)\n",
    "y_encoded = encoded_data['price']\n",
    "\n",
    "# Dividir datos limpios en entrenamiento y validación\n",
    "X_train, X_validation, y_train, y_validation = train_test_split(X_encoded, y_encoded , test_size=0.2, random_state=123)"
   ]
  },
  {
   "cell_type": "markdown",
   "metadata": {},
   "source": [
    "### Arbol de Decisión (Decision Tree)"
   ]
  },
  {
   "cell_type": "code",
   "execution_count": 47,
   "metadata": {},
   "outputs": [
    {
     "name": "stdout",
     "output_type": "stream",
     "text": [
      "RECM del mejor modelo en el conjunto de validación (max_depth = 14): 0.09\n",
      "Tiempo de ejecución: 10.00 segundos\n"
     ]
    }
   ],
   "source": [
    "start_time = time.time()\n",
    "best_model = None\n",
    "best_result = 10000\n",
    "best_depth = 0\n",
    "# selecciona el rango del hiperparámetro\n",
    "for depth in range(1, 15): \n",
    "    decision_tree_model = DecisionTreeRegressor(random_state=12345, max_depth=depth)\n",
    "    # entrena el modelo en el conjunto de entrenamiento\n",
    "    decision_tree_model.fit(X_train, y_train) \n",
    "    # obtén las predicciones del modelo en el conjunto de validación\n",
    "    dt_predict = decision_tree_model.predict(X_validation) \n",
    "     # calcula la RECM en el conjunto de validación\n",
    "    dt_rmse = root_mean_squared_error(y_validation, dt_predict)\n",
    "    # Verificar cual es el mejor modelo\n",
    "    if dt_rmse < best_result:\n",
    "        best_model = model\n",
    "        best_result = dt_rmse\n",
    "        best_depth = depth\n",
    "print(f\"RECM del mejor modelo en el conjunto de validación (max_depth = {best_depth}): {best_result:,.2f}\")\n",
    "time.sleep(2)\n",
    "dt_time = time.time() - start_time\n",
    "print(f\"Tiempo de ejecución: {dt_time:.2f} segundos\")"
   ]
  },
  {
   "cell_type": "markdown",
   "metadata": {},
   "source": [
    "El mejor modelo de arbol de decision se obtuvo con una profundidad máxima de 14.\n",
    "\n",
    "El RECM obtenido con este modelo fue de 0.09. se espera que en los siguentes modelos tengan un resultado mejor."
   ]
  },
  {
   "cell_type": "markdown",
   "metadata": {},
   "source": [
    "### Bosque aleatorio (Random Forest)"
   ]
  },
  {
   "cell_type": "code",
   "execution_count": 48,
   "metadata": {
    "scrolled": true
   },
   "outputs": [
    {
     "name": "stdout",
     "output_type": "stream",
     "text": [
      "RECM para el modelo Random Forest: 0.08\n",
      "Tiempo de ejecución: 12.23 segundos\n"
     ]
    }
   ],
   "source": [
    "#best_error = 2000 # configura el inicio de RECM\n",
    "#best_est = 0\n",
    "#best_depth = 0\n",
    "#for est in range (5,30):\n",
    "#    for depth in range (5,30):\n",
    "#        random_forest_model = RandomForestRegressor(random_state=54321, n_estimators=est, max_depth=depth)\n",
    "start_time = time.time()\n",
    "random_forest_model = RandomForestRegressor(random_state=54321, n_estimators=9, max_depth=19)\n",
    "random_forest_model.fit(X_train, y_train)\n",
    "rf_prediction = random_forest_model.predict(X_validation)\n",
    "rf_rmse = root_mean_squared_error(y_validation, rf_prediction)      \n",
    "#        if lr_rmse < best_error: # guardamos la configuración del modelo si se logra el error más bajo\n",
    "#            best_error = lr_rmse\n",
    "#            best_est = est\n",
    "#            best_depth = depth\n",
    "#print(\"RECM del mejor modelo en el conjunto de validación:\", best_error, \"n_estimators:\", best_est, \"best_depth:\", best_depth) \n",
    "print('RECM para el modelo Random Forest: {:,.2f}'.format(rf_rmse))\n",
    "time.sleep(2)\n",
    "rf_time = time.time() - start_time\n",
    "print(f\"Tiempo de ejecución: {rf_time:.2f} segundos\")"
   ]
  },
  {
   "cell_type": "markdown",
   "metadata": {},
   "source": [
    "Tras probar diferentes valores para el número de estimadores y la profundidad máxima utilizando el código comentado, se determinó que la profundidad máxima óptima para el modelo es 19. El número de estimadores se fijó en 9, ya que aumentar este valor más allá de este punto no mejora significativamente el RMSE y resulta computacionalmente ineficiente. Por el mismo motivo se decidió comentar el ciclo for que comprueba cual es la cantidad optima de estimadores y profundidad máxima ya que estas operaciones aumentan significativamente el tiempo de ejecucion del modelo"
   ]
  },
  {
   "cell_type": "markdown",
   "metadata": {},
   "source": [
    "### Regresion Lineal (Linear Regression)"
   ]
  },
  {
   "cell_type": "code",
   "execution_count": 49,
   "metadata": {},
   "outputs": [
    {
     "name": "stdout",
     "output_type": "stream",
     "text": [
      "RECM del modelo de regresión lineal en el conjunto de validación:0.15\n",
      "Tiempo de ejecución: 0.11 segundos\n"
     ]
    }
   ],
   "source": [
    "# inicializa el temporizador para calcular el tiempo de ejecucion\n",
    "start_time = time.time()\n",
    " # inicializa el constructor de modelo\n",
    "lr_model = LinearRegression()\n",
    "# entrena el modelo en el conjunto de entrenamiento\n",
    "lr_model.fit(X_train, y_train) \n",
    "# obtén las predicciones del modelo en el conjunto de validación\n",
    "lr_predictions = lr_model.predict(X_validation) \n",
    " # calcula la RECM en el conjunto de validación\n",
    "lr_rmse = root_mean_squared_error(y_validation, lr_predictions) \n",
    "print(f\"RECM del modelo de regresión lineal en el conjunto de validación:{lr_rmse:,.2f}\")\n",
    "# calcula el tiempo de ejecución\n",
    "lr_time = time.time() - start_time\n",
    "print(f\"Tiempo de ejecución: {lr_time:.2f} segundos\")"
   ]
  },
  {
   "cell_type": "markdown",
   "metadata": {},
   "source": [
    "El modelo de Regresion lineal se utilizará como Prueba de Cordura, ya que tiene la mayor puntuacion de RECM,  0.15, aunque es mucho más rápido que los otros modelos, "
   ]
  },
  {
   "cell_type": "markdown",
   "metadata": {},
   "source": [
    "### Potenciacion del Gradiente"
   ]
  },
  {
   "cell_type": "markdown",
   "metadata": {},
   "source": [
    "Considerando que  LightGBM implementa su propia codificacion se entrenará el modelo con el dataset sin codificar"
   ]
  },
  {
   "cell_type": "code",
   "execution_count": 50,
   "metadata": {},
   "outputs": [],
   "source": [
    "import gc\n",
    "gc.collect()\n",
    "# Separar caracteristicas y objetivo\n",
    "X = data.drop('price', axis=1)\n",
    "y = data['price']\n",
    "# Aplicar la transformación manteniendo nombres de columnas\n",
    "#numeric_cols= ['registration_year', 'power', 'mileage', 'registration_month']\n",
    "#X[numeric_cols] = pd.DataFrame(scaler.fit_transform(X[numeric_cols]), columns=X[numeric_cols].columns)\n",
    "\n",
    "# Dividir datos limpios en entrenamiento y validación\n",
    "X_train, X_validation, y_train, y_validation = train_test_split(X, y , test_size=0.20, random_state=123)"
   ]
  },
  {
   "cell_type": "code",
   "execution_count": 51,
   "metadata": {},
   "outputs": [
    {
     "name": "stdout",
     "output_type": "stream",
     "text": [
      "['brand', 'model', 'fuel_type', 'vehicle_type', 'not_repaired', 'gearbox']\n"
     ]
    }
   ],
   "source": [
    "# Lista de columnas categóricas \n",
    "columns_to_encode.append('gearbox')\n",
    "print(columns_to_encode)"
   ]
  },
  {
   "cell_type": "code",
   "execution_count": 52,
   "metadata": {},
   "outputs": [],
   "source": [
    "# Convierte las columnas categóricas a tipo 'category'\n",
    "X_train[columns_to_encode] = X_train[columns_to_encode].astype('category')\n",
    "X_validation[columns_to_encode] = X_validation[columns_to_encode].astype('category')"
   ]
  },
  {
   "cell_type": "code",
   "execution_count": 185,
   "metadata": {},
   "outputs": [],
   "source": [
    "# Prepara los datasets de entrenamiento y validación para LightGBM.\n",
    "lgb_train = lgb.Dataset(X_train, label=y_train, categorical_feature=columns_to_encode)\n",
    "lgb_valid = lgb.Dataset(X_validation, label=y_validation, categorical_feature=columns_to_encode)\n",
    "# Crea un diccionario para definir los parametros del modelo\n",
    "params = {\n",
    "    'task': 'train',\n",
    "    'boosting': 'goss',\n",
    "    'objective': 'regression',\n",
    "    'metric': 'rmse',\n",
    "    'num_leaves': 70,\n",
    "    'max_depth': 10,\n",
    "    'learning_rate': 0.08,\n",
    "    'min_data_in_leaf': 15,  # Evita hojas pequeñas\n",
    "    'lambda_l1': 1.0,  # Mayor regularización L1\n",
    "    'lambda_l2': 1.0,  # Mayor regularización L2\n",
    "    'bagging_fraction': 0.8,  # Reduce sobreajuste\n",
    "    'feature_fraction': 0.8,  # Usa solo 80% de features en cada iteración\n",
    "    'n_estimators': 500,  # Más árboles pueden ayudar\n",
    "    'min_gain_to_split': 0.1\n",
    "}"
   ]
  },
  {
   "cell_type": "code",
   "execution_count": null,
   "metadata": {},
   "outputs": [
    {
     "name": "stderr",
     "output_type": "stream",
     "text": [
      "c:\\Users\\Molix.x\\anaconda3\\Lib\\site-packages\\lightgbm\\engine.py:186: LGBMDeprecationWarning: Argument 'categorical_feature' to train() is deprecated and will be removed in a future release. Set 'categorical_feature' when calling lightgbm.Dataset() instead. See https://github.com/microsoft/LightGBM/issues/6435.\n",
      "  _emit_dataset_kwarg_warning(\"train\", \"categorical_feature\")\n",
      "c:\\Users\\Molix.x\\anaconda3\\Lib\\site-packages\\lightgbm\\engine.py:204: UserWarning: Found `n_estimators` in params. Will use it instead of argument\n",
      "  _log_warning(f\"Found `{alias}` in params. Will use it instead of argument\")\n"
     ]
    },
    {
     "name": "stdout",
     "output_type": "stream",
     "text": [
      "[LightGBM] [Warning] Found boosting=goss. For backwards compatibility reasons, LightGBM interprets this as boosting=gbdt, data_sample_strategy=goss.To suppress this warning, set data_sample_strategy=goss instead.\n",
      "[LightGBM] [Warning] Found boosting=goss. For backwards compatibility reasons, LightGBM interprets this as boosting=gbdt, data_sample_strategy=goss.To suppress this warning, set data_sample_strategy=goss instead.\n",
      "[LightGBM] [Info] Auto-choosing row-wise multi-threading, the overhead of testing was 0.012715 seconds.\n",
      "You can set `force_row_wise=true` to remove the overhead.\n",
      "And if memory is not enough, you can set `force_col_wise=true`.\n",
      "[LightGBM] [Info] Total Bins 361\n",
      "[LightGBM] [Info] Number of data points in the train set: 234800, number of used features: 10\n",
      "[LightGBM] [Info] Using GOSS\n",
      "[LightGBM] [Warning] Found boosting=goss. For backwards compatibility reasons, LightGBM interprets this as boosting=gbdt, data_sample_strategy=goss.To suppress this warning, set data_sample_strategy=goss instead.\n",
      "[LightGBM] [Info] Start training from score 4905.876712\n",
      "Training until validation scores don't improve for 50 rounds\n",
      "Did not meet early stopping. Best iteration is:\n",
      "[499]\ttraining's rmse: 1481.51\tvalid_1's rmse: 1599.98\n",
      "Tiempo de ejecución: 6.41 segundos\n"
     ]
    }
   ],
   "source": [
    "start_time = time.time()\n",
    "# Especifica los parámetros y los datos de entrenamiento y validación.\n",
    "lgb_model = lgb.train(params, lgb_train, valid_sets=[lgb_train, lgb_valid], num_boost_round=200, categorical_feature=columns_to_encode, \n",
    "                      callbacks=[lgb.early_stopping(50)] )\n",
    "time.sleep(2)\n",
    "lgb_time = time.time() - start_time\n",
    "print(f\"Tiempo de ejecución: {lgb_time:.2f} segundos\")"
   ]
  },
  {
   "cell_type": "code",
   "execution_count": 187,
   "metadata": {
    "scrolled": true,
    "slideshow": {
     "slide_type": "slide"
    }
   },
   "outputs": [
    {
     "name": "stdout",
     "output_type": "stream",
     "text": [
      "RMSE para el modelo LightGBM: 1,599.98\n"
     ]
    }
   ],
   "source": [
    "lgb_pred = lgb_model.predict(X_validation)\n",
    "lgb_rmse = root_mean_squared_error(y_validation, lgb_pred)\n",
    "print(f\"RMSE para el modelo LightGBM: {lgb_rmse:,.2f}\")"
   ]
  },
  {
   "cell_type": "markdown",
   "metadata": {},
   "source": [
    "### Prueba de cordura\n",
    "\n",
    "Comprobar que el RECM del modelo de LightGBM sea menor al del modelo de Regresion Lineal"
   ]
  },
  {
   "cell_type": "code",
   "execution_count": 188,
   "metadata": {},
   "outputs": [
    {
     "data": {
      "text/html": [
       "<div>\n",
       "<style scoped>\n",
       "    .dataframe tbody tr th:only-of-type {\n",
       "        vertical-align: middle;\n",
       "    }\n",
       "\n",
       "    .dataframe tbody tr th {\n",
       "        vertical-align: top;\n",
       "    }\n",
       "\n",
       "    .dataframe thead th {\n",
       "        text-align: right;\n",
       "    }\n",
       "</style>\n",
       "<table border=\"1\" class=\"dataframe\">\n",
       "  <thead>\n",
       "    <tr style=\"text-align: right;\">\n",
       "      <th></th>\n",
       "      <th>Decision_tree</th>\n",
       "      <th>Random_forest</th>\n",
       "      <th>Linear_Regression</th>\n",
       "      <th>LightGBM</th>\n",
       "    </tr>\n",
       "  </thead>\n",
       "  <tbody>\n",
       "    <tr>\n",
       "      <th>RECM</th>\n",
       "      <td>0.094656</td>\n",
       "      <td>0.083568</td>\n",
       "      <td>0.149810</td>\n",
       "      <td>1599.981399</td>\n",
       "    </tr>\n",
       "    <tr>\n",
       "      <th>Tiempo</th>\n",
       "      <td>9.999902</td>\n",
       "      <td>12.227501</td>\n",
       "      <td>0.112998</td>\n",
       "      <td>6.410000</td>\n",
       "    </tr>\n",
       "  </tbody>\n",
       "</table>\n",
       "</div>"
      ],
      "text/plain": [
       "        Decision_tree  Random_forest  Linear_Regression     LightGBM\n",
       "RECM         0.094656       0.083568           0.149810  1599.981399\n",
       "Tiempo       9.999902      12.227501           0.112998     6.410000"
      ]
     },
     "execution_count": 188,
     "metadata": {},
     "output_type": "execute_result"
    }
   ],
   "source": [
    "time = [dt_time, rf_time, lr_time, lgb_time]\n",
    "rmse = [best_result, rf_rmse, lr_rmse, lgb_rmse]\n",
    "col = ['RECM', 'Tiempo']\n",
    "index= ['Decision_tree', 'Random_forest', 'Linear_Regression', 'LightGBM']\n",
    "final_results = pd.DataFrame([rmse,time], columns= index, index=col)\n",
    "final_results"
   ]
  },
  {
   "cell_type": "markdown",
   "metadata": {},
   "source": [
    "## Análisis del modelo"
   ]
  },
  {
   "cell_type": "markdown",
   "metadata": {},
   "source": [
    "\n",
    "Los modelos fueron entrenados inicialmente con datos sin escalar. Los resultados obtenidos con estos datos fueron opuestos a los obtenidos con los datos escalados. Con los datos sin escalar, los modelos de Regresión Lineal obtenían puntuaciones por encima de 3000 en RECM, seguidos por los modelos de Árbol de Decisión y Bosque Aleatorio, que obtenían valores cercanos a 2000 puntos. El mejor modelo en este conjunto era LightGBM, que bordeaba los 1700 puntos en RECM.\n",
    "\n",
    "Posteriormente, en una versión más reciente del proyecto, se decidió escalar los datos y esto mejoró ampliamente los resultados de los modelos de Regresión Lineal, Árbol de Decisión y Random Forest. Con los datos escalados, los modelos lograron resultados mucho más precisos, con RECM inferiores a 1, lo que representó una mejora significativa. Sin embargo, el desempeño de LightGBM no mejoró, y de hecho, fue mejor con los datos sin escalar, con un RECM que no bajaba de 1600."
   ]
  },
  {
   "cell_type": "markdown",
   "metadata": {},
   "source": [
    "# Conclusion\n",
    "Si se busca priorizar la velocidad del modelo, el modelo más apropiado sería el de Regresión Lineal, ya que ofrece un buen balance entre precisión y tiempo de ejecución. Si el objetivo es aumentar la precisión de los precios estimados, la mejor opción sería Random Forest, aunque la diferencia en RECM entre Random Forest y Regresión Lineal es mínima (aproximadamente 0.06) y la diferencia en el tiempo de ejecución es de solo 11 segundos. Esto demuestra que, a pesar de la complejidad de herramientas como LightGBM, los modelos más sencillos pueden ser igualmente eficaces. En cuanto a LightGBM, aunque es un modelo potente y rápido con los datos sin escalar, su rendimiento en este caso no fue tan competitivo debido a su tendencia a sobreajustarse a los datos escalados.\n",
    "\n",
    "Este análisis resalta que a veces lo más sencillo y menos complejo es lo que realmente funciona mejor, dependiendo de las necesidades y características de los datos."
   ]
  },
  {
   "cell_type": "markdown",
   "metadata": {},
   "source": [
    "# Lista de control"
   ]
  },
  {
   "cell_type": "markdown",
   "metadata": {},
   "source": [
    "- [ ]  El código no tiene errores\n",
    "- [ ]  Las celdas con el código han sido colocadas en orden de ejecución\n",
    "- [ ]  Los datos han sido descargados y preparados\n",
    "- [ ]  Los modelos han sido entrenados\n",
    "- [ ]  Se realizó el análisis de velocidad y calidad de los modelos"
   ]
  }
 ],
 "metadata": {
  "ExecuteTimeLog": [
   {
    "duration": 305,
    "start_time": "2024-11-29T19:43:35.931Z"
   },
   {
    "duration": 457,
    "start_time": "2024-11-29T19:44:49.047Z"
   },
   {
    "duration": 98,
    "start_time": "2024-11-29T19:45:09.068Z"
   },
   {
    "duration": 44,
    "start_time": "2024-11-29T19:55:14.084Z"
   },
   {
    "duration": 46,
    "start_time": "2024-11-29T19:59:43.999Z"
   },
   {
    "duration": 44,
    "start_time": "2024-11-29T19:59:52.923Z"
   },
   {
    "duration": 201,
    "start_time": "2024-11-29T20:00:07.767Z"
   },
   {
    "duration": 25,
    "start_time": "2024-11-29T20:00:24.812Z"
   },
   {
    "duration": 2,
    "start_time": "2024-11-29T20:05:04.658Z"
   },
   {
    "duration": 671,
    "start_time": "2024-11-29T20:05:18.390Z"
   },
   {
    "duration": 13,
    "start_time": "2024-11-29T20:19:46.433Z"
   },
   {
    "duration": 388,
    "start_time": "2024-11-29T20:20:05.570Z"
   },
   {
    "duration": 3,
    "start_time": "2024-11-29T20:20:07.108Z"
   },
   {
    "duration": 45,
    "start_time": "2024-11-29T20:20:16.396Z"
   },
   {
    "duration": 12,
    "start_time": "2024-11-29T20:20:52.481Z"
   },
   {
    "duration": 11,
    "start_time": "2024-11-29T20:21:13.085Z"
   },
   {
    "duration": 13,
    "start_time": "2024-11-29T20:21:51.762Z"
   },
   {
    "duration": 670,
    "start_time": "2024-11-29T20:22:20.065Z"
   },
   {
    "duration": 3,
    "start_time": "2024-11-29T20:22:20.737Z"
   },
   {
    "duration": 24,
    "start_time": "2024-11-29T20:22:20.742Z"
   },
   {
    "duration": 15,
    "start_time": "2024-11-29T20:25:57.043Z"
   },
   {
    "duration": 236,
    "start_time": "2024-11-29T20:26:21.991Z"
   },
   {
    "duration": 221,
    "start_time": "2024-11-29T20:26:32.829Z"
   },
   {
    "duration": 243,
    "start_time": "2024-11-29T20:26:57.705Z"
   },
   {
    "duration": 223,
    "start_time": "2024-11-29T20:35:49.861Z"
   },
   {
    "duration": 656,
    "start_time": "2024-11-29T20:38:07.504Z"
   },
   {
    "duration": 477,
    "start_time": "2024-11-29T20:38:22.541Z"
   },
   {
    "duration": 90,
    "start_time": "2024-11-29T20:40:19.332Z"
   },
   {
    "duration": 337,
    "start_time": "2024-11-30T20:23:04.470Z"
   },
   {
    "duration": 490,
    "start_time": "2024-11-30T20:23:04.809Z"
   },
   {
    "duration": 97,
    "start_time": "2024-11-30T20:23:05.301Z"
   },
   {
    "duration": 4,
    "start_time": "2024-11-30T20:23:05.400Z"
   },
   {
    "duration": 37,
    "start_time": "2024-11-30T20:23:05.406Z"
   },
   {
    "duration": 482,
    "start_time": "2024-11-30T20:23:05.444Z"
   },
   {
    "duration": 123,
    "start_time": "2024-11-30T20:24:25.189Z"
   },
   {
    "duration": 96,
    "start_time": "2024-11-30T20:27:29.947Z"
   },
   {
    "duration": 174,
    "start_time": "2024-11-30T20:27:59.333Z"
   },
   {
    "duration": 11,
    "start_time": "2024-11-30T20:28:28.398Z"
   },
   {
    "duration": 154,
    "start_time": "2024-11-30T20:32:11.662Z"
   },
   {
    "duration": 7,
    "start_time": "2024-11-30T20:32:42.661Z"
   },
   {
    "duration": 33,
    "start_time": "2024-11-30T20:33:23.543Z"
   },
   {
    "duration": 7,
    "start_time": "2024-11-30T20:33:41.793Z"
   },
   {
    "duration": 32,
    "start_time": "2024-11-30T20:33:47.240Z"
   },
   {
    "duration": 90,
    "start_time": "2024-11-30T20:37:38.717Z"
   },
   {
    "duration": 35,
    "start_time": "2024-11-30T20:45:25.367Z"
   },
   {
    "duration": 32,
    "start_time": "2024-11-30T20:46:59.333Z"
   },
   {
    "duration": 52,
    "start_time": "2024-11-30T20:47:54.920Z"
   },
   {
    "duration": 26,
    "start_time": "2024-11-30T20:48:14.111Z"
   },
   {
    "duration": 27,
    "start_time": "2024-11-30T20:48:32.833Z"
   },
   {
    "duration": 43,
    "start_time": "2024-11-30T20:48:39.950Z"
   },
   {
    "duration": 30,
    "start_time": "2024-11-30T20:49:11.815Z"
   },
   {
    "duration": 98,
    "start_time": "2024-11-30T20:50:46.426Z"
   },
   {
    "duration": 16,
    "start_time": "2024-11-30T20:51:03.908Z"
   },
   {
    "duration": 16,
    "start_time": "2024-11-30T20:51:07.662Z"
   },
   {
    "duration": 21,
    "start_time": "2024-11-30T20:51:16.356Z"
   },
   {
    "duration": 18,
    "start_time": "2024-11-30T20:51:24.404Z"
   },
   {
    "duration": 17,
    "start_time": "2024-11-30T20:51:30.044Z"
   },
   {
    "duration": 39,
    "start_time": "2024-11-30T20:52:02.430Z"
   },
   {
    "duration": 14,
    "start_time": "2024-11-30T20:52:35.848Z"
   },
   {
    "duration": 22,
    "start_time": "2024-11-30T20:53:26.617Z"
   },
   {
    "duration": 30,
    "start_time": "2024-11-30T20:55:08.569Z"
   },
   {
    "duration": 6,
    "start_time": "2024-11-30T20:55:14.131Z"
   },
   {
    "duration": 32,
    "start_time": "2024-11-30T20:55:36.050Z"
   },
   {
    "duration": 319,
    "start_time": "2024-11-30T21:05:46.498Z"
   },
   {
    "duration": 502,
    "start_time": "2024-11-30T21:05:46.820Z"
   },
   {
    "duration": 127,
    "start_time": "2024-11-30T21:05:47.323Z"
   },
   {
    "duration": 4,
    "start_time": "2024-11-30T21:05:47.453Z"
   },
   {
    "duration": 18,
    "start_time": "2024-11-30T21:05:47.460Z"
   },
   {
    "duration": 554,
    "start_time": "2024-11-30T21:05:47.480Z"
   },
   {
    "duration": 90,
    "start_time": "2024-11-30T21:05:48.036Z"
   },
   {
    "duration": 38,
    "start_time": "2024-11-30T21:05:48.128Z"
   },
   {
    "duration": 12,
    "start_time": "2024-11-30T21:05:48.168Z"
   },
   {
    "duration": 69,
    "start_time": "2024-11-30T21:05:48.183Z"
   },
   {
    "duration": 367,
    "start_time": "2024-11-30T21:09:33.805Z"
   },
   {
    "duration": 66,
    "start_time": "2024-11-30T21:11:34.366Z"
   },
   {
    "duration": 4,
    "start_time": "2024-11-30T21:12:14.809Z"
   },
   {
    "duration": 323,
    "start_time": "2024-11-30T21:16:40.051Z"
   },
   {
    "duration": 415,
    "start_time": "2024-11-30T21:16:40.375Z"
   },
   {
    "duration": 97,
    "start_time": "2024-11-30T21:16:40.791Z"
   },
   {
    "duration": 3,
    "start_time": "2024-11-30T21:16:40.891Z"
   },
   {
    "duration": 16,
    "start_time": "2024-11-30T21:16:40.895Z"
   },
   {
    "duration": 503,
    "start_time": "2024-11-30T21:16:40.914Z"
   },
   {
    "duration": 95,
    "start_time": "2024-11-30T21:16:41.419Z"
   },
   {
    "duration": 35,
    "start_time": "2024-11-30T21:16:41.516Z"
   },
   {
    "duration": 12,
    "start_time": "2024-11-30T21:16:41.552Z"
   },
   {
    "duration": 9,
    "start_time": "2024-11-30T21:16:41.567Z"
   },
   {
    "duration": 37,
    "start_time": "2024-11-30T21:16:41.578Z"
   },
   {
    "duration": 53,
    "start_time": "2024-11-30T21:16:41.616Z"
   },
   {
    "duration": 483,
    "start_time": "2024-11-30T21:18:22.695Z"
   },
   {
    "duration": 552,
    "start_time": "2024-11-30T21:18:29.285Z"
   },
   {
    "duration": 412,
    "start_time": "2024-11-30T21:19:25.133Z"
   },
   {
    "duration": 40,
    "start_time": "2024-11-30T21:22:47.163Z"
   },
   {
    "duration": 110,
    "start_time": "2024-11-30T21:23:23.298Z"
   },
   {
    "duration": 31,
    "start_time": "2024-11-30T21:23:57.607Z"
   },
   {
    "duration": 33,
    "start_time": "2024-11-30T21:24:06.788Z"
   },
   {
    "duration": 112,
    "start_time": "2024-11-30T21:25:10.626Z"
   },
   {
    "duration": 58,
    "start_time": "2024-11-30T21:26:13.969Z"
   },
   {
    "duration": 356,
    "start_time": "2024-11-30T21:26:49.084Z"
   },
   {
    "duration": 30,
    "start_time": "2024-11-30T22:51:20.901Z"
   },
   {
    "duration": 77,
    "start_time": "2024-11-30T22:51:47.996Z"
   },
   {
    "duration": 66,
    "start_time": "2024-11-30T22:53:45.921Z"
   },
   {
    "duration": 21,
    "start_time": "2024-11-30T22:56:33.608Z"
   },
   {
    "duration": 20,
    "start_time": "2024-11-30T22:57:08.166Z"
   },
   {
    "duration": 23,
    "start_time": "2024-11-30T23:53:23.053Z"
   },
   {
    "duration": 202,
    "start_time": "2024-11-30T23:55:13.215Z"
   },
   {
    "duration": 84,
    "start_time": "2024-11-30T23:55:31.867Z"
   },
   {
    "duration": 164,
    "start_time": "2024-12-02T18:22:13.460Z"
   },
   {
    "duration": 338,
    "start_time": "2024-12-02T18:22:21.013Z"
   },
   {
    "duration": 473,
    "start_time": "2024-12-02T18:22:21.353Z"
   },
   {
    "duration": 102,
    "start_time": "2024-12-02T18:22:21.828Z"
   },
   {
    "duration": 379,
    "start_time": "2024-12-02T18:22:21.933Z"
   },
   {
    "duration": 4,
    "start_time": "2024-12-02T18:22:22.314Z"
   },
   {
    "duration": 10,
    "start_time": "2024-12-02T18:22:22.320Z"
   },
   {
    "duration": 518,
    "start_time": "2024-12-02T18:22:22.331Z"
   },
   {
    "duration": 292,
    "start_time": "2024-12-02T18:22:22.851Z"
   },
   {
    "duration": 0,
    "start_time": "2024-12-02T18:22:23.145Z"
   },
   {
    "duration": 0,
    "start_time": "2024-12-02T18:22:23.147Z"
   },
   {
    "duration": 0,
    "start_time": "2024-12-02T18:22:23.149Z"
   },
   {
    "duration": 0,
    "start_time": "2024-12-02T18:22:23.150Z"
   },
   {
    "duration": 0,
    "start_time": "2024-12-02T18:22:23.152Z"
   },
   {
    "duration": 15,
    "start_time": "2024-12-02T18:22:59.046Z"
   },
   {
    "duration": 76,
    "start_time": "2024-12-02T18:23:25.990Z"
   },
   {
    "duration": 12,
    "start_time": "2024-12-02T18:24:51.499Z"
   },
   {
    "duration": 89,
    "start_time": "2024-12-02T18:24:59.077Z"
   },
   {
    "duration": 33,
    "start_time": "2024-12-02T18:25:22.879Z"
   },
   {
    "duration": 154,
    "start_time": "2024-12-02T18:32:22.718Z"
   },
   {
    "duration": 88,
    "start_time": "2024-12-02T18:32:46.278Z"
   },
   {
    "duration": 151,
    "start_time": "2024-12-02T18:35:35.714Z"
   },
   {
    "duration": 8,
    "start_time": "2024-12-02T18:36:04.454Z"
   },
   {
    "duration": 174,
    "start_time": "2024-12-02T18:36:07.187Z"
   },
   {
    "duration": 147,
    "start_time": "2024-12-02T18:36:51.112Z"
   },
   {
    "duration": 141,
    "start_time": "2024-12-02T18:37:45.839Z"
   },
   {
    "duration": 142,
    "start_time": "2024-12-02T18:38:14.137Z"
   },
   {
    "duration": 533,
    "start_time": "2024-12-02T18:45:00.049Z"
   },
   {
    "duration": 68,
    "start_time": "2024-12-02T18:48:22.001Z"
   },
   {
    "duration": 283,
    "start_time": "2024-12-02T18:48:32.092Z"
   },
   {
    "duration": 420,
    "start_time": "2024-12-02T18:48:32.377Z"
   },
   {
    "duration": 113,
    "start_time": "2024-12-02T18:48:32.799Z"
   },
   {
    "duration": 372,
    "start_time": "2024-12-02T18:48:32.915Z"
   },
   {
    "duration": 3,
    "start_time": "2024-12-02T18:48:33.289Z"
   },
   {
    "duration": 24,
    "start_time": "2024-12-02T18:48:33.294Z"
   },
   {
    "duration": 589,
    "start_time": "2024-12-02T18:48:33.320Z"
   },
   {
    "duration": 70,
    "start_time": "2024-12-02T18:48:33.911Z"
   },
   {
    "duration": 98,
    "start_time": "2024-12-02T18:48:33.983Z"
   },
   {
    "duration": 41,
    "start_time": "2024-12-02T18:48:34.084Z"
   },
   {
    "duration": 10,
    "start_time": "2024-12-02T18:48:34.127Z"
   },
   {
    "duration": 157,
    "start_time": "2024-12-02T18:48:34.139Z"
   },
   {
    "duration": 11,
    "start_time": "2024-12-02T18:48:34.298Z"
   },
   {
    "duration": 87,
    "start_time": "2024-12-02T18:48:34.311Z"
   },
   {
    "duration": 307,
    "start_time": "2024-12-02T18:51:15.853Z"
   },
   {
    "duration": 419,
    "start_time": "2024-12-02T18:51:16.163Z"
   },
   {
    "duration": 107,
    "start_time": "2024-12-02T18:51:16.584Z"
   },
   {
    "duration": 372,
    "start_time": "2024-12-02T18:51:16.693Z"
   },
   {
    "duration": 3,
    "start_time": "2024-12-02T18:51:17.067Z"
   },
   {
    "duration": 10,
    "start_time": "2024-12-02T18:51:17.072Z"
   },
   {
    "duration": 93,
    "start_time": "2024-12-02T18:51:17.083Z"
   },
   {
    "duration": 639,
    "start_time": "2024-12-02T18:51:17.178Z"
   },
   {
    "duration": 99,
    "start_time": "2024-12-02T18:51:17.819Z"
   },
   {
    "duration": 32,
    "start_time": "2024-12-02T18:51:17.921Z"
   },
   {
    "duration": 11,
    "start_time": "2024-12-02T18:51:17.955Z"
   },
   {
    "duration": 59,
    "start_time": "2024-12-02T18:51:17.968Z"
   },
   {
    "duration": 150,
    "start_time": "2024-12-02T18:51:18.030Z"
   },
   {
    "duration": 96,
    "start_time": "2024-12-02T18:51:18.182Z"
   },
   {
    "duration": 162,
    "start_time": "2024-12-03T01:13:10.165Z"
   },
   {
    "duration": 301,
    "start_time": "2024-12-03T01:13:20.237Z"
   },
   {
    "duration": 453,
    "start_time": "2024-12-03T01:13:20.540Z"
   },
   {
    "duration": 105,
    "start_time": "2024-12-03T01:13:20.995Z"
   },
   {
    "duration": 370,
    "start_time": "2024-12-03T01:13:21.103Z"
   },
   {
    "duration": 3,
    "start_time": "2024-12-03T01:13:21.475Z"
   },
   {
    "duration": 15,
    "start_time": "2024-12-03T01:13:21.480Z"
   },
   {
    "duration": 73,
    "start_time": "2024-12-03T01:13:21.497Z"
   },
   {
    "duration": 603,
    "start_time": "2024-12-03T01:13:21.586Z"
   },
   {
    "duration": 96,
    "start_time": "2024-12-03T01:13:22.190Z"
   },
   {
    "duration": 10,
    "start_time": "2024-12-03T01:13:22.289Z"
   },
   {
    "duration": 38,
    "start_time": "2024-12-03T01:13:22.300Z"
   },
   {
    "duration": 160,
    "start_time": "2024-12-03T01:13:22.340Z"
   },
   {
    "duration": 89,
    "start_time": "2024-12-03T01:13:22.501Z"
   },
   {
    "duration": 471,
    "start_time": "2024-12-03T01:51:28.425Z"
   },
   {
    "duration": 399,
    "start_time": "2024-12-03T01:51:39.459Z"
   },
   {
    "duration": 280,
    "start_time": "2024-12-03T01:51:48.750Z"
   },
   {
    "duration": 411,
    "start_time": "2024-12-03T01:51:49.032Z"
   },
   {
    "duration": 96,
    "start_time": "2024-12-03T01:51:49.445Z"
   },
   {
    "duration": 397,
    "start_time": "2024-12-03T01:51:49.544Z"
   },
   {
    "duration": 3,
    "start_time": "2024-12-03T01:51:49.943Z"
   },
   {
    "duration": 11,
    "start_time": "2024-12-03T01:51:49.948Z"
   },
   {
    "duration": 497,
    "start_time": "2024-12-03T01:51:49.962Z"
   },
   {
    "duration": 99,
    "start_time": "2024-12-03T01:51:50.461Z"
   },
   {
    "duration": 82,
    "start_time": "2024-12-03T01:51:50.562Z"
   },
   {
    "duration": 13,
    "start_time": "2024-12-03T01:51:50.648Z"
   },
   {
    "duration": 49,
    "start_time": "2024-12-03T01:51:50.662Z"
   },
   {
    "duration": 146,
    "start_time": "2024-12-03T01:51:50.713Z"
   },
   {
    "duration": 568,
    "start_time": "2024-12-03T01:51:50.860Z"
   },
   {
    "duration": 41,
    "start_time": "2024-12-03T02:02:55.432Z"
   },
   {
    "duration": 271,
    "start_time": "2024-12-03T02:19:49.867Z"
   },
   {
    "duration": 405,
    "start_time": "2024-12-03T02:19:50.141Z"
   },
   {
    "duration": 109,
    "start_time": "2024-12-03T02:19:50.548Z"
   },
   {
    "duration": 371,
    "start_time": "2024-12-03T02:19:50.660Z"
   },
   {
    "duration": 3,
    "start_time": "2024-12-03T02:19:51.033Z"
   },
   {
    "duration": 9,
    "start_time": "2024-12-03T02:19:51.038Z"
   },
   {
    "duration": 494,
    "start_time": "2024-12-03T02:19:51.049Z"
   },
   {
    "duration": 5,
    "start_time": "2024-12-03T02:19:51.544Z"
   },
   {
    "duration": 81,
    "start_time": "2024-12-03T02:19:51.551Z"
   },
   {
    "duration": 10,
    "start_time": "2024-12-03T02:19:51.634Z"
   },
   {
    "duration": 44,
    "start_time": "2024-12-03T02:19:51.645Z"
   },
   {
    "duration": 150,
    "start_time": "2024-12-03T02:19:51.690Z"
   },
   {
    "duration": 560,
    "start_time": "2024-12-03T02:19:51.842Z"
   },
   {
    "duration": 86,
    "start_time": "2024-12-03T02:21:14.881Z"
   },
   {
    "duration": 331,
    "start_time": "2024-12-03T02:21:45.504Z"
   },
   {
    "duration": 404,
    "start_time": "2024-12-03T02:21:45.838Z"
   },
   {
    "duration": 105,
    "start_time": "2024-12-03T02:21:46.244Z"
   },
   {
    "duration": 102,
    "start_time": "2024-12-03T02:21:46.352Z"
   },
   {
    "duration": 3,
    "start_time": "2024-12-03T02:21:46.456Z"
   },
   {
    "duration": 25,
    "start_time": "2024-12-03T02:21:46.461Z"
   },
   {
    "duration": 465,
    "start_time": "2024-12-03T02:21:46.488Z"
   },
   {
    "duration": 6,
    "start_time": "2024-12-03T02:21:46.955Z"
   },
   {
    "duration": 79,
    "start_time": "2024-12-03T02:21:46.962Z"
   },
   {
    "duration": 9,
    "start_time": "2024-12-03T02:21:47.044Z"
   },
   {
    "duration": 49,
    "start_time": "2024-12-03T02:21:47.055Z"
   },
   {
    "duration": 138,
    "start_time": "2024-12-03T02:21:47.106Z"
   },
   {
    "duration": 555,
    "start_time": "2024-12-03T02:21:47.245Z"
   },
   {
    "duration": 274,
    "start_time": "2024-12-03T02:24:10.163Z"
   },
   {
    "duration": 401,
    "start_time": "2024-12-03T02:24:10.439Z"
   },
   {
    "duration": 100,
    "start_time": "2024-12-03T02:24:10.841Z"
   },
   {
    "duration": 102,
    "start_time": "2024-12-03T02:24:10.944Z"
   },
   {
    "duration": 3,
    "start_time": "2024-12-03T02:24:11.048Z"
   },
   {
    "duration": 12,
    "start_time": "2024-12-03T02:24:11.052Z"
   },
   {
    "duration": 474,
    "start_time": "2024-12-03T02:24:11.066Z"
   },
   {
    "duration": 549,
    "start_time": "2024-12-03T02:24:11.542Z"
   },
   {
    "duration": 0,
    "start_time": "2024-12-03T02:24:12.093Z"
   },
   {
    "duration": 0,
    "start_time": "2024-12-03T02:24:12.094Z"
   },
   {
    "duration": 0,
    "start_time": "2024-12-03T02:24:12.095Z"
   },
   {
    "duration": 0,
    "start_time": "2024-12-03T02:24:12.096Z"
   },
   {
    "duration": 0,
    "start_time": "2024-12-03T02:24:12.097Z"
   },
   {
    "duration": 280,
    "start_time": "2024-12-03T02:25:26.473Z"
   },
   {
    "duration": 407,
    "start_time": "2024-12-03T02:25:26.755Z"
   },
   {
    "duration": 106,
    "start_time": "2024-12-03T02:25:27.164Z"
   },
   {
    "duration": 95,
    "start_time": "2024-12-03T02:25:27.272Z"
   },
   {
    "duration": 182,
    "start_time": "2024-12-03T02:25:27.369Z"
   },
   {
    "duration": 0,
    "start_time": "2024-12-03T02:25:27.553Z"
   },
   {
    "duration": 0,
    "start_time": "2024-12-03T02:25:27.555Z"
   },
   {
    "duration": 0,
    "start_time": "2024-12-03T02:25:27.556Z"
   },
   {
    "duration": 0,
    "start_time": "2024-12-03T02:25:27.557Z"
   },
   {
    "duration": 0,
    "start_time": "2024-12-03T02:25:27.558Z"
   },
   {
    "duration": 1,
    "start_time": "2024-12-03T02:25:27.559Z"
   },
   {
    "duration": 0,
    "start_time": "2024-12-03T02:25:27.560Z"
   },
   {
    "duration": 0,
    "start_time": "2024-12-03T02:25:27.562Z"
   },
   {
    "duration": 295,
    "start_time": "2024-12-03T02:26:07.286Z"
   },
   {
    "duration": 407,
    "start_time": "2024-12-03T02:26:07.583Z"
   },
   {
    "duration": 103,
    "start_time": "2024-12-03T02:26:07.992Z"
   },
   {
    "duration": 103,
    "start_time": "2024-12-03T02:26:08.098Z"
   },
   {
    "duration": 3,
    "start_time": "2024-12-03T02:26:08.202Z"
   },
   {
    "duration": 12,
    "start_time": "2024-12-03T02:26:08.206Z"
   },
   {
    "duration": 482,
    "start_time": "2024-12-03T02:26:08.220Z"
   },
   {
    "duration": 6,
    "start_time": "2024-12-03T02:26:08.704Z"
   },
   {
    "duration": 78,
    "start_time": "2024-12-03T02:26:08.711Z"
   },
   {
    "duration": 9,
    "start_time": "2024-12-03T02:26:08.792Z"
   },
   {
    "duration": 39,
    "start_time": "2024-12-03T02:26:08.803Z"
   },
   {
    "duration": 148,
    "start_time": "2024-12-03T02:26:08.843Z"
   },
   {
    "duration": 602,
    "start_time": "2024-12-03T02:26:08.993Z"
   },
   {
    "duration": 22,
    "start_time": "2024-12-03T02:28:02.330Z"
   },
   {
    "duration": 305,
    "start_time": "2024-12-03T02:51:50.616Z"
   },
   {
    "duration": 400,
    "start_time": "2024-12-03T02:51:50.923Z"
   },
   {
    "duration": 102,
    "start_time": "2024-12-03T02:51:51.325Z"
   },
   {
    "duration": 95,
    "start_time": "2024-12-03T02:51:51.430Z"
   },
   {
    "duration": 3,
    "start_time": "2024-12-03T02:51:51.527Z"
   },
   {
    "duration": 11,
    "start_time": "2024-12-03T02:51:51.532Z"
   },
   {
    "duration": 490,
    "start_time": "2024-12-03T02:51:51.544Z"
   },
   {
    "duration": 16,
    "start_time": "2024-12-03T02:51:52.035Z"
   },
   {
    "duration": 3308,
    "start_time": "2024-12-03T02:51:52.053Z"
   },
   {
    "duration": 5,
    "start_time": "2024-12-03T02:51:55.363Z"
   },
   {
    "duration": 79,
    "start_time": "2024-12-03T02:51:55.370Z"
   },
   {
    "duration": 11,
    "start_time": "2024-12-03T02:51:55.450Z"
   },
   {
    "duration": 51,
    "start_time": "2024-12-03T02:51:55.462Z"
   },
   {
    "duration": 138,
    "start_time": "2024-12-03T02:51:55.516Z"
   },
   {
    "duration": 558,
    "start_time": "2024-12-03T02:51:55.656Z"
   },
   {
    "duration": 3319,
    "start_time": "2024-12-03T02:52:44.278Z"
   },
   {
    "duration": 292,
    "start_time": "2024-12-03T02:53:01.335Z"
   },
   {
    "duration": 398,
    "start_time": "2024-12-03T02:53:01.630Z"
   },
   {
    "duration": 107,
    "start_time": "2024-12-03T02:53:02.030Z"
   },
   {
    "duration": 95,
    "start_time": "2024-12-03T02:53:02.139Z"
   },
   {
    "duration": 3,
    "start_time": "2024-12-03T02:53:02.235Z"
   },
   {
    "duration": 12,
    "start_time": "2024-12-03T02:53:02.240Z"
   },
   {
    "duration": 476,
    "start_time": "2024-12-03T02:53:02.254Z"
   },
   {
    "duration": 16,
    "start_time": "2024-12-03T02:53:02.731Z"
   },
   {
    "duration": 3291,
    "start_time": "2024-12-03T02:53:02.749Z"
   },
   {
    "duration": 5,
    "start_time": "2024-12-03T02:53:06.043Z"
   },
   {
    "duration": 78,
    "start_time": "2024-12-03T02:53:06.050Z"
   },
   {
    "duration": 11,
    "start_time": "2024-12-03T02:53:06.130Z"
   },
   {
    "duration": 51,
    "start_time": "2024-12-03T02:53:06.142Z"
   },
   {
    "duration": 142,
    "start_time": "2024-12-03T02:53:06.196Z"
   },
   {
    "duration": 566,
    "start_time": "2024-12-03T02:53:06.339Z"
   },
   {
    "duration": 3224,
    "start_time": "2024-12-03T03:02:23.190Z"
   },
   {
    "duration": 11,
    "start_time": "2024-12-03T03:04:14.511Z"
   },
   {
    "duration": 274,
    "start_time": "2024-12-03T03:04:24.160Z"
   },
   {
    "duration": 413,
    "start_time": "2024-12-03T03:04:24.437Z"
   },
   {
    "duration": 97,
    "start_time": "2024-12-03T03:04:24.851Z"
   },
   {
    "duration": 105,
    "start_time": "2024-12-03T03:04:24.950Z"
   },
   {
    "duration": 4,
    "start_time": "2024-12-03T03:04:25.056Z"
   },
   {
    "duration": 25,
    "start_time": "2024-12-03T03:04:25.062Z"
   },
   {
    "duration": 500,
    "start_time": "2024-12-03T03:04:25.089Z"
   },
   {
    "duration": 17,
    "start_time": "2024-12-03T03:04:25.591Z"
   },
   {
    "duration": 5,
    "start_time": "2024-12-03T03:04:25.610Z"
   },
   {
    "duration": 0,
    "start_time": "2024-12-03T03:04:25.617Z"
   },
   {
    "duration": 1,
    "start_time": "2024-12-03T03:04:25.618Z"
   },
   {
    "duration": 1,
    "start_time": "2024-12-03T03:04:25.619Z"
   },
   {
    "duration": 0,
    "start_time": "2024-12-03T03:04:25.621Z"
   },
   {
    "duration": 0,
    "start_time": "2024-12-03T03:04:25.623Z"
   },
   {
    "duration": 0,
    "start_time": "2024-12-03T03:04:25.624Z"
   },
   {
    "duration": 3392,
    "start_time": "2024-12-03T03:13:11.001Z"
   },
   {
    "duration": 271,
    "start_time": "2024-12-03T03:30:00.872Z"
   },
   {
    "duration": 431,
    "start_time": "2024-12-03T03:30:01.145Z"
   },
   {
    "duration": 101,
    "start_time": "2024-12-03T03:30:01.578Z"
   },
   {
    "duration": 92,
    "start_time": "2024-12-03T03:30:01.682Z"
   },
   {
    "duration": 4,
    "start_time": "2024-12-03T03:30:01.787Z"
   },
   {
    "duration": 12,
    "start_time": "2024-12-03T03:30:01.792Z"
   },
   {
    "duration": 494,
    "start_time": "2024-12-03T03:30:01.805Z"
   },
   {
    "duration": 18,
    "start_time": "2024-12-03T03:30:02.301Z"
   },
   {
    "duration": 13,
    "start_time": "2024-12-03T03:30:02.321Z"
   },
   {
    "duration": 88,
    "start_time": "2024-12-03T03:30:02.337Z"
   },
   {
    "duration": 11,
    "start_time": "2024-12-03T03:30:02.427Z"
   },
   {
    "duration": 50,
    "start_time": "2024-12-03T03:30:02.439Z"
   },
   {
    "duration": 141,
    "start_time": "2024-12-03T03:30:02.491Z"
   },
   {
    "duration": 579,
    "start_time": "2024-12-03T03:30:02.634Z"
   },
   {
    "duration": 153,
    "start_time": "2024-12-03T03:31:46.548Z"
   },
   {
    "duration": 372,
    "start_time": "2024-12-03T03:54:27.600Z"
   },
   {
    "duration": 265,
    "start_time": "2024-12-03T03:55:04.358Z"
   },
   {
    "duration": 142,
    "start_time": "2024-12-03T03:55:12.900Z"
   },
   {
    "duration": 135,
    "start_time": "2024-12-03T03:55:39.987Z"
   },
   {
    "duration": 229,
    "start_time": "2024-12-03T03:55:46.141Z"
   },
   {
    "duration": 28,
    "start_time": "2024-12-03T03:57:01.245Z"
   },
   {
    "duration": 25,
    "start_time": "2024-12-03T03:57:12.817Z"
   },
   {
    "duration": 27,
    "start_time": "2024-12-03T03:59:51.827Z"
   },
   {
    "duration": 25,
    "start_time": "2024-12-03T04:00:04.092Z"
   },
   {
    "duration": 28,
    "start_time": "2024-12-03T04:00:09.795Z"
   },
   {
    "duration": 25,
    "start_time": "2024-12-03T04:03:24.800Z"
   },
   {
    "duration": 16,
    "start_time": "2024-12-03T04:03:58.279Z"
   },
   {
    "duration": 23,
    "start_time": "2024-12-03T04:04:56.704Z"
   },
   {
    "duration": 26,
    "start_time": "2024-12-03T04:06:24.175Z"
   },
   {
    "duration": 26,
    "start_time": "2024-12-03T04:07:13.775Z"
   },
   {
    "duration": 26,
    "start_time": "2024-12-03T04:07:49.996Z"
   },
   {
    "duration": 23,
    "start_time": "2024-12-03T04:07:58.466Z"
   },
   {
    "duration": 25,
    "start_time": "2024-12-03T04:08:05.753Z"
   },
   {
    "duration": 16,
    "start_time": "2024-12-03T04:08:31.248Z"
   },
   {
    "duration": 32,
    "start_time": "2024-12-03T04:10:09.026Z"
   },
   {
    "duration": 39,
    "start_time": "2024-12-03T04:10:14.086Z"
   },
   {
    "duration": 443,
    "start_time": "2024-12-03T04:19:44.936Z"
   },
   {
    "duration": 157,
    "start_time": "2024-12-03T04:20:02.488Z"
   },
   {
    "duration": 39,
    "start_time": "2024-12-03T04:20:11.436Z"
   },
   {
    "duration": 37,
    "start_time": "2024-12-03T04:20:39.777Z"
   },
   {
    "duration": 39,
    "start_time": "2024-12-03T04:21:11.061Z"
   },
   {
    "duration": 25,
    "start_time": "2024-12-03T04:21:47.521Z"
   },
   {
    "duration": 26,
    "start_time": "2024-12-03T04:22:02.707Z"
   },
   {
    "duration": 24,
    "start_time": "2024-12-03T04:22:14.307Z"
   },
   {
    "duration": 26,
    "start_time": "2024-12-03T04:22:21.110Z"
   },
   {
    "duration": 324,
    "start_time": "2024-12-03T17:57:21.775Z"
   },
   {
    "duration": 456,
    "start_time": "2024-12-03T17:57:22.101Z"
   },
   {
    "duration": 90,
    "start_time": "2024-12-03T17:57:22.560Z"
   },
   {
    "duration": 97,
    "start_time": "2024-12-03T17:57:22.653Z"
   },
   {
    "duration": 3,
    "start_time": "2024-12-03T17:57:22.752Z"
   },
   {
    "duration": 12,
    "start_time": "2024-12-03T17:57:22.770Z"
   },
   {
    "duration": 469,
    "start_time": "2024-12-03T17:57:22.783Z"
   },
   {
    "duration": 28,
    "start_time": "2024-12-03T17:57:23.254Z"
   },
   {
    "duration": 13,
    "start_time": "2024-12-03T17:57:23.284Z"
   },
   {
    "duration": 80,
    "start_time": "2024-12-03T17:57:23.299Z"
   },
   {
    "duration": 11,
    "start_time": "2024-12-03T17:57:23.380Z"
   },
   {
    "duration": 36,
    "start_time": "2024-12-03T17:57:23.393Z"
   },
   {
    "duration": 169,
    "start_time": "2024-12-03T17:57:23.431Z"
   },
   {
    "duration": 186,
    "start_time": "2024-12-03T17:57:23.602Z"
   },
   {
    "duration": 0,
    "start_time": "2024-12-03T17:57:23.791Z"
   },
   {
    "duration": 0,
    "start_time": "2024-12-03T17:57:23.793Z"
   },
   {
    "duration": 0,
    "start_time": "2024-12-03T17:57:23.794Z"
   },
   {
    "duration": 234,
    "start_time": "2024-12-03T17:58:00.806Z"
   },
   {
    "duration": 274,
    "start_time": "2024-12-03T17:58:09.560Z"
   },
   {
    "duration": 414,
    "start_time": "2024-12-03T17:58:09.836Z"
   },
   {
    "duration": 106,
    "start_time": "2024-12-03T17:58:10.252Z"
   },
   {
    "duration": 96,
    "start_time": "2024-12-03T17:58:10.360Z"
   },
   {
    "duration": 3,
    "start_time": "2024-12-03T17:58:10.458Z"
   },
   {
    "duration": 12,
    "start_time": "2024-12-03T17:58:10.470Z"
   },
   {
    "duration": 472,
    "start_time": "2024-12-03T17:58:10.484Z"
   },
   {
    "duration": 22,
    "start_time": "2024-12-03T17:58:10.958Z"
   },
   {
    "duration": 14,
    "start_time": "2024-12-03T17:58:10.981Z"
   },
   {
    "duration": 83,
    "start_time": "2024-12-03T17:58:10.998Z"
   },
   {
    "duration": 10,
    "start_time": "2024-12-03T17:58:11.082Z"
   },
   {
    "duration": 36,
    "start_time": "2024-12-03T17:58:11.094Z"
   },
   {
    "duration": 166,
    "start_time": "2024-12-03T17:58:11.132Z"
   },
   {
    "duration": 246,
    "start_time": "2024-12-03T17:58:11.300Z"
   },
   {
    "duration": 42,
    "start_time": "2024-12-03T17:58:11.548Z"
   },
   {
    "duration": 550,
    "start_time": "2024-12-03T17:58:11.591Z"
   },
   {
    "duration": 0,
    "start_time": "2024-12-03T17:58:12.143Z"
   },
   {
    "duration": 121,
    "start_time": "2024-12-03T17:58:46.943Z"
   },
   {
    "duration": 381,
    "start_time": "2024-12-03T18:00:45.593Z"
   },
   {
    "duration": 324,
    "start_time": "2024-12-03T18:01:14.358Z"
   },
   {
    "duration": 367,
    "start_time": "2024-12-03T18:01:21.385Z"
   },
   {
    "duration": 39,
    "start_time": "2024-12-03T18:01:47.577Z"
   },
   {
    "duration": 351,
    "start_time": "2024-12-03T18:02:29.319Z"
   },
   {
    "duration": 42,
    "start_time": "2024-12-03T18:02:35.364Z"
   },
   {
    "duration": 299,
    "start_time": "2024-12-03T18:05:59.113Z"
   },
   {
    "duration": 411,
    "start_time": "2024-12-03T18:05:59.414Z"
   },
   {
    "duration": 101,
    "start_time": "2024-12-03T18:05:59.826Z"
   },
   {
    "duration": 100,
    "start_time": "2024-12-03T18:05:59.930Z"
   },
   {
    "duration": 3,
    "start_time": "2024-12-03T18:06:00.032Z"
   },
   {
    "duration": 11,
    "start_time": "2024-12-03T18:06:00.037Z"
   },
   {
    "duration": 469,
    "start_time": "2024-12-03T18:06:00.049Z"
   },
   {
    "duration": 16,
    "start_time": "2024-12-03T18:06:00.520Z"
   },
   {
    "duration": 13,
    "start_time": "2024-12-03T18:06:00.538Z"
   },
   {
    "duration": 68,
    "start_time": "2024-12-03T18:06:00.570Z"
   },
   {
    "duration": 10,
    "start_time": "2024-12-03T18:06:00.640Z"
   },
   {
    "duration": 52,
    "start_time": "2024-12-03T18:06:00.651Z"
   },
   {
    "duration": 159,
    "start_time": "2024-12-03T18:06:00.705Z"
   },
   {
    "duration": 239,
    "start_time": "2024-12-03T18:06:00.866Z"
   },
   {
    "duration": 38,
    "start_time": "2024-12-03T18:06:01.107Z"
   },
   {
    "duration": 358,
    "start_time": "2024-12-03T18:06:01.147Z"
   },
   {
    "duration": 623,
    "start_time": "2024-12-03T18:06:01.508Z"
   },
   {
    "duration": 44,
    "start_time": "2024-12-03T18:07:00.883Z"
   },
   {
    "duration": 345,
    "start_time": "2024-12-03T18:08:38.830Z"
   },
   {
    "duration": 41,
    "start_time": "2024-12-03T18:08:45.161Z"
   },
   {
    "duration": 309,
    "start_time": "2024-12-03T18:12:14.096Z"
   },
   {
    "duration": 406,
    "start_time": "2024-12-03T18:12:14.407Z"
   },
   {
    "duration": 91,
    "start_time": "2024-12-03T18:12:14.814Z"
   },
   {
    "duration": 96,
    "start_time": "2024-12-03T18:12:14.908Z"
   },
   {
    "duration": 4,
    "start_time": "2024-12-03T18:12:15.006Z"
   },
   {
    "duration": 12,
    "start_time": "2024-12-03T18:12:15.011Z"
   },
   {
    "duration": 487,
    "start_time": "2024-12-03T18:12:15.024Z"
   },
   {
    "duration": 16,
    "start_time": "2024-12-03T18:12:15.512Z"
   },
   {
    "duration": 13,
    "start_time": "2024-12-03T18:12:15.530Z"
   },
   {
    "duration": 87,
    "start_time": "2024-12-03T18:12:15.547Z"
   },
   {
    "duration": 11,
    "start_time": "2024-12-03T18:12:15.635Z"
   },
   {
    "duration": 50,
    "start_time": "2024-12-03T18:12:15.647Z"
   },
   {
    "duration": 154,
    "start_time": "2024-12-03T18:12:15.699Z"
   },
   {
    "duration": 229,
    "start_time": "2024-12-03T18:12:15.855Z"
   },
   {
    "duration": 50,
    "start_time": "2024-12-03T18:12:16.086Z"
   },
   {
    "duration": 2,
    "start_time": "2024-12-03T18:12:16.139Z"
   },
   {
    "duration": 642,
    "start_time": "2024-12-03T18:12:16.143Z"
   },
   {
    "duration": 451,
    "start_time": "2024-12-03T18:19:54.756Z"
   },
   {
    "duration": 40,
    "start_time": "2024-12-03T18:20:08.024Z"
   },
   {
    "duration": 13,
    "start_time": "2024-12-03T18:22:08.649Z"
   },
   {
    "duration": 27,
    "start_time": "2024-12-03T18:22:20.375Z"
   },
   {
    "duration": 28,
    "start_time": "2024-12-03T18:22:42.736Z"
   },
   {
    "duration": 52,
    "start_time": "2024-12-03T18:23:08.465Z"
   },
   {
    "duration": 66,
    "start_time": "2024-12-03T18:23:48.320Z"
   },
   {
    "duration": 20,
    "start_time": "2024-12-03T18:24:41.817Z"
   },
   {
    "duration": 75,
    "start_time": "2024-12-03T18:24:47.480Z"
   },
   {
    "duration": 75,
    "start_time": "2024-12-03T18:25:09.934Z"
   },
   {
    "duration": 153,
    "start_time": "2024-12-03T18:25:27.792Z"
   },
   {
    "duration": 72,
    "start_time": "2024-12-03T18:25:42.779Z"
   },
   {
    "duration": 74,
    "start_time": "2024-12-03T18:27:18.687Z"
   },
   {
    "duration": 48,
    "start_time": "2024-12-03T18:27:57.990Z"
   },
   {
    "duration": 47,
    "start_time": "2024-12-03T18:28:11.083Z"
   },
   {
    "duration": 60,
    "start_time": "2024-12-03T18:28:27.040Z"
   },
   {
    "duration": 71,
    "start_time": "2024-12-03T18:28:51.684Z"
   },
   {
    "duration": 71,
    "start_time": "2024-12-03T18:28:57.577Z"
   },
   {
    "duration": 174,
    "start_time": "2024-12-03T19:48:55.639Z"
   },
   {
    "duration": 293,
    "start_time": "2024-12-03T19:49:05.233Z"
   },
   {
    "duration": 441,
    "start_time": "2024-12-03T19:49:05.528Z"
   },
   {
    "duration": 102,
    "start_time": "2024-12-03T19:49:05.971Z"
   },
   {
    "duration": 97,
    "start_time": "2024-12-03T19:49:06.075Z"
   },
   {
    "duration": 12,
    "start_time": "2024-12-03T19:49:06.174Z"
   },
   {
    "duration": 12,
    "start_time": "2024-12-03T19:49:06.188Z"
   },
   {
    "duration": 485,
    "start_time": "2024-12-03T19:49:06.201Z"
   },
   {
    "duration": 17,
    "start_time": "2024-12-03T19:49:06.688Z"
   },
   {
    "duration": 13,
    "start_time": "2024-12-03T19:49:06.707Z"
   },
   {
    "duration": 88,
    "start_time": "2024-12-03T19:49:06.723Z"
   },
   {
    "duration": 10,
    "start_time": "2024-12-03T19:49:06.813Z"
   },
   {
    "duration": 36,
    "start_time": "2024-12-03T19:49:06.825Z"
   },
   {
    "duration": 161,
    "start_time": "2024-12-03T19:49:06.863Z"
   },
   {
    "duration": 241,
    "start_time": "2024-12-03T19:49:07.028Z"
   },
   {
    "duration": 183,
    "start_time": "2024-12-03T19:49:07.271Z"
   },
   {
    "duration": 0,
    "start_time": "2024-12-03T19:49:07.456Z"
   },
   {
    "duration": 0,
    "start_time": "2024-12-03T19:49:07.458Z"
   },
   {
    "duration": 50,
    "start_time": "2024-12-03T19:49:27.069Z"
   },
   {
    "duration": 39,
    "start_time": "2024-12-03T19:49:41.493Z"
   },
   {
    "duration": 149,
    "start_time": "2024-12-03T19:54:54.979Z"
   },
   {
    "duration": 60,
    "start_time": "2024-12-03T19:55:06.856Z"
   },
   {
    "duration": 52,
    "start_time": "2024-12-03T19:55:39.722Z"
   },
   {
    "duration": 18,
    "start_time": "2024-12-03T19:56:49.211Z"
   },
   {
    "duration": 42,
    "start_time": "2024-12-03T20:06:07.491Z"
   },
   {
    "duration": 40,
    "start_time": "2024-12-03T20:06:47.123Z"
   },
   {
    "duration": 24,
    "start_time": "2024-12-03T20:09:36.196Z"
   },
   {
    "duration": 263,
    "start_time": "2024-12-03T20:13:12.199Z"
   },
   {
    "duration": 17,
    "start_time": "2024-12-03T20:13:19.030Z"
   },
   {
    "duration": 83,
    "start_time": "2024-12-03T20:13:26.071Z"
   },
   {
    "duration": 166,
    "start_time": "2024-12-03T20:14:25.470Z"
   },
   {
    "duration": 221,
    "start_time": "2024-12-03T20:16:57.578Z"
   },
   {
    "duration": 13,
    "start_time": "2024-12-03T20:19:19.415Z"
   },
   {
    "duration": 25,
    "start_time": "2024-12-03T20:19:51.523Z"
   },
   {
    "duration": 30,
    "start_time": "2024-12-03T20:23:31.186Z"
   },
   {
    "duration": 24,
    "start_time": "2024-12-03T20:23:44.308Z"
   },
   {
    "duration": 25,
    "start_time": "2024-12-03T20:24:02.626Z"
   },
   {
    "duration": 32,
    "start_time": "2024-12-03T20:29:02.176Z"
   },
   {
    "duration": 32,
    "start_time": "2024-12-03T20:29:16.298Z"
   },
   {
    "duration": 33,
    "start_time": "2024-12-03T20:30:27.538Z"
   },
   {
    "duration": 32,
    "start_time": "2024-12-03T20:30:43.604Z"
   },
   {
    "duration": 34,
    "start_time": "2024-12-03T20:31:49.690Z"
   },
   {
    "duration": 32,
    "start_time": "2024-12-03T20:32:11.630Z"
   },
   {
    "duration": 35,
    "start_time": "2024-12-03T20:32:43.386Z"
   },
   {
    "duration": 36,
    "start_time": "2024-12-03T20:33:04.470Z"
   },
   {
    "duration": 31,
    "start_time": "2024-12-03T20:33:11.091Z"
   },
   {
    "duration": 34,
    "start_time": "2024-12-03T20:33:18.484Z"
   },
   {
    "duration": 33,
    "start_time": "2024-12-03T20:33:21.551Z"
   },
   {
    "duration": 51,
    "start_time": "2024-12-03T20:33:27.144Z"
   },
   {
    "duration": 37,
    "start_time": "2024-12-03T20:33:29.555Z"
   },
   {
    "duration": 33,
    "start_time": "2024-12-03T20:33:36.199Z"
   },
   {
    "duration": 35,
    "start_time": "2024-12-03T20:34:02.831Z"
   },
   {
    "duration": 35,
    "start_time": "2024-12-03T20:34:15.198Z"
   },
   {
    "duration": 6,
    "start_time": "2024-12-03T20:35:01.467Z"
   },
   {
    "duration": 34,
    "start_time": "2024-12-03T20:35:07.952Z"
   },
   {
    "duration": 35,
    "start_time": "2024-12-03T20:35:20.342Z"
   },
   {
    "duration": 109,
    "start_time": "2024-12-03T20:35:31.278Z"
   },
   {
    "duration": 844,
    "start_time": "2024-12-03T20:36:16.754Z"
   },
   {
    "duration": 84,
    "start_time": "2024-12-03T20:36:27.104Z"
   },
   {
    "duration": 106,
    "start_time": "2024-12-03T20:36:40.128Z"
   },
   {
    "duration": 111,
    "start_time": "2024-12-03T20:36:43.262Z"
   },
   {
    "duration": 107,
    "start_time": "2024-12-03T20:36:53.590Z"
   },
   {
    "duration": 174,
    "start_time": "2024-12-03T20:37:54.550Z"
   },
   {
    "duration": 83,
    "start_time": "2024-12-03T20:38:13.903Z"
   },
   {
    "duration": 106,
    "start_time": "2024-12-03T20:38:24.591Z"
   },
   {
    "duration": 108,
    "start_time": "2024-12-03T20:38:58.978Z"
   },
   {
    "duration": 35,
    "start_time": "2024-12-03T20:41:59.143Z"
   },
   {
    "duration": 36,
    "start_time": "2024-12-03T20:42:27.474Z"
   },
   {
    "duration": 35,
    "start_time": "2024-12-03T20:42:40.843Z"
   },
   {
    "duration": 53,
    "start_time": "2024-12-03T20:45:15.284Z"
   },
   {
    "duration": 38,
    "start_time": "2024-12-03T20:45:31.129Z"
   },
   {
    "duration": 37,
    "start_time": "2024-12-03T20:45:37.171Z"
   },
   {
    "duration": 35,
    "start_time": "2024-12-03T20:46:32.463Z"
   },
   {
    "duration": 38,
    "start_time": "2024-12-03T20:46:41.370Z"
   },
   {
    "duration": 35,
    "start_time": "2024-12-03T20:47:08.061Z"
   },
   {
    "duration": 39,
    "start_time": "2024-12-03T20:49:48.125Z"
   },
   {
    "duration": 36,
    "start_time": "2024-12-03T20:49:57.602Z"
   },
   {
    "duration": 35,
    "start_time": "2024-12-03T20:52:52.785Z"
   },
   {
    "duration": 34,
    "start_time": "2024-12-03T20:53:40.265Z"
   },
   {
    "duration": 1495,
    "start_time": "2024-12-03T20:59:48.614Z"
   },
   {
    "duration": 297,
    "start_time": "2024-12-03T21:04:34.724Z"
   },
   {
    "duration": 408,
    "start_time": "2024-12-03T21:04:35.024Z"
   },
   {
    "duration": 100,
    "start_time": "2024-12-03T21:04:35.434Z"
   },
   {
    "duration": 101,
    "start_time": "2024-12-03T21:04:35.536Z"
   },
   {
    "duration": 4,
    "start_time": "2024-12-03T21:04:35.639Z"
   },
   {
    "duration": 11,
    "start_time": "2024-12-03T21:04:35.645Z"
   },
   {
    "duration": 485,
    "start_time": "2024-12-03T21:04:35.658Z"
   },
   {
    "duration": 15,
    "start_time": "2024-12-03T21:04:36.145Z"
   },
   {
    "duration": 25,
    "start_time": "2024-12-03T21:04:36.162Z"
   },
   {
    "duration": 69,
    "start_time": "2024-12-03T21:04:36.189Z"
   },
   {
    "duration": 10,
    "start_time": "2024-12-03T21:04:36.260Z"
   },
   {
    "duration": 37,
    "start_time": "2024-12-03T21:04:36.287Z"
   },
   {
    "duration": 156,
    "start_time": "2024-12-03T21:04:36.326Z"
   },
   {
    "duration": 43,
    "start_time": "2024-12-03T21:04:36.489Z"
   },
   {
    "duration": 24,
    "start_time": "2024-12-03T21:04:36.533Z"
   },
   {
    "duration": 288,
    "start_time": "2024-12-03T21:04:36.559Z"
   },
   {
    "duration": 44,
    "start_time": "2024-12-03T21:04:36.849Z"
   },
   {
    "duration": 1535,
    "start_time": "2024-12-03T21:04:36.895Z"
   },
   {
    "duration": 1080,
    "start_time": "2024-12-03T21:04:38.432Z"
   },
   {
    "duration": 65,
    "start_time": "2024-12-03T21:28:44.265Z"
   },
   {
    "duration": 39,
    "start_time": "2024-12-03T21:28:53.965Z"
   },
   {
    "duration": 342,
    "start_time": "2024-12-03T21:29:04.807Z"
   },
   {
    "duration": 396,
    "start_time": "2024-12-03T21:29:05.151Z"
   },
   {
    "duration": 95,
    "start_time": "2024-12-03T21:29:05.549Z"
   },
   {
    "duration": 92,
    "start_time": "2024-12-03T21:29:05.646Z"
   },
   {
    "duration": 3,
    "start_time": "2024-12-03T21:29:05.741Z"
   },
   {
    "duration": 12,
    "start_time": "2024-12-03T21:29:05.745Z"
   },
   {
    "duration": 511,
    "start_time": "2024-12-03T21:29:05.759Z"
   },
   {
    "duration": 28,
    "start_time": "2024-12-03T21:29:06.272Z"
   },
   {
    "duration": 14,
    "start_time": "2024-12-03T21:29:06.301Z"
   },
   {
    "duration": 82,
    "start_time": "2024-12-03T21:29:06.316Z"
   },
   {
    "duration": 10,
    "start_time": "2024-12-03T21:29:06.401Z"
   },
   {
    "duration": 38,
    "start_time": "2024-12-03T21:29:06.413Z"
   },
   {
    "duration": 159,
    "start_time": "2024-12-03T21:29:06.453Z"
   },
   {
    "duration": 45,
    "start_time": "2024-12-03T21:29:06.615Z"
   },
   {
    "duration": 37,
    "start_time": "2024-12-03T21:29:06.662Z"
   },
   {
    "duration": 279,
    "start_time": "2024-12-03T21:29:06.701Z"
   },
   {
    "duration": 38,
    "start_time": "2024-12-03T21:29:06.982Z"
   },
   {
    "duration": 84,
    "start_time": "2024-12-03T21:29:07.022Z"
   },
   {
    "duration": 1519,
    "start_time": "2024-12-03T21:29:07.108Z"
   },
   {
    "duration": 1039,
    "start_time": "2024-12-03T21:29:08.629Z"
   },
   {
    "duration": 281,
    "start_time": "2024-12-03T21:29:39.880Z"
   },
   {
    "duration": 401,
    "start_time": "2024-12-03T21:29:40.163Z"
   },
   {
    "duration": 100,
    "start_time": "2024-12-03T21:29:40.567Z"
   },
   {
    "duration": 99,
    "start_time": "2024-12-03T21:29:40.670Z"
   },
   {
    "duration": 4,
    "start_time": "2024-12-03T21:29:40.770Z"
   },
   {
    "duration": 19,
    "start_time": "2024-12-03T21:29:40.776Z"
   },
   {
    "duration": 483,
    "start_time": "2024-12-03T21:29:40.797Z"
   },
   {
    "duration": 19,
    "start_time": "2024-12-03T21:29:41.282Z"
   },
   {
    "duration": 13,
    "start_time": "2024-12-03T21:29:41.303Z"
   },
   {
    "duration": 85,
    "start_time": "2024-12-03T21:29:41.319Z"
   },
   {
    "duration": 10,
    "start_time": "2024-12-03T21:29:41.406Z"
   },
   {
    "duration": 38,
    "start_time": "2024-12-03T21:29:41.418Z"
   },
   {
    "duration": 169,
    "start_time": "2024-12-03T21:29:41.457Z"
   },
   {
    "duration": 43,
    "start_time": "2024-12-03T21:29:41.628Z"
   },
   {
    "duration": 32,
    "start_time": "2024-12-03T21:29:41.673Z"
   },
   {
    "duration": 283,
    "start_time": "2024-12-03T21:29:41.706Z"
   },
   {
    "duration": 39,
    "start_time": "2024-12-03T21:29:41.991Z"
   },
   {
    "duration": 139,
    "start_time": "2024-12-03T21:29:42.032Z"
   },
   {
    "duration": 1550,
    "start_time": "2024-12-03T21:29:42.173Z"
   },
   {
    "duration": 1063,
    "start_time": "2024-12-03T21:29:43.724Z"
   },
   {
    "duration": 319,
    "start_time": "2024-12-03T21:32:10.816Z"
   },
   {
    "duration": 395,
    "start_time": "2024-12-03T21:32:11.137Z"
   },
   {
    "duration": 96,
    "start_time": "2024-12-03T21:32:11.534Z"
   },
   {
    "duration": 97,
    "start_time": "2024-12-03T21:32:11.633Z"
   },
   {
    "duration": 3,
    "start_time": "2024-12-03T21:32:11.731Z"
   },
   {
    "duration": 12,
    "start_time": "2024-12-03T21:32:11.736Z"
   },
   {
    "duration": 501,
    "start_time": "2024-12-03T21:32:11.749Z"
   },
   {
    "duration": 18,
    "start_time": "2024-12-03T21:32:12.252Z"
   },
   {
    "duration": 25,
    "start_time": "2024-12-03T21:32:12.272Z"
   },
   {
    "duration": 69,
    "start_time": "2024-12-03T21:32:12.300Z"
   },
   {
    "duration": 23,
    "start_time": "2024-12-03T21:32:12.371Z"
   },
   {
    "duration": 39,
    "start_time": "2024-12-03T21:32:12.396Z"
   },
   {
    "duration": 156,
    "start_time": "2024-12-03T21:32:12.436Z"
   },
   {
    "duration": 42,
    "start_time": "2024-12-03T21:32:12.594Z"
   },
   {
    "duration": 25,
    "start_time": "2024-12-03T21:32:12.638Z"
   },
   {
    "duration": 292,
    "start_time": "2024-12-03T21:32:12.665Z"
   },
   {
    "duration": 45,
    "start_time": "2024-12-03T21:32:12.958Z"
   },
   {
    "duration": 69,
    "start_time": "2024-12-03T21:32:13.004Z"
   },
   {
    "duration": 1503,
    "start_time": "2024-12-03T21:32:13.075Z"
   },
   {
    "duration": 1070,
    "start_time": "2024-12-03T21:32:14.580Z"
   },
   {
    "duration": 290,
    "start_time": "2024-12-03T21:37:53.082Z"
   },
   {
    "duration": 417,
    "start_time": "2024-12-03T21:37:53.374Z"
   },
   {
    "duration": 97,
    "start_time": "2024-12-03T21:37:53.793Z"
   },
   {
    "duration": 94,
    "start_time": "2024-12-03T21:37:53.893Z"
   },
   {
    "duration": 3,
    "start_time": "2024-12-03T21:37:53.989Z"
   },
   {
    "duration": 12,
    "start_time": "2024-12-03T21:37:53.994Z"
   },
   {
    "duration": 483,
    "start_time": "2024-12-03T21:37:54.007Z"
   },
   {
    "duration": 16,
    "start_time": "2024-12-03T21:37:54.493Z"
   },
   {
    "duration": 14,
    "start_time": "2024-12-03T21:37:54.510Z"
   },
   {
    "duration": 80,
    "start_time": "2024-12-03T21:37:54.526Z"
   },
   {
    "duration": 10,
    "start_time": "2024-12-03T21:37:54.608Z"
   },
   {
    "duration": 39,
    "start_time": "2024-12-03T21:37:54.619Z"
   },
   {
    "duration": 163,
    "start_time": "2024-12-03T21:37:54.660Z"
   },
   {
    "duration": 43,
    "start_time": "2024-12-03T21:37:54.825Z"
   },
   {
    "duration": 34,
    "start_time": "2024-12-03T21:37:54.869Z"
   },
   {
    "duration": 286,
    "start_time": "2024-12-03T21:37:54.904Z"
   },
   {
    "duration": 38,
    "start_time": "2024-12-03T21:37:55.192Z"
   },
   {
    "duration": 5,
    "start_time": "2024-12-03T21:37:55.231Z"
   },
   {
    "duration": 0,
    "start_time": "2024-12-03T21:37:55.237Z"
   },
   {
    "duration": 0,
    "start_time": "2024-12-03T21:37:55.239Z"
   },
   {
    "duration": 91,
    "start_time": "2024-12-03T21:38:10.010Z"
   },
   {
    "duration": 330,
    "start_time": "2024-12-03T21:38:17.998Z"
   },
   {
    "duration": 400,
    "start_time": "2024-12-03T21:38:18.330Z"
   },
   {
    "duration": 100,
    "start_time": "2024-12-03T21:38:18.731Z"
   },
   {
    "duration": 99,
    "start_time": "2024-12-03T21:38:18.834Z"
   },
   {
    "duration": 3,
    "start_time": "2024-12-03T21:38:18.935Z"
   },
   {
    "duration": 11,
    "start_time": "2024-12-03T21:38:18.940Z"
   },
   {
    "duration": 501,
    "start_time": "2024-12-03T21:38:18.953Z"
   },
   {
    "duration": 17,
    "start_time": "2024-12-03T21:38:19.456Z"
   },
   {
    "duration": 21,
    "start_time": "2024-12-03T21:38:19.476Z"
   },
   {
    "duration": 68,
    "start_time": "2024-12-03T21:38:19.500Z"
   },
   {
    "duration": 23,
    "start_time": "2024-12-03T21:38:19.569Z"
   },
   {
    "duration": 36,
    "start_time": "2024-12-03T21:38:19.594Z"
   },
   {
    "duration": 161,
    "start_time": "2024-12-03T21:38:19.632Z"
   },
   {
    "duration": 44,
    "start_time": "2024-12-03T21:38:19.795Z"
   },
   {
    "duration": 24,
    "start_time": "2024-12-03T21:38:19.841Z"
   },
   {
    "duration": 296,
    "start_time": "2024-12-03T21:38:19.866Z"
   },
   {
    "duration": 55,
    "start_time": "2024-12-03T21:38:20.163Z"
   },
   {
    "duration": 107,
    "start_time": "2024-12-03T21:38:20.220Z"
   },
   {
    "duration": 1465,
    "start_time": "2024-12-03T21:38:20.328Z"
   },
   {
    "duration": 1092,
    "start_time": "2024-12-03T21:38:21.795Z"
   },
   {
    "duration": 341,
    "start_time": "2024-12-03T21:40:18.524Z"
   },
   {
    "duration": 424,
    "start_time": "2024-12-03T21:40:18.868Z"
   },
   {
    "duration": 94,
    "start_time": "2024-12-03T21:40:19.295Z"
   },
   {
    "duration": 111,
    "start_time": "2024-12-03T21:40:19.391Z"
   },
   {
    "duration": 4,
    "start_time": "2024-12-03T21:40:19.505Z"
   },
   {
    "duration": 12,
    "start_time": "2024-12-03T21:40:19.511Z"
   },
   {
    "duration": 535,
    "start_time": "2024-12-03T21:40:19.525Z"
   },
   {
    "duration": 18,
    "start_time": "2024-12-03T21:40:20.064Z"
   },
   {
    "duration": 13,
    "start_time": "2024-12-03T21:40:20.087Z"
   },
   {
    "duration": 68,
    "start_time": "2024-12-03T21:40:20.103Z"
   },
   {
    "duration": 11,
    "start_time": "2024-12-03T21:40:20.186Z"
   },
   {
    "duration": 38,
    "start_time": "2024-12-03T21:40:20.199Z"
   },
   {
    "duration": 161,
    "start_time": "2024-12-03T21:40:20.239Z"
   },
   {
    "duration": 44,
    "start_time": "2024-12-03T21:40:20.403Z"
   },
   {
    "duration": 37,
    "start_time": "2024-12-03T21:40:20.449Z"
   },
   {
    "duration": 232,
    "start_time": "2024-12-03T21:40:20.488Z"
   },
   {
    "duration": 38,
    "start_time": "2024-12-03T21:40:20.722Z"
   },
   {
    "duration": 118,
    "start_time": "2024-12-03T21:40:20.762Z"
   },
   {
    "duration": 1465,
    "start_time": "2024-12-03T21:40:20.882Z"
   },
   {
    "duration": 615,
    "start_time": "2024-12-03T21:40:22.349Z"
   },
   {
    "duration": 154,
    "start_time": "2024-12-04T01:22:34.337Z"
   },
   {
    "duration": 316,
    "start_time": "2024-12-04T01:22:43.732Z"
   },
   {
    "duration": 448,
    "start_time": "2024-12-04T01:22:44.050Z"
   },
   {
    "duration": 105,
    "start_time": "2024-12-04T01:22:44.500Z"
   },
   {
    "duration": 100,
    "start_time": "2024-12-04T01:22:44.608Z"
   },
   {
    "duration": 4,
    "start_time": "2024-12-04T01:22:44.709Z"
   },
   {
    "duration": 11,
    "start_time": "2024-12-04T01:22:44.715Z"
   },
   {
    "duration": 469,
    "start_time": "2024-12-04T01:22:44.728Z"
   },
   {
    "duration": 21,
    "start_time": "2024-12-04T01:22:45.198Z"
   },
   {
    "duration": 12,
    "start_time": "2024-12-04T01:22:45.221Z"
   },
   {
    "duration": 88,
    "start_time": "2024-12-04T01:22:45.236Z"
   },
   {
    "duration": 10,
    "start_time": "2024-12-04T01:22:45.325Z"
   },
   {
    "duration": 35,
    "start_time": "2024-12-04T01:22:45.337Z"
   },
   {
    "duration": 162,
    "start_time": "2024-12-04T01:22:45.374Z"
   },
   {
    "duration": 44,
    "start_time": "2024-12-04T01:22:45.538Z"
   },
   {
    "duration": 44,
    "start_time": "2024-12-04T01:22:45.584Z"
   },
   {
    "duration": 227,
    "start_time": "2024-12-04T01:22:45.632Z"
   },
   {
    "duration": 52,
    "start_time": "2024-12-04T01:22:45.861Z"
   },
   {
    "duration": 92,
    "start_time": "2024-12-04T01:22:45.914Z"
   },
   {
    "duration": 1460,
    "start_time": "2024-12-04T01:22:46.008Z"
   },
   {
    "duration": 100,
    "start_time": "2024-12-04T01:22:47.469Z"
   },
   {
    "duration": 599,
    "start_time": "2024-12-04T01:22:47.571Z"
   },
   {
    "duration": 77,
    "start_time": "2024-12-04T01:23:35.021Z"
   },
   {
    "duration": 3,
    "start_time": "2024-12-04T01:34:04.394Z"
   },
   {
    "duration": 280,
    "start_time": "2024-12-04T01:35:12.065Z"
   },
   {
    "duration": 450,
    "start_time": "2024-12-04T01:35:12.347Z"
   },
   {
    "duration": 100,
    "start_time": "2024-12-04T01:35:12.799Z"
   },
   {
    "duration": 103,
    "start_time": "2024-12-04T01:35:12.906Z"
   },
   {
    "duration": 6,
    "start_time": "2024-12-04T01:35:13.012Z"
   },
   {
    "duration": 12,
    "start_time": "2024-12-04T01:35:13.019Z"
   },
   {
    "duration": 475,
    "start_time": "2024-12-04T01:35:13.033Z"
   },
   {
    "duration": 15,
    "start_time": "2024-12-04T01:35:13.510Z"
   },
   {
    "duration": 12,
    "start_time": "2024-12-04T01:35:13.527Z"
   },
   {
    "duration": 84,
    "start_time": "2024-12-04T01:35:13.541Z"
   },
   {
    "duration": 10,
    "start_time": "2024-12-04T01:35:13.626Z"
   },
   {
    "duration": 37,
    "start_time": "2024-12-04T01:35:13.638Z"
   },
   {
    "duration": 58,
    "start_time": "2024-12-04T01:35:13.677Z"
   },
   {
    "duration": 25,
    "start_time": "2024-12-04T01:35:13.738Z"
   },
   {
    "duration": 3,
    "start_time": "2024-12-04T01:35:13.764Z"
   },
   {
    "duration": 61,
    "start_time": "2024-12-04T01:35:13.768Z"
   },
   {
    "duration": 99,
    "start_time": "2024-12-04T01:35:13.830Z"
   },
   {
    "duration": 1429,
    "start_time": "2024-12-04T01:35:13.930Z"
   },
   {
    "duration": 157,
    "start_time": "2024-12-04T01:35:15.361Z"
   },
   {
    "duration": 85,
    "start_time": "2024-12-04T01:35:15.520Z"
   },
   {
    "duration": 641,
    "start_time": "2024-12-04T01:35:15.607Z"
   },
   {
    "duration": 1468,
    "start_time": "2024-12-04T01:47:09.291Z"
   },
   {
    "duration": 341,
    "start_time": "2024-12-04T01:48:15.639Z"
   },
   {
    "duration": 448,
    "start_time": "2024-12-04T01:48:15.982Z"
   },
   {
    "duration": 107,
    "start_time": "2024-12-04T01:48:16.432Z"
   },
   {
    "duration": 105,
    "start_time": "2024-12-04T01:48:16.541Z"
   },
   {
    "duration": 3,
    "start_time": "2024-12-04T01:48:16.648Z"
   },
   {
    "duration": 12,
    "start_time": "2024-12-04T01:48:16.653Z"
   },
   {
    "duration": 497,
    "start_time": "2024-12-04T01:48:16.666Z"
   },
   {
    "duration": 6,
    "start_time": "2024-12-04T01:48:17.165Z"
   },
   {
    "duration": 1134,
    "start_time": "2024-12-04T01:48:17.173Z"
   },
   {
    "duration": 0,
    "start_time": "2024-12-04T01:48:18.309Z"
   },
   {
    "duration": 0,
    "start_time": "2024-12-04T01:48:18.310Z"
   },
   {
    "duration": 0,
    "start_time": "2024-12-04T01:48:18.311Z"
   },
   {
    "duration": 0,
    "start_time": "2024-12-04T01:48:18.312Z"
   },
   {
    "duration": 0,
    "start_time": "2024-12-04T01:48:18.313Z"
   },
   {
    "duration": 0,
    "start_time": "2024-12-04T01:48:18.314Z"
   },
   {
    "duration": 0,
    "start_time": "2024-12-04T01:48:18.315Z"
   },
   {
    "duration": 0,
    "start_time": "2024-12-04T01:48:18.316Z"
   },
   {
    "duration": 0,
    "start_time": "2024-12-04T01:48:18.317Z"
   },
   {
    "duration": 0,
    "start_time": "2024-12-04T01:48:18.319Z"
   },
   {
    "duration": 0,
    "start_time": "2024-12-04T01:48:18.320Z"
   },
   {
    "duration": 0,
    "start_time": "2024-12-04T01:48:18.321Z"
   },
   {
    "duration": 0,
    "start_time": "2024-12-04T01:48:18.323Z"
   },
   {
    "duration": 804,
    "start_time": "2024-12-04T01:50:11.660Z"
   },
   {
    "duration": 33,
    "start_time": "2024-12-04T01:50:32.409Z"
   },
   {
    "duration": 10,
    "start_time": "2024-12-04T01:51:16.461Z"
   },
   {
    "duration": 13,
    "start_time": "2024-12-04T01:51:29.625Z"
   },
   {
    "duration": 762,
    "start_time": "2024-12-04T01:52:53.318Z"
   },
   {
    "duration": 693,
    "start_time": "2024-12-04T01:53:05.902Z"
   },
   {
    "duration": 883,
    "start_time": "2024-12-04T01:53:10.857Z"
   },
   {
    "duration": 17,
    "start_time": "2024-12-04T01:53:52.416Z"
   },
   {
    "duration": 48,
    "start_time": "2024-12-04T02:03:26.602Z"
   },
   {
    "duration": 41,
    "start_time": "2024-12-04T02:03:39.343Z"
   },
   {
    "duration": 8,
    "start_time": "2024-12-04T02:04:52.614Z"
   },
   {
    "duration": 7,
    "start_time": "2024-12-04T02:05:48.821Z"
   },
   {
    "duration": 316,
    "start_time": "2024-12-04T02:06:20.531Z"
   },
   {
    "duration": 414,
    "start_time": "2024-12-04T02:06:20.850Z"
   },
   {
    "duration": 96,
    "start_time": "2024-12-04T02:06:21.266Z"
   },
   {
    "duration": 95,
    "start_time": "2024-12-04T02:06:21.364Z"
   },
   {
    "duration": 3,
    "start_time": "2024-12-04T02:06:21.462Z"
   },
   {
    "duration": 15,
    "start_time": "2024-12-04T02:06:21.467Z"
   },
   {
    "duration": 502,
    "start_time": "2024-12-04T02:06:21.484Z"
   },
   {
    "duration": 17,
    "start_time": "2024-12-04T02:06:21.988Z"
   },
   {
    "duration": 7,
    "start_time": "2024-12-04T02:06:22.007Z"
   },
   {
    "duration": 68,
    "start_time": "2024-12-04T02:06:22.015Z"
   },
   {
    "duration": 35,
    "start_time": "2024-12-04T02:06:22.085Z"
   },
   {
    "duration": 13,
    "start_time": "2024-12-04T02:06:22.121Z"
   },
   {
    "duration": 39,
    "start_time": "2024-12-04T02:06:22.136Z"
   },
   {
    "duration": 58,
    "start_time": "2024-12-04T02:06:22.178Z"
   },
   {
    "duration": 26,
    "start_time": "2024-12-04T02:06:22.238Z"
   },
   {
    "duration": 4,
    "start_time": "2024-12-04T02:06:22.265Z"
   },
   {
    "duration": 58,
    "start_time": "2024-12-04T02:06:22.270Z"
   },
   {
    "duration": 94,
    "start_time": "2024-12-04T02:06:22.330Z"
   },
   {
    "duration": 1488,
    "start_time": "2024-12-04T02:06:22.426Z"
   },
   {
    "duration": 156,
    "start_time": "2024-12-04T02:06:23.916Z"
   },
   {
    "duration": 91,
    "start_time": "2024-12-04T02:06:24.074Z"
   },
   {
    "duration": 615,
    "start_time": "2024-12-04T02:06:24.167Z"
   },
   {
    "duration": 938,
    "start_time": "2024-12-04T02:37:43.129Z"
   },
   {
    "duration": 51,
    "start_time": "2024-12-04T02:52:39.494Z"
   },
   {
    "duration": 373,
    "start_time": "2024-12-04T02:53:49.207Z"
   },
   {
    "duration": 32,
    "start_time": "2024-12-04T02:54:18.836Z"
   },
   {
    "duration": 32,
    "start_time": "2024-12-04T02:54:37.767Z"
   },
   {
    "duration": 32,
    "start_time": "2024-12-04T02:54:50.730Z"
   },
   {
    "duration": 32,
    "start_time": "2024-12-04T02:55:02.584Z"
   },
   {
    "duration": 325,
    "start_time": "2024-12-04T02:55:12.020Z"
   },
   {
    "duration": 420,
    "start_time": "2024-12-04T02:55:12.347Z"
   },
   {
    "duration": 97,
    "start_time": "2024-12-04T02:55:12.769Z"
   },
   {
    "duration": 100,
    "start_time": "2024-12-04T02:55:12.869Z"
   },
   {
    "duration": 3,
    "start_time": "2024-12-04T02:55:12.970Z"
   },
   {
    "duration": 13,
    "start_time": "2024-12-04T02:55:12.975Z"
   },
   {
    "duration": 532,
    "start_time": "2024-12-04T02:55:12.990Z"
   },
   {
    "duration": 8,
    "start_time": "2024-12-04T02:55:13.524Z"
   },
   {
    "duration": 7,
    "start_time": "2024-12-04T02:55:13.533Z"
   },
   {
    "duration": 85,
    "start_time": "2024-12-04T02:55:13.543Z"
   },
   {
    "duration": 20,
    "start_time": "2024-12-04T02:55:13.630Z"
   },
   {
    "duration": 11,
    "start_time": "2024-12-04T02:55:13.652Z"
   },
   {
    "duration": 59,
    "start_time": "2024-12-04T02:55:13.665Z"
   },
   {
    "duration": 44,
    "start_time": "2024-12-04T02:55:13.726Z"
   },
   {
    "duration": 38,
    "start_time": "2024-12-04T02:55:13.771Z"
   },
   {
    "duration": 2,
    "start_time": "2024-12-04T02:55:13.811Z"
   },
   {
    "duration": 40,
    "start_time": "2024-12-04T02:55:13.815Z"
   },
   {
    "duration": 101,
    "start_time": "2024-12-04T02:55:13.857Z"
   },
   {
    "duration": 1438,
    "start_time": "2024-12-04T02:55:13.959Z"
   },
   {
    "duration": 148,
    "start_time": "2024-12-04T02:55:15.399Z"
   },
   {
    "duration": 888,
    "start_time": "2024-12-04T02:55:15.548Z"
   },
   {
    "duration": 616,
    "start_time": "2024-12-04T02:55:16.438Z"
   },
   {
    "duration": 265,
    "start_time": "2024-12-04T02:55:40.074Z"
   },
   {
    "duration": 422,
    "start_time": "2024-12-04T02:55:40.341Z"
   },
   {
    "duration": 95,
    "start_time": "2024-12-04T02:55:40.764Z"
   },
   {
    "duration": 99,
    "start_time": "2024-12-04T02:55:40.861Z"
   },
   {
    "duration": 3,
    "start_time": "2024-12-04T02:55:40.961Z"
   },
   {
    "duration": 11,
    "start_time": "2024-12-04T02:55:40.966Z"
   },
   {
    "duration": 482,
    "start_time": "2024-12-04T02:55:40.978Z"
   },
   {
    "duration": 7,
    "start_time": "2024-12-04T02:55:41.462Z"
   },
   {
    "duration": 7,
    "start_time": "2024-12-04T02:55:41.471Z"
   },
   {
    "duration": 87,
    "start_time": "2024-12-04T02:55:41.480Z"
   },
   {
    "duration": 17,
    "start_time": "2024-12-04T02:55:41.569Z"
   },
   {
    "duration": 24,
    "start_time": "2024-12-04T02:55:41.587Z"
   },
   {
    "duration": 41,
    "start_time": "2024-12-04T02:55:41.613Z"
   },
   {
    "duration": 54,
    "start_time": "2024-12-04T02:55:41.656Z"
   },
   {
    "duration": 24,
    "start_time": "2024-12-04T02:55:41.712Z"
   },
   {
    "duration": 3,
    "start_time": "2024-12-04T02:55:41.738Z"
   },
   {
    "duration": 39,
    "start_time": "2024-12-04T02:55:41.742Z"
   },
   {
    "duration": 105,
    "start_time": "2024-12-04T02:55:41.782Z"
   },
   {
    "duration": 1477,
    "start_time": "2024-12-04T02:55:41.889Z"
   },
   {
    "duration": 141,
    "start_time": "2024-12-04T02:55:43.368Z"
   },
   {
    "duration": 903,
    "start_time": "2024-12-04T02:55:43.511Z"
   },
   {
    "duration": 610,
    "start_time": "2024-12-04T02:55:44.417Z"
   },
   {
    "duration": 294,
    "start_time": "2024-12-04T02:58:52.404Z"
   },
   {
    "duration": 421,
    "start_time": "2024-12-04T02:58:52.700Z"
   },
   {
    "duration": 95,
    "start_time": "2024-12-04T02:58:53.123Z"
   },
   {
    "duration": 95,
    "start_time": "2024-12-04T02:58:53.220Z"
   },
   {
    "duration": 3,
    "start_time": "2024-12-04T02:58:53.318Z"
   },
   {
    "duration": 11,
    "start_time": "2024-12-04T02:58:53.323Z"
   },
   {
    "duration": 478,
    "start_time": "2024-12-04T02:58:53.335Z"
   },
   {
    "duration": 9,
    "start_time": "2024-12-04T02:58:53.815Z"
   },
   {
    "duration": 7,
    "start_time": "2024-12-04T02:58:53.827Z"
   },
   {
    "duration": 89,
    "start_time": "2024-12-04T02:58:53.835Z"
   },
   {
    "duration": 16,
    "start_time": "2024-12-04T02:58:53.926Z"
   },
   {
    "duration": 11,
    "start_time": "2024-12-04T02:58:53.944Z"
   },
   {
    "duration": 54,
    "start_time": "2024-12-04T02:58:53.956Z"
   },
   {
    "duration": 42,
    "start_time": "2024-12-04T02:58:54.015Z"
   },
   {
    "duration": 29,
    "start_time": "2024-12-04T02:58:54.059Z"
   },
   {
    "duration": 22,
    "start_time": "2024-12-04T02:58:54.105Z"
   },
   {
    "duration": 60,
    "start_time": "2024-12-04T02:58:54.129Z"
   },
   {
    "duration": 90,
    "start_time": "2024-12-04T02:58:54.191Z"
   },
   {
    "duration": 1462,
    "start_time": "2024-12-04T02:58:54.283Z"
   },
   {
    "duration": 148,
    "start_time": "2024-12-04T02:58:55.747Z"
   },
   {
    "duration": 924,
    "start_time": "2024-12-04T02:58:55.897Z"
   },
   {
    "duration": 609,
    "start_time": "2024-12-04T02:58:56.822Z"
   },
   {
    "duration": 63,
    "start_time": "2024-12-04T02:59:39.494Z"
   },
   {
    "duration": 66,
    "start_time": "2024-12-04T02:59:46.799Z"
   },
   {
    "duration": 916,
    "start_time": "2024-12-04T03:00:17.268Z"
   },
   {
    "duration": 996,
    "start_time": "2024-12-04T03:01:15.743Z"
   },
   {
    "duration": 1082,
    "start_time": "2024-12-04T03:01:53.673Z"
   },
   {
    "duration": 192,
    "start_time": "2024-12-04T03:02:06.402Z"
   },
   {
    "duration": 387,
    "start_time": "2024-12-04T03:02:32.524Z"
   },
   {
    "duration": 274,
    "start_time": "2024-12-04T03:02:36.679Z"
   },
   {
    "duration": 153,
    "start_time": "2024-12-04T03:19:31.071Z"
   },
   {
    "duration": 8,
    "start_time": "2024-12-04T03:19:46.342Z"
   },
   {
    "duration": 281,
    "start_time": "2024-12-04T03:19:57.973Z"
   },
   {
    "duration": 405,
    "start_time": "2024-12-04T03:19:58.256Z"
   },
   {
    "duration": 100,
    "start_time": "2024-12-04T03:19:58.663Z"
   },
   {
    "duration": 100,
    "start_time": "2024-12-04T03:19:58.765Z"
   },
   {
    "duration": 5,
    "start_time": "2024-12-04T03:19:58.867Z"
   },
   {
    "duration": 11,
    "start_time": "2024-12-04T03:19:58.875Z"
   },
   {
    "duration": 499,
    "start_time": "2024-12-04T03:19:58.887Z"
   },
   {
    "duration": 7,
    "start_time": "2024-12-04T03:19:59.387Z"
   },
   {
    "duration": 17,
    "start_time": "2024-12-04T03:19:59.395Z"
   },
   {
    "duration": 67,
    "start_time": "2024-12-04T03:19:59.415Z"
   },
   {
    "duration": 32,
    "start_time": "2024-12-04T03:19:59.484Z"
   },
   {
    "duration": 11,
    "start_time": "2024-12-04T03:19:59.518Z"
   },
   {
    "duration": 39,
    "start_time": "2024-12-04T03:19:59.531Z"
   },
   {
    "duration": 63,
    "start_time": "2024-12-04T03:19:59.572Z"
   },
   {
    "duration": 25,
    "start_time": "2024-12-04T03:19:59.636Z"
   },
   {
    "duration": 7,
    "start_time": "2024-12-04T03:19:59.663Z"
   },
   {
    "duration": 52,
    "start_time": "2024-12-04T03:19:59.671Z"
   },
   {
    "duration": 98,
    "start_time": "2024-12-04T03:19:59.725Z"
   },
   {
    "duration": 1467,
    "start_time": "2024-12-04T03:19:59.824Z"
   },
   {
    "duration": 146,
    "start_time": "2024-12-04T03:20:01.293Z"
   },
   {
    "duration": 964,
    "start_time": "2024-12-04T03:20:01.441Z"
   },
   {
    "duration": 622,
    "start_time": "2024-12-04T03:20:02.407Z"
   },
   {
    "duration": 109,
    "start_time": "2024-12-04T03:36:21.632Z"
   },
   {
    "duration": 288,
    "start_time": "2024-12-04T03:37:48.402Z"
   },
   {
    "duration": 408,
    "start_time": "2024-12-04T03:37:48.692Z"
   },
   {
    "duration": 102,
    "start_time": "2024-12-04T03:37:49.102Z"
   },
   {
    "duration": 99,
    "start_time": "2024-12-04T03:37:49.206Z"
   },
   {
    "duration": 3,
    "start_time": "2024-12-04T03:37:49.307Z"
   },
   {
    "duration": 12,
    "start_time": "2024-12-04T03:37:49.311Z"
   },
   {
    "duration": 486,
    "start_time": "2024-12-04T03:37:49.325Z"
   },
   {
    "duration": 7,
    "start_time": "2024-12-04T03:37:49.812Z"
   },
   {
    "duration": 9,
    "start_time": "2024-12-04T03:37:49.820Z"
   },
   {
    "duration": 82,
    "start_time": "2024-12-04T03:37:49.832Z"
   },
   {
    "duration": 16,
    "start_time": "2024-12-04T03:37:49.916Z"
   },
   {
    "duration": 12,
    "start_time": "2024-12-04T03:37:49.934Z"
   },
   {
    "duration": 57,
    "start_time": "2024-12-04T03:37:49.948Z"
   },
   {
    "duration": 27,
    "start_time": "2024-12-04T03:37:50.007Z"
   },
   {
    "duration": 40,
    "start_time": "2024-12-04T03:37:50.036Z"
   },
   {
    "duration": 41,
    "start_time": "2024-12-04T03:37:50.078Z"
   },
   {
    "duration": 2,
    "start_time": "2024-12-04T03:37:50.121Z"
   },
   {
    "duration": 38,
    "start_time": "2024-12-04T03:37:50.125Z"
   },
   {
    "duration": 109,
    "start_time": "2024-12-04T03:37:50.165Z"
   },
   {
    "duration": 1461,
    "start_time": "2024-12-04T03:37:50.277Z"
   },
   {
    "duration": 149,
    "start_time": "2024-12-04T03:37:51.740Z"
   },
   {
    "duration": 988,
    "start_time": "2024-12-04T03:37:51.892Z"
   },
   {
    "duration": 638,
    "start_time": "2024-12-04T03:37:52.882Z"
   },
   {
    "duration": 103,
    "start_time": "2024-12-04T03:38:46.230Z"
   },
   {
    "duration": 328,
    "start_time": "2024-12-04T03:39:17.021Z"
   },
   {
    "duration": 405,
    "start_time": "2024-12-04T03:39:17.351Z"
   },
   {
    "duration": 100,
    "start_time": "2024-12-04T03:39:17.758Z"
   },
   {
    "duration": 97,
    "start_time": "2024-12-04T03:39:17.861Z"
   },
   {
    "duration": 3,
    "start_time": "2024-12-04T03:39:17.961Z"
   },
   {
    "duration": 11,
    "start_time": "2024-12-04T03:39:17.965Z"
   },
   {
    "duration": 473,
    "start_time": "2024-12-04T03:39:17.977Z"
   },
   {
    "duration": 24,
    "start_time": "2024-12-04T03:39:18.451Z"
   },
   {
    "duration": 5,
    "start_time": "2024-12-04T03:39:18.477Z"
   },
   {
    "duration": 11,
    "start_time": "2024-12-04T03:39:18.504Z"
   },
   {
    "duration": 73,
    "start_time": "2024-12-04T03:39:18.518Z"
   },
   {
    "duration": 16,
    "start_time": "2024-12-04T03:39:18.606Z"
   },
   {
    "duration": 12,
    "start_time": "2024-12-04T03:39:18.623Z"
   },
   {
    "duration": 38,
    "start_time": "2024-12-04T03:39:18.637Z"
   },
   {
    "duration": 63,
    "start_time": "2024-12-04T03:39:18.676Z"
   },
   {
    "duration": 24,
    "start_time": "2024-12-04T03:39:18.741Z"
   },
   {
    "duration": 3,
    "start_time": "2024-12-04T03:39:18.766Z"
   },
   {
    "duration": 55,
    "start_time": "2024-12-04T03:39:18.770Z"
   },
   {
    "duration": 106,
    "start_time": "2024-12-04T03:39:18.827Z"
   },
   {
    "duration": 1487,
    "start_time": "2024-12-04T03:39:18.935Z"
   },
   {
    "duration": 149,
    "start_time": "2024-12-04T03:39:20.423Z"
   },
   {
    "duration": 993,
    "start_time": "2024-12-04T03:39:20.573Z"
   },
   {
    "duration": 655,
    "start_time": "2024-12-04T03:39:21.568Z"
   },
   {
    "duration": 270,
    "start_time": "2024-12-04T04:25:18.887Z"
   },
   {
    "duration": 402,
    "start_time": "2024-12-04T04:25:19.159Z"
   },
   {
    "duration": 100,
    "start_time": "2024-12-04T04:25:19.563Z"
   },
   {
    "duration": 98,
    "start_time": "2024-12-04T04:25:19.665Z"
   },
   {
    "duration": 3,
    "start_time": "2024-12-04T04:25:19.765Z"
   },
   {
    "duration": 11,
    "start_time": "2024-12-04T04:25:19.770Z"
   },
   {
    "duration": 477,
    "start_time": "2024-12-04T04:25:19.783Z"
   },
   {
    "duration": 24,
    "start_time": "2024-12-04T04:25:20.261Z"
   },
   {
    "duration": 19,
    "start_time": "2024-12-04T04:25:20.286Z"
   },
   {
    "duration": 9,
    "start_time": "2024-12-04T04:25:20.308Z"
   },
   {
    "duration": 87,
    "start_time": "2024-12-04T04:25:20.318Z"
   },
   {
    "duration": 18,
    "start_time": "2024-12-04T04:25:20.406Z"
   },
   {
    "duration": 11,
    "start_time": "2024-12-04T04:25:20.426Z"
   },
   {
    "duration": 40,
    "start_time": "2024-12-04T04:25:20.439Z"
   },
   {
    "duration": 62,
    "start_time": "2024-12-04T04:25:20.481Z"
   },
   {
    "duration": 24,
    "start_time": "2024-12-04T04:25:20.546Z"
   },
   {
    "duration": 3,
    "start_time": "2024-12-04T04:25:20.571Z"
   },
   {
    "duration": 51,
    "start_time": "2024-12-04T04:25:20.575Z"
   },
   {
    "duration": 97,
    "start_time": "2024-12-04T04:25:20.628Z"
   },
   {
    "duration": 1486,
    "start_time": "2024-12-04T04:25:20.727Z"
   },
   {
    "duration": 143,
    "start_time": "2024-12-04T04:25:22.216Z"
   },
   {
    "duration": 995,
    "start_time": "2024-12-04T04:25:22.362Z"
   },
   {
    "duration": 660,
    "start_time": "2024-12-04T04:25:23.358Z"
   },
   {
    "duration": 159,
    "start_time": "2024-12-04T17:58:28.354Z"
   },
   {
    "duration": 343,
    "start_time": "2024-12-04T17:58:40.443Z"
   },
   {
    "duration": 472,
    "start_time": "2024-12-04T17:58:40.788Z"
   },
   {
    "duration": 95,
    "start_time": "2024-12-04T17:58:41.263Z"
   },
   {
    "duration": 98,
    "start_time": "2024-12-04T17:58:41.361Z"
   },
   {
    "duration": 4,
    "start_time": "2024-12-04T17:58:41.460Z"
   },
   {
    "duration": 11,
    "start_time": "2024-12-04T17:58:41.466Z"
   },
   {
    "duration": 507,
    "start_time": "2024-12-04T17:58:41.479Z"
   },
   {
    "duration": 42,
    "start_time": "2024-12-04T17:58:41.987Z"
   },
   {
    "duration": 6,
    "start_time": "2024-12-04T17:58:42.031Z"
   },
   {
    "duration": 12,
    "start_time": "2024-12-04T17:58:42.041Z"
   },
   {
    "duration": 94,
    "start_time": "2024-12-04T17:58:42.054Z"
   },
   {
    "duration": 20,
    "start_time": "2024-12-04T17:58:42.149Z"
   },
   {
    "duration": 12,
    "start_time": "2024-12-04T17:58:42.171Z"
   },
   {
    "duration": 60,
    "start_time": "2024-12-04T17:58:42.185Z"
   },
   {
    "duration": 45,
    "start_time": "2024-12-04T17:58:42.246Z"
   },
   {
    "duration": 43,
    "start_time": "2024-12-04T17:58:42.293Z"
   },
   {
    "duration": 2,
    "start_time": "2024-12-04T17:58:42.338Z"
   },
   {
    "duration": 39,
    "start_time": "2024-12-04T17:58:42.342Z"
   },
   {
    "duration": 113,
    "start_time": "2024-12-04T17:58:42.383Z"
   },
   {
    "duration": 1549,
    "start_time": "2024-12-04T17:58:42.498Z"
   },
   {
    "duration": 145,
    "start_time": "2024-12-04T17:58:44.049Z"
   },
   {
    "duration": 1298,
    "start_time": "2024-12-04T17:58:44.195Z"
   },
   {
    "duration": 669,
    "start_time": "2024-12-04T17:58:45.495Z"
   },
   {
    "duration": 209,
    "start_time": "2024-12-04T18:03:36.706Z"
   },
   {
    "duration": 2577,
    "start_time": "2024-12-04T18:04:06.902Z"
   },
   {
    "duration": 406,
    "start_time": "2024-12-04T18:04:11.201Z"
   },
   {
    "duration": 92,
    "start_time": "2024-12-04T18:04:13.231Z"
   },
   {
    "duration": 92,
    "start_time": "2024-12-04T18:04:18.410Z"
   },
   {
    "duration": 4,
    "start_time": "2024-12-04T18:04:24.421Z"
   },
   {
    "duration": 12,
    "start_time": "2024-12-04T18:04:27.532Z"
   },
   {
    "duration": 462,
    "start_time": "2024-12-04T18:04:32.094Z"
   },
   {
    "duration": 90,
    "start_time": "2024-12-04T18:05:41.831Z"
   },
   {
    "duration": 285,
    "start_time": "2024-12-04T18:10:32.220Z"
   },
   {
    "duration": 77,
    "start_time": "2024-12-04T18:10:40.520Z"
   },
   {
    "duration": 155,
    "start_time": "2024-12-04T18:11:29.110Z"
   },
   {
    "duration": 25562,
    "start_time": "2024-12-04T18:13:28.054Z"
   },
   {
    "duration": 369,
    "start_time": "2024-12-04T18:14:10.317Z"
   },
   {
    "duration": 187,
    "start_time": "2024-12-04T18:15:06.010Z"
   },
   {
    "duration": 185,
    "start_time": "2024-12-04T18:15:24.353Z"
   },
   {
    "duration": 158,
    "start_time": "2024-12-04T20:03:43.183Z"
   },
   {
    "duration": 2543,
    "start_time": "2024-12-04T20:03:50.517Z"
   },
   {
    "duration": 443,
    "start_time": "2024-12-04T20:03:53.062Z"
   },
   {
    "duration": 98,
    "start_time": "2024-12-04T20:03:53.507Z"
   },
   {
    "duration": 106,
    "start_time": "2024-12-04T20:03:53.607Z"
   },
   {
    "duration": 3,
    "start_time": "2024-12-04T20:03:53.715Z"
   },
   {
    "duration": 11,
    "start_time": "2024-12-04T20:03:53.720Z"
   },
   {
    "duration": 496,
    "start_time": "2024-12-04T20:03:53.733Z"
   },
   {
    "duration": 157,
    "start_time": "2024-12-04T20:03:54.231Z"
   },
   {
    "duration": 5,
    "start_time": "2024-12-04T20:03:54.390Z"
   },
   {
    "duration": 13,
    "start_time": "2024-12-04T20:03:54.397Z"
   },
   {
    "duration": 69,
    "start_time": "2024-12-04T20:03:54.412Z"
   },
   {
    "duration": 37,
    "start_time": "2024-12-04T20:03:54.483Z"
   },
   {
    "duration": 12,
    "start_time": "2024-12-04T20:03:54.522Z"
   },
   {
    "duration": 40,
    "start_time": "2024-12-04T20:03:54.537Z"
   },
   {
    "duration": 59,
    "start_time": "2024-12-04T20:03:54.579Z"
   },
   {
    "duration": 25,
    "start_time": "2024-12-04T20:03:54.640Z"
   },
   {
    "duration": 2,
    "start_time": "2024-12-04T20:03:54.667Z"
   },
   {
    "duration": 70,
    "start_time": "2024-12-04T20:03:54.670Z"
   },
   {
    "duration": 89,
    "start_time": "2024-12-04T20:03:54.742Z"
   },
   {
    "duration": 1455,
    "start_time": "2024-12-04T20:03:54.833Z"
   },
   {
    "duration": 145,
    "start_time": "2024-12-04T20:03:56.289Z"
   },
   {
    "duration": 1114,
    "start_time": "2024-12-04T20:03:56.435Z"
   },
   {
    "duration": 291,
    "start_time": "2024-12-04T20:03:57.551Z"
   },
   {
    "duration": 254,
    "start_time": "2024-12-04T20:06:03.212Z"
   },
   {
    "duration": 164,
    "start_time": "2024-12-04T20:06:23.238Z"
   },
   {
    "duration": 7,
    "start_time": "2024-12-04T20:07:05.585Z"
   },
   {
    "duration": 516,
    "start_time": "2024-12-04T20:07:15.111Z"
   },
   {
    "duration": 678,
    "start_time": "2024-12-04T20:07:26.302Z"
   },
   {
    "duration": 503,
    "start_time": "2024-12-04T20:07:49.005Z"
   },
   {
    "duration": 501,
    "start_time": "2024-12-04T20:09:39.444Z"
   },
   {
    "duration": 503,
    "start_time": "2024-12-04T20:10:56.699Z"
   },
   {
    "duration": 458,
    "start_time": "2024-12-04T20:11:32.932Z"
   },
   {
    "duration": 8,
    "start_time": "2024-12-04T20:11:53.788Z"
   },
   {
    "duration": 11,
    "start_time": "2024-12-04T20:12:55.333Z"
   },
   {
    "duration": 6,
    "start_time": "2024-12-04T20:13:16.866Z"
   },
   {
    "duration": 140,
    "start_time": "2024-12-04T20:15:14.910Z"
   },
   {
    "duration": 1633,
    "start_time": "2024-12-04T20:23:01.225Z"
   },
   {
    "duration": 1555,
    "start_time": "2024-12-04T20:23:52.479Z"
   },
   {
    "duration": 1576,
    "start_time": "2024-12-04T20:24:09.847Z"
   },
   {
    "duration": 115,
    "start_time": "2024-12-04T20:26:07.350Z"
   },
   {
    "duration": 243,
    "start_time": "2024-12-04T20:26:52.509Z"
   },
   {
    "duration": 239,
    "start_time": "2024-12-04T20:27:19.620Z"
   },
   {
    "duration": 154,
    "start_time": "2024-12-04T20:27:37.600Z"
   },
   {
    "duration": 148,
    "start_time": "2024-12-04T20:27:47.274Z"
   },
   {
    "duration": 177,
    "start_time": "2024-12-04T20:28:04.596Z"
   },
   {
    "duration": 73,
    "start_time": "2024-12-04T20:38:21.161Z"
   },
   {
    "duration": 5,
    "start_time": "2024-12-04T20:38:50.279Z"
   },
   {
    "duration": 173,
    "start_time": "2024-12-04T20:39:06.790Z"
   },
   {
    "duration": 115,
    "start_time": "2024-12-04T20:39:36.361Z"
   },
   {
    "duration": 17,
    "start_time": "2024-12-04T20:41:31.811Z"
   },
   {
    "duration": 317,
    "start_time": "2024-12-04T20:41:37.234Z"
   },
   {
    "duration": 80,
    "start_time": "2024-12-04T20:41:47.163Z"
   },
   {
    "duration": 91,
    "start_time": "2024-12-04T20:42:01.222Z"
   },
   {
    "duration": 77,
    "start_time": "2024-12-04T20:42:05.947Z"
   },
   {
    "duration": 5,
    "start_time": "2024-12-04T20:51:00.224Z"
   },
   {
    "duration": 76,
    "start_time": "2024-12-04T20:52:05.648Z"
   },
   {
    "duration": 74,
    "start_time": "2024-12-04T20:52:41.353Z"
   },
   {
    "duration": 64,
    "start_time": "2024-12-04T20:59:22.518Z"
   },
   {
    "duration": 7,
    "start_time": "2024-12-04T20:59:29.398Z"
   },
   {
    "duration": 118,
    "start_time": "2024-12-04T20:59:49.191Z"
   },
   {
    "duration": 66,
    "start_time": "2024-12-04T21:00:08.712Z"
   },
   {
    "duration": 122,
    "start_time": "2024-12-04T21:00:18.113Z"
   },
   {
    "duration": 824,
    "start_time": "2024-12-04T21:00:29.914Z"
   },
   {
    "duration": 456,
    "start_time": "2024-12-04T21:00:30.741Z"
   },
   {
    "duration": 114,
    "start_time": "2024-12-04T21:00:31.201Z"
   },
   {
    "duration": 96,
    "start_time": "2024-12-04T21:00:31.317Z"
   },
   {
    "duration": 3,
    "start_time": "2024-12-04T21:00:31.416Z"
   },
   {
    "duration": 13,
    "start_time": "2024-12-04T21:00:31.421Z"
   },
   {
    "duration": 519,
    "start_time": "2024-12-04T21:00:31.436Z"
   },
   {
    "duration": 84,
    "start_time": "2024-12-04T21:00:31.956Z"
   },
   {
    "duration": 5,
    "start_time": "2024-12-04T21:00:32.042Z"
   },
   {
    "duration": 80,
    "start_time": "2024-12-04T21:00:32.049Z"
   },
   {
    "duration": 137,
    "start_time": "2024-12-04T21:00:32.131Z"
   },
   {
    "duration": 6,
    "start_time": "2024-12-04T21:00:32.271Z"
   },
   {
    "duration": 8,
    "start_time": "2024-12-04T21:00:32.278Z"
   },
   {
    "duration": 65,
    "start_time": "2024-12-04T21:00:32.306Z"
   },
   {
    "duration": 18,
    "start_time": "2024-12-04T21:00:32.372Z"
   },
   {
    "duration": 24,
    "start_time": "2024-12-04T21:00:32.392Z"
   },
   {
    "duration": 48,
    "start_time": "2024-12-04T21:00:32.418Z"
   },
   {
    "duration": 59,
    "start_time": "2024-12-04T21:00:32.468Z"
   },
   {
    "duration": 26,
    "start_time": "2024-12-04T21:00:32.530Z"
   },
   {
    "duration": 2,
    "start_time": "2024-12-04T21:00:32.558Z"
   },
   {
    "duration": 64,
    "start_time": "2024-12-04T21:00:32.562Z"
   },
   {
    "duration": 99,
    "start_time": "2024-12-04T21:00:32.628Z"
   },
   {
    "duration": 1492,
    "start_time": "2024-12-04T21:00:32.730Z"
   },
   {
    "duration": 147,
    "start_time": "2024-12-04T21:00:34.224Z"
   },
   {
    "duration": 1150,
    "start_time": "2024-12-04T21:00:34.373Z"
   },
   {
    "duration": 283,
    "start_time": "2024-12-04T21:00:35.525Z"
   },
   {
    "duration": 441,
    "start_time": "2024-12-04T21:02:17.295Z"
   },
   {
    "duration": 37,
    "start_time": "2024-12-04T21:02:32.103Z"
   },
   {
    "duration": 320,
    "start_time": "2024-12-04T21:03:11.392Z"
   },
   {
    "duration": 62,
    "start_time": "2024-12-04T21:03:29.067Z"
   },
   {
    "duration": 4,
    "start_time": "2024-12-04T21:03:51.466Z"
   },
   {
    "duration": 762,
    "start_time": "2024-12-04T21:04:04.268Z"
   },
   {
    "duration": 409,
    "start_time": "2024-12-04T21:04:05.032Z"
   },
   {
    "duration": 101,
    "start_time": "2024-12-04T21:04:05.443Z"
   },
   {
    "duration": 93,
    "start_time": "2024-12-04T21:04:05.546Z"
   },
   {
    "duration": 3,
    "start_time": "2024-12-04T21:04:05.641Z"
   },
   {
    "duration": 11,
    "start_time": "2024-12-04T21:04:05.646Z"
   },
   {
    "duration": 524,
    "start_time": "2024-12-04T21:04:05.659Z"
   },
   {
    "duration": 90,
    "start_time": "2024-12-04T21:04:06.184Z"
   },
   {
    "duration": 5,
    "start_time": "2024-12-04T21:04:06.276Z"
   },
   {
    "duration": 4,
    "start_time": "2024-12-04T21:04:06.285Z"
   },
   {
    "duration": 67,
    "start_time": "2024-12-04T21:04:06.305Z"
   },
   {
    "duration": 139,
    "start_time": "2024-12-04T21:04:06.373Z"
   },
   {
    "duration": 6,
    "start_time": "2024-12-04T21:04:06.514Z"
   },
   {
    "duration": 10,
    "start_time": "2024-12-04T21:04:06.524Z"
   },
   {
    "duration": 86,
    "start_time": "2024-12-04T21:04:06.535Z"
   },
   {
    "duration": 19,
    "start_time": "2024-12-04T21:04:06.623Z"
   },
   {
    "duration": 14,
    "start_time": "2024-12-04T21:04:06.643Z"
   },
   {
    "duration": 54,
    "start_time": "2024-12-04T21:04:06.659Z"
   },
   {
    "duration": 43,
    "start_time": "2024-12-04T21:04:06.715Z"
   },
   {
    "duration": 25,
    "start_time": "2024-12-04T21:04:06.760Z"
   },
   {
    "duration": 2,
    "start_time": "2024-12-04T21:04:06.786Z"
   },
   {
    "duration": 54,
    "start_time": "2024-12-04T21:04:06.789Z"
   },
   {
    "duration": 105,
    "start_time": "2024-12-04T21:04:06.844Z"
   },
   {
    "duration": 1455,
    "start_time": "2024-12-04T21:04:06.950Z"
   },
   {
    "duration": 141,
    "start_time": "2024-12-04T21:04:08.406Z"
   },
   {
    "duration": 1136,
    "start_time": "2024-12-04T21:04:08.549Z"
   },
   {
    "duration": 292,
    "start_time": "2024-12-04T21:04:09.686Z"
   },
   {
    "duration": 458,
    "start_time": "2024-12-04T21:05:09.821Z"
   },
   {
    "duration": 817,
    "start_time": "2024-12-04T21:05:25.602Z"
   },
   {
    "duration": 411,
    "start_time": "2024-12-04T21:05:26.421Z"
   },
   {
    "duration": 101,
    "start_time": "2024-12-04T21:05:26.834Z"
   },
   {
    "duration": 98,
    "start_time": "2024-12-04T21:05:26.937Z"
   },
   {
    "duration": 4,
    "start_time": "2024-12-04T21:05:27.036Z"
   },
   {
    "duration": 12,
    "start_time": "2024-12-04T21:05:27.041Z"
   },
   {
    "duration": 526,
    "start_time": "2024-12-04T21:05:27.055Z"
   },
   {
    "duration": 89,
    "start_time": "2024-12-04T21:05:27.583Z"
   },
   {
    "duration": 22,
    "start_time": "2024-12-04T21:05:27.674Z"
   },
   {
    "duration": 11,
    "start_time": "2024-12-04T21:05:27.698Z"
   },
   {
    "duration": 71,
    "start_time": "2024-12-04T21:05:27.710Z"
   },
   {
    "duration": 140,
    "start_time": "2024-12-04T21:05:27.783Z"
   },
   {
    "duration": 6,
    "start_time": "2024-12-04T21:05:27.925Z"
   },
   {
    "duration": 8,
    "start_time": "2024-12-04T21:05:27.932Z"
   },
   {
    "duration": 86,
    "start_time": "2024-12-04T21:05:27.941Z"
   },
   {
    "duration": 18,
    "start_time": "2024-12-04T21:05:28.029Z"
   },
   {
    "duration": 13,
    "start_time": "2024-12-04T21:05:28.049Z"
   },
   {
    "duration": 54,
    "start_time": "2024-12-04T21:05:28.064Z"
   },
   {
    "duration": 40,
    "start_time": "2024-12-04T21:05:28.120Z"
   },
   {
    "duration": 24,
    "start_time": "2024-12-04T21:05:28.162Z"
   },
   {
    "duration": 18,
    "start_time": "2024-12-04T21:05:28.188Z"
   },
   {
    "duration": 39,
    "start_time": "2024-12-04T21:05:28.207Z"
   },
   {
    "duration": 101,
    "start_time": "2024-12-04T21:05:28.247Z"
   },
   {
    "duration": 1487,
    "start_time": "2024-12-04T21:05:28.349Z"
   },
   {
    "duration": 139,
    "start_time": "2024-12-04T21:05:29.837Z"
   },
   {
    "duration": 3,
    "start_time": "2024-12-04T21:05:29.977Z"
   },
   {
    "duration": 346,
    "start_time": "2024-12-04T21:05:29.981Z"
   },
   {
    "duration": 20,
    "start_time": "2024-12-04T21:07:11.748Z"
   },
   {
    "duration": 813,
    "start_time": "2024-12-04T21:10:27.514Z"
   },
   {
    "duration": 402,
    "start_time": "2024-12-04T21:10:30.252Z"
   },
   {
    "duration": 3,
    "start_time": "2024-12-04T21:10:38.573Z"
   },
   {
    "duration": 13,
    "start_time": "2024-12-04T21:10:39.651Z"
   },
   {
    "duration": 463,
    "start_time": "2024-12-04T21:10:44.151Z"
   },
   {
    "duration": 77,
    "start_time": "2024-12-04T21:10:47.571Z"
   },
   {
    "duration": 19,
    "start_time": "2024-12-04T21:10:50.153Z"
   },
   {
    "duration": 40,
    "start_time": "2024-12-04T21:15:06.538Z"
   },
   {
    "duration": 18,
    "start_time": "2024-12-04T21:15:34.460Z"
   },
   {
    "duration": 66,
    "start_time": "2024-12-04T21:15:53.216Z"
   },
   {
    "duration": 5,
    "start_time": "2024-12-04T21:16:02.226Z"
   },
   {
    "duration": 7,
    "start_time": "2024-12-04T21:16:12.734Z"
   },
   {
    "duration": 178,
    "start_time": "2024-12-04T21:17:16.966Z"
   },
   {
    "duration": 856,
    "start_time": "2024-12-04T21:17:33.674Z"
   },
   {
    "duration": 423,
    "start_time": "2024-12-04T21:17:34.533Z"
   },
   {
    "duration": 100,
    "start_time": "2024-12-04T21:17:34.960Z"
   },
   {
    "duration": 87,
    "start_time": "2024-12-04T21:17:35.712Z"
   },
   {
    "duration": 3,
    "start_time": "2024-12-04T21:17:36.993Z"
   },
   {
    "duration": 12,
    "start_time": "2024-12-04T21:17:37.690Z"
   },
   {
    "duration": 455,
    "start_time": "2024-12-04T21:17:38.532Z"
   },
   {
    "duration": 76,
    "start_time": "2024-12-04T21:17:40.079Z"
   },
   {
    "duration": 9,
    "start_time": "2024-12-04T21:17:41.061Z"
   },
   {
    "duration": 835,
    "start_time": "2024-12-04T21:18:07.541Z"
   },
   {
    "duration": 422,
    "start_time": "2024-12-04T21:18:08.378Z"
   },
   {
    "duration": 104,
    "start_time": "2024-12-04T21:18:08.802Z"
   },
   {
    "duration": 97,
    "start_time": "2024-12-04T21:18:08.908Z"
   },
   {
    "duration": 3,
    "start_time": "2024-12-04T21:18:09.457Z"
   },
   {
    "duration": 12,
    "start_time": "2024-12-04T21:18:10.502Z"
   },
   {
    "duration": 556,
    "start_time": "2024-12-04T21:18:10.843Z"
   },
   {
    "duration": 29,
    "start_time": "2024-12-04T21:18:14.731Z"
   },
   {
    "duration": 39,
    "start_time": "2024-12-04T21:19:34.611Z"
   },
   {
    "duration": 20,
    "start_time": "2024-12-04T21:19:36.496Z"
   },
   {
    "duration": 11,
    "start_time": "2024-12-04T21:20:53.747Z"
   },
   {
    "duration": 12,
    "start_time": "2024-12-04T21:27:13.224Z"
   },
   {
    "duration": 12,
    "start_time": "2024-12-04T21:54:00.000Z"
   },
   {
    "duration": 65,
    "start_time": "2024-12-04T22:04:46.436Z"
   },
   {
    "duration": 65,
    "start_time": "2024-12-04T22:04:53.796Z"
   },
   {
    "duration": 4025,
    "start_time": "2024-12-04T22:05:24.680Z"
   },
   {
    "duration": 802,
    "start_time": "2024-12-04T22:06:39.276Z"
   },
   {
    "duration": 427,
    "start_time": "2024-12-04T22:06:40.080Z"
   },
   {
    "duration": 138,
    "start_time": "2024-12-04T22:06:40.509Z"
   },
   {
    "duration": 98,
    "start_time": "2024-12-04T22:06:40.649Z"
   },
   {
    "duration": 3,
    "start_time": "2024-12-04T22:06:40.749Z"
   },
   {
    "duration": 16,
    "start_time": "2024-12-04T22:06:40.755Z"
   },
   {
    "duration": 502,
    "start_time": "2024-12-04T22:06:40.772Z"
   },
   {
    "duration": 52,
    "start_time": "2024-12-04T22:06:41.275Z"
   },
   {
    "duration": 13,
    "start_time": "2024-12-04T22:06:41.329Z"
   },
   {
    "duration": 81,
    "start_time": "2024-12-04T22:06:41.345Z"
   },
   {
    "duration": 4070,
    "start_time": "2024-12-04T22:06:41.428Z"
   },
   {
    "duration": 0,
    "start_time": "2024-12-04T22:06:45.506Z"
   },
   {
    "duration": 0,
    "start_time": "2024-12-04T22:06:45.507Z"
   },
   {
    "duration": 0,
    "start_time": "2024-12-04T22:06:45.509Z"
   },
   {
    "duration": 0,
    "start_time": "2024-12-04T22:06:45.511Z"
   },
   {
    "duration": 0,
    "start_time": "2024-12-04T22:06:45.512Z"
   },
   {
    "duration": 0,
    "start_time": "2024-12-04T22:06:45.513Z"
   },
   {
    "duration": 0,
    "start_time": "2024-12-04T22:06:45.515Z"
   },
   {
    "duration": 0,
    "start_time": "2024-12-04T22:06:45.517Z"
   },
   {
    "duration": 0,
    "start_time": "2024-12-04T22:06:45.518Z"
   },
   {
    "duration": 0,
    "start_time": "2024-12-04T22:06:45.519Z"
   },
   {
    "duration": 0,
    "start_time": "2024-12-04T22:06:45.520Z"
   },
   {
    "duration": 0,
    "start_time": "2024-12-04T22:06:45.521Z"
   },
   {
    "duration": 0,
    "start_time": "2024-12-04T22:06:45.523Z"
   },
   {
    "duration": 0,
    "start_time": "2024-12-04T22:06:45.524Z"
   },
   {
    "duration": 0,
    "start_time": "2024-12-04T22:06:45.525Z"
   },
   {
    "duration": 0,
    "start_time": "2024-12-04T22:06:45.526Z"
   },
   {
    "duration": 148,
    "start_time": "2024-12-04T22:10:29.939Z"
   },
   {
    "duration": 5,
    "start_time": "2024-12-04T22:10:47.392Z"
   },
   {
    "duration": 3,
    "start_time": "2024-12-04T22:11:21.166Z"
   },
   {
    "duration": 5,
    "start_time": "2024-12-04T22:11:27.804Z"
   },
   {
    "duration": 182,
    "start_time": "2024-12-04T22:13:53.076Z"
   },
   {
    "duration": 126,
    "start_time": "2024-12-04T22:14:52.932Z"
   },
   {
    "duration": 815,
    "start_time": "2024-12-04T22:15:12.841Z"
   },
   {
    "duration": 435,
    "start_time": "2024-12-04T22:15:13.659Z"
   },
   {
    "duration": 150,
    "start_time": "2024-12-04T22:15:14.095Z"
   },
   {
    "duration": 142,
    "start_time": "2024-12-04T22:15:14.248Z"
   },
   {
    "duration": 4,
    "start_time": "2024-12-04T22:15:14.392Z"
   },
   {
    "duration": 15,
    "start_time": "2024-12-04T22:15:14.406Z"
   },
   {
    "duration": 592,
    "start_time": "2024-12-04T22:15:14.423Z"
   },
   {
    "duration": 40,
    "start_time": "2024-12-04T22:15:15.016Z"
   },
   {
    "duration": 14,
    "start_time": "2024-12-04T22:15:15.058Z"
   },
   {
    "duration": 103,
    "start_time": "2024-12-04T22:15:15.077Z"
   },
   {
    "duration": 166,
    "start_time": "2024-12-04T22:15:15.182Z"
   },
   {
    "duration": 6,
    "start_time": "2024-12-04T22:15:15.350Z"
   },
   {
    "duration": 134,
    "start_time": "2024-12-04T22:15:15.358Z"
   },
   {
    "duration": 14,
    "start_time": "2024-12-04T22:15:15.494Z"
   },
   {
    "duration": 10,
    "start_time": "2024-12-04T22:15:15.510Z"
   },
   {
    "duration": 67,
    "start_time": "2024-12-04T22:15:15.522Z"
   },
   {
    "duration": 32,
    "start_time": "2024-12-04T22:15:15.591Z"
   },
   {
    "duration": 9,
    "start_time": "2024-12-04T22:15:15.625Z"
   },
   {
    "duration": 41,
    "start_time": "2024-12-04T22:15:15.636Z"
   },
   {
    "duration": 48,
    "start_time": "2024-12-04T22:15:15.679Z"
   },
   {
    "duration": 2,
    "start_time": "2024-12-04T22:15:15.729Z"
   },
   {
    "duration": 43,
    "start_time": "2024-12-04T22:15:15.733Z"
   },
   {
    "duration": 137,
    "start_time": "2024-12-04T22:15:15.779Z"
   },
   {
    "duration": 1604,
    "start_time": "2024-12-04T22:15:15.918Z"
   },
   {
    "duration": 139,
    "start_time": "2024-12-04T22:15:17.524Z"
   },
   {
    "duration": 2,
    "start_time": "2024-12-04T22:15:17.666Z"
   },
   {
    "duration": 341,
    "start_time": "2024-12-04T22:15:17.670Z"
   },
   {
    "duration": 124,
    "start_time": "2024-12-04T22:19:14.611Z"
   },
   {
    "duration": 130,
    "start_time": "2024-12-04T22:23:12.091Z"
   },
   {
    "duration": 127,
    "start_time": "2024-12-04T22:23:18.818Z"
   },
   {
    "duration": 125,
    "start_time": "2024-12-04T22:24:10.325Z"
   },
   {
    "duration": 992,
    "start_time": "2024-12-04T22:24:36.533Z"
   },
   {
    "duration": 4,
    "start_time": "2024-12-04T22:27:46.076Z"
   },
   {
    "duration": 198,
    "start_time": "2024-12-04T22:27:53.982Z"
   },
   {
    "duration": 4586,
    "start_time": "2024-12-04T22:32:47.205Z"
   },
   {
    "duration": 826,
    "start_time": "2024-12-04T22:33:00.828Z"
   },
   {
    "duration": 410,
    "start_time": "2024-12-04T22:33:01.657Z"
   },
   {
    "duration": 97,
    "start_time": "2024-12-04T22:33:02.069Z"
   },
   {
    "duration": 96,
    "start_time": "2024-12-04T22:33:02.167Z"
   },
   {
    "duration": 3,
    "start_time": "2024-12-04T22:33:02.266Z"
   },
   {
    "duration": 14,
    "start_time": "2024-12-04T22:33:02.270Z"
   },
   {
    "duration": 610,
    "start_time": "2024-12-04T22:33:02.285Z"
   },
   {
    "duration": 47,
    "start_time": "2024-12-04T22:33:02.905Z"
   },
   {
    "duration": 15,
    "start_time": "2024-12-04T22:33:02.954Z"
   },
   {
    "duration": 82,
    "start_time": "2024-12-04T22:33:02.971Z"
   },
   {
    "duration": 1074,
    "start_time": "2024-12-04T22:33:03.055Z"
   },
   {
    "duration": 0,
    "start_time": "2024-12-04T22:33:04.131Z"
   },
   {
    "duration": 0,
    "start_time": "2024-12-04T22:33:04.132Z"
   },
   {
    "duration": 0,
    "start_time": "2024-12-04T22:33:04.134Z"
   },
   {
    "duration": 0,
    "start_time": "2024-12-04T22:33:04.135Z"
   },
   {
    "duration": 0,
    "start_time": "2024-12-04T22:33:04.136Z"
   },
   {
    "duration": 0,
    "start_time": "2024-12-04T22:33:04.137Z"
   },
   {
    "duration": 0,
    "start_time": "2024-12-04T22:33:04.138Z"
   },
   {
    "duration": 0,
    "start_time": "2024-12-04T22:33:04.138Z"
   },
   {
    "duration": 0,
    "start_time": "2024-12-04T22:33:04.139Z"
   },
   {
    "duration": 0,
    "start_time": "2024-12-04T22:33:04.140Z"
   },
   {
    "duration": 0,
    "start_time": "2024-12-04T22:33:04.140Z"
   },
   {
    "duration": 0,
    "start_time": "2024-12-04T22:33:04.141Z"
   },
   {
    "duration": 1,
    "start_time": "2024-12-04T22:33:04.141Z"
   },
   {
    "duration": 0,
    "start_time": "2024-12-04T22:33:04.143Z"
   },
   {
    "duration": 0,
    "start_time": "2024-12-04T22:33:04.144Z"
   },
   {
    "duration": 0,
    "start_time": "2024-12-04T22:33:04.145Z"
   },
   {
    "duration": 141,
    "start_time": "2024-12-04T22:34:46.805Z"
   },
   {
    "duration": 137,
    "start_time": "2024-12-04T22:35:40.581Z"
   },
   {
    "duration": 114,
    "start_time": "2024-12-04T22:36:01.503Z"
   },
   {
    "duration": 105,
    "start_time": "2024-12-04T22:36:05.787Z"
   },
   {
    "duration": 860,
    "start_time": "2024-12-04T22:36:14.791Z"
   },
   {
    "duration": 407,
    "start_time": "2024-12-04T22:36:15.653Z"
   },
   {
    "duration": 95,
    "start_time": "2024-12-04T22:36:16.061Z"
   },
   {
    "duration": 95,
    "start_time": "2024-12-04T22:36:16.159Z"
   },
   {
    "duration": 4,
    "start_time": "2024-12-04T22:36:16.255Z"
   },
   {
    "duration": 11,
    "start_time": "2024-12-04T22:36:16.260Z"
   },
   {
    "duration": 484,
    "start_time": "2024-12-04T22:36:16.273Z"
   },
   {
    "duration": 49,
    "start_time": "2024-12-04T22:36:16.759Z"
   },
   {
    "duration": 12,
    "start_time": "2024-12-04T22:36:16.810Z"
   },
   {
    "duration": 63,
    "start_time": "2024-12-04T22:36:16.825Z"
   },
   {
    "duration": 109,
    "start_time": "2024-12-04T22:36:16.905Z"
   },
   {
    "duration": 6,
    "start_time": "2024-12-04T22:36:17.016Z"
   },
   {
    "duration": 135,
    "start_time": "2024-12-04T22:36:17.023Z"
   },
   {
    "duration": 6,
    "start_time": "2024-12-04T22:36:17.160Z"
   },
   {
    "duration": 9,
    "start_time": "2024-12-04T22:36:17.168Z"
   },
   {
    "duration": 86,
    "start_time": "2024-12-04T22:36:17.178Z"
   },
   {
    "duration": 15,
    "start_time": "2024-12-04T22:36:17.266Z"
   },
   {
    "duration": 6,
    "start_time": "2024-12-04T22:36:17.283Z"
   },
   {
    "duration": 53,
    "start_time": "2024-12-04T22:36:17.290Z"
   },
   {
    "duration": 26,
    "start_time": "2024-12-04T22:36:17.346Z"
   },
   {
    "duration": 3,
    "start_time": "2024-12-04T22:36:17.373Z"
   },
   {
    "duration": 59,
    "start_time": "2024-12-04T22:36:17.378Z"
   },
   {
    "duration": 112,
    "start_time": "2024-12-04T22:36:17.439Z"
   },
   {
    "duration": 1504,
    "start_time": "2024-12-04T22:36:17.553Z"
   },
   {
    "duration": 141,
    "start_time": "2024-12-04T22:36:19.059Z"
   },
   {
    "duration": 2,
    "start_time": "2024-12-04T22:36:19.205Z"
   },
   {
    "duration": 347,
    "start_time": "2024-12-04T22:36:19.208Z"
   },
   {
    "duration": 77,
    "start_time": "2024-12-04T22:37:21.734Z"
   },
   {
    "duration": 840,
    "start_time": "2024-12-04T22:38:32.016Z"
   },
   {
    "duration": 465,
    "start_time": "2024-12-04T22:38:32.859Z"
   },
   {
    "duration": 93,
    "start_time": "2024-12-04T22:38:33.325Z"
   },
   {
    "duration": 103,
    "start_time": "2024-12-04T22:38:33.420Z"
   },
   {
    "duration": 3,
    "start_time": "2024-12-04T22:38:33.525Z"
   },
   {
    "duration": 13,
    "start_time": "2024-12-04T22:38:33.530Z"
   },
   {
    "duration": 487,
    "start_time": "2024-12-04T22:38:33.544Z"
   },
   {
    "duration": 41,
    "start_time": "2024-12-04T22:38:34.033Z"
   },
   {
    "duration": 12,
    "start_time": "2024-12-04T22:38:34.076Z"
   },
   {
    "duration": 86,
    "start_time": "2024-12-04T22:38:34.090Z"
   },
   {
    "duration": 121,
    "start_time": "2024-12-04T22:38:34.178Z"
   },
   {
    "duration": 61,
    "start_time": "2024-12-04T22:38:34.301Z"
   },
   {
    "duration": 4,
    "start_time": "2024-12-04T22:38:34.364Z"
   },
   {
    "duration": 4,
    "start_time": "2024-12-04T22:38:34.371Z"
   },
   {
    "duration": 0,
    "start_time": "2024-12-04T22:38:34.376Z"
   },
   {
    "duration": 0,
    "start_time": "2024-12-04T22:38:34.377Z"
   },
   {
    "duration": 0,
    "start_time": "2024-12-04T22:38:34.378Z"
   },
   {
    "duration": 0,
    "start_time": "2024-12-04T22:38:34.380Z"
   },
   {
    "duration": 0,
    "start_time": "2024-12-04T22:38:34.381Z"
   },
   {
    "duration": 0,
    "start_time": "2024-12-04T22:38:34.382Z"
   },
   {
    "duration": 0,
    "start_time": "2024-12-04T22:38:34.405Z"
   },
   {
    "duration": 0,
    "start_time": "2024-12-04T22:38:34.406Z"
   },
   {
    "duration": 0,
    "start_time": "2024-12-04T22:38:34.407Z"
   },
   {
    "duration": 0,
    "start_time": "2024-12-04T22:38:34.408Z"
   },
   {
    "duration": 0,
    "start_time": "2024-12-04T22:38:34.409Z"
   },
   {
    "duration": 0,
    "start_time": "2024-12-04T22:38:34.410Z"
   },
   {
    "duration": 0,
    "start_time": "2024-12-04T22:38:34.411Z"
   },
   {
    "duration": 0,
    "start_time": "2024-12-04T22:38:34.413Z"
   },
   {
    "duration": 801,
    "start_time": "2024-12-04T22:44:34.314Z"
   },
   {
    "duration": 409,
    "start_time": "2024-12-04T22:44:35.117Z"
   },
   {
    "duration": 95,
    "start_time": "2024-12-04T22:44:35.528Z"
   },
   {
    "duration": 95,
    "start_time": "2024-12-04T22:44:35.625Z"
   },
   {
    "duration": 3,
    "start_time": "2024-12-04T22:44:35.723Z"
   },
   {
    "duration": 12,
    "start_time": "2024-12-04T22:44:35.727Z"
   },
   {
    "duration": 477,
    "start_time": "2024-12-04T22:44:35.740Z"
   },
   {
    "duration": 37,
    "start_time": "2024-12-04T22:44:36.220Z"
   },
   {
    "duration": 12,
    "start_time": "2024-12-04T22:44:36.259Z"
   },
   {
    "duration": 79,
    "start_time": "2024-12-04T22:44:36.273Z"
   },
   {
    "duration": 138,
    "start_time": "2024-12-04T22:44:36.354Z"
   },
   {
    "duration": 129,
    "start_time": "2024-12-04T22:44:36.494Z"
   },
   {
    "duration": 62,
    "start_time": "2024-12-04T22:44:36.626Z"
   },
   {
    "duration": 14,
    "start_time": "2024-12-04T22:44:36.692Z"
   },
   {
    "duration": 0,
    "start_time": "2024-12-04T22:44:36.708Z"
   },
   {
    "duration": 0,
    "start_time": "2024-12-04T22:44:36.709Z"
   },
   {
    "duration": 0,
    "start_time": "2024-12-04T22:44:36.709Z"
   },
   {
    "duration": 0,
    "start_time": "2024-12-04T22:44:36.710Z"
   },
   {
    "duration": 0,
    "start_time": "2024-12-04T22:44:36.711Z"
   },
   {
    "duration": 0,
    "start_time": "2024-12-04T22:44:36.713Z"
   },
   {
    "duration": 0,
    "start_time": "2024-12-04T22:44:36.716Z"
   },
   {
    "duration": 0,
    "start_time": "2024-12-04T22:44:36.718Z"
   },
   {
    "duration": 0,
    "start_time": "2024-12-04T22:44:36.720Z"
   },
   {
    "duration": 0,
    "start_time": "2024-12-04T22:44:36.723Z"
   },
   {
    "duration": 0,
    "start_time": "2024-12-04T22:44:36.724Z"
   },
   {
    "duration": 0,
    "start_time": "2024-12-04T22:44:36.727Z"
   },
   {
    "duration": 0,
    "start_time": "2024-12-04T22:44:36.728Z"
   },
   {
    "duration": 61,
    "start_time": "2024-12-04T22:50:35.122Z"
   },
   {
    "duration": 61,
    "start_time": "2024-12-04T22:50:45.247Z"
   },
   {
    "duration": 60,
    "start_time": "2024-12-04T22:50:55.214Z"
   },
   {
    "duration": 851,
    "start_time": "2024-12-04T22:51:22.434Z"
   },
   {
    "duration": 411,
    "start_time": "2024-12-04T22:51:23.288Z"
   },
   {
    "duration": 94,
    "start_time": "2024-12-04T22:51:23.701Z"
   },
   {
    "duration": 93,
    "start_time": "2024-12-04T22:51:23.797Z"
   },
   {
    "duration": 4,
    "start_time": "2024-12-04T22:51:23.891Z"
   },
   {
    "duration": 12,
    "start_time": "2024-12-04T22:51:23.905Z"
   },
   {
    "duration": 472,
    "start_time": "2024-12-04T22:51:23.918Z"
   },
   {
    "duration": 51,
    "start_time": "2024-12-04T22:51:24.392Z"
   },
   {
    "duration": 12,
    "start_time": "2024-12-04T22:51:24.445Z"
   },
   {
    "duration": 145,
    "start_time": "2024-12-04T22:51:24.460Z"
   },
   {
    "duration": 62,
    "start_time": "2024-12-04T22:51:24.607Z"
   },
   {
    "duration": 119,
    "start_time": "2024-12-04T22:51:24.671Z"
   },
   {
    "duration": 67,
    "start_time": "2024-12-04T22:51:24.791Z"
   },
   {
    "duration": 4,
    "start_time": "2024-12-04T22:51:24.860Z"
   },
   {
    "duration": 0,
    "start_time": "2024-12-04T22:51:24.865Z"
   },
   {
    "duration": 0,
    "start_time": "2024-12-04T22:51:24.866Z"
   },
   {
    "duration": 0,
    "start_time": "2024-12-04T22:51:24.867Z"
   },
   {
    "duration": 1,
    "start_time": "2024-12-04T22:51:24.868Z"
   },
   {
    "duration": 0,
    "start_time": "2024-12-04T22:51:24.869Z"
   },
   {
    "duration": 0,
    "start_time": "2024-12-04T22:51:24.870Z"
   },
   {
    "duration": 0,
    "start_time": "2024-12-04T22:51:24.871Z"
   },
   {
    "duration": 0,
    "start_time": "2024-12-04T22:51:24.872Z"
   },
   {
    "duration": 0,
    "start_time": "2024-12-04T22:51:24.873Z"
   },
   {
    "duration": 0,
    "start_time": "2024-12-04T22:51:24.874Z"
   },
   {
    "duration": 0,
    "start_time": "2024-12-04T22:51:24.875Z"
   },
   {
    "duration": 0,
    "start_time": "2024-12-04T22:51:24.877Z"
   },
   {
    "duration": 0,
    "start_time": "2024-12-04T22:51:24.905Z"
   },
   {
    "duration": 297,
    "start_time": "2024-12-04T22:53:56.775Z"
   },
   {
    "duration": 100,
    "start_time": "2024-12-04T22:57:05.721Z"
   },
   {
    "duration": 128,
    "start_time": "2024-12-04T22:58:03.934Z"
   },
   {
    "duration": 121,
    "start_time": "2024-12-04T22:58:13.789Z"
   },
   {
    "duration": 61,
    "start_time": "2024-12-04T22:58:21.071Z"
   },
   {
    "duration": 2613,
    "start_time": "2024-12-05T01:23:30.631Z"
   },
   {
    "duration": 456,
    "start_time": "2024-12-05T01:23:33.246Z"
   },
   {
    "duration": 107,
    "start_time": "2024-12-05T01:23:33.704Z"
   },
   {
    "duration": 100,
    "start_time": "2024-12-05T01:23:33.813Z"
   },
   {
    "duration": 6,
    "start_time": "2024-12-05T01:23:33.915Z"
   },
   {
    "duration": 22,
    "start_time": "2024-12-05T01:23:33.922Z"
   },
   {
    "duration": 517,
    "start_time": "2024-12-05T01:23:33.945Z"
   },
   {
    "duration": 39,
    "start_time": "2024-12-05T01:23:34.464Z"
   },
   {
    "duration": 12,
    "start_time": "2024-12-05T01:23:34.505Z"
   },
   {
    "duration": 156,
    "start_time": "2024-12-05T01:23:34.520Z"
   },
   {
    "duration": 83,
    "start_time": "2024-12-05T01:23:34.677Z"
   },
   {
    "duration": 197,
    "start_time": "2024-12-05T01:23:34.761Z"
   },
   {
    "duration": 91,
    "start_time": "2024-12-05T01:23:34.960Z"
   },
   {
    "duration": 7,
    "start_time": "2024-12-05T01:23:35.052Z"
   },
   {
    "duration": 0,
    "start_time": "2024-12-05T01:23:35.061Z"
   },
   {
    "duration": 0,
    "start_time": "2024-12-05T01:23:35.062Z"
   },
   {
    "duration": 0,
    "start_time": "2024-12-05T01:23:35.064Z"
   },
   {
    "duration": 0,
    "start_time": "2024-12-05T01:23:35.065Z"
   },
   {
    "duration": 0,
    "start_time": "2024-12-05T01:23:35.066Z"
   },
   {
    "duration": 0,
    "start_time": "2024-12-05T01:23:35.068Z"
   },
   {
    "duration": 0,
    "start_time": "2024-12-05T01:23:35.069Z"
   },
   {
    "duration": 0,
    "start_time": "2024-12-05T01:23:35.070Z"
   },
   {
    "duration": 0,
    "start_time": "2024-12-05T01:23:35.072Z"
   },
   {
    "duration": 0,
    "start_time": "2024-12-05T01:23:35.073Z"
   },
   {
    "duration": 0,
    "start_time": "2024-12-05T01:23:35.074Z"
   },
   {
    "duration": 0,
    "start_time": "2024-12-05T01:23:35.076Z"
   },
   {
    "duration": 0,
    "start_time": "2024-12-05T01:23:35.078Z"
   },
   {
    "duration": 7,
    "start_time": "2024-12-05T01:30:20.697Z"
   },
   {
    "duration": 6,
    "start_time": "2024-12-05T01:31:41.103Z"
   },
   {
    "duration": 39,
    "start_time": "2024-12-05T01:32:09.328Z"
   },
   {
    "duration": 43,
    "start_time": "2024-12-05T01:51:06.855Z"
   },
   {
    "duration": 40,
    "start_time": "2024-12-05T01:51:19.157Z"
   },
   {
    "duration": 22,
    "start_time": "2024-12-05T01:52:49.163Z"
   },
   {
    "duration": 797,
    "start_time": "2024-12-05T01:53:01.917Z"
   },
   {
    "duration": 413,
    "start_time": "2024-12-05T01:53:02.716Z"
   },
   {
    "duration": 97,
    "start_time": "2024-12-05T01:53:03.131Z"
   },
   {
    "duration": 97,
    "start_time": "2024-12-05T01:53:03.231Z"
   },
   {
    "duration": 13,
    "start_time": "2024-12-05T01:53:03.330Z"
   },
   {
    "duration": 13,
    "start_time": "2024-12-05T01:53:03.345Z"
   },
   {
    "duration": 471,
    "start_time": "2024-12-05T01:53:03.360Z"
   },
   {
    "duration": 46,
    "start_time": "2024-12-05T01:53:03.833Z"
   },
   {
    "duration": 21,
    "start_time": "2024-12-05T01:53:03.881Z"
   },
   {
    "duration": 76,
    "start_time": "2024-12-05T01:53:03.904Z"
   },
   {
    "duration": 133,
    "start_time": "2024-12-05T01:53:03.982Z"
   },
   {
    "duration": 71,
    "start_time": "2024-12-05T01:53:04.117Z"
   },
   {
    "duration": 5,
    "start_time": "2024-12-05T01:53:04.190Z"
   },
   {
    "duration": 9,
    "start_time": "2024-12-05T01:53:04.197Z"
   },
   {
    "duration": 86,
    "start_time": "2024-12-05T01:53:04.207Z"
   },
   {
    "duration": 18,
    "start_time": "2024-12-05T01:53:04.295Z"
   },
   {
    "duration": 6,
    "start_time": "2024-12-05T01:53:04.315Z"
   },
   {
    "duration": 53,
    "start_time": "2024-12-05T01:53:04.323Z"
   },
   {
    "duration": 26,
    "start_time": "2024-12-05T01:53:04.378Z"
   },
   {
    "duration": 2,
    "start_time": "2024-12-05T01:53:04.405Z"
   },
   {
    "duration": 61,
    "start_time": "2024-12-05T01:53:04.409Z"
   },
   {
    "duration": 114,
    "start_time": "2024-12-05T01:53:04.472Z"
   },
   {
    "duration": 1592,
    "start_time": "2024-12-05T01:53:04.588Z"
   },
   {
    "duration": 167,
    "start_time": "2024-12-05T01:53:06.182Z"
   },
   {
    "duration": 5,
    "start_time": "2024-12-05T01:53:06.351Z"
   },
   {
    "duration": 432,
    "start_time": "2024-12-05T01:53:06.358Z"
   },
   {
    "duration": 24,
    "start_time": "2024-12-05T01:53:21.087Z"
   },
   {
    "duration": 771,
    "start_time": "2024-12-05T01:53:33.494Z"
   },
   {
    "duration": 410,
    "start_time": "2024-12-05T01:53:34.267Z"
   },
   {
    "duration": 100,
    "start_time": "2024-12-05T01:53:34.679Z"
   },
   {
    "duration": 93,
    "start_time": "2024-12-05T01:53:34.781Z"
   },
   {
    "duration": 3,
    "start_time": "2024-12-05T01:53:34.877Z"
   },
   {
    "duration": 14,
    "start_time": "2024-12-05T01:53:34.881Z"
   },
   {
    "duration": 495,
    "start_time": "2024-12-05T01:53:34.896Z"
   },
   {
    "duration": 49,
    "start_time": "2024-12-05T01:53:35.393Z"
   },
   {
    "duration": 32,
    "start_time": "2024-12-05T01:53:35.444Z"
   },
   {
    "duration": 78,
    "start_time": "2024-12-05T01:53:35.477Z"
   },
   {
    "duration": 153,
    "start_time": "2024-12-05T01:53:35.556Z"
   },
   {
    "duration": 68,
    "start_time": "2024-12-05T01:53:35.711Z"
   },
   {
    "duration": 6,
    "start_time": "2024-12-05T01:53:35.780Z"
   },
   {
    "duration": 9,
    "start_time": "2024-12-05T01:53:35.789Z"
   },
   {
    "duration": 87,
    "start_time": "2024-12-05T01:53:35.799Z"
   },
   {
    "duration": 16,
    "start_time": "2024-12-05T01:53:35.888Z"
   },
   {
    "duration": 8,
    "start_time": "2024-12-05T01:53:35.906Z"
   },
   {
    "duration": 57,
    "start_time": "2024-12-05T01:53:35.916Z"
   },
   {
    "duration": 26,
    "start_time": "2024-12-05T01:53:35.975Z"
   },
   {
    "duration": 2,
    "start_time": "2024-12-05T01:53:36.003Z"
   },
   {
    "duration": 56,
    "start_time": "2024-12-05T01:53:36.007Z"
   },
   {
    "duration": 98,
    "start_time": "2024-12-05T01:53:36.065Z"
   },
   {
    "duration": 1505,
    "start_time": "2024-12-05T01:53:36.165Z"
   },
   {
    "duration": 152,
    "start_time": "2024-12-05T01:53:37.671Z"
   },
   {
    "duration": 3,
    "start_time": "2024-12-05T01:53:37.824Z"
   },
   {
    "duration": 360,
    "start_time": "2024-12-05T01:53:37.829Z"
   },
   {
    "duration": 824,
    "start_time": "2024-12-05T01:54:53.247Z"
   },
   {
    "duration": 419,
    "start_time": "2024-12-05T01:54:54.073Z"
   },
   {
    "duration": 94,
    "start_time": "2024-12-05T01:54:54.494Z"
   },
   {
    "duration": 96,
    "start_time": "2024-12-05T01:54:54.590Z"
   },
   {
    "duration": 3,
    "start_time": "2024-12-05T01:54:54.687Z"
   },
   {
    "duration": 13,
    "start_time": "2024-12-05T01:54:54.692Z"
   },
   {
    "duration": 517,
    "start_time": "2024-12-05T01:54:54.706Z"
   },
   {
    "duration": 48,
    "start_time": "2024-12-05T01:54:55.224Z"
   },
   {
    "duration": 20,
    "start_time": "2024-12-05T01:54:55.274Z"
   },
   {
    "duration": 78,
    "start_time": "2024-12-05T01:54:55.297Z"
   },
   {
    "duration": 135,
    "start_time": "2024-12-05T01:54:55.377Z"
   },
   {
    "duration": 70,
    "start_time": "2024-12-05T01:54:55.514Z"
   },
   {
    "duration": 6,
    "start_time": "2024-12-05T01:54:55.585Z"
   },
   {
    "duration": 8,
    "start_time": "2024-12-05T01:54:55.593Z"
   },
   {
    "duration": 85,
    "start_time": "2024-12-05T01:54:55.602Z"
   },
   {
    "duration": 19,
    "start_time": "2024-12-05T01:54:55.688Z"
   },
   {
    "duration": 6,
    "start_time": "2024-12-05T01:54:55.708Z"
   },
   {
    "duration": 59,
    "start_time": "2024-12-05T01:54:55.715Z"
   },
   {
    "duration": 26,
    "start_time": "2024-12-05T01:54:55.776Z"
   },
   {
    "duration": 2,
    "start_time": "2024-12-05T01:54:55.804Z"
   },
   {
    "duration": 55,
    "start_time": "2024-12-05T01:54:55.808Z"
   },
   {
    "duration": 95,
    "start_time": "2024-12-05T01:54:55.864Z"
   },
   {
    "duration": 1488,
    "start_time": "2024-12-05T01:54:55.960Z"
   },
   {
    "duration": 149,
    "start_time": "2024-12-05T01:54:57.450Z"
   },
   {
    "duration": 3,
    "start_time": "2024-12-05T01:54:57.601Z"
   },
   {
    "duration": 360,
    "start_time": "2024-12-05T01:54:57.605Z"
   },
   {
    "duration": 884,
    "start_time": "2024-12-05T01:55:51.690Z"
   },
   {
    "duration": 442,
    "start_time": "2024-12-05T01:55:52.576Z"
   },
   {
    "duration": 101,
    "start_time": "2024-12-05T01:55:53.020Z"
   },
   {
    "duration": 92,
    "start_time": "2024-12-05T01:55:53.124Z"
   },
   {
    "duration": 5,
    "start_time": "2024-12-05T01:55:53.218Z"
   },
   {
    "duration": 26,
    "start_time": "2024-12-05T01:55:53.225Z"
   },
   {
    "duration": 498,
    "start_time": "2024-12-05T01:55:53.254Z"
   },
   {
    "duration": 50,
    "start_time": "2024-12-05T01:55:53.754Z"
   },
   {
    "duration": 36,
    "start_time": "2024-12-05T01:55:53.807Z"
   },
   {
    "duration": 65,
    "start_time": "2024-12-05T01:55:53.848Z"
   },
   {
    "duration": 140,
    "start_time": "2024-12-05T01:55:53.916Z"
   },
   {
    "duration": 69,
    "start_time": "2024-12-05T01:55:54.058Z"
   },
   {
    "duration": 18,
    "start_time": "2024-12-05T01:55:54.129Z"
   },
   {
    "duration": 12,
    "start_time": "2024-12-05T01:55:54.150Z"
   },
   {
    "duration": 67,
    "start_time": "2024-12-05T01:55:54.163Z"
   },
   {
    "duration": 30,
    "start_time": "2024-12-05T01:55:54.231Z"
   },
   {
    "duration": 9,
    "start_time": "2024-12-05T01:55:54.264Z"
   },
   {
    "duration": 45,
    "start_time": "2024-12-05T01:55:54.275Z"
   },
   {
    "duration": 42,
    "start_time": "2024-12-05T01:55:54.322Z"
   },
   {
    "duration": 3,
    "start_time": "2024-12-05T01:55:54.366Z"
   },
   {
    "duration": 42,
    "start_time": "2024-12-05T01:55:54.370Z"
   },
   {
    "duration": 109,
    "start_time": "2024-12-05T01:55:54.414Z"
   },
   {
    "duration": 1531,
    "start_time": "2024-12-05T01:55:54.525Z"
   },
   {
    "duration": 161,
    "start_time": "2024-12-05T01:55:56.058Z"
   },
   {
    "duration": 3,
    "start_time": "2024-12-05T01:55:56.221Z"
   },
   {
    "duration": 412,
    "start_time": "2024-12-05T01:55:56.226Z"
   },
   {
    "duration": 848,
    "start_time": "2024-12-05T01:57:34.370Z"
   },
   {
    "duration": 414,
    "start_time": "2024-12-05T01:57:35.221Z"
   },
   {
    "duration": 125,
    "start_time": "2024-12-05T01:57:35.639Z"
   },
   {
    "duration": 113,
    "start_time": "2024-12-05T01:57:35.767Z"
   },
   {
    "duration": 4,
    "start_time": "2024-12-05T01:57:35.881Z"
   },
   {
    "duration": 12,
    "start_time": "2024-12-05T01:57:35.887Z"
   },
   {
    "duration": 508,
    "start_time": "2024-12-05T01:57:35.901Z"
   },
   {
    "duration": 46,
    "start_time": "2024-12-05T01:57:36.410Z"
   },
   {
    "duration": 24,
    "start_time": "2024-12-05T01:57:36.457Z"
   },
   {
    "duration": 83,
    "start_time": "2024-12-05T01:57:36.484Z"
   },
   {
    "duration": 130,
    "start_time": "2024-12-05T01:57:36.568Z"
   },
   {
    "duration": 98,
    "start_time": "2024-12-05T01:57:36.699Z"
   },
   {
    "duration": 6,
    "start_time": "2024-12-05T01:57:36.799Z"
   },
   {
    "duration": 9,
    "start_time": "2024-12-05T01:57:36.807Z"
   },
   {
    "duration": 85,
    "start_time": "2024-12-05T01:57:36.818Z"
   },
   {
    "duration": 15,
    "start_time": "2024-12-05T01:57:36.906Z"
   },
   {
    "duration": 21,
    "start_time": "2024-12-05T01:57:36.923Z"
   },
   {
    "duration": 42,
    "start_time": "2024-12-05T01:57:36.945Z"
   },
   {
    "duration": 28,
    "start_time": "2024-12-05T01:57:36.989Z"
   },
   {
    "duration": 2,
    "start_time": "2024-12-05T01:57:37.019Z"
   },
   {
    "duration": 42,
    "start_time": "2024-12-05T01:57:37.043Z"
   },
   {
    "duration": 132,
    "start_time": "2024-12-05T01:57:37.087Z"
   },
   {
    "duration": 1545,
    "start_time": "2024-12-05T01:57:37.221Z"
   },
   {
    "duration": 148,
    "start_time": "2024-12-05T01:57:38.768Z"
   },
   {
    "duration": 2,
    "start_time": "2024-12-05T01:57:38.918Z"
   },
   {
    "duration": 350,
    "start_time": "2024-12-05T01:57:38.922Z"
   },
   {
    "duration": 24,
    "start_time": "2024-12-05T01:58:34.840Z"
   },
   {
    "duration": 891,
    "start_time": "2024-12-05T01:58:52.329Z"
   },
   {
    "duration": 417,
    "start_time": "2024-12-05T01:58:53.222Z"
   },
   {
    "duration": 93,
    "start_time": "2024-12-05T01:58:53.641Z"
   },
   {
    "duration": 106,
    "start_time": "2024-12-05T01:58:53.742Z"
   },
   {
    "duration": 5,
    "start_time": "2024-12-05T01:58:53.850Z"
   },
   {
    "duration": 13,
    "start_time": "2024-12-05T01:58:53.858Z"
   },
   {
    "duration": 503,
    "start_time": "2024-12-05T01:58:53.873Z"
   },
   {
    "duration": 41,
    "start_time": "2024-12-05T01:58:54.378Z"
   },
   {
    "duration": 31,
    "start_time": "2024-12-05T01:58:54.420Z"
   },
   {
    "duration": 67,
    "start_time": "2024-12-05T01:58:54.455Z"
   },
   {
    "duration": 147,
    "start_time": "2024-12-05T01:58:54.524Z"
   },
   {
    "duration": 73,
    "start_time": "2024-12-05T01:58:54.673Z"
   },
   {
    "duration": 6,
    "start_time": "2024-12-05T01:58:54.748Z"
   },
   {
    "duration": 8,
    "start_time": "2024-12-05T01:58:54.756Z"
   },
   {
    "duration": 82,
    "start_time": "2024-12-05T01:58:54.766Z"
   },
   {
    "duration": 19,
    "start_time": "2024-12-05T01:58:54.850Z"
   },
   {
    "duration": 7,
    "start_time": "2024-12-05T01:58:54.872Z"
   },
   {
    "duration": 82,
    "start_time": "2024-12-05T01:58:54.881Z"
   },
   {
    "duration": 25,
    "start_time": "2024-12-05T01:58:54.966Z"
   },
   {
    "duration": 3,
    "start_time": "2024-12-05T01:58:54.993Z"
   },
   {
    "duration": 56,
    "start_time": "2024-12-05T01:58:54.998Z"
   },
   {
    "duration": 104,
    "start_time": "2024-12-05T01:58:55.057Z"
   },
   {
    "duration": 1503,
    "start_time": "2024-12-05T01:58:55.163Z"
   },
   {
    "duration": 157,
    "start_time": "2024-12-05T01:58:56.668Z"
   },
   {
    "duration": 2,
    "start_time": "2024-12-05T01:58:56.827Z"
   },
   {
    "duration": 361,
    "start_time": "2024-12-05T01:58:56.831Z"
   },
   {
    "duration": 24,
    "start_time": "2024-12-05T01:59:01.114Z"
   },
   {
    "duration": 859,
    "start_time": "2024-12-05T01:59:39.175Z"
   },
   {
    "duration": 420,
    "start_time": "2024-12-05T01:59:40.037Z"
   },
   {
    "duration": 125,
    "start_time": "2024-12-05T01:59:40.459Z"
   },
   {
    "duration": 103,
    "start_time": "2024-12-05T01:59:40.586Z"
   },
   {
    "duration": 4,
    "start_time": "2024-12-05T01:59:40.692Z"
   },
   {
    "duration": 13,
    "start_time": "2024-12-05T01:59:40.697Z"
   },
   {
    "duration": 565,
    "start_time": "2024-12-05T01:59:40.713Z"
   },
   {
    "duration": 42,
    "start_time": "2024-12-05T01:59:41.280Z"
   },
   {
    "duration": 32,
    "start_time": "2024-12-05T01:59:41.323Z"
   },
   {
    "duration": 4,
    "start_time": "2024-12-05T01:59:41.356Z"
   },
   {
    "duration": 0,
    "start_time": "2024-12-05T01:59:41.363Z"
   },
   {
    "duration": 0,
    "start_time": "2024-12-05T01:59:41.364Z"
   },
   {
    "duration": 0,
    "start_time": "2024-12-05T01:59:41.365Z"
   },
   {
    "duration": 0,
    "start_time": "2024-12-05T01:59:41.367Z"
   },
   {
    "duration": 0,
    "start_time": "2024-12-05T01:59:41.368Z"
   },
   {
    "duration": 1,
    "start_time": "2024-12-05T01:59:41.369Z"
   },
   {
    "duration": 0,
    "start_time": "2024-12-05T01:59:41.371Z"
   },
   {
    "duration": 0,
    "start_time": "2024-12-05T01:59:41.372Z"
   },
   {
    "duration": 0,
    "start_time": "2024-12-05T01:59:41.374Z"
   },
   {
    "duration": 0,
    "start_time": "2024-12-05T01:59:41.375Z"
   },
   {
    "duration": 1,
    "start_time": "2024-12-05T01:59:41.376Z"
   },
   {
    "duration": 0,
    "start_time": "2024-12-05T01:59:41.378Z"
   },
   {
    "duration": 0,
    "start_time": "2024-12-05T01:59:41.379Z"
   },
   {
    "duration": 0,
    "start_time": "2024-12-05T01:59:41.380Z"
   },
   {
    "duration": 0,
    "start_time": "2024-12-05T01:59:41.382Z"
   },
   {
    "duration": 0,
    "start_time": "2024-12-05T01:59:41.383Z"
   },
   {
    "duration": 23,
    "start_time": "2024-12-05T01:59:57.865Z"
   },
   {
    "duration": 27,
    "start_time": "2024-12-05T02:00:30.523Z"
   },
   {
    "duration": 30,
    "start_time": "2024-12-05T02:00:39.395Z"
   },
   {
    "duration": 42,
    "start_time": "2024-12-05T02:01:24.829Z"
   },
   {
    "duration": 21,
    "start_time": "2024-12-05T02:01:31.690Z"
   },
   {
    "duration": 22,
    "start_time": "2024-12-05T02:01:48.768Z"
   },
   {
    "duration": 48,
    "start_time": "2024-12-05T02:01:54.723Z"
   },
   {
    "duration": 35,
    "start_time": "2024-12-05T02:02:09.355Z"
   },
   {
    "duration": 19,
    "start_time": "2024-12-05T02:05:34.724Z"
   },
   {
    "duration": 556,
    "start_time": "2024-12-05T02:06:09.159Z"
   },
   {
    "duration": 28,
    "start_time": "2024-12-05T02:06:57.200Z"
   },
   {
    "duration": 18,
    "start_time": "2024-12-05T02:08:31.558Z"
   },
   {
    "duration": 6,
    "start_time": "2024-12-05T02:08:57.429Z"
   },
   {
    "duration": 6,
    "start_time": "2024-12-05T02:09:49.584Z"
   },
   {
    "duration": 7,
    "start_time": "2024-12-05T02:10:27.345Z"
   },
   {
    "duration": 7,
    "start_time": "2024-12-05T02:11:01.828Z"
   },
   {
    "duration": 7,
    "start_time": "2024-12-05T02:14:13.442Z"
   },
   {
    "duration": 37,
    "start_time": "2024-12-05T02:17:00.234Z"
   },
   {
    "duration": 8,
    "start_time": "2024-12-05T02:17:12.783Z"
   },
   {
    "duration": 8,
    "start_time": "2024-12-05T02:17:35.177Z"
   },
   {
    "duration": 17,
    "start_time": "2024-12-05T02:18:23.179Z"
   },
   {
    "duration": 9,
    "start_time": "2024-12-05T02:19:25.054Z"
   },
   {
    "duration": 9,
    "start_time": "2024-12-05T02:19:51.896Z"
   },
   {
    "duration": 8,
    "start_time": "2024-12-05T02:20:24.122Z"
   },
   {
    "duration": 18,
    "start_time": "2024-12-05T02:20:49.853Z"
   },
   {
    "duration": 8,
    "start_time": "2024-12-05T02:20:57.352Z"
   },
   {
    "duration": 16,
    "start_time": "2024-12-05T02:21:14.982Z"
   },
   {
    "duration": 10,
    "start_time": "2024-12-05T02:21:30.020Z"
   },
   {
    "duration": 8,
    "start_time": "2024-12-05T02:22:01.591Z"
   },
   {
    "duration": 9,
    "start_time": "2024-12-05T02:22:24.421Z"
   },
   {
    "duration": 8,
    "start_time": "2024-12-05T02:22:57.947Z"
   },
   {
    "duration": 8,
    "start_time": "2024-12-05T02:23:08.083Z"
   },
   {
    "duration": 8,
    "start_time": "2024-12-05T02:26:44.596Z"
   },
   {
    "duration": 9,
    "start_time": "2024-12-05T02:36:56.569Z"
   },
   {
    "duration": 8,
    "start_time": "2024-12-05T02:39:56.592Z"
   },
   {
    "duration": 9,
    "start_time": "2024-12-05T02:40:05.770Z"
   },
   {
    "duration": 89,
    "start_time": "2024-12-05T02:40:59.973Z"
   },
   {
    "duration": 123,
    "start_time": "2024-12-05T02:41:09.372Z"
   },
   {
    "duration": 203,
    "start_time": "2024-12-05T02:44:40.506Z"
   },
   {
    "duration": 65,
    "start_time": "2024-12-05T02:53:09.385Z"
   },
   {
    "duration": 131,
    "start_time": "2024-12-05T02:55:48.007Z"
   },
   {
    "duration": 160,
    "start_time": "2024-12-05T16:25:09.982Z"
   },
   {
    "duration": 2625,
    "start_time": "2024-12-05T16:25:20.366Z"
   },
   {
    "duration": 468,
    "start_time": "2024-12-05T16:25:22.993Z"
   },
   {
    "duration": 101,
    "start_time": "2024-12-05T16:25:23.463Z"
   },
   {
    "duration": 98,
    "start_time": "2024-12-05T16:25:23.567Z"
   },
   {
    "duration": 5,
    "start_time": "2024-12-05T16:25:23.667Z"
   },
   {
    "duration": 12,
    "start_time": "2024-12-05T16:25:23.673Z"
   },
   {
    "duration": 532,
    "start_time": "2024-12-05T16:25:23.687Z"
   },
   {
    "duration": 39,
    "start_time": "2024-12-05T16:25:24.224Z"
   },
   {
    "duration": 9,
    "start_time": "2024-12-05T16:25:24.265Z"
   },
   {
    "duration": 84,
    "start_time": "2024-12-05T16:25:24.278Z"
   },
   {
    "duration": 281,
    "start_time": "2024-12-05T16:25:24.363Z"
   },
   {
    "duration": 0,
    "start_time": "2024-12-05T16:25:24.646Z"
   },
   {
    "duration": 0,
    "start_time": "2024-12-05T16:25:24.647Z"
   },
   {
    "duration": 1,
    "start_time": "2024-12-05T16:25:24.648Z"
   },
   {
    "duration": 0,
    "start_time": "2024-12-05T16:25:24.650Z"
   },
   {
    "duration": 0,
    "start_time": "2024-12-05T16:25:24.652Z"
   },
   {
    "duration": 0,
    "start_time": "2024-12-05T16:25:24.653Z"
   },
   {
    "duration": 0,
    "start_time": "2024-12-05T16:25:24.655Z"
   },
   {
    "duration": 1,
    "start_time": "2024-12-05T16:25:24.656Z"
   },
   {
    "duration": 0,
    "start_time": "2024-12-05T16:25:24.658Z"
   },
   {
    "duration": 0,
    "start_time": "2024-12-05T16:25:24.659Z"
   },
   {
    "duration": 0,
    "start_time": "2024-12-05T16:25:24.661Z"
   },
   {
    "duration": 0,
    "start_time": "2024-12-05T16:25:24.663Z"
   },
   {
    "duration": 0,
    "start_time": "2024-12-05T16:25:24.664Z"
   },
   {
    "duration": 0,
    "start_time": "2024-12-05T16:25:24.666Z"
   },
   {
    "duration": 0,
    "start_time": "2024-12-05T16:25:24.667Z"
   },
   {
    "duration": 0,
    "start_time": "2024-12-05T16:25:24.668Z"
   },
   {
    "duration": 244,
    "start_time": "2024-12-05T16:25:59.238Z"
   },
   {
    "duration": 125,
    "start_time": "2024-12-05T16:26:21.202Z"
   },
   {
    "duration": 4557,
    "start_time": "2024-12-05T16:33:56.783Z"
   },
   {
    "duration": 132,
    "start_time": "2024-12-05T16:35:39.266Z"
   },
   {
    "duration": 2797,
    "start_time": "2024-12-05T16:42:01.403Z"
   },
   {
    "duration": 2906,
    "start_time": "2024-12-05T16:42:31.020Z"
   },
   {
    "duration": 64,
    "start_time": "2024-12-05T16:42:42.896Z"
   },
   {
    "duration": 3,
    "start_time": "2024-12-05T16:43:47.838Z"
   },
   {
    "duration": 819,
    "start_time": "2024-12-05T16:43:56.528Z"
   },
   {
    "duration": 423,
    "start_time": "2024-12-05T16:43:57.349Z"
   },
   {
    "duration": 101,
    "start_time": "2024-12-05T16:43:57.774Z"
   },
   {
    "duration": 94,
    "start_time": "2024-12-05T16:43:57.878Z"
   },
   {
    "duration": 4,
    "start_time": "2024-12-05T16:43:57.974Z"
   },
   {
    "duration": 12,
    "start_time": "2024-12-05T16:43:57.979Z"
   },
   {
    "duration": 499,
    "start_time": "2024-12-05T16:43:57.993Z"
   },
   {
    "duration": 51,
    "start_time": "2024-12-05T16:43:58.493Z"
   },
   {
    "duration": 10,
    "start_time": "2024-12-05T16:43:58.546Z"
   },
   {
    "duration": 75,
    "start_time": "2024-12-05T16:43:58.559Z"
   },
   {
    "duration": 230,
    "start_time": "2024-12-05T16:43:58.637Z"
   },
   {
    "duration": 2762,
    "start_time": "2024-12-05T16:43:58.870Z"
   },
   {
    "duration": 64,
    "start_time": "2024-12-05T16:44:01.635Z"
   },
   {
    "duration": 23,
    "start_time": "2024-12-05T16:44:01.701Z"
   },
   {
    "duration": 8,
    "start_time": "2024-12-05T16:44:01.726Z"
   },
   {
    "duration": 65,
    "start_time": "2024-12-05T16:44:01.736Z"
   },
   {
    "duration": 32,
    "start_time": "2024-12-05T16:44:01.803Z"
   },
   {
    "duration": 6,
    "start_time": "2024-12-05T16:44:01.838Z"
   },
   {
    "duration": 40,
    "start_time": "2024-12-05T16:44:01.846Z"
   },
   {
    "duration": 43,
    "start_time": "2024-12-05T16:44:01.888Z"
   },
   {
    "duration": 2,
    "start_time": "2024-12-05T16:44:01.933Z"
   },
   {
    "duration": 40,
    "start_time": "2024-12-05T16:44:01.937Z"
   },
   {
    "duration": 110,
    "start_time": "2024-12-05T16:44:01.979Z"
   },
   {
    "duration": 1438,
    "start_time": "2024-12-05T16:44:02.090Z"
   },
   {
    "duration": 138,
    "start_time": "2024-12-05T16:44:03.530Z"
   },
   {
    "duration": 2,
    "start_time": "2024-12-05T16:44:03.669Z"
   },
   {
    "duration": 359,
    "start_time": "2024-12-05T16:44:03.673Z"
   },
   {
    "duration": 417,
    "start_time": "2024-12-05T16:52:19.926Z"
   },
   {
    "duration": 620,
    "start_time": "2024-12-05T16:56:14.623Z"
   },
   {
    "duration": 54,
    "start_time": "2024-12-05T16:56:29.522Z"
   },
   {
    "duration": 886,
    "start_time": "2024-12-05T16:56:37.665Z"
   },
   {
    "duration": 413,
    "start_time": "2024-12-05T16:56:38.553Z"
   },
   {
    "duration": 142,
    "start_time": "2024-12-05T16:56:38.968Z"
   },
   {
    "duration": 108,
    "start_time": "2024-12-05T16:56:39.116Z"
   },
   {
    "duration": 3,
    "start_time": "2024-12-05T16:56:39.226Z"
   },
   {
    "duration": 12,
    "start_time": "2024-12-05T16:56:39.231Z"
   },
   {
    "duration": 491,
    "start_time": "2024-12-05T16:56:39.245Z"
   },
   {
    "duration": 40,
    "start_time": "2024-12-05T16:56:39.738Z"
   },
   {
    "duration": 12,
    "start_time": "2024-12-05T16:56:39.780Z"
   },
   {
    "duration": 86,
    "start_time": "2024-12-05T16:56:39.796Z"
   },
   {
    "duration": 251,
    "start_time": "2024-12-05T16:56:39.884Z"
   },
   {
    "duration": 70,
    "start_time": "2024-12-05T16:56:40.137Z"
   },
   {
    "duration": 82,
    "start_time": "2024-12-05T16:56:40.210Z"
   },
   {
    "duration": 7,
    "start_time": "2024-12-05T16:56:40.294Z"
   },
   {
    "duration": 22,
    "start_time": "2024-12-05T16:56:40.302Z"
   },
   {
    "duration": 107,
    "start_time": "2024-12-05T16:56:40.326Z"
   },
   {
    "duration": 20,
    "start_time": "2024-12-05T16:56:40.435Z"
   },
   {
    "duration": 7,
    "start_time": "2024-12-05T16:56:40.459Z"
   },
   {
    "duration": 57,
    "start_time": "2024-12-05T16:56:40.469Z"
   },
   {
    "duration": 32,
    "start_time": "2024-12-05T16:56:40.528Z"
   },
   {
    "duration": 4,
    "start_time": "2024-12-05T16:56:40.562Z"
   },
   {
    "duration": 40,
    "start_time": "2024-12-05T16:56:40.568Z"
   },
   {
    "duration": 118,
    "start_time": "2024-12-05T16:56:40.625Z"
   },
   {
    "duration": 1497,
    "start_time": "2024-12-05T16:56:40.744Z"
   },
   {
    "duration": 159,
    "start_time": "2024-12-05T16:56:42.244Z"
   },
   {
    "duration": 3,
    "start_time": "2024-12-05T16:56:42.405Z"
   },
   {
    "duration": 389,
    "start_time": "2024-12-05T16:56:42.411Z"
   },
   {
    "duration": 881,
    "start_time": "2024-12-05T16:57:23.943Z"
   },
   {
    "duration": 448,
    "start_time": "2024-12-05T16:57:24.827Z"
   },
   {
    "duration": 103,
    "start_time": "2024-12-05T16:57:25.279Z"
   },
   {
    "duration": 103,
    "start_time": "2024-12-05T16:57:25.384Z"
   },
   {
    "duration": 5,
    "start_time": "2024-12-05T16:57:25.489Z"
   },
   {
    "duration": 16,
    "start_time": "2024-12-05T16:57:25.496Z"
   },
   {
    "duration": 600,
    "start_time": "2024-12-05T16:57:25.513Z"
   },
   {
    "duration": 48,
    "start_time": "2024-12-05T16:57:26.115Z"
   },
   {
    "duration": 10,
    "start_time": "2024-12-05T16:57:26.165Z"
   },
   {
    "duration": 88,
    "start_time": "2024-12-05T16:57:26.180Z"
   },
   {
    "duration": 285,
    "start_time": "2024-12-05T16:57:26.270Z"
   },
   {
    "duration": 60,
    "start_time": "2024-12-05T16:57:26.557Z"
   },
   {
    "duration": 80,
    "start_time": "2024-12-05T16:57:26.625Z"
   },
   {
    "duration": 21,
    "start_time": "2024-12-05T16:57:26.707Z"
   },
   {
    "duration": 12,
    "start_time": "2024-12-05T16:57:26.732Z"
   },
   {
    "duration": 90,
    "start_time": "2024-12-05T16:57:26.746Z"
   },
   {
    "duration": 22,
    "start_time": "2024-12-05T16:57:26.838Z"
   },
   {
    "duration": 8,
    "start_time": "2024-12-05T16:57:26.862Z"
   },
   {
    "duration": 64,
    "start_time": "2024-12-05T16:57:26.872Z"
   },
   {
    "duration": 33,
    "start_time": "2024-12-05T16:57:26.937Z"
   },
   {
    "duration": 3,
    "start_time": "2024-12-05T16:57:26.972Z"
   },
   {
    "duration": 59,
    "start_time": "2024-12-05T16:57:26.976Z"
   },
   {
    "duration": 105,
    "start_time": "2024-12-05T16:57:27.037Z"
   },
   {
    "duration": 1651,
    "start_time": "2024-12-05T16:57:27.144Z"
   },
   {
    "duration": 167,
    "start_time": "2024-12-05T16:57:28.799Z"
   },
   {
    "duration": 3,
    "start_time": "2024-12-05T16:57:28.968Z"
   },
   {
    "duration": 381,
    "start_time": "2024-12-05T16:57:28.973Z"
   },
   {
    "duration": 105,
    "start_time": "2024-12-05T16:58:53.553Z"
   },
   {
    "duration": 835,
    "start_time": "2024-12-05T16:59:57.886Z"
   },
   {
    "duration": 408,
    "start_time": "2024-12-05T16:59:58.724Z"
   },
   {
    "duration": 99,
    "start_time": "2024-12-05T16:59:59.134Z"
   },
   {
    "duration": 111,
    "start_time": "2024-12-05T16:59:59.236Z"
   },
   {
    "duration": 3,
    "start_time": "2024-12-05T16:59:59.349Z"
   },
   {
    "duration": 12,
    "start_time": "2024-12-05T16:59:59.354Z"
   },
   {
    "duration": 504,
    "start_time": "2024-12-05T16:59:59.368Z"
   },
   {
    "duration": 59,
    "start_time": "2024-12-05T16:59:59.874Z"
   },
   {
    "duration": 11,
    "start_time": "2024-12-05T16:59:59.935Z"
   },
   {
    "duration": 75,
    "start_time": "2024-12-05T16:59:59.950Z"
   },
   {
    "duration": 241,
    "start_time": "2024-12-05T17:00:00.028Z"
   },
   {
    "duration": 107,
    "start_time": "2024-12-05T17:00:00.271Z"
   },
   {
    "duration": 88,
    "start_time": "2024-12-05T17:00:00.380Z"
   },
   {
    "duration": 7,
    "start_time": "2024-12-05T17:00:00.469Z"
   },
   {
    "duration": 9,
    "start_time": "2024-12-05T17:00:00.478Z"
   },
   {
    "duration": 121,
    "start_time": "2024-12-05T17:00:00.489Z"
   },
   {
    "duration": 24,
    "start_time": "2024-12-05T17:00:00.613Z"
   },
   {
    "duration": 7,
    "start_time": "2024-12-05T17:00:00.638Z"
   },
   {
    "duration": 41,
    "start_time": "2024-12-05T17:00:00.647Z"
   },
   {
    "duration": 44,
    "start_time": "2024-12-05T17:00:00.690Z"
   },
   {
    "duration": 2,
    "start_time": "2024-12-05T17:00:00.736Z"
   },
   {
    "duration": 49,
    "start_time": "2024-12-05T17:00:00.740Z"
   },
   {
    "duration": 111,
    "start_time": "2024-12-05T17:00:00.791Z"
   },
   {
    "duration": 1528,
    "start_time": "2024-12-05T17:00:00.904Z"
   },
   {
    "duration": 151,
    "start_time": "2024-12-05T17:00:02.434Z"
   },
   {
    "duration": 3,
    "start_time": "2024-12-05T17:00:02.587Z"
   },
   {
    "duration": 387,
    "start_time": "2024-12-05T17:00:02.592Z"
   },
   {
    "duration": 817,
    "start_time": "2024-12-05T17:01:07.009Z"
   },
   {
    "duration": 434,
    "start_time": "2024-12-05T17:01:07.828Z"
   },
   {
    "duration": 101,
    "start_time": "2024-12-05T17:01:08.264Z"
   },
   {
    "duration": 100,
    "start_time": "2024-12-05T17:01:08.368Z"
   },
   {
    "duration": 3,
    "start_time": "2024-12-05T17:01:08.470Z"
   },
   {
    "duration": 12,
    "start_time": "2024-12-05T17:01:08.475Z"
   },
   {
    "duration": 497,
    "start_time": "2024-12-05T17:01:08.488Z"
   },
   {
    "duration": 62,
    "start_time": "2024-12-05T17:01:08.988Z"
   },
   {
    "duration": 11,
    "start_time": "2024-12-05T17:01:09.052Z"
   },
   {
    "duration": 94,
    "start_time": "2024-12-05T17:01:09.067Z"
   },
   {
    "duration": 229,
    "start_time": "2024-12-05T17:01:09.163Z"
   },
   {
    "duration": 2904,
    "start_time": "2024-12-05T17:01:09.393Z"
   },
   {
    "duration": 70,
    "start_time": "2024-12-05T17:01:12.299Z"
   },
   {
    "duration": 7,
    "start_time": "2024-12-05T17:01:12.371Z"
   },
   {
    "duration": 11,
    "start_time": "2024-12-05T17:01:12.380Z"
   },
   {
    "duration": 122,
    "start_time": "2024-12-05T17:01:12.396Z"
   },
   {
    "duration": 19,
    "start_time": "2024-12-05T17:01:12.520Z"
   },
   {
    "duration": 6,
    "start_time": "2024-12-05T17:01:12.541Z"
   },
   {
    "duration": 41,
    "start_time": "2024-12-05T17:01:12.549Z"
   },
   {
    "duration": 46,
    "start_time": "2024-12-05T17:01:12.592Z"
   },
   {
    "duration": 4,
    "start_time": "2024-12-05T17:01:12.640Z"
   },
   {
    "duration": 38,
    "start_time": "2024-12-05T17:01:12.646Z"
   },
   {
    "duration": 137,
    "start_time": "2024-12-05T17:01:12.686Z"
   },
   {
    "duration": 1443,
    "start_time": "2024-12-05T17:01:12.827Z"
   },
   {
    "duration": 147,
    "start_time": "2024-12-05T17:01:14.272Z"
   },
   {
    "duration": 4,
    "start_time": "2024-12-05T17:01:14.420Z"
   },
   {
    "duration": 398,
    "start_time": "2024-12-05T17:01:14.426Z"
   },
   {
    "duration": 139,
    "start_time": "2024-12-05T17:12:56.945Z"
   },
   {
    "duration": 5,
    "start_time": "2024-12-05T17:13:10.769Z"
   },
   {
    "duration": 37,
    "start_time": "2024-12-05T17:15:35.557Z"
   },
   {
    "duration": 2,
    "start_time": "2024-12-05T17:18:06.236Z"
   },
   {
    "duration": 3,
    "start_time": "2024-12-05T17:19:43.874Z"
   },
   {
    "duration": 1278,
    "start_time": "2024-12-05T17:20:17.985Z"
   },
   {
    "duration": 3,
    "start_time": "2024-12-05T17:24:26.974Z"
   },
   {
    "duration": 1246,
    "start_time": "2024-12-05T17:24:35.473Z"
   },
   {
    "duration": 3,
    "start_time": "2024-12-05T17:25:01.007Z"
   },
   {
    "duration": 1265,
    "start_time": "2024-12-05T17:25:09.601Z"
   },
   {
    "duration": 882,
    "start_time": "2024-12-05T17:26:00.531Z"
   },
   {
    "duration": 431,
    "start_time": "2024-12-05T17:26:01.415Z"
   },
   {
    "duration": 96,
    "start_time": "2024-12-05T17:26:01.848Z"
   },
   {
    "duration": 96,
    "start_time": "2024-12-05T17:26:01.947Z"
   },
   {
    "duration": 3,
    "start_time": "2024-12-05T17:26:02.046Z"
   },
   {
    "duration": 12,
    "start_time": "2024-12-05T17:26:02.050Z"
   },
   {
    "duration": 486,
    "start_time": "2024-12-05T17:26:02.064Z"
   },
   {
    "duration": 3,
    "start_time": "2024-12-05T17:26:02.552Z"
   },
   {
    "duration": 38,
    "start_time": "2024-12-05T17:26:02.557Z"
   },
   {
    "duration": 31,
    "start_time": "2024-12-05T17:26:02.597Z"
   },
   {
    "duration": 73,
    "start_time": "2024-12-05T17:26:02.630Z"
   },
   {
    "duration": 281,
    "start_time": "2024-12-05T17:26:02.705Z"
   },
   {
    "duration": 2757,
    "start_time": "2024-12-05T17:26:02.988Z"
   },
   {
    "duration": 74,
    "start_time": "2024-12-05T17:26:05.750Z"
   },
   {
    "duration": 7,
    "start_time": "2024-12-05T17:26:05.825Z"
   },
   {
    "duration": 65,
    "start_time": "2024-12-05T17:26:05.833Z"
   },
   {
    "duration": 29,
    "start_time": "2024-12-05T17:26:05.900Z"
   },
   {
    "duration": 16,
    "start_time": "2024-12-05T17:26:05.930Z"
   },
   {
    "duration": 7,
    "start_time": "2024-12-05T17:26:05.947Z"
   },
   {
    "duration": 41,
    "start_time": "2024-12-05T17:26:05.956Z"
   },
   {
    "duration": 49,
    "start_time": "2024-12-05T17:26:05.998Z"
   },
   {
    "duration": 3,
    "start_time": "2024-12-05T17:26:06.049Z"
   },
   {
    "duration": 39,
    "start_time": "2024-12-05T17:26:06.055Z"
   },
   {
    "duration": 109,
    "start_time": "2024-12-05T17:26:06.097Z"
   },
   {
    "duration": 1437,
    "start_time": "2024-12-05T17:26:06.208Z"
   },
   {
    "duration": 135,
    "start_time": "2024-12-05T17:26:07.648Z"
   },
   {
    "duration": 3,
    "start_time": "2024-12-05T17:26:07.786Z"
   },
   {
    "duration": 397,
    "start_time": "2024-12-05T17:26:07.791Z"
   },
   {
    "duration": 64,
    "start_time": "2024-12-05T17:27:20.819Z"
   },
   {
    "duration": 688,
    "start_time": "2024-12-05T17:29:18.362Z"
   },
   {
    "duration": 14,
    "start_time": "2024-12-05T17:30:44.175Z"
   },
   {
    "duration": 53,
    "start_time": "2024-12-05T17:39:17.883Z"
   },
   {
    "duration": 893,
    "start_time": "2024-12-05T17:40:38.531Z"
   },
   {
    "duration": 426,
    "start_time": "2024-12-05T17:40:39.426Z"
   },
   {
    "duration": 95,
    "start_time": "2024-12-05T17:40:39.853Z"
   },
   {
    "duration": 91,
    "start_time": "2024-12-05T17:40:39.950Z"
   },
   {
    "duration": 3,
    "start_time": "2024-12-05T17:40:40.044Z"
   },
   {
    "duration": 12,
    "start_time": "2024-12-05T17:40:40.049Z"
   },
   {
    "duration": 496,
    "start_time": "2024-12-05T17:40:40.063Z"
   },
   {
    "duration": 5,
    "start_time": "2024-12-05T17:40:40.561Z"
   },
   {
    "duration": 39,
    "start_time": "2024-12-05T17:40:40.567Z"
   },
   {
    "duration": 19,
    "start_time": "2024-12-05T17:40:40.608Z"
   },
   {
    "duration": 62,
    "start_time": "2024-12-05T17:40:40.629Z"
   },
   {
    "duration": 268,
    "start_time": "2024-12-05T17:40:40.693Z"
   },
   {
    "duration": 2771,
    "start_time": "2024-12-05T17:40:40.963Z"
   },
   {
    "duration": 61,
    "start_time": "2024-12-05T17:40:43.738Z"
   },
   {
    "duration": 23,
    "start_time": "2024-12-05T17:40:43.801Z"
   },
   {
    "duration": 75,
    "start_time": "2024-12-05T17:40:43.826Z"
   },
   {
    "duration": 744,
    "start_time": "2024-12-05T17:40:43.902Z"
   },
   {
    "duration": 0,
    "start_time": "2024-12-05T17:40:44.648Z"
   },
   {
    "duration": 0,
    "start_time": "2024-12-05T17:40:44.650Z"
   },
   {
    "duration": 0,
    "start_time": "2024-12-05T17:40:44.652Z"
   },
   {
    "duration": 0,
    "start_time": "2024-12-05T17:40:44.653Z"
   },
   {
    "duration": 0,
    "start_time": "2024-12-05T17:40:44.654Z"
   },
   {
    "duration": 0,
    "start_time": "2024-12-05T17:40:44.655Z"
   },
   {
    "duration": 0,
    "start_time": "2024-12-05T17:40:44.657Z"
   },
   {
    "duration": 0,
    "start_time": "2024-12-05T17:40:44.658Z"
   },
   {
    "duration": 0,
    "start_time": "2024-12-05T17:40:44.660Z"
   },
   {
    "duration": 0,
    "start_time": "2024-12-05T17:40:44.661Z"
   },
   {
    "duration": 0,
    "start_time": "2024-12-05T17:40:44.663Z"
   },
   {
    "duration": 1,
    "start_time": "2024-12-05T17:40:44.664Z"
   },
   {
    "duration": 40,
    "start_time": "2024-12-05T17:41:28.039Z"
   },
   {
    "duration": 30,
    "start_time": "2024-12-05T17:42:18.732Z"
   },
   {
    "duration": 34,
    "start_time": "2024-12-05T17:42:55.242Z"
   },
   {
    "duration": 14,
    "start_time": "2024-12-05T17:47:04.146Z"
   },
   {
    "duration": 13,
    "start_time": "2024-12-05T17:47:24.449Z"
   },
   {
    "duration": 10,
    "start_time": "2024-12-05T17:47:53.413Z"
   },
   {
    "duration": 809,
    "start_time": "2024-12-05T17:48:08.205Z"
   },
   {
    "duration": 413,
    "start_time": "2024-12-05T17:48:09.017Z"
   },
   {
    "duration": 101,
    "start_time": "2024-12-05T17:48:09.432Z"
   },
   {
    "duration": 106,
    "start_time": "2024-12-05T17:48:09.535Z"
   },
   {
    "duration": 4,
    "start_time": "2024-12-05T17:48:09.642Z"
   },
   {
    "duration": 12,
    "start_time": "2024-12-05T17:48:09.648Z"
   },
   {
    "duration": 487,
    "start_time": "2024-12-05T17:48:09.662Z"
   },
   {
    "duration": 3,
    "start_time": "2024-12-05T17:48:10.151Z"
   },
   {
    "duration": 38,
    "start_time": "2024-12-05T17:48:10.156Z"
   },
   {
    "duration": 9,
    "start_time": "2024-12-05T17:48:10.197Z"
   },
   {
    "duration": 65,
    "start_time": "2024-12-05T17:48:10.224Z"
   },
   {
    "duration": 268,
    "start_time": "2024-12-05T17:48:10.291Z"
   },
   {
    "duration": 2806,
    "start_time": "2024-12-05T17:48:10.561Z"
   },
   {
    "duration": 71,
    "start_time": "2024-12-05T17:48:13.369Z"
   },
   {
    "duration": 6,
    "start_time": "2024-12-05T17:48:13.442Z"
   },
   {
    "duration": 82,
    "start_time": "2024-12-05T17:48:13.450Z"
   },
   {
    "duration": 38,
    "start_time": "2024-12-05T17:48:13.534Z"
   },
   {
    "duration": 9,
    "start_time": "2024-12-05T17:48:13.574Z"
   },
   {
    "duration": 39,
    "start_time": "2024-12-05T17:48:13.585Z"
   },
   {
    "duration": 7,
    "start_time": "2024-12-05T17:48:13.626Z"
   },
   {
    "duration": 42,
    "start_time": "2024-12-05T17:48:13.634Z"
   },
   {
    "duration": 24,
    "start_time": "2024-12-05T17:48:13.678Z"
   },
   {
    "duration": 25,
    "start_time": "2024-12-05T17:48:13.703Z"
   },
   {
    "duration": 40,
    "start_time": "2024-12-05T17:48:13.730Z"
   },
   {
    "duration": 111,
    "start_time": "2024-12-05T17:48:13.773Z"
   },
   {
    "duration": 1462,
    "start_time": "2024-12-05T17:48:13.885Z"
   },
   {
    "duration": 141,
    "start_time": "2024-12-05T17:48:15.350Z"
   },
   {
    "duration": 2,
    "start_time": "2024-12-05T17:48:15.496Z"
   },
   {
    "duration": 364,
    "start_time": "2024-12-05T17:48:15.500Z"
   },
   {
    "duration": 8,
    "start_time": "2024-12-05T17:49:42.159Z"
   },
   {
    "duration": 9,
    "start_time": "2024-12-05T17:50:01.424Z"
   },
   {
    "duration": 880,
    "start_time": "2024-12-05T17:50:28.344Z"
   },
   {
    "duration": 412,
    "start_time": "2024-12-05T17:50:29.227Z"
   },
   {
    "duration": 96,
    "start_time": "2024-12-05T17:50:29.641Z"
   },
   {
    "duration": 93,
    "start_time": "2024-12-05T17:50:29.740Z"
   },
   {
    "duration": 3,
    "start_time": "2024-12-05T17:50:29.835Z"
   },
   {
    "duration": 12,
    "start_time": "2024-12-05T17:50:29.840Z"
   },
   {
    "duration": 495,
    "start_time": "2024-12-05T17:50:29.853Z"
   },
   {
    "duration": 3,
    "start_time": "2024-12-05T17:50:30.349Z"
   },
   {
    "duration": 39,
    "start_time": "2024-12-05T17:50:30.354Z"
   },
   {
    "duration": 28,
    "start_time": "2024-12-05T17:50:30.397Z"
   },
   {
    "duration": 62,
    "start_time": "2024-12-05T17:50:30.427Z"
   },
   {
    "duration": 274,
    "start_time": "2024-12-05T17:50:30.491Z"
   },
   {
    "duration": 2785,
    "start_time": "2024-12-05T17:50:30.766Z"
   },
   {
    "duration": 72,
    "start_time": "2024-12-05T17:50:33.553Z"
   },
   {
    "duration": 6,
    "start_time": "2024-12-05T17:50:33.627Z"
   },
   {
    "duration": 67,
    "start_time": "2024-12-05T17:50:33.635Z"
   },
   {
    "duration": 56,
    "start_time": "2024-12-05T17:50:33.704Z"
   },
   {
    "duration": 9,
    "start_time": "2024-12-05T17:50:33.762Z"
   },
   {
    "duration": 16,
    "start_time": "2024-12-05T17:50:33.772Z"
   },
   {
    "duration": 7,
    "start_time": "2024-12-05T17:50:33.792Z"
   },
   {
    "duration": 44,
    "start_time": "2024-12-05T17:50:33.823Z"
   },
   {
    "duration": 26,
    "start_time": "2024-12-05T17:50:33.869Z"
   },
   {
    "duration": 2,
    "start_time": "2024-12-05T17:50:33.898Z"
   },
   {
    "duration": 59,
    "start_time": "2024-12-05T17:50:33.902Z"
   },
   {
    "duration": 93,
    "start_time": "2024-12-05T17:50:33.963Z"
   },
   {
    "duration": 1483,
    "start_time": "2024-12-05T17:50:34.058Z"
   },
   {
    "duration": 141,
    "start_time": "2024-12-05T17:50:35.543Z"
   },
   {
    "duration": 3,
    "start_time": "2024-12-05T17:50:35.687Z"
   },
   {
    "duration": 363,
    "start_time": "2024-12-05T17:50:35.691Z"
   },
   {
    "duration": 336,
    "start_time": "2024-12-05T17:52:03.414Z"
   },
   {
    "duration": 822,
    "start_time": "2024-12-05T17:52:31.498Z"
   },
   {
    "duration": 426,
    "start_time": "2024-12-05T17:52:32.323Z"
   },
   {
    "duration": 92,
    "start_time": "2024-12-05T17:52:32.751Z"
   },
   {
    "duration": 96,
    "start_time": "2024-12-05T17:52:32.845Z"
   },
   {
    "duration": 4,
    "start_time": "2024-12-05T17:52:32.943Z"
   },
   {
    "duration": 12,
    "start_time": "2024-12-05T17:52:32.949Z"
   },
   {
    "duration": 483,
    "start_time": "2024-12-05T17:52:32.963Z"
   },
   {
    "duration": 3,
    "start_time": "2024-12-05T17:52:33.448Z"
   },
   {
    "duration": 39,
    "start_time": "2024-12-05T17:52:33.453Z"
   },
   {
    "duration": 9,
    "start_time": "2024-12-05T17:52:33.496Z"
   },
   {
    "duration": 78,
    "start_time": "2024-12-05T17:52:33.507Z"
   },
   {
    "duration": 281,
    "start_time": "2024-12-05T17:52:33.587Z"
   },
   {
    "duration": 2787,
    "start_time": "2024-12-05T17:52:33.870Z"
   },
   {
    "duration": 70,
    "start_time": "2024-12-05T17:52:36.659Z"
   },
   {
    "duration": 6,
    "start_time": "2024-12-05T17:52:36.730Z"
   },
   {
    "duration": 67,
    "start_time": "2024-12-05T17:52:36.738Z"
   },
   {
    "duration": 53,
    "start_time": "2024-12-05T17:52:36.806Z"
   },
   {
    "duration": 382,
    "start_time": "2024-12-05T17:52:36.861Z"
   },
   {
    "duration": 0,
    "start_time": "2024-12-05T17:52:37.245Z"
   },
   {
    "duration": 0,
    "start_time": "2024-12-05T17:52:37.247Z"
   },
   {
    "duration": 0,
    "start_time": "2024-12-05T17:52:37.248Z"
   },
   {
    "duration": 0,
    "start_time": "2024-12-05T17:52:37.250Z"
   },
   {
    "duration": 0,
    "start_time": "2024-12-05T17:52:37.251Z"
   },
   {
    "duration": 0,
    "start_time": "2024-12-05T17:52:37.253Z"
   },
   {
    "duration": 0,
    "start_time": "2024-12-05T17:52:37.254Z"
   },
   {
    "duration": 0,
    "start_time": "2024-12-05T17:52:37.255Z"
   },
   {
    "duration": 0,
    "start_time": "2024-12-05T17:52:37.257Z"
   },
   {
    "duration": 0,
    "start_time": "2024-12-05T17:52:37.258Z"
   },
   {
    "duration": 0,
    "start_time": "2024-12-05T17:52:37.260Z"
   },
   {
    "duration": 10,
    "start_time": "2024-12-05T17:52:53.528Z"
   },
   {
    "duration": 833,
    "start_time": "2024-12-05T17:53:26.528Z"
   },
   {
    "duration": 428,
    "start_time": "2024-12-05T17:53:27.364Z"
   },
   {
    "duration": 99,
    "start_time": "2024-12-05T17:53:27.794Z"
   },
   {
    "duration": 97,
    "start_time": "2024-12-05T17:53:27.896Z"
   },
   {
    "duration": 3,
    "start_time": "2024-12-05T17:53:27.995Z"
   },
   {
    "duration": 25,
    "start_time": "2024-12-05T17:53:28.000Z"
   },
   {
    "duration": 483,
    "start_time": "2024-12-05T17:53:28.026Z"
   },
   {
    "duration": 3,
    "start_time": "2024-12-05T17:53:28.511Z"
   },
   {
    "duration": 46,
    "start_time": "2024-12-05T17:53:28.515Z"
   },
   {
    "duration": 10,
    "start_time": "2024-12-05T17:53:28.564Z"
   },
   {
    "duration": 83,
    "start_time": "2024-12-05T17:53:28.575Z"
   },
   {
    "duration": 215,
    "start_time": "2024-12-05T17:53:28.660Z"
   },
   {
    "duration": 2827,
    "start_time": "2024-12-05T17:53:28.877Z"
   },
   {
    "duration": 68,
    "start_time": "2024-12-05T17:53:31.706Z"
   },
   {
    "duration": 6,
    "start_time": "2024-12-05T17:53:31.777Z"
   },
   {
    "duration": 90,
    "start_time": "2024-12-05T17:53:31.786Z"
   },
   {
    "duration": 47,
    "start_time": "2024-12-05T17:53:31.878Z"
   },
   {
    "duration": 11,
    "start_time": "2024-12-05T17:53:31.927Z"
   },
   {
    "duration": 15,
    "start_time": "2024-12-05T17:53:31.940Z"
   },
   {
    "duration": 6,
    "start_time": "2024-12-05T17:53:31.957Z"
   },
   {
    "duration": 68,
    "start_time": "2024-12-05T17:53:31.965Z"
   },
   {
    "duration": 25,
    "start_time": "2024-12-05T17:53:32.035Z"
   },
   {
    "duration": 3,
    "start_time": "2024-12-05T17:53:32.062Z"
   },
   {
    "duration": 39,
    "start_time": "2024-12-05T17:53:32.066Z"
   },
   {
    "duration": 110,
    "start_time": "2024-12-05T17:53:32.106Z"
   },
   {
    "duration": 1488,
    "start_time": "2024-12-05T17:53:32.223Z"
   },
   {
    "duration": 139,
    "start_time": "2024-12-05T17:53:33.714Z"
   },
   {
    "duration": 3,
    "start_time": "2024-12-05T17:53:33.858Z"
   },
   {
    "duration": 374,
    "start_time": "2024-12-05T17:53:33.863Z"
   },
   {
    "duration": 11,
    "start_time": "2024-12-05T17:56:43.493Z"
   },
   {
    "duration": 864,
    "start_time": "2024-12-05T17:56:57.053Z"
   },
   {
    "duration": 412,
    "start_time": "2024-12-05T17:56:57.919Z"
   },
   {
    "duration": 94,
    "start_time": "2024-12-05T17:56:58.335Z"
   },
   {
    "duration": 96,
    "start_time": "2024-12-05T17:56:58.431Z"
   },
   {
    "duration": 3,
    "start_time": "2024-12-05T17:56:58.530Z"
   },
   {
    "duration": 11,
    "start_time": "2024-12-05T17:56:58.535Z"
   },
   {
    "duration": 519,
    "start_time": "2024-12-05T17:56:58.548Z"
   },
   {
    "duration": 3,
    "start_time": "2024-12-05T17:56:59.068Z"
   },
   {
    "duration": 51,
    "start_time": "2024-12-05T17:56:59.073Z"
   },
   {
    "duration": 10,
    "start_time": "2024-12-05T17:56:59.126Z"
   },
   {
    "duration": 72,
    "start_time": "2024-12-05T17:56:59.137Z"
   },
   {
    "duration": 256,
    "start_time": "2024-12-05T17:56:59.211Z"
   },
   {
    "duration": 2751,
    "start_time": "2024-12-05T17:56:59.469Z"
   },
   {
    "duration": 62,
    "start_time": "2024-12-05T17:57:02.223Z"
   },
   {
    "duration": 7,
    "start_time": "2024-12-05T17:57:02.287Z"
   },
   {
    "duration": 91,
    "start_time": "2024-12-05T17:57:02.296Z"
   },
   {
    "duration": 46,
    "start_time": "2024-12-05T17:57:02.389Z"
   },
   {
    "duration": 11,
    "start_time": "2024-12-05T17:57:02.437Z"
   },
   {
    "duration": 15,
    "start_time": "2024-12-05T17:57:02.450Z"
   },
   {
    "duration": 6,
    "start_time": "2024-12-05T17:57:02.467Z"
   },
   {
    "duration": 66,
    "start_time": "2024-12-05T17:57:02.475Z"
   },
   {
    "duration": 25,
    "start_time": "2024-12-05T17:57:02.543Z"
   },
   {
    "duration": 3,
    "start_time": "2024-12-05T17:57:02.570Z"
   },
   {
    "duration": 54,
    "start_time": "2024-12-05T17:57:02.575Z"
   },
   {
    "duration": 93,
    "start_time": "2024-12-05T17:57:02.631Z"
   },
   {
    "duration": 1475,
    "start_time": "2024-12-05T17:57:02.725Z"
   },
   {
    "duration": 145,
    "start_time": "2024-12-05T17:57:04.202Z"
   },
   {
    "duration": 2,
    "start_time": "2024-12-05T17:57:04.349Z"
   },
   {
    "duration": 361,
    "start_time": "2024-12-05T17:57:04.353Z"
   },
   {
    "duration": 13,
    "start_time": "2024-12-05T17:58:34.649Z"
   },
   {
    "duration": 3,
    "start_time": "2024-12-05T18:18:45.673Z"
   },
   {
    "duration": 1223,
    "start_time": "2024-12-05T18:19:38.293Z"
   },
   {
    "duration": 6,
    "start_time": "2024-12-05T18:21:12.553Z"
   },
   {
    "duration": 864,
    "start_time": "2024-12-05T18:21:22.255Z"
   },
   {
    "duration": 407,
    "start_time": "2024-12-05T18:21:23.124Z"
   },
   {
    "duration": 102,
    "start_time": "2024-12-05T18:21:23.533Z"
   },
   {
    "duration": 94,
    "start_time": "2024-12-05T18:21:23.637Z"
   },
   {
    "duration": 3,
    "start_time": "2024-12-05T18:21:23.733Z"
   },
   {
    "duration": 13,
    "start_time": "2024-12-05T18:21:23.738Z"
   },
   {
    "duration": 501,
    "start_time": "2024-12-05T18:21:23.753Z"
   },
   {
    "duration": 3,
    "start_time": "2024-12-05T18:21:24.255Z"
   },
   {
    "duration": 37,
    "start_time": "2024-12-05T18:21:24.261Z"
   },
   {
    "duration": 24,
    "start_time": "2024-12-05T18:21:24.302Z"
   },
   {
    "duration": 63,
    "start_time": "2024-12-05T18:21:24.328Z"
   },
   {
    "duration": 271,
    "start_time": "2024-12-05T18:21:24.393Z"
   },
   {
    "duration": 2758,
    "start_time": "2024-12-05T18:21:24.666Z"
   },
   {
    "duration": 62,
    "start_time": "2024-12-05T18:21:27.426Z"
   },
   {
    "duration": 5,
    "start_time": "2024-12-05T18:21:27.490Z"
   },
   {
    "duration": 6,
    "start_time": "2024-12-05T18:21:27.497Z"
   },
   {
    "duration": 0,
    "start_time": "2024-12-05T18:21:27.525Z"
   },
   {
    "duration": 0,
    "start_time": "2024-12-05T18:21:27.526Z"
   },
   {
    "duration": 0,
    "start_time": "2024-12-05T18:21:27.527Z"
   },
   {
    "duration": 0,
    "start_time": "2024-12-05T18:21:27.528Z"
   },
   {
    "duration": 0,
    "start_time": "2024-12-05T18:21:27.534Z"
   },
   {
    "duration": 0,
    "start_time": "2024-12-05T18:21:27.535Z"
   },
   {
    "duration": 1,
    "start_time": "2024-12-05T18:21:27.536Z"
   },
   {
    "duration": 0,
    "start_time": "2024-12-05T18:21:27.538Z"
   },
   {
    "duration": 0,
    "start_time": "2024-12-05T18:21:27.539Z"
   },
   {
    "duration": 0,
    "start_time": "2024-12-05T18:21:27.541Z"
   },
   {
    "duration": 0,
    "start_time": "2024-12-05T18:21:27.542Z"
   },
   {
    "duration": 0,
    "start_time": "2024-12-05T18:21:27.544Z"
   },
   {
    "duration": 0,
    "start_time": "2024-12-05T18:21:27.545Z"
   },
   {
    "duration": 0,
    "start_time": "2024-12-05T18:21:27.547Z"
   },
   {
    "duration": 0,
    "start_time": "2024-12-05T18:21:27.548Z"
   },
   {
    "duration": 62,
    "start_time": "2024-12-05T18:25:14.355Z"
   },
   {
    "duration": 862,
    "start_time": "2024-12-05T18:25:48.247Z"
   },
   {
    "duration": 118,
    "start_time": "2024-12-05T18:26:44.230Z"
   },
   {
    "duration": 2540,
    "start_time": "2024-12-05T19:30:53.265Z"
   },
   {
    "duration": 439,
    "start_time": "2024-12-05T19:30:55.807Z"
   },
   {
    "duration": 97,
    "start_time": "2024-12-05T19:30:56.247Z"
   },
   {
    "duration": 90,
    "start_time": "2024-12-05T19:30:56.349Z"
   },
   {
    "duration": 3,
    "start_time": "2024-12-05T19:30:56.441Z"
   },
   {
    "duration": 25,
    "start_time": "2024-12-05T19:30:56.446Z"
   },
   {
    "duration": 485,
    "start_time": "2024-12-05T19:30:56.473Z"
   },
   {
    "duration": 12,
    "start_time": "2024-12-05T19:30:56.959Z"
   },
   {
    "duration": 38,
    "start_time": "2024-12-05T19:30:56.973Z"
   },
   {
    "duration": 10,
    "start_time": "2024-12-05T19:30:57.014Z"
   },
   {
    "duration": 82,
    "start_time": "2024-12-05T19:30:57.026Z"
   },
   {
    "duration": 224,
    "start_time": "2024-12-05T19:30:57.110Z"
   },
   {
    "duration": 2759,
    "start_time": "2024-12-05T19:30:57.336Z"
   },
   {
    "duration": 62,
    "start_time": "2024-12-05T19:31:00.097Z"
   },
   {
    "duration": 6,
    "start_time": "2024-12-05T19:31:00.170Z"
   },
   {
    "duration": 27,
    "start_time": "2024-12-05T19:31:00.178Z"
   },
   {
    "duration": 7,
    "start_time": "2024-12-05T19:31:00.207Z"
   },
   {
    "duration": 9,
    "start_time": "2024-12-05T19:31:00.215Z"
   },
   {
    "duration": 3,
    "start_time": "2024-12-05T19:31:00.226Z"
   },
   {
    "duration": 49,
    "start_time": "2024-12-05T19:31:00.230Z"
   },
   {
    "duration": 40,
    "start_time": "2024-12-05T19:31:00.281Z"
   },
   {
    "duration": 26,
    "start_time": "2024-12-05T19:31:00.322Z"
   },
   {
    "duration": 3,
    "start_time": "2024-12-05T19:31:00.349Z"
   },
   {
    "duration": 40,
    "start_time": "2024-12-05T19:31:00.370Z"
   },
   {
    "duration": 94,
    "start_time": "2024-12-05T19:31:00.411Z"
   },
   {
    "duration": 1437,
    "start_time": "2024-12-05T19:31:00.507Z"
   },
   {
    "duration": 146,
    "start_time": "2024-12-05T19:31:01.946Z"
   },
   {
    "duration": 3,
    "start_time": "2024-12-05T19:31:02.096Z"
   },
   {
    "duration": 348,
    "start_time": "2024-12-05T19:31:02.101Z"
   },
   {
    "duration": 6,
    "start_time": "2024-12-05T19:40:27.241Z"
   },
   {
    "duration": 793,
    "start_time": "2024-12-05T19:40:38.754Z"
   },
   {
    "duration": 407,
    "start_time": "2024-12-05T19:40:39.549Z"
   },
   {
    "duration": 91,
    "start_time": "2024-12-05T19:40:39.957Z"
   },
   {
    "duration": 100,
    "start_time": "2024-12-05T19:40:40.051Z"
   },
   {
    "duration": 4,
    "start_time": "2024-12-05T19:40:40.152Z"
   },
   {
    "duration": 20,
    "start_time": "2024-12-05T19:40:40.157Z"
   },
   {
    "duration": 461,
    "start_time": "2024-12-05T19:40:40.178Z"
   },
   {
    "duration": 3,
    "start_time": "2024-12-05T19:40:40.641Z"
   },
   {
    "duration": 276,
    "start_time": "2024-12-05T19:40:40.645Z"
   },
   {
    "duration": 0,
    "start_time": "2024-12-05T19:40:40.923Z"
   },
   {
    "duration": 0,
    "start_time": "2024-12-05T19:40:40.924Z"
   },
   {
    "duration": 0,
    "start_time": "2024-12-05T19:40:40.925Z"
   },
   {
    "duration": 0,
    "start_time": "2024-12-05T19:40:40.926Z"
   },
   {
    "duration": 0,
    "start_time": "2024-12-05T19:40:40.927Z"
   },
   {
    "duration": 0,
    "start_time": "2024-12-05T19:40:40.928Z"
   },
   {
    "duration": 0,
    "start_time": "2024-12-05T19:40:40.929Z"
   },
   {
    "duration": 0,
    "start_time": "2024-12-05T19:40:40.930Z"
   },
   {
    "duration": 0,
    "start_time": "2024-12-05T19:40:40.931Z"
   },
   {
    "duration": 0,
    "start_time": "2024-12-05T19:40:40.932Z"
   },
   {
    "duration": 0,
    "start_time": "2024-12-05T19:40:40.933Z"
   },
   {
    "duration": 0,
    "start_time": "2024-12-05T19:40:40.934Z"
   },
   {
    "duration": 0,
    "start_time": "2024-12-05T19:40:40.935Z"
   },
   {
    "duration": 0,
    "start_time": "2024-12-05T19:40:40.936Z"
   },
   {
    "duration": 0,
    "start_time": "2024-12-05T19:40:40.938Z"
   },
   {
    "duration": 0,
    "start_time": "2024-12-05T19:40:40.939Z"
   },
   {
    "duration": 0,
    "start_time": "2024-12-05T19:40:40.940Z"
   },
   {
    "duration": 0,
    "start_time": "2024-12-05T19:40:40.970Z"
   },
   {
    "duration": 0,
    "start_time": "2024-12-05T19:40:40.970Z"
   },
   {
    "duration": 0,
    "start_time": "2024-12-05T19:40:40.971Z"
   },
   {
    "duration": 11,
    "start_time": "2024-12-05T19:40:57.872Z"
   },
   {
    "duration": 10,
    "start_time": "2024-12-05T19:41:35.407Z"
   },
   {
    "duration": 37,
    "start_time": "2024-12-05T19:46:34.780Z"
   },
   {
    "duration": 248,
    "start_time": "2024-12-05T19:46:37.050Z"
   },
   {
    "duration": 234,
    "start_time": "2024-12-05T19:46:51.438Z"
   },
   {
    "duration": 195,
    "start_time": "2024-12-05T19:47:01.030Z"
   },
   {
    "duration": 5,
    "start_time": "2024-12-05T19:55:37.235Z"
   },
   {
    "duration": 6,
    "start_time": "2024-12-05T19:55:51.844Z"
   },
   {
    "duration": 10,
    "start_time": "2024-12-05T19:56:03.538Z"
   },
   {
    "duration": 66,
    "start_time": "2024-12-05T19:57:09.283Z"
   },
   {
    "duration": 185,
    "start_time": "2024-12-05T19:57:28.216Z"
   },
   {
    "duration": 2744,
    "start_time": "2024-12-05T20:10:24.907Z"
   },
   {
    "duration": 15,
    "start_time": "2024-12-05T20:16:52.569Z"
   },
   {
    "duration": 12,
    "start_time": "2024-12-05T20:17:00.798Z"
   },
   {
    "duration": 13,
    "start_time": "2024-12-05T20:17:04.620Z"
   },
   {
    "duration": 26,
    "start_time": "2024-12-05T20:19:23.983Z"
   },
   {
    "duration": 806,
    "start_time": "2024-12-05T20:19:35.858Z"
   },
   {
    "duration": 412,
    "start_time": "2024-12-05T20:19:36.669Z"
   },
   {
    "duration": 104,
    "start_time": "2024-12-05T20:19:37.083Z"
   },
   {
    "duration": 94,
    "start_time": "2024-12-05T20:19:37.190Z"
   },
   {
    "duration": 3,
    "start_time": "2024-12-05T20:19:37.287Z"
   },
   {
    "duration": 11,
    "start_time": "2024-12-05T20:19:37.291Z"
   },
   {
    "duration": 491,
    "start_time": "2024-12-05T20:19:37.303Z"
   },
   {
    "duration": 3,
    "start_time": "2024-12-05T20:19:37.796Z"
   },
   {
    "duration": 11,
    "start_time": "2024-12-05T20:19:37.801Z"
   },
   {
    "duration": 56,
    "start_time": "2024-12-05T20:19:37.814Z"
   },
   {
    "duration": 238,
    "start_time": "2024-12-05T20:19:37.871Z"
   },
   {
    "duration": 8,
    "start_time": "2024-12-05T20:19:38.111Z"
   },
   {
    "duration": 79,
    "start_time": "2024-12-05T20:19:38.121Z"
   },
   {
    "duration": 2723,
    "start_time": "2024-12-05T20:19:38.205Z"
   },
   {
    "duration": 27,
    "start_time": "2024-12-05T20:19:40.930Z"
   },
   {
    "duration": 67,
    "start_time": "2024-12-05T20:19:40.959Z"
   },
   {
    "duration": 5,
    "start_time": "2024-12-05T20:19:41.028Z"
   },
   {
    "duration": 51,
    "start_time": "2024-12-05T20:19:41.035Z"
   },
   {
    "duration": 5,
    "start_time": "2024-12-05T20:19:41.087Z"
   },
   {
    "duration": 10,
    "start_time": "2024-12-05T20:19:41.095Z"
   },
   {
    "duration": 3,
    "start_time": "2024-12-05T20:19:41.107Z"
   },
   {
    "duration": 60,
    "start_time": "2024-12-05T20:19:41.111Z"
   },
   {
    "duration": 23,
    "start_time": "2024-12-05T20:19:41.173Z"
   },
   {
    "duration": 2,
    "start_time": "2024-12-05T20:19:41.198Z"
   },
   {
    "duration": 37,
    "start_time": "2024-12-05T20:19:41.202Z"
   },
   {
    "duration": 103,
    "start_time": "2024-12-05T20:19:41.241Z"
   },
   {
    "duration": 1378,
    "start_time": "2024-12-05T20:19:41.345Z"
   },
   {
    "duration": 131,
    "start_time": "2024-12-05T20:19:42.727Z"
   },
   {
    "duration": 2,
    "start_time": "2024-12-05T20:19:42.860Z"
   },
   {
    "duration": 325,
    "start_time": "2024-12-05T20:19:42.870Z"
   },
   {
    "duration": 79,
    "start_time": "2024-12-05T20:24:36.059Z"
   },
   {
    "duration": 837,
    "start_time": "2024-12-05T20:24:49.319Z"
   },
   {
    "duration": 411,
    "start_time": "2024-12-05T20:24:50.159Z"
   },
   {
    "duration": 99,
    "start_time": "2024-12-05T20:24:50.572Z"
   },
   {
    "duration": 88,
    "start_time": "2024-12-05T20:24:50.673Z"
   },
   {
    "duration": 7,
    "start_time": "2024-12-05T20:24:50.763Z"
   },
   {
    "duration": 13,
    "start_time": "2024-12-05T20:24:50.773Z"
   },
   {
    "duration": 492,
    "start_time": "2024-12-05T20:24:50.788Z"
   },
   {
    "duration": 3,
    "start_time": "2024-12-05T20:24:51.281Z"
   },
   {
    "duration": 10,
    "start_time": "2024-12-05T20:24:51.286Z"
   },
   {
    "duration": 37,
    "start_time": "2024-12-05T20:24:51.298Z"
   },
   {
    "duration": 281,
    "start_time": "2024-12-05T20:24:51.337Z"
   },
   {
    "duration": 12,
    "start_time": "2024-12-05T20:24:51.620Z"
   },
   {
    "duration": 78,
    "start_time": "2024-12-05T20:24:51.634Z"
   },
   {
    "duration": 40,
    "start_time": "2024-12-05T20:24:51.716Z"
   },
   {
    "duration": 85,
    "start_time": "2024-12-05T20:24:51.770Z"
   },
   {
    "duration": 2683,
    "start_time": "2024-12-05T20:24:51.857Z"
   },
   {
    "duration": 40,
    "start_time": "2024-12-05T20:24:54.542Z"
   },
   {
    "duration": 59,
    "start_time": "2024-12-05T20:24:54.584Z"
   },
   {
    "duration": 5,
    "start_time": "2024-12-05T20:24:54.645Z"
   },
   {
    "duration": 47,
    "start_time": "2024-12-05T20:24:54.651Z"
   },
   {
    "duration": 5,
    "start_time": "2024-12-05T20:24:54.700Z"
   },
   {
    "duration": 9,
    "start_time": "2024-12-05T20:24:54.707Z"
   },
   {
    "duration": 4,
    "start_time": "2024-12-05T20:24:54.717Z"
   },
   {
    "duration": 72,
    "start_time": "2024-12-05T20:24:54.722Z"
   },
   {
    "duration": 30,
    "start_time": "2024-12-05T20:24:54.796Z"
   },
   {
    "duration": 4,
    "start_time": "2024-12-05T20:24:54.828Z"
   },
   {
    "duration": 97,
    "start_time": "2024-12-05T20:24:54.834Z"
   },
   {
    "duration": 1402,
    "start_time": "2024-12-05T20:24:54.932Z"
   },
   {
    "duration": 139,
    "start_time": "2024-12-05T20:24:56.337Z"
   },
   {
    "duration": 3,
    "start_time": "2024-12-05T20:24:56.478Z"
   },
   {
    "duration": 357,
    "start_time": "2024-12-05T20:24:56.482Z"
   },
   {
    "duration": 45,
    "start_time": "2024-12-05T20:29:26.808Z"
   },
   {
    "duration": 812,
    "start_time": "2024-12-05T20:29:33.842Z"
   },
   {
    "duration": 401,
    "start_time": "2024-12-05T20:29:34.656Z"
   },
   {
    "duration": 96,
    "start_time": "2024-12-05T20:29:35.059Z"
   },
   {
    "duration": 93,
    "start_time": "2024-12-05T20:29:35.157Z"
   },
   {
    "duration": 3,
    "start_time": "2024-12-05T20:29:35.252Z"
   },
   {
    "duration": 26,
    "start_time": "2024-12-05T20:29:35.257Z"
   },
   {
    "duration": 465,
    "start_time": "2024-12-05T20:29:35.285Z"
   },
   {
    "duration": 3,
    "start_time": "2024-12-05T20:29:35.752Z"
   },
   {
    "duration": 21,
    "start_time": "2024-12-05T20:29:35.757Z"
   },
   {
    "duration": 38,
    "start_time": "2024-12-05T20:29:35.780Z"
   },
   {
    "duration": 250,
    "start_time": "2024-12-05T20:29:35.820Z"
   },
   {
    "duration": 10,
    "start_time": "2024-12-05T20:29:36.071Z"
   },
   {
    "duration": 93,
    "start_time": "2024-12-05T20:29:36.083Z"
   },
   {
    "duration": 60,
    "start_time": "2024-12-05T20:29:36.180Z"
   },
   {
    "duration": 51,
    "start_time": "2024-12-05T20:29:36.242Z"
   },
   {
    "duration": 2782,
    "start_time": "2024-12-05T20:29:36.295Z"
   },
   {
    "duration": 43,
    "start_time": "2024-12-05T20:29:39.079Z"
   },
   {
    "duration": 27,
    "start_time": "2024-12-05T20:29:39.124Z"
   },
   {
    "duration": 59,
    "start_time": "2024-12-05T20:29:39.169Z"
   },
   {
    "duration": 5,
    "start_time": "2024-12-05T20:29:39.230Z"
   },
   {
    "duration": 48,
    "start_time": "2024-12-05T20:29:39.237Z"
   },
   {
    "duration": 5,
    "start_time": "2024-12-05T20:29:39.286Z"
   },
   {
    "duration": 9,
    "start_time": "2024-12-05T20:29:39.293Z"
   },
   {
    "duration": 4,
    "start_time": "2024-12-05T20:29:39.303Z"
   },
   {
    "duration": 65,
    "start_time": "2024-12-05T20:29:39.308Z"
   },
   {
    "duration": 23,
    "start_time": "2024-12-05T20:29:39.375Z"
   },
   {
    "duration": 90,
    "start_time": "2024-12-05T20:29:39.400Z"
   },
   {
    "duration": 1379,
    "start_time": "2024-12-05T20:29:39.492Z"
   },
   {
    "duration": 134,
    "start_time": "2024-12-05T20:29:40.872Z"
   },
   {
    "duration": 2,
    "start_time": "2024-12-05T20:29:41.007Z"
   },
   {
    "duration": 335,
    "start_time": "2024-12-05T20:29:41.011Z"
   },
   {
    "duration": 58,
    "start_time": "2024-12-05T20:30:50.687Z"
   },
   {
    "duration": 820,
    "start_time": "2024-12-05T20:31:03.179Z"
   },
   {
    "duration": 406,
    "start_time": "2024-12-05T20:31:04.001Z"
   },
   {
    "duration": 94,
    "start_time": "2024-12-05T20:31:04.409Z"
   },
   {
    "duration": 95,
    "start_time": "2024-12-05T20:31:04.505Z"
   },
   {
    "duration": 3,
    "start_time": "2024-12-05T20:31:04.602Z"
   },
   {
    "duration": 12,
    "start_time": "2024-12-05T20:31:04.607Z"
   },
   {
    "duration": 495,
    "start_time": "2024-12-05T20:31:04.620Z"
   },
   {
    "duration": 3,
    "start_time": "2024-12-05T20:31:05.117Z"
   },
   {
    "duration": 11,
    "start_time": "2024-12-05T20:31:05.121Z"
   },
   {
    "duration": 59,
    "start_time": "2024-12-05T20:31:05.134Z"
   },
   {
    "duration": 221,
    "start_time": "2024-12-05T20:31:05.195Z"
   },
   {
    "duration": 9,
    "start_time": "2024-12-05T20:31:05.418Z"
   },
   {
    "duration": 104,
    "start_time": "2024-12-05T20:31:05.429Z"
   },
   {
    "duration": 67,
    "start_time": "2024-12-05T20:31:05.537Z"
   },
   {
    "duration": 38,
    "start_time": "2024-12-05T20:31:05.606Z"
   },
   {
    "duration": 2772,
    "start_time": "2024-12-05T20:31:05.645Z"
   },
   {
    "duration": 52,
    "start_time": "2024-12-05T20:31:08.419Z"
   },
   {
    "duration": 31,
    "start_time": "2024-12-05T20:31:08.472Z"
   },
   {
    "duration": 71,
    "start_time": "2024-12-05T20:31:08.505Z"
   },
   {
    "duration": 5,
    "start_time": "2024-12-05T20:31:08.577Z"
   },
   {
    "duration": 33,
    "start_time": "2024-12-05T20:31:08.584Z"
   },
   {
    "duration": 5,
    "start_time": "2024-12-05T20:31:08.619Z"
   },
   {
    "duration": 10,
    "start_time": "2024-12-05T20:31:08.626Z"
   },
   {
    "duration": 3,
    "start_time": "2024-12-05T20:31:08.638Z"
   },
   {
    "duration": 39,
    "start_time": "2024-12-05T20:31:08.671Z"
   },
   {
    "duration": 24,
    "start_time": "2024-12-05T20:31:08.712Z"
   },
   {
    "duration": 98,
    "start_time": "2024-12-05T20:31:08.738Z"
   },
   {
    "duration": 1395,
    "start_time": "2024-12-05T20:31:08.838Z"
   },
   {
    "duration": 135,
    "start_time": "2024-12-05T20:31:10.235Z"
   },
   {
    "duration": 2,
    "start_time": "2024-12-05T20:31:10.372Z"
   },
   {
    "duration": 341,
    "start_time": "2024-12-05T20:31:10.375Z"
   },
   {
    "duration": 62,
    "start_time": "2024-12-05T20:31:58.156Z"
   },
   {
    "duration": 57,
    "start_time": "2024-12-05T20:32:16.467Z"
   },
   {
    "duration": 5,
    "start_time": "2024-12-05T20:33:24.266Z"
   },
   {
    "duration": 789,
    "start_time": "2024-12-05T20:33:49.499Z"
   },
   {
    "duration": 125,
    "start_time": "2024-12-05T20:34:06.650Z"
   },
   {
    "duration": 128,
    "start_time": "2024-12-05T20:34:19.544Z"
   },
   {
    "duration": 59,
    "start_time": "2024-12-05T20:34:33.612Z"
   },
   {
    "duration": 57,
    "start_time": "2024-12-05T20:35:02.160Z"
   },
   {
    "duration": 58,
    "start_time": "2024-12-05T20:35:15.983Z"
   },
   {
    "duration": 59,
    "start_time": "2024-12-05T20:35:28.321Z"
   },
   {
    "duration": 837,
    "start_time": "2024-12-05T20:35:57.718Z"
   },
   {
    "duration": 401,
    "start_time": "2024-12-05T20:35:58.557Z"
   },
   {
    "duration": 90,
    "start_time": "2024-12-05T20:35:58.961Z"
   },
   {
    "duration": 94,
    "start_time": "2024-12-05T20:35:59.055Z"
   },
   {
    "duration": 3,
    "start_time": "2024-12-05T20:35:59.150Z"
   },
   {
    "duration": 25,
    "start_time": "2024-12-05T20:35:59.155Z"
   },
   {
    "duration": 473,
    "start_time": "2024-12-05T20:35:59.182Z"
   },
   {
    "duration": 2,
    "start_time": "2024-12-05T20:35:59.657Z"
   },
   {
    "duration": 11,
    "start_time": "2024-12-05T20:35:59.670Z"
   },
   {
    "duration": 37,
    "start_time": "2024-12-05T20:35:59.684Z"
   },
   {
    "duration": 197,
    "start_time": "2024-12-05T20:35:59.722Z"
   },
   {
    "duration": 56,
    "start_time": "2024-12-05T20:35:59.921Z"
   },
   {
    "duration": 96,
    "start_time": "2024-12-05T20:35:59.979Z"
   },
   {
    "duration": 64,
    "start_time": "2024-12-05T20:36:00.076Z"
   },
   {
    "duration": 53,
    "start_time": "2024-12-05T20:36:00.143Z"
   },
   {
    "duration": 2703,
    "start_time": "2024-12-05T20:36:00.198Z"
   },
   {
    "duration": 45,
    "start_time": "2024-12-05T20:36:02.903Z"
   },
   {
    "duration": 43,
    "start_time": "2024-12-05T20:36:02.949Z"
   },
   {
    "duration": 61,
    "start_time": "2024-12-05T20:36:02.994Z"
   },
   {
    "duration": 16,
    "start_time": "2024-12-05T20:36:03.057Z"
   },
   {
    "duration": 34,
    "start_time": "2024-12-05T20:36:03.075Z"
   },
   {
    "duration": 5,
    "start_time": "2024-12-05T20:36:03.111Z"
   },
   {
    "duration": 9,
    "start_time": "2024-12-05T20:36:03.117Z"
   },
   {
    "duration": 3,
    "start_time": "2024-12-05T20:36:03.128Z"
   },
   {
    "duration": 74,
    "start_time": "2024-12-05T20:36:03.132Z"
   },
   {
    "duration": 24,
    "start_time": "2024-12-05T20:36:03.208Z"
   },
   {
    "duration": 90,
    "start_time": "2024-12-05T20:36:03.234Z"
   },
   {
    "duration": 1353,
    "start_time": "2024-12-05T20:36:03.328Z"
   },
   {
    "duration": 135,
    "start_time": "2024-12-05T20:36:04.683Z"
   },
   {
    "duration": 3,
    "start_time": "2024-12-05T20:36:04.821Z"
   },
   {
    "duration": 333,
    "start_time": "2024-12-05T20:36:04.825Z"
   },
   {
    "duration": 21,
    "start_time": "2024-12-05T20:37:10.601Z"
   },
   {
    "duration": 801,
    "start_time": "2024-12-05T20:37:44.750Z"
   },
   {
    "duration": 407,
    "start_time": "2024-12-05T20:37:45.554Z"
   },
   {
    "duration": 94,
    "start_time": "2024-12-05T20:37:45.963Z"
   },
   {
    "duration": 94,
    "start_time": "2024-12-05T20:37:46.059Z"
   },
   {
    "duration": 2,
    "start_time": "2024-12-05T20:37:46.156Z"
   },
   {
    "duration": 14,
    "start_time": "2024-12-05T20:37:46.171Z"
   },
   {
    "duration": 503,
    "start_time": "2024-12-05T20:37:46.187Z"
   },
   {
    "duration": 3,
    "start_time": "2024-12-05T20:37:46.691Z"
   },
   {
    "duration": 11,
    "start_time": "2024-12-05T20:37:46.695Z"
   },
   {
    "duration": 38,
    "start_time": "2024-12-05T20:37:46.707Z"
   },
   {
    "duration": 263,
    "start_time": "2024-12-05T20:37:46.746Z"
   },
   {
    "duration": 9,
    "start_time": "2024-12-05T20:37:47.011Z"
   },
   {
    "duration": 101,
    "start_time": "2024-12-05T20:37:47.022Z"
   },
   {
    "duration": 82,
    "start_time": "2024-12-05T20:37:47.127Z"
   },
   {
    "duration": 41,
    "start_time": "2024-12-05T20:37:47.211Z"
   },
   {
    "duration": 2679,
    "start_time": "2024-12-05T20:37:47.254Z"
   },
   {
    "duration": 49,
    "start_time": "2024-12-05T20:37:49.935Z"
   },
   {
    "duration": 32,
    "start_time": "2024-12-05T20:37:49.986Z"
   },
   {
    "duration": 25,
    "start_time": "2024-12-05T20:37:50.019Z"
   },
   {
    "duration": 24,
    "start_time": "2024-12-05T20:37:50.046Z"
   },
   {
    "duration": 33,
    "start_time": "2024-12-05T20:37:50.071Z"
   },
   {
    "duration": 7,
    "start_time": "2024-12-05T20:37:50.106Z"
   },
   {
    "duration": 10,
    "start_time": "2024-12-05T20:37:50.115Z"
   },
   {
    "duration": 3,
    "start_time": "2024-12-05T20:37:50.127Z"
   },
   {
    "duration": 69,
    "start_time": "2024-12-05T20:37:50.131Z"
   },
   {
    "duration": 25,
    "start_time": "2024-12-05T20:37:50.202Z"
   },
   {
    "duration": 93,
    "start_time": "2024-12-05T20:37:50.229Z"
   },
   {
    "duration": 1391,
    "start_time": "2024-12-05T20:37:50.323Z"
   },
   {
    "duration": 140,
    "start_time": "2024-12-05T20:37:51.716Z"
   },
   {
    "duration": 11,
    "start_time": "2024-12-05T20:37:51.858Z"
   },
   {
    "duration": 331,
    "start_time": "2024-12-05T20:37:51.871Z"
   },
   {
    "duration": 39,
    "start_time": "2024-12-05T20:48:43.793Z"
   },
   {
    "duration": 78,
    "start_time": "2024-12-05T20:48:52.949Z"
   },
   {
    "duration": 870,
    "start_time": "2024-12-05T20:49:22.279Z"
   },
   {
    "duration": 399,
    "start_time": "2024-12-05T20:49:23.151Z"
   },
   {
    "duration": 96,
    "start_time": "2024-12-05T20:49:23.552Z"
   },
   {
    "duration": 108,
    "start_time": "2024-12-05T20:49:23.650Z"
   },
   {
    "duration": 11,
    "start_time": "2024-12-05T20:49:23.761Z"
   },
   {
    "duration": 12,
    "start_time": "2024-12-05T20:49:23.773Z"
   },
   {
    "duration": 464,
    "start_time": "2024-12-05T20:49:23.786Z"
   },
   {
    "duration": 3,
    "start_time": "2024-12-05T20:49:24.252Z"
   },
   {
    "duration": 18,
    "start_time": "2024-12-05T20:49:24.257Z"
   },
   {
    "duration": 37,
    "start_time": "2024-12-05T20:49:24.277Z"
   },
   {
    "duration": 214,
    "start_time": "2024-12-05T20:49:24.315Z"
   },
   {
    "duration": 46,
    "start_time": "2024-12-05T20:49:24.530Z"
   },
   {
    "duration": 61,
    "start_time": "2024-12-05T20:49:24.577Z"
   },
   {
    "duration": 50,
    "start_time": "2024-12-05T20:49:24.642Z"
   },
   {
    "duration": 98,
    "start_time": "2024-12-05T20:49:24.693Z"
   },
   {
    "duration": 2673,
    "start_time": "2024-12-05T20:49:24.793Z"
   },
   {
    "duration": 44,
    "start_time": "2024-12-05T20:49:27.470Z"
   },
   {
    "duration": 32,
    "start_time": "2024-12-05T20:49:27.516Z"
   },
   {
    "duration": 73,
    "start_time": "2024-12-05T20:49:27.550Z"
   },
   {
    "duration": 5,
    "start_time": "2024-12-05T20:49:27.625Z"
   },
   {
    "duration": 46,
    "start_time": "2024-12-05T20:49:27.632Z"
   },
   {
    "duration": 6,
    "start_time": "2024-12-05T20:49:27.679Z"
   },
   {
    "duration": 9,
    "start_time": "2024-12-05T20:49:27.687Z"
   },
   {
    "duration": 3,
    "start_time": "2024-12-05T20:49:27.698Z"
   },
   {
    "duration": 41,
    "start_time": "2024-12-05T20:49:27.702Z"
   },
   {
    "duration": 49,
    "start_time": "2024-12-05T20:49:27.745Z"
   },
   {
    "duration": 1381,
    "start_time": "2024-12-05T20:49:27.795Z"
   },
   {
    "duration": 132,
    "start_time": "2024-12-05T20:49:29.177Z"
   },
   {
    "duration": 2,
    "start_time": "2024-12-05T20:49:29.310Z"
   },
   {
    "duration": 330,
    "start_time": "2024-12-05T20:49:29.314Z"
   },
   {
    "duration": 6,
    "start_time": "2024-12-05T20:53:37.450Z"
   },
   {
    "duration": 36,
    "start_time": "2024-12-05T20:53:48.580Z"
   },
   {
    "duration": 6,
    "start_time": "2024-12-05T20:53:52.037Z"
   },
   {
    "duration": 28,
    "start_time": "2024-12-05T20:54:24.079Z"
   },
   {
    "duration": 820,
    "start_time": "2024-12-05T20:54:52.417Z"
   },
   {
    "duration": 409,
    "start_time": "2024-12-05T20:54:53.239Z"
   },
   {
    "duration": 92,
    "start_time": "2024-12-05T20:54:53.650Z"
   },
   {
    "duration": 99,
    "start_time": "2024-12-05T20:54:53.745Z"
   },
   {
    "duration": 3,
    "start_time": "2024-12-05T20:54:53.846Z"
   },
   {
    "duration": 27,
    "start_time": "2024-12-05T20:54:53.852Z"
   },
   {
    "duration": 460,
    "start_time": "2024-12-05T20:54:53.880Z"
   },
   {
    "duration": 3,
    "start_time": "2024-12-05T20:54:54.342Z"
   },
   {
    "duration": 24,
    "start_time": "2024-12-05T20:54:54.347Z"
   },
   {
    "duration": 38,
    "start_time": "2024-12-05T20:54:54.374Z"
   },
   {
    "duration": 215,
    "start_time": "2024-12-05T20:54:54.414Z"
   },
   {
    "duration": 10,
    "start_time": "2024-12-05T20:54:54.631Z"
   },
   {
    "duration": 62,
    "start_time": "2024-12-05T20:54:54.671Z"
   },
   {
    "duration": 51,
    "start_time": "2024-12-05T20:54:54.734Z"
   },
   {
    "duration": 92,
    "start_time": "2024-12-05T20:54:54.787Z"
   },
   {
    "duration": 2848,
    "start_time": "2024-12-05T20:54:54.881Z"
   },
   {
    "duration": 29,
    "start_time": "2024-12-05T20:54:57.731Z"
   },
   {
    "duration": 58,
    "start_time": "2024-12-05T20:54:57.770Z"
   },
   {
    "duration": 275,
    "start_time": "2024-12-05T20:54:57.829Z"
   },
   {
    "duration": 0,
    "start_time": "2024-12-05T20:54:58.107Z"
   },
   {
    "duration": 0,
    "start_time": "2024-12-05T20:54:58.108Z"
   },
   {
    "duration": 0,
    "start_time": "2024-12-05T20:54:58.109Z"
   },
   {
    "duration": 0,
    "start_time": "2024-12-05T20:54:58.111Z"
   },
   {
    "duration": 0,
    "start_time": "2024-12-05T20:54:58.113Z"
   },
   {
    "duration": 0,
    "start_time": "2024-12-05T20:54:58.114Z"
   },
   {
    "duration": 0,
    "start_time": "2024-12-05T20:54:58.116Z"
   },
   {
    "duration": 0,
    "start_time": "2024-12-05T20:54:58.117Z"
   },
   {
    "duration": 0,
    "start_time": "2024-12-05T20:54:58.119Z"
   },
   {
    "duration": 0,
    "start_time": "2024-12-05T20:54:58.120Z"
   },
   {
    "duration": 13,
    "start_time": "2024-12-05T20:56:07.859Z"
   },
   {
    "duration": 6,
    "start_time": "2024-12-05T20:56:25.648Z"
   },
   {
    "duration": 34,
    "start_time": "2024-12-05T20:57:20.838Z"
   },
   {
    "duration": 36,
    "start_time": "2024-12-05T20:57:40.584Z"
   },
   {
    "duration": 31,
    "start_time": "2024-12-05T20:58:01.107Z"
   },
   {
    "duration": 6,
    "start_time": "2024-12-05T20:58:06.733Z"
   },
   {
    "duration": 864,
    "start_time": "2024-12-05T20:58:33.988Z"
   },
   {
    "duration": 410,
    "start_time": "2024-12-05T20:58:34.854Z"
   },
   {
    "duration": 91,
    "start_time": "2024-12-05T20:58:35.265Z"
   },
   {
    "duration": 102,
    "start_time": "2024-12-05T20:58:35.358Z"
   },
   {
    "duration": 3,
    "start_time": "2024-12-05T20:58:35.471Z"
   },
   {
    "duration": 11,
    "start_time": "2024-12-05T20:58:35.476Z"
   },
   {
    "duration": 483,
    "start_time": "2024-12-05T20:58:35.488Z"
   },
   {
    "duration": 3,
    "start_time": "2024-12-05T20:58:35.972Z"
   },
   {
    "duration": 10,
    "start_time": "2024-12-05T20:58:35.978Z"
   },
   {
    "duration": 38,
    "start_time": "2024-12-05T20:58:35.990Z"
   },
   {
    "duration": 274,
    "start_time": "2024-12-05T20:58:36.030Z"
   },
   {
    "duration": 9,
    "start_time": "2024-12-05T20:58:36.306Z"
   },
   {
    "duration": 88,
    "start_time": "2024-12-05T20:58:36.316Z"
   },
   {
    "duration": 39,
    "start_time": "2024-12-05T20:58:36.407Z"
   },
   {
    "duration": 108,
    "start_time": "2024-12-05T20:58:36.448Z"
   },
   {
    "duration": 2712,
    "start_time": "2024-12-05T20:58:36.558Z"
   },
   {
    "duration": 31,
    "start_time": "2024-12-05T20:58:39.272Z"
   },
   {
    "duration": 71,
    "start_time": "2024-12-05T20:58:39.305Z"
   },
   {
    "duration": 5,
    "start_time": "2024-12-05T20:58:39.378Z"
   },
   {
    "duration": 29,
    "start_time": "2024-12-05T20:58:39.384Z"
   },
   {
    "duration": 5,
    "start_time": "2024-12-05T20:58:39.415Z"
   },
   {
    "duration": 9,
    "start_time": "2024-12-05T20:58:39.421Z"
   },
   {
    "duration": 3,
    "start_time": "2024-12-05T20:58:39.432Z"
   },
   {
    "duration": 69,
    "start_time": "2024-12-05T20:58:39.437Z"
   },
   {
    "duration": 24,
    "start_time": "2024-12-05T20:58:39.508Z"
   },
   {
    "duration": 1370,
    "start_time": "2024-12-05T20:58:39.534Z"
   },
   {
    "duration": 127,
    "start_time": "2024-12-05T20:58:40.906Z"
   },
   {
    "duration": 2,
    "start_time": "2024-12-05T20:58:41.035Z"
   },
   {
    "duration": 338,
    "start_time": "2024-12-05T20:58:41.039Z"
   },
   {
    "duration": 12,
    "start_time": "2024-12-05T21:10:50.635Z"
   },
   {
    "duration": 14,
    "start_time": "2024-12-05T21:11:15.223Z"
   },
   {
    "duration": 31,
    "start_time": "2024-12-05T21:11:29.774Z"
   },
   {
    "duration": 13,
    "start_time": "2024-12-05T21:12:52.537Z"
   },
   {
    "duration": 16,
    "start_time": "2024-12-05T21:16:27.261Z"
   },
   {
    "duration": 227,
    "start_time": "2024-12-05T21:33:07.219Z"
   },
   {
    "duration": 77,
    "start_time": "2024-12-05T21:33:17.916Z"
   },
   {
    "duration": 13,
    "start_time": "2024-12-05T21:34:25.076Z"
   },
   {
    "duration": 42,
    "start_time": "2024-12-05T21:39:30.204Z"
   },
   {
    "duration": 57,
    "start_time": "2024-12-05T21:44:01.242Z"
   },
   {
    "duration": 2289,
    "start_time": "2024-12-05T21:50:50.854Z"
   },
   {
    "duration": 12,
    "start_time": "2024-12-05T21:54:39.735Z"
   },
   {
    "duration": 20,
    "start_time": "2024-12-05T21:56:48.128Z"
   },
   {
    "duration": 12,
    "start_time": "2024-12-05T21:58:01.109Z"
   },
   {
    "duration": 48,
    "start_time": "2024-12-05T22:05:55.923Z"
   },
   {
    "duration": 844,
    "start_time": "2024-12-05T22:06:28.712Z"
   },
   {
    "duration": 436,
    "start_time": "2024-12-05T22:06:29.558Z"
   },
   {
    "duration": 90,
    "start_time": "2024-12-05T22:06:29.995Z"
   },
   {
    "duration": 94,
    "start_time": "2024-12-05T22:06:30.088Z"
   },
   {
    "duration": 3,
    "start_time": "2024-12-05T22:06:30.185Z"
   },
   {
    "duration": 11,
    "start_time": "2024-12-05T22:06:30.190Z"
   },
   {
    "duration": 474,
    "start_time": "2024-12-05T22:06:30.203Z"
   },
   {
    "duration": 3,
    "start_time": "2024-12-05T22:06:30.678Z"
   },
   {
    "duration": 11,
    "start_time": "2024-12-05T22:06:30.683Z"
   },
   {
    "duration": 38,
    "start_time": "2024-12-05T22:06:30.695Z"
   },
   {
    "duration": 267,
    "start_time": "2024-12-05T22:06:30.735Z"
   },
   {
    "duration": 10,
    "start_time": "2024-12-05T22:06:31.003Z"
   },
   {
    "duration": 78,
    "start_time": "2024-12-05T22:06:31.014Z"
   },
   {
    "duration": 38,
    "start_time": "2024-12-05T22:06:31.096Z"
   },
   {
    "duration": 102,
    "start_time": "2024-12-05T22:06:31.136Z"
   },
   {
    "duration": 1417,
    "start_time": "2024-12-05T22:06:31.239Z"
   },
   {
    "duration": 0,
    "start_time": "2024-12-05T22:06:32.658Z"
   },
   {
    "duration": 0,
    "start_time": "2024-12-05T22:06:32.660Z"
   },
   {
    "duration": 0,
    "start_time": "2024-12-05T22:06:32.661Z"
   },
   {
    "duration": 0,
    "start_time": "2024-12-05T22:06:32.670Z"
   },
   {
    "duration": 0,
    "start_time": "2024-12-05T22:06:32.671Z"
   },
   {
    "duration": 0,
    "start_time": "2024-12-05T22:06:32.672Z"
   },
   {
    "duration": 0,
    "start_time": "2024-12-05T22:06:32.674Z"
   },
   {
    "duration": 0,
    "start_time": "2024-12-05T22:06:32.675Z"
   },
   {
    "duration": 0,
    "start_time": "2024-12-05T22:06:32.677Z"
   },
   {
    "duration": 0,
    "start_time": "2024-12-05T22:06:32.678Z"
   },
   {
    "duration": 0,
    "start_time": "2024-12-05T22:06:32.679Z"
   },
   {
    "duration": 0,
    "start_time": "2024-12-05T22:06:32.680Z"
   },
   {
    "duration": 0,
    "start_time": "2024-12-05T22:06:32.681Z"
   },
   {
    "duration": 0,
    "start_time": "2024-12-05T22:06:32.682Z"
   },
   {
    "duration": 0,
    "start_time": "2024-12-05T22:06:32.683Z"
   },
   {
    "duration": 0,
    "start_time": "2024-12-05T22:06:32.685Z"
   },
   {
    "duration": 774,
    "start_time": "2024-12-05T22:06:54.415Z"
   },
   {
    "duration": 417,
    "start_time": "2024-12-05T22:06:55.191Z"
   },
   {
    "duration": 97,
    "start_time": "2024-12-05T22:06:55.610Z"
   },
   {
    "duration": 97,
    "start_time": "2024-12-05T22:06:55.709Z"
   },
   {
    "duration": 4,
    "start_time": "2024-12-05T22:06:55.807Z"
   },
   {
    "duration": 12,
    "start_time": "2024-12-05T22:06:55.812Z"
   },
   {
    "duration": 506,
    "start_time": "2024-12-05T22:06:55.826Z"
   },
   {
    "duration": 3,
    "start_time": "2024-12-05T22:06:56.338Z"
   },
   {
    "duration": 12,
    "start_time": "2024-12-05T22:06:56.343Z"
   },
   {
    "duration": 38,
    "start_time": "2024-12-05T22:06:56.369Z"
   },
   {
    "duration": 216,
    "start_time": "2024-12-05T22:06:56.409Z"
   },
   {
    "duration": 10,
    "start_time": "2024-12-05T22:06:56.627Z"
   },
   {
    "duration": 86,
    "start_time": "2024-12-05T22:06:56.639Z"
   },
   {
    "duration": 46,
    "start_time": "2024-12-05T22:06:56.728Z"
   },
   {
    "duration": 102,
    "start_time": "2024-12-05T22:06:56.776Z"
   },
   {
    "duration": 1418,
    "start_time": "2024-12-05T22:06:56.880Z"
   },
   {
    "duration": 0,
    "start_time": "2024-12-05T22:06:58.300Z"
   },
   {
    "duration": 0,
    "start_time": "2024-12-05T22:06:58.301Z"
   },
   {
    "duration": 0,
    "start_time": "2024-12-05T22:06:58.302Z"
   },
   {
    "duration": 0,
    "start_time": "2024-12-05T22:06:58.303Z"
   },
   {
    "duration": 0,
    "start_time": "2024-12-05T22:06:58.305Z"
   },
   {
    "duration": 0,
    "start_time": "2024-12-05T22:06:58.306Z"
   },
   {
    "duration": 0,
    "start_time": "2024-12-05T22:06:58.307Z"
   },
   {
    "duration": 0,
    "start_time": "2024-12-05T22:06:58.309Z"
   },
   {
    "duration": 0,
    "start_time": "2024-12-05T22:06:58.311Z"
   },
   {
    "duration": 0,
    "start_time": "2024-12-05T22:06:58.312Z"
   },
   {
    "duration": 0,
    "start_time": "2024-12-05T22:06:58.314Z"
   },
   {
    "duration": 0,
    "start_time": "2024-12-05T22:06:58.315Z"
   },
   {
    "duration": 0,
    "start_time": "2024-12-05T22:06:58.317Z"
   },
   {
    "duration": 0,
    "start_time": "2024-12-05T22:06:58.318Z"
   },
   {
    "duration": 0,
    "start_time": "2024-12-05T22:06:58.319Z"
   },
   {
    "duration": 0,
    "start_time": "2024-12-05T22:06:58.321Z"
   },
   {
    "duration": 2694,
    "start_time": "2024-12-05T22:07:27.100Z"
   },
   {
    "duration": 797,
    "start_time": "2024-12-05T22:07:41.777Z"
   },
   {
    "duration": 414,
    "start_time": "2024-12-05T22:07:42.576Z"
   },
   {
    "duration": 99,
    "start_time": "2024-12-05T22:07:42.992Z"
   },
   {
    "duration": 90,
    "start_time": "2024-12-05T22:07:43.094Z"
   },
   {
    "duration": 3,
    "start_time": "2024-12-05T22:07:43.186Z"
   },
   {
    "duration": 11,
    "start_time": "2024-12-05T22:07:43.191Z"
   },
   {
    "duration": 475,
    "start_time": "2024-12-05T22:07:43.203Z"
   },
   {
    "duration": 3,
    "start_time": "2024-12-05T22:07:43.680Z"
   },
   {
    "duration": 10,
    "start_time": "2024-12-05T22:07:43.685Z"
   },
   {
    "duration": 39,
    "start_time": "2024-12-05T22:07:43.698Z"
   },
   {
    "duration": 273,
    "start_time": "2024-12-05T22:07:43.739Z"
   },
   {
    "duration": 8,
    "start_time": "2024-12-05T22:07:44.014Z"
   },
   {
    "duration": 74,
    "start_time": "2024-12-05T22:07:44.024Z"
   },
   {
    "duration": 39,
    "start_time": "2024-12-05T22:07:44.100Z"
   },
   {
    "duration": 100,
    "start_time": "2024-12-05T22:07:44.140Z"
   },
   {
    "duration": 2847,
    "start_time": "2024-12-05T22:07:44.241Z"
   },
   {
    "duration": 27,
    "start_time": "2024-12-05T22:07:47.090Z"
   },
   {
    "duration": 73,
    "start_time": "2024-12-05T22:07:47.119Z"
   },
   {
    "duration": 7,
    "start_time": "2024-12-05T22:07:47.194Z"
   },
   {
    "duration": 33,
    "start_time": "2024-12-05T22:07:47.203Z"
   },
   {
    "duration": 5,
    "start_time": "2024-12-05T22:07:47.239Z"
   },
   {
    "duration": 29,
    "start_time": "2024-12-05T22:07:47.246Z"
   },
   {
    "duration": 39,
    "start_time": "2024-12-05T22:07:47.276Z"
   },
   {
    "duration": 57,
    "start_time": "2024-12-05T22:07:47.318Z"
   },
   {
    "duration": 12,
    "start_time": "2024-12-05T22:07:47.377Z"
   },
   {
    "duration": 12,
    "start_time": "2024-12-05T22:07:47.391Z"
   },
   {
    "duration": 2348,
    "start_time": "2024-12-05T22:07:47.405Z"
   },
   {
    "duration": 16,
    "start_time": "2024-12-05T22:07:49.758Z"
   },
   {
    "duration": 11,
    "start_time": "2024-12-05T22:07:49.776Z"
   },
   {
    "duration": 1358,
    "start_time": "2024-12-05T22:07:49.789Z"
   },
   {
    "duration": 1255,
    "start_time": "2024-12-05T22:07:51.149Z"
   },
   {
    "duration": 422,
    "start_time": "2024-12-05T22:07:52.406Z"
   },
   {
    "duration": 37,
    "start_time": "2024-12-05T22:09:11.437Z"
   },
   {
    "duration": 76,
    "start_time": "2024-12-05T22:09:25.100Z"
   },
   {
    "duration": 846,
    "start_time": "2024-12-05T22:09:35.708Z"
   },
   {
    "duration": 406,
    "start_time": "2024-12-05T22:09:36.556Z"
   },
   {
    "duration": 97,
    "start_time": "2024-12-05T22:09:36.964Z"
   },
   {
    "duration": 94,
    "start_time": "2024-12-05T22:09:37.064Z"
   },
   {
    "duration": 9,
    "start_time": "2024-12-05T22:09:37.161Z"
   },
   {
    "duration": 14,
    "start_time": "2024-12-05T22:09:37.174Z"
   },
   {
    "duration": 468,
    "start_time": "2024-12-05T22:09:37.190Z"
   },
   {
    "duration": 11,
    "start_time": "2024-12-05T22:09:37.660Z"
   },
   {
    "duration": 11,
    "start_time": "2024-12-05T22:09:37.672Z"
   },
   {
    "duration": 38,
    "start_time": "2024-12-05T22:09:37.687Z"
   },
   {
    "duration": 256,
    "start_time": "2024-12-05T22:09:37.727Z"
   },
   {
    "duration": 10,
    "start_time": "2024-12-05T22:09:37.986Z"
   },
   {
    "duration": 73,
    "start_time": "2024-12-05T22:09:37.998Z"
   },
   {
    "duration": 38,
    "start_time": "2024-12-05T22:09:38.073Z"
   },
   {
    "duration": 102,
    "start_time": "2024-12-05T22:09:38.112Z"
   },
   {
    "duration": 2664,
    "start_time": "2024-12-05T22:09:38.216Z"
   },
   {
    "duration": 27,
    "start_time": "2024-12-05T22:09:40.882Z"
   },
   {
    "duration": 73,
    "start_time": "2024-12-05T22:09:40.911Z"
   },
   {
    "duration": 8,
    "start_time": "2024-12-05T22:09:40.986Z"
   },
   {
    "duration": 34,
    "start_time": "2024-12-05T22:09:40.996Z"
   },
   {
    "duration": 5,
    "start_time": "2024-12-05T22:09:41.031Z"
   },
   {
    "duration": 31,
    "start_time": "2024-12-05T22:09:41.039Z"
   },
   {
    "duration": 41,
    "start_time": "2024-12-05T22:09:41.071Z"
   },
   {
    "duration": 57,
    "start_time": "2024-12-05T22:09:41.114Z"
   },
   {
    "duration": 12,
    "start_time": "2024-12-05T22:09:41.173Z"
   },
   {
    "duration": 20,
    "start_time": "2024-12-05T22:09:41.187Z"
   },
   {
    "duration": 2330,
    "start_time": "2024-12-05T22:09:41.209Z"
   },
   {
    "duration": 12,
    "start_time": "2024-12-05T22:09:43.543Z"
   },
   {
    "duration": 23,
    "start_time": "2024-12-05T22:09:43.557Z"
   },
   {
    "duration": 1370,
    "start_time": "2024-12-05T22:09:43.582Z"
   },
   {
    "duration": 1167,
    "start_time": "2024-12-05T22:09:44.953Z"
   },
   {
    "duration": 470,
    "start_time": "2024-12-05T22:09:46.123Z"
   },
   {
    "duration": 161,
    "start_time": "2024-12-06T01:06:27.662Z"
   },
   {
    "duration": 2504,
    "start_time": "2024-12-06T01:06:38.093Z"
   },
   {
    "duration": 472,
    "start_time": "2024-12-06T01:06:40.599Z"
   },
   {
    "duration": 102,
    "start_time": "2024-12-06T01:06:41.072Z"
   },
   {
    "duration": 95,
    "start_time": "2024-12-06T01:06:41.177Z"
   },
   {
    "duration": 3,
    "start_time": "2024-12-06T01:06:41.274Z"
   },
   {
    "duration": 11,
    "start_time": "2024-12-06T01:06:41.279Z"
   },
   {
    "duration": 483,
    "start_time": "2024-12-06T01:06:41.292Z"
   },
   {
    "duration": 3,
    "start_time": "2024-12-06T01:06:41.777Z"
   },
   {
    "duration": 10,
    "start_time": "2024-12-06T01:06:41.782Z"
   },
   {
    "duration": 50,
    "start_time": "2024-12-06T01:06:41.795Z"
   },
   {
    "duration": 250,
    "start_time": "2024-12-06T01:06:41.846Z"
   },
   {
    "duration": 9,
    "start_time": "2024-12-06T01:06:42.097Z"
   },
   {
    "duration": 78,
    "start_time": "2024-12-06T01:06:42.107Z"
   },
   {
    "duration": 39,
    "start_time": "2024-12-06T01:06:42.187Z"
   },
   {
    "duration": 102,
    "start_time": "2024-12-06T01:06:42.228Z"
   },
   {
    "duration": 2823,
    "start_time": "2024-12-06T01:06:42.331Z"
   },
   {
    "duration": 33,
    "start_time": "2024-12-06T01:06:45.155Z"
   },
   {
    "duration": 72,
    "start_time": "2024-12-06T01:06:45.190Z"
   },
   {
    "duration": 6,
    "start_time": "2024-12-06T01:06:45.264Z"
   },
   {
    "duration": 32,
    "start_time": "2024-12-06T01:06:45.272Z"
   },
   {
    "duration": 6,
    "start_time": "2024-12-06T01:06:45.306Z"
   },
   {
    "duration": 30,
    "start_time": "2024-12-06T01:06:45.313Z"
   },
   {
    "duration": 41,
    "start_time": "2024-12-06T01:06:45.345Z"
   },
   {
    "duration": 56,
    "start_time": "2024-12-06T01:06:45.388Z"
   },
   {
    "duration": 13,
    "start_time": "2024-12-06T01:06:45.446Z"
   },
   {
    "duration": 14,
    "start_time": "2024-12-06T01:06:45.461Z"
   },
   {
    "duration": 2421,
    "start_time": "2024-12-06T01:06:45.476Z"
   },
   {
    "duration": 12,
    "start_time": "2024-12-06T01:06:47.902Z"
   },
   {
    "duration": 240,
    "start_time": "2024-12-06T01:06:47.916Z"
   },
   {
    "duration": 0,
    "start_time": "2024-12-06T01:06:48.158Z"
   },
   {
    "duration": 0,
    "start_time": "2024-12-06T01:06:48.159Z"
   },
   {
    "duration": 0,
    "start_time": "2024-12-06T01:06:48.161Z"
   },
   {
    "duration": 15,
    "start_time": "2024-12-06T01:07:08.727Z"
   },
   {
    "duration": 197,
    "start_time": "2024-12-06T01:08:51.350Z"
   },
   {
    "duration": 14,
    "start_time": "2024-12-06T01:09:29.661Z"
   },
   {
    "duration": 21,
    "start_time": "2024-12-06T01:13:04.167Z"
   },
   {
    "duration": 20,
    "start_time": "2024-12-06T01:16:47.208Z"
   },
   {
    "duration": 342,
    "start_time": "2024-12-06T01:17:21.671Z"
   },
   {
    "duration": 5,
    "start_time": "2024-12-06T01:37:25.978Z"
   },
   {
    "duration": 345,
    "start_time": "2024-12-06T01:45:00.365Z"
   },
   {
    "duration": 15105,
    "start_time": "2024-12-06T01:57:07.746Z"
   },
   {
    "duration": 30,
    "start_time": "2024-12-06T01:57:48.812Z"
   },
   {
    "duration": 16,
    "start_time": "2024-12-06T01:58:06.544Z"
   },
   {
    "duration": 1449,
    "start_time": "2024-12-06T01:58:11.209Z"
   },
   {
    "duration": 18,
    "start_time": "2024-12-06T01:58:21.165Z"
   },
   {
    "duration": 851,
    "start_time": "2024-12-06T01:58:31.978Z"
   },
   {
    "duration": 425,
    "start_time": "2024-12-06T01:58:32.831Z"
   },
   {
    "duration": 96,
    "start_time": "2024-12-06T01:58:33.258Z"
   },
   {
    "duration": 99,
    "start_time": "2024-12-06T01:58:33.357Z"
   },
   {
    "duration": 4,
    "start_time": "2024-12-06T01:58:33.457Z"
   },
   {
    "duration": 13,
    "start_time": "2024-12-06T01:58:33.462Z"
   },
   {
    "duration": 479,
    "start_time": "2024-12-06T01:58:33.476Z"
   },
   {
    "duration": 3,
    "start_time": "2024-12-06T01:58:33.957Z"
   },
   {
    "duration": 11,
    "start_time": "2024-12-06T01:58:33.962Z"
   },
   {
    "duration": 37,
    "start_time": "2024-12-06T01:58:33.976Z"
   },
   {
    "duration": 271,
    "start_time": "2024-12-06T01:58:34.014Z"
   },
   {
    "duration": 8,
    "start_time": "2024-12-06T01:58:34.287Z"
   },
   {
    "duration": 79,
    "start_time": "2024-12-06T01:58:34.297Z"
   },
   {
    "duration": 38,
    "start_time": "2024-12-06T01:58:34.378Z"
   },
   {
    "duration": 102,
    "start_time": "2024-12-06T01:58:34.418Z"
   },
   {
    "duration": 2704,
    "start_time": "2024-12-06T01:58:34.521Z"
   },
   {
    "duration": 38,
    "start_time": "2024-12-06T01:58:37.227Z"
   },
   {
    "duration": 56,
    "start_time": "2024-12-06T01:58:37.267Z"
   },
   {
    "duration": 6,
    "start_time": "2024-12-06T01:58:37.324Z"
   },
   {
    "duration": 34,
    "start_time": "2024-12-06T01:58:37.342Z"
   },
   {
    "duration": 7,
    "start_time": "2024-12-06T01:58:37.378Z"
   },
   {
    "duration": 11,
    "start_time": "2024-12-06T01:58:37.387Z"
   },
   {
    "duration": 65,
    "start_time": "2024-12-06T01:58:37.400Z"
   },
   {
    "duration": 39,
    "start_time": "2024-12-06T01:58:37.467Z"
   },
   {
    "duration": 12,
    "start_time": "2024-12-06T01:58:37.508Z"
   },
   {
    "duration": 25,
    "start_time": "2024-12-06T01:58:37.522Z"
   },
   {
    "duration": 2347,
    "start_time": "2024-12-06T01:58:37.548Z"
   },
   {
    "duration": 14,
    "start_time": "2024-12-06T01:58:39.899Z"
   },
   {
    "duration": 281,
    "start_time": "2024-12-06T01:58:39.915Z"
   },
   {
    "duration": 0,
    "start_time": "2024-12-06T01:58:40.197Z"
   },
   {
    "duration": 0,
    "start_time": "2024-12-06T01:58:40.199Z"
   },
   {
    "duration": 0,
    "start_time": "2024-12-06T01:58:40.200Z"
   },
   {
    "duration": 0,
    "start_time": "2024-12-06T01:58:40.201Z"
   },
   {
    "duration": 1477,
    "start_time": "2024-12-06T02:02:14.591Z"
   },
   {
    "duration": 3,
    "start_time": "2024-12-06T02:04:51.434Z"
   },
   {
    "duration": 23,
    "start_time": "2024-12-06T02:05:12.905Z"
   },
   {
    "duration": 1515,
    "start_time": "2024-12-06T02:05:16.057Z"
   },
   {
    "duration": 22,
    "start_time": "2024-12-06T02:05:18.947Z"
   },
   {
    "duration": 5,
    "start_time": "2024-12-06T02:07:04.674Z"
   },
   {
    "duration": 3100,
    "start_time": "2024-12-06T02:07:16.625Z"
   },
   {
    "duration": 3880,
    "start_time": "2024-12-06T02:07:43.516Z"
   },
   {
    "duration": 23,
    "start_time": "2024-12-06T02:08:23.976Z"
   },
   {
    "duration": 1527,
    "start_time": "2024-12-06T02:09:06.350Z"
   },
   {
    "duration": 844,
    "start_time": "2024-12-06T02:09:42.889Z"
   },
   {
    "duration": 407,
    "start_time": "2024-12-06T02:09:43.734Z"
   },
   {
    "duration": 101,
    "start_time": "2024-12-06T02:09:44.143Z"
   },
   {
    "duration": 97,
    "start_time": "2024-12-06T02:09:44.246Z"
   },
   {
    "duration": 3,
    "start_time": "2024-12-06T02:09:44.345Z"
   },
   {
    "duration": 12,
    "start_time": "2024-12-06T02:09:44.350Z"
   },
   {
    "duration": 482,
    "start_time": "2024-12-06T02:09:44.364Z"
   },
   {
    "duration": 3,
    "start_time": "2024-12-06T02:09:44.848Z"
   },
   {
    "duration": 13,
    "start_time": "2024-12-06T02:09:44.852Z"
   },
   {
    "duration": 38,
    "start_time": "2024-12-06T02:09:44.868Z"
   },
   {
    "duration": 276,
    "start_time": "2024-12-06T02:09:44.907Z"
   },
   {
    "duration": 12,
    "start_time": "2024-12-06T02:09:45.185Z"
   },
   {
    "duration": 81,
    "start_time": "2024-12-06T02:09:45.198Z"
   },
   {
    "duration": 40,
    "start_time": "2024-12-06T02:09:45.281Z"
   },
   {
    "duration": 99,
    "start_time": "2024-12-06T02:09:45.323Z"
   },
   {
    "duration": 2879,
    "start_time": "2024-12-06T02:09:45.424Z"
   },
   {
    "duration": 39,
    "start_time": "2024-12-06T02:09:48.305Z"
   },
   {
    "duration": 60,
    "start_time": "2024-12-06T02:09:48.345Z"
   },
   {
    "duration": 6,
    "start_time": "2024-12-06T02:09:48.409Z"
   },
   {
    "duration": 46,
    "start_time": "2024-12-06T02:09:48.417Z"
   },
   {
    "duration": 5,
    "start_time": "2024-12-06T02:09:48.465Z"
   },
   {
    "duration": 8,
    "start_time": "2024-12-06T02:09:48.472Z"
   },
   {
    "duration": 40,
    "start_time": "2024-12-06T02:09:48.482Z"
   },
   {
    "duration": 41,
    "start_time": "2024-12-06T02:09:48.542Z"
   },
   {
    "duration": 13,
    "start_time": "2024-12-06T02:09:48.585Z"
   },
   {
    "duration": 16,
    "start_time": "2024-12-06T02:09:48.601Z"
   },
   {
    "duration": 2408,
    "start_time": "2024-12-06T02:09:48.620Z"
   },
   {
    "duration": 17,
    "start_time": "2024-12-06T02:09:51.032Z"
   },
   {
    "duration": 280,
    "start_time": "2024-12-06T02:09:51.050Z"
   },
   {
    "duration": 0,
    "start_time": "2024-12-06T02:09:51.332Z"
   },
   {
    "duration": 0,
    "start_time": "2024-12-06T02:09:51.334Z"
   },
   {
    "duration": 0,
    "start_time": "2024-12-06T02:09:51.342Z"
   },
   {
    "duration": 0,
    "start_time": "2024-12-06T02:09:51.343Z"
   },
   {
    "duration": 0,
    "start_time": "2024-12-06T02:09:51.345Z"
   },
   {
    "duration": 1506,
    "start_time": "2024-12-06T02:10:02.442Z"
   },
   {
    "duration": 5159,
    "start_time": "2024-12-06T02:11:22.002Z"
   },
   {
    "duration": 828,
    "start_time": "2024-12-06T02:11:47.601Z"
   },
   {
    "duration": 425,
    "start_time": "2024-12-06T02:11:48.432Z"
   },
   {
    "duration": 100,
    "start_time": "2024-12-06T02:11:48.860Z"
   },
   {
    "duration": 92,
    "start_time": "2024-12-06T02:11:48.963Z"
   },
   {
    "duration": 4,
    "start_time": "2024-12-06T02:11:49.056Z"
   },
   {
    "duration": 12,
    "start_time": "2024-12-06T02:11:49.061Z"
   },
   {
    "duration": 507,
    "start_time": "2024-12-06T02:11:49.075Z"
   },
   {
    "duration": 3,
    "start_time": "2024-12-06T02:11:49.584Z"
   },
   {
    "duration": 11,
    "start_time": "2024-12-06T02:11:49.589Z"
   },
   {
    "duration": 54,
    "start_time": "2024-12-06T02:11:49.604Z"
   },
   {
    "duration": 231,
    "start_time": "2024-12-06T02:11:49.661Z"
   },
   {
    "duration": 9,
    "start_time": "2024-12-06T02:11:49.895Z"
   },
   {
    "duration": 81,
    "start_time": "2024-12-06T02:11:49.906Z"
   },
   {
    "duration": 38,
    "start_time": "2024-12-06T02:11:49.988Z"
   },
   {
    "duration": 103,
    "start_time": "2024-12-06T02:11:50.028Z"
   },
   {
    "duration": 2840,
    "start_time": "2024-12-06T02:11:50.132Z"
   },
   {
    "duration": 27,
    "start_time": "2024-12-06T02:11:52.975Z"
   },
   {
    "duration": 69,
    "start_time": "2024-12-06T02:11:53.005Z"
   },
   {
    "duration": 8,
    "start_time": "2024-12-06T02:11:53.075Z"
   },
   {
    "duration": 33,
    "start_time": "2024-12-06T02:11:53.086Z"
   },
   {
    "duration": 5,
    "start_time": "2024-12-06T02:11:53.121Z"
   },
   {
    "duration": 24,
    "start_time": "2024-12-06T02:11:53.127Z"
   },
   {
    "duration": 40,
    "start_time": "2024-12-06T02:11:53.153Z"
   },
   {
    "duration": 70,
    "start_time": "2024-12-06T02:11:53.195Z"
   },
   {
    "duration": 13,
    "start_time": "2024-12-06T02:11:53.267Z"
   },
   {
    "duration": 12,
    "start_time": "2024-12-06T02:11:53.282Z"
   },
   {
    "duration": 2383,
    "start_time": "2024-12-06T02:11:53.295Z"
   },
   {
    "duration": 13,
    "start_time": "2024-12-06T02:11:55.682Z"
   },
   {
    "duration": 290,
    "start_time": "2024-12-06T02:11:55.696Z"
   },
   {
    "duration": 0,
    "start_time": "2024-12-06T02:11:55.988Z"
   },
   {
    "duration": 0,
    "start_time": "2024-12-06T02:11:55.989Z"
   },
   {
    "duration": 0,
    "start_time": "2024-12-06T02:11:55.991Z"
   },
   {
    "duration": 0,
    "start_time": "2024-12-06T02:11:55.992Z"
   },
   {
    "duration": 0,
    "start_time": "2024-12-06T02:11:55.993Z"
   },
   {
    "duration": 4444,
    "start_time": "2024-12-06T02:12:06.092Z"
   },
   {
    "duration": 4338,
    "start_time": "2024-12-06T02:12:54.821Z"
   },
   {
    "duration": 867,
    "start_time": "2024-12-06T02:12:59.161Z"
   },
   {
    "duration": 432,
    "start_time": "2024-12-06T02:13:00.031Z"
   },
   {
    "duration": 106,
    "start_time": "2024-12-06T02:13:00.465Z"
   },
   {
    "duration": 99,
    "start_time": "2024-12-06T02:13:00.573Z"
   },
   {
    "duration": 3,
    "start_time": "2024-12-06T02:13:00.673Z"
   },
   {
    "duration": 12,
    "start_time": "2024-12-06T02:13:00.678Z"
   },
   {
    "duration": 494,
    "start_time": "2024-12-06T02:13:00.691Z"
   },
   {
    "duration": 3,
    "start_time": "2024-12-06T02:13:01.186Z"
   },
   {
    "duration": 11,
    "start_time": "2024-12-06T02:13:01.192Z"
   },
   {
    "duration": 58,
    "start_time": "2024-12-06T02:13:01.204Z"
   },
   {
    "duration": 225,
    "start_time": "2024-12-06T02:13:01.264Z"
   },
   {
    "duration": 9,
    "start_time": "2024-12-06T02:13:01.490Z"
   },
   {
    "duration": 79,
    "start_time": "2024-12-06T02:13:01.501Z"
   },
   {
    "duration": 39,
    "start_time": "2024-12-06T02:13:01.582Z"
   },
   {
    "duration": 102,
    "start_time": "2024-12-06T02:13:01.622Z"
   },
   {
    "duration": 2874,
    "start_time": "2024-12-06T02:13:01.725Z"
   },
   {
    "duration": 28,
    "start_time": "2024-12-06T02:13:04.601Z"
   },
   {
    "duration": 67,
    "start_time": "2024-12-06T02:13:04.631Z"
   },
   {
    "duration": 6,
    "start_time": "2024-12-06T02:13:04.700Z"
   },
   {
    "duration": 50,
    "start_time": "2024-12-06T02:13:04.708Z"
   },
   {
    "duration": 6,
    "start_time": "2024-12-06T02:13:04.760Z"
   },
   {
    "duration": 9,
    "start_time": "2024-12-06T02:13:04.767Z"
   },
   {
    "duration": 39,
    "start_time": "2024-12-06T02:13:04.778Z"
   },
   {
    "duration": 59,
    "start_time": "2024-12-06T02:13:04.819Z"
   },
   {
    "duration": 12,
    "start_time": "2024-12-06T02:13:04.880Z"
   },
   {
    "duration": 12,
    "start_time": "2024-12-06T02:13:04.893Z"
   },
   {
    "duration": 2415,
    "start_time": "2024-12-06T02:13:04.909Z"
   },
   {
    "duration": 17,
    "start_time": "2024-12-06T02:13:07.326Z"
   },
   {
    "duration": 265,
    "start_time": "2024-12-06T02:13:07.345Z"
   },
   {
    "duration": 0,
    "start_time": "2024-12-06T02:13:07.612Z"
   },
   {
    "duration": 0,
    "start_time": "2024-12-06T02:13:07.612Z"
   },
   {
    "duration": 0,
    "start_time": "2024-12-06T02:13:07.614Z"
   },
   {
    "duration": 0,
    "start_time": "2024-12-06T02:13:07.615Z"
   },
   {
    "duration": 1481,
    "start_time": "2024-12-06T02:13:46.350Z"
   },
   {
    "duration": 22,
    "start_time": "2024-12-06T02:13:57.581Z"
   },
   {
    "duration": 1463,
    "start_time": "2024-12-06T02:14:41.123Z"
   },
   {
    "duration": 7,
    "start_time": "2024-12-06T19:09:07.305Z"
   },
   {
    "duration": 179,
    "start_time": "2024-12-07T20:58:26.321Z"
   },
   {
    "duration": 2591,
    "start_time": "2024-12-07T20:58:37.137Z"
   },
   {
    "duration": 464,
    "start_time": "2024-12-07T20:58:39.731Z"
   },
   {
    "duration": 96,
    "start_time": "2024-12-07T20:58:40.197Z"
   },
   {
    "duration": 103,
    "start_time": "2024-12-07T20:58:40.297Z"
   },
   {
    "duration": 5,
    "start_time": "2024-12-07T20:58:40.402Z"
   },
   {
    "duration": 14,
    "start_time": "2024-12-07T20:58:40.408Z"
   },
   {
    "duration": 491,
    "start_time": "2024-12-07T20:58:40.424Z"
   },
   {
    "duration": 3,
    "start_time": "2024-12-07T20:58:40.917Z"
   },
   {
    "duration": 12,
    "start_time": "2024-12-07T20:58:40.922Z"
   },
   {
    "duration": 61,
    "start_time": "2024-12-07T20:58:40.938Z"
   },
   {
    "duration": 244,
    "start_time": "2024-12-07T20:58:41.001Z"
   },
   {
    "duration": 11,
    "start_time": "2024-12-07T20:58:41.247Z"
   },
   {
    "duration": 83,
    "start_time": "2024-12-07T20:58:41.259Z"
   },
   {
    "duration": 53,
    "start_time": "2024-12-07T20:58:41.344Z"
   },
   {
    "duration": 95,
    "start_time": "2024-12-07T20:58:41.399Z"
   },
   {
    "duration": 2944,
    "start_time": "2024-12-07T20:58:41.496Z"
   },
   {
    "duration": 1135,
    "start_time": "2024-12-07T20:58:44.443Z"
   },
   {
    "duration": 0,
    "start_time": "2024-12-07T20:58:45.586Z"
   },
   {
    "duration": 0,
    "start_time": "2024-12-07T20:58:45.587Z"
   },
   {
    "duration": 0,
    "start_time": "2024-12-07T20:58:45.589Z"
   },
   {
    "duration": 0,
    "start_time": "2024-12-07T20:58:45.591Z"
   },
   {
    "duration": 0,
    "start_time": "2024-12-07T20:58:45.592Z"
   },
   {
    "duration": 0,
    "start_time": "2024-12-07T20:58:45.593Z"
   },
   {
    "duration": 0,
    "start_time": "2024-12-07T20:58:45.595Z"
   },
   {
    "duration": 0,
    "start_time": "2024-12-07T20:58:45.597Z"
   },
   {
    "duration": 0,
    "start_time": "2024-12-07T20:58:45.598Z"
   },
   {
    "duration": 0,
    "start_time": "2024-12-07T20:58:45.599Z"
   },
   {
    "duration": 0,
    "start_time": "2024-12-07T20:58:45.600Z"
   },
   {
    "duration": 0,
    "start_time": "2024-12-07T20:58:45.601Z"
   },
   {
    "duration": 0,
    "start_time": "2024-12-07T20:58:45.602Z"
   },
   {
    "duration": 0,
    "start_time": "2024-12-07T20:58:45.603Z"
   },
   {
    "duration": 0,
    "start_time": "2024-12-07T20:58:45.604Z"
   },
   {
    "duration": 178,
    "start_time": "2024-12-07T20:59:17.554Z"
   },
   {
    "duration": 6,
    "start_time": "2024-12-07T21:01:02.406Z"
   },
   {
    "duration": 2618,
    "start_time": "2024-12-07T21:16:07.640Z"
   },
   {
    "duration": 2602,
    "start_time": "2024-12-07T21:16:34.012Z"
   },
   {
    "duration": 2693,
    "start_time": "2024-12-07T21:17:23.298Z"
   },
   {
    "duration": 2713,
    "start_time": "2024-12-07T21:17:49.100Z"
   },
   {
    "duration": 2630,
    "start_time": "2024-12-07T21:18:31.400Z"
   },
   {
    "duration": 2722,
    "start_time": "2024-12-07T21:19:28.966Z"
   },
   {
    "duration": 2607,
    "start_time": "2024-12-07T21:19:50.566Z"
   },
   {
    "duration": 2559,
    "start_time": "2024-12-07T21:20:36.114Z"
   },
   {
    "duration": 2602,
    "start_time": "2024-12-07T21:22:04.892Z"
   },
   {
    "duration": 838,
    "start_time": "2024-12-07T21:23:48.638Z"
   },
   {
    "duration": 406,
    "start_time": "2024-12-07T21:23:49.478Z"
   },
   {
    "duration": 102,
    "start_time": "2024-12-07T21:23:49.886Z"
   },
   {
    "duration": 97,
    "start_time": "2024-12-07T21:23:49.990Z"
   },
   {
    "duration": 3,
    "start_time": "2024-12-07T21:23:50.090Z"
   },
   {
    "duration": 13,
    "start_time": "2024-12-07T21:23:50.095Z"
   },
   {
    "duration": 493,
    "start_time": "2024-12-07T21:23:50.111Z"
   },
   {
    "duration": 3,
    "start_time": "2024-12-07T21:23:50.605Z"
   },
   {
    "duration": 12,
    "start_time": "2024-12-07T21:23:50.610Z"
   },
   {
    "duration": 63,
    "start_time": "2024-12-07T21:23:50.624Z"
   },
   {
    "duration": 242,
    "start_time": "2024-12-07T21:23:50.689Z"
   },
   {
    "duration": 9,
    "start_time": "2024-12-07T21:23:50.933Z"
   },
   {
    "duration": 86,
    "start_time": "2024-12-07T21:23:50.944Z"
   },
   {
    "duration": 38,
    "start_time": "2024-12-07T21:23:51.034Z"
   },
   {
    "duration": 86,
    "start_time": "2024-12-07T21:23:51.086Z"
   },
   {
    "duration": 2674,
    "start_time": "2024-12-07T21:23:51.174Z"
   },
   {
    "duration": 187,
    "start_time": "2024-12-07T21:23:53.850Z"
   },
   {
    "duration": 48,
    "start_time": "2024-12-07T21:23:54.039Z"
   },
   {
    "duration": 59,
    "start_time": "2024-12-07T21:23:54.088Z"
   },
   {
    "duration": 6,
    "start_time": "2024-12-07T21:23:54.149Z"
   },
   {
    "duration": 57,
    "start_time": "2024-12-07T21:23:54.156Z"
   },
   {
    "duration": 5,
    "start_time": "2024-12-07T21:23:54.215Z"
   },
   {
    "duration": 10,
    "start_time": "2024-12-07T21:23:54.221Z"
   },
   {
    "duration": 60,
    "start_time": "2024-12-07T21:23:54.234Z"
   },
   {
    "duration": 96,
    "start_time": "2024-12-07T21:23:54.295Z"
   },
   {
    "duration": 13,
    "start_time": "2024-12-07T21:23:54.393Z"
   },
   {
    "duration": 13,
    "start_time": "2024-12-07T21:23:54.408Z"
   },
   {
    "duration": 2438,
    "start_time": "2024-12-07T21:23:54.423Z"
   },
   {
    "duration": 14,
    "start_time": "2024-12-07T21:23:56.863Z"
   },
   {
    "duration": 18,
    "start_time": "2024-12-07T21:23:56.878Z"
   },
   {
    "duration": 1443,
    "start_time": "2024-12-07T21:23:56.898Z"
   },
   {
    "duration": 405,
    "start_time": "2024-12-07T21:23:58.343Z"
   },
   {
    "duration": 43,
    "start_time": "2024-12-07T21:31:18.849Z"
   },
   {
    "duration": 1121,
    "start_time": "2024-12-07T21:31:39.527Z"
   },
   {
    "duration": 63,
    "start_time": "2024-12-07T21:31:47.554Z"
   },
   {
    "duration": 692,
    "start_time": "2024-12-07T21:32:10.013Z"
   },
   {
    "duration": 6,
    "start_time": "2024-12-07T21:36:18.459Z"
   },
   {
    "duration": 2509,
    "start_time": "2024-12-09T16:05:12.490Z"
   },
   {
    "duration": 458,
    "start_time": "2024-12-09T16:05:15.001Z"
   },
   {
    "duration": 94,
    "start_time": "2024-12-09T16:05:15.461Z"
   },
   {
    "duration": 98,
    "start_time": "2024-12-09T16:05:15.557Z"
   },
   {
    "duration": 3,
    "start_time": "2024-12-09T16:05:15.657Z"
   },
   {
    "duration": 19,
    "start_time": "2024-12-09T16:05:15.661Z"
   },
   {
    "duration": 469,
    "start_time": "2024-12-09T16:05:15.681Z"
   },
   {
    "duration": 3,
    "start_time": "2024-12-09T16:05:16.151Z"
   },
   {
    "duration": 23,
    "start_time": "2024-12-09T16:05:16.156Z"
   },
   {
    "duration": 36,
    "start_time": "2024-12-09T16:05:16.181Z"
   },
   {
    "duration": 276,
    "start_time": "2024-12-09T16:05:16.219Z"
   },
   {
    "duration": 9,
    "start_time": "2024-12-09T16:05:16.497Z"
   },
   {
    "duration": 85,
    "start_time": "2024-12-09T16:05:16.507Z"
   },
   {
    "duration": 41,
    "start_time": "2024-12-09T16:05:16.596Z"
   },
   {
    "duration": 106,
    "start_time": "2024-12-09T16:05:16.639Z"
   },
   {
    "duration": 50,
    "start_time": "2024-12-09T16:05:16.746Z"
   },
   {
    "duration": 5,
    "start_time": "2024-12-09T16:05:16.798Z"
   },
   {
    "duration": 0,
    "start_time": "2024-12-09T16:05:16.805Z"
   },
   {
    "duration": 0,
    "start_time": "2024-12-09T16:05:16.806Z"
   },
   {
    "duration": 0,
    "start_time": "2024-12-09T16:05:16.807Z"
   },
   {
    "duration": 0,
    "start_time": "2024-12-09T16:05:16.808Z"
   },
   {
    "duration": 0,
    "start_time": "2024-12-09T16:05:16.809Z"
   },
   {
    "duration": 0,
    "start_time": "2024-12-09T16:05:16.810Z"
   },
   {
    "duration": 0,
    "start_time": "2024-12-09T16:05:16.811Z"
   },
   {
    "duration": 0,
    "start_time": "2024-12-09T16:05:16.812Z"
   },
   {
    "duration": 0,
    "start_time": "2024-12-09T16:05:16.813Z"
   },
   {
    "duration": 0,
    "start_time": "2024-12-09T16:05:16.813Z"
   },
   {
    "duration": 0,
    "start_time": "2024-12-09T16:05:16.814Z"
   },
   {
    "duration": 0,
    "start_time": "2024-12-09T16:05:16.815Z"
   },
   {
    "duration": 0,
    "start_time": "2024-12-09T16:05:16.816Z"
   },
   {
    "duration": 0,
    "start_time": "2024-12-09T16:05:16.817Z"
   },
   {
    "duration": 0,
    "start_time": "2024-12-09T16:05:16.818Z"
   },
   {
    "duration": 0,
    "start_time": "2024-12-09T16:05:16.819Z"
   },
   {
    "duration": 0,
    "start_time": "2024-12-09T16:05:16.820Z"
   },
   {
    "duration": 0,
    "start_time": "2024-12-09T16:05:16.822Z"
   },
   {
    "duration": 2474,
    "start_time": "2024-12-09T16:07:53.242Z"
   },
   {
    "duration": 6,
    "start_time": "2024-12-09T16:12:48.881Z"
   },
   {
    "duration": 4601,
    "start_time": "2024-12-09T16:15:00.179Z"
   },
   {
    "duration": 4615,
    "start_time": "2024-12-09T16:17:27.391Z"
   },
   {
    "duration": 4670,
    "start_time": "2024-12-09T16:18:28.378Z"
   },
   {
    "duration": 4698,
    "start_time": "2024-12-09T16:19:12.495Z"
   },
   {
    "duration": 4654,
    "start_time": "2024-12-09T16:19:22.684Z"
   },
   {
    "duration": 4580,
    "start_time": "2024-12-09T16:20:21.191Z"
   },
   {
    "duration": 4603,
    "start_time": "2024-12-09T16:20:59.015Z"
   },
   {
    "duration": 4665,
    "start_time": "2024-12-09T16:22:54.700Z"
   },
   {
    "duration": 29,
    "start_time": "2024-12-09T16:24:55.189Z"
   },
   {
    "duration": 4625,
    "start_time": "2024-12-09T16:25:01.535Z"
   },
   {
    "duration": 4641,
    "start_time": "2024-12-09T16:25:54.987Z"
   },
   {
    "duration": 2548,
    "start_time": "2024-12-09T16:28:26.662Z"
   },
   {
    "duration": 5,
    "start_time": "2024-12-09T16:28:31.223Z"
   },
   {
    "duration": 2465,
    "start_time": "2024-12-09T16:30:41.907Z"
   },
   {
    "duration": 813,
    "start_time": "2024-12-09T16:30:51.625Z"
   },
   {
    "duration": 404,
    "start_time": "2024-12-09T16:30:52.440Z"
   },
   {
    "duration": 96,
    "start_time": "2024-12-09T16:30:52.846Z"
   },
   {
    "duration": 97,
    "start_time": "2024-12-09T16:30:52.944Z"
   },
   {
    "duration": 3,
    "start_time": "2024-12-09T16:30:53.043Z"
   },
   {
    "duration": 25,
    "start_time": "2024-12-09T16:30:53.048Z"
   },
   {
    "duration": 455,
    "start_time": "2024-12-09T16:30:53.075Z"
   },
   {
    "duration": 3,
    "start_time": "2024-12-09T16:30:53.532Z"
   },
   {
    "duration": 12,
    "start_time": "2024-12-09T16:30:53.537Z"
   },
   {
    "duration": 52,
    "start_time": "2024-12-09T16:30:53.552Z"
   },
   {
    "duration": 210,
    "start_time": "2024-12-09T16:30:53.606Z"
   },
   {
    "duration": 9,
    "start_time": "2024-12-09T16:30:53.818Z"
   },
   {
    "duration": 75,
    "start_time": "2024-12-09T16:30:53.828Z"
   },
   {
    "duration": 38,
    "start_time": "2024-12-09T16:30:53.905Z"
   },
   {
    "duration": 101,
    "start_time": "2024-12-09T16:30:53.945Z"
   },
   {
    "duration": 51,
    "start_time": "2024-12-09T16:30:54.047Z"
   },
   {
    "duration": 2437,
    "start_time": "2024-12-09T16:30:54.100Z"
   },
   {
    "duration": 8,
    "start_time": "2024-12-09T16:30:56.539Z"
   },
   {
    "duration": 243,
    "start_time": "2024-12-09T16:30:56.549Z"
   },
   {
    "duration": 3,
    "start_time": "2024-12-09T16:30:56.793Z"
   },
   {
    "duration": 59,
    "start_time": "2024-12-09T16:30:56.797Z"
   },
   {
    "duration": 17,
    "start_time": "2024-12-09T16:30:56.857Z"
   },
   {
    "duration": 34,
    "start_time": "2024-12-09T16:30:56.877Z"
   },
   {
    "duration": 6,
    "start_time": "2024-12-09T16:30:56.913Z"
   },
   {
    "duration": 12,
    "start_time": "2024-12-09T16:30:56.921Z"
   },
   {
    "duration": 65,
    "start_time": "2024-12-09T16:30:56.934Z"
   },
   {
    "duration": 91,
    "start_time": "2024-12-09T16:30:57.001Z"
   },
   {
    "duration": 12,
    "start_time": "2024-12-09T16:30:57.096Z"
   },
   {
    "duration": 12,
    "start_time": "2024-12-09T16:30:57.109Z"
   },
   {
    "duration": 2168,
    "start_time": "2024-12-09T16:30:57.123Z"
   },
   {
    "duration": 11,
    "start_time": "2024-12-09T16:30:59.293Z"
   },
   {
    "duration": 11,
    "start_time": "2024-12-09T16:30:59.306Z"
   },
   {
    "duration": 1311,
    "start_time": "2024-12-09T16:30:59.319Z"
   },
   {
    "duration": 387,
    "start_time": "2024-12-09T16:31:00.632Z"
   },
   {
    "duration": 1122,
    "start_time": "2024-12-09T16:32:22.140Z"
   },
   {
    "duration": 5,
    "start_time": "2024-12-09T16:32:25.248Z"
   },
   {
    "duration": 841,
    "start_time": "2024-12-09T16:35:25.307Z"
   },
   {
    "duration": 415,
    "start_time": "2024-12-09T16:35:26.149Z"
   },
   {
    "duration": 104,
    "start_time": "2024-12-09T16:35:26.566Z"
   },
   {
    "duration": 87,
    "start_time": "2024-12-09T16:35:26.673Z"
   },
   {
    "duration": 9,
    "start_time": "2024-12-09T16:35:26.762Z"
   },
   {
    "duration": 17,
    "start_time": "2024-12-09T16:35:26.772Z"
   },
   {
    "duration": 489,
    "start_time": "2024-12-09T16:35:26.791Z"
   },
   {
    "duration": 2,
    "start_time": "2024-12-09T16:35:27.282Z"
   },
   {
    "duration": 11,
    "start_time": "2024-12-09T16:35:27.286Z"
   },
   {
    "duration": 37,
    "start_time": "2024-12-09T16:35:27.300Z"
   },
   {
    "duration": 54,
    "start_time": "2024-12-09T16:35:27.841Z"
   },
   {
    "duration": 2485,
    "start_time": "2024-12-09T16:35:27.898Z"
   },
   {
    "duration": 4,
    "start_time": "2024-12-09T16:35:30.385Z"
   },
   {
    "duration": 203,
    "start_time": "2024-12-09T16:35:30.390Z"
   },
   {
    "duration": 58,
    "start_time": "2024-12-09T16:35:30.594Z"
   },
   {
    "duration": 19,
    "start_time": "2024-12-09T16:35:30.654Z"
   },
   {
    "duration": 35,
    "start_time": "2024-12-09T16:35:30.674Z"
   },
   {
    "duration": 7,
    "start_time": "2024-12-09T16:35:30.711Z"
   },
   {
    "duration": 11,
    "start_time": "2024-12-09T16:35:30.720Z"
   },
   {
    "duration": 52,
    "start_time": "2024-12-09T16:35:30.733Z"
   },
   {
    "duration": 94,
    "start_time": "2024-12-09T16:35:30.787Z"
   },
   {
    "duration": 12,
    "start_time": "2024-12-09T16:35:30.883Z"
   },
   {
    "duration": 12,
    "start_time": "2024-12-09T16:35:30.898Z"
   },
   {
    "duration": 2265,
    "start_time": "2024-12-09T16:35:30.911Z"
   },
   {
    "duration": 12,
    "start_time": "2024-12-09T16:35:33.178Z"
   },
   {
    "duration": 13,
    "start_time": "2024-12-09T16:35:33.192Z"
   },
   {
    "duration": 1322,
    "start_time": "2024-12-09T16:35:33.207Z"
   },
   {
    "duration": 370,
    "start_time": "2024-12-09T16:35:34.531Z"
   },
   {
    "duration": 1149,
    "start_time": "2024-12-09T16:36:59.111Z"
   },
   {
    "duration": 4,
    "start_time": "2024-12-09T16:37:11.168Z"
   },
   {
    "duration": 34,
    "start_time": "2024-12-09T16:48:01.199Z"
   },
   {
    "duration": 793,
    "start_time": "2024-12-09T16:48:11.063Z"
   },
   {
    "duration": 404,
    "start_time": "2024-12-09T16:48:11.858Z"
   },
   {
    "duration": 92,
    "start_time": "2024-12-09T16:48:12.265Z"
   },
   {
    "duration": 93,
    "start_time": "2024-12-09T16:48:12.359Z"
   },
   {
    "duration": 3,
    "start_time": "2024-12-09T16:48:12.453Z"
   },
   {
    "duration": 23,
    "start_time": "2024-12-09T16:48:12.457Z"
   },
   {
    "duration": 459,
    "start_time": "2024-12-09T16:48:12.482Z"
   },
   {
    "duration": 3,
    "start_time": "2024-12-09T16:48:12.943Z"
   },
   {
    "duration": 22,
    "start_time": "2024-12-09T16:48:12.948Z"
   },
   {
    "duration": 36,
    "start_time": "2024-12-09T16:48:12.974Z"
   },
   {
    "duration": 40,
    "start_time": "2024-12-09T16:48:13.012Z"
   },
   {
    "duration": 98,
    "start_time": "2024-12-09T16:48:13.053Z"
   },
   {
    "duration": 6,
    "start_time": "2024-12-09T16:48:13.152Z"
   },
   {
    "duration": 35,
    "start_time": "2024-12-09T16:48:13.170Z"
   },
   {
    "duration": 6,
    "start_time": "2024-12-09T16:48:13.207Z"
   },
   {
    "duration": 10,
    "start_time": "2024-12-09T16:48:13.215Z"
   },
   {
    "duration": 66,
    "start_time": "2024-12-09T16:48:13.227Z"
   },
   {
    "duration": 40,
    "start_time": "2024-12-09T16:48:13.294Z"
   },
   {
    "duration": 12,
    "start_time": "2024-12-09T16:48:13.336Z"
   },
   {
    "duration": 29,
    "start_time": "2024-12-09T16:48:13.350Z"
   },
   {
    "duration": 2453,
    "start_time": "2024-12-09T16:48:13.381Z"
   },
   {
    "duration": 12,
    "start_time": "2024-12-09T16:48:15.836Z"
   },
   {
    "duration": 26,
    "start_time": "2024-12-09T16:48:15.850Z"
   },
   {
    "duration": 1502,
    "start_time": "2024-12-09T16:48:15.878Z"
   },
   {
    "duration": 425,
    "start_time": "2024-12-09T16:48:17.382Z"
   },
   {
    "duration": 811,
    "start_time": "2024-12-09T17:05:11.335Z"
   },
   {
    "duration": 403,
    "start_time": "2024-12-09T17:05:12.148Z"
   },
   {
    "duration": 96,
    "start_time": "2024-12-09T17:05:12.553Z"
   },
   {
    "duration": 92,
    "start_time": "2024-12-09T17:05:12.651Z"
   },
   {
    "duration": 3,
    "start_time": "2024-12-09T17:05:12.744Z"
   },
   {
    "duration": 22,
    "start_time": "2024-12-09T17:05:12.749Z"
   },
   {
    "duration": 452,
    "start_time": "2024-12-09T17:05:12.772Z"
   },
   {
    "duration": 5,
    "start_time": "2024-12-09T17:05:13.225Z"
   },
   {
    "duration": 11,
    "start_time": "2024-12-09T17:05:13.231Z"
   },
   {
    "duration": 53,
    "start_time": "2024-12-09T17:05:13.245Z"
   },
   {
    "duration": 39,
    "start_time": "2024-12-09T17:05:13.299Z"
   },
   {
    "duration": 100,
    "start_time": "2024-12-09T17:05:13.340Z"
   },
   {
    "duration": 6,
    "start_time": "2024-12-09T17:05:13.441Z"
   },
   {
    "duration": 48,
    "start_time": "2024-12-09T17:05:13.449Z"
   },
   {
    "duration": 6,
    "start_time": "2024-12-09T17:05:13.499Z"
   },
   {
    "duration": 10,
    "start_time": "2024-12-09T17:05:13.506Z"
   },
   {
    "duration": 66,
    "start_time": "2024-12-09T17:05:13.518Z"
   },
   {
    "duration": 2358,
    "start_time": "2024-12-09T17:05:13.585Z"
   },
   {
    "duration": 249,
    "start_time": "2024-12-09T17:05:15.944Z"
   },
   {
    "duration": 38,
    "start_time": "2024-12-09T17:05:16.195Z"
   },
   {
    "duration": 50,
    "start_time": "2024-12-09T17:05:16.234Z"
   },
   {
    "duration": 12,
    "start_time": "2024-12-09T17:05:16.286Z"
   },
   {
    "duration": 14,
    "start_time": "2024-12-09T17:05:16.299Z"
   },
   {
    "duration": 2577,
    "start_time": "2024-12-09T17:05:16.315Z"
   },
   {
    "duration": 13,
    "start_time": "2024-12-09T17:05:18.894Z"
   },
   {
    "duration": 12,
    "start_time": "2024-12-09T17:05:18.909Z"
   },
   {
    "duration": 1466,
    "start_time": "2024-12-09T17:05:18.923Z"
   },
   {
    "duration": 420,
    "start_time": "2024-12-09T17:05:20.392Z"
   },
   {
    "duration": 817,
    "start_time": "2024-12-09T17:05:59.219Z"
   },
   {
    "duration": 398,
    "start_time": "2024-12-09T17:06:00.038Z"
   },
   {
    "duration": 95,
    "start_time": "2024-12-09T17:06:00.438Z"
   },
   {
    "duration": 92,
    "start_time": "2024-12-09T17:06:00.535Z"
   },
   {
    "duration": 3,
    "start_time": "2024-12-09T17:06:00.629Z"
   },
   {
    "duration": 12,
    "start_time": "2024-12-09T17:06:00.634Z"
   },
   {
    "duration": 484,
    "start_time": "2024-12-09T17:06:00.647Z"
   },
   {
    "duration": 3,
    "start_time": "2024-12-09T17:06:01.132Z"
   },
   {
    "duration": 12,
    "start_time": "2024-12-09T17:06:01.137Z"
   },
   {
    "duration": 49,
    "start_time": "2024-12-09T17:06:01.151Z"
   },
   {
    "duration": 42,
    "start_time": "2024-12-09T17:06:01.202Z"
   },
   {
    "duration": 103,
    "start_time": "2024-12-09T17:06:01.246Z"
   },
   {
    "duration": 6,
    "start_time": "2024-12-09T17:06:01.351Z"
   },
   {
    "duration": 50,
    "start_time": "2024-12-09T17:06:01.359Z"
   },
   {
    "duration": 6,
    "start_time": "2024-12-09T17:06:01.411Z"
   },
   {
    "duration": 9,
    "start_time": "2024-12-09T17:06:01.419Z"
   },
   {
    "duration": 67,
    "start_time": "2024-12-09T17:06:01.430Z"
   },
   {
    "duration": 2332,
    "start_time": "2024-12-09T17:06:01.499Z"
   },
   {
    "duration": 5,
    "start_time": "2024-12-09T17:06:03.832Z"
   },
   {
    "duration": 235,
    "start_time": "2024-12-09T17:06:03.839Z"
   },
   {
    "duration": 38,
    "start_time": "2024-12-09T17:06:04.077Z"
   },
   {
    "duration": 56,
    "start_time": "2024-12-09T17:06:04.117Z"
   },
   {
    "duration": 13,
    "start_time": "2024-12-09T17:06:04.175Z"
   },
   {
    "duration": 13,
    "start_time": "2024-12-09T17:06:04.190Z"
   },
   {
    "duration": 2549,
    "start_time": "2024-12-09T17:06:04.205Z"
   },
   {
    "duration": 18,
    "start_time": "2024-12-09T17:06:06.755Z"
   },
   {
    "duration": 16,
    "start_time": "2024-12-09T17:06:06.775Z"
   },
   {
    "duration": 1540,
    "start_time": "2024-12-09T17:06:06.793Z"
   },
   {
    "duration": 426,
    "start_time": "2024-12-09T17:06:08.335Z"
   },
   {
    "duration": 1532,
    "start_time": "2024-12-09T17:07:01.109Z"
   },
   {
    "duration": 35,
    "start_time": "2024-12-09T17:07:21.869Z"
   },
   {
    "duration": 984,
    "start_time": "2024-12-09T17:07:23.352Z"
   },
   {
    "duration": 5,
    "start_time": "2024-12-09T17:07:28.941Z"
   },
   {
    "duration": 37,
    "start_time": "2024-12-09T17:10:56.047Z"
   },
   {
    "duration": 89,
    "start_time": "2024-12-09T17:13:05.743Z"
   },
   {
    "duration": 801,
    "start_time": "2024-12-09T17:14:52.106Z"
   },
   {
    "duration": 409,
    "start_time": "2024-12-09T17:14:52.909Z"
   },
   {
    "duration": 95,
    "start_time": "2024-12-09T17:14:53.321Z"
   },
   {
    "duration": 94,
    "start_time": "2024-12-09T17:14:53.419Z"
   },
   {
    "duration": 3,
    "start_time": "2024-12-09T17:14:53.515Z"
   },
   {
    "duration": 12,
    "start_time": "2024-12-09T17:14:53.520Z"
   },
   {
    "duration": 478,
    "start_time": "2024-12-09T17:14:53.533Z"
   },
   {
    "duration": 3,
    "start_time": "2024-12-09T17:14:54.013Z"
   },
   {
    "duration": 11,
    "start_time": "2024-12-09T17:14:54.017Z"
   },
   {
    "duration": 52,
    "start_time": "2024-12-09T17:14:54.031Z"
   },
   {
    "duration": 6,
    "start_time": "2024-12-09T17:14:54.085Z"
   },
   {
    "duration": 38,
    "start_time": "2024-12-09T17:14:54.093Z"
   },
   {
    "duration": 5,
    "start_time": "2024-12-09T17:14:54.133Z"
   },
   {
    "duration": 31,
    "start_time": "2024-12-09T17:14:54.141Z"
   },
   {
    "duration": 41,
    "start_time": "2024-12-09T17:14:54.173Z"
   },
   {
    "duration": 57,
    "start_time": "2024-12-09T17:14:54.216Z"
   },
   {
    "duration": 38,
    "start_time": "2024-12-09T17:14:54.275Z"
   },
   {
    "duration": 98,
    "start_time": "2024-12-09T17:14:54.314Z"
   },
   {
    "duration": 13,
    "start_time": "2024-12-09T17:14:54.414Z"
   },
   {
    "duration": 12,
    "start_time": "2024-12-09T17:14:54.429Z"
   },
   {
    "duration": 2457,
    "start_time": "2024-12-09T17:14:54.442Z"
   },
   {
    "duration": 13,
    "start_time": "2024-12-09T17:14:56.902Z"
   },
   {
    "duration": 12,
    "start_time": "2024-12-09T17:14:56.916Z"
   },
   {
    "duration": 1440,
    "start_time": "2024-12-09T17:14:56.930Z"
   },
   {
    "duration": 424,
    "start_time": "2024-12-09T17:14:58.372Z"
   },
   {
    "duration": 8,
    "start_time": "2024-12-09T17:23:37.301Z"
   },
   {
    "duration": 65,
    "start_time": "2024-12-09T17:24:42.188Z"
   },
   {
    "duration": 244,
    "start_time": "2024-12-09T17:25:59.461Z"
   },
   {
    "duration": 1282,
    "start_time": "2024-12-09T17:28:32.037Z"
   },
   {
    "duration": 848,
    "start_time": "2024-12-09T17:29:35.404Z"
   },
   {
    "duration": 416,
    "start_time": "2024-12-09T17:29:36.254Z"
   },
   {
    "duration": 93,
    "start_time": "2024-12-09T17:29:36.671Z"
   },
   {
    "duration": 88,
    "start_time": "2024-12-09T17:29:36.773Z"
   },
   {
    "duration": 7,
    "start_time": "2024-12-09T17:29:36.863Z"
   },
   {
    "duration": 17,
    "start_time": "2024-12-09T17:29:36.872Z"
   },
   {
    "duration": 491,
    "start_time": "2024-12-09T17:29:36.890Z"
   },
   {
    "duration": 3,
    "start_time": "2024-12-09T17:29:37.383Z"
   },
   {
    "duration": 10,
    "start_time": "2024-12-09T17:29:37.388Z"
   },
   {
    "duration": 36,
    "start_time": "2024-12-09T17:29:37.401Z"
   },
   {
    "duration": 7,
    "start_time": "2024-12-09T17:29:37.439Z"
   },
   {
    "duration": 38,
    "start_time": "2024-12-09T17:29:37.471Z"
   },
   {
    "duration": 5,
    "start_time": "2024-12-09T17:29:37.511Z"
   },
   {
    "duration": 9,
    "start_time": "2024-12-09T17:29:37.519Z"
   },
   {
    "duration": 62,
    "start_time": "2024-12-09T17:29:37.530Z"
   },
   {
    "duration": 41,
    "start_time": "2024-12-09T17:29:37.594Z"
   },
   {
    "duration": 51,
    "start_time": "2024-12-09T17:29:37.637Z"
   },
   {
    "duration": 93,
    "start_time": "2024-12-09T17:29:37.690Z"
   },
   {
    "duration": 12,
    "start_time": "2024-12-09T17:29:37.786Z"
   },
   {
    "duration": 13,
    "start_time": "2024-12-09T17:29:37.800Z"
   },
   {
    "duration": 2447,
    "start_time": "2024-12-09T17:29:37.814Z"
   },
   {
    "duration": 251,
    "start_time": "2024-12-09T17:29:40.263Z"
   },
   {
    "duration": 72,
    "start_time": "2024-12-09T17:29:40.515Z"
   },
   {
    "duration": 2367,
    "start_time": "2024-12-09T17:29:40.589Z"
   },
   {
    "duration": 21,
    "start_time": "2024-12-09T17:29:42.958Z"
   },
   {
    "duration": 13,
    "start_time": "2024-12-09T17:29:42.981Z"
   },
   {
    "duration": 1518,
    "start_time": "2024-12-09T17:29:42.995Z"
   },
   {
    "duration": 428,
    "start_time": "2024-12-09T17:29:44.516Z"
   },
   {
    "duration": 1215,
    "start_time": "2024-12-09T17:29:54.838Z"
   },
   {
    "duration": 1176,
    "start_time": "2024-12-09T17:35:19.787Z"
   },
   {
    "duration": 789,
    "start_time": "2024-12-09T17:35:29.661Z"
   },
   {
    "duration": 420,
    "start_time": "2024-12-09T17:35:30.452Z"
   },
   {
    "duration": 96,
    "start_time": "2024-12-09T17:35:30.874Z"
   },
   {
    "duration": 87,
    "start_time": "2024-12-09T17:35:30.972Z"
   },
   {
    "duration": 3,
    "start_time": "2024-12-09T17:35:31.072Z"
   },
   {
    "duration": 11,
    "start_time": "2024-12-09T17:35:31.077Z"
   },
   {
    "duration": 473,
    "start_time": "2024-12-09T17:35:31.089Z"
   },
   {
    "duration": 7,
    "start_time": "2024-12-09T17:35:31.564Z"
   },
   {
    "duration": 11,
    "start_time": "2024-12-09T17:35:31.573Z"
   },
   {
    "duration": 37,
    "start_time": "2024-12-09T17:35:31.585Z"
   },
   {
    "duration": 6,
    "start_time": "2024-12-09T17:35:31.624Z"
   },
   {
    "duration": 67,
    "start_time": "2024-12-09T17:35:31.632Z"
   },
   {
    "duration": 7,
    "start_time": "2024-12-09T17:35:31.701Z"
   },
   {
    "duration": 12,
    "start_time": "2024-12-09T17:35:31.711Z"
   },
   {
    "duration": 61,
    "start_time": "2024-12-09T17:35:31.725Z"
   },
   {
    "duration": 43,
    "start_time": "2024-12-09T17:35:31.788Z"
   },
   {
    "duration": 50,
    "start_time": "2024-12-09T17:35:31.833Z"
   },
   {
    "duration": 96,
    "start_time": "2024-12-09T17:35:31.884Z"
   },
   {
    "duration": 13,
    "start_time": "2024-12-09T17:35:31.982Z"
   },
   {
    "duration": 13,
    "start_time": "2024-12-09T17:35:31.996Z"
   },
   {
    "duration": 2433,
    "start_time": "2024-12-09T17:35:32.011Z"
   },
   {
    "duration": 256,
    "start_time": "2024-12-09T17:35:34.446Z"
   },
   {
    "duration": 69,
    "start_time": "2024-12-09T17:35:34.704Z"
   },
   {
    "duration": 2727,
    "start_time": "2024-12-09T17:35:34.775Z"
   },
   {
    "duration": 13,
    "start_time": "2024-12-09T17:35:37.505Z"
   },
   {
    "duration": 12,
    "start_time": "2024-12-09T17:35:37.520Z"
   },
   {
    "duration": 1434,
    "start_time": "2024-12-09T17:35:37.534Z"
   },
   {
    "duration": 431,
    "start_time": "2024-12-09T17:35:38.971Z"
   },
   {
    "duration": 12,
    "start_time": "2024-12-09T17:37:26.659Z"
   },
   {
    "duration": 11,
    "start_time": "2024-12-09T17:40:02.313Z"
   },
   {
    "duration": 823,
    "start_time": "2024-12-09T17:40:17.125Z"
   },
   {
    "duration": 398,
    "start_time": "2024-12-09T17:40:17.950Z"
   },
   {
    "duration": 95,
    "start_time": "2024-12-09T17:40:18.349Z"
   },
   {
    "duration": 91,
    "start_time": "2024-12-09T17:40:18.446Z"
   },
   {
    "duration": 3,
    "start_time": "2024-12-09T17:40:18.539Z"
   },
   {
    "duration": 27,
    "start_time": "2024-12-09T17:40:18.543Z"
   },
   {
    "duration": 446,
    "start_time": "2024-12-09T17:40:18.572Z"
   },
   {
    "duration": 3,
    "start_time": "2024-12-09T17:40:19.020Z"
   },
   {
    "duration": 10,
    "start_time": "2024-12-09T17:40:19.025Z"
   },
   {
    "duration": 56,
    "start_time": "2024-12-09T17:40:19.039Z"
   },
   {
    "duration": 7,
    "start_time": "2024-12-09T17:40:19.097Z"
   },
   {
    "duration": 38,
    "start_time": "2024-12-09T17:40:19.105Z"
   },
   {
    "duration": 6,
    "start_time": "2024-12-09T17:40:19.144Z"
   },
   {
    "duration": 10,
    "start_time": "2024-12-09T17:40:19.171Z"
   },
   {
    "duration": 52,
    "start_time": "2024-12-09T17:40:19.183Z"
   },
   {
    "duration": 55,
    "start_time": "2024-12-09T17:40:19.237Z"
   },
   {
    "duration": 38,
    "start_time": "2024-12-09T17:40:19.294Z"
   },
   {
    "duration": 104,
    "start_time": "2024-12-09T17:40:19.335Z"
   },
   {
    "duration": 12,
    "start_time": "2024-12-09T17:40:19.441Z"
   },
   {
    "duration": 20,
    "start_time": "2024-12-09T17:40:19.455Z"
   },
   {
    "duration": 2471,
    "start_time": "2024-12-09T17:40:19.476Z"
   },
   {
    "duration": 258,
    "start_time": "2024-12-09T17:40:21.948Z"
   },
   {
    "duration": 69,
    "start_time": "2024-12-09T17:40:22.208Z"
   },
   {
    "duration": 10,
    "start_time": "2024-12-09T17:40:22.279Z"
   },
   {
    "duration": 2419,
    "start_time": "2024-12-09T17:40:22.291Z"
   },
   {
    "duration": 13,
    "start_time": "2024-12-09T17:40:24.711Z"
   },
   {
    "duration": 12,
    "start_time": "2024-12-09T17:40:24.726Z"
   },
   {
    "duration": 1457,
    "start_time": "2024-12-09T17:40:24.741Z"
   },
   {
    "duration": 438,
    "start_time": "2024-12-09T17:40:26.200Z"
   },
   {
    "duration": 189,
    "start_time": "2024-12-09T17:44:50.514Z"
   },
   {
    "duration": 60,
    "start_time": "2024-12-09T18:10:02.191Z"
   },
   {
    "duration": 835,
    "start_time": "2024-12-09T18:11:07.135Z"
   },
   {
    "duration": 415,
    "start_time": "2024-12-09T18:11:07.972Z"
   },
   {
    "duration": 98,
    "start_time": "2024-12-09T18:11:08.390Z"
   },
   {
    "duration": 93,
    "start_time": "2024-12-09T18:11:08.490Z"
   },
   {
    "duration": 4,
    "start_time": "2024-12-09T18:11:08.586Z"
   },
   {
    "duration": 11,
    "start_time": "2024-12-09T18:11:08.592Z"
   },
   {
    "duration": 481,
    "start_time": "2024-12-09T18:11:08.604Z"
   },
   {
    "duration": 3,
    "start_time": "2024-12-09T18:11:09.086Z"
   },
   {
    "duration": 10,
    "start_time": "2024-12-09T18:11:09.091Z"
   },
   {
    "duration": 36,
    "start_time": "2024-12-09T18:11:09.103Z"
   },
   {
    "duration": 31,
    "start_time": "2024-12-09T18:11:09.141Z"
   },
   {
    "duration": 40,
    "start_time": "2024-12-09T18:11:09.173Z"
   },
   {
    "duration": 6,
    "start_time": "2024-12-09T18:11:09.215Z"
   },
   {
    "duration": 13,
    "start_time": "2024-12-09T18:11:09.225Z"
   },
   {
    "duration": 61,
    "start_time": "2024-12-09T18:11:09.241Z"
   },
   {
    "duration": 53,
    "start_time": "2024-12-09T18:11:09.305Z"
   },
   {
    "duration": 47,
    "start_time": "2024-12-09T18:11:09.370Z"
   },
   {
    "duration": 139,
    "start_time": "2024-12-09T18:11:09.419Z"
   },
   {
    "duration": 17,
    "start_time": "2024-12-09T18:11:09.561Z"
   },
   {
    "duration": 13,
    "start_time": "2024-12-09T18:11:09.580Z"
   },
   {
    "duration": 2512,
    "start_time": "2024-12-09T18:11:09.595Z"
   },
   {
    "duration": 209,
    "start_time": "2024-12-09T18:11:12.109Z"
   },
   {
    "duration": 67,
    "start_time": "2024-12-09T18:11:12.319Z"
   },
   {
    "duration": 11,
    "start_time": "2024-12-09T18:11:12.388Z"
   },
   {
    "duration": 2524,
    "start_time": "2024-12-09T18:11:12.402Z"
   },
   {
    "duration": 99,
    "start_time": "2024-12-09T18:11:14.929Z"
   },
   {
    "duration": 258,
    "start_time": "2024-12-09T18:11:15.030Z"
   },
   {
    "duration": 14,
    "start_time": "2024-12-09T18:11:15.290Z"
   },
   {
    "duration": 17,
    "start_time": "2024-12-09T18:11:15.306Z"
   },
   {
    "duration": 1592,
    "start_time": "2024-12-09T18:11:15.325Z"
   },
   {
    "duration": 450,
    "start_time": "2024-12-09T18:11:16.921Z"
   },
   {
    "duration": 2532,
    "start_time": "2024-12-09T18:31:14.850Z"
   },
   {
    "duration": 28,
    "start_time": "2024-12-09T18:31:52.223Z"
   },
   {
    "duration": 4,
    "start_time": "2024-12-09T18:32:24.625Z"
   },
   {
    "duration": 95,
    "start_time": "2024-12-09T18:32:55.899Z"
   },
   {
    "duration": 100,
    "start_time": "2024-12-09T18:33:18.357Z"
   },
   {
    "duration": 107,
    "start_time": "2024-12-09T18:33:28.291Z"
   },
   {
    "duration": 803,
    "start_time": "2024-12-09T18:35:55.050Z"
   },
   {
    "duration": 422,
    "start_time": "2024-12-09T18:35:55.856Z"
   },
   {
    "duration": 103,
    "start_time": "2024-12-09T18:35:56.279Z"
   },
   {
    "duration": 96,
    "start_time": "2024-12-09T18:35:56.384Z"
   },
   {
    "duration": 3,
    "start_time": "2024-12-09T18:35:56.483Z"
   },
   {
    "duration": 11,
    "start_time": "2024-12-09T18:35:56.488Z"
   },
   {
    "duration": 495,
    "start_time": "2024-12-09T18:35:56.501Z"
   },
   {
    "duration": 3,
    "start_time": "2024-12-09T18:35:57.000Z"
   },
   {
    "duration": 11,
    "start_time": "2024-12-09T18:35:57.005Z"
   },
   {
    "duration": 52,
    "start_time": "2024-12-09T18:35:57.018Z"
   },
   {
    "duration": 9,
    "start_time": "2024-12-09T18:35:57.073Z"
   },
   {
    "duration": 38,
    "start_time": "2024-12-09T18:35:57.085Z"
   },
   {
    "duration": 5,
    "start_time": "2024-12-09T18:35:57.124Z"
   },
   {
    "duration": 11,
    "start_time": "2024-12-09T18:35:57.133Z"
   },
   {
    "duration": 72,
    "start_time": "2024-12-09T18:35:57.146Z"
   },
   {
    "duration": 54,
    "start_time": "2024-12-09T18:35:57.220Z"
   },
   {
    "duration": 37,
    "start_time": "2024-12-09T18:35:57.276Z"
   },
   {
    "duration": 97,
    "start_time": "2024-12-09T18:35:57.315Z"
   },
   {
    "duration": 13,
    "start_time": "2024-12-09T18:35:57.414Z"
   },
   {
    "duration": 14,
    "start_time": "2024-12-09T18:35:57.428Z"
   },
   {
    "duration": 2510,
    "start_time": "2024-12-09T18:35:57.444Z"
   },
   {
    "duration": 246,
    "start_time": "2024-12-09T18:35:59.957Z"
   },
   {
    "duration": 77,
    "start_time": "2024-12-09T18:36:00.205Z"
   },
   {
    "duration": 11,
    "start_time": "2024-12-09T18:36:00.284Z"
   },
   {
    "duration": 2451,
    "start_time": "2024-12-09T18:36:00.298Z"
   },
   {
    "duration": 65,
    "start_time": "2024-12-09T18:36:02.751Z"
   },
   {
    "duration": 201,
    "start_time": "2024-12-09T18:36:02.818Z"
   },
   {
    "duration": 13,
    "start_time": "2024-12-09T18:36:03.021Z"
   },
   {
    "duration": 48,
    "start_time": "2024-12-09T18:36:03.035Z"
   },
   {
    "duration": 2706,
    "start_time": "2024-12-09T18:36:03.085Z"
   },
   {
    "duration": 13,
    "start_time": "2024-12-09T18:36:05.793Z"
   },
   {
    "duration": 1488,
    "start_time": "2024-12-09T18:36:05.808Z"
   },
   {
    "duration": 389,
    "start_time": "2024-12-09T18:36:07.298Z"
   },
   {
    "duration": 840,
    "start_time": "2024-12-09T18:36:52.715Z"
   },
   {
    "duration": 412,
    "start_time": "2024-12-09T18:36:53.558Z"
   },
   {
    "duration": 98,
    "start_time": "2024-12-09T18:36:53.972Z"
   },
   {
    "duration": 88,
    "start_time": "2024-12-09T18:36:54.072Z"
   },
   {
    "duration": 3,
    "start_time": "2024-12-09T18:36:54.172Z"
   },
   {
    "duration": 13,
    "start_time": "2024-12-09T18:36:54.177Z"
   },
   {
    "duration": 484,
    "start_time": "2024-12-09T18:36:54.191Z"
   },
   {
    "duration": 4,
    "start_time": "2024-12-09T18:36:54.676Z"
   },
   {
    "duration": 11,
    "start_time": "2024-12-09T18:36:54.681Z"
   },
   {
    "duration": 36,
    "start_time": "2024-12-09T18:36:54.693Z"
   },
   {
    "duration": 6,
    "start_time": "2024-12-09T18:36:54.731Z"
   },
   {
    "duration": 63,
    "start_time": "2024-12-09T18:36:54.739Z"
   },
   {
    "duration": 5,
    "start_time": "2024-12-09T18:36:54.804Z"
   },
   {
    "duration": 10,
    "start_time": "2024-12-09T18:36:54.813Z"
   },
   {
    "duration": 57,
    "start_time": "2024-12-09T18:36:54.825Z"
   },
   {
    "duration": 48,
    "start_time": "2024-12-09T18:36:54.884Z"
   },
   {
    "duration": 58,
    "start_time": "2024-12-09T18:36:54.934Z"
   },
   {
    "duration": 93,
    "start_time": "2024-12-09T18:36:54.994Z"
   },
   {
    "duration": 14,
    "start_time": "2024-12-09T18:36:55.088Z"
   },
   {
    "duration": 13,
    "start_time": "2024-12-09T18:36:55.103Z"
   },
   {
    "duration": 2511,
    "start_time": "2024-12-09T18:36:55.118Z"
   },
   {
    "duration": 242,
    "start_time": "2024-12-09T18:36:57.631Z"
   },
   {
    "duration": 62,
    "start_time": "2024-12-09T18:36:57.875Z"
   },
   {
    "duration": 10,
    "start_time": "2024-12-09T18:36:57.939Z"
   },
   {
    "duration": 2481,
    "start_time": "2024-12-09T18:36:57.970Z"
   },
   {
    "duration": 69,
    "start_time": "2024-12-09T18:37:00.453Z"
   },
   {
    "duration": 194,
    "start_time": "2024-12-09T18:37:00.524Z"
   },
   {
    "duration": 14,
    "start_time": "2024-12-09T18:37:00.720Z"
   },
   {
    "duration": 37,
    "start_time": "2024-12-09T18:37:00.735Z"
   },
   {
    "duration": 2657,
    "start_time": "2024-12-09T18:37:00.774Z"
   },
   {
    "duration": 13,
    "start_time": "2024-12-09T18:37:03.433Z"
   },
   {
    "duration": 1436,
    "start_time": "2024-12-09T18:37:03.448Z"
   },
   {
    "duration": 376,
    "start_time": "2024-12-09T18:37:04.885Z"
   },
   {
    "duration": 815,
    "start_time": "2024-12-09T18:37:26.056Z"
   },
   {
    "duration": 414,
    "start_time": "2024-12-09T18:37:26.874Z"
   },
   {
    "duration": 95,
    "start_time": "2024-12-09T18:37:27.290Z"
   },
   {
    "duration": 96,
    "start_time": "2024-12-09T18:37:27.387Z"
   },
   {
    "duration": 3,
    "start_time": "2024-12-09T18:37:27.485Z"
   },
   {
    "duration": 12,
    "start_time": "2024-12-09T18:37:27.490Z"
   },
   {
    "duration": 474,
    "start_time": "2024-12-09T18:37:27.503Z"
   },
   {
    "duration": 3,
    "start_time": "2024-12-09T18:37:27.978Z"
   },
   {
    "duration": 10,
    "start_time": "2024-12-09T18:37:27.983Z"
   },
   {
    "duration": 36,
    "start_time": "2024-12-09T18:37:27.995Z"
   },
   {
    "duration": 6,
    "start_time": "2024-12-09T18:37:28.033Z"
   },
   {
    "duration": 36,
    "start_time": "2024-12-09T18:37:28.070Z"
   },
   {
    "duration": 7,
    "start_time": "2024-12-09T18:37:28.108Z"
   },
   {
    "duration": 9,
    "start_time": "2024-12-09T18:37:28.119Z"
   },
   {
    "duration": 63,
    "start_time": "2024-12-09T18:37:28.130Z"
   },
   {
    "duration": 41,
    "start_time": "2024-12-09T18:37:28.195Z"
   },
   {
    "duration": 51,
    "start_time": "2024-12-09T18:37:28.238Z"
   },
   {
    "duration": 97,
    "start_time": "2024-12-09T18:37:28.291Z"
   },
   {
    "duration": 13,
    "start_time": "2024-12-09T18:37:28.389Z"
   },
   {
    "duration": 13,
    "start_time": "2024-12-09T18:37:28.404Z"
   },
   {
    "duration": 2392,
    "start_time": "2024-12-09T18:37:28.418Z"
   },
   {
    "duration": 214,
    "start_time": "2024-12-09T18:37:30.812Z"
   },
   {
    "duration": 77,
    "start_time": "2024-12-09T18:37:31.028Z"
   },
   {
    "duration": 10,
    "start_time": "2024-12-09T18:37:31.106Z"
   },
   {
    "duration": 2354,
    "start_time": "2024-12-09T18:37:31.119Z"
   },
   {
    "duration": 61,
    "start_time": "2024-12-09T18:37:33.474Z"
   },
   {
    "duration": 233,
    "start_time": "2024-12-09T18:37:33.537Z"
   },
   {
    "duration": 13,
    "start_time": "2024-12-09T18:37:33.773Z"
   },
   {
    "duration": 14,
    "start_time": "2024-12-09T18:37:33.788Z"
   },
   {
    "duration": 2615,
    "start_time": "2024-12-09T18:37:33.804Z"
   },
   {
    "duration": 12,
    "start_time": "2024-12-09T18:37:36.421Z"
   },
   {
    "duration": 1464,
    "start_time": "2024-12-09T18:37:36.435Z"
   },
   {
    "duration": 423,
    "start_time": "2024-12-09T18:37:37.901Z"
   },
   {
    "duration": 5,
    "start_time": "2024-12-09T18:40:58.995Z"
   },
   {
    "duration": 41,
    "start_time": "2024-12-09T18:41:03.880Z"
   },
   {
    "duration": 42,
    "start_time": "2024-12-09T18:41:24.433Z"
   },
   {
    "duration": 56,
    "start_time": "2024-12-09T18:52:48.114Z"
   },
   {
    "duration": 93,
    "start_time": "2024-12-09T18:53:42.450Z"
   },
   {
    "duration": 163,
    "start_time": "2024-12-09T18:55:23.524Z"
   },
   {
    "duration": 810,
    "start_time": "2024-12-09T18:55:58.755Z"
   },
   {
    "duration": 411,
    "start_time": "2024-12-09T18:55:59.567Z"
   },
   {
    "duration": 110,
    "start_time": "2024-12-09T18:55:59.980Z"
   },
   {
    "duration": 95,
    "start_time": "2024-12-09T18:56:00.093Z"
   },
   {
    "duration": 3,
    "start_time": "2024-12-09T18:56:00.190Z"
   },
   {
    "duration": 12,
    "start_time": "2024-12-09T18:56:00.195Z"
   },
   {
    "duration": 487,
    "start_time": "2024-12-09T18:56:00.208Z"
   },
   {
    "duration": 5,
    "start_time": "2024-12-09T18:56:00.697Z"
   },
   {
    "duration": 10,
    "start_time": "2024-12-09T18:56:00.705Z"
   },
   {
    "duration": 54,
    "start_time": "2024-12-09T18:56:00.718Z"
   },
   {
    "duration": 6,
    "start_time": "2024-12-09T18:56:00.774Z"
   },
   {
    "duration": 39,
    "start_time": "2024-12-09T18:56:00.781Z"
   },
   {
    "duration": 6,
    "start_time": "2024-12-09T18:56:00.822Z"
   },
   {
    "duration": 11,
    "start_time": "2024-12-09T18:56:00.829Z"
   },
   {
    "duration": 67,
    "start_time": "2024-12-09T18:56:00.842Z"
   },
   {
    "duration": 138,
    "start_time": "2024-12-09T18:56:00.911Z"
   },
   {
    "duration": 43,
    "start_time": "2024-12-09T18:56:01.050Z"
   },
   {
    "duration": 95,
    "start_time": "2024-12-09T18:56:01.095Z"
   },
   {
    "duration": 13,
    "start_time": "2024-12-09T18:56:01.191Z"
   },
   {
    "duration": 14,
    "start_time": "2024-12-09T18:56:01.206Z"
   },
   {
    "duration": 2517,
    "start_time": "2024-12-09T18:56:01.222Z"
   },
   {
    "duration": 249,
    "start_time": "2024-12-09T18:56:03.742Z"
   },
   {
    "duration": 61,
    "start_time": "2024-12-09T18:56:03.993Z"
   },
   {
    "duration": 20,
    "start_time": "2024-12-09T18:56:04.056Z"
   },
   {
    "duration": 2353,
    "start_time": "2024-12-09T18:56:04.079Z"
   },
   {
    "duration": 68,
    "start_time": "2024-12-09T18:56:06.434Z"
   },
   {
    "duration": 208,
    "start_time": "2024-12-09T18:56:06.504Z"
   },
   {
    "duration": 13,
    "start_time": "2024-12-09T18:56:06.716Z"
   },
   {
    "duration": 2672,
    "start_time": "2024-12-09T18:56:06.730Z"
   },
   {
    "duration": 18,
    "start_time": "2024-12-09T18:56:09.404Z"
   },
   {
    "duration": 13,
    "start_time": "2024-12-09T18:56:09.423Z"
   },
   {
    "duration": 1438,
    "start_time": "2024-12-09T18:56:09.438Z"
   },
   {
    "duration": 436,
    "start_time": "2024-12-09T18:56:10.877Z"
   },
   {
    "duration": 89,
    "start_time": "2024-12-09T18:57:46.553Z"
   },
   {
    "duration": 26,
    "start_time": "2024-12-09T18:58:49.721Z"
   },
   {
    "duration": 805,
    "start_time": "2024-12-09T19:01:47.338Z"
   },
   {
    "duration": 415,
    "start_time": "2024-12-09T19:01:48.145Z"
   },
   {
    "duration": 94,
    "start_time": "2024-12-09T19:01:48.562Z"
   },
   {
    "duration": 96,
    "start_time": "2024-12-09T19:01:48.658Z"
   },
   {
    "duration": 3,
    "start_time": "2024-12-09T19:01:48.757Z"
   },
   {
    "duration": 12,
    "start_time": "2024-12-09T19:01:48.770Z"
   },
   {
    "duration": 462,
    "start_time": "2024-12-09T19:01:48.784Z"
   },
   {
    "duration": 3,
    "start_time": "2024-12-09T19:01:49.247Z"
   },
   {
    "duration": 24,
    "start_time": "2024-12-09T19:01:49.251Z"
   },
   {
    "duration": 37,
    "start_time": "2024-12-09T19:01:49.277Z"
   },
   {
    "duration": 8,
    "start_time": "2024-12-09T19:01:49.316Z"
   },
   {
    "duration": 61,
    "start_time": "2024-12-09T19:01:49.326Z"
   },
   {
    "duration": 5,
    "start_time": "2024-12-09T19:01:49.389Z"
   },
   {
    "duration": 10,
    "start_time": "2024-12-09T19:01:49.397Z"
   },
   {
    "duration": 41,
    "start_time": "2024-12-09T19:01:49.408Z"
   },
   {
    "duration": 131,
    "start_time": "2024-12-09T19:01:49.469Z"
   },
   {
    "duration": 40,
    "start_time": "2024-12-09T19:01:49.602Z"
   },
   {
    "duration": 102,
    "start_time": "2024-12-09T19:01:49.644Z"
   },
   {
    "duration": 12,
    "start_time": "2024-12-09T19:01:49.748Z"
   },
   {
    "duration": 16,
    "start_time": "2024-12-09T19:01:49.762Z"
   },
   {
    "duration": 2436,
    "start_time": "2024-12-09T19:01:49.780Z"
   },
   {
    "duration": 207,
    "start_time": "2024-12-09T19:01:52.218Z"
   },
   {
    "duration": 95,
    "start_time": "2024-12-09T19:01:52.427Z"
   },
   {
    "duration": 10,
    "start_time": "2024-12-09T19:01:52.524Z"
   },
   {
    "duration": 2341,
    "start_time": "2024-12-09T19:01:52.536Z"
   },
   {
    "duration": 60,
    "start_time": "2024-12-09T19:01:54.879Z"
   },
   {
    "duration": 253,
    "start_time": "2024-12-09T19:01:54.941Z"
   },
   {
    "duration": 13,
    "start_time": "2024-12-09T19:01:55.195Z"
   },
   {
    "duration": 2598,
    "start_time": "2024-12-09T19:01:55.210Z"
   },
   {
    "duration": 14,
    "start_time": "2024-12-09T19:01:57.810Z"
   },
   {
    "duration": 26,
    "start_time": "2024-12-09T19:01:57.826Z"
   },
   {
    "duration": 1445,
    "start_time": "2024-12-09T19:01:57.870Z"
   },
   {
    "duration": 430,
    "start_time": "2024-12-09T19:01:59.317Z"
   },
   {
    "duration": 13,
    "start_time": "2024-12-09T19:15:26.588Z"
   },
   {
    "duration": 106,
    "start_time": "2024-12-09T19:25:35.293Z"
   },
   {
    "duration": 88,
    "start_time": "2024-12-09T19:26:08.606Z"
   },
   {
    "duration": 89,
    "start_time": "2024-12-09T19:26:47.764Z"
   },
   {
    "duration": 170,
    "start_time": "2024-12-09T19:26:52.530Z"
   },
   {
    "duration": 102,
    "start_time": "2024-12-09T19:27:06.454Z"
   },
   {
    "duration": 83,
    "start_time": "2024-12-09T19:27:29.772Z"
   },
   {
    "duration": 163,
    "start_time": "2024-12-11T18:16:05.540Z"
   },
   {
    "duration": 2587,
    "start_time": "2024-12-11T18:16:14.490Z"
   },
   {
    "duration": 473,
    "start_time": "2024-12-11T18:16:17.079Z"
   },
   {
    "duration": 94,
    "start_time": "2024-12-11T18:16:17.553Z"
   },
   {
    "duration": 109,
    "start_time": "2024-12-11T18:16:17.650Z"
   },
   {
    "duration": 4,
    "start_time": "2024-12-11T18:16:17.761Z"
   },
   {
    "duration": 15,
    "start_time": "2024-12-11T18:16:17.767Z"
   },
   {
    "duration": 502,
    "start_time": "2024-12-11T18:16:17.784Z"
   },
   {
    "duration": 3,
    "start_time": "2024-12-11T18:16:18.287Z"
   },
   {
    "duration": 11,
    "start_time": "2024-12-11T18:16:18.292Z"
   },
   {
    "duration": 60,
    "start_time": "2024-12-11T18:16:18.306Z"
   },
   {
    "duration": 8,
    "start_time": "2024-12-11T18:16:18.368Z"
   },
   {
    "duration": 36,
    "start_time": "2024-12-11T18:16:18.378Z"
   },
   {
    "duration": 18,
    "start_time": "2024-12-11T18:16:18.416Z"
   },
   {
    "duration": 11,
    "start_time": "2024-12-11T18:16:18.436Z"
   },
   {
    "duration": 44,
    "start_time": "2024-12-11T18:16:18.448Z"
   },
   {
    "duration": 147,
    "start_time": "2024-12-11T18:16:18.494Z"
   },
   {
    "duration": 39,
    "start_time": "2024-12-11T18:16:18.643Z"
   },
   {
    "duration": 101,
    "start_time": "2024-12-11T18:16:18.683Z"
   },
   {
    "duration": 13,
    "start_time": "2024-12-11T18:16:18.785Z"
   },
   {
    "duration": 12,
    "start_time": "2024-12-11T18:16:18.800Z"
   },
   {
    "duration": 2424,
    "start_time": "2024-12-11T18:16:18.830Z"
   },
   {
    "duration": 230,
    "start_time": "2024-12-11T18:16:21.256Z"
   },
   {
    "duration": 69,
    "start_time": "2024-12-11T18:16:21.488Z"
   },
   {
    "duration": 10,
    "start_time": "2024-12-11T18:16:21.559Z"
   },
   {
    "duration": 2427,
    "start_time": "2024-12-11T18:16:21.570Z"
   },
   {
    "duration": 70,
    "start_time": "2024-12-11T18:16:23.999Z"
   },
   {
    "duration": 208,
    "start_time": "2024-12-11T18:16:24.071Z"
   },
   {
    "duration": 12,
    "start_time": "2024-12-11T18:16:24.283Z"
   },
   {
    "duration": 2597,
    "start_time": "2024-12-11T18:16:24.297Z"
   },
   {
    "duration": 14,
    "start_time": "2024-12-11T18:16:26.895Z"
   },
   {
    "duration": 25,
    "start_time": "2024-12-11T18:16:26.910Z"
   },
   {
    "duration": 26,
    "start_time": "2024-12-11T18:16:26.937Z"
   },
   {
    "duration": 185,
    "start_time": "2024-12-11T18:16:26.964Z"
   },
   {
    "duration": 1478,
    "start_time": "2024-12-11T18:16:27.151Z"
   },
   {
    "duration": 7,
    "start_time": "2024-12-11T18:16:28.631Z"
   },
   {
    "duration": 246,
    "start_time": "2024-12-11T18:34:38.317Z"
   },
   {
    "duration": 50,
    "start_time": "2024-12-11T18:34:57.736Z"
   },
   {
    "duration": 301,
    "start_time": "2024-12-11T18:38:36.673Z"
   },
   {
    "duration": 86,
    "start_time": "2024-12-11T18:38:54.689Z"
   },
   {
    "duration": 5,
    "start_time": "2024-12-11T18:39:28.554Z"
   },
   {
    "duration": 5,
    "start_time": "2024-12-11T18:39:43.312Z"
   },
   {
    "duration": 4,
    "start_time": "2024-12-11T18:40:32.211Z"
   },
   {
    "duration": 60,
    "start_time": "2024-12-11T18:41:15.023Z"
   },
   {
    "duration": 47,
    "start_time": "2024-12-11T18:46:49.472Z"
   },
   {
    "duration": 58,
    "start_time": "2024-12-11T18:48:12.152Z"
   },
   {
    "duration": 844,
    "start_time": "2024-12-11T18:48:43.872Z"
   },
   {
    "duration": 416,
    "start_time": "2024-12-11T18:48:44.719Z"
   },
   {
    "duration": 100,
    "start_time": "2024-12-11T18:48:45.137Z"
   },
   {
    "duration": 94,
    "start_time": "2024-12-11T18:48:45.239Z"
   },
   {
    "duration": 60,
    "start_time": "2024-12-11T18:48:45.336Z"
   },
   {
    "duration": 5,
    "start_time": "2024-12-11T18:48:45.398Z"
   },
   {
    "duration": 34,
    "start_time": "2024-12-11T18:48:45.405Z"
   },
   {
    "duration": 494,
    "start_time": "2024-12-11T18:48:45.440Z"
   },
   {
    "duration": 3,
    "start_time": "2024-12-11T18:48:45.936Z"
   },
   {
    "duration": 11,
    "start_time": "2024-12-11T18:48:45.941Z"
   },
   {
    "duration": 37,
    "start_time": "2024-12-11T18:48:45.954Z"
   },
   {
    "duration": 7,
    "start_time": "2024-12-11T18:48:45.992Z"
   },
   {
    "duration": 64,
    "start_time": "2024-12-11T18:48:46.001Z"
   },
   {
    "duration": 5,
    "start_time": "2024-12-11T18:48:46.070Z"
   },
   {
    "duration": 11,
    "start_time": "2024-12-11T18:48:46.077Z"
   },
   {
    "duration": 61,
    "start_time": "2024-12-11T18:48:46.089Z"
   },
   {
    "duration": 133,
    "start_time": "2024-12-11T18:48:46.153Z"
   },
   {
    "duration": 43,
    "start_time": "2024-12-11T18:48:46.288Z"
   },
   {
    "duration": 87,
    "start_time": "2024-12-11T18:48:46.333Z"
   },
   {
    "duration": 22,
    "start_time": "2024-12-11T18:48:46.421Z"
   },
   {
    "duration": 17,
    "start_time": "2024-12-11T18:48:46.444Z"
   },
   {
    "duration": 2556,
    "start_time": "2024-12-11T18:48:46.463Z"
   },
   {
    "duration": 244,
    "start_time": "2024-12-11T18:48:49.021Z"
   },
   {
    "duration": 68,
    "start_time": "2024-12-11T18:48:49.266Z"
   },
   {
    "duration": 9,
    "start_time": "2024-12-11T18:48:49.336Z"
   },
   {
    "duration": 2482,
    "start_time": "2024-12-11T18:48:49.347Z"
   },
   {
    "duration": 63,
    "start_time": "2024-12-11T18:48:51.831Z"
   },
   {
    "duration": 189,
    "start_time": "2024-12-11T18:48:51.896Z"
   },
   {
    "duration": 52,
    "start_time": "2024-12-11T18:48:52.087Z"
   },
   {
    "duration": 2721,
    "start_time": "2024-12-11T18:48:52.140Z"
   },
   {
    "duration": 13,
    "start_time": "2024-12-11T18:48:54.863Z"
   },
   {
    "duration": 14,
    "start_time": "2024-12-11T18:48:54.878Z"
   },
   {
    "duration": 46,
    "start_time": "2024-12-11T18:48:54.893Z"
   },
   {
    "duration": 172,
    "start_time": "2024-12-11T18:48:54.941Z"
   },
   {
    "duration": 1483,
    "start_time": "2024-12-11T18:48:55.115Z"
   },
   {
    "duration": 301,
    "start_time": "2024-12-11T18:48:56.600Z"
   },
   {
    "duration": 57,
    "start_time": "2024-12-11T18:48:56.904Z"
   },
   {
    "duration": 116,
    "start_time": "2024-12-11T19:01:42.527Z"
   },
   {
    "duration": 36,
    "start_time": "2024-12-11T19:02:04.079Z"
   },
   {
    "duration": 27,
    "start_time": "2024-12-11T19:02:13.607Z"
   },
   {
    "duration": 10,
    "start_time": "2024-12-11T19:02:27.732Z"
   },
   {
    "duration": 5,
    "start_time": "2024-12-11T19:03:09.913Z"
   },
   {
    "duration": 10,
    "start_time": "2024-12-11T19:03:17.399Z"
   },
   {
    "duration": 11,
    "start_time": "2024-12-11T19:03:52.993Z"
   },
   {
    "duration": 12,
    "start_time": "2024-12-11T19:04:22.088Z"
   },
   {
    "duration": 11,
    "start_time": "2024-12-11T19:04:42.156Z"
   },
   {
    "duration": 9,
    "start_time": "2024-12-11T19:04:50.032Z"
   },
   {
    "duration": 7,
    "start_time": "2024-12-11T19:04:57.184Z"
   },
   {
    "duration": 5,
    "start_time": "2024-12-11T19:05:20.475Z"
   },
   {
    "duration": 6,
    "start_time": "2024-12-11T19:05:26.193Z"
   },
   {
    "duration": 5,
    "start_time": "2024-12-11T19:05:29.580Z"
   },
   {
    "duration": 6,
    "start_time": "2024-12-11T19:05:33.875Z"
   },
   {
    "duration": 5,
    "start_time": "2024-12-11T19:05:37.822Z"
   },
   {
    "duration": 6,
    "start_time": "2024-12-11T19:05:40.960Z"
   },
   {
    "duration": 6,
    "start_time": "2024-12-11T19:05:43.991Z"
   },
   {
    "duration": 6,
    "start_time": "2024-12-11T19:05:46.566Z"
   },
   {
    "duration": 7,
    "start_time": "2024-12-11T19:05:48.983Z"
   },
   {
    "duration": 6,
    "start_time": "2024-12-11T19:05:51.614Z"
   },
   {
    "duration": 6,
    "start_time": "2024-12-11T19:05:54.695Z"
   },
   {
    "duration": 8,
    "start_time": "2024-12-11T19:05:58.441Z"
   },
   {
    "duration": 6,
    "start_time": "2024-12-11T19:06:03.658Z"
   },
   {
    "duration": 7,
    "start_time": "2024-12-11T19:06:06.696Z"
   },
   {
    "duration": 266,
    "start_time": "2024-12-11T19:08:08.216Z"
   },
   {
    "duration": 128,
    "start_time": "2024-12-11T19:13:38.417Z"
   },
   {
    "duration": 226,
    "start_time": "2024-12-11T19:14:25.763Z"
   },
   {
    "duration": 251,
    "start_time": "2024-12-11T19:17:15.499Z"
   },
   {
    "duration": 228,
    "start_time": "2024-12-11T19:17:43.981Z"
   },
   {
    "duration": 253,
    "start_time": "2024-12-11T19:17:47.530Z"
   },
   {
    "duration": 269,
    "start_time": "2024-12-11T19:17:52.910Z"
   },
   {
    "duration": 330,
    "start_time": "2024-12-11T19:17:57.557Z"
   },
   {
    "duration": 224,
    "start_time": "2024-12-11T19:18:04.653Z"
   },
   {
    "duration": 251,
    "start_time": "2024-12-11T19:18:09.105Z"
   },
   {
    "duration": 230,
    "start_time": "2024-12-11T19:18:17.864Z"
   },
   {
    "duration": 849,
    "start_time": "2024-12-11T19:18:30.567Z"
   },
   {
    "duration": 429,
    "start_time": "2024-12-11T19:18:31.419Z"
   },
   {
    "duration": 102,
    "start_time": "2024-12-11T19:18:31.851Z"
   },
   {
    "duration": 91,
    "start_time": "2024-12-11T19:18:31.956Z"
   },
   {
    "duration": 60,
    "start_time": "2024-12-11T19:18:32.049Z"
   },
   {
    "duration": 19,
    "start_time": "2024-12-11T19:18:32.111Z"
   },
   {
    "duration": 11,
    "start_time": "2024-12-11T19:18:32.132Z"
   },
   {
    "duration": 473,
    "start_time": "2024-12-11T19:18:32.145Z"
   },
   {
    "duration": 12,
    "start_time": "2024-12-11T19:18:32.619Z"
   },
   {
    "duration": 262,
    "start_time": "2024-12-11T19:18:32.633Z"
   },
   {
    "duration": 14,
    "start_time": "2024-12-11T19:18:32.896Z"
   },
   {
    "duration": 28,
    "start_time": "2024-12-11T19:18:32.912Z"
   },
   {
    "duration": 37,
    "start_time": "2024-12-11T19:18:32.942Z"
   },
   {
    "duration": 5,
    "start_time": "2024-12-11T19:18:32.985Z"
   },
   {
    "duration": 57,
    "start_time": "2024-12-11T19:18:32.992Z"
   },
   {
    "duration": 6,
    "start_time": "2024-12-11T19:18:33.052Z"
   },
   {
    "duration": 10,
    "start_time": "2024-12-11T19:18:33.059Z"
   },
   {
    "duration": 41,
    "start_time": "2024-12-11T19:18:33.071Z"
   },
   {
    "duration": 129,
    "start_time": "2024-12-11T19:18:33.130Z"
   },
   {
    "duration": 38,
    "start_time": "2024-12-11T19:18:33.262Z"
   },
   {
    "duration": 99,
    "start_time": "2024-12-11T19:18:33.301Z"
   },
   {
    "duration": 13,
    "start_time": "2024-12-11T19:18:33.402Z"
   },
   {
    "duration": 27,
    "start_time": "2024-12-11T19:18:33.416Z"
   },
   {
    "duration": 2456,
    "start_time": "2024-12-11T19:18:33.444Z"
   },
   {
    "duration": 243,
    "start_time": "2024-12-11T19:18:35.902Z"
   },
   {
    "duration": 63,
    "start_time": "2024-12-11T19:18:36.146Z"
   },
   {
    "duration": 22,
    "start_time": "2024-12-11T19:18:36.211Z"
   },
   {
    "duration": 2465,
    "start_time": "2024-12-11T19:18:36.235Z"
   },
   {
    "duration": 71,
    "start_time": "2024-12-11T19:18:38.702Z"
   },
   {
    "duration": 194,
    "start_time": "2024-12-11T19:18:38.775Z"
   },
   {
    "duration": 13,
    "start_time": "2024-12-11T19:18:38.971Z"
   },
   {
    "duration": 2676,
    "start_time": "2024-12-11T19:18:38.986Z"
   },
   {
    "duration": 14,
    "start_time": "2024-12-11T19:18:41.664Z"
   },
   {
    "duration": 13,
    "start_time": "2024-12-11T19:18:41.681Z"
   },
   {
    "duration": 45,
    "start_time": "2024-12-11T19:18:41.697Z"
   },
   {
    "duration": 170,
    "start_time": "2024-12-11T19:18:41.743Z"
   },
   {
    "duration": 1428,
    "start_time": "2024-12-11T19:18:41.914Z"
   },
   {
    "duration": 244,
    "start_time": "2024-12-11T19:18:43.344Z"
   },
   {
    "duration": 57,
    "start_time": "2024-12-11T19:18:43.591Z"
   },
   {
    "duration": 244,
    "start_time": "2024-12-11T19:19:24.691Z"
   },
   {
    "duration": 261,
    "start_time": "2024-12-11T19:20:28.322Z"
   },
   {
    "duration": 13,
    "start_time": "2024-12-11T20:16:37.663Z"
   },
   {
    "duration": 4,
    "start_time": "2024-12-11T20:16:43.213Z"
   },
   {
    "duration": 11,
    "start_time": "2024-12-11T20:16:48.709Z"
   },
   {
    "duration": 10,
    "start_time": "2024-12-11T20:19:03.321Z"
   },
   {
    "duration": 54,
    "start_time": "2024-12-11T20:20:16.985Z"
   },
   {
    "duration": 20,
    "start_time": "2024-12-11T20:23:05.351Z"
   },
   {
    "duration": 5,
    "start_time": "2024-12-11T20:27:21.184Z"
   },
   {
    "duration": 822,
    "start_time": "2024-12-11T20:27:31.912Z"
   },
   {
    "duration": 442,
    "start_time": "2024-12-11T20:27:32.737Z"
   },
   {
    "duration": 97,
    "start_time": "2024-12-11T20:27:33.181Z"
   },
   {
    "duration": 99,
    "start_time": "2024-12-11T20:27:33.281Z"
   },
   {
    "duration": 69,
    "start_time": "2024-12-11T20:27:33.382Z"
   },
   {
    "duration": 3,
    "start_time": "2024-12-11T20:27:33.453Z"
   },
   {
    "duration": 657,
    "start_time": "2024-12-11T20:27:33.458Z"
   },
   {
    "duration": 5,
    "start_time": "2024-12-11T20:27:34.118Z"
   },
   {
    "duration": 23,
    "start_time": "2024-12-11T20:27:34.125Z"
   },
   {
    "duration": 57,
    "start_time": "2024-12-11T20:27:34.152Z"
   },
   {
    "duration": 57,
    "start_time": "2024-12-11T20:27:34.211Z"
   },
   {
    "duration": 8,
    "start_time": "2024-12-11T20:27:34.270Z"
   },
   {
    "duration": 35,
    "start_time": "2024-12-11T20:27:34.280Z"
   },
   {
    "duration": 18,
    "start_time": "2024-12-11T20:27:34.317Z"
   },
   {
    "duration": 10,
    "start_time": "2024-12-11T20:27:34.337Z"
   },
   {
    "duration": 38,
    "start_time": "2024-12-11T20:27:34.349Z"
   },
   {
    "duration": 147,
    "start_time": "2024-12-11T20:27:34.389Z"
   },
   {
    "duration": 43,
    "start_time": "2024-12-11T20:27:34.538Z"
   },
   {
    "duration": 96,
    "start_time": "2024-12-11T20:27:34.583Z"
   },
   {
    "duration": 13,
    "start_time": "2024-12-11T20:27:34.681Z"
   },
   {
    "duration": 13,
    "start_time": "2024-12-11T20:27:34.697Z"
   },
   {
    "duration": 2326,
    "start_time": "2024-12-11T20:27:34.712Z"
   },
   {
    "duration": 259,
    "start_time": "2024-12-11T20:27:37.040Z"
   },
   {
    "duration": 73,
    "start_time": "2024-12-11T20:27:37.300Z"
   },
   {
    "duration": 12,
    "start_time": "2024-12-11T20:27:37.375Z"
   },
   {
    "duration": 2456,
    "start_time": "2024-12-11T20:27:37.389Z"
   },
   {
    "duration": 60,
    "start_time": "2024-12-11T20:27:39.847Z"
   },
   {
    "duration": 242,
    "start_time": "2024-12-11T20:27:39.911Z"
   },
   {
    "duration": 19,
    "start_time": "2024-12-11T20:27:40.155Z"
   },
   {
    "duration": 2560,
    "start_time": "2024-12-11T20:27:40.175Z"
   },
   {
    "duration": 17,
    "start_time": "2024-12-11T20:27:42.737Z"
   },
   {
    "duration": 13,
    "start_time": "2024-12-11T20:27:42.757Z"
   },
   {
    "duration": 33,
    "start_time": "2024-12-11T20:27:42.773Z"
   },
   {
    "duration": 183,
    "start_time": "2024-12-11T20:27:42.832Z"
   },
   {
    "duration": 1365,
    "start_time": "2024-12-11T20:27:43.017Z"
   },
   {
    "duration": 313,
    "start_time": "2024-12-11T20:27:44.384Z"
   },
   {
    "duration": 59,
    "start_time": "2024-12-11T20:27:44.699Z"
   },
   {
    "duration": 112,
    "start_time": "2024-12-11T20:53:26.477Z"
   },
   {
    "duration": 131,
    "start_time": "2024-12-11T20:53:57.329Z"
   },
   {
    "duration": 251,
    "start_time": "2024-12-11T21:02:47.441Z"
   },
   {
    "duration": 65,
    "start_time": "2024-12-11T21:03:29.549Z"
   },
   {
    "duration": 47,
    "start_time": "2024-12-11T21:03:56.028Z"
   },
   {
    "duration": 264,
    "start_time": "2024-12-11T21:07:51.571Z"
   },
   {
    "duration": 313,
    "start_time": "2024-12-11T21:08:51.862Z"
   },
   {
    "duration": 311,
    "start_time": "2024-12-11T21:09:38.620Z"
   },
   {
    "duration": 313,
    "start_time": "2024-12-11T21:11:50.511Z"
   },
   {
    "duration": 118,
    "start_time": "2024-12-11T21:13:10.137Z"
   },
   {
    "duration": 552,
    "start_time": "2024-12-11T21:15:04.658Z"
   },
   {
    "duration": 806,
    "start_time": "2024-12-11T21:18:52.330Z"
   },
   {
    "duration": 410,
    "start_time": "2024-12-11T21:18:53.139Z"
   },
   {
    "duration": 97,
    "start_time": "2024-12-11T21:18:53.551Z"
   },
   {
    "duration": 99,
    "start_time": "2024-12-11T21:18:53.650Z"
   },
   {
    "duration": 57,
    "start_time": "2024-12-11T21:18:53.751Z"
   },
   {
    "duration": 4,
    "start_time": "2024-12-11T21:18:53.809Z"
   },
   {
    "duration": 496,
    "start_time": "2024-12-11T21:18:53.814Z"
   },
   {
    "duration": 4,
    "start_time": "2024-12-11T21:18:54.312Z"
   },
   {
    "duration": 23,
    "start_time": "2024-12-11T21:18:54.317Z"
   },
   {
    "duration": 42,
    "start_time": "2024-12-11T21:18:54.343Z"
   },
   {
    "duration": 6,
    "start_time": "2024-12-11T21:18:54.387Z"
   },
   {
    "duration": 49,
    "start_time": "2024-12-11T21:18:54.395Z"
   },
   {
    "duration": 6,
    "start_time": "2024-12-11T21:18:54.446Z"
   },
   {
    "duration": 9,
    "start_time": "2024-12-11T21:18:54.453Z"
   },
   {
    "duration": 38,
    "start_time": "2024-12-11T21:18:54.464Z"
   },
   {
    "duration": 145,
    "start_time": "2024-12-11T21:18:54.505Z"
   },
   {
    "duration": 37,
    "start_time": "2024-12-11T21:18:54.652Z"
   },
   {
    "duration": 96,
    "start_time": "2024-12-11T21:18:54.690Z"
   },
   {
    "duration": 12,
    "start_time": "2024-12-11T21:18:54.788Z"
   },
   {
    "duration": 13,
    "start_time": "2024-12-11T21:18:54.801Z"
   },
   {
    "duration": 2241,
    "start_time": "2024-12-11T21:18:54.816Z"
   },
   {
    "duration": 226,
    "start_time": "2024-12-11T21:18:57.059Z"
   },
   {
    "duration": 65,
    "start_time": "2024-12-11T21:18:57.286Z"
   },
   {
    "duration": 11,
    "start_time": "2024-12-11T21:18:57.352Z"
   },
   {
    "duration": 2385,
    "start_time": "2024-12-11T21:18:57.365Z"
   },
   {
    "duration": 56,
    "start_time": "2024-12-11T21:18:59.752Z"
   },
   {
    "duration": 249,
    "start_time": "2024-12-11T21:18:59.809Z"
   },
   {
    "duration": 13,
    "start_time": "2024-12-11T21:19:00.062Z"
   },
   {
    "duration": 2435,
    "start_time": "2024-12-11T21:19:00.076Z"
   },
   {
    "duration": 472,
    "start_time": "2024-12-11T21:19:02.513Z"
   },
   {
    "duration": 12,
    "start_time": "2024-12-11T21:19:02.987Z"
   },
   {
    "duration": 857,
    "start_time": "2024-12-11T21:19:03.000Z"
   },
   {
    "duration": 0,
    "start_time": "2024-12-11T21:19:03.858Z"
   },
   {
    "duration": 0,
    "start_time": "2024-12-11T21:19:03.860Z"
   },
   {
    "duration": 0,
    "start_time": "2024-12-11T21:19:03.861Z"
   },
   {
    "duration": 0,
    "start_time": "2024-12-11T21:19:03.862Z"
   },
   {
    "duration": 0,
    "start_time": "2024-12-11T21:19:03.862Z"
   },
   {
    "duration": 0,
    "start_time": "2024-12-11T21:19:03.864Z"
   },
   {
    "duration": 12,
    "start_time": "2024-12-11T21:20:11.255Z"
   },
   {
    "duration": 858,
    "start_time": "2024-12-11T21:20:48.665Z"
   },
   {
    "duration": 430,
    "start_time": "2024-12-11T21:20:49.525Z"
   },
   {
    "duration": 102,
    "start_time": "2024-12-11T21:20:49.957Z"
   },
   {
    "duration": 107,
    "start_time": "2024-12-11T21:20:50.061Z"
   },
   {
    "duration": 75,
    "start_time": "2024-12-11T21:20:50.170Z"
   },
   {
    "duration": 3,
    "start_time": "2024-12-11T21:20:50.247Z"
   },
   {
    "duration": 495,
    "start_time": "2024-12-11T21:20:50.253Z"
   },
   {
    "duration": 4,
    "start_time": "2024-12-11T21:20:50.750Z"
   },
   {
    "duration": 12,
    "start_time": "2024-12-11T21:20:50.755Z"
   },
   {
    "duration": 61,
    "start_time": "2024-12-11T21:20:50.770Z"
   },
   {
    "duration": 6,
    "start_time": "2024-12-11T21:20:50.833Z"
   },
   {
    "duration": 34,
    "start_time": "2024-12-11T21:20:50.840Z"
   },
   {
    "duration": 5,
    "start_time": "2024-12-11T21:20:50.876Z"
   },
   {
    "duration": 10,
    "start_time": "2024-12-11T21:20:50.882Z"
   },
   {
    "duration": 67,
    "start_time": "2024-12-11T21:20:50.893Z"
   },
   {
    "duration": 130,
    "start_time": "2024-12-11T21:20:50.961Z"
   },
   {
    "duration": 40,
    "start_time": "2024-12-11T21:20:51.093Z"
   },
   {
    "duration": 83,
    "start_time": "2024-12-11T21:20:51.135Z"
   },
   {
    "duration": 21,
    "start_time": "2024-12-11T21:20:51.219Z"
   },
   {
    "duration": 12,
    "start_time": "2024-12-11T21:20:51.242Z"
   },
   {
    "duration": 2285,
    "start_time": "2024-12-11T21:20:51.256Z"
   },
   {
    "duration": 225,
    "start_time": "2024-12-11T21:20:53.542Z"
   },
   {
    "duration": 70,
    "start_time": "2024-12-11T21:20:53.769Z"
   },
   {
    "duration": 10,
    "start_time": "2024-12-11T21:20:53.841Z"
   },
   {
    "duration": 2342,
    "start_time": "2024-12-11T21:20:53.853Z"
   },
   {
    "duration": 64,
    "start_time": "2024-12-11T21:20:56.197Z"
   },
   {
    "duration": 198,
    "start_time": "2024-12-11T21:20:56.263Z"
   },
   {
    "duration": 12,
    "start_time": "2024-12-11T21:20:56.465Z"
   },
   {
    "duration": 2467,
    "start_time": "2024-12-11T21:20:56.479Z"
   },
   {
    "duration": 431,
    "start_time": "2024-12-11T21:20:58.948Z"
   },
   {
    "duration": 12,
    "start_time": "2024-12-11T21:20:59.381Z"
   },
   {
    "duration": 682,
    "start_time": "2024-12-11T21:20:59.394Z"
   },
   {
    "duration": 13,
    "start_time": "2024-12-11T21:21:00.078Z"
   },
   {
    "duration": 38,
    "start_time": "2024-12-11T21:21:00.093Z"
   },
   {
    "duration": 155,
    "start_time": "2024-12-11T21:21:00.134Z"
   },
   {
    "duration": 1337,
    "start_time": "2024-12-11T21:21:00.291Z"
   },
   {
    "duration": 84,
    "start_time": "2024-12-11T21:21:01.631Z"
   },
   {
    "duration": 56,
    "start_time": "2024-12-11T21:21:01.717Z"
   },
   {
    "duration": 13,
    "start_time": "2024-12-11T21:21:59.527Z"
   },
   {
    "duration": 13,
    "start_time": "2024-12-11T21:22:09.413Z"
   },
   {
    "duration": 6,
    "start_time": "2024-12-11T21:28:54.040Z"
   },
   {
    "duration": 845,
    "start_time": "2024-12-11T21:37:25.072Z"
   },
   {
    "duration": 429,
    "start_time": "2024-12-11T21:37:25.919Z"
   },
   {
    "duration": 96,
    "start_time": "2024-12-11T21:37:26.350Z"
   },
   {
    "duration": 101,
    "start_time": "2024-12-11T21:37:26.448Z"
   },
   {
    "duration": 62,
    "start_time": "2024-12-11T21:37:26.551Z"
   },
   {
    "duration": 3,
    "start_time": "2024-12-11T21:37:26.615Z"
   },
   {
    "duration": 463,
    "start_time": "2024-12-11T21:37:26.631Z"
   },
   {
    "duration": 2,
    "start_time": "2024-12-11T21:37:27.098Z"
   },
   {
    "duration": 14,
    "start_time": "2024-12-11T21:37:27.102Z"
   },
   {
    "duration": 44,
    "start_time": "2024-12-11T21:37:27.133Z"
   },
   {
    "duration": 5,
    "start_time": "2024-12-11T21:37:27.179Z"
   },
   {
    "duration": 54,
    "start_time": "2024-12-11T21:37:27.186Z"
   },
   {
    "duration": 6,
    "start_time": "2024-12-11T21:37:27.241Z"
   },
   {
    "duration": 10,
    "start_time": "2024-12-11T21:37:27.249Z"
   },
   {
    "duration": 38,
    "start_time": "2024-12-11T21:37:27.261Z"
   },
   {
    "duration": 141,
    "start_time": "2024-12-11T21:37:27.301Z"
   },
   {
    "duration": 35,
    "start_time": "2024-12-11T21:37:27.443Z"
   },
   {
    "duration": 97,
    "start_time": "2024-12-11T21:37:27.480Z"
   },
   {
    "duration": 12,
    "start_time": "2024-12-11T21:37:27.578Z"
   },
   {
    "duration": 12,
    "start_time": "2024-12-11T21:37:27.592Z"
   },
   {
    "duration": 2369,
    "start_time": "2024-12-11T21:37:27.605Z"
   },
   {
    "duration": 208,
    "start_time": "2024-12-11T21:37:29.976Z"
   },
   {
    "duration": 74,
    "start_time": "2024-12-11T21:37:30.186Z"
   },
   {
    "duration": 10,
    "start_time": "2024-12-11T21:37:30.262Z"
   },
   {
    "duration": 2401,
    "start_time": "2024-12-11T21:37:30.274Z"
   },
   {
    "duration": 65,
    "start_time": "2024-12-11T21:37:32.677Z"
   },
   {
    "duration": 223,
    "start_time": "2024-12-11T21:37:32.745Z"
   },
   {
    "duration": 13,
    "start_time": "2024-12-11T21:37:32.972Z"
   },
   {
    "duration": 2635,
    "start_time": "2024-12-11T21:37:32.987Z"
   },
   {
    "duration": 20,
    "start_time": "2024-12-11T21:37:35.624Z"
   },
   {
    "duration": 26,
    "start_time": "2024-12-11T21:37:35.646Z"
   },
   {
    "duration": 12,
    "start_time": "2024-12-11T21:37:35.674Z"
   },
   {
    "duration": 431,
    "start_time": "2024-12-11T21:37:35.688Z"
   },
   {
    "duration": 673,
    "start_time": "2024-12-11T21:37:36.121Z"
   },
   {
    "duration": 160,
    "start_time": "2024-12-11T21:37:36.796Z"
   },
   {
    "duration": 1363,
    "start_time": "2024-12-11T21:37:36.958Z"
   },
   {
    "duration": 93,
    "start_time": "2024-12-11T21:37:38.323Z"
   },
   {
    "duration": 54,
    "start_time": "2024-12-11T21:37:38.418Z"
   },
   {
    "duration": 49,
    "start_time": "2024-12-11T21:39:37.292Z"
   },
   {
    "duration": 826,
    "start_time": "2024-12-11T21:39:54.988Z"
   },
   {
    "duration": 410,
    "start_time": "2024-12-11T21:39:55.816Z"
   },
   {
    "duration": 92,
    "start_time": "2024-12-11T21:39:56.230Z"
   },
   {
    "duration": 88,
    "start_time": "2024-12-11T21:39:56.331Z"
   },
   {
    "duration": 67,
    "start_time": "2024-12-11T21:39:56.422Z"
   },
   {
    "duration": 3,
    "start_time": "2024-12-11T21:39:56.491Z"
   },
   {
    "duration": 493,
    "start_time": "2024-12-11T21:39:56.495Z"
   },
   {
    "duration": 3,
    "start_time": "2024-12-11T21:39:56.990Z"
   },
   {
    "duration": 12,
    "start_time": "2024-12-11T21:39:56.995Z"
   },
   {
    "duration": 74,
    "start_time": "2024-12-11T21:39:57.009Z"
   },
   {
    "duration": 14,
    "start_time": "2024-12-11T21:39:57.085Z"
   },
   {
    "duration": 47,
    "start_time": "2024-12-11T21:39:57.101Z"
   },
   {
    "duration": 7,
    "start_time": "2024-12-11T21:39:57.149Z"
   },
   {
    "duration": 12,
    "start_time": "2024-12-11T21:39:57.160Z"
   },
   {
    "duration": 58,
    "start_time": "2024-12-11T21:39:57.174Z"
   },
   {
    "duration": 125,
    "start_time": "2024-12-11T21:39:57.234Z"
   },
   {
    "duration": 42,
    "start_time": "2024-12-11T21:39:57.361Z"
   },
   {
    "duration": 94,
    "start_time": "2024-12-11T21:39:57.405Z"
   },
   {
    "duration": 12,
    "start_time": "2024-12-11T21:39:57.501Z"
   },
   {
    "duration": 24,
    "start_time": "2024-12-11T21:39:57.514Z"
   },
   {
    "duration": 2286,
    "start_time": "2024-12-11T21:39:57.540Z"
   },
   {
    "duration": 245,
    "start_time": "2024-12-11T21:39:59.827Z"
   },
   {
    "duration": 68,
    "start_time": "2024-12-11T21:40:00.074Z"
   },
   {
    "duration": 6,
    "start_time": "2024-12-11T21:40:00.144Z"
   },
   {
    "duration": 2346,
    "start_time": "2024-12-11T21:40:00.152Z"
   },
   {
    "duration": 70,
    "start_time": "2024-12-11T21:40:02.501Z"
   },
   {
    "duration": 198,
    "start_time": "2024-12-11T21:40:02.572Z"
   },
   {
    "duration": 15,
    "start_time": "2024-12-11T21:40:02.772Z"
   },
   {
    "duration": 2456,
    "start_time": "2024-12-11T21:40:02.789Z"
   },
   {
    "duration": 13,
    "start_time": "2024-12-11T21:40:05.247Z"
   },
   {
    "duration": 29,
    "start_time": "2024-12-11T21:40:05.262Z"
   },
   {
    "duration": 12,
    "start_time": "2024-12-11T21:40:05.293Z"
   },
   {
    "duration": 418,
    "start_time": "2024-12-11T21:40:05.332Z"
   },
   {
    "duration": 664,
    "start_time": "2024-12-11T21:40:05.752Z"
   },
   {
    "duration": 162,
    "start_time": "2024-12-11T21:40:06.418Z"
   },
   {
    "duration": 1396,
    "start_time": "2024-12-11T21:40:06.581Z"
   },
   {
    "duration": 95,
    "start_time": "2024-12-11T21:40:07.979Z"
   },
   {
    "duration": 67,
    "start_time": "2024-12-11T21:40:08.076Z"
   },
   {
    "duration": 810,
    "start_time": "2024-12-11T21:43:05.217Z"
   },
   {
    "duration": 409,
    "start_time": "2024-12-11T21:43:06.030Z"
   },
   {
    "duration": 101,
    "start_time": "2024-12-11T21:43:06.441Z"
   },
   {
    "duration": 97,
    "start_time": "2024-12-11T21:43:06.545Z"
   },
   {
    "duration": 58,
    "start_time": "2024-12-11T21:43:06.644Z"
   },
   {
    "duration": 3,
    "start_time": "2024-12-11T21:43:06.704Z"
   },
   {
    "duration": 505,
    "start_time": "2024-12-11T21:43:06.709Z"
   },
   {
    "duration": 3,
    "start_time": "2024-12-11T21:43:07.216Z"
   },
   {
    "duration": 22,
    "start_time": "2024-12-11T21:43:07.221Z"
   },
   {
    "duration": 57,
    "start_time": "2024-12-11T21:43:07.246Z"
   },
   {
    "duration": 33,
    "start_time": "2024-12-11T21:43:07.305Z"
   },
   {
    "duration": 32,
    "start_time": "2024-12-11T21:43:07.339Z"
   },
   {
    "duration": 8,
    "start_time": "2024-12-11T21:43:07.373Z"
   },
   {
    "duration": 13,
    "start_time": "2024-12-11T21:43:07.383Z"
   },
   {
    "duration": 63,
    "start_time": "2024-12-11T21:43:07.398Z"
   },
   {
    "duration": 135,
    "start_time": "2024-12-11T21:43:07.463Z"
   },
   {
    "duration": 43,
    "start_time": "2024-12-11T21:43:07.599Z"
   },
   {
    "duration": 118,
    "start_time": "2024-12-11T21:43:07.644Z"
   },
   {
    "duration": 14,
    "start_time": "2024-12-11T21:43:07.763Z"
   },
   {
    "duration": 13,
    "start_time": "2024-12-11T21:43:07.779Z"
   },
   {
    "duration": 2637,
    "start_time": "2024-12-11T21:43:07.794Z"
   },
   {
    "duration": 238,
    "start_time": "2024-12-11T21:43:10.433Z"
   },
   {
    "duration": 82,
    "start_time": "2024-12-11T21:43:10.673Z"
   },
   {
    "duration": 7,
    "start_time": "2024-12-11T21:43:10.757Z"
   },
   {
    "duration": 2400,
    "start_time": "2024-12-11T21:43:10.766Z"
   },
   {
    "duration": 84,
    "start_time": "2024-12-11T21:43:13.168Z"
   },
   {
    "duration": 214,
    "start_time": "2024-12-11T21:43:13.254Z"
   },
   {
    "duration": 17,
    "start_time": "2024-12-11T21:43:13.472Z"
   },
   {
    "duration": 2831,
    "start_time": "2024-12-11T21:43:13.492Z"
   },
   {
    "duration": 18,
    "start_time": "2024-12-11T21:43:16.325Z"
   },
   {
    "duration": 28,
    "start_time": "2024-12-11T21:43:16.344Z"
   },
   {
    "duration": 14,
    "start_time": "2024-12-11T21:43:16.373Z"
   },
   {
    "duration": 491,
    "start_time": "2024-12-11T21:43:16.389Z"
   },
   {
    "duration": 1181,
    "start_time": "2024-12-11T21:43:16.882Z"
   },
   {
    "duration": 0,
    "start_time": "2024-12-11T21:43:18.065Z"
   },
   {
    "duration": 0,
    "start_time": "2024-12-11T21:43:18.066Z"
   },
   {
    "duration": 0,
    "start_time": "2024-12-11T21:43:18.067Z"
   },
   {
    "duration": 0,
    "start_time": "2024-12-11T21:43:18.068Z"
   },
   {
    "duration": 34,
    "start_time": "2024-12-11T21:43:39.529Z"
   },
   {
    "duration": 198,
    "start_time": "2024-12-11T21:52:14.388Z"
   },
   {
    "duration": 199,
    "start_time": "2024-12-11T21:52:24.703Z"
   },
   {
    "duration": 88,
    "start_time": "2024-12-11T21:52:35.397Z"
   },
   {
    "duration": 813,
    "start_time": "2024-12-11T21:53:44.520Z"
   },
   {
    "duration": 453,
    "start_time": "2024-12-11T21:53:45.336Z"
   },
   {
    "duration": 97,
    "start_time": "2024-12-11T21:53:45.793Z"
   },
   {
    "duration": 96,
    "start_time": "2024-12-11T21:53:45.892Z"
   },
   {
    "duration": 77,
    "start_time": "2024-12-11T21:53:45.991Z"
   },
   {
    "duration": 4,
    "start_time": "2024-12-11T21:53:46.070Z"
   },
   {
    "duration": 503,
    "start_time": "2024-12-11T21:53:46.076Z"
   },
   {
    "duration": 5,
    "start_time": "2024-12-11T21:53:46.581Z"
   },
   {
    "duration": 14,
    "start_time": "2024-12-11T21:53:46.588Z"
   },
   {
    "duration": 42,
    "start_time": "2024-12-11T21:53:46.604Z"
   },
   {
    "duration": 6,
    "start_time": "2024-12-11T21:53:46.648Z"
   },
   {
    "duration": 49,
    "start_time": "2024-12-11T21:53:46.657Z"
   },
   {
    "duration": 25,
    "start_time": "2024-12-11T21:53:46.707Z"
   },
   {
    "duration": 15,
    "start_time": "2024-12-11T21:53:46.737Z"
   },
   {
    "duration": 76,
    "start_time": "2024-12-11T21:53:46.755Z"
   },
   {
    "duration": 144,
    "start_time": "2024-12-11T21:53:46.834Z"
   },
   {
    "duration": 50,
    "start_time": "2024-12-11T21:53:46.981Z"
   },
   {
    "duration": 139,
    "start_time": "2024-12-11T21:53:47.033Z"
   },
   {
    "duration": 19,
    "start_time": "2024-12-11T21:53:47.174Z"
   },
   {
    "duration": 14,
    "start_time": "2024-12-11T21:53:47.195Z"
   },
   {
    "duration": 2759,
    "start_time": "2024-12-11T21:53:47.212Z"
   },
   {
    "duration": 223,
    "start_time": "2024-12-11T21:53:49.973Z"
   },
   {
    "duration": 62,
    "start_time": "2024-12-11T21:53:50.231Z"
   },
   {
    "duration": 9,
    "start_time": "2024-12-11T21:53:50.296Z"
   },
   {
    "duration": 2563,
    "start_time": "2024-12-11T21:53:50.306Z"
   },
   {
    "duration": 89,
    "start_time": "2024-12-11T21:53:52.872Z"
   },
   {
    "duration": 225,
    "start_time": "2024-12-11T21:53:52.963Z"
   },
   {
    "duration": 19,
    "start_time": "2024-12-11T21:53:53.190Z"
   },
   {
    "duration": 2776,
    "start_time": "2024-12-11T21:53:53.211Z"
   },
   {
    "duration": 13,
    "start_time": "2024-12-11T21:53:55.989Z"
   },
   {
    "duration": 44,
    "start_time": "2024-12-11T21:53:56.004Z"
   },
   {
    "duration": 13,
    "start_time": "2024-12-11T21:53:56.051Z"
   },
   {
    "duration": 100,
    "start_time": "2024-12-11T21:53:56.066Z"
   },
   {
    "duration": 491,
    "start_time": "2024-12-11T21:53:56.168Z"
   },
   {
    "duration": 1199,
    "start_time": "2024-12-11T21:53:56.661Z"
   },
   {
    "duration": 0,
    "start_time": "2024-12-11T21:53:57.862Z"
   },
   {
    "duration": 0,
    "start_time": "2024-12-11T21:53:57.864Z"
   },
   {
    "duration": 0,
    "start_time": "2024-12-11T21:53:57.864Z"
   },
   {
    "duration": 12,
    "start_time": "2024-12-11T21:54:25.507Z"
   },
   {
    "duration": 6,
    "start_time": "2024-12-11T21:55:27.120Z"
   },
   {
    "duration": 90,
    "start_time": "2024-12-11T21:55:30.830Z"
   },
   {
    "duration": 904,
    "start_time": "2024-12-11T21:55:41.546Z"
   },
   {
    "duration": 428,
    "start_time": "2024-12-11T21:55:42.453Z"
   },
   {
    "duration": 151,
    "start_time": "2024-12-11T21:55:42.883Z"
   },
   {
    "duration": 137,
    "start_time": "2024-12-11T21:55:43.036Z"
   },
   {
    "duration": 90,
    "start_time": "2024-12-11T21:55:43.175Z"
   },
   {
    "duration": 4,
    "start_time": "2024-12-11T21:55:43.267Z"
   },
   {
    "duration": 484,
    "start_time": "2024-12-11T21:55:43.274Z"
   },
   {
    "duration": 3,
    "start_time": "2024-12-11T21:55:43.760Z"
   },
   {
    "duration": 15,
    "start_time": "2024-12-11T21:55:43.765Z"
   },
   {
    "duration": 24,
    "start_time": "2024-12-11T21:55:43.783Z"
   },
   {
    "duration": 27,
    "start_time": "2024-12-11T21:55:43.809Z"
   },
   {
    "duration": 10,
    "start_time": "2024-12-11T21:55:43.839Z"
   },
   {
    "duration": 6,
    "start_time": "2024-12-11T21:55:43.851Z"
   },
   {
    "duration": 16,
    "start_time": "2024-12-11T21:55:43.859Z"
   },
   {
    "duration": 66,
    "start_time": "2024-12-11T21:55:43.877Z"
   },
   {
    "duration": 54,
    "start_time": "2024-12-11T21:55:43.945Z"
   },
   {
    "duration": 52,
    "start_time": "2024-12-11T21:55:44.005Z"
   },
   {
    "duration": 101,
    "start_time": "2024-12-11T21:55:44.060Z"
   },
   {
    "duration": 14,
    "start_time": "2024-12-11T21:55:44.163Z"
   },
   {
    "duration": 18,
    "start_time": "2024-12-11T21:55:44.181Z"
   },
   {
    "duration": 2641,
    "start_time": "2024-12-11T21:55:44.201Z"
   },
   {
    "duration": 229,
    "start_time": "2024-12-11T21:55:46.843Z"
   },
   {
    "duration": 86,
    "start_time": "2024-12-11T21:55:47.075Z"
   },
   {
    "duration": 9,
    "start_time": "2024-12-11T21:55:47.163Z"
   },
   {
    "duration": 2618,
    "start_time": "2024-12-11T21:55:47.174Z"
   },
   {
    "duration": 75,
    "start_time": "2024-12-11T21:55:49.797Z"
   },
   {
    "duration": 211,
    "start_time": "2024-12-11T21:55:49.874Z"
   },
   {
    "duration": 16,
    "start_time": "2024-12-11T21:55:50.090Z"
   },
   {
    "duration": 2826,
    "start_time": "2024-12-11T21:55:50.108Z"
   },
   {
    "duration": 14,
    "start_time": "2024-12-11T21:55:52.936Z"
   },
   {
    "duration": 29,
    "start_time": "2024-12-11T21:55:52.951Z"
   },
   {
    "duration": 13,
    "start_time": "2024-12-11T21:55:52.982Z"
   },
   {
    "duration": 116,
    "start_time": "2024-12-11T21:55:52.997Z"
   },
   {
    "duration": 484,
    "start_time": "2024-12-11T21:55:53.115Z"
   },
   {
    "duration": 577,
    "start_time": "2024-12-11T21:55:53.601Z"
   },
   {
    "duration": 0,
    "start_time": "2024-12-11T21:55:54.180Z"
   },
   {
    "duration": 0,
    "start_time": "2024-12-11T21:55:54.181Z"
   },
   {
    "duration": 0,
    "start_time": "2024-12-11T21:55:54.183Z"
   },
   {
    "duration": 72,
    "start_time": "2024-12-11T21:56:03.354Z"
   },
   {
    "duration": 842,
    "start_time": "2024-12-11T21:56:10.606Z"
   },
   {
    "duration": 424,
    "start_time": "2024-12-11T21:56:11.452Z"
   },
   {
    "duration": 118,
    "start_time": "2024-12-11T21:56:11.878Z"
   },
   {
    "duration": 93,
    "start_time": "2024-12-11T21:56:11.998Z"
   },
   {
    "duration": 77,
    "start_time": "2024-12-11T21:56:12.094Z"
   },
   {
    "duration": 7,
    "start_time": "2024-12-11T21:56:12.172Z"
   },
   {
    "duration": 517,
    "start_time": "2024-12-11T21:56:12.180Z"
   },
   {
    "duration": 3,
    "start_time": "2024-12-11T21:56:12.699Z"
   },
   {
    "duration": 27,
    "start_time": "2024-12-11T21:56:12.704Z"
   },
   {
    "duration": 24,
    "start_time": "2024-12-11T21:56:12.733Z"
   },
   {
    "duration": 8,
    "start_time": "2024-12-11T21:56:12.760Z"
   },
   {
    "duration": 12,
    "start_time": "2024-12-11T21:56:12.769Z"
   },
   {
    "duration": 7,
    "start_time": "2024-12-11T21:56:12.783Z"
   },
   {
    "duration": 43,
    "start_time": "2024-12-11T21:56:12.794Z"
   },
   {
    "duration": 42,
    "start_time": "2024-12-11T21:56:12.840Z"
   },
   {
    "duration": 61,
    "start_time": "2024-12-11T21:56:12.884Z"
   },
   {
    "duration": 62,
    "start_time": "2024-12-11T21:56:12.949Z"
   },
   {
    "duration": 101,
    "start_time": "2024-12-11T21:56:13.013Z"
   },
   {
    "duration": 18,
    "start_time": "2024-12-11T21:56:13.116Z"
   },
   {
    "duration": 18,
    "start_time": "2024-12-11T21:56:13.137Z"
   },
   {
    "duration": 2623,
    "start_time": "2024-12-11T21:56:13.157Z"
   },
   {
    "duration": 213,
    "start_time": "2024-12-11T21:56:15.782Z"
   },
   {
    "duration": 98,
    "start_time": "2024-12-11T21:56:15.997Z"
   },
   {
    "duration": 10,
    "start_time": "2024-12-11T21:56:16.097Z"
   },
   {
    "duration": 2663,
    "start_time": "2024-12-11T21:56:16.109Z"
   },
   {
    "duration": 76,
    "start_time": "2024-12-11T21:56:18.775Z"
   },
   {
    "duration": 215,
    "start_time": "2024-12-11T21:56:18.853Z"
   },
   {
    "duration": 20,
    "start_time": "2024-12-11T21:56:19.071Z"
   },
   {
    "duration": 2816,
    "start_time": "2024-12-11T21:56:19.092Z"
   },
   {
    "duration": 14,
    "start_time": "2024-12-11T21:56:21.910Z"
   },
   {
    "duration": 35,
    "start_time": "2024-12-11T21:56:21.932Z"
   },
   {
    "duration": 17,
    "start_time": "2024-12-11T21:56:21.969Z"
   },
   {
    "duration": 151,
    "start_time": "2024-12-11T21:56:21.988Z"
   },
   {
    "duration": 528,
    "start_time": "2024-12-11T21:56:22.141Z"
   },
   {
    "duration": 613,
    "start_time": "2024-12-11T21:56:22.670Z"
   },
   {
    "duration": 0,
    "start_time": "2024-12-11T21:56:23.285Z"
   },
   {
    "duration": 0,
    "start_time": "2024-12-11T21:56:23.286Z"
   },
   {
    "duration": 0,
    "start_time": "2024-12-11T21:56:23.287Z"
   },
   {
    "duration": 166,
    "start_time": "2024-12-11T21:59:16.635Z"
   },
   {
    "duration": 90,
    "start_time": "2024-12-11T22:00:09.303Z"
   },
   {
    "duration": 827,
    "start_time": "2024-12-11T22:00:34.001Z"
   },
   {
    "duration": 417,
    "start_time": "2024-12-11T22:00:34.829Z"
   },
   {
    "duration": 98,
    "start_time": "2024-12-11T22:00:35.248Z"
   },
   {
    "duration": 104,
    "start_time": "2024-12-11T22:00:35.349Z"
   },
   {
    "duration": 92,
    "start_time": "2024-12-11T22:00:35.456Z"
   },
   {
    "duration": 4,
    "start_time": "2024-12-11T22:00:35.550Z"
   },
   {
    "duration": 499,
    "start_time": "2024-12-11T22:00:35.556Z"
   },
   {
    "duration": 3,
    "start_time": "2024-12-11T22:00:36.057Z"
   },
   {
    "duration": 11,
    "start_time": "2024-12-11T22:00:36.061Z"
   },
   {
    "duration": 22,
    "start_time": "2024-12-11T22:00:36.077Z"
   },
   {
    "duration": 31,
    "start_time": "2024-12-11T22:00:36.101Z"
   },
   {
    "duration": 14,
    "start_time": "2024-12-11T22:00:36.134Z"
   },
   {
    "duration": 6,
    "start_time": "2024-12-11T22:00:36.149Z"
   },
   {
    "duration": 10,
    "start_time": "2024-12-11T22:00:36.157Z"
   },
   {
    "duration": 67,
    "start_time": "2024-12-11T22:00:36.168Z"
   },
   {
    "duration": 40,
    "start_time": "2024-12-11T22:00:36.237Z"
   },
   {
    "duration": 53,
    "start_time": "2024-12-11T22:00:36.279Z"
   },
   {
    "duration": 90,
    "start_time": "2024-12-11T22:00:36.334Z"
   },
   {
    "duration": 12,
    "start_time": "2024-12-11T22:00:36.432Z"
   },
   {
    "duration": 13,
    "start_time": "2024-12-11T22:00:36.446Z"
   },
   {
    "duration": 2576,
    "start_time": "2024-12-11T22:00:36.460Z"
   },
   {
    "duration": 224,
    "start_time": "2024-12-11T22:00:39.038Z"
   },
   {
    "duration": 72,
    "start_time": "2024-12-11T22:00:39.264Z"
   },
   {
    "duration": 9,
    "start_time": "2024-12-11T22:00:39.337Z"
   },
   {
    "duration": 2487,
    "start_time": "2024-12-11T22:00:39.348Z"
   },
   {
    "duration": 71,
    "start_time": "2024-12-11T22:00:41.837Z"
   },
   {
    "duration": 250,
    "start_time": "2024-12-11T22:00:41.910Z"
   },
   {
    "duration": 13,
    "start_time": "2024-12-11T22:00:42.163Z"
   },
   {
    "duration": 2721,
    "start_time": "2024-12-11T22:00:42.178Z"
   },
   {
    "duration": 12,
    "start_time": "2024-12-11T22:00:44.901Z"
   },
   {
    "duration": 34,
    "start_time": "2024-12-11T22:00:44.915Z"
   },
   {
    "duration": 12,
    "start_time": "2024-12-11T22:00:44.951Z"
   },
   {
    "duration": 108,
    "start_time": "2024-12-11T22:00:44.965Z"
   },
   {
    "duration": 435,
    "start_time": "2024-12-11T22:00:45.075Z"
   },
   {
    "duration": 546,
    "start_time": "2024-12-11T22:00:45.512Z"
   },
   {
    "duration": 0,
    "start_time": "2024-12-11T22:00:46.060Z"
   },
   {
    "duration": 0,
    "start_time": "2024-12-11T22:00:46.061Z"
   },
   {
    "duration": 0,
    "start_time": "2024-12-11T22:00:46.062Z"
   },
   {
    "duration": 3,
    "start_time": "2024-12-11T22:02:03.891Z"
   },
   {
    "duration": 6,
    "start_time": "2024-12-11T22:02:20.358Z"
   },
   {
    "duration": 5,
    "start_time": "2024-12-11T22:03:47.105Z"
   },
   {
    "duration": 5,
    "start_time": "2024-12-11T22:04:19.926Z"
   },
   {
    "duration": 17,
    "start_time": "2024-12-11T22:09:16.999Z"
   },
   {
    "duration": 857,
    "start_time": "2024-12-11T22:20:05.760Z"
   },
   {
    "duration": 413,
    "start_time": "2024-12-11T22:20:06.619Z"
   },
   {
    "duration": 98,
    "start_time": "2024-12-11T22:20:07.034Z"
   },
   {
    "duration": 87,
    "start_time": "2024-12-11T22:20:07.134Z"
   },
   {
    "duration": 58,
    "start_time": "2024-12-11T22:20:07.231Z"
   },
   {
    "duration": 3,
    "start_time": "2024-12-11T22:20:07.291Z"
   },
   {
    "duration": 500,
    "start_time": "2024-12-11T22:20:07.295Z"
   },
   {
    "duration": 3,
    "start_time": "2024-12-11T22:20:07.797Z"
   },
   {
    "duration": 12,
    "start_time": "2024-12-11T22:20:07.801Z"
   },
   {
    "duration": 24,
    "start_time": "2024-12-11T22:20:07.830Z"
   },
   {
    "duration": 6,
    "start_time": "2024-12-11T22:20:07.856Z"
   },
   {
    "duration": 10,
    "start_time": "2024-12-11T22:20:07.863Z"
   },
   {
    "duration": 6,
    "start_time": "2024-12-11T22:20:07.875Z"
   },
   {
    "duration": 68,
    "start_time": "2024-12-11T22:20:07.882Z"
   },
   {
    "duration": 30,
    "start_time": "2024-12-11T22:20:07.952Z"
   },
   {
    "duration": 174,
    "start_time": "2024-12-11T22:20:07.984Z"
   },
   {
    "duration": 48,
    "start_time": "2024-12-11T22:20:08.160Z"
   },
   {
    "duration": 710,
    "start_time": "2024-12-11T22:20:08.210Z"
   },
   {
    "duration": 14,
    "start_time": "2024-12-11T22:20:08.921Z"
   },
   {
    "duration": 14,
    "start_time": "2024-12-11T22:20:08.937Z"
   },
   {
    "duration": 2525,
    "start_time": "2024-12-11T22:20:08.952Z"
   },
   {
    "duration": 211,
    "start_time": "2024-12-11T22:20:11.478Z"
   },
   {
    "duration": 82,
    "start_time": "2024-12-11T22:20:11.692Z"
   },
   {
    "duration": 11,
    "start_time": "2024-12-11T22:20:11.776Z"
   },
   {
    "duration": 2399,
    "start_time": "2024-12-11T22:20:11.789Z"
   },
   {
    "duration": 64,
    "start_time": "2024-12-11T22:20:14.190Z"
   },
   {
    "duration": 211,
    "start_time": "2024-12-11T22:20:14.256Z"
   },
   {
    "duration": 33,
    "start_time": "2024-12-11T22:20:14.471Z"
   },
   {
    "duration": 28,
    "start_time": "2024-12-11T22:20:14.505Z"
   },
   {
    "duration": 2649,
    "start_time": "2024-12-11T22:20:14.535Z"
   },
   {
    "duration": 15,
    "start_time": "2024-12-11T22:20:17.186Z"
   },
   {
    "duration": 39,
    "start_time": "2024-12-11T22:20:17.203Z"
   },
   {
    "duration": 14,
    "start_time": "2024-12-11T22:20:17.244Z"
   },
   {
    "duration": 115,
    "start_time": "2024-12-11T22:20:17.260Z"
   },
   {
    "duration": 527,
    "start_time": "2024-12-11T22:20:17.377Z"
   },
   {
    "duration": 554,
    "start_time": "2024-12-11T22:20:17.906Z"
   },
   {
    "duration": 0,
    "start_time": "2024-12-11T22:20:18.463Z"
   },
   {
    "duration": 0,
    "start_time": "2024-12-11T22:20:18.464Z"
   },
   {
    "duration": 0,
    "start_time": "2024-12-11T22:20:18.466Z"
   },
   {
    "duration": 890,
    "start_time": "2024-12-11T22:28:10.137Z"
   },
   {
    "duration": 406,
    "start_time": "2024-12-11T22:28:11.031Z"
   },
   {
    "duration": 101,
    "start_time": "2024-12-11T22:28:11.440Z"
   },
   {
    "duration": 97,
    "start_time": "2024-12-11T22:28:11.544Z"
   },
   {
    "duration": 62,
    "start_time": "2024-12-11T22:28:11.643Z"
   },
   {
    "duration": 3,
    "start_time": "2024-12-11T22:28:11.707Z"
   },
   {
    "duration": 469,
    "start_time": "2024-12-11T22:28:11.732Z"
   },
   {
    "duration": 3,
    "start_time": "2024-12-11T22:28:12.203Z"
   },
   {
    "duration": 25,
    "start_time": "2024-12-11T22:28:12.208Z"
   },
   {
    "duration": 22,
    "start_time": "2024-12-11T22:28:12.236Z"
   },
   {
    "duration": 6,
    "start_time": "2024-12-11T22:28:12.260Z"
   },
   {
    "duration": 11,
    "start_time": "2024-12-11T22:28:12.267Z"
   },
   {
    "duration": 5,
    "start_time": "2024-12-11T22:28:12.280Z"
   },
   {
    "duration": 66,
    "start_time": "2024-12-11T22:28:12.286Z"
   },
   {
    "duration": 31,
    "start_time": "2024-12-11T22:28:12.354Z"
   },
   {
    "duration": 21,
    "start_time": "2024-12-11T22:28:12.387Z"
   },
   {
    "duration": 59,
    "start_time": "2024-12-11T22:28:12.409Z"
   },
   {
    "duration": 723,
    "start_time": "2024-12-11T22:28:12.470Z"
   },
   {
    "duration": 17,
    "start_time": "2024-12-11T22:28:13.196Z"
   },
   {
    "duration": 25,
    "start_time": "2024-12-11T22:28:13.215Z"
   },
   {
    "duration": 2499,
    "start_time": "2024-12-11T22:28:13.242Z"
   },
   {
    "duration": 232,
    "start_time": "2024-12-11T22:28:15.743Z"
   },
   {
    "duration": 67,
    "start_time": "2024-12-11T22:28:15.977Z"
   },
   {
    "duration": 9,
    "start_time": "2024-12-11T22:28:16.046Z"
   },
   {
    "duration": 2504,
    "start_time": "2024-12-11T22:28:16.057Z"
   },
   {
    "duration": 67,
    "start_time": "2024-12-11T22:28:18.564Z"
   },
   {
    "duration": 218,
    "start_time": "2024-12-11T22:28:18.634Z"
   },
   {
    "duration": 33,
    "start_time": "2024-12-11T22:28:18.857Z"
   },
   {
    "duration": 15,
    "start_time": "2024-12-11T22:28:18.891Z"
   },
   {
    "duration": 2718,
    "start_time": "2024-12-11T22:28:18.908Z"
   },
   {
    "duration": 14,
    "start_time": "2024-12-11T22:28:21.632Z"
   },
   {
    "duration": 27,
    "start_time": "2024-12-11T22:28:21.648Z"
   },
   {
    "duration": 15,
    "start_time": "2024-12-11T22:28:21.677Z"
   },
   {
    "duration": 110,
    "start_time": "2024-12-11T22:28:21.695Z"
   },
   {
    "duration": 525,
    "start_time": "2024-12-11T22:28:21.807Z"
   },
   {
    "duration": 534,
    "start_time": "2024-12-11T22:28:22.334Z"
   },
   {
    "duration": 0,
    "start_time": "2024-12-11T22:28:22.870Z"
   },
   {
    "duration": 0,
    "start_time": "2024-12-11T22:28:22.871Z"
   },
   {
    "duration": 0,
    "start_time": "2024-12-11T22:28:22.873Z"
   },
   {
    "duration": 11,
    "start_time": "2024-12-11T22:31:00.270Z"
   },
   {
    "duration": 23,
    "start_time": "2024-12-11T22:43:07.377Z"
   },
   {
    "duration": 16,
    "start_time": "2024-12-11T22:43:24.520Z"
   },
   {
    "duration": 10,
    "start_time": "2024-12-11T22:43:34.159Z"
   },
   {
    "duration": 884,
    "start_time": "2024-12-11T22:43:47.265Z"
   },
   {
    "duration": 428,
    "start_time": "2024-12-11T22:43:48.151Z"
   },
   {
    "duration": 105,
    "start_time": "2024-12-11T22:43:48.581Z"
   },
   {
    "duration": 95,
    "start_time": "2024-12-11T22:43:48.688Z"
   },
   {
    "duration": 70,
    "start_time": "2024-12-11T22:43:48.785Z"
   },
   {
    "duration": 3,
    "start_time": "2024-12-11T22:43:48.857Z"
   },
   {
    "duration": 539,
    "start_time": "2024-12-11T22:43:48.862Z"
   },
   {
    "duration": 3,
    "start_time": "2024-12-11T22:43:49.403Z"
   },
   {
    "duration": 25,
    "start_time": "2024-12-11T22:43:49.408Z"
   },
   {
    "duration": 22,
    "start_time": "2024-12-11T22:43:49.436Z"
   },
   {
    "duration": 7,
    "start_time": "2024-12-11T22:43:49.460Z"
   },
   {
    "duration": 9,
    "start_time": "2024-12-11T22:43:49.469Z"
   },
   {
    "duration": 5,
    "start_time": "2024-12-11T22:43:49.480Z"
   },
   {
    "duration": 71,
    "start_time": "2024-12-11T22:43:49.486Z"
   },
   {
    "duration": 31,
    "start_time": "2024-12-11T22:43:49.559Z"
   },
   {
    "duration": 102,
    "start_time": "2024-12-11T22:43:49.592Z"
   },
   {
    "duration": 56,
    "start_time": "2024-12-11T22:43:49.696Z"
   },
   {
    "duration": 718,
    "start_time": "2024-12-11T22:43:49.754Z"
   },
   {
    "duration": 15,
    "start_time": "2024-12-11T22:43:50.474Z"
   },
   {
    "duration": 45,
    "start_time": "2024-12-11T22:43:50.491Z"
   },
   {
    "duration": 14,
    "start_time": "2024-12-11T22:43:50.537Z"
   },
   {
    "duration": 14,
    "start_time": "2024-12-11T22:43:50.553Z"
   },
   {
    "duration": 2489,
    "start_time": "2024-12-11T22:43:50.568Z"
   },
   {
    "duration": 220,
    "start_time": "2024-12-11T22:43:53.059Z"
   },
   {
    "duration": 70,
    "start_time": "2024-12-11T22:43:53.281Z"
   },
   {
    "duration": 9,
    "start_time": "2024-12-11T22:43:53.353Z"
   },
   {
    "duration": 2475,
    "start_time": "2024-12-11T22:43:53.364Z"
   },
   {
    "duration": 56,
    "start_time": "2024-12-11T22:43:55.843Z"
   },
   {
    "duration": 243,
    "start_time": "2024-12-11T22:43:55.900Z"
   },
   {
    "duration": 34,
    "start_time": "2024-12-11T22:43:56.145Z"
   },
   {
    "duration": 3,
    "start_time": "2024-12-11T22:43:56.181Z"
   },
   {
    "duration": 0,
    "start_time": "2024-12-11T22:43:56.186Z"
   },
   {
    "duration": 0,
    "start_time": "2024-12-11T22:43:56.187Z"
   },
   {
    "duration": 0,
    "start_time": "2024-12-11T22:43:56.188Z"
   },
   {
    "duration": 0,
    "start_time": "2024-12-11T22:43:56.189Z"
   },
   {
    "duration": 0,
    "start_time": "2024-12-11T22:43:56.191Z"
   },
   {
    "duration": 0,
    "start_time": "2024-12-11T22:43:56.192Z"
   },
   {
    "duration": 0,
    "start_time": "2024-12-11T22:43:56.192Z"
   },
   {
    "duration": 0,
    "start_time": "2024-12-11T22:43:56.194Z"
   },
   {
    "duration": 0,
    "start_time": "2024-12-11T22:43:56.195Z"
   },
   {
    "duration": 0,
    "start_time": "2024-12-11T22:43:56.196Z"
   },
   {
    "duration": 0,
    "start_time": "2024-12-11T22:43:56.197Z"
   },
   {
    "duration": 279,
    "start_time": "2024-12-11T22:44:21.261Z"
   },
   {
    "duration": 10,
    "start_time": "2024-12-11T22:44:30.139Z"
   },
   {
    "duration": 15,
    "start_time": "2024-12-11T22:44:33.573Z"
   },
   {
    "duration": 811,
    "start_time": "2024-12-11T22:44:51.413Z"
   },
   {
    "duration": 419,
    "start_time": "2024-12-11T22:44:52.226Z"
   },
   {
    "duration": 97,
    "start_time": "2024-12-11T22:44:52.647Z"
   },
   {
    "duration": 96,
    "start_time": "2024-12-11T22:44:52.746Z"
   },
   {
    "duration": 59,
    "start_time": "2024-12-11T22:44:52.844Z"
   },
   {
    "duration": 3,
    "start_time": "2024-12-11T22:44:52.905Z"
   },
   {
    "duration": 497,
    "start_time": "2024-12-11T22:44:52.909Z"
   },
   {
    "duration": 4,
    "start_time": "2024-12-11T22:44:53.407Z"
   },
   {
    "duration": 24,
    "start_time": "2024-12-11T22:44:53.413Z"
   },
   {
    "duration": 23,
    "start_time": "2024-12-11T22:44:53.440Z"
   },
   {
    "duration": 7,
    "start_time": "2024-12-11T22:44:53.465Z"
   },
   {
    "duration": 10,
    "start_time": "2024-12-11T22:44:53.473Z"
   },
   {
    "duration": 6,
    "start_time": "2024-12-11T22:44:53.486Z"
   },
   {
    "duration": 66,
    "start_time": "2024-12-11T22:44:53.494Z"
   },
   {
    "duration": 32,
    "start_time": "2024-12-11T22:44:53.561Z"
   },
   {
    "duration": 66,
    "start_time": "2024-12-11T22:44:53.595Z"
   },
   {
    "duration": 49,
    "start_time": "2024-12-11T22:44:53.663Z"
   },
   {
    "duration": 694,
    "start_time": "2024-12-11T22:44:53.713Z"
   },
   {
    "duration": 15,
    "start_time": "2024-12-11T22:44:54.408Z"
   },
   {
    "duration": 37,
    "start_time": "2024-12-11T22:44:54.432Z"
   },
   {
    "duration": 14,
    "start_time": "2024-12-11T22:44:54.471Z"
   },
   {
    "duration": 13,
    "start_time": "2024-12-11T22:44:54.487Z"
   },
   {
    "duration": 2654,
    "start_time": "2024-12-11T22:44:54.502Z"
   },
   {
    "duration": 219,
    "start_time": "2024-12-11T22:44:57.158Z"
   },
   {
    "duration": 70,
    "start_time": "2024-12-11T22:44:57.379Z"
   },
   {
    "duration": 10,
    "start_time": "2024-12-11T22:44:57.451Z"
   },
   {
    "duration": 2458,
    "start_time": "2024-12-11T22:44:57.463Z"
   },
   {
    "duration": 57,
    "start_time": "2024-12-11T22:44:59.930Z"
   },
   {
    "duration": 193,
    "start_time": "2024-12-11T22:44:59.989Z"
   },
   {
    "duration": 70,
    "start_time": "2024-12-11T22:45:00.184Z"
   },
   {
    "duration": 3,
    "start_time": "2024-12-11T22:45:00.256Z"
   },
   {
    "duration": 0,
    "start_time": "2024-12-11T22:45:00.260Z"
   },
   {
    "duration": 0,
    "start_time": "2024-12-11T22:45:00.261Z"
   },
   {
    "duration": 0,
    "start_time": "2024-12-11T22:45:00.262Z"
   },
   {
    "duration": 0,
    "start_time": "2024-12-11T22:45:00.263Z"
   },
   {
    "duration": 0,
    "start_time": "2024-12-11T22:45:00.264Z"
   },
   {
    "duration": 0,
    "start_time": "2024-12-11T22:45:00.265Z"
   },
   {
    "duration": 0,
    "start_time": "2024-12-11T22:45:00.266Z"
   },
   {
    "duration": 0,
    "start_time": "2024-12-11T22:45:00.267Z"
   },
   {
    "duration": 0,
    "start_time": "2024-12-11T22:45:00.268Z"
   },
   {
    "duration": 0,
    "start_time": "2024-12-11T22:45:00.269Z"
   },
   {
    "duration": 0,
    "start_time": "2024-12-11T22:45:00.270Z"
   },
   {
    "duration": 20,
    "start_time": "2024-12-11T22:46:10.247Z"
   },
   {
    "duration": 16,
    "start_time": "2024-12-11T22:46:12.154Z"
   },
   {
    "duration": 14,
    "start_time": "2024-12-11T22:46:23.080Z"
   },
   {
    "duration": 2618,
    "start_time": "2024-12-11T22:46:33.824Z"
   },
   {
    "duration": 20,
    "start_time": "2024-12-11T22:47:13.116Z"
   },
   {
    "duration": 15,
    "start_time": "2024-12-11T22:47:20.326Z"
   },
   {
    "duration": 2481,
    "start_time": "2024-12-11T22:47:26.144Z"
   },
   {
    "duration": 269,
    "start_time": "2024-12-11T22:49:44.031Z"
   },
   {
    "duration": 24,
    "start_time": "2024-12-11T22:49:56.605Z"
   },
   {
    "duration": 11,
    "start_time": "2024-12-11T22:49:59.162Z"
   },
   {
    "duration": 11,
    "start_time": "2024-12-11T22:50:21.318Z"
   },
   {
    "duration": 20,
    "start_time": "2024-12-11T22:50:27.750Z"
   },
   {
    "duration": 11,
    "start_time": "2024-12-11T22:50:29.913Z"
   },
   {
    "duration": 11,
    "start_time": "2024-12-11T22:50:53.876Z"
   },
   {
    "duration": 10,
    "start_time": "2024-12-11T22:50:55.627Z"
   },
   {
    "duration": 13,
    "start_time": "2024-12-11T22:51:32.789Z"
   },
   {
    "duration": 11,
    "start_time": "2024-12-11T22:51:35.084Z"
   },
   {
    "duration": 13,
    "start_time": "2024-12-11T22:51:51.611Z"
   },
   {
    "duration": 2623,
    "start_time": "2024-12-11T22:52:00.656Z"
   },
   {
    "duration": 885,
    "start_time": "2024-12-11T22:52:21.638Z"
   },
   {
    "duration": 410,
    "start_time": "2024-12-11T22:52:22.524Z"
   },
   {
    "duration": 99,
    "start_time": "2024-12-11T22:52:22.936Z"
   },
   {
    "duration": 94,
    "start_time": "2024-12-11T22:52:23.038Z"
   },
   {
    "duration": 63,
    "start_time": "2024-12-11T22:52:23.135Z"
   },
   {
    "duration": 5,
    "start_time": "2024-12-11T22:52:23.201Z"
   },
   {
    "duration": 489,
    "start_time": "2024-12-11T22:52:23.209Z"
   },
   {
    "duration": 2,
    "start_time": "2024-12-11T22:52:23.700Z"
   },
   {
    "duration": 27,
    "start_time": "2024-12-11T22:52:23.704Z"
   },
   {
    "duration": 22,
    "start_time": "2024-12-11T22:52:23.734Z"
   },
   {
    "duration": 6,
    "start_time": "2024-12-11T22:52:23.758Z"
   },
   {
    "duration": 12,
    "start_time": "2024-12-11T22:52:23.766Z"
   },
   {
    "duration": 6,
    "start_time": "2024-12-11T22:52:23.780Z"
   },
   {
    "duration": 69,
    "start_time": "2024-12-11T22:52:23.788Z"
   },
   {
    "duration": 29,
    "start_time": "2024-12-11T22:52:23.859Z"
   },
   {
    "duration": 136,
    "start_time": "2024-12-11T22:52:23.890Z"
   },
   {
    "duration": 49,
    "start_time": "2024-12-11T22:52:24.027Z"
   },
   {
    "duration": 690,
    "start_time": "2024-12-11T22:52:24.078Z"
   },
   {
    "duration": 15,
    "start_time": "2024-12-11T22:52:24.770Z"
   },
   {
    "duration": 50,
    "start_time": "2024-12-11T22:52:24.787Z"
   },
   {
    "duration": 23,
    "start_time": "2024-12-11T22:52:24.839Z"
   },
   {
    "duration": 14,
    "start_time": "2024-12-11T22:52:24.864Z"
   },
   {
    "duration": 2546,
    "start_time": "2024-12-11T22:52:24.879Z"
   },
   {
    "duration": 249,
    "start_time": "2024-12-11T22:52:27.431Z"
   },
   {
    "duration": 68,
    "start_time": "2024-12-11T22:52:27.682Z"
   },
   {
    "duration": 9,
    "start_time": "2024-12-11T22:52:27.752Z"
   },
   {
    "duration": 2804,
    "start_time": "2024-12-11T22:52:27.763Z"
   },
   {
    "duration": 62,
    "start_time": "2024-12-11T22:52:30.570Z"
   },
   {
    "duration": 229,
    "start_time": "2024-12-11T22:52:30.634Z"
   },
   {
    "duration": 34,
    "start_time": "2024-12-11T22:52:30.865Z"
   },
   {
    "duration": 64,
    "start_time": "2024-12-11T22:52:30.901Z"
   },
   {
    "duration": 15,
    "start_time": "2024-12-11T22:52:30.967Z"
   },
   {
    "duration": 2768,
    "start_time": "2024-12-11T22:52:30.984Z"
   },
   {
    "duration": 14,
    "start_time": "2024-12-11T22:52:33.754Z"
   },
   {
    "duration": 28,
    "start_time": "2024-12-11T22:52:33.770Z"
   },
   {
    "duration": 35,
    "start_time": "2024-12-11T22:52:33.800Z"
   },
   {
    "duration": 101,
    "start_time": "2024-12-11T22:52:33.836Z"
   },
   {
    "duration": 453,
    "start_time": "2024-12-11T22:52:33.939Z"
   },
   {
    "duration": 560,
    "start_time": "2024-12-11T22:52:34.393Z"
   },
   {
    "duration": 0,
    "start_time": "2024-12-11T22:52:34.955Z"
   },
   {
    "duration": 0,
    "start_time": "2024-12-11T22:52:34.956Z"
   },
   {
    "duration": 0,
    "start_time": "2024-12-11T22:52:34.958Z"
   },
   {
    "duration": 13,
    "start_time": "2024-12-11T22:54:21.851Z"
   },
   {
    "duration": 66,
    "start_time": "2024-12-11T22:54:32.178Z"
   },
   {
    "duration": 5,
    "start_time": "2024-12-11T22:54:49.588Z"
   },
   {
    "duration": 28,
    "start_time": "2024-12-11T22:54:54.252Z"
   },
   {
    "duration": 17,
    "start_time": "2024-12-11T22:55:05.643Z"
   },
   {
    "duration": 2878,
    "start_time": "2024-12-11T22:56:04.343Z"
   },
   {
    "duration": 857,
    "start_time": "2024-12-11T22:56:15.168Z"
   },
   {
    "duration": 422,
    "start_time": "2024-12-11T22:56:16.028Z"
   },
   {
    "duration": 95,
    "start_time": "2024-12-11T22:56:16.452Z"
   },
   {
    "duration": 95,
    "start_time": "2024-12-11T22:56:16.549Z"
   },
   {
    "duration": 68,
    "start_time": "2024-12-11T22:56:16.646Z"
   },
   {
    "duration": 3,
    "start_time": "2024-12-11T22:56:16.732Z"
   },
   {
    "duration": 478,
    "start_time": "2024-12-11T22:56:16.737Z"
   },
   {
    "duration": 3,
    "start_time": "2024-12-11T22:56:17.217Z"
   },
   {
    "duration": 21,
    "start_time": "2024-12-11T22:56:17.221Z"
   },
   {
    "duration": 22,
    "start_time": "2024-12-11T22:56:17.246Z"
   },
   {
    "duration": 7,
    "start_time": "2024-12-11T22:56:17.270Z"
   },
   {
    "duration": 9,
    "start_time": "2024-12-11T22:56:17.279Z"
   },
   {
    "duration": 5,
    "start_time": "2024-12-11T22:56:17.290Z"
   },
   {
    "duration": 38,
    "start_time": "2024-12-11T22:56:17.331Z"
   },
   {
    "duration": 33,
    "start_time": "2024-12-11T22:56:17.371Z"
   },
   {
    "duration": 36,
    "start_time": "2024-12-11T22:56:17.406Z"
   },
   {
    "duration": 47,
    "start_time": "2024-12-11T22:56:17.444Z"
   },
   {
    "duration": 728,
    "start_time": "2024-12-11T22:56:17.493Z"
   },
   {
    "duration": 16,
    "start_time": "2024-12-11T22:56:18.223Z"
   },
   {
    "duration": 39,
    "start_time": "2024-12-11T22:56:18.242Z"
   },
   {
    "duration": 24,
    "start_time": "2024-12-11T22:56:18.282Z"
   },
   {
    "duration": 32,
    "start_time": "2024-12-11T22:56:18.307Z"
   },
   {
    "duration": 2525,
    "start_time": "2024-12-11T22:56:18.342Z"
   },
   {
    "duration": 209,
    "start_time": "2024-12-11T22:56:20.869Z"
   },
   {
    "duration": 67,
    "start_time": "2024-12-11T22:56:21.080Z"
   },
   {
    "duration": 10,
    "start_time": "2024-12-11T22:56:21.148Z"
   },
   {
    "duration": 2892,
    "start_time": "2024-12-11T22:56:21.160Z"
   },
   {
    "duration": 54,
    "start_time": "2024-12-11T22:56:24.057Z"
   },
   {
    "duration": 250,
    "start_time": "2024-12-11T22:56:24.113Z"
   },
   {
    "duration": 34,
    "start_time": "2024-12-11T22:56:24.365Z"
   },
   {
    "duration": 80,
    "start_time": "2024-12-11T22:56:24.401Z"
   },
   {
    "duration": 14,
    "start_time": "2024-12-11T22:56:24.482Z"
   },
   {
    "duration": 2976,
    "start_time": "2024-12-11T22:56:24.498Z"
   },
   {
    "duration": 14,
    "start_time": "2024-12-11T22:56:27.476Z"
   },
   {
    "duration": 42,
    "start_time": "2024-12-11T22:56:27.492Z"
   },
   {
    "duration": 18,
    "start_time": "2024-12-11T22:56:27.536Z"
   },
   {
    "duration": 116,
    "start_time": "2024-12-11T22:56:27.556Z"
   },
   {
    "duration": 463,
    "start_time": "2024-12-11T22:56:27.674Z"
   },
   {
    "duration": 561,
    "start_time": "2024-12-11T22:56:28.139Z"
   },
   {
    "duration": 0,
    "start_time": "2024-12-11T22:56:28.702Z"
   },
   {
    "duration": 0,
    "start_time": "2024-12-11T22:56:28.703Z"
   },
   {
    "duration": 0,
    "start_time": "2024-12-11T22:56:28.704Z"
   },
   {
    "duration": 728,
    "start_time": "2024-12-11T22:56:47.267Z"
   },
   {
    "duration": 2920,
    "start_time": "2024-12-11T22:59:34.507Z"
   },
   {
    "duration": 2919,
    "start_time": "2024-12-11T23:01:12.645Z"
   },
   {
    "duration": 905,
    "start_time": "2024-12-11T23:03:25.718Z"
   },
   {
    "duration": 449,
    "start_time": "2024-12-11T23:03:26.626Z"
   },
   {
    "duration": 127,
    "start_time": "2024-12-11T23:03:27.077Z"
   },
   {
    "duration": 119,
    "start_time": "2024-12-11T23:03:27.207Z"
   },
   {
    "duration": 65,
    "start_time": "2024-12-11T23:03:27.332Z"
   },
   {
    "duration": 3,
    "start_time": "2024-12-11T23:03:27.398Z"
   },
   {
    "duration": 581,
    "start_time": "2024-12-11T23:03:27.403Z"
   },
   {
    "duration": 3,
    "start_time": "2024-12-11T23:03:27.986Z"
   },
   {
    "duration": 14,
    "start_time": "2024-12-11T23:03:27.990Z"
   },
   {
    "duration": 45,
    "start_time": "2024-12-11T23:03:28.006Z"
   },
   {
    "duration": 7,
    "start_time": "2024-12-11T23:03:28.053Z"
   },
   {
    "duration": 15,
    "start_time": "2024-12-11T23:03:28.062Z"
   },
   {
    "duration": 11,
    "start_time": "2024-12-11T23:03:28.081Z"
   },
   {
    "duration": 67,
    "start_time": "2024-12-11T23:03:28.096Z"
   },
   {
    "duration": 34,
    "start_time": "2024-12-11T23:03:28.165Z"
   },
   {
    "duration": 39,
    "start_time": "2024-12-11T23:03:28.201Z"
   },
   {
    "duration": 50,
    "start_time": "2024-12-11T23:03:28.242Z"
   },
   {
    "duration": 731,
    "start_time": "2024-12-11T23:03:28.294Z"
   },
   {
    "duration": 14,
    "start_time": "2024-12-11T23:03:29.028Z"
   },
   {
    "duration": 38,
    "start_time": "2024-12-11T23:03:29.045Z"
   },
   {
    "duration": 24,
    "start_time": "2024-12-11T23:03:29.085Z"
   },
   {
    "duration": 19,
    "start_time": "2024-12-11T23:03:29.132Z"
   },
   {
    "duration": 2603,
    "start_time": "2024-12-11T23:03:29.154Z"
   },
   {
    "duration": 224,
    "start_time": "2024-12-11T23:03:31.759Z"
   },
   {
    "duration": 65,
    "start_time": "2024-12-11T23:03:31.985Z"
   },
   {
    "duration": 10,
    "start_time": "2024-12-11T23:03:32.051Z"
   },
   {
    "duration": 2925,
    "start_time": "2024-12-11T23:03:32.063Z"
   },
   {
    "duration": 62,
    "start_time": "2024-12-11T23:03:34.989Z"
   },
   {
    "duration": 209,
    "start_time": "2024-12-11T23:03:35.053Z"
   },
   {
    "duration": 33,
    "start_time": "2024-12-11T23:03:35.264Z"
   },
   {
    "duration": 87,
    "start_time": "2024-12-11T23:03:35.298Z"
   },
   {
    "duration": 13,
    "start_time": "2024-12-11T23:03:35.387Z"
   },
   {
    "duration": 3012,
    "start_time": "2024-12-11T23:03:35.402Z"
   },
   {
    "duration": 18,
    "start_time": "2024-12-11T23:03:38.416Z"
   },
   {
    "duration": 29,
    "start_time": "2024-12-11T23:03:38.436Z"
   },
   {
    "duration": 14,
    "start_time": "2024-12-11T23:03:38.467Z"
   },
   {
    "duration": 110,
    "start_time": "2024-12-11T23:03:38.483Z"
   },
   {
    "duration": 450,
    "start_time": "2024-12-11T23:03:38.595Z"
   },
   {
    "duration": 544,
    "start_time": "2024-12-11T23:03:39.047Z"
   },
   {
    "duration": 0,
    "start_time": "2024-12-11T23:03:39.594Z"
   },
   {
    "duration": 0,
    "start_time": "2024-12-11T23:03:39.595Z"
   },
   {
    "duration": 0,
    "start_time": "2024-12-11T23:03:39.596Z"
   },
   {
    "duration": 117,
    "start_time": "2024-12-11T23:05:28.152Z"
   },
   {
    "duration": 128,
    "start_time": "2024-12-11T23:07:35.982Z"
   },
   {
    "duration": 122,
    "start_time": "2024-12-11T23:07:42.778Z"
   },
   {
    "duration": 842,
    "start_time": "2024-12-11T23:09:46.176Z"
   },
   {
    "duration": 416,
    "start_time": "2024-12-11T23:09:47.020Z"
   },
   {
    "duration": 99,
    "start_time": "2024-12-11T23:09:47.438Z"
   },
   {
    "duration": 95,
    "start_time": "2024-12-11T23:09:47.540Z"
   },
   {
    "duration": 75,
    "start_time": "2024-12-11T23:09:47.639Z"
   },
   {
    "duration": 15,
    "start_time": "2024-12-11T23:09:47.716Z"
   },
   {
    "duration": 517,
    "start_time": "2024-12-11T23:09:47.733Z"
   },
   {
    "duration": 3,
    "start_time": "2024-12-11T23:09:48.253Z"
   },
   {
    "duration": 13,
    "start_time": "2024-12-11T23:09:48.258Z"
   },
   {
    "duration": 22,
    "start_time": "2024-12-11T23:09:48.275Z"
   },
   {
    "duration": 6,
    "start_time": "2024-12-11T23:09:48.300Z"
   },
   {
    "duration": 32,
    "start_time": "2024-12-11T23:09:48.307Z"
   },
   {
    "duration": 5,
    "start_time": "2024-12-11T23:09:48.342Z"
   },
   {
    "duration": 40,
    "start_time": "2024-12-11T23:09:48.349Z"
   },
   {
    "duration": 51,
    "start_time": "2024-12-11T23:09:48.391Z"
   },
   {
    "duration": 58,
    "start_time": "2024-12-11T23:09:48.444Z"
   },
   {
    "duration": 61,
    "start_time": "2024-12-11T23:09:48.504Z"
   },
   {
    "duration": 701,
    "start_time": "2024-12-11T23:09:48.567Z"
   },
   {
    "duration": 14,
    "start_time": "2024-12-11T23:09:49.270Z"
   },
   {
    "duration": 48,
    "start_time": "2024-12-11T23:09:49.285Z"
   },
   {
    "duration": 24,
    "start_time": "2024-12-11T23:09:49.335Z"
   },
   {
    "duration": 14,
    "start_time": "2024-12-11T23:09:49.360Z"
   },
   {
    "duration": 2445,
    "start_time": "2024-12-11T23:09:49.376Z"
   },
   {
    "duration": 242,
    "start_time": "2024-12-11T23:09:51.822Z"
   },
   {
    "duration": 66,
    "start_time": "2024-12-11T23:09:52.066Z"
   },
   {
    "duration": 9,
    "start_time": "2024-12-11T23:09:52.134Z"
   },
   {
    "duration": 2787,
    "start_time": "2024-12-11T23:09:52.145Z"
   },
   {
    "duration": 55,
    "start_time": "2024-12-11T23:09:54.936Z"
   },
   {
    "duration": 240,
    "start_time": "2024-12-11T23:09:54.993Z"
   },
   {
    "duration": 33,
    "start_time": "2024-12-11T23:09:55.235Z"
   },
   {
    "duration": 81,
    "start_time": "2024-12-11T23:09:55.271Z"
   },
   {
    "duration": 13,
    "start_time": "2024-12-11T23:09:55.354Z"
   },
   {
    "duration": 2974,
    "start_time": "2024-12-11T23:09:55.369Z"
   },
   {
    "duration": 20,
    "start_time": "2024-12-11T23:09:58.345Z"
   },
   {
    "duration": 32,
    "start_time": "2024-12-11T23:09:58.367Z"
   },
   {
    "duration": 43,
    "start_time": "2024-12-11T23:09:58.401Z"
   },
   {
    "duration": 66,
    "start_time": "2024-12-11T23:09:58.446Z"
   },
   {
    "duration": 455,
    "start_time": "2024-12-11T23:09:58.514Z"
   },
   {
    "duration": 552,
    "start_time": "2024-12-11T23:09:58.970Z"
   },
   {
    "duration": 0,
    "start_time": "2024-12-11T23:09:59.530Z"
   },
   {
    "duration": 0,
    "start_time": "2024-12-11T23:09:59.532Z"
   },
   {
    "duration": 0,
    "start_time": "2024-12-11T23:09:59.533Z"
   },
   {
    "duration": 27,
    "start_time": "2024-12-11T23:14:24.931Z"
   },
   {
    "duration": 17,
    "start_time": "2024-12-11T23:14:28.077Z"
   },
   {
    "duration": 11,
    "start_time": "2024-12-11T23:15:14.600Z"
   },
   {
    "duration": 830,
    "start_time": "2024-12-11T23:15:24.807Z"
   },
   {
    "duration": 418,
    "start_time": "2024-12-11T23:15:25.639Z"
   },
   {
    "duration": 98,
    "start_time": "2024-12-11T23:15:26.060Z"
   },
   {
    "duration": 92,
    "start_time": "2024-12-11T23:15:26.159Z"
   },
   {
    "duration": 59,
    "start_time": "2024-12-11T23:15:26.254Z"
   },
   {
    "duration": 16,
    "start_time": "2024-12-11T23:15:26.315Z"
   },
   {
    "duration": 478,
    "start_time": "2024-12-11T23:15:26.333Z"
   },
   {
    "duration": 3,
    "start_time": "2024-12-11T23:15:26.812Z"
   },
   {
    "duration": 20,
    "start_time": "2024-12-11T23:15:26.817Z"
   },
   {
    "duration": 24,
    "start_time": "2024-12-11T23:15:26.838Z"
   },
   {
    "duration": 5,
    "start_time": "2024-12-11T23:15:26.864Z"
   },
   {
    "duration": 10,
    "start_time": "2024-12-11T23:15:26.871Z"
   },
   {
    "duration": 5,
    "start_time": "2024-12-11T23:15:26.883Z"
   },
   {
    "duration": 71,
    "start_time": "2024-12-11T23:15:26.891Z"
   },
   {
    "duration": 35,
    "start_time": "2024-12-11T23:15:26.964Z"
   },
   {
    "duration": 105,
    "start_time": "2024-12-11T23:15:27.001Z"
   },
   {
    "duration": 51,
    "start_time": "2024-12-11T23:15:27.107Z"
   },
   {
    "duration": 692,
    "start_time": "2024-12-11T23:15:27.160Z"
   },
   {
    "duration": 14,
    "start_time": "2024-12-11T23:15:27.854Z"
   },
   {
    "duration": 38,
    "start_time": "2024-12-11T23:15:27.870Z"
   },
   {
    "duration": 37,
    "start_time": "2024-12-11T23:15:27.910Z"
   },
   {
    "duration": 14,
    "start_time": "2024-12-11T23:15:27.949Z"
   },
   {
    "duration": 2682,
    "start_time": "2024-12-11T23:15:27.965Z"
   },
   {
    "duration": 224,
    "start_time": "2024-12-11T23:15:30.649Z"
   },
   {
    "duration": 69,
    "start_time": "2024-12-11T23:15:30.875Z"
   },
   {
    "duration": 10,
    "start_time": "2024-12-11T23:15:30.946Z"
   },
   {
    "duration": 2473,
    "start_time": "2024-12-11T23:15:30.958Z"
   },
   {
    "duration": 62,
    "start_time": "2024-12-11T23:15:33.433Z"
   },
   {
    "duration": 241,
    "start_time": "2024-12-11T23:15:33.497Z"
   },
   {
    "duration": 34,
    "start_time": "2024-12-11T23:15:33.740Z"
   },
   {
    "duration": 96,
    "start_time": "2024-12-11T23:15:33.776Z"
   },
   {
    "duration": 13,
    "start_time": "2024-12-11T23:15:33.874Z"
   },
   {
    "duration": 3160,
    "start_time": "2024-12-11T23:15:33.889Z"
   },
   {
    "duration": 15,
    "start_time": "2024-12-11T23:15:37.051Z"
   },
   {
    "duration": 30,
    "start_time": "2024-12-11T23:15:37.067Z"
   },
   {
    "duration": 36,
    "start_time": "2024-12-11T23:15:37.099Z"
   },
   {
    "duration": 66,
    "start_time": "2024-12-11T23:15:37.136Z"
   },
   {
    "duration": 475,
    "start_time": "2024-12-11T23:15:37.204Z"
   },
   {
    "duration": 566,
    "start_time": "2024-12-11T23:15:37.681Z"
   },
   {
    "duration": 0,
    "start_time": "2024-12-11T23:15:38.250Z"
   },
   {
    "duration": 0,
    "start_time": "2024-12-11T23:15:38.251Z"
   },
   {
    "duration": 0,
    "start_time": "2024-12-11T23:15:38.252Z"
   },
   {
    "duration": 2938,
    "start_time": "2024-12-11T23:17:11.783Z"
   },
   {
    "duration": 889,
    "start_time": "2024-12-11T23:18:14.245Z"
   },
   {
    "duration": 420,
    "start_time": "2024-12-11T23:18:15.136Z"
   },
   {
    "duration": 96,
    "start_time": "2024-12-11T23:18:15.557Z"
   },
   {
    "duration": 94,
    "start_time": "2024-12-11T23:18:15.656Z"
   },
   {
    "duration": 58,
    "start_time": "2024-12-11T23:18:15.752Z"
   },
   {
    "duration": 3,
    "start_time": "2024-12-11T23:18:15.812Z"
   },
   {
    "duration": 488,
    "start_time": "2024-12-11T23:18:15.831Z"
   },
   {
    "duration": 10,
    "start_time": "2024-12-11T23:18:16.321Z"
   },
   {
    "duration": 12,
    "start_time": "2024-12-11T23:18:16.333Z"
   },
   {
    "duration": 22,
    "start_time": "2024-12-11T23:18:16.348Z"
   },
   {
    "duration": 6,
    "start_time": "2024-12-11T23:18:16.372Z"
   },
   {
    "duration": 9,
    "start_time": "2024-12-11T23:18:16.380Z"
   },
   {
    "duration": 5,
    "start_time": "2024-12-11T23:18:16.392Z"
   },
   {
    "duration": 37,
    "start_time": "2024-12-11T23:18:16.432Z"
   },
   {
    "duration": 29,
    "start_time": "2024-12-11T23:18:16.471Z"
   },
   {
    "duration": 32,
    "start_time": "2024-12-11T23:18:16.502Z"
   },
   {
    "duration": 47,
    "start_time": "2024-12-11T23:18:16.535Z"
   },
   {
    "duration": 678,
    "start_time": "2024-12-11T23:18:16.583Z"
   },
   {
    "duration": 18,
    "start_time": "2024-12-11T23:18:17.263Z"
   },
   {
    "duration": 59,
    "start_time": "2024-12-11T23:18:17.283Z"
   },
   {
    "duration": 14,
    "start_time": "2024-12-11T23:18:17.343Z"
   },
   {
    "duration": 14,
    "start_time": "2024-12-11T23:18:17.359Z"
   },
   {
    "duration": 2696,
    "start_time": "2024-12-11T23:18:17.375Z"
   },
   {
    "duration": 205,
    "start_time": "2024-12-11T23:18:20.073Z"
   },
   {
    "duration": 67,
    "start_time": "2024-12-11T23:18:20.280Z"
   },
   {
    "duration": 9,
    "start_time": "2024-12-11T23:18:20.349Z"
   },
   {
    "duration": 2458,
    "start_time": "2024-12-11T23:18:20.360Z"
   },
   {
    "duration": 63,
    "start_time": "2024-12-11T23:18:22.822Z"
   },
   {
    "duration": 191,
    "start_time": "2024-12-11T23:18:22.887Z"
   },
   {
    "duration": 63,
    "start_time": "2024-12-11T23:18:23.079Z"
   },
   {
    "duration": 70,
    "start_time": "2024-12-11T23:18:23.144Z"
   },
   {
    "duration": 23,
    "start_time": "2024-12-11T23:18:23.217Z"
   },
   {
    "duration": 2962,
    "start_time": "2024-12-11T23:18:23.242Z"
   },
   {
    "duration": 14,
    "start_time": "2024-12-11T23:18:26.206Z"
   },
   {
    "duration": 37,
    "start_time": "2024-12-11T23:18:26.221Z"
   },
   {
    "duration": 15,
    "start_time": "2024-12-11T23:18:26.259Z"
   },
   {
    "duration": 87,
    "start_time": "2024-12-11T23:18:26.275Z"
   },
   {
    "duration": 490,
    "start_time": "2024-12-11T23:18:26.364Z"
   },
   {
    "duration": 544,
    "start_time": "2024-12-11T23:18:26.858Z"
   },
   {
    "duration": 0,
    "start_time": "2024-12-11T23:18:27.404Z"
   },
   {
    "duration": 0,
    "start_time": "2024-12-11T23:18:27.405Z"
   },
   {
    "duration": 0,
    "start_time": "2024-12-11T23:18:27.406Z"
   },
   {
    "duration": 367,
    "start_time": "2024-12-11T23:19:38.087Z"
   },
   {
    "duration": 77,
    "start_time": "2024-12-11T23:20:04.372Z"
   },
   {
    "duration": 345,
    "start_time": "2024-12-11T23:20:12.573Z"
   },
   {
    "duration": 115,
    "start_time": "2024-12-11T23:20:16.984Z"
   },
   {
    "duration": 346,
    "start_time": "2024-12-11T23:20:26.439Z"
   },
   {
    "duration": 895,
    "start_time": "2024-12-11T23:20:39.943Z"
   },
   {
    "duration": 413,
    "start_time": "2024-12-11T23:20:40.840Z"
   },
   {
    "duration": 101,
    "start_time": "2024-12-11T23:20:41.254Z"
   },
   {
    "duration": 90,
    "start_time": "2024-12-11T23:20:41.357Z"
   },
   {
    "duration": 57,
    "start_time": "2024-12-11T23:20:41.450Z"
   },
   {
    "duration": 3,
    "start_time": "2024-12-11T23:20:41.509Z"
   },
   {
    "duration": 522,
    "start_time": "2024-12-11T23:20:41.513Z"
   },
   {
    "duration": 3,
    "start_time": "2024-12-11T23:20:42.036Z"
   },
   {
    "duration": 14,
    "start_time": "2024-12-11T23:20:42.040Z"
   },
   {
    "duration": 22,
    "start_time": "2024-12-11T23:20:42.056Z"
   },
   {
    "duration": 6,
    "start_time": "2024-12-11T23:20:42.080Z"
   },
   {
    "duration": 10,
    "start_time": "2024-12-11T23:20:42.087Z"
   },
   {
    "duration": 9,
    "start_time": "2024-12-11T23:20:42.130Z"
   },
   {
    "duration": 39,
    "start_time": "2024-12-11T23:20:42.143Z"
   },
   {
    "duration": 48,
    "start_time": "2024-12-11T23:20:42.184Z"
   },
   {
    "duration": 123,
    "start_time": "2024-12-11T23:20:42.234Z"
   },
   {
    "duration": 47,
    "start_time": "2024-12-11T23:20:42.359Z"
   },
   {
    "duration": 691,
    "start_time": "2024-12-11T23:20:42.409Z"
   },
   {
    "duration": 15,
    "start_time": "2024-12-11T23:20:43.102Z"
   },
   {
    "duration": 50,
    "start_time": "2024-12-11T23:20:43.118Z"
   },
   {
    "duration": 20,
    "start_time": "2024-12-11T23:20:43.171Z"
   },
   {
    "duration": 39,
    "start_time": "2024-12-11T23:20:43.193Z"
   },
   {
    "duration": 2605,
    "start_time": "2024-12-11T23:20:43.234Z"
   },
   {
    "duration": 230,
    "start_time": "2024-12-11T23:20:45.841Z"
   },
   {
    "duration": 65,
    "start_time": "2024-12-11T23:20:46.074Z"
   },
   {
    "duration": 9,
    "start_time": "2024-12-11T23:20:46.141Z"
   },
   {
    "duration": 2486,
    "start_time": "2024-12-11T23:20:46.154Z"
   },
   {
    "duration": 58,
    "start_time": "2024-12-11T23:20:48.642Z"
   },
   {
    "duration": 253,
    "start_time": "2024-12-11T23:20:48.702Z"
   },
   {
    "duration": 35,
    "start_time": "2024-12-11T23:20:48.956Z"
   },
   {
    "duration": 85,
    "start_time": "2024-12-11T23:20:48.992Z"
   },
   {
    "duration": 14,
    "start_time": "2024-12-11T23:20:49.079Z"
   },
   {
    "duration": 2944,
    "start_time": "2024-12-11T23:20:49.095Z"
   },
   {
    "duration": 14,
    "start_time": "2024-12-11T23:20:52.041Z"
   },
   {
    "duration": 28,
    "start_time": "2024-12-11T23:20:52.057Z"
   },
   {
    "duration": 14,
    "start_time": "2024-12-11T23:20:52.087Z"
   },
   {
    "duration": 93,
    "start_time": "2024-12-11T23:20:52.102Z"
   },
   {
    "duration": 465,
    "start_time": "2024-12-11T23:20:52.197Z"
   },
   {
    "duration": 557,
    "start_time": "2024-12-11T23:20:52.664Z"
   },
   {
    "duration": 0,
    "start_time": "2024-12-11T23:20:53.223Z"
   },
   {
    "duration": 0,
    "start_time": "2024-12-11T23:20:53.224Z"
   },
   {
    "duration": 0,
    "start_time": "2024-12-11T23:20:53.225Z"
   },
   {
    "duration": 82,
    "start_time": "2024-12-11T23:22:01.176Z"
   },
   {
    "duration": 239,
    "start_time": "2024-12-11T23:22:04.220Z"
   },
   {
    "duration": 107,
    "start_time": "2024-12-11T23:22:09.225Z"
   },
   {
    "duration": 891,
    "start_time": "2024-12-11T23:23:06.139Z"
   },
   {
    "duration": 413,
    "start_time": "2024-12-11T23:23:07.032Z"
   },
   {
    "duration": 96,
    "start_time": "2024-12-11T23:23:07.446Z"
   },
   {
    "duration": 97,
    "start_time": "2024-12-11T23:23:07.544Z"
   },
   {
    "duration": 68,
    "start_time": "2024-12-11T23:23:07.642Z"
   },
   {
    "duration": 3,
    "start_time": "2024-12-11T23:23:07.711Z"
   },
   {
    "duration": 503,
    "start_time": "2024-12-11T23:23:07.716Z"
   },
   {
    "duration": 13,
    "start_time": "2024-12-11T23:23:08.221Z"
   },
   {
    "duration": 13,
    "start_time": "2024-12-11T23:23:08.236Z"
   },
   {
    "duration": 23,
    "start_time": "2024-12-11T23:23:08.252Z"
   },
   {
    "duration": 7,
    "start_time": "2024-12-11T23:23:08.277Z"
   },
   {
    "duration": 9,
    "start_time": "2024-12-11T23:23:08.287Z"
   },
   {
    "duration": 5,
    "start_time": "2024-12-11T23:23:08.297Z"
   },
   {
    "duration": 40,
    "start_time": "2024-12-11T23:23:08.332Z"
   },
   {
    "duration": 31,
    "start_time": "2024-12-11T23:23:08.374Z"
   },
   {
    "duration": 86,
    "start_time": "2024-12-11T23:23:08.407Z"
   },
   {
    "duration": 56,
    "start_time": "2024-12-11T23:23:08.495Z"
   },
   {
    "duration": 665,
    "start_time": "2024-12-11T23:23:08.553Z"
   },
   {
    "duration": 19,
    "start_time": "2024-12-11T23:23:09.219Z"
   },
   {
    "duration": 38,
    "start_time": "2024-12-11T23:23:09.241Z"
   },
   {
    "duration": 14,
    "start_time": "2024-12-11T23:23:09.280Z"
   },
   {
    "duration": 35,
    "start_time": "2024-12-11T23:23:09.296Z"
   },
   {
    "duration": 2625,
    "start_time": "2024-12-11T23:23:09.332Z"
   },
   {
    "duration": 212,
    "start_time": "2024-12-11T23:23:11.959Z"
   },
   {
    "duration": 69,
    "start_time": "2024-12-11T23:23:12.172Z"
   },
   {
    "duration": 9,
    "start_time": "2024-12-11T23:23:12.242Z"
   },
   {
    "duration": 2477,
    "start_time": "2024-12-11T23:23:12.253Z"
   },
   {
    "duration": 59,
    "start_time": "2024-12-11T23:23:14.735Z"
   },
   {
    "duration": 239,
    "start_time": "2024-12-11T23:23:14.796Z"
   },
   {
    "duration": 33,
    "start_time": "2024-12-11T23:23:15.037Z"
   },
   {
    "duration": 81,
    "start_time": "2024-12-11T23:23:15.072Z"
   },
   {
    "duration": 14,
    "start_time": "2024-12-11T23:23:15.155Z"
   },
   {
    "duration": 2852,
    "start_time": "2024-12-11T23:23:15.170Z"
   },
   {
    "duration": 22,
    "start_time": "2024-12-11T23:23:18.024Z"
   },
   {
    "duration": 28,
    "start_time": "2024-12-11T23:23:18.048Z"
   },
   {
    "duration": 16,
    "start_time": "2024-12-11T23:23:18.077Z"
   },
   {
    "duration": 104,
    "start_time": "2024-12-11T23:23:18.094Z"
   },
   {
    "duration": 432,
    "start_time": "2024-12-11T23:23:18.199Z"
   },
   {
    "duration": 554,
    "start_time": "2024-12-11T23:23:18.633Z"
   },
   {
    "duration": 0,
    "start_time": "2024-12-11T23:23:19.189Z"
   },
   {
    "duration": 0,
    "start_time": "2024-12-11T23:23:19.190Z"
   },
   {
    "duration": 0,
    "start_time": "2024-12-11T23:23:19.192Z"
   },
   {
    "duration": 11,
    "start_time": "2024-12-11T23:24:29.062Z"
   },
   {
    "duration": 72,
    "start_time": "2024-12-11T23:25:00.163Z"
   },
   {
    "duration": 236,
    "start_time": "2024-12-11T23:25:06.317Z"
   },
   {
    "duration": 109,
    "start_time": "2024-12-11T23:25:15.195Z"
   },
   {
    "duration": 860,
    "start_time": "2024-12-11T23:25:41.858Z"
   },
   {
    "duration": 412,
    "start_time": "2024-12-11T23:25:42.720Z"
   },
   {
    "duration": 102,
    "start_time": "2024-12-11T23:25:43.133Z"
   },
   {
    "duration": 101,
    "start_time": "2024-12-11T23:25:43.237Z"
   },
   {
    "duration": 60,
    "start_time": "2024-12-11T23:25:43.339Z"
   },
   {
    "duration": 3,
    "start_time": "2024-12-11T23:25:43.401Z"
   },
   {
    "duration": 478,
    "start_time": "2024-12-11T23:25:43.406Z"
   },
   {
    "duration": 4,
    "start_time": "2024-12-11T23:25:43.886Z"
   },
   {
    "duration": 12,
    "start_time": "2024-12-11T23:25:43.892Z"
   },
   {
    "duration": 38,
    "start_time": "2024-12-11T23:25:43.908Z"
   },
   {
    "duration": 6,
    "start_time": "2024-12-11T23:25:43.948Z"
   },
   {
    "duration": 10,
    "start_time": "2024-12-11T23:25:43.956Z"
   },
   {
    "duration": 6,
    "start_time": "2024-12-11T23:25:43.967Z"
   },
   {
    "duration": 69,
    "start_time": "2024-12-11T23:25:43.974Z"
   },
   {
    "duration": 30,
    "start_time": "2024-12-11T23:25:44.045Z"
   },
   {
    "duration": 62,
    "start_time": "2024-12-11T23:25:44.077Z"
   },
   {
    "duration": 47,
    "start_time": "2024-12-11T23:25:44.140Z"
   },
   {
    "duration": 720,
    "start_time": "2024-12-11T23:25:44.189Z"
   },
   {
    "duration": 15,
    "start_time": "2024-12-11T23:25:44.911Z"
   },
   {
    "duration": 38,
    "start_time": "2024-12-11T23:25:44.930Z"
   },
   {
    "duration": 14,
    "start_time": "2024-12-11T23:25:44.970Z"
   },
   {
    "duration": 14,
    "start_time": "2024-12-11T23:25:44.985Z"
   },
   {
    "duration": 2601,
    "start_time": "2024-12-11T23:25:45.000Z"
   },
   {
    "duration": 267,
    "start_time": "2024-12-11T23:25:47.603Z"
   },
   {
    "duration": 71,
    "start_time": "2024-12-11T23:25:47.873Z"
   },
   {
    "duration": 10,
    "start_time": "2024-12-11T23:25:47.946Z"
   },
   {
    "duration": 2662,
    "start_time": "2024-12-11T23:25:47.958Z"
   },
   {
    "duration": 70,
    "start_time": "2024-12-11T23:25:50.624Z"
   },
   {
    "duration": 239,
    "start_time": "2024-12-11T23:25:50.697Z"
   },
   {
    "duration": 55,
    "start_time": "2024-12-11T23:25:50.938Z"
   },
   {
    "duration": 136,
    "start_time": "2024-12-11T23:25:50.995Z"
   },
   {
    "duration": 15,
    "start_time": "2024-12-11T23:25:51.134Z"
   },
   {
    "duration": 2957,
    "start_time": "2024-12-11T23:25:51.151Z"
   },
   {
    "duration": 22,
    "start_time": "2024-12-11T23:25:54.109Z"
   },
   {
    "duration": 41,
    "start_time": "2024-12-11T23:25:54.140Z"
   },
   {
    "duration": 16,
    "start_time": "2024-12-11T23:25:54.183Z"
   },
   {
    "duration": 105,
    "start_time": "2024-12-11T23:25:54.201Z"
   },
   {
    "duration": 523,
    "start_time": "2024-12-11T23:25:54.308Z"
   },
   {
    "duration": 585,
    "start_time": "2024-12-11T23:25:54.833Z"
   },
   {
    "duration": 0,
    "start_time": "2024-12-11T23:25:55.420Z"
   },
   {
    "duration": 0,
    "start_time": "2024-12-11T23:25:55.421Z"
   },
   {
    "duration": 0,
    "start_time": "2024-12-11T23:25:55.422Z"
   },
   {
    "duration": 12,
    "start_time": "2024-12-11T23:26:24.625Z"
   },
   {
    "duration": 6,
    "start_time": "2024-12-11T23:27:20.095Z"
   },
   {
    "duration": 12,
    "start_time": "2024-12-11T23:27:31.753Z"
   },
   {
    "duration": 8,
    "start_time": "2024-12-11T23:27:37.937Z"
   },
   {
    "duration": 101,
    "start_time": "2024-12-11T23:28:23.956Z"
   },
   {
    "duration": 984,
    "start_time": "2024-12-11T23:28:33.116Z"
   },
   {
    "duration": 469,
    "start_time": "2024-12-11T23:28:34.102Z"
   },
   {
    "duration": 95,
    "start_time": "2024-12-11T23:28:34.574Z"
   },
   {
    "duration": 101,
    "start_time": "2024-12-11T23:28:34.671Z"
   },
   {
    "duration": 76,
    "start_time": "2024-12-11T23:28:34.777Z"
   },
   {
    "duration": 3,
    "start_time": "2024-12-11T23:28:34.855Z"
   },
   {
    "duration": 525,
    "start_time": "2024-12-11T23:28:34.860Z"
   },
   {
    "duration": 4,
    "start_time": "2024-12-11T23:28:35.386Z"
   },
   {
    "duration": 14,
    "start_time": "2024-12-11T23:28:35.391Z"
   },
   {
    "duration": 43,
    "start_time": "2024-12-11T23:28:35.407Z"
   },
   {
    "duration": 7,
    "start_time": "2024-12-11T23:28:35.453Z"
   },
   {
    "duration": 12,
    "start_time": "2024-12-11T23:28:35.462Z"
   },
   {
    "duration": 5,
    "start_time": "2024-12-11T23:28:35.476Z"
   },
   {
    "duration": 70,
    "start_time": "2024-12-11T23:28:35.485Z"
   },
   {
    "duration": 33,
    "start_time": "2024-12-11T23:28:35.557Z"
   },
   {
    "duration": 96,
    "start_time": "2024-12-11T23:28:35.592Z"
   },
   {
    "duration": 61,
    "start_time": "2024-12-11T23:28:35.690Z"
   },
   {
    "duration": 695,
    "start_time": "2024-12-11T23:28:35.753Z"
   },
   {
    "duration": 16,
    "start_time": "2024-12-11T23:28:36.450Z"
   },
   {
    "duration": 39,
    "start_time": "2024-12-11T23:28:36.467Z"
   },
   {
    "duration": 32,
    "start_time": "2024-12-11T23:28:36.508Z"
   },
   {
    "duration": 15,
    "start_time": "2024-12-11T23:28:36.542Z"
   },
   {
    "duration": 2815,
    "start_time": "2024-12-11T23:28:36.559Z"
   },
   {
    "duration": 278,
    "start_time": "2024-12-11T23:28:39.376Z"
   },
   {
    "duration": 82,
    "start_time": "2024-12-11T23:28:39.656Z"
   },
   {
    "duration": 11,
    "start_time": "2024-12-11T23:28:39.740Z"
   },
   {
    "duration": 2512,
    "start_time": "2024-12-11T23:28:39.753Z"
   },
   {
    "duration": 76,
    "start_time": "2024-12-11T23:28:42.267Z"
   },
   {
    "duration": 225,
    "start_time": "2024-12-11T23:28:42.345Z"
   },
   {
    "duration": 36,
    "start_time": "2024-12-11T23:28:42.572Z"
   },
   {
    "duration": 107,
    "start_time": "2024-12-11T23:28:42.610Z"
   },
   {
    "duration": 19,
    "start_time": "2024-12-11T23:28:42.718Z"
   },
   {
    "duration": 3031,
    "start_time": "2024-12-11T23:28:42.739Z"
   },
   {
    "duration": 17,
    "start_time": "2024-12-11T23:28:45.772Z"
   },
   {
    "duration": 47,
    "start_time": "2024-12-11T23:28:45.791Z"
   },
   {
    "duration": 15,
    "start_time": "2024-12-11T23:28:45.840Z"
   },
   {
    "duration": 110,
    "start_time": "2024-12-11T23:28:45.857Z"
   },
   {
    "duration": 363,
    "start_time": "2024-12-11T23:28:45.969Z"
   },
   {
    "duration": 236,
    "start_time": "2024-12-11T23:28:46.334Z"
   },
   {
    "duration": 0,
    "start_time": "2024-12-11T23:28:46.572Z"
   },
   {
    "duration": 0,
    "start_time": "2024-12-11T23:28:46.573Z"
   },
   {
    "duration": 0,
    "start_time": "2024-12-11T23:28:46.574Z"
   },
   {
    "duration": 0,
    "start_time": "2024-12-11T23:28:46.575Z"
   },
   {
    "duration": 970,
    "start_time": "2024-12-11T23:29:07.535Z"
   },
   {
    "duration": 445,
    "start_time": "2024-12-11T23:29:08.507Z"
   },
   {
    "duration": 134,
    "start_time": "2024-12-11T23:29:08.954Z"
   },
   {
    "duration": 128,
    "start_time": "2024-12-11T23:29:09.091Z"
   },
   {
    "duration": 90,
    "start_time": "2024-12-11T23:29:09.222Z"
   },
   {
    "duration": 3,
    "start_time": "2024-12-11T23:29:09.314Z"
   },
   {
    "duration": 473,
    "start_time": "2024-12-11T23:29:09.330Z"
   },
   {
    "duration": 4,
    "start_time": "2024-12-11T23:29:09.805Z"
   },
   {
    "duration": 30,
    "start_time": "2024-12-11T23:29:09.811Z"
   },
   {
    "duration": 25,
    "start_time": "2024-12-11T23:29:09.846Z"
   },
   {
    "duration": 7,
    "start_time": "2024-12-11T23:29:09.873Z"
   },
   {
    "duration": 12,
    "start_time": "2024-12-11T23:29:09.882Z"
   },
   {
    "duration": 6,
    "start_time": "2024-12-11T23:29:09.897Z"
   },
   {
    "duration": 66,
    "start_time": "2024-12-11T23:29:09.905Z"
   },
   {
    "duration": 38,
    "start_time": "2024-12-11T23:29:09.972Z"
   },
   {
    "duration": 149,
    "start_time": "2024-12-11T23:29:10.013Z"
   },
   {
    "duration": 72,
    "start_time": "2024-12-11T23:29:10.166Z"
   },
   {
    "duration": 704,
    "start_time": "2024-12-11T23:29:10.240Z"
   },
   {
    "duration": 14,
    "start_time": "2024-12-11T23:29:10.946Z"
   },
   {
    "duration": 39,
    "start_time": "2024-12-11T23:29:10.963Z"
   },
   {
    "duration": 36,
    "start_time": "2024-12-11T23:29:11.004Z"
   },
   {
    "duration": 18,
    "start_time": "2024-12-11T23:29:11.041Z"
   },
   {
    "duration": 2852,
    "start_time": "2024-12-11T23:29:11.060Z"
   },
   {
    "duration": 273,
    "start_time": "2024-12-11T23:29:13.913Z"
   },
   {
    "duration": 96,
    "start_time": "2024-12-11T23:29:14.188Z"
   },
   {
    "duration": 11,
    "start_time": "2024-12-11T23:29:14.286Z"
   },
   {
    "duration": 2646,
    "start_time": "2024-12-11T23:29:14.298Z"
   },
   {
    "duration": 61,
    "start_time": "2024-12-11T23:29:16.949Z"
   },
   {
    "duration": 266,
    "start_time": "2024-12-11T23:29:17.012Z"
   },
   {
    "duration": 33,
    "start_time": "2024-12-11T23:29:17.280Z"
   },
   {
    "duration": 85,
    "start_time": "2024-12-11T23:29:17.315Z"
   },
   {
    "duration": 29,
    "start_time": "2024-12-11T23:29:17.403Z"
   },
   {
    "duration": 3212,
    "start_time": "2024-12-11T23:29:17.434Z"
   },
   {
    "duration": 16,
    "start_time": "2024-12-11T23:29:20.648Z"
   },
   {
    "duration": 29,
    "start_time": "2024-12-11T23:29:20.666Z"
   },
   {
    "duration": 40,
    "start_time": "2024-12-11T23:29:20.698Z"
   },
   {
    "duration": 93,
    "start_time": "2024-12-11T23:29:20.740Z"
   },
   {
    "duration": 401,
    "start_time": "2024-12-11T23:29:20.835Z"
   },
   {
    "duration": 5,
    "start_time": "2024-12-11T23:29:21.238Z"
   },
   {
    "duration": 620,
    "start_time": "2024-12-11T23:29:21.245Z"
   },
   {
    "duration": 1244,
    "start_time": "2024-12-11T23:29:21.867Z"
   },
   {
    "duration": 102,
    "start_time": "2024-12-11T23:29:23.113Z"
   },
   {
    "duration": 58,
    "start_time": "2024-12-11T23:29:23.217Z"
   },
   {
    "duration": 208,
    "start_time": "2024-12-11T23:32:59.921Z"
   },
   {
    "duration": 239,
    "start_time": "2024-12-11T23:34:57.132Z"
   },
   {
    "duration": 652,
    "start_time": "2024-12-11T23:35:13.165Z"
   },
   {
    "duration": 1054,
    "start_time": "2024-12-11T23:35:39.868Z"
   },
   {
    "duration": 913,
    "start_time": "2024-12-11T23:36:34.308Z"
   },
   {
    "duration": 440,
    "start_time": "2024-12-11T23:36:35.223Z"
   },
   {
    "duration": 96,
    "start_time": "2024-12-11T23:36:35.665Z"
   },
   {
    "duration": 99,
    "start_time": "2024-12-11T23:36:35.765Z"
   },
   {
    "duration": 79,
    "start_time": "2024-12-11T23:36:35.865Z"
   },
   {
    "duration": 4,
    "start_time": "2024-12-11T23:36:35.948Z"
   },
   {
    "duration": 548,
    "start_time": "2024-12-11T23:36:35.954Z"
   },
   {
    "duration": 6,
    "start_time": "2024-12-11T23:36:36.504Z"
   },
   {
    "duration": 24,
    "start_time": "2024-12-11T23:36:36.514Z"
   },
   {
    "duration": 29,
    "start_time": "2024-12-11T23:36:36.542Z"
   },
   {
    "duration": 11,
    "start_time": "2024-12-11T23:36:36.573Z"
   },
   {
    "duration": 11,
    "start_time": "2024-12-11T23:36:36.585Z"
   },
   {
    "duration": 32,
    "start_time": "2024-12-11T23:36:36.599Z"
   },
   {
    "duration": 46,
    "start_time": "2024-12-11T23:36:36.633Z"
   },
   {
    "duration": 36,
    "start_time": "2024-12-11T23:36:36.680Z"
   },
   {
    "duration": 61,
    "start_time": "2024-12-11T23:36:36.732Z"
   },
   {
    "duration": 67,
    "start_time": "2024-12-11T23:36:36.797Z"
   },
   {
    "duration": 720,
    "start_time": "2024-12-11T23:36:36.868Z"
   },
   {
    "duration": 19,
    "start_time": "2024-12-11T23:36:37.590Z"
   },
   {
    "duration": 64,
    "start_time": "2024-12-11T23:36:37.612Z"
   },
   {
    "duration": 19,
    "start_time": "2024-12-11T23:36:37.679Z"
   },
   {
    "duration": 31,
    "start_time": "2024-12-11T23:36:37.700Z"
   },
   {
    "duration": 2762,
    "start_time": "2024-12-11T23:36:37.736Z"
   },
   {
    "duration": 262,
    "start_time": "2024-12-11T23:36:40.500Z"
   },
   {
    "duration": 75,
    "start_time": "2024-12-11T23:36:40.764Z"
   },
   {
    "duration": 11,
    "start_time": "2024-12-11T23:36:40.841Z"
   },
   {
    "duration": 2584,
    "start_time": "2024-12-11T23:36:40.854Z"
   },
   {
    "duration": 89,
    "start_time": "2024-12-11T23:36:43.442Z"
   },
   {
    "duration": 233,
    "start_time": "2024-12-11T23:36:43.533Z"
   },
   {
    "duration": 34,
    "start_time": "2024-12-11T23:36:43.768Z"
   },
   {
    "duration": 104,
    "start_time": "2024-12-11T23:36:43.804Z"
   },
   {
    "duration": 23,
    "start_time": "2024-12-11T23:36:43.910Z"
   },
   {
    "duration": 3001,
    "start_time": "2024-12-11T23:36:43.935Z"
   },
   {
    "duration": 16,
    "start_time": "2024-12-11T23:36:46.938Z"
   },
   {
    "duration": 31,
    "start_time": "2024-12-11T23:36:46.956Z"
   },
   {
    "duration": 42,
    "start_time": "2024-12-11T23:36:46.990Z"
   },
   {
    "duration": 96,
    "start_time": "2024-12-11T23:36:47.035Z"
   },
   {
    "duration": 439,
    "start_time": "2024-12-11T23:36:47.133Z"
   },
   {
    "duration": 671,
    "start_time": "2024-12-11T23:36:47.576Z"
   },
   {
    "duration": 1219,
    "start_time": "2024-12-11T23:36:48.249Z"
   },
   {
    "duration": 96,
    "start_time": "2024-12-11T23:36:49.470Z"
   },
   {
    "duration": 63,
    "start_time": "2024-12-11T23:36:49.568Z"
   },
   {
    "duration": 76,
    "start_time": "2024-12-11T23:37:54.813Z"
   },
   {
    "duration": 65,
    "start_time": "2024-12-11T23:38:15.716Z"
   },
   {
    "duration": 104,
    "start_time": "2024-12-11T23:38:26.899Z"
   },
   {
    "duration": 67,
    "start_time": "2024-12-11T23:39:37.451Z"
   },
   {
    "duration": 973,
    "start_time": "2024-12-11T23:41:30.898Z"
   },
   {
    "duration": 517,
    "start_time": "2024-12-11T23:41:31.874Z"
   },
   {
    "duration": 104,
    "start_time": "2024-12-11T23:41:32.392Z"
   },
   {
    "duration": 106,
    "start_time": "2024-12-11T23:41:32.500Z"
   },
   {
    "duration": 74,
    "start_time": "2024-12-11T23:41:32.609Z"
   },
   {
    "duration": 6,
    "start_time": "2024-12-11T23:41:32.686Z"
   },
   {
    "duration": 501,
    "start_time": "2024-12-11T23:41:32.695Z"
   },
   {
    "duration": 4,
    "start_time": "2024-12-11T23:41:33.197Z"
   },
   {
    "duration": 29,
    "start_time": "2024-12-11T23:41:33.202Z"
   },
   {
    "duration": 29,
    "start_time": "2024-12-11T23:41:33.236Z"
   },
   {
    "duration": 9,
    "start_time": "2024-12-11T23:41:33.267Z"
   },
   {
    "duration": 12,
    "start_time": "2024-12-11T23:41:33.278Z"
   },
   {
    "duration": 8,
    "start_time": "2024-12-11T23:41:33.292Z"
   },
   {
    "duration": 47,
    "start_time": "2024-12-11T23:41:33.331Z"
   },
   {
    "duration": 36,
    "start_time": "2024-12-11T23:41:33.380Z"
   },
   {
    "duration": 84,
    "start_time": "2024-12-11T23:41:33.432Z"
   },
   {
    "duration": 72,
    "start_time": "2024-12-11T23:41:33.518Z"
   },
   {
    "duration": 1004,
    "start_time": "2024-12-11T23:41:33.592Z"
   },
   {
    "duration": 24,
    "start_time": "2024-12-11T23:41:34.598Z"
   },
   {
    "duration": 76,
    "start_time": "2024-12-11T23:41:34.624Z"
   },
   {
    "duration": 30,
    "start_time": "2024-12-11T23:41:34.702Z"
   },
   {
    "duration": 20,
    "start_time": "2024-12-11T23:41:34.734Z"
   },
   {
    "duration": 3008,
    "start_time": "2024-12-11T23:41:34.757Z"
   },
   {
    "duration": 230,
    "start_time": "2024-12-11T23:41:37.767Z"
   },
   {
    "duration": 91,
    "start_time": "2024-12-11T23:41:37.999Z"
   },
   {
    "duration": 11,
    "start_time": "2024-12-11T23:41:38.093Z"
   },
   {
    "duration": 2628,
    "start_time": "2024-12-11T23:41:38.106Z"
   },
   {
    "duration": 76,
    "start_time": "2024-12-11T23:41:40.739Z"
   },
   {
    "duration": 246,
    "start_time": "2024-12-11T23:41:40.817Z"
   },
   {
    "duration": 35,
    "start_time": "2024-12-11T23:41:41.065Z"
   },
   {
    "duration": 96,
    "start_time": "2024-12-11T23:41:41.101Z"
   },
   {
    "duration": 16,
    "start_time": "2024-12-11T23:41:41.199Z"
   },
   {
    "duration": 2968,
    "start_time": "2024-12-11T23:41:41.232Z"
   },
   {
    "duration": 15,
    "start_time": "2024-12-11T23:41:44.202Z"
   },
   {
    "duration": 38,
    "start_time": "2024-12-11T23:41:44.232Z"
   },
   {
    "duration": 19,
    "start_time": "2024-12-11T23:41:44.272Z"
   },
   {
    "duration": 88,
    "start_time": "2024-12-11T23:41:44.292Z"
   },
   {
    "duration": 339,
    "start_time": "2024-12-11T23:41:44.382Z"
   },
   {
    "duration": 678,
    "start_time": "2024-12-11T23:41:44.723Z"
   },
   {
    "duration": 4,
    "start_time": "2024-12-11T23:41:45.403Z"
   },
   {
    "duration": 1510,
    "start_time": "2024-12-11T23:41:45.409Z"
   },
   {
    "duration": 120,
    "start_time": "2024-12-11T23:41:46.921Z"
   },
   {
    "duration": 71,
    "start_time": "2024-12-11T23:41:47.045Z"
   },
   {
    "duration": 2500,
    "start_time": "2024-12-14T21:17:03.391Z"
   },
   {
    "duration": 451,
    "start_time": "2024-12-14T21:17:05.893Z"
   },
   {
    "duration": 92,
    "start_time": "2024-12-14T21:17:06.346Z"
   },
   {
    "duration": 109,
    "start_time": "2024-12-14T21:17:06.441Z"
   },
   {
    "duration": 67,
    "start_time": "2024-12-14T21:17:06.552Z"
   },
   {
    "duration": 4,
    "start_time": "2024-12-14T21:17:06.620Z"
   },
   {
    "duration": 464,
    "start_time": "2024-12-14T21:17:06.626Z"
   },
   {
    "duration": 3,
    "start_time": "2024-12-14T21:17:07.092Z"
   },
   {
    "duration": 11,
    "start_time": "2024-12-14T21:17:07.105Z"
   },
   {
    "duration": 22,
    "start_time": "2024-12-14T21:17:07.120Z"
   },
   {
    "duration": 7,
    "start_time": "2024-12-14T21:17:07.144Z"
   },
   {
    "duration": 10,
    "start_time": "2024-12-14T21:17:07.152Z"
   },
   {
    "duration": 5,
    "start_time": "2024-12-14T21:17:07.163Z"
   },
   {
    "duration": 69,
    "start_time": "2024-12-14T21:17:07.170Z"
   },
   {
    "duration": 31,
    "start_time": "2024-12-14T21:17:07.241Z"
   },
   {
    "duration": 272,
    "start_time": "2024-12-14T21:17:07.274Z"
   },
   {
    "duration": 46,
    "start_time": "2024-12-14T21:17:07.547Z"
   },
   {
    "duration": 674,
    "start_time": "2024-12-14T21:17:07.594Z"
   },
   {
    "duration": 18,
    "start_time": "2024-12-14T21:17:08.270Z"
   },
   {
    "duration": 44,
    "start_time": "2024-12-14T21:17:08.289Z"
   },
   {
    "duration": 14,
    "start_time": "2024-12-14T21:17:08.335Z"
   },
   {
    "duration": 14,
    "start_time": "2024-12-14T21:17:08.350Z"
   },
   {
    "duration": 2579,
    "start_time": "2024-12-14T21:17:08.365Z"
   },
   {
    "duration": 220,
    "start_time": "2024-12-14T21:17:10.947Z"
   },
   {
    "duration": 73,
    "start_time": "2024-12-14T21:17:11.168Z"
   },
   {
    "duration": 10,
    "start_time": "2024-12-14T21:17:11.243Z"
   },
   {
    "duration": 2344,
    "start_time": "2024-12-14T21:17:11.255Z"
   },
   {
    "duration": 58,
    "start_time": "2024-12-14T21:17:13.607Z"
   },
   {
    "duration": 189,
    "start_time": "2024-12-14T21:17:13.667Z"
   },
   {
    "duration": 69,
    "start_time": "2024-12-14T21:17:13.859Z"
   },
   {
    "duration": 78,
    "start_time": "2024-12-14T21:17:13.930Z"
   },
   {
    "duration": 15,
    "start_time": "2024-12-14T21:17:14.009Z"
   },
   {
    "duration": 2788,
    "start_time": "2024-12-14T21:17:14.026Z"
   },
   {
    "duration": 15,
    "start_time": "2024-12-14T21:17:16.816Z"
   },
   {
    "duration": 28,
    "start_time": "2024-12-14T21:17:16.833Z"
   },
   {
    "duration": 13,
    "start_time": "2024-12-14T21:17:16.863Z"
   },
   {
    "duration": 62,
    "start_time": "2024-12-14T21:17:16.905Z"
   },
   {
    "duration": 324,
    "start_time": "2024-12-14T21:17:16.969Z"
   },
   {
    "duration": 577,
    "start_time": "2024-12-14T21:17:17.295Z"
   },
   {
    "duration": 1167,
    "start_time": "2024-12-14T21:17:17.875Z"
   },
   {
    "duration": 3,
    "start_time": "2024-12-14T21:17:19.045Z"
   },
   {
    "duration": 89,
    "start_time": "2024-12-14T21:17:19.050Z"
   },
   {
    "duration": 47,
    "start_time": "2024-12-14T21:17:19.141Z"
   },
   {
    "duration": 9,
    "start_time": "2024-12-14T21:20:45.326Z"
   },
   {
    "duration": 14,
    "start_time": "2024-12-14T21:21:01.653Z"
   },
   {
    "duration": 17,
    "start_time": "2024-12-14T21:21:38.230Z"
   },
   {
    "duration": 865,
    "start_time": "2024-12-14T21:22:21.520Z"
   },
   {
    "duration": 410,
    "start_time": "2024-12-14T21:22:22.387Z"
   },
   {
    "duration": 92,
    "start_time": "2024-12-14T21:22:22.799Z"
   },
   {
    "duration": 102,
    "start_time": "2024-12-14T21:22:22.893Z"
   },
   {
    "duration": 59,
    "start_time": "2024-12-14T21:22:22.999Z"
   },
   {
    "duration": 3,
    "start_time": "2024-12-14T21:22:23.060Z"
   },
   {
    "duration": 475,
    "start_time": "2024-12-14T21:22:23.065Z"
   },
   {
    "duration": 3,
    "start_time": "2024-12-14T21:22:23.541Z"
   },
   {
    "duration": 11,
    "start_time": "2024-12-14T21:22:23.546Z"
   },
   {
    "duration": 23,
    "start_time": "2024-12-14T21:22:23.559Z"
   },
   {
    "duration": 25,
    "start_time": "2024-12-14T21:22:23.584Z"
   },
   {
    "duration": 10,
    "start_time": "2024-12-14T21:22:23.611Z"
   },
   {
    "duration": 6,
    "start_time": "2024-12-14T21:22:23.622Z"
   },
   {
    "duration": 36,
    "start_time": "2024-12-14T21:22:23.632Z"
   },
   {
    "duration": 53,
    "start_time": "2024-12-14T21:22:23.670Z"
   },
   {
    "duration": 129,
    "start_time": "2024-12-14T21:22:23.725Z"
   },
   {
    "duration": 50,
    "start_time": "2024-12-14T21:22:23.856Z"
   },
   {
    "duration": 690,
    "start_time": "2024-12-14T21:22:23.908Z"
   },
   {
    "duration": 19,
    "start_time": "2024-12-14T21:22:24.600Z"
   },
   {
    "duration": 35,
    "start_time": "2024-12-14T21:22:24.622Z"
   },
   {
    "duration": 15,
    "start_time": "2024-12-14T21:22:24.659Z"
   },
   {
    "duration": 31,
    "start_time": "2024-12-14T21:22:24.675Z"
   },
   {
    "duration": 2535,
    "start_time": "2024-12-14T21:22:24.707Z"
   },
   {
    "duration": 209,
    "start_time": "2024-12-14T21:22:27.244Z"
   },
   {
    "duration": 66,
    "start_time": "2024-12-14T21:22:27.455Z"
   },
   {
    "duration": 9,
    "start_time": "2024-12-14T21:22:27.523Z"
   },
   {
    "duration": 2333,
    "start_time": "2024-12-14T21:22:27.534Z"
   },
   {
    "duration": 69,
    "start_time": "2024-12-14T21:22:29.869Z"
   },
   {
    "duration": 204,
    "start_time": "2024-12-14T21:22:29.939Z"
   },
   {
    "duration": 32,
    "start_time": "2024-12-14T21:22:30.145Z"
   },
   {
    "duration": 85,
    "start_time": "2024-12-14T21:22:30.179Z"
   },
   {
    "duration": 13,
    "start_time": "2024-12-14T21:22:30.266Z"
   },
   {
    "duration": 2938,
    "start_time": "2024-12-14T21:22:30.281Z"
   },
   {
    "duration": 14,
    "start_time": "2024-12-14T21:22:33.221Z"
   },
   {
    "duration": 28,
    "start_time": "2024-12-14T21:22:33.237Z"
   },
   {
    "duration": 14,
    "start_time": "2024-12-14T21:22:33.266Z"
   },
   {
    "duration": 83,
    "start_time": "2024-12-14T21:22:33.281Z"
   },
   {
    "duration": 331,
    "start_time": "2024-12-14T21:22:33.366Z"
   },
   {
    "duration": 580,
    "start_time": "2024-12-14T21:22:33.699Z"
   },
   {
    "duration": 31,
    "start_time": "2024-12-14T21:22:34.280Z"
   },
   {
    "duration": 1200,
    "start_time": "2024-12-14T21:22:34.317Z"
   },
   {
    "duration": 3,
    "start_time": "2024-12-14T21:22:35.519Z"
   },
   {
    "duration": 89,
    "start_time": "2024-12-14T21:22:35.525Z"
   },
   {
    "duration": 48,
    "start_time": "2024-12-14T21:22:35.615Z"
   },
   {
    "duration": 849,
    "start_time": "2024-12-14T21:23:29.142Z"
   },
   {
    "duration": 417,
    "start_time": "2024-12-14T21:23:29.994Z"
   },
   {
    "duration": 96,
    "start_time": "2024-12-14T21:23:30.412Z"
   },
   {
    "duration": 96,
    "start_time": "2024-12-14T21:23:30.510Z"
   },
   {
    "duration": 56,
    "start_time": "2024-12-14T21:23:30.608Z"
   },
   {
    "duration": 4,
    "start_time": "2024-12-14T21:23:30.665Z"
   },
   {
    "duration": 461,
    "start_time": "2024-12-14T21:23:30.671Z"
   },
   {
    "duration": 3,
    "start_time": "2024-12-14T21:23:31.134Z"
   },
   {
    "duration": 11,
    "start_time": "2024-12-14T21:23:31.139Z"
   },
   {
    "duration": 22,
    "start_time": "2024-12-14T21:23:31.152Z"
   },
   {
    "duration": 29,
    "start_time": "2024-12-14T21:23:31.176Z"
   },
   {
    "duration": 11,
    "start_time": "2024-12-14T21:23:31.207Z"
   },
   {
    "duration": 6,
    "start_time": "2024-12-14T21:23:31.220Z"
   },
   {
    "duration": 48,
    "start_time": "2024-12-14T21:23:31.230Z"
   },
   {
    "duration": 49,
    "start_time": "2024-12-14T21:23:31.280Z"
   },
   {
    "duration": 94,
    "start_time": "2024-12-14T21:23:31.331Z"
   },
   {
    "duration": 46,
    "start_time": "2024-12-14T21:23:31.427Z"
   },
   {
    "duration": 689,
    "start_time": "2024-12-14T21:23:31.475Z"
   },
   {
    "duration": 14,
    "start_time": "2024-12-14T21:23:32.166Z"
   },
   {
    "duration": 44,
    "start_time": "2024-12-14T21:23:32.182Z"
   },
   {
    "duration": 14,
    "start_time": "2024-12-14T21:23:32.228Z"
   },
   {
    "duration": 14,
    "start_time": "2024-12-14T21:23:32.243Z"
   },
   {
    "duration": 2633,
    "start_time": "2024-12-14T21:23:32.259Z"
   },
   {
    "duration": 243,
    "start_time": "2024-12-14T21:23:34.894Z"
   },
   {
    "duration": 67,
    "start_time": "2024-12-14T21:23:35.139Z"
   },
   {
    "duration": 10,
    "start_time": "2024-12-14T21:23:35.208Z"
   },
   {
    "duration": 2371,
    "start_time": "2024-12-14T21:23:35.220Z"
   },
   {
    "duration": 63,
    "start_time": "2024-12-14T21:23:37.594Z"
   },
   {
    "duration": 192,
    "start_time": "2024-12-14T21:23:37.659Z"
   },
   {
    "duration": 54,
    "start_time": "2024-12-14T21:23:37.853Z"
   },
   {
    "duration": 66,
    "start_time": "2024-12-14T21:23:37.909Z"
   },
   {
    "duration": 30,
    "start_time": "2024-12-14T21:23:37.976Z"
   },
   {
    "duration": 2901,
    "start_time": "2024-12-14T21:23:38.008Z"
   },
   {
    "duration": 15,
    "start_time": "2024-12-14T21:23:40.911Z"
   },
   {
    "duration": 27,
    "start_time": "2024-12-14T21:23:40.928Z"
   },
   {
    "duration": 14,
    "start_time": "2024-12-14T21:23:40.956Z"
   },
   {
    "duration": 87,
    "start_time": "2024-12-14T21:23:40.971Z"
   },
   {
    "duration": 319,
    "start_time": "2024-12-14T21:23:41.060Z"
   },
   {
    "duration": 598,
    "start_time": "2024-12-14T21:23:41.381Z"
   },
   {
    "duration": 51,
    "start_time": "2024-12-14T21:23:41.980Z"
   },
   {
    "duration": 1193,
    "start_time": "2024-12-14T21:23:42.036Z"
   },
   {
    "duration": 3,
    "start_time": "2024-12-14T21:23:43.231Z"
   },
   {
    "duration": 83,
    "start_time": "2024-12-14T21:23:43.236Z"
   },
   {
    "duration": 47,
    "start_time": "2024-12-14T21:23:43.321Z"
   },
   {
    "duration": 22,
    "start_time": "2024-12-14T21:41:41.094Z"
   },
   {
    "duration": 1070,
    "start_time": "2024-12-14T21:42:51.918Z"
   },
   {
    "duration": 396,
    "start_time": "2024-12-14T21:42:52.991Z"
   },
   {
    "duration": 95,
    "start_time": "2024-12-14T21:42:53.389Z"
   },
   {
    "duration": 92,
    "start_time": "2024-12-14T21:42:53.487Z"
   },
   {
    "duration": 67,
    "start_time": "2024-12-14T21:42:53.580Z"
   },
   {
    "duration": 3,
    "start_time": "2024-12-14T21:42:53.649Z"
   },
   {
    "duration": 467,
    "start_time": "2024-12-14T21:42:53.655Z"
   },
   {
    "duration": 3,
    "start_time": "2024-12-14T21:42:54.124Z"
   },
   {
    "duration": 14,
    "start_time": "2024-12-14T21:42:54.129Z"
   },
   {
    "duration": 25,
    "start_time": "2024-12-14T21:42:54.146Z"
   },
   {
    "duration": 6,
    "start_time": "2024-12-14T21:42:54.173Z"
   },
   {
    "duration": 11,
    "start_time": "2024-12-14T21:42:54.205Z"
   },
   {
    "duration": 5,
    "start_time": "2024-12-14T21:42:54.218Z"
   },
   {
    "duration": 36,
    "start_time": "2024-12-14T21:42:54.224Z"
   },
   {
    "duration": 51,
    "start_time": "2024-12-14T21:42:54.262Z"
   },
   {
    "duration": 126,
    "start_time": "2024-12-14T21:42:54.314Z"
   },
   {
    "duration": 46,
    "start_time": "2024-12-14T21:42:54.442Z"
   },
   {
    "duration": 703,
    "start_time": "2024-12-14T21:42:54.490Z"
   },
   {
    "duration": 15,
    "start_time": "2024-12-14T21:42:55.195Z"
   },
   {
    "duration": 39,
    "start_time": "2024-12-14T21:42:55.213Z"
   },
   {
    "duration": 14,
    "start_time": "2024-12-14T21:42:55.254Z"
   },
   {
    "duration": 37,
    "start_time": "2024-12-14T21:42:55.269Z"
   },
   {
    "duration": 2552,
    "start_time": "2024-12-14T21:42:55.307Z"
   },
   {
    "duration": 207,
    "start_time": "2024-12-14T21:42:57.860Z"
   },
   {
    "duration": 90,
    "start_time": "2024-12-14T21:42:58.069Z"
   },
   {
    "duration": 9,
    "start_time": "2024-12-14T21:42:58.161Z"
   },
   {
    "duration": 2458,
    "start_time": "2024-12-14T21:42:58.171Z"
   },
   {
    "duration": 58,
    "start_time": "2024-12-14T21:43:00.634Z"
   },
   {
    "duration": 224,
    "start_time": "2024-12-14T21:43:00.706Z"
   },
   {
    "duration": 33,
    "start_time": "2024-12-14T21:43:00.932Z"
   },
   {
    "duration": 91,
    "start_time": "2024-12-14T21:43:00.966Z"
   },
   {
    "duration": 14,
    "start_time": "2024-12-14T21:43:01.058Z"
   },
   {
    "duration": 2911,
    "start_time": "2024-12-14T21:43:01.074Z"
   },
   {
    "duration": 20,
    "start_time": "2024-12-14T21:43:03.987Z"
   },
   {
    "duration": 28,
    "start_time": "2024-12-14T21:43:04.009Z"
   },
   {
    "duration": 15,
    "start_time": "2024-12-14T21:43:04.039Z"
   },
   {
    "duration": 89,
    "start_time": "2024-12-14T21:43:04.055Z"
   },
   {
    "duration": 1150,
    "start_time": "2024-12-14T21:43:04.146Z"
   },
   {
    "duration": 208,
    "start_time": "2024-12-14T21:43:05.298Z"
   },
   {
    "duration": 551,
    "start_time": "2024-12-14T21:43:05.508Z"
   },
   {
    "duration": 52,
    "start_time": "2024-12-14T21:43:06.060Z"
   },
   {
    "duration": 4,
    "start_time": "2024-12-14T21:43:06.114Z"
   },
   {
    "duration": 86,
    "start_time": "2024-12-14T21:43:06.119Z"
   },
   {
    "duration": 38,
    "start_time": "2024-12-14T21:43:06.207Z"
   },
   {
    "duration": 107,
    "start_time": "2024-12-14T21:43:54.452Z"
   },
   {
    "duration": 47,
    "start_time": "2024-12-14T21:44:52.135Z"
   },
   {
    "duration": 34,
    "start_time": "2024-12-14T21:45:00.361Z"
   },
   {
    "duration": 35,
    "start_time": "2024-12-14T21:57:23.789Z"
   },
   {
    "duration": 64,
    "start_time": "2024-12-14T21:57:43.802Z"
   },
   {
    "duration": 223,
    "start_time": "2024-12-14T22:02:18.576Z"
   },
   {
    "duration": 13,
    "start_time": "2024-12-14T22:02:33.535Z"
   },
   {
    "duration": 1308,
    "start_time": "2024-12-14T22:02:59.502Z"
   },
   {
    "duration": 402,
    "start_time": "2024-12-14T22:03:00.812Z"
   },
   {
    "duration": 110,
    "start_time": "2024-12-14T22:03:01.216Z"
   },
   {
    "duration": 98,
    "start_time": "2024-12-14T22:03:01.328Z"
   },
   {
    "duration": 60,
    "start_time": "2024-12-14T22:03:01.427Z"
   },
   {
    "duration": 17,
    "start_time": "2024-12-14T22:03:01.489Z"
   },
   {
    "duration": 506,
    "start_time": "2024-12-14T22:03:01.508Z"
   },
   {
    "duration": 3,
    "start_time": "2024-12-14T22:03:02.016Z"
   },
   {
    "duration": 11,
    "start_time": "2024-12-14T22:03:02.021Z"
   },
   {
    "duration": 20,
    "start_time": "2024-12-14T22:03:02.035Z"
   },
   {
    "duration": 6,
    "start_time": "2024-12-14T22:03:02.057Z"
   },
   {
    "duration": 10,
    "start_time": "2024-12-14T22:03:02.065Z"
   },
   {
    "duration": 5,
    "start_time": "2024-12-14T22:03:02.106Z"
   },
   {
    "duration": 37,
    "start_time": "2024-12-14T22:03:02.113Z"
   },
   {
    "duration": 30,
    "start_time": "2024-12-14T22:03:02.152Z"
   },
   {
    "duration": 90,
    "start_time": "2024-12-14T22:03:02.205Z"
   },
   {
    "duration": 50,
    "start_time": "2024-12-14T22:03:02.297Z"
   },
   {
    "duration": 741,
    "start_time": "2024-12-14T22:03:02.348Z"
   },
   {
    "duration": 20,
    "start_time": "2024-12-14T22:03:03.091Z"
   },
   {
    "duration": 37,
    "start_time": "2024-12-14T22:03:03.114Z"
   },
   {
    "duration": 14,
    "start_time": "2024-12-14T22:03:03.154Z"
   },
   {
    "duration": 36,
    "start_time": "2024-12-14T22:03:03.169Z"
   },
   {
    "duration": 2527,
    "start_time": "2024-12-14T22:03:03.207Z"
   },
   {
    "duration": 210,
    "start_time": "2024-12-14T22:03:05.736Z"
   },
   {
    "duration": 67,
    "start_time": "2024-12-14T22:03:05.948Z"
   },
   {
    "duration": 10,
    "start_time": "2024-12-14T22:03:06.017Z"
   },
   {
    "duration": 2386,
    "start_time": "2024-12-14T22:03:06.029Z"
   },
   {
    "duration": 60,
    "start_time": "2024-12-14T22:03:08.420Z"
   },
   {
    "duration": 243,
    "start_time": "2024-12-14T22:03:08.481Z"
   },
   {
    "duration": 33,
    "start_time": "2024-12-14T22:03:08.726Z"
   },
   {
    "duration": 84,
    "start_time": "2024-12-14T22:03:08.761Z"
   },
   {
    "duration": 14,
    "start_time": "2024-12-14T22:03:08.847Z"
   },
   {
    "duration": 2824,
    "start_time": "2024-12-14T22:03:08.862Z"
   },
   {
    "duration": 21,
    "start_time": "2024-12-14T22:03:11.688Z"
   },
   {
    "duration": 28,
    "start_time": "2024-12-14T22:03:11.711Z"
   },
   {
    "duration": 14,
    "start_time": "2024-12-14T22:03:11.741Z"
   },
   {
    "duration": 86,
    "start_time": "2024-12-14T22:03:11.756Z"
   },
   {
    "duration": 1171,
    "start_time": "2024-12-14T22:03:11.844Z"
   },
   {
    "duration": 205,
    "start_time": "2024-12-14T22:03:13.016Z"
   },
   {
    "duration": 559,
    "start_time": "2024-12-14T22:03:13.223Z"
   },
   {
    "duration": 51,
    "start_time": "2024-12-14T22:03:13.784Z"
   },
   {
    "duration": 3,
    "start_time": "2024-12-14T22:03:13.837Z"
   },
   {
    "duration": 40,
    "start_time": "2024-12-14T22:03:13.842Z"
   },
   {
    "duration": 247,
    "start_time": "2024-12-14T22:03:13.884Z"
   },
   {
    "duration": 0,
    "start_time": "2024-12-14T22:03:14.132Z"
   },
   {
    "duration": 2,
    "start_time": "2024-12-14T22:03:38.199Z"
   },
   {
    "duration": 34,
    "start_time": "2024-12-14T22:06:16.194Z"
   },
   {
    "duration": 60,
    "start_time": "2024-12-14T22:07:43.450Z"
   },
   {
    "duration": 14,
    "start_time": "2024-12-14T22:19:42.397Z"
   },
   {
    "duration": 133,
    "start_time": "2024-12-14T22:20:12.281Z"
   },
   {
    "duration": 124,
    "start_time": "2024-12-14T22:20:19.984Z"
   },
   {
    "duration": 42,
    "start_time": "2024-12-14T22:20:27.814Z"
   },
   {
    "duration": 60,
    "start_time": "2024-12-14T22:20:38.052Z"
   },
   {
    "duration": 34,
    "start_time": "2024-12-14T22:22:24.069Z"
   },
   {
    "duration": 37,
    "start_time": "2024-12-14T22:25:00.608Z"
   },
   {
    "duration": 140,
    "start_time": "2024-12-14T22:25:16.166Z"
   },
   {
    "duration": 37,
    "start_time": "2024-12-14T22:25:20.573Z"
   },
   {
    "duration": 7,
    "start_time": "2024-12-14T22:36:31.015Z"
   },
   {
    "duration": 86,
    "start_time": "2024-12-14T22:37:07.046Z"
   },
   {
    "duration": 1090,
    "start_time": "2024-12-14T22:37:34.171Z"
   },
   {
    "duration": 1055,
    "start_time": "2024-12-14T22:41:13.727Z"
   },
   {
    "duration": 403,
    "start_time": "2024-12-14T22:41:14.784Z"
   },
   {
    "duration": 99,
    "start_time": "2024-12-14T22:41:15.189Z"
   },
   {
    "duration": 92,
    "start_time": "2024-12-14T22:41:15.291Z"
   },
   {
    "duration": 68,
    "start_time": "2024-12-14T22:41:15.385Z"
   },
   {
    "duration": 3,
    "start_time": "2024-12-14T22:41:15.455Z"
   },
   {
    "duration": 457,
    "start_time": "2024-12-14T22:41:15.459Z"
   },
   {
    "duration": 3,
    "start_time": "2024-12-14T22:41:15.917Z"
   },
   {
    "duration": 11,
    "start_time": "2024-12-14T22:41:15.922Z"
   },
   {
    "duration": 21,
    "start_time": "2024-12-14T22:41:15.936Z"
   },
   {
    "duration": 6,
    "start_time": "2024-12-14T22:41:15.959Z"
   },
   {
    "duration": 38,
    "start_time": "2024-12-14T22:41:15.968Z"
   },
   {
    "duration": 5,
    "start_time": "2024-12-14T22:41:16.007Z"
   },
   {
    "duration": 36,
    "start_time": "2024-12-14T22:41:16.014Z"
   },
   {
    "duration": 29,
    "start_time": "2024-12-14T22:41:16.052Z"
   },
   {
    "duration": 39,
    "start_time": "2024-12-14T22:41:16.083Z"
   },
   {
    "duration": 44,
    "start_time": "2024-12-14T22:41:16.124Z"
   },
   {
    "duration": 672,
    "start_time": "2024-12-14T22:41:16.170Z"
   },
   {
    "duration": 14,
    "start_time": "2024-12-14T22:41:16.843Z"
   },
   {
    "duration": 51,
    "start_time": "2024-12-14T22:41:16.859Z"
   },
   {
    "duration": 14,
    "start_time": "2024-12-14T22:41:16.911Z"
   },
   {
    "duration": 13,
    "start_time": "2024-12-14T22:41:16.926Z"
   },
   {
    "duration": 2548,
    "start_time": "2024-12-14T22:41:16.941Z"
   },
   {
    "duration": 246,
    "start_time": "2024-12-14T22:41:19.491Z"
   },
   {
    "duration": 68,
    "start_time": "2024-12-14T22:41:19.738Z"
   },
   {
    "duration": 8,
    "start_time": "2024-12-14T22:41:19.808Z"
   },
   {
    "duration": 2352,
    "start_time": "2024-12-14T22:41:19.818Z"
   },
   {
    "duration": 67,
    "start_time": "2024-12-14T22:41:22.175Z"
   },
   {
    "duration": 201,
    "start_time": "2024-12-14T22:41:22.244Z"
   },
   {
    "duration": 37,
    "start_time": "2024-12-14T22:41:22.447Z"
   },
   {
    "duration": 92,
    "start_time": "2024-12-14T22:41:22.486Z"
   },
   {
    "duration": 27,
    "start_time": "2024-12-14T22:41:22.579Z"
   },
   {
    "duration": 2828,
    "start_time": "2024-12-14T22:41:22.608Z"
   },
   {
    "duration": 14,
    "start_time": "2024-12-14T22:41:25.438Z"
   },
   {
    "duration": 28,
    "start_time": "2024-12-14T22:41:25.454Z"
   },
   {
    "duration": 35,
    "start_time": "2024-12-14T22:41:25.484Z"
   },
   {
    "duration": 63,
    "start_time": "2024-12-14T22:41:25.521Z"
   },
   {
    "duration": 1125,
    "start_time": "2024-12-14T22:41:25.586Z"
   },
   {
    "duration": 202,
    "start_time": "2024-12-14T22:41:26.721Z"
   },
   {
    "duration": 549,
    "start_time": "2024-12-14T22:41:26.924Z"
   },
   {
    "duration": 45,
    "start_time": "2024-12-14T22:41:27.475Z"
   },
   {
    "duration": 3,
    "start_time": "2024-12-14T22:41:27.522Z"
   },
   {
    "duration": 43,
    "start_time": "2024-12-14T22:41:27.526Z"
   },
   {
    "duration": 1016,
    "start_time": "2024-12-14T22:44:23.589Z"
   },
   {
    "duration": 402,
    "start_time": "2024-12-14T22:44:24.607Z"
   },
   {
    "duration": 96,
    "start_time": "2024-12-14T22:44:25.011Z"
   },
   {
    "duration": 96,
    "start_time": "2024-12-14T22:44:25.109Z"
   },
   {
    "duration": 58,
    "start_time": "2024-12-14T22:44:25.207Z"
   },
   {
    "duration": 3,
    "start_time": "2024-12-14T22:44:25.267Z"
   },
   {
    "duration": 483,
    "start_time": "2024-12-14T22:44:25.272Z"
   },
   {
    "duration": 3,
    "start_time": "2024-12-14T22:44:25.757Z"
   },
   {
    "duration": 11,
    "start_time": "2024-12-14T22:44:25.762Z"
   },
   {
    "duration": 38,
    "start_time": "2024-12-14T22:44:25.777Z"
   },
   {
    "duration": 7,
    "start_time": "2024-12-14T22:44:25.817Z"
   },
   {
    "duration": 10,
    "start_time": "2024-12-14T22:44:25.825Z"
   },
   {
    "duration": 6,
    "start_time": "2024-12-14T22:44:25.836Z"
   },
   {
    "duration": 62,
    "start_time": "2024-12-14T22:44:25.843Z"
   },
   {
    "duration": 31,
    "start_time": "2024-12-14T22:44:25.906Z"
   },
   {
    "duration": 22,
    "start_time": "2024-12-14T22:44:25.939Z"
   },
   {
    "duration": 61,
    "start_time": "2024-12-14T22:44:25.962Z"
   },
   {
    "duration": 676,
    "start_time": "2024-12-14T22:44:26.025Z"
   },
   {
    "duration": 14,
    "start_time": "2024-12-14T22:44:26.706Z"
   },
   {
    "duration": 36,
    "start_time": "2024-12-14T22:44:26.723Z"
   },
   {
    "duration": 15,
    "start_time": "2024-12-14T22:44:26.760Z"
   },
   {
    "duration": 31,
    "start_time": "2024-12-14T22:44:26.777Z"
   },
   {
    "duration": 2538,
    "start_time": "2024-12-14T22:44:26.810Z"
   },
   {
    "duration": 205,
    "start_time": "2024-12-14T22:44:29.350Z"
   },
   {
    "duration": 80,
    "start_time": "2024-12-14T22:44:29.556Z"
   },
   {
    "duration": 9,
    "start_time": "2024-12-14T22:44:29.638Z"
   },
   {
    "duration": 2457,
    "start_time": "2024-12-14T22:44:29.649Z"
   },
   {
    "duration": 59,
    "start_time": "2024-12-14T22:44:32.110Z"
   },
   {
    "duration": 178,
    "start_time": "2024-12-14T22:44:32.171Z"
   },
   {
    "duration": 93,
    "start_time": "2024-12-14T22:44:32.351Z"
   },
   {
    "duration": 77,
    "start_time": "2024-12-14T22:44:32.446Z"
   },
   {
    "duration": 14,
    "start_time": "2024-12-14T22:44:32.524Z"
   },
   {
    "duration": 2829,
    "start_time": "2024-12-14T22:44:32.539Z"
   },
   {
    "duration": 14,
    "start_time": "2024-12-14T22:44:35.369Z"
   },
   {
    "duration": 41,
    "start_time": "2024-12-14T22:44:35.385Z"
   },
   {
    "duration": 13,
    "start_time": "2024-12-14T22:44:35.428Z"
   },
   {
    "duration": 82,
    "start_time": "2024-12-14T22:44:35.443Z"
   },
   {
    "duration": 1169,
    "start_time": "2024-12-14T22:44:35.527Z"
   },
   {
    "duration": 199,
    "start_time": "2024-12-14T22:44:36.698Z"
   },
   {
    "duration": 554,
    "start_time": "2024-12-14T22:44:36.898Z"
   },
   {
    "duration": 43,
    "start_time": "2024-12-14T22:44:37.453Z"
   },
   {
    "duration": 4,
    "start_time": "2024-12-14T22:44:37.506Z"
   },
   {
    "duration": 41,
    "start_time": "2024-12-14T22:44:37.511Z"
   },
   {
    "duration": 101618,
    "start_time": "2024-12-14T22:44:37.554Z"
   },
   {
    "duration": 540,
    "start_time": "2024-12-14T22:48:13.938Z"
   },
   {
    "duration": 102855,
    "start_time": "2024-12-14T22:48:20.013Z"
   },
   {
    "duration": 101297,
    "start_time": "2024-12-14T22:50:26.062Z"
   },
   {
    "duration": 6,
    "start_time": "2024-12-14T22:55:09.759Z"
   },
   {
    "duration": 101044,
    "start_time": "2024-12-14T22:55:27.013Z"
   },
   {
    "duration": 101253,
    "start_time": "2024-12-14T22:58:46.256Z"
   },
   {
    "duration": 1043,
    "start_time": "2024-12-14T23:10:33.061Z"
   },
   {
    "duration": 402,
    "start_time": "2024-12-14T23:10:34.106Z"
   },
   {
    "duration": 100,
    "start_time": "2024-12-14T23:10:34.510Z"
   },
   {
    "duration": 95,
    "start_time": "2024-12-14T23:10:34.612Z"
   },
   {
    "duration": 58,
    "start_time": "2024-12-14T23:10:34.708Z"
   },
   {
    "duration": 3,
    "start_time": "2024-12-14T23:10:34.768Z"
   },
   {
    "duration": 495,
    "start_time": "2024-12-14T23:10:34.773Z"
   },
   {
    "duration": 3,
    "start_time": "2024-12-14T23:10:35.270Z"
   },
   {
    "duration": 12,
    "start_time": "2024-12-14T23:10:35.275Z"
   },
   {
    "duration": 34,
    "start_time": "2024-12-14T23:10:35.290Z"
   },
   {
    "duration": 6,
    "start_time": "2024-12-14T23:10:35.326Z"
   },
   {
    "duration": 11,
    "start_time": "2024-12-14T23:10:35.334Z"
   },
   {
    "duration": 6,
    "start_time": "2024-12-14T23:10:35.347Z"
   },
   {
    "duration": 66,
    "start_time": "2024-12-14T23:10:35.354Z"
   },
   {
    "duration": 30,
    "start_time": "2024-12-14T23:10:35.422Z"
   },
   {
    "duration": 99,
    "start_time": "2024-12-14T23:10:35.453Z"
   },
   {
    "duration": 53,
    "start_time": "2024-12-14T23:10:35.554Z"
   },
   {
    "duration": 666,
    "start_time": "2024-12-14T23:10:35.609Z"
   },
   {
    "duration": 15,
    "start_time": "2024-12-14T23:10:36.277Z"
   },
   {
    "duration": 36,
    "start_time": "2024-12-14T23:10:36.305Z"
   },
   {
    "duration": 14,
    "start_time": "2024-12-14T23:10:36.342Z"
   },
   {
    "duration": 13,
    "start_time": "2024-12-14T23:10:36.357Z"
   },
   {
    "duration": 2585,
    "start_time": "2024-12-14T23:10:36.372Z"
   },
   {
    "duration": 201,
    "start_time": "2024-12-14T23:10:38.959Z"
   },
   {
    "duration": 92,
    "start_time": "2024-12-14T23:10:39.163Z"
   },
   {
    "duration": 10,
    "start_time": "2024-12-14T23:10:39.257Z"
   },
   {
    "duration": 2392,
    "start_time": "2024-12-14T23:10:39.269Z"
   },
   {
    "duration": 69,
    "start_time": "2024-12-14T23:10:41.664Z"
   },
   {
    "duration": 199,
    "start_time": "2024-12-14T23:10:41.736Z"
   },
   {
    "duration": 32,
    "start_time": "2024-12-14T23:10:41.937Z"
   },
   {
    "duration": 79,
    "start_time": "2024-12-14T23:10:41.971Z"
   },
   {
    "duration": 14,
    "start_time": "2024-12-14T23:10:42.051Z"
   },
   {
    "duration": 2847,
    "start_time": "2024-12-14T23:10:42.066Z"
   },
   {
    "duration": 14,
    "start_time": "2024-12-14T23:10:44.914Z"
   },
   {
    "duration": 28,
    "start_time": "2024-12-14T23:10:44.930Z"
   },
   {
    "duration": 14,
    "start_time": "2024-12-14T23:10:44.960Z"
   },
   {
    "duration": 94,
    "start_time": "2024-12-14T23:10:44.975Z"
   },
   {
    "duration": 1153,
    "start_time": "2024-12-14T23:10:45.071Z"
   },
   {
    "duration": 201,
    "start_time": "2024-12-14T23:10:46.226Z"
   },
   {
    "duration": 553,
    "start_time": "2024-12-14T23:10:46.429Z"
   },
   {
    "duration": 48,
    "start_time": "2024-12-14T23:10:46.984Z"
   },
   {
    "duration": 3,
    "start_time": "2024-12-14T23:10:47.034Z"
   },
   {
    "duration": 43,
    "start_time": "2024-12-14T23:10:47.039Z"
   },
   {
    "duration": 176955,
    "start_time": "2024-12-14T23:10:47.084Z"
   },
   {
    "duration": 166544,
    "start_time": "2024-12-14T23:16:55.468Z"
   },
   {
    "duration": 1053,
    "start_time": "2024-12-14T23:31:29.515Z"
   },
   {
    "duration": 402,
    "start_time": "2024-12-14T23:31:30.570Z"
   },
   {
    "duration": 101,
    "start_time": "2024-12-14T23:31:30.974Z"
   },
   {
    "duration": 102,
    "start_time": "2024-12-14T23:31:31.079Z"
   },
   {
    "duration": 69,
    "start_time": "2024-12-14T23:31:31.183Z"
   },
   {
    "duration": 4,
    "start_time": "2024-12-14T23:31:31.255Z"
   },
   {
    "duration": 527,
    "start_time": "2024-12-14T23:31:31.262Z"
   },
   {
    "duration": 14,
    "start_time": "2024-12-14T23:31:31.791Z"
   },
   {
    "duration": 12,
    "start_time": "2024-12-14T23:31:31.806Z"
   },
   {
    "duration": 22,
    "start_time": "2024-12-14T23:31:31.822Z"
   },
   {
    "duration": 6,
    "start_time": "2024-12-14T23:31:31.846Z"
   },
   {
    "duration": 9,
    "start_time": "2024-12-14T23:31:31.854Z"
   },
   {
    "duration": 5,
    "start_time": "2024-12-14T23:31:31.865Z"
   },
   {
    "duration": 74,
    "start_time": "2024-12-14T23:31:31.871Z"
   },
   {
    "duration": 31,
    "start_time": "2024-12-14T23:31:31.949Z"
   },
   {
    "duration": 100,
    "start_time": "2024-12-14T23:31:31.982Z"
   },
   {
    "duration": 51,
    "start_time": "2024-12-14T23:31:32.085Z"
   },
   {
    "duration": 704,
    "start_time": "2024-12-14T23:31:32.137Z"
   },
   {
    "duration": 15,
    "start_time": "2024-12-14T23:31:32.842Z"
   },
   {
    "duration": 48,
    "start_time": "2024-12-14T23:31:32.859Z"
   },
   {
    "duration": 16,
    "start_time": "2024-12-14T23:31:32.908Z"
   },
   {
    "duration": 14,
    "start_time": "2024-12-14T23:31:32.925Z"
   },
   {
    "duration": 2634,
    "start_time": "2024-12-14T23:31:32.941Z"
   },
   {
    "duration": 253,
    "start_time": "2024-12-14T23:31:35.577Z"
   },
   {
    "duration": 59,
    "start_time": "2024-12-14T23:31:35.832Z"
   },
   {
    "duration": 19,
    "start_time": "2024-12-14T23:31:35.893Z"
   },
   {
    "duration": 2402,
    "start_time": "2024-12-14T23:31:35.914Z"
   },
   {
    "duration": 56,
    "start_time": "2024-12-14T23:31:38.320Z"
   },
   {
    "duration": 248,
    "start_time": "2024-12-14T23:31:38.377Z"
   },
   {
    "duration": 33,
    "start_time": "2024-12-14T23:31:38.627Z"
   },
   {
    "duration": 83,
    "start_time": "2024-12-14T23:31:38.662Z"
   },
   {
    "duration": 14,
    "start_time": "2024-12-14T23:31:38.746Z"
   },
   {
    "duration": 2901,
    "start_time": "2024-12-14T23:31:38.762Z"
   },
   {
    "duration": 14,
    "start_time": "2024-12-14T23:31:41.665Z"
   },
   {
    "duration": 42,
    "start_time": "2024-12-14T23:31:41.681Z"
   },
   {
    "duration": 14,
    "start_time": "2024-12-14T23:31:41.724Z"
   },
   {
    "duration": 80,
    "start_time": "2024-12-14T23:31:41.740Z"
   },
   {
    "duration": 1203,
    "start_time": "2024-12-14T23:31:41.822Z"
   },
   {
    "duration": 204,
    "start_time": "2024-12-14T23:31:43.027Z"
   },
   {
    "duration": 558,
    "start_time": "2024-12-14T23:31:43.233Z"
   },
   {
    "duration": 51,
    "start_time": "2024-12-14T23:31:43.793Z"
   },
   {
    "duration": 3,
    "start_time": "2024-12-14T23:31:43.846Z"
   },
   {
    "duration": 55,
    "start_time": "2024-12-14T23:31:43.850Z"
   },
   {
    "duration": 10864,
    "start_time": "2024-12-14T23:36:28.342Z"
   },
   {
    "duration": 8979,
    "start_time": "2024-12-14T23:37:00.694Z"
   },
   {
    "duration": 10824,
    "start_time": "2024-12-14T23:37:59.516Z"
   },
   {
    "duration": 21695,
    "start_time": "2024-12-14T23:38:37.462Z"
   },
   {
    "duration": 32409,
    "start_time": "2024-12-14T23:39:55.507Z"
   },
   {
    "duration": 38774,
    "start_time": "2024-12-14T23:43:08.383Z"
   },
   {
    "duration": 32514,
    "start_time": "2024-12-14T23:45:08.964Z"
   },
   {
    "duration": 2656,
    "start_time": "2024-12-15T19:15:56.672Z"
   },
   {
    "duration": 458,
    "start_time": "2024-12-15T19:15:59.333Z"
   },
   {
    "duration": 95,
    "start_time": "2024-12-15T19:15:59.793Z"
   },
   {
    "duration": 91,
    "start_time": "2024-12-15T19:15:59.890Z"
   },
   {
    "duration": 95,
    "start_time": "2024-12-15T19:15:59.983Z"
   },
   {
    "duration": 3,
    "start_time": "2024-12-15T19:16:00.080Z"
   },
   {
    "duration": 498,
    "start_time": "2024-12-15T19:16:00.085Z"
   },
   {
    "duration": 3,
    "start_time": "2024-12-15T19:16:00.584Z"
   },
   {
    "duration": 12,
    "start_time": "2024-12-15T19:16:00.589Z"
   },
   {
    "duration": 40,
    "start_time": "2024-12-15T19:16:00.604Z"
   },
   {
    "duration": 11,
    "start_time": "2024-12-15T19:16:00.646Z"
   },
   {
    "duration": 12,
    "start_time": "2024-12-15T19:16:00.659Z"
   },
   {
    "duration": 5,
    "start_time": "2024-12-15T19:16:00.672Z"
   },
   {
    "duration": 37,
    "start_time": "2024-12-15T19:16:00.679Z"
   },
   {
    "duration": 35,
    "start_time": "2024-12-15T19:16:00.742Z"
   },
   {
    "duration": 20,
    "start_time": "2024-12-15T19:16:00.778Z"
   },
   {
    "duration": 63,
    "start_time": "2024-12-15T19:16:00.799Z"
   },
   {
    "duration": 683,
    "start_time": "2024-12-15T19:16:00.864Z"
   },
   {
    "duration": 18,
    "start_time": "2024-12-15T19:16:01.548Z"
   },
   {
    "duration": 44,
    "start_time": "2024-12-15T19:16:01.568Z"
   },
   {
    "duration": 33,
    "start_time": "2024-12-15T19:16:01.613Z"
   },
   {
    "duration": 15,
    "start_time": "2024-12-15T19:16:01.648Z"
   },
   {
    "duration": 2609,
    "start_time": "2024-12-15T19:16:01.664Z"
   },
   {
    "duration": 220,
    "start_time": "2024-12-15T19:16:04.274Z"
   },
   {
    "duration": 74,
    "start_time": "2024-12-15T19:16:04.495Z"
   },
   {
    "duration": 17,
    "start_time": "2024-12-15T19:16:04.570Z"
   },
   {
    "duration": 2335,
    "start_time": "2024-12-15T19:16:04.588Z"
   },
   {
    "duration": 66,
    "start_time": "2024-12-15T19:16:06.928Z"
   },
   {
    "duration": 181,
    "start_time": "2024-12-15T19:16:06.996Z"
   },
   {
    "duration": 32,
    "start_time": "2024-12-15T19:16:07.179Z"
   },
   {
    "duration": 88,
    "start_time": "2024-12-15T19:16:07.213Z"
   },
   {
    "duration": 13,
    "start_time": "2024-12-15T19:16:07.303Z"
   },
   {
    "duration": 2818,
    "start_time": "2024-12-15T19:16:07.318Z"
   },
   {
    "duration": 14,
    "start_time": "2024-12-15T19:16:10.138Z"
   },
   {
    "duration": 27,
    "start_time": "2024-12-15T19:16:10.154Z"
   },
   {
    "duration": 13,
    "start_time": "2024-12-15T19:16:10.183Z"
   },
   {
    "duration": 93,
    "start_time": "2024-12-15T19:16:10.198Z"
   },
   {
    "duration": 1165,
    "start_time": "2024-12-15T19:16:10.293Z"
   },
   {
    "duration": 251,
    "start_time": "2024-12-15T19:16:11.460Z"
   },
   {
    "duration": 557,
    "start_time": "2024-12-15T19:16:11.713Z"
   },
   {
    "duration": 43,
    "start_time": "2024-12-15T19:16:12.272Z"
   },
   {
    "duration": 4,
    "start_time": "2024-12-15T19:16:12.317Z"
   },
   {
    "duration": 61,
    "start_time": "2024-12-15T19:16:12.322Z"
   },
   {
    "duration": 32569,
    "start_time": "2024-12-15T19:16:12.385Z"
   },
   {
    "duration": 230,
    "start_time": "2024-12-15T19:21:20.230Z"
   },
   {
    "duration": 276,
    "start_time": "2024-12-15T19:26:35.134Z"
   },
   {
    "duration": 193,
    "start_time": "2024-12-15T19:28:41.077Z"
   },
   {
    "duration": 15,
    "start_time": "2024-12-15T19:29:16.572Z"
   },
   {
    "duration": 209,
    "start_time": "2024-12-15T19:29:20.900Z"
   },
   {
    "duration": 30487,
    "start_time": "2024-12-15T19:29:22.394Z"
   },
   {
    "duration": 1028,
    "start_time": "2024-12-15T19:30:33.215Z"
   },
   {
    "duration": 31904,
    "start_time": "2024-12-15T19:31:09.870Z"
   },
   {
    "duration": 35826,
    "start_time": "2024-12-15T19:32:10.840Z"
   },
   {
    "duration": 31056,
    "start_time": "2024-12-15T19:33:02.511Z"
   },
   {
    "duration": 32919,
    "start_time": "2024-12-15T19:33:45.024Z"
   },
   {
    "duration": 31868,
    "start_time": "2024-12-15T19:34:50.971Z"
   },
   {
    "duration": 32135,
    "start_time": "2024-12-15T19:40:20.918Z"
   },
   {
    "duration": 33478,
    "start_time": "2024-12-15T19:43:52.009Z"
   },
   {
    "duration": 33457,
    "start_time": "2024-12-15T19:47:47.973Z"
   },
   {
    "duration": 28136,
    "start_time": "2024-12-15T19:48:54.310Z"
   },
   {
    "duration": 31627,
    "start_time": "2024-12-15T19:49:46.507Z"
   },
   {
    "duration": 24627,
    "start_time": "2024-12-15T19:51:32.026Z"
   },
   {
    "duration": 10659,
    "start_time": "2024-12-15T19:52:33.465Z"
   },
   {
    "duration": 3535,
    "start_time": "2024-12-15T19:53:19.299Z"
   },
   {
    "duration": 3904,
    "start_time": "2024-12-15T19:53:30.978Z"
   },
   {
    "duration": 708,
    "start_time": "2024-12-15T19:53:43.914Z"
   },
   {
    "duration": 1074,
    "start_time": "2024-12-15T19:54:29.881Z"
   },
   {
    "duration": 1023,
    "start_time": "2024-12-15T19:58:38.300Z"
   },
   {
    "duration": 402,
    "start_time": "2024-12-15T19:58:39.325Z"
   },
   {
    "duration": 91,
    "start_time": "2024-12-15T19:58:39.729Z"
   },
   {
    "duration": 99,
    "start_time": "2024-12-15T19:58:39.822Z"
   },
   {
    "duration": 66,
    "start_time": "2024-12-15T19:58:39.923Z"
   },
   {
    "duration": 3,
    "start_time": "2024-12-15T19:58:39.991Z"
   },
   {
    "duration": 506,
    "start_time": "2024-12-15T19:58:39.996Z"
   },
   {
    "duration": 3,
    "start_time": "2024-12-15T19:58:40.507Z"
   },
   {
    "duration": 13,
    "start_time": "2024-12-15T19:58:40.511Z"
   },
   {
    "duration": 32,
    "start_time": "2024-12-15T19:58:40.528Z"
   },
   {
    "duration": 6,
    "start_time": "2024-12-15T19:58:40.562Z"
   },
   {
    "duration": 11,
    "start_time": "2024-12-15T19:58:40.569Z"
   },
   {
    "duration": 5,
    "start_time": "2024-12-15T19:58:40.581Z"
   },
   {
    "duration": 68,
    "start_time": "2024-12-15T19:58:40.588Z"
   },
   {
    "duration": 30,
    "start_time": "2024-12-15T19:58:40.659Z"
   },
   {
    "duration": 174,
    "start_time": "2024-12-15T19:58:40.691Z"
   },
   {
    "duration": 45,
    "start_time": "2024-12-15T19:58:40.867Z"
   },
   {
    "duration": 710,
    "start_time": "2024-12-15T19:58:40.913Z"
   },
   {
    "duration": 21,
    "start_time": "2024-12-15T19:58:41.625Z"
   },
   {
    "duration": 37,
    "start_time": "2024-12-15T19:58:41.647Z"
   },
   {
    "duration": 14,
    "start_time": "2024-12-15T19:58:41.685Z"
   },
   {
    "duration": 13,
    "start_time": "2024-12-15T19:58:41.701Z"
   },
   {
    "duration": 2783,
    "start_time": "2024-12-15T19:58:41.742Z"
   },
   {
    "duration": 248,
    "start_time": "2024-12-15T19:58:44.528Z"
   },
   {
    "duration": 67,
    "start_time": "2024-12-15T19:58:44.777Z"
   },
   {
    "duration": 9,
    "start_time": "2024-12-15T19:58:44.845Z"
   },
   {
    "duration": 2373,
    "start_time": "2024-12-15T19:58:44.856Z"
   },
   {
    "duration": 60,
    "start_time": "2024-12-15T19:58:47.233Z"
   },
   {
    "duration": 196,
    "start_time": "2024-12-15T19:58:47.294Z"
   },
   {
    "duration": 53,
    "start_time": "2024-12-15T19:58:47.491Z"
   },
   {
    "duration": 65,
    "start_time": "2024-12-15T19:58:47.547Z"
   },
   {
    "duration": 29,
    "start_time": "2024-12-15T19:58:47.614Z"
   },
   {
    "duration": 2874,
    "start_time": "2024-12-15T19:58:47.644Z"
   },
   {
    "duration": 14,
    "start_time": "2024-12-15T19:58:50.519Z"
   },
   {
    "duration": 32,
    "start_time": "2024-12-15T19:58:50.544Z"
   },
   {
    "duration": 14,
    "start_time": "2024-12-15T19:58:50.578Z"
   },
   {
    "duration": 84,
    "start_time": "2024-12-15T19:58:50.594Z"
   },
   {
    "duration": 1146,
    "start_time": "2024-12-15T19:58:50.680Z"
   },
   {
    "duration": 201,
    "start_time": "2024-12-15T19:58:51.828Z"
   },
   {
    "duration": 546,
    "start_time": "2024-12-15T19:58:52.030Z"
   },
   {
    "duration": 42,
    "start_time": "2024-12-15T19:58:52.578Z"
   },
   {
    "duration": 3,
    "start_time": "2024-12-15T19:58:52.622Z"
   },
   {
    "duration": 56,
    "start_time": "2024-12-15T19:58:52.627Z"
   },
   {
    "duration": 1114,
    "start_time": "2024-12-15T20:35:15.459Z"
   },
   {
    "duration": 410,
    "start_time": "2024-12-15T20:35:16.575Z"
   },
   {
    "duration": 100,
    "start_time": "2024-12-15T20:35:16.987Z"
   },
   {
    "duration": 92,
    "start_time": "2024-12-15T20:35:17.090Z"
   },
   {
    "duration": 67,
    "start_time": "2024-12-15T20:35:17.184Z"
   },
   {
    "duration": 4,
    "start_time": "2024-12-15T20:35:17.252Z"
   },
   {
    "duration": 463,
    "start_time": "2024-12-15T20:35:17.257Z"
   },
   {
    "duration": 3,
    "start_time": "2024-12-15T20:35:17.722Z"
   },
   {
    "duration": 23,
    "start_time": "2024-12-15T20:35:17.727Z"
   },
   {
    "duration": 22,
    "start_time": "2024-12-15T20:35:17.754Z"
   },
   {
    "duration": 8,
    "start_time": "2024-12-15T20:35:17.777Z"
   },
   {
    "duration": 9,
    "start_time": "2024-12-15T20:35:17.786Z"
   },
   {
    "duration": 5,
    "start_time": "2024-12-15T20:35:17.796Z"
   },
   {
    "duration": 68,
    "start_time": "2024-12-15T20:35:17.803Z"
   },
   {
    "duration": 32,
    "start_time": "2024-12-15T20:35:17.875Z"
   },
   {
    "duration": 35,
    "start_time": "2024-12-15T20:35:17.908Z"
   },
   {
    "duration": 60,
    "start_time": "2024-12-15T20:35:17.945Z"
   },
   {
    "duration": 678,
    "start_time": "2024-12-15T20:35:18.007Z"
   },
   {
    "duration": 14,
    "start_time": "2024-12-15T20:35:18.686Z"
   },
   {
    "duration": 45,
    "start_time": "2024-12-15T20:35:18.702Z"
   },
   {
    "duration": 14,
    "start_time": "2024-12-15T20:35:18.748Z"
   },
   {
    "duration": 13,
    "start_time": "2024-12-15T20:35:18.764Z"
   },
   {
    "duration": 2592,
    "start_time": "2024-12-15T20:35:18.779Z"
   },
   {
    "duration": 209,
    "start_time": "2024-12-15T20:35:21.373Z"
   },
   {
    "duration": 66,
    "start_time": "2024-12-15T20:35:21.583Z"
   },
   {
    "duration": 11,
    "start_time": "2024-12-15T20:35:21.651Z"
   },
   {
    "duration": 2438,
    "start_time": "2024-12-15T20:35:21.664Z"
   },
   {
    "duration": 72,
    "start_time": "2024-12-15T20:35:24.108Z"
   },
   {
    "duration": 205,
    "start_time": "2024-12-15T20:35:24.182Z"
   },
   {
    "duration": 33,
    "start_time": "2024-12-15T20:35:24.389Z"
   },
   {
    "duration": 82,
    "start_time": "2024-12-15T20:35:24.424Z"
   },
   {
    "duration": 14,
    "start_time": "2024-12-15T20:35:24.508Z"
   },
   {
    "duration": 3085,
    "start_time": "2024-12-15T20:35:24.523Z"
   },
   {
    "duration": 15,
    "start_time": "2024-12-15T20:35:27.610Z"
   },
   {
    "duration": 40,
    "start_time": "2024-12-15T20:35:27.626Z"
   },
   {
    "duration": 14,
    "start_time": "2024-12-15T20:35:27.667Z"
   },
   {
    "duration": 79,
    "start_time": "2024-12-15T20:35:27.682Z"
   },
   {
    "duration": 1154,
    "start_time": "2024-12-15T20:35:27.763Z"
   },
   {
    "duration": 207,
    "start_time": "2024-12-15T20:35:28.919Z"
   },
   {
    "duration": 571,
    "start_time": "2024-12-15T20:35:29.127Z"
   },
   {
    "duration": 52,
    "start_time": "2024-12-15T20:35:29.700Z"
   },
   {
    "duration": 4,
    "start_time": "2024-12-15T20:35:29.754Z"
   },
   {
    "duration": 42,
    "start_time": "2024-12-15T20:35:29.760Z"
   },
   {
    "duration": 1329539,
    "start_time": "2024-12-15T20:35:29.804Z"
   },
   {
    "duration": 1452,
    "start_time": "2024-12-15T20:57:39.346Z"
   },
   {
    "duration": 17646,
    "start_time": "2024-12-15T21:09:36.471Z"
   },
   {
    "duration": 11100,
    "start_time": "2024-12-15T21:21:44.886Z"
   },
   {
    "duration": 11401,
    "start_time": "2024-12-15T21:22:08.707Z"
   },
   {
    "duration": 21382,
    "start_time": "2024-12-15T21:22:40.427Z"
   },
   {
    "duration": 17937,
    "start_time": "2024-12-15T21:23:24.530Z"
   },
   {
    "duration": 14295,
    "start_time": "2024-12-15T21:23:52.926Z"
   },
   {
    "duration": 11038,
    "start_time": "2024-12-15T21:25:28.164Z"
   },
   {
    "duration": 7242,
    "start_time": "2024-12-15T21:26:05.514Z"
   },
   {
    "duration": 3554,
    "start_time": "2024-12-15T21:26:29.451Z"
   },
   {
    "duration": 31917,
    "start_time": "2024-12-15T21:26:52.880Z"
   },
   {
    "duration": 53914,
    "start_time": "2024-12-15T21:28:06.966Z"
   },
   {
    "duration": 28398,
    "start_time": "2024-12-15T21:29:27.925Z"
   },
   {
    "duration": 21258,
    "start_time": "2024-12-15T21:30:10.824Z"
   },
   {
    "duration": 31,
    "start_time": "2024-12-15T21:47:06.412Z"
   },
   {
    "duration": 16631,
    "start_time": "2024-12-15T21:47:12.588Z"
   },
   {
    "duration": 38,
    "start_time": "2024-12-15T21:48:00.860Z"
   },
   {
    "duration": 21308,
    "start_time": "2024-12-15T21:48:02.896Z"
   },
   {
    "duration": 295,
    "start_time": "2024-12-15T22:14:29.075Z"
   },
   {
    "duration": 567,
    "start_time": "2024-12-15T22:14:46.443Z"
   },
   {
    "duration": 5933,
    "start_time": "2024-12-15T22:15:13.104Z"
   },
   {
    "duration": 31321,
    "start_time": "2024-12-15T22:15:47.227Z"
   },
   {
    "duration": 3442,
    "start_time": "2024-12-15T22:18:26.303Z"
   },
   {
    "duration": 3478,
    "start_time": "2024-12-15T22:24:48.412Z"
   },
   {
    "duration": 3459,
    "start_time": "2024-12-15T22:25:58.088Z"
   },
   {
    "duration": 73,
    "start_time": "2024-12-15T22:29:30.154Z"
   },
   {
    "duration": 1046,
    "start_time": "2024-12-15T22:30:52.376Z"
   },
   {
    "duration": 418,
    "start_time": "2024-12-15T22:30:53.424Z"
   },
   {
    "duration": 100,
    "start_time": "2024-12-15T22:30:53.844Z"
   },
   {
    "duration": 87,
    "start_time": "2024-12-15T22:30:53.947Z"
   },
   {
    "duration": 59,
    "start_time": "2024-12-15T22:30:54.044Z"
   },
   {
    "duration": 3,
    "start_time": "2024-12-15T22:30:54.105Z"
   },
   {
    "duration": 483,
    "start_time": "2024-12-15T22:30:54.110Z"
   },
   {
    "duration": 5,
    "start_time": "2024-12-15T22:30:54.595Z"
   },
   {
    "duration": 16,
    "start_time": "2024-12-15T22:30:54.602Z"
   },
   {
    "duration": 42,
    "start_time": "2024-12-15T22:30:54.621Z"
   },
   {
    "duration": 6,
    "start_time": "2024-12-15T22:30:54.665Z"
   },
   {
    "duration": 9,
    "start_time": "2024-12-15T22:30:54.674Z"
   },
   {
    "duration": 5,
    "start_time": "2024-12-15T22:30:54.684Z"
   },
   {
    "duration": 60,
    "start_time": "2024-12-15T22:30:54.691Z"
   },
   {
    "duration": 30,
    "start_time": "2024-12-15T22:30:54.753Z"
   },
   {
    "duration": 102,
    "start_time": "2024-12-15T22:30:54.784Z"
   },
   {
    "duration": 45,
    "start_time": "2024-12-15T22:30:54.887Z"
   },
   {
    "duration": 693,
    "start_time": "2024-12-15T22:30:54.934Z"
   },
   {
    "duration": 23,
    "start_time": "2024-12-15T22:30:55.629Z"
   },
   {
    "duration": 39,
    "start_time": "2024-12-15T22:30:55.653Z"
   },
   {
    "duration": 14,
    "start_time": "2024-12-15T22:30:55.694Z"
   },
   {
    "duration": 33,
    "start_time": "2024-12-15T22:30:55.710Z"
   },
   {
    "duration": 2593,
    "start_time": "2024-12-15T22:30:55.745Z"
   },
   {
    "duration": 238,
    "start_time": "2024-12-15T22:30:58.344Z"
   },
   {
    "duration": 64,
    "start_time": "2024-12-15T22:30:58.584Z"
   },
   {
    "duration": 9,
    "start_time": "2024-12-15T22:30:58.650Z"
   },
   {
    "duration": 2459,
    "start_time": "2024-12-15T22:30:58.661Z"
   },
   {
    "duration": 63,
    "start_time": "2024-12-15T22:31:01.124Z"
   },
   {
    "duration": 203,
    "start_time": "2024-12-15T22:31:01.188Z"
   },
   {
    "duration": 34,
    "start_time": "2024-12-15T22:31:01.394Z"
   },
   {
    "duration": 78,
    "start_time": "2024-12-15T22:31:01.430Z"
   },
   {
    "duration": 14,
    "start_time": "2024-12-15T22:31:01.510Z"
   },
   {
    "duration": 2836,
    "start_time": "2024-12-15T22:31:01.525Z"
   },
   {
    "duration": 14,
    "start_time": "2024-12-15T22:31:04.363Z"
   },
   {
    "duration": 32,
    "start_time": "2024-12-15T22:31:04.379Z"
   },
   {
    "duration": 34,
    "start_time": "2024-12-15T22:31:04.413Z"
   },
   {
    "duration": 65,
    "start_time": "2024-12-15T22:31:04.449Z"
   },
   {
    "duration": 1002,
    "start_time": "2024-12-15T22:31:04.516Z"
   },
   {
    "duration": 178,
    "start_time": "2024-12-15T22:31:05.520Z"
   },
   {
    "duration": 488,
    "start_time": "2024-12-15T22:31:05.700Z"
   },
   {
    "duration": 53,
    "start_time": "2024-12-15T22:31:06.190Z"
   },
   {
    "duration": 74,
    "start_time": "2024-12-15T22:31:06.245Z"
   },
   {
    "duration": 6,
    "start_time": "2024-12-15T22:31:06.320Z"
   },
   {
    "duration": 47,
    "start_time": "2024-12-15T22:31:06.327Z"
   },
   {
    "duration": 3029,
    "start_time": "2024-12-15T22:31:06.376Z"
   },
   {
    "duration": 18674,
    "start_time": "2024-12-15T22:31:09.407Z"
   },
   {
    "duration": 990,
    "start_time": "2024-12-15T22:31:59.941Z"
   },
   {
    "duration": 433,
    "start_time": "2024-12-15T22:32:00.934Z"
   },
   {
    "duration": 94,
    "start_time": "2024-12-15T22:32:01.369Z"
   },
   {
    "duration": 92,
    "start_time": "2024-12-15T22:32:01.466Z"
   },
   {
    "duration": 60,
    "start_time": "2024-12-15T22:32:01.561Z"
   },
   {
    "duration": 20,
    "start_time": "2024-12-15T22:32:01.623Z"
   },
   {
    "duration": 472,
    "start_time": "2024-12-15T22:32:01.645Z"
   },
   {
    "duration": 3,
    "start_time": "2024-12-15T22:32:02.119Z"
   },
   {
    "duration": 28,
    "start_time": "2024-12-15T22:32:02.124Z"
   },
   {
    "duration": 23,
    "start_time": "2024-12-15T22:32:02.156Z"
   },
   {
    "duration": 6,
    "start_time": "2024-12-15T22:32:02.182Z"
   },
   {
    "duration": 10,
    "start_time": "2024-12-15T22:32:02.190Z"
   },
   {
    "duration": 6,
    "start_time": "2024-12-15T22:32:02.201Z"
   },
   {
    "duration": 69,
    "start_time": "2024-12-15T22:32:02.208Z"
   },
   {
    "duration": 30,
    "start_time": "2024-12-15T22:32:02.279Z"
   },
   {
    "duration": 37,
    "start_time": "2024-12-15T22:32:02.311Z"
   },
   {
    "duration": 47,
    "start_time": "2024-12-15T22:32:02.350Z"
   },
   {
    "duration": 677,
    "start_time": "2024-12-15T22:32:02.398Z"
   },
   {
    "duration": 14,
    "start_time": "2024-12-15T22:32:03.077Z"
   },
   {
    "duration": 51,
    "start_time": "2024-12-15T22:32:03.094Z"
   },
   {
    "duration": 13,
    "start_time": "2024-12-15T22:32:03.148Z"
   },
   {
    "duration": 13,
    "start_time": "2024-12-15T22:32:03.163Z"
   },
   {
    "duration": 2603,
    "start_time": "2024-12-15T22:32:03.177Z"
   },
   {
    "duration": 207,
    "start_time": "2024-12-15T22:32:05.782Z"
   },
   {
    "duration": 71,
    "start_time": "2024-12-15T22:32:05.991Z"
   },
   {
    "duration": 9,
    "start_time": "2024-12-15T22:32:06.064Z"
   },
   {
    "duration": 2470,
    "start_time": "2024-12-15T22:32:06.075Z"
   },
   {
    "duration": 73,
    "start_time": "2024-12-15T22:32:08.550Z"
   },
   {
    "duration": 242,
    "start_time": "2024-12-15T22:32:08.625Z"
   },
   {
    "duration": 54,
    "start_time": "2024-12-15T22:32:08.869Z"
   },
   {
    "duration": 129,
    "start_time": "2024-12-15T22:32:08.924Z"
   },
   {
    "duration": 20,
    "start_time": "2024-12-15T22:32:09.054Z"
   },
   {
    "duration": 3011,
    "start_time": "2024-12-15T22:32:09.075Z"
   },
   {
    "duration": 13,
    "start_time": "2024-12-15T22:32:12.088Z"
   },
   {
    "duration": 44,
    "start_time": "2024-12-15T22:32:12.103Z"
   },
   {
    "duration": 14,
    "start_time": "2024-12-15T22:32:12.149Z"
   },
   {
    "duration": 77,
    "start_time": "2024-12-15T22:32:12.165Z"
   },
   {
    "duration": 1154,
    "start_time": "2024-12-15T22:32:12.244Z"
   },
   {
    "duration": 208,
    "start_time": "2024-12-15T22:32:13.400Z"
   },
   {
    "duration": 564,
    "start_time": "2024-12-15T22:32:13.610Z"
   },
   {
    "duration": 44,
    "start_time": "2024-12-15T22:32:14.176Z"
   },
   {
    "duration": 93,
    "start_time": "2024-12-15T22:32:14.222Z"
   },
   {
    "duration": 3,
    "start_time": "2024-12-15T22:32:14.317Z"
   },
   {
    "duration": 55,
    "start_time": "2024-12-15T22:32:14.322Z"
   },
   {
    "duration": 3603,
    "start_time": "2024-12-15T22:32:14.379Z"
   },
   {
    "duration": 22276,
    "start_time": "2024-12-15T22:32:17.984Z"
   },
   {
    "duration": 1179,
    "start_time": "2024-12-15T22:34:38.604Z"
   },
   {
    "duration": 435,
    "start_time": "2024-12-15T22:34:39.785Z"
   },
   {
    "duration": 97,
    "start_time": "2024-12-15T22:34:40.222Z"
   },
   {
    "duration": 91,
    "start_time": "2024-12-15T22:34:40.321Z"
   },
   {
    "duration": 85,
    "start_time": "2024-12-15T22:34:40.415Z"
   },
   {
    "duration": 4,
    "start_time": "2024-12-15T22:34:40.504Z"
   },
   {
    "duration": 486,
    "start_time": "2024-12-15T22:34:40.509Z"
   },
   {
    "duration": 3,
    "start_time": "2024-12-15T22:34:40.997Z"
   },
   {
    "duration": 17,
    "start_time": "2024-12-15T22:34:41.002Z"
   },
   {
    "duration": 35,
    "start_time": "2024-12-15T22:34:41.022Z"
   },
   {
    "duration": 7,
    "start_time": "2024-12-15T22:34:41.061Z"
   },
   {
    "duration": 9,
    "start_time": "2024-12-15T22:34:41.069Z"
   },
   {
    "duration": 5,
    "start_time": "2024-12-15T22:34:41.080Z"
   },
   {
    "duration": 61,
    "start_time": "2024-12-15T22:34:41.086Z"
   },
   {
    "duration": 30,
    "start_time": "2024-12-15T22:34:41.149Z"
   },
   {
    "duration": 65,
    "start_time": "2024-12-15T22:34:41.181Z"
   },
   {
    "duration": 47,
    "start_time": "2024-12-15T22:34:41.248Z"
   },
   {
    "duration": 680,
    "start_time": "2024-12-15T22:34:41.297Z"
   },
   {
    "duration": 14,
    "start_time": "2024-12-15T22:34:41.979Z"
   },
   {
    "duration": 48,
    "start_time": "2024-12-15T22:34:41.995Z"
   },
   {
    "duration": 13,
    "start_time": "2024-12-15T22:34:42.044Z"
   },
   {
    "duration": 14,
    "start_time": "2024-12-15T22:34:42.060Z"
   },
   {
    "duration": 2607,
    "start_time": "2024-12-15T22:34:42.076Z"
   },
   {
    "duration": 198,
    "start_time": "2024-12-15T22:34:44.685Z"
   },
   {
    "duration": 65,
    "start_time": "2024-12-15T22:34:44.884Z"
   },
   {
    "duration": 9,
    "start_time": "2024-12-15T22:34:44.951Z"
   },
   {
    "duration": 2359,
    "start_time": "2024-12-15T22:34:44.962Z"
   },
   {
    "duration": 59,
    "start_time": "2024-12-15T22:34:47.325Z"
   },
   {
    "duration": 196,
    "start_time": "2024-12-15T22:34:47.385Z"
   },
   {
    "duration": 33,
    "start_time": "2024-12-15T22:34:47.582Z"
   },
   {
    "duration": 84,
    "start_time": "2024-12-15T22:34:47.617Z"
   },
   {
    "duration": 14,
    "start_time": "2024-12-15T22:34:47.702Z"
   },
   {
    "duration": 2946,
    "start_time": "2024-12-15T22:34:47.718Z"
   },
   {
    "duration": 15,
    "start_time": "2024-12-15T22:34:50.666Z"
   },
   {
    "duration": 28,
    "start_time": "2024-12-15T22:34:50.683Z"
   },
   {
    "duration": 36,
    "start_time": "2024-12-15T22:34:50.712Z"
   },
   {
    "duration": 65,
    "start_time": "2024-12-15T22:34:50.750Z"
   },
   {
    "duration": 1237,
    "start_time": "2024-12-15T22:34:50.817Z"
   },
   {
    "duration": 212,
    "start_time": "2024-12-15T22:34:52.056Z"
   },
   {
    "duration": 573,
    "start_time": "2024-12-15T22:34:52.270Z"
   },
   {
    "duration": 47,
    "start_time": "2024-12-15T22:34:52.845Z"
   },
   {
    "duration": 98,
    "start_time": "2024-12-15T22:34:52.894Z"
   },
   {
    "duration": 3,
    "start_time": "2024-12-15T22:34:52.995Z"
   },
   {
    "duration": 50,
    "start_time": "2024-12-15T22:34:53.000Z"
   },
   {
    "duration": 3663,
    "start_time": "2024-12-15T22:34:53.051Z"
   },
   {
    "duration": 22723,
    "start_time": "2024-12-15T22:34:56.716Z"
   },
   {
    "duration": 1031,
    "start_time": "2024-12-15T22:36:03.786Z"
   },
   {
    "duration": 403,
    "start_time": "2024-12-15T22:36:04.820Z"
   },
   {
    "duration": 97,
    "start_time": "2024-12-15T22:36:05.225Z"
   },
   {
    "duration": 102,
    "start_time": "2024-12-15T22:36:05.324Z"
   },
   {
    "duration": 65,
    "start_time": "2024-12-15T22:36:05.428Z"
   },
   {
    "duration": 2,
    "start_time": "2024-12-15T22:36:05.496Z"
   },
   {
    "duration": 481,
    "start_time": "2024-12-15T22:36:05.500Z"
   },
   {
    "duration": 3,
    "start_time": "2024-12-15T22:36:05.983Z"
   },
   {
    "duration": 12,
    "start_time": "2024-12-15T22:36:05.988Z"
   },
   {
    "duration": 39,
    "start_time": "2024-12-15T22:36:06.004Z"
   },
   {
    "duration": 7,
    "start_time": "2024-12-15T22:36:06.045Z"
   },
   {
    "duration": 12,
    "start_time": "2024-12-15T22:36:06.054Z"
   },
   {
    "duration": 5,
    "start_time": "2024-12-15T22:36:06.068Z"
   },
   {
    "duration": 37,
    "start_time": "2024-12-15T22:36:06.075Z"
   },
   {
    "duration": 53,
    "start_time": "2024-12-15T22:36:06.115Z"
   },
   {
    "duration": 54,
    "start_time": "2024-12-15T22:36:06.170Z"
   },
   {
    "duration": 60,
    "start_time": "2024-12-15T22:36:06.225Z"
   },
   {
    "duration": 685,
    "start_time": "2024-12-15T22:36:06.287Z"
   },
   {
    "duration": 14,
    "start_time": "2024-12-15T22:36:06.973Z"
   },
   {
    "duration": 37,
    "start_time": "2024-12-15T22:36:06.988Z"
   },
   {
    "duration": 27,
    "start_time": "2024-12-15T22:36:07.027Z"
   },
   {
    "duration": 14,
    "start_time": "2024-12-15T22:36:07.055Z"
   },
   {
    "duration": 2564,
    "start_time": "2024-12-15T22:36:07.070Z"
   },
   {
    "duration": 237,
    "start_time": "2024-12-15T22:36:09.636Z"
   },
   {
    "duration": 56,
    "start_time": "2024-12-15T22:36:09.875Z"
   },
   {
    "duration": 11,
    "start_time": "2024-12-15T22:36:09.944Z"
   },
   {
    "duration": 2405,
    "start_time": "2024-12-15T22:36:09.957Z"
   },
   {
    "duration": 59,
    "start_time": "2024-12-15T22:36:12.366Z"
   },
   {
    "duration": 248,
    "start_time": "2024-12-15T22:36:12.427Z"
   },
   {
    "duration": 33,
    "start_time": "2024-12-15T22:36:12.677Z"
   },
   {
    "duration": 79,
    "start_time": "2024-12-15T22:36:12.711Z"
   },
   {
    "duration": 14,
    "start_time": "2024-12-15T22:36:12.791Z"
   },
   {
    "duration": 2829,
    "start_time": "2024-12-15T22:36:12.807Z"
   },
   {
    "duration": 14,
    "start_time": "2024-12-15T22:36:15.643Z"
   },
   {
    "duration": 31,
    "start_time": "2024-12-15T22:36:15.659Z"
   },
   {
    "duration": 15,
    "start_time": "2024-12-15T22:36:15.691Z"
   },
   {
    "duration": 89,
    "start_time": "2024-12-15T22:36:15.708Z"
   },
   {
    "duration": 1228,
    "start_time": "2024-12-15T22:36:15.799Z"
   },
   {
    "duration": 213,
    "start_time": "2024-12-15T22:36:17.029Z"
   },
   {
    "duration": 583,
    "start_time": "2024-12-15T22:36:17.244Z"
   },
   {
    "duration": 54,
    "start_time": "2024-12-15T22:36:17.829Z"
   },
   {
    "duration": 89,
    "start_time": "2024-12-15T22:36:17.884Z"
   },
   {
    "duration": 3,
    "start_time": "2024-12-15T22:36:17.975Z"
   },
   {
    "duration": 37,
    "start_time": "2024-12-15T22:36:17.980Z"
   },
   {
    "duration": 3654,
    "start_time": "2024-12-15T22:36:18.019Z"
   },
   {
    "duration": 22668,
    "start_time": "2024-12-15T22:36:21.675Z"
   },
   {
    "duration": 1049,
    "start_time": "2024-12-15T22:43:33.866Z"
   },
   {
    "duration": 411,
    "start_time": "2024-12-15T22:43:34.918Z"
   },
   {
    "duration": 92,
    "start_time": "2024-12-15T22:43:35.331Z"
   },
   {
    "duration": 97,
    "start_time": "2024-12-15T22:43:35.425Z"
   },
   {
    "duration": 69,
    "start_time": "2024-12-15T22:43:35.524Z"
   },
   {
    "duration": 3,
    "start_time": "2024-12-15T22:43:35.595Z"
   },
   {
    "duration": 467,
    "start_time": "2024-12-15T22:43:35.600Z"
   },
   {
    "duration": 3,
    "start_time": "2024-12-15T22:43:36.068Z"
   },
   {
    "duration": 14,
    "start_time": "2024-12-15T22:43:36.073Z"
   },
   {
    "duration": 21,
    "start_time": "2024-12-15T22:43:36.091Z"
   },
   {
    "duration": 6,
    "start_time": "2024-12-15T22:43:36.114Z"
   },
   {
    "duration": 31,
    "start_time": "2024-12-15T22:43:36.121Z"
   },
   {
    "duration": 6,
    "start_time": "2024-12-15T22:43:36.153Z"
   },
   {
    "duration": 37,
    "start_time": "2024-12-15T22:43:36.162Z"
   },
   {
    "duration": 55,
    "start_time": "2024-12-15T22:43:36.200Z"
   },
   {
    "duration": 95,
    "start_time": "2024-12-15T22:43:36.257Z"
   },
   {
    "duration": 46,
    "start_time": "2024-12-15T22:43:36.353Z"
   },
   {
    "duration": 677,
    "start_time": "2024-12-15T22:43:36.400Z"
   },
   {
    "duration": 14,
    "start_time": "2024-12-15T22:43:37.078Z"
   },
   {
    "duration": 50,
    "start_time": "2024-12-15T22:43:37.094Z"
   },
   {
    "duration": 13,
    "start_time": "2024-12-15T22:43:37.146Z"
   },
   {
    "duration": 14,
    "start_time": "2024-12-15T22:43:37.160Z"
   },
   {
    "duration": 2572,
    "start_time": "2024-12-15T22:43:37.175Z"
   },
   {
    "duration": 233,
    "start_time": "2024-12-15T22:43:39.749Z"
   },
   {
    "duration": 69,
    "start_time": "2024-12-15T22:43:39.984Z"
   },
   {
    "duration": 13,
    "start_time": "2024-12-15T22:43:40.055Z"
   },
   {
    "duration": 2569,
    "start_time": "2024-12-15T22:43:40.069Z"
   },
   {
    "duration": 60,
    "start_time": "2024-12-15T22:43:42.645Z"
   },
   {
    "duration": 182,
    "start_time": "2024-12-15T22:43:42.707Z"
   },
   {
    "duration": 85,
    "start_time": "2024-12-15T22:43:42.891Z"
   },
   {
    "duration": 75,
    "start_time": "2024-12-15T22:43:42.978Z"
   },
   {
    "duration": 14,
    "start_time": "2024-12-15T22:43:43.055Z"
   },
   {
    "duration": 2873,
    "start_time": "2024-12-15T22:43:43.070Z"
   },
   {
    "duration": 14,
    "start_time": "2024-12-15T22:43:45.945Z"
   },
   {
    "duration": 27,
    "start_time": "2024-12-15T22:43:45.961Z"
   },
   {
    "duration": 14,
    "start_time": "2024-12-15T22:43:45.989Z"
   },
   {
    "duration": 93,
    "start_time": "2024-12-15T22:43:46.005Z"
   },
   {
    "duration": 1186,
    "start_time": "2024-12-15T22:43:46.099Z"
   },
   {
    "duration": 208,
    "start_time": "2024-12-15T22:43:47.287Z"
   },
   {
    "duration": 581,
    "start_time": "2024-12-15T22:43:47.497Z"
   },
   {
    "duration": 44,
    "start_time": "2024-12-15T22:43:48.079Z"
   },
   {
    "duration": 96,
    "start_time": "2024-12-15T22:43:48.125Z"
   },
   {
    "duration": 4,
    "start_time": "2024-12-15T22:43:48.223Z"
   },
   {
    "duration": 40,
    "start_time": "2024-12-15T22:43:48.243Z"
   },
   {
    "duration": 3662,
    "start_time": "2024-12-15T22:43:48.285Z"
   },
   {
    "duration": 22449,
    "start_time": "2024-12-15T22:43:51.949Z"
   },
   {
    "duration": 7,
    "start_time": "2024-12-15T22:44:35.390Z"
   },
   {
    "duration": 1022,
    "start_time": "2024-12-15T22:44:46.995Z"
   },
   {
    "duration": 406,
    "start_time": "2024-12-15T22:44:48.019Z"
   },
   {
    "duration": 100,
    "start_time": "2024-12-15T22:44:48.427Z"
   },
   {
    "duration": 103,
    "start_time": "2024-12-15T22:44:48.530Z"
   },
   {
    "duration": 65,
    "start_time": "2024-12-15T22:44:48.635Z"
   },
   {
    "duration": 3,
    "start_time": "2024-12-15T22:44:48.702Z"
   },
   {
    "duration": 509,
    "start_time": "2024-12-15T22:44:48.707Z"
   },
   {
    "duration": 3,
    "start_time": "2024-12-15T22:44:49.218Z"
   },
   {
    "duration": 27,
    "start_time": "2024-12-15T22:44:49.222Z"
   },
   {
    "duration": 20,
    "start_time": "2024-12-15T22:44:49.253Z"
   },
   {
    "duration": 6,
    "start_time": "2024-12-15T22:44:49.274Z"
   },
   {
    "duration": 9,
    "start_time": "2024-12-15T22:44:49.282Z"
   },
   {
    "duration": 5,
    "start_time": "2024-12-15T22:44:49.293Z"
   },
   {
    "duration": 65,
    "start_time": "2024-12-15T22:44:49.300Z"
   },
   {
    "duration": 31,
    "start_time": "2024-12-15T22:44:49.367Z"
   },
   {
    "duration": 21,
    "start_time": "2024-12-15T22:44:49.399Z"
   },
   {
    "duration": 63,
    "start_time": "2024-12-15T22:44:49.421Z"
   },
   {
    "duration": 660,
    "start_time": "2024-12-15T22:44:49.486Z"
   },
   {
    "duration": 14,
    "start_time": "2024-12-15T22:44:50.148Z"
   },
   {
    "duration": 36,
    "start_time": "2024-12-15T22:44:50.163Z"
   },
   {
    "duration": 14,
    "start_time": "2024-12-15T22:44:50.200Z"
   },
   {
    "duration": 29,
    "start_time": "2024-12-15T22:44:50.216Z"
   },
   {
    "duration": 2667,
    "start_time": "2024-12-15T22:44:50.247Z"
   },
   {
    "duration": 256,
    "start_time": "2024-12-15T22:44:52.915Z"
   },
   {
    "duration": 56,
    "start_time": "2024-12-15T22:44:53.173Z"
   },
   {
    "duration": 9,
    "start_time": "2024-12-15T22:44:53.242Z"
   },
   {
    "duration": 2365,
    "start_time": "2024-12-15T22:44:53.252Z"
   },
   {
    "duration": 64,
    "start_time": "2024-12-15T22:44:55.622Z"
   },
   {
    "duration": 184,
    "start_time": "2024-12-15T22:44:55.689Z"
   },
   {
    "duration": 32,
    "start_time": "2024-12-15T22:44:55.875Z"
   },
   {
    "duration": 78,
    "start_time": "2024-12-15T22:44:55.909Z"
   },
   {
    "duration": 13,
    "start_time": "2024-12-15T22:44:55.988Z"
   },
   {
    "duration": 2892,
    "start_time": "2024-12-15T22:44:56.003Z"
   },
   {
    "duration": 14,
    "start_time": "2024-12-15T22:44:58.897Z"
   },
   {
    "duration": 43,
    "start_time": "2024-12-15T22:44:58.913Z"
   },
   {
    "duration": 14,
    "start_time": "2024-12-15T22:44:58.957Z"
   },
   {
    "duration": 75,
    "start_time": "2024-12-15T22:44:58.973Z"
   },
   {
    "duration": 1208,
    "start_time": "2024-12-15T22:44:59.050Z"
   },
   {
    "duration": 211,
    "start_time": "2024-12-15T22:45:00.260Z"
   },
   {
    "duration": 586,
    "start_time": "2024-12-15T22:45:00.473Z"
   },
   {
    "duration": 44,
    "start_time": "2024-12-15T22:45:01.061Z"
   },
   {
    "duration": 101,
    "start_time": "2024-12-15T22:45:01.107Z"
   },
   {
    "duration": 3,
    "start_time": "2024-12-15T22:45:01.210Z"
   },
   {
    "duration": 46,
    "start_time": "2024-12-15T22:45:01.215Z"
   },
   {
    "duration": 3637,
    "start_time": "2024-12-15T22:45:01.262Z"
   },
   {
    "duration": 22258,
    "start_time": "2024-12-15T22:45:04.901Z"
   },
   {
    "duration": 1033,
    "start_time": "2024-12-15T22:46:01.315Z"
   },
   {
    "duration": 418,
    "start_time": "2024-12-15T22:46:02.351Z"
   },
   {
    "duration": 100,
    "start_time": "2024-12-15T22:46:02.771Z"
   },
   {
    "duration": 106,
    "start_time": "2024-12-15T22:46:02.873Z"
   },
   {
    "duration": 68,
    "start_time": "2024-12-15T22:46:02.980Z"
   },
   {
    "duration": 4,
    "start_time": "2024-12-15T22:46:03.049Z"
   },
   {
    "duration": 509,
    "start_time": "2024-12-15T22:46:03.055Z"
   },
   {
    "duration": 4,
    "start_time": "2024-12-15T22:46:03.566Z"
   },
   {
    "duration": 16,
    "start_time": "2024-12-15T22:46:03.572Z"
   },
   {
    "duration": 19,
    "start_time": "2024-12-15T22:46:03.592Z"
   },
   {
    "duration": 6,
    "start_time": "2024-12-15T22:46:03.613Z"
   },
   {
    "duration": 9,
    "start_time": "2024-12-15T22:46:03.643Z"
   },
   {
    "duration": 5,
    "start_time": "2024-12-15T22:46:03.654Z"
   },
   {
    "duration": 36,
    "start_time": "2024-12-15T22:46:03.660Z"
   },
   {
    "duration": 54,
    "start_time": "2024-12-15T22:46:03.698Z"
   },
   {
    "duration": 54,
    "start_time": "2024-12-15T22:46:03.754Z"
   },
   {
    "duration": 57,
    "start_time": "2024-12-15T22:46:03.810Z"
   },
   {
    "duration": 683,
    "start_time": "2024-12-15T22:46:03.869Z"
   },
   {
    "duration": 14,
    "start_time": "2024-12-15T22:46:04.554Z"
   },
   {
    "duration": 38,
    "start_time": "2024-12-15T22:46:04.570Z"
   },
   {
    "duration": 34,
    "start_time": "2024-12-15T22:46:04.609Z"
   },
   {
    "duration": 14,
    "start_time": "2024-12-15T22:46:04.645Z"
   },
   {
    "duration": 2569,
    "start_time": "2024-12-15T22:46:04.662Z"
   },
   {
    "duration": 232,
    "start_time": "2024-12-15T22:46:07.233Z"
   },
   {
    "duration": 57,
    "start_time": "2024-12-15T22:46:07.467Z"
   },
   {
    "duration": 23,
    "start_time": "2024-12-15T22:46:07.526Z"
   },
   {
    "duration": 2323,
    "start_time": "2024-12-15T22:46:07.551Z"
   },
   {
    "duration": 66,
    "start_time": "2024-12-15T22:46:09.879Z"
   },
   {
    "duration": 226,
    "start_time": "2024-12-15T22:46:09.947Z"
   },
   {
    "duration": 38,
    "start_time": "2024-12-15T22:46:10.176Z"
   },
   {
    "duration": 86,
    "start_time": "2024-12-15T22:46:10.216Z"
   },
   {
    "duration": 14,
    "start_time": "2024-12-15T22:46:10.304Z"
   },
   {
    "duration": 2863,
    "start_time": "2024-12-15T22:46:10.320Z"
   },
   {
    "duration": 14,
    "start_time": "2024-12-15T22:46:13.185Z"
   },
   {
    "duration": 27,
    "start_time": "2024-12-15T22:46:13.201Z"
   },
   {
    "duration": 14,
    "start_time": "2024-12-15T22:46:13.244Z"
   },
   {
    "duration": 65,
    "start_time": "2024-12-15T22:46:13.260Z"
   },
   {
    "duration": 1164,
    "start_time": "2024-12-15T22:46:13.342Z"
   },
   {
    "duration": 219,
    "start_time": "2024-12-15T22:46:14.508Z"
   },
   {
    "duration": 575,
    "start_time": "2024-12-15T22:46:14.729Z"
   },
   {
    "duration": 52,
    "start_time": "2024-12-15T22:46:15.306Z"
   },
   {
    "duration": 93,
    "start_time": "2024-12-15T22:46:15.360Z"
   },
   {
    "duration": 4,
    "start_time": "2024-12-15T22:46:15.456Z"
   },
   {
    "duration": 38,
    "start_time": "2024-12-15T22:46:15.462Z"
   },
   {
    "duration": 3680,
    "start_time": "2024-12-15T22:46:15.502Z"
   },
   {
    "duration": 22788,
    "start_time": "2024-12-15T22:46:19.183Z"
   },
   {
    "duration": 994,
    "start_time": "2024-12-15T22:54:25.110Z"
   },
   {
    "duration": 401,
    "start_time": "2024-12-15T22:54:26.107Z"
   },
   {
    "duration": 96,
    "start_time": "2024-12-15T22:54:26.510Z"
   },
   {
    "duration": 92,
    "start_time": "2024-12-15T22:54:26.608Z"
   },
   {
    "duration": 70,
    "start_time": "2024-12-15T22:54:26.702Z"
   },
   {
    "duration": 3,
    "start_time": "2024-12-15T22:54:26.775Z"
   },
   {
    "duration": 488,
    "start_time": "2024-12-15T22:54:26.780Z"
   },
   {
    "duration": 3,
    "start_time": "2024-12-15T22:54:27.270Z"
   },
   {
    "duration": 13,
    "start_time": "2024-12-15T22:54:27.275Z"
   },
   {
    "duration": 21,
    "start_time": "2024-12-15T22:54:27.290Z"
   },
   {
    "duration": 31,
    "start_time": "2024-12-15T22:54:27.314Z"
   },
   {
    "duration": 12,
    "start_time": "2024-12-15T22:54:27.347Z"
   },
   {
    "duration": 7,
    "start_time": "2024-12-15T22:54:27.361Z"
   },
   {
    "duration": 49,
    "start_time": "2024-12-15T22:54:27.370Z"
   },
   {
    "duration": 68,
    "start_time": "2024-12-15T22:54:27.421Z"
   },
   {
    "duration": 232,
    "start_time": "2024-12-15T22:54:27.492Z"
   },
   {
    "duration": 64,
    "start_time": "2024-12-15T22:54:27.726Z"
   },
   {
    "duration": 790,
    "start_time": "2024-12-15T22:54:27.794Z"
   },
   {
    "duration": 27,
    "start_time": "2024-12-15T22:54:28.586Z"
   },
   {
    "duration": 48,
    "start_time": "2024-12-15T22:54:28.616Z"
   },
   {
    "duration": 13,
    "start_time": "2024-12-15T22:54:28.667Z"
   },
   {
    "duration": 16,
    "start_time": "2024-12-15T22:54:28.682Z"
   },
   {
    "duration": 2730,
    "start_time": "2024-12-15T22:54:28.701Z"
   },
   {
    "duration": 259,
    "start_time": "2024-12-15T22:54:31.433Z"
   },
   {
    "duration": 98,
    "start_time": "2024-12-15T22:54:31.694Z"
   },
   {
    "duration": 11,
    "start_time": "2024-12-15T22:54:31.795Z"
   },
   {
    "duration": 2419,
    "start_time": "2024-12-15T22:54:31.808Z"
   },
   {
    "duration": 63,
    "start_time": "2024-12-15T22:54:34.231Z"
   },
   {
    "duration": 186,
    "start_time": "2024-12-15T22:54:34.295Z"
   },
   {
    "duration": 60,
    "start_time": "2024-12-15T22:54:34.483Z"
   },
   {
    "duration": 67,
    "start_time": "2024-12-15T22:54:34.545Z"
   },
   {
    "duration": 29,
    "start_time": "2024-12-15T22:54:34.614Z"
   },
   {
    "duration": 2847,
    "start_time": "2024-12-15T22:54:34.644Z"
   },
   {
    "duration": 14,
    "start_time": "2024-12-15T22:54:37.493Z"
   },
   {
    "duration": 44,
    "start_time": "2024-12-15T22:54:37.509Z"
   },
   {
    "duration": 15,
    "start_time": "2024-12-15T22:54:37.554Z"
   },
   {
    "duration": 81,
    "start_time": "2024-12-15T22:54:37.571Z"
   },
   {
    "duration": 1173,
    "start_time": "2024-12-15T22:54:37.654Z"
   },
   {
    "duration": 208,
    "start_time": "2024-12-15T22:54:38.829Z"
   },
   {
    "duration": 711,
    "start_time": "2024-12-15T22:54:39.043Z"
   },
   {
    "duration": 44,
    "start_time": "2024-12-15T22:54:39.755Z"
   },
   {
    "duration": 98,
    "start_time": "2024-12-15T22:54:39.801Z"
   },
   {
    "duration": 4,
    "start_time": "2024-12-15T22:54:39.901Z"
   },
   {
    "duration": 47,
    "start_time": "2024-12-15T22:54:39.907Z"
   },
   {
    "duration": 3606,
    "start_time": "2024-12-15T22:54:39.955Z"
   },
   {
    "duration": 21726,
    "start_time": "2024-12-15T22:54:43.562Z"
   },
   {
    "duration": 976,
    "start_time": "2024-12-15T22:55:38.248Z"
   },
   {
    "duration": 403,
    "start_time": "2024-12-15T22:55:39.226Z"
   },
   {
    "duration": 93,
    "start_time": "2024-12-15T22:55:39.630Z"
   },
   {
    "duration": 100,
    "start_time": "2024-12-15T22:55:39.725Z"
   },
   {
    "duration": 64,
    "start_time": "2024-12-15T22:55:39.827Z"
   },
   {
    "duration": 3,
    "start_time": "2024-12-15T22:55:39.893Z"
   },
   {
    "duration": 497,
    "start_time": "2024-12-15T22:55:39.898Z"
   },
   {
    "duration": 4,
    "start_time": "2024-12-15T22:55:40.398Z"
   },
   {
    "duration": 12,
    "start_time": "2024-12-15T22:55:40.403Z"
   },
   {
    "duration": 45,
    "start_time": "2024-12-15T22:55:40.417Z"
   },
   {
    "duration": 6,
    "start_time": "2024-12-15T22:55:40.466Z"
   },
   {
    "duration": 13,
    "start_time": "2024-12-15T22:55:40.474Z"
   },
   {
    "duration": 12,
    "start_time": "2024-12-15T22:55:40.489Z"
   },
   {
    "duration": 57,
    "start_time": "2024-12-15T22:55:40.506Z"
   },
   {
    "duration": 30,
    "start_time": "2024-12-15T22:55:40.565Z"
   },
   {
    "duration": 21,
    "start_time": "2024-12-15T22:55:40.597Z"
   },
   {
    "duration": 66,
    "start_time": "2024-12-15T22:55:40.620Z"
   },
   {
    "duration": 709,
    "start_time": "2024-12-15T22:55:40.688Z"
   },
   {
    "duration": 13,
    "start_time": "2024-12-15T22:55:41.399Z"
   },
   {
    "duration": 55,
    "start_time": "2024-12-15T22:55:41.414Z"
   },
   {
    "duration": 16,
    "start_time": "2024-12-15T22:55:41.471Z"
   },
   {
    "duration": 13,
    "start_time": "2024-12-15T22:55:41.489Z"
   },
   {
    "duration": 2638,
    "start_time": "2024-12-15T22:55:41.504Z"
   },
   {
    "duration": 239,
    "start_time": "2024-12-15T22:55:44.144Z"
   },
   {
    "duration": 71,
    "start_time": "2024-12-15T22:55:44.385Z"
   },
   {
    "duration": 9,
    "start_time": "2024-12-15T22:55:44.458Z"
   },
   {
    "duration": 2346,
    "start_time": "2024-12-15T22:55:44.469Z"
   },
   {
    "duration": 69,
    "start_time": "2024-12-15T22:55:46.817Z"
   },
   {
    "duration": 185,
    "start_time": "2024-12-15T22:55:46.887Z"
   },
   {
    "duration": 34,
    "start_time": "2024-12-15T22:55:47.075Z"
   },
   {
    "duration": 83,
    "start_time": "2024-12-15T22:55:47.111Z"
   },
   {
    "duration": 14,
    "start_time": "2024-12-15T22:55:47.196Z"
   },
   {
    "duration": 2860,
    "start_time": "2024-12-15T22:55:47.211Z"
   },
   {
    "duration": 15,
    "start_time": "2024-12-15T22:55:50.072Z"
   },
   {
    "duration": 28,
    "start_time": "2024-12-15T22:55:50.088Z"
   },
   {
    "duration": 34,
    "start_time": "2024-12-15T22:55:50.118Z"
   },
   {
    "duration": 64,
    "start_time": "2024-12-15T22:55:50.153Z"
   },
   {
    "duration": 1251,
    "start_time": "2024-12-15T22:55:50.219Z"
   },
   {
    "duration": 209,
    "start_time": "2024-12-15T22:55:51.471Z"
   },
   {
    "duration": 585,
    "start_time": "2024-12-15T22:55:51.682Z"
   },
   {
    "duration": 44,
    "start_time": "2024-12-15T22:55:52.270Z"
   },
   {
    "duration": 97,
    "start_time": "2024-12-15T22:55:52.316Z"
   },
   {
    "duration": 4,
    "start_time": "2024-12-15T22:55:52.415Z"
   },
   {
    "duration": 49,
    "start_time": "2024-12-15T22:55:52.420Z"
   },
   {
    "duration": 3611,
    "start_time": "2024-12-15T22:55:52.470Z"
   },
   {
    "duration": 22203,
    "start_time": "2024-12-15T22:55:56.083Z"
   },
   {
    "duration": 1019,
    "start_time": "2024-12-15T22:56:39.668Z"
   },
   {
    "duration": 422,
    "start_time": "2024-12-15T22:56:40.690Z"
   },
   {
    "duration": 102,
    "start_time": "2024-12-15T22:56:41.113Z"
   },
   {
    "duration": 100,
    "start_time": "2024-12-15T22:56:41.217Z"
   },
   {
    "duration": 67,
    "start_time": "2024-12-15T22:56:41.319Z"
   },
   {
    "duration": 3,
    "start_time": "2024-12-15T22:56:41.388Z"
   },
   {
    "duration": 491,
    "start_time": "2024-12-15T22:56:41.392Z"
   },
   {
    "duration": 3,
    "start_time": "2024-12-15T22:56:41.885Z"
   },
   {
    "duration": 12,
    "start_time": "2024-12-15T22:56:41.890Z"
   },
   {
    "duration": 41,
    "start_time": "2024-12-15T22:56:41.904Z"
   },
   {
    "duration": 6,
    "start_time": "2024-12-15T22:56:41.947Z"
   },
   {
    "duration": 11,
    "start_time": "2024-12-15T22:56:41.954Z"
   },
   {
    "duration": 6,
    "start_time": "2024-12-15T22:56:41.967Z"
   },
   {
    "duration": 38,
    "start_time": "2024-12-15T22:56:41.976Z"
   },
   {
    "duration": 54,
    "start_time": "2024-12-15T22:56:42.016Z"
   },
   {
    "duration": 20,
    "start_time": "2024-12-15T22:56:42.072Z"
   },
   {
    "duration": 62,
    "start_time": "2024-12-15T22:56:42.093Z"
   },
   {
    "duration": 679,
    "start_time": "2024-12-15T22:56:42.157Z"
   },
   {
    "duration": 14,
    "start_time": "2024-12-15T22:56:42.838Z"
   },
   {
    "duration": 36,
    "start_time": "2024-12-15T22:56:42.853Z"
   },
   {
    "duration": 14,
    "start_time": "2024-12-15T22:56:42.891Z"
   },
   {
    "duration": 37,
    "start_time": "2024-12-15T22:56:42.907Z"
   },
   {
    "duration": 2569,
    "start_time": "2024-12-15T22:56:42.946Z"
   },
   {
    "duration": 251,
    "start_time": "2024-12-15T22:56:45.517Z"
   },
   {
    "duration": 74,
    "start_time": "2024-12-15T22:56:45.769Z"
   },
   {
    "duration": 9,
    "start_time": "2024-12-15T22:56:45.845Z"
   },
   {
    "duration": 2348,
    "start_time": "2024-12-15T22:56:45.856Z"
   },
   {
    "duration": 66,
    "start_time": "2024-12-15T22:56:48.205Z"
   },
   {
    "duration": 201,
    "start_time": "2024-12-15T22:56:48.272Z"
   },
   {
    "duration": 32,
    "start_time": "2024-12-15T22:56:48.475Z"
   },
   {
    "duration": 83,
    "start_time": "2024-12-15T22:56:48.509Z"
   },
   {
    "duration": 14,
    "start_time": "2024-12-15T22:56:48.595Z"
   },
   {
    "duration": 2927,
    "start_time": "2024-12-15T22:56:48.611Z"
   },
   {
    "duration": 14,
    "start_time": "2024-12-15T22:56:51.539Z"
   },
   {
    "duration": 27,
    "start_time": "2024-12-15T22:56:51.556Z"
   },
   {
    "duration": 14,
    "start_time": "2024-12-15T22:56:51.585Z"
   },
   {
    "duration": 93,
    "start_time": "2024-12-15T22:56:51.600Z"
   },
   {
    "duration": 1208,
    "start_time": "2024-12-15T22:56:51.696Z"
   },
   {
    "duration": 216,
    "start_time": "2024-12-15T22:56:52.906Z"
   },
   {
    "duration": 598,
    "start_time": "2024-12-15T22:56:53.124Z"
   },
   {
    "duration": 54,
    "start_time": "2024-12-15T22:56:53.727Z"
   },
   {
    "duration": 91,
    "start_time": "2024-12-15T22:56:53.783Z"
   },
   {
    "duration": 4,
    "start_time": "2024-12-15T22:56:53.875Z"
   },
   {
    "duration": 39,
    "start_time": "2024-12-15T22:56:53.880Z"
   },
   {
    "duration": 3679,
    "start_time": "2024-12-15T22:56:53.920Z"
   },
   {
    "duration": 22483,
    "start_time": "2024-12-15T22:56:57.601Z"
   },
   {
    "duration": 64,
    "start_time": "2024-12-15T23:05:34.348Z"
   },
   {
    "duration": 1013,
    "start_time": "2024-12-15T23:05:42.030Z"
   },
   {
    "duration": 404,
    "start_time": "2024-12-15T23:05:43.045Z"
   },
   {
    "duration": 100,
    "start_time": "2024-12-15T23:05:43.451Z"
   },
   {
    "duration": 96,
    "start_time": "2024-12-15T23:05:43.554Z"
   },
   {
    "duration": 60,
    "start_time": "2024-12-15T23:05:43.651Z"
   },
   {
    "duration": 3,
    "start_time": "2024-12-15T23:05:43.713Z"
   },
   {
    "duration": 486,
    "start_time": "2024-12-15T23:05:43.718Z"
   },
   {
    "duration": 3,
    "start_time": "2024-12-15T23:05:44.206Z"
   },
   {
    "duration": 13,
    "start_time": "2024-12-15T23:05:44.210Z"
   },
   {
    "duration": 20,
    "start_time": "2024-12-15T23:05:44.244Z"
   },
   {
    "duration": 6,
    "start_time": "2024-12-15T23:05:44.266Z"
   },
   {
    "duration": 10,
    "start_time": "2024-12-15T23:05:44.273Z"
   },
   {
    "duration": 5,
    "start_time": "2024-12-15T23:05:44.284Z"
   },
   {
    "duration": 66,
    "start_time": "2024-12-15T23:05:44.290Z"
   },
   {
    "duration": 30,
    "start_time": "2024-12-15T23:05:44.358Z"
   },
   {
    "duration": 128,
    "start_time": "2024-12-15T23:05:44.390Z"
   },
   {
    "duration": 53,
    "start_time": "2024-12-15T23:05:44.520Z"
   },
   {
    "duration": 664,
    "start_time": "2024-12-15T23:05:44.575Z"
   },
   {
    "duration": 14,
    "start_time": "2024-12-15T23:05:45.241Z"
   },
   {
    "duration": 37,
    "start_time": "2024-12-15T23:05:45.258Z"
   },
   {
    "duration": 20,
    "start_time": "2024-12-15T23:05:45.296Z"
   },
   {
    "duration": 42,
    "start_time": "2024-12-15T23:05:45.317Z"
   },
   {
    "duration": 2663,
    "start_time": "2024-12-15T23:05:45.361Z"
   },
   {
    "duration": 248,
    "start_time": "2024-12-15T23:05:48.026Z"
   },
   {
    "duration": 67,
    "start_time": "2024-12-15T23:05:48.276Z"
   },
   {
    "duration": 10,
    "start_time": "2024-12-15T23:05:48.345Z"
   },
   {
    "duration": 2389,
    "start_time": "2024-12-15T23:05:48.357Z"
   },
   {
    "duration": 60,
    "start_time": "2024-12-15T23:05:50.752Z"
   },
   {
    "duration": 250,
    "start_time": "2024-12-15T23:05:50.814Z"
   },
   {
    "duration": 32,
    "start_time": "2024-12-15T23:05:51.066Z"
   },
   {
    "duration": 89,
    "start_time": "2024-12-15T23:05:51.100Z"
   },
   {
    "duration": 14,
    "start_time": "2024-12-15T23:05:51.191Z"
   },
   {
    "duration": 2890,
    "start_time": "2024-12-15T23:05:51.206Z"
   },
   {
    "duration": 14,
    "start_time": "2024-12-15T23:05:54.098Z"
   },
   {
    "duration": 40,
    "start_time": "2024-12-15T23:05:54.113Z"
   },
   {
    "duration": 14,
    "start_time": "2024-12-15T23:05:54.154Z"
   },
   {
    "duration": 82,
    "start_time": "2024-12-15T23:05:54.169Z"
   },
   {
    "duration": 1213,
    "start_time": "2024-12-15T23:05:54.253Z"
   },
   {
    "duration": 215,
    "start_time": "2024-12-15T23:05:55.468Z"
   },
   {
    "duration": 571,
    "start_time": "2024-12-15T23:05:55.685Z"
   },
   {
    "duration": 45,
    "start_time": "2024-12-15T23:05:56.258Z"
   },
   {
    "duration": 95,
    "start_time": "2024-12-15T23:05:56.305Z"
   },
   {
    "duration": 4,
    "start_time": "2024-12-15T23:05:56.402Z"
   },
   {
    "duration": 90,
    "start_time": "2024-12-15T23:05:56.408Z"
   },
   {
    "duration": 2938,
    "start_time": "2024-12-15T23:05:56.500Z"
   },
   {
    "duration": 18321,
    "start_time": "2024-12-15T23:05:59.440Z"
   },
   {
    "duration": 998,
    "start_time": "2024-12-15T23:06:56.320Z"
   },
   {
    "duration": 408,
    "start_time": "2024-12-15T23:06:57.320Z"
   },
   {
    "duration": 95,
    "start_time": "2024-12-15T23:06:57.730Z"
   },
   {
    "duration": 100,
    "start_time": "2024-12-15T23:06:57.828Z"
   },
   {
    "duration": 65,
    "start_time": "2024-12-15T23:06:57.930Z"
   },
   {
    "duration": 4,
    "start_time": "2024-12-15T23:06:57.997Z"
   },
   {
    "duration": 504,
    "start_time": "2024-12-15T23:06:58.002Z"
   },
   {
    "duration": 3,
    "start_time": "2024-12-15T23:06:58.507Z"
   },
   {
    "duration": 13,
    "start_time": "2024-12-15T23:06:58.512Z"
   },
   {
    "duration": 22,
    "start_time": "2024-12-15T23:06:58.544Z"
   },
   {
    "duration": 9,
    "start_time": "2024-12-15T23:06:58.568Z"
   },
   {
    "duration": 9,
    "start_time": "2024-12-15T23:06:58.580Z"
   },
   {
    "duration": 5,
    "start_time": "2024-12-15T23:06:58.591Z"
   },
   {
    "duration": 68,
    "start_time": "2024-12-15T23:06:58.598Z"
   },
   {
    "duration": 30,
    "start_time": "2024-12-15T23:06:58.668Z"
   },
   {
    "duration": 24,
    "start_time": "2024-12-15T23:06:58.699Z"
   },
   {
    "duration": 58,
    "start_time": "2024-12-15T23:06:58.725Z"
   },
   {
    "duration": 684,
    "start_time": "2024-12-15T23:06:58.785Z"
   },
   {
    "duration": 14,
    "start_time": "2024-12-15T23:06:59.471Z"
   },
   {
    "duration": 36,
    "start_time": "2024-12-15T23:06:59.486Z"
   },
   {
    "duration": 31,
    "start_time": "2024-12-15T23:06:59.524Z"
   },
   {
    "duration": 14,
    "start_time": "2024-12-15T23:06:59.556Z"
   },
   {
    "duration": 2628,
    "start_time": "2024-12-15T23:06:59.572Z"
   },
   {
    "duration": 240,
    "start_time": "2024-12-15T23:07:02.202Z"
   },
   {
    "duration": 58,
    "start_time": "2024-12-15T23:07:02.444Z"
   },
   {
    "duration": 9,
    "start_time": "2024-12-15T23:07:02.504Z"
   },
   {
    "duration": 2536,
    "start_time": "2024-12-15T23:07:02.515Z"
   },
   {
    "duration": 58,
    "start_time": "2024-12-15T23:07:05.056Z"
   },
   {
    "duration": 243,
    "start_time": "2024-12-15T23:07:05.115Z"
   },
   {
    "duration": 34,
    "start_time": "2024-12-15T23:07:05.359Z"
   },
   {
    "duration": 82,
    "start_time": "2024-12-15T23:07:05.394Z"
   },
   {
    "duration": 14,
    "start_time": "2024-12-15T23:07:05.477Z"
   },
   {
    "duration": 2813,
    "start_time": "2024-12-15T23:07:05.493Z"
   },
   {
    "duration": 15,
    "start_time": "2024-12-15T23:07:08.308Z"
   },
   {
    "duration": 39,
    "start_time": "2024-12-15T23:07:08.325Z"
   },
   {
    "duration": 13,
    "start_time": "2024-12-15T23:07:08.366Z"
   },
   {
    "duration": 80,
    "start_time": "2024-12-15T23:07:08.381Z"
   },
   {
    "duration": 1181,
    "start_time": "2024-12-15T23:07:08.462Z"
   },
   {
    "duration": 211,
    "start_time": "2024-12-15T23:07:09.645Z"
   },
   {
    "duration": 594,
    "start_time": "2024-12-15T23:07:09.858Z"
   },
   {
    "duration": 52,
    "start_time": "2024-12-15T23:07:10.454Z"
   },
   {
    "duration": 100,
    "start_time": "2024-12-15T23:07:10.508Z"
   },
   {
    "duration": 4,
    "start_time": "2024-12-15T23:07:10.610Z"
   },
   {
    "duration": 52,
    "start_time": "2024-12-15T23:07:10.616Z"
   },
   {
    "duration": 3692,
    "start_time": "2024-12-15T23:07:10.670Z"
   },
   {
    "duration": 22387,
    "start_time": "2024-12-15T23:07:14.365Z"
   },
   {
    "duration": 6236,
    "start_time": "2024-12-15T23:07:40.649Z"
   },
   {
    "duration": 3650,
    "start_time": "2024-12-16T01:55:24.951Z"
   },
   {
    "duration": 25,
    "start_time": "2024-12-16T02:14:37.840Z"
   },
   {
    "duration": 231,
    "start_time": "2024-12-16T02:17:31.976Z"
   },
   {
    "duration": 1043,
    "start_time": "2024-12-16T02:19:48.301Z"
   },
   {
    "duration": 408,
    "start_time": "2024-12-16T02:19:49.346Z"
   },
   {
    "duration": 107,
    "start_time": "2024-12-16T02:19:49.756Z"
   },
   {
    "duration": 102,
    "start_time": "2024-12-16T02:19:49.866Z"
   },
   {
    "duration": 57,
    "start_time": "2024-12-16T02:19:49.970Z"
   },
   {
    "duration": 17,
    "start_time": "2024-12-16T02:19:50.028Z"
   },
   {
    "duration": 480,
    "start_time": "2024-12-16T02:19:50.047Z"
   },
   {
    "duration": 4,
    "start_time": "2024-12-16T02:19:50.529Z"
   },
   {
    "duration": 17,
    "start_time": "2024-12-16T02:19:50.543Z"
   },
   {
    "duration": 21,
    "start_time": "2024-12-16T02:19:50.563Z"
   },
   {
    "duration": 5,
    "start_time": "2024-12-16T02:19:50.586Z"
   },
   {
    "duration": 10,
    "start_time": "2024-12-16T02:19:50.594Z"
   },
   {
    "duration": 5,
    "start_time": "2024-12-16T02:19:50.606Z"
   },
   {
    "duration": 65,
    "start_time": "2024-12-16T02:19:50.613Z"
   },
   {
    "duration": 30,
    "start_time": "2024-12-16T02:19:50.680Z"
   },
   {
    "duration": 37,
    "start_time": "2024-12-16T02:19:50.711Z"
   },
   {
    "duration": 48,
    "start_time": "2024-12-16T02:19:50.751Z"
   },
   {
    "duration": 689,
    "start_time": "2024-12-16T02:19:50.801Z"
   },
   {
    "duration": 13,
    "start_time": "2024-12-16T02:19:51.493Z"
   },
   {
    "duration": 44,
    "start_time": "2024-12-16T02:19:51.508Z"
   },
   {
    "duration": 14,
    "start_time": "2024-12-16T02:19:51.554Z"
   },
   {
    "duration": 14,
    "start_time": "2024-12-16T02:19:51.570Z"
   },
   {
    "duration": 2608,
    "start_time": "2024-12-16T02:19:51.586Z"
   },
   {
    "duration": 204,
    "start_time": "2024-12-16T02:19:54.196Z"
   },
   {
    "duration": 93,
    "start_time": "2024-12-16T02:19:54.402Z"
   },
   {
    "duration": 10,
    "start_time": "2024-12-16T02:19:54.496Z"
   },
   {
    "duration": 2463,
    "start_time": "2024-12-16T02:19:54.508Z"
   },
   {
    "duration": 68,
    "start_time": "2024-12-16T02:19:56.975Z"
   },
   {
    "duration": 216,
    "start_time": "2024-12-16T02:19:57.045Z"
   },
   {
    "duration": 33,
    "start_time": "2024-12-16T02:19:57.263Z"
   },
   {
    "duration": 84,
    "start_time": "2024-12-16T02:19:57.298Z"
   },
   {
    "duration": 13,
    "start_time": "2024-12-16T02:19:57.383Z"
   },
   {
    "duration": 2855,
    "start_time": "2024-12-16T02:19:57.398Z"
   },
   {
    "duration": 16,
    "start_time": "2024-12-16T02:20:00.254Z"
   },
   {
    "duration": 28,
    "start_time": "2024-12-16T02:20:00.272Z"
   },
   {
    "duration": 14,
    "start_time": "2024-12-16T02:20:00.301Z"
   },
   {
    "duration": 77,
    "start_time": "2024-12-16T02:20:00.345Z"
   },
   {
    "duration": 1264,
    "start_time": "2024-12-16T02:20:00.424Z"
   },
   {
    "duration": 222,
    "start_time": "2024-12-16T02:20:01.690Z"
   },
   {
    "duration": 595,
    "start_time": "2024-12-16T02:20:01.913Z"
   },
   {
    "duration": 60,
    "start_time": "2024-12-16T02:20:02.510Z"
   },
   {
    "duration": 98,
    "start_time": "2024-12-16T02:20:02.573Z"
   },
   {
    "duration": 3,
    "start_time": "2024-12-16T02:20:02.673Z"
   },
   {
    "duration": 40,
    "start_time": "2024-12-16T02:20:02.678Z"
   },
   {
    "duration": 3688,
    "start_time": "2024-12-16T02:20:02.720Z"
   },
   {
    "duration": 23193,
    "start_time": "2024-12-16T02:20:06.410Z"
   },
   {
    "duration": 23,
    "start_time": "2024-12-16T02:20:29.605Z"
   },
   {
    "duration": 4,
    "start_time": "2024-12-16T02:20:34.446Z"
   },
   {
    "duration": 6,
    "start_time": "2024-12-16T02:21:19.006Z"
   },
   {
    "duration": 3,
    "start_time": "2024-12-16T02:21:55.937Z"
   },
   {
    "duration": 3,
    "start_time": "2024-12-16T02:22:27.601Z"
   },
   {
    "duration": 3,
    "start_time": "2024-12-16T02:22:53.261Z"
   },
   {
    "duration": 10,
    "start_time": "2024-12-16T02:23:15.398Z"
   },
   {
    "duration": 980,
    "start_time": "2024-12-16T02:32:41.106Z"
   },
   {
    "duration": 424,
    "start_time": "2024-12-16T02:32:42.088Z"
   },
   {
    "duration": 102,
    "start_time": "2024-12-16T02:32:42.513Z"
   },
   {
    "duration": 94,
    "start_time": "2024-12-16T02:32:42.618Z"
   },
   {
    "duration": 79,
    "start_time": "2024-12-16T02:32:42.714Z"
   },
   {
    "duration": 3,
    "start_time": "2024-12-16T02:32:42.796Z"
   },
   {
    "duration": 510,
    "start_time": "2024-12-16T02:32:42.801Z"
   },
   {
    "duration": 3,
    "start_time": "2024-12-16T02:32:43.312Z"
   },
   {
    "duration": 26,
    "start_time": "2024-12-16T02:32:43.317Z"
   },
   {
    "duration": 20,
    "start_time": "2024-12-16T02:32:43.346Z"
   },
   {
    "duration": 7,
    "start_time": "2024-12-16T02:32:43.368Z"
   },
   {
    "duration": 9,
    "start_time": "2024-12-16T02:32:43.376Z"
   },
   {
    "duration": 6,
    "start_time": "2024-12-16T02:32:43.387Z"
   },
   {
    "duration": 72,
    "start_time": "2024-12-16T02:32:43.394Z"
   },
   {
    "duration": 31,
    "start_time": "2024-12-16T02:32:43.468Z"
   },
   {
    "duration": 65,
    "start_time": "2024-12-16T02:32:43.500Z"
   },
   {
    "duration": 46,
    "start_time": "2024-12-16T02:32:43.567Z"
   },
   {
    "duration": 675,
    "start_time": "2024-12-16T02:32:43.615Z"
   },
   {
    "duration": 14,
    "start_time": "2024-12-16T02:32:44.293Z"
   },
   {
    "duration": 45,
    "start_time": "2024-12-16T02:32:44.309Z"
   },
   {
    "duration": 14,
    "start_time": "2024-12-16T02:32:44.355Z"
   },
   {
    "duration": 13,
    "start_time": "2024-12-16T02:32:44.371Z"
   },
   {
    "duration": 2595,
    "start_time": "2024-12-16T02:32:44.386Z"
   },
   {
    "duration": 216,
    "start_time": "2024-12-16T02:32:46.984Z"
   },
   {
    "duration": 97,
    "start_time": "2024-12-16T02:32:47.201Z"
   },
   {
    "duration": 9,
    "start_time": "2024-12-16T02:32:47.300Z"
   },
   {
    "duration": 2378,
    "start_time": "2024-12-16T02:32:47.311Z"
   },
   {
    "duration": 65,
    "start_time": "2024-12-16T02:32:49.695Z"
   },
   {
    "duration": 215,
    "start_time": "2024-12-16T02:32:49.762Z"
   },
   {
    "duration": 34,
    "start_time": "2024-12-16T02:32:49.979Z"
   },
   {
    "duration": 81,
    "start_time": "2024-12-16T02:32:50.014Z"
   },
   {
    "duration": 13,
    "start_time": "2024-12-16T02:32:50.097Z"
   },
   {
    "duration": 2888,
    "start_time": "2024-12-16T02:32:50.112Z"
   },
   {
    "duration": 15,
    "start_time": "2024-12-16T02:32:53.001Z"
   },
   {
    "duration": 37,
    "start_time": "2024-12-16T02:32:53.017Z"
   },
   {
    "duration": 14,
    "start_time": "2024-12-16T02:32:53.057Z"
   },
   {
    "duration": 79,
    "start_time": "2024-12-16T02:32:53.073Z"
   },
   {
    "duration": 1166,
    "start_time": "2024-12-16T02:32:53.154Z"
   },
   {
    "duration": 244,
    "start_time": "2024-12-16T02:32:54.322Z"
   },
   {
    "duration": 565,
    "start_time": "2024-12-16T02:32:54.567Z"
   },
   {
    "duration": 58,
    "start_time": "2024-12-16T02:32:55.134Z"
   },
   {
    "duration": 92,
    "start_time": "2024-12-16T02:32:55.193Z"
   },
   {
    "duration": 3,
    "start_time": "2024-12-16T02:32:55.286Z"
   },
   {
    "duration": 9,
    "start_time": "2024-12-16T02:32:55.291Z"
   },
   {
    "duration": 58,
    "start_time": "2024-12-16T02:32:55.302Z"
   },
   {
    "duration": 3744,
    "start_time": "2024-12-16T02:32:55.362Z"
   },
   {
    "duration": 23190,
    "start_time": "2024-12-16T02:32:59.108Z"
   },
   {
    "duration": 17,
    "start_time": "2024-12-16T02:33:22.300Z"
   },
   {
    "duration": 1002,
    "start_time": "2024-12-16T02:33:52.646Z"
   },
   {
    "duration": 408,
    "start_time": "2024-12-16T02:33:53.651Z"
   },
   {
    "duration": 100,
    "start_time": "2024-12-16T02:33:54.061Z"
   },
   {
    "duration": 91,
    "start_time": "2024-12-16T02:33:54.165Z"
   },
   {
    "duration": 58,
    "start_time": "2024-12-16T02:33:54.259Z"
   },
   {
    "duration": 4,
    "start_time": "2024-12-16T02:33:54.318Z"
   },
   {
    "duration": 478,
    "start_time": "2024-12-16T02:33:54.323Z"
   },
   {
    "duration": 3,
    "start_time": "2024-12-16T02:33:54.802Z"
   },
   {
    "duration": 13,
    "start_time": "2024-12-16T02:33:54.807Z"
   },
   {
    "duration": 36,
    "start_time": "2024-12-16T02:33:54.822Z"
   },
   {
    "duration": 6,
    "start_time": "2024-12-16T02:33:54.861Z"
   },
   {
    "duration": 9,
    "start_time": "2024-12-16T02:33:54.869Z"
   },
   {
    "duration": 6,
    "start_time": "2024-12-16T02:33:54.879Z"
   },
   {
    "duration": 69,
    "start_time": "2024-12-16T02:33:54.886Z"
   },
   {
    "duration": 30,
    "start_time": "2024-12-16T02:33:54.956Z"
   },
   {
    "duration": 62,
    "start_time": "2024-12-16T02:33:54.988Z"
   },
   {
    "duration": 47,
    "start_time": "2024-12-16T02:33:55.052Z"
   },
   {
    "duration": 692,
    "start_time": "2024-12-16T02:33:55.101Z"
   },
   {
    "duration": 14,
    "start_time": "2024-12-16T02:33:55.795Z"
   },
   {
    "duration": 49,
    "start_time": "2024-12-16T02:33:55.811Z"
   },
   {
    "duration": 13,
    "start_time": "2024-12-16T02:33:55.862Z"
   },
   {
    "duration": 14,
    "start_time": "2024-12-16T02:33:55.876Z"
   },
   {
    "duration": 2632,
    "start_time": "2024-12-16T02:33:55.891Z"
   },
   {
    "duration": 252,
    "start_time": "2024-12-16T02:33:58.525Z"
   },
   {
    "duration": 66,
    "start_time": "2024-12-16T02:33:58.779Z"
   },
   {
    "duration": 10,
    "start_time": "2024-12-16T02:33:58.846Z"
   },
   {
    "duration": 2436,
    "start_time": "2024-12-16T02:33:58.858Z"
   },
   {
    "duration": 65,
    "start_time": "2024-12-16T02:34:01.299Z"
   },
   {
    "duration": 211,
    "start_time": "2024-12-16T02:34:01.366Z"
   },
   {
    "duration": 34,
    "start_time": "2024-12-16T02:34:01.580Z"
   },
   {
    "duration": 84,
    "start_time": "2024-12-16T02:34:01.616Z"
   },
   {
    "duration": 14,
    "start_time": "2024-12-16T02:34:01.702Z"
   },
   {
    "duration": 2913,
    "start_time": "2024-12-16T02:34:01.718Z"
   },
   {
    "duration": 18,
    "start_time": "2024-12-16T02:34:04.633Z"
   },
   {
    "duration": 27,
    "start_time": "2024-12-16T02:34:04.653Z"
   },
   {
    "duration": 15,
    "start_time": "2024-12-16T02:34:04.682Z"
   },
   {
    "duration": 88,
    "start_time": "2024-12-16T02:34:04.699Z"
   },
   {
    "duration": 1209,
    "start_time": "2024-12-16T02:34:04.789Z"
   },
   {
    "duration": 219,
    "start_time": "2024-12-16T02:34:06.000Z"
   },
   {
    "duration": 578,
    "start_time": "2024-12-16T02:34:06.221Z"
   },
   {
    "duration": 54,
    "start_time": "2024-12-16T02:34:06.801Z"
   },
   {
    "duration": 92,
    "start_time": "2024-12-16T02:34:06.857Z"
   },
   {
    "duration": 3,
    "start_time": "2024-12-16T02:34:06.951Z"
   },
   {
    "duration": 9,
    "start_time": "2024-12-16T02:34:06.956Z"
   },
   {
    "duration": 40,
    "start_time": "2024-12-16T02:34:06.967Z"
   },
   {
    "duration": 3744,
    "start_time": "2024-12-16T02:34:07.009Z"
   },
   {
    "duration": 22768,
    "start_time": "2024-12-16T02:34:10.755Z"
   },
   {
    "duration": 24,
    "start_time": "2024-12-16T02:34:33.524Z"
   },
   {
    "duration": 72,
    "start_time": "2024-12-16T02:45:26.048Z"
   },
   {
    "duration": 65,
    "start_time": "2024-12-16T02:46:00.602Z"
   },
   {
    "duration": 4,
    "start_time": "2024-12-16T02:51:01.903Z"
   },
   {
    "duration": 2696,
    "start_time": "2024-12-16T16:12:14.005Z"
   },
   {
    "duration": 451,
    "start_time": "2024-12-16T16:12:16.703Z"
   },
   {
    "duration": 98,
    "start_time": "2024-12-16T16:12:17.156Z"
   },
   {
    "duration": 96,
    "start_time": "2024-12-16T16:12:17.257Z"
   },
   {
    "duration": 69,
    "start_time": "2024-12-16T16:12:17.356Z"
   },
   {
    "duration": 3,
    "start_time": "2024-12-16T16:12:17.427Z"
   },
   {
    "duration": 512,
    "start_time": "2024-12-16T16:12:17.433Z"
   },
   {
    "duration": 6,
    "start_time": "2024-12-16T16:12:17.947Z"
   },
   {
    "duration": 14,
    "start_time": "2024-12-16T16:12:17.954Z"
   },
   {
    "duration": 20,
    "start_time": "2024-12-16T16:12:17.970Z"
   },
   {
    "duration": 6,
    "start_time": "2024-12-16T16:12:17.992Z"
   },
   {
    "duration": 32,
    "start_time": "2024-12-16T16:12:18.000Z"
   },
   {
    "duration": 6,
    "start_time": "2024-12-16T16:12:18.035Z"
   },
   {
    "duration": 37,
    "start_time": "2024-12-16T16:12:18.046Z"
   },
   {
    "duration": 52,
    "start_time": "2024-12-16T16:12:18.086Z"
   },
   {
    "duration": 140,
    "start_time": "2024-12-16T16:12:18.140Z"
   },
   {
    "duration": 55,
    "start_time": "2024-12-16T16:12:18.282Z"
   },
   {
    "duration": 675,
    "start_time": "2024-12-16T16:12:18.338Z"
   },
   {
    "duration": 14,
    "start_time": "2024-12-16T16:12:19.015Z"
   },
   {
    "duration": 37,
    "start_time": "2024-12-16T16:12:19.031Z"
   },
   {
    "duration": 13,
    "start_time": "2024-12-16T16:12:19.070Z"
   },
   {
    "duration": 39,
    "start_time": "2024-12-16T16:12:19.085Z"
   },
   {
    "duration": 2619,
    "start_time": "2024-12-16T16:12:19.126Z"
   },
   {
    "duration": 230,
    "start_time": "2024-12-16T16:12:21.747Z"
   },
   {
    "duration": 73,
    "start_time": "2024-12-16T16:12:21.978Z"
   },
   {
    "duration": 9,
    "start_time": "2024-12-16T16:12:22.053Z"
   },
   {
    "duration": 2534,
    "start_time": "2024-12-16T16:12:22.065Z"
   },
   {
    "duration": 63,
    "start_time": "2024-12-16T16:12:24.601Z"
   },
   {
    "duration": 195,
    "start_time": "2024-12-16T16:12:24.666Z"
   },
   {
    "duration": 33,
    "start_time": "2024-12-16T16:12:24.863Z"
   },
   {
    "duration": 85,
    "start_time": "2024-12-16T16:12:24.898Z"
   },
   {
    "duration": 14,
    "start_time": "2024-12-16T16:12:24.985Z"
   },
   {
    "duration": 2884,
    "start_time": "2024-12-16T16:12:25.001Z"
   },
   {
    "duration": 14,
    "start_time": "2024-12-16T16:12:27.887Z"
   },
   {
    "duration": 42,
    "start_time": "2024-12-16T16:12:27.903Z"
   },
   {
    "duration": 14,
    "start_time": "2024-12-16T16:12:27.946Z"
   },
   {
    "duration": 80,
    "start_time": "2024-12-16T16:12:27.962Z"
   },
   {
    "duration": 1180,
    "start_time": "2024-12-16T16:12:28.044Z"
   },
   {
    "duration": 226,
    "start_time": "2024-12-16T16:12:29.226Z"
   },
   {
    "duration": 572,
    "start_time": "2024-12-16T16:12:29.455Z"
   },
   {
    "duration": 44,
    "start_time": "2024-12-16T16:12:30.033Z"
   },
   {
    "duration": 100,
    "start_time": "2024-12-16T16:12:30.079Z"
   },
   {
    "duration": 3,
    "start_time": "2024-12-16T16:12:30.181Z"
   },
   {
    "duration": 11,
    "start_time": "2024-12-16T16:12:30.186Z"
   },
   {
    "duration": 62,
    "start_time": "2024-12-16T16:12:30.198Z"
   },
   {
    "duration": 3938,
    "start_time": "2024-12-16T16:12:30.262Z"
   },
   {
    "duration": 23986,
    "start_time": "2024-12-16T16:12:34.201Z"
   },
   {
    "duration": 70,
    "start_time": "2024-12-16T16:12:58.191Z"
   },
   {
    "duration": 19,
    "start_time": "2024-12-16T16:12:58.263Z"
   },
   {
    "duration": 2,
    "start_time": "2024-12-16T16:12:58.284Z"
   },
   {
    "duration": 5,
    "start_time": "2024-12-16T16:34:13.936Z"
   },
   {
    "duration": 4,
    "start_time": "2024-12-16T16:34:26.969Z"
   },
   {
    "duration": 3,
    "start_time": "2024-12-16T16:34:41.362Z"
   },
   {
    "duration": 1032,
    "start_time": "2024-12-16T16:43:24.152Z"
   },
   {
    "duration": 409,
    "start_time": "2024-12-16T16:43:25.186Z"
   },
   {
    "duration": 95,
    "start_time": "2024-12-16T16:43:25.596Z"
   },
   {
    "duration": 104,
    "start_time": "2024-12-16T16:43:25.693Z"
   },
   {
    "duration": 88,
    "start_time": "2024-12-16T16:43:25.799Z"
   },
   {
    "duration": 4,
    "start_time": "2024-12-16T16:43:25.888Z"
   },
   {
    "duration": 505,
    "start_time": "2024-12-16T16:43:25.893Z"
   },
   {
    "duration": 4,
    "start_time": "2024-12-16T16:43:26.399Z"
   },
   {
    "duration": 25,
    "start_time": "2024-12-16T16:43:26.405Z"
   },
   {
    "duration": 21,
    "start_time": "2024-12-16T16:43:26.433Z"
   },
   {
    "duration": 5,
    "start_time": "2024-12-16T16:43:26.456Z"
   },
   {
    "duration": 8,
    "start_time": "2024-12-16T16:43:26.463Z"
   },
   {
    "duration": 4,
    "start_time": "2024-12-16T16:43:26.473Z"
   },
   {
    "duration": 69,
    "start_time": "2024-12-16T16:43:26.479Z"
   },
   {
    "duration": 32,
    "start_time": "2024-12-16T16:43:26.549Z"
   },
   {
    "duration": 304,
    "start_time": "2024-12-16T16:43:26.582Z"
   },
   {
    "duration": 53,
    "start_time": "2024-12-16T16:43:26.888Z"
   },
   {
    "duration": 705,
    "start_time": "2024-12-16T16:43:26.943Z"
   },
   {
    "duration": 15,
    "start_time": "2024-12-16T16:43:27.649Z"
   },
   {
    "duration": 37,
    "start_time": "2024-12-16T16:43:27.665Z"
   },
   {
    "duration": 16,
    "start_time": "2024-12-16T16:43:27.723Z"
   },
   {
    "duration": 14,
    "start_time": "2024-12-16T16:43:27.741Z"
   },
   {
    "duration": 2539,
    "start_time": "2024-12-16T16:43:27.757Z"
   },
   {
    "duration": 260,
    "start_time": "2024-12-16T16:43:30.298Z"
   },
   {
    "duration": 66,
    "start_time": "2024-12-16T16:43:30.559Z"
   },
   {
    "duration": 10,
    "start_time": "2024-12-16T16:43:30.627Z"
   },
   {
    "duration": 2416,
    "start_time": "2024-12-16T16:43:30.638Z"
   },
   {
    "duration": 66,
    "start_time": "2024-12-16T16:43:33.059Z"
   },
   {
    "duration": 226,
    "start_time": "2024-12-16T16:43:33.127Z"
   },
   {
    "duration": 33,
    "start_time": "2024-12-16T16:43:33.354Z"
   },
   {
    "duration": 86,
    "start_time": "2024-12-16T16:43:33.388Z"
   },
   {
    "duration": 14,
    "start_time": "2024-12-16T16:43:33.475Z"
   },
   {
    "duration": 2808,
    "start_time": "2024-12-16T16:43:33.491Z"
   },
   {
    "duration": 24,
    "start_time": "2024-12-16T16:43:36.302Z"
   },
   {
    "duration": 34,
    "start_time": "2024-12-16T16:43:36.329Z"
   },
   {
    "duration": 14,
    "start_time": "2024-12-16T16:43:36.365Z"
   },
   {
    "duration": 79,
    "start_time": "2024-12-16T16:43:36.382Z"
   },
   {
    "duration": 1225,
    "start_time": "2024-12-16T16:43:36.462Z"
   },
   {
    "duration": 253,
    "start_time": "2024-12-16T16:43:37.688Z"
   },
   {
    "duration": 544,
    "start_time": "2024-12-16T16:43:37.943Z"
   },
   {
    "duration": 52,
    "start_time": "2024-12-16T16:43:38.489Z"
   },
   {
    "duration": 90,
    "start_time": "2024-12-16T16:43:38.542Z"
   },
   {
    "duration": 3,
    "start_time": "2024-12-16T16:43:38.634Z"
   },
   {
    "duration": 10,
    "start_time": "2024-12-16T16:43:38.639Z"
   },
   {
    "duration": 38,
    "start_time": "2024-12-16T16:43:38.651Z"
   },
   {
    "duration": 4100,
    "start_time": "2024-12-16T16:43:38.691Z"
   },
   {
    "duration": 23937,
    "start_time": "2024-12-16T16:43:42.793Z"
   },
   {
    "duration": 69,
    "start_time": "2024-12-16T16:44:06.731Z"
   },
   {
    "duration": 254,
    "start_time": "2024-12-16T16:44:06.802Z"
   },
   {
    "duration": 0,
    "start_time": "2024-12-16T16:44:07.058Z"
   },
   {
    "duration": 711,
    "start_time": "2024-12-16T16:48:22.817Z"
   },
   {
    "duration": 1043,
    "start_time": "2024-12-16T16:48:39.451Z"
   },
   {
    "duration": 412,
    "start_time": "2024-12-16T16:48:40.496Z"
   },
   {
    "duration": 104,
    "start_time": "2024-12-16T16:48:40.910Z"
   },
   {
    "duration": 89,
    "start_time": "2024-12-16T16:48:41.023Z"
   },
   {
    "duration": 69,
    "start_time": "2024-12-16T16:48:41.114Z"
   },
   {
    "duration": 6,
    "start_time": "2024-12-16T16:48:41.186Z"
   },
   {
    "duration": 490,
    "start_time": "2024-12-16T16:48:41.194Z"
   },
   {
    "duration": 4,
    "start_time": "2024-12-16T16:48:41.686Z"
   },
   {
    "duration": 12,
    "start_time": "2024-12-16T16:48:41.692Z"
   },
   {
    "duration": 21,
    "start_time": "2024-12-16T16:48:41.724Z"
   },
   {
    "duration": 6,
    "start_time": "2024-12-16T16:48:41.747Z"
   },
   {
    "duration": 9,
    "start_time": "2024-12-16T16:48:41.755Z"
   },
   {
    "duration": 6,
    "start_time": "2024-12-16T16:48:41.766Z"
   },
   {
    "duration": 66,
    "start_time": "2024-12-16T16:48:41.773Z"
   },
   {
    "duration": 30,
    "start_time": "2024-12-16T16:48:41.841Z"
   },
   {
    "duration": 22,
    "start_time": "2024-12-16T16:48:41.872Z"
   },
   {
    "duration": 66,
    "start_time": "2024-12-16T16:48:41.896Z"
   },
   {
    "duration": 677,
    "start_time": "2024-12-16T16:48:41.965Z"
   },
   {
    "duration": 16,
    "start_time": "2024-12-16T16:48:42.644Z"
   },
   {
    "duration": 37,
    "start_time": "2024-12-16T16:48:42.661Z"
   },
   {
    "duration": 27,
    "start_time": "2024-12-16T16:48:42.700Z"
   },
   {
    "duration": 13,
    "start_time": "2024-12-16T16:48:42.729Z"
   },
   {
    "duration": 2543,
    "start_time": "2024-12-16T16:48:42.744Z"
   },
   {
    "duration": 248,
    "start_time": "2024-12-16T16:48:45.289Z"
   },
   {
    "duration": 58,
    "start_time": "2024-12-16T16:48:45.539Z"
   },
   {
    "duration": 26,
    "start_time": "2024-12-16T16:48:45.599Z"
   },
   {
    "duration": 2429,
    "start_time": "2024-12-16T16:48:45.627Z"
   },
   {
    "duration": 69,
    "start_time": "2024-12-16T16:48:48.061Z"
   },
   {
    "duration": 222,
    "start_time": "2024-12-16T16:48:48.132Z"
   },
   {
    "duration": 35,
    "start_time": "2024-12-16T16:48:48.356Z"
   },
   {
    "duration": 79,
    "start_time": "2024-12-16T16:48:48.393Z"
   },
   {
    "duration": 14,
    "start_time": "2024-12-16T16:48:48.474Z"
   },
   {
    "duration": 2866,
    "start_time": "2024-12-16T16:48:48.489Z"
   },
   {
    "duration": 15,
    "start_time": "2024-12-16T16:48:51.357Z"
   },
   {
    "duration": 27,
    "start_time": "2024-12-16T16:48:51.374Z"
   },
   {
    "duration": 35,
    "start_time": "2024-12-16T16:48:51.402Z"
   },
   {
    "duration": 69,
    "start_time": "2024-12-16T16:48:51.439Z"
   },
   {
    "duration": 1246,
    "start_time": "2024-12-16T16:48:51.510Z"
   },
   {
    "duration": 243,
    "start_time": "2024-12-16T16:48:52.757Z"
   },
   {
    "duration": 549,
    "start_time": "2024-12-16T16:48:53.002Z"
   },
   {
    "duration": 49,
    "start_time": "2024-12-16T16:48:53.553Z"
   },
   {
    "duration": 95,
    "start_time": "2024-12-16T16:48:53.604Z"
   },
   {
    "duration": 3,
    "start_time": "2024-12-16T16:48:53.701Z"
   },
   {
    "duration": 25,
    "start_time": "2024-12-16T16:48:53.706Z"
   },
   {
    "duration": 39,
    "start_time": "2024-12-16T16:48:53.733Z"
   },
   {
    "duration": 3954,
    "start_time": "2024-12-16T16:48:53.774Z"
   },
   {
    "duration": 24238,
    "start_time": "2024-12-16T16:48:57.730Z"
   },
   {
    "duration": 73,
    "start_time": "2024-12-16T16:49:21.971Z"
   },
   {
    "duration": 256,
    "start_time": "2024-12-16T16:49:22.046Z"
   },
   {
    "duration": 0,
    "start_time": "2024-12-16T16:49:22.304Z"
   },
   {
    "duration": 3,
    "start_time": "2024-12-16T16:50:12.213Z"
   },
   {
    "duration": 2,
    "start_time": "2024-12-16T16:51:17.332Z"
   },
   {
    "duration": 3,
    "start_time": "2024-12-16T16:51:25.017Z"
   },
   {
    "duration": 1003,
    "start_time": "2024-12-16T16:51:41.622Z"
   },
   {
    "duration": 398,
    "start_time": "2024-12-16T16:51:42.627Z"
   },
   {
    "duration": 96,
    "start_time": "2024-12-16T16:51:43.028Z"
   },
   {
    "duration": 87,
    "start_time": "2024-12-16T16:51:43.126Z"
   },
   {
    "duration": 60,
    "start_time": "2024-12-16T16:51:43.224Z"
   },
   {
    "duration": 3,
    "start_time": "2024-12-16T16:51:43.285Z"
   },
   {
    "duration": 490,
    "start_time": "2024-12-16T16:51:43.290Z"
   },
   {
    "duration": 2,
    "start_time": "2024-12-16T16:51:43.782Z"
   },
   {
    "duration": 13,
    "start_time": "2024-12-16T16:51:43.786Z"
   },
   {
    "duration": 37,
    "start_time": "2024-12-16T16:51:43.802Z"
   },
   {
    "duration": 7,
    "start_time": "2024-12-16T16:51:43.840Z"
   },
   {
    "duration": 10,
    "start_time": "2024-12-16T16:51:43.848Z"
   },
   {
    "duration": 8,
    "start_time": "2024-12-16T16:51:43.859Z"
   },
   {
    "duration": 67,
    "start_time": "2024-12-16T16:51:43.870Z"
   },
   {
    "duration": 30,
    "start_time": "2024-12-16T16:51:43.939Z"
   },
   {
    "duration": 63,
    "start_time": "2024-12-16T16:51:43.971Z"
   },
   {
    "duration": 44,
    "start_time": "2024-12-16T16:51:44.036Z"
   },
   {
    "duration": 686,
    "start_time": "2024-12-16T16:51:44.082Z"
   },
   {
    "duration": 15,
    "start_time": "2024-12-16T16:51:44.769Z"
   },
   {
    "duration": 49,
    "start_time": "2024-12-16T16:51:44.785Z"
   },
   {
    "duration": 13,
    "start_time": "2024-12-16T16:51:44.837Z"
   },
   {
    "duration": 14,
    "start_time": "2024-12-16T16:51:44.851Z"
   },
   {
    "duration": 2713,
    "start_time": "2024-12-16T16:51:44.867Z"
   },
   {
    "duration": 254,
    "start_time": "2024-12-16T16:51:47.583Z"
   },
   {
    "duration": 58,
    "start_time": "2024-12-16T16:51:47.839Z"
   },
   {
    "duration": 9,
    "start_time": "2024-12-16T16:51:47.899Z"
   },
   {
    "duration": 2416,
    "start_time": "2024-12-16T16:51:47.910Z"
   },
   {
    "duration": 60,
    "start_time": "2024-12-16T16:51:50.331Z"
   },
   {
    "duration": 243,
    "start_time": "2024-12-16T16:51:50.393Z"
   },
   {
    "duration": 33,
    "start_time": "2024-12-16T16:51:50.638Z"
   },
   {
    "duration": 87,
    "start_time": "2024-12-16T16:51:50.672Z"
   },
   {
    "duration": 17,
    "start_time": "2024-12-16T16:51:50.760Z"
   },
   {
    "duration": 2953,
    "start_time": "2024-12-16T16:51:50.779Z"
   },
   {
    "duration": 14,
    "start_time": "2024-12-16T16:51:53.734Z"
   },
   {
    "duration": 27,
    "start_time": "2024-12-16T16:51:53.751Z"
   },
   {
    "duration": 15,
    "start_time": "2024-12-16T16:51:53.779Z"
   },
   {
    "duration": 93,
    "start_time": "2024-12-16T16:51:53.795Z"
   },
   {
    "duration": 1185,
    "start_time": "2024-12-16T16:51:53.890Z"
   },
   {
    "duration": 248,
    "start_time": "2024-12-16T16:51:55.077Z"
   },
   {
    "duration": 541,
    "start_time": "2024-12-16T16:51:55.326Z"
   },
   {
    "duration": 44,
    "start_time": "2024-12-16T16:51:55.869Z"
   },
   {
    "duration": 89,
    "start_time": "2024-12-16T16:51:55.914Z"
   },
   {
    "duration": 3,
    "start_time": "2024-12-16T16:51:56.005Z"
   },
   {
    "duration": 20,
    "start_time": "2024-12-16T16:51:56.010Z"
   },
   {
    "duration": 45,
    "start_time": "2024-12-16T16:51:56.033Z"
   },
   {
    "duration": 3978,
    "start_time": "2024-12-16T16:51:56.080Z"
   },
   {
    "duration": 24264,
    "start_time": "2024-12-16T16:52:00.060Z"
   },
   {
    "duration": 69,
    "start_time": "2024-12-16T16:52:24.326Z"
   },
   {
    "duration": 4,
    "start_time": "2024-12-16T16:52:24.397Z"
   },
   {
    "duration": 268,
    "start_time": "2024-12-16T16:52:24.403Z"
   },
   {
    "duration": 0,
    "start_time": "2024-12-16T16:52:24.673Z"
   },
   {
    "duration": 3,
    "start_time": "2024-12-16T16:55:01.018Z"
   },
   {
    "duration": 3,
    "start_time": "2024-12-16T16:55:05.291Z"
   },
   {
    "duration": 14,
    "start_time": "2024-12-16T16:56:52.488Z"
   },
   {
    "duration": 2,
    "start_time": "2024-12-16T16:57:01.195Z"
   },
   {
    "duration": 3,
    "start_time": "2024-12-16T16:57:02.783Z"
   },
   {
    "duration": 384,
    "start_time": "2024-12-16T16:57:04.649Z"
   },
   {
    "duration": 3,
    "start_time": "2024-12-16T16:58:49.785Z"
   },
   {
    "duration": 3,
    "start_time": "2024-12-16T16:58:52.512Z"
   },
   {
    "duration": 74,
    "start_time": "2024-12-16T16:58:55.230Z"
   },
   {
    "duration": 101,
    "start_time": "2024-12-16T17:09:00.568Z"
   },
   {
    "duration": 1041,
    "start_time": "2024-12-16T17:09:13.163Z"
   },
   {
    "duration": 410,
    "start_time": "2024-12-16T17:09:14.206Z"
   },
   {
    "duration": 96,
    "start_time": "2024-12-16T17:09:14.618Z"
   },
   {
    "duration": 104,
    "start_time": "2024-12-16T17:09:14.723Z"
   },
   {
    "duration": 61,
    "start_time": "2024-12-16T17:09:14.828Z"
   },
   {
    "duration": 3,
    "start_time": "2024-12-16T17:09:14.892Z"
   },
   {
    "duration": 504,
    "start_time": "2024-12-16T17:09:14.896Z"
   },
   {
    "duration": 2,
    "start_time": "2024-12-16T17:09:15.402Z"
   },
   {
    "duration": 29,
    "start_time": "2024-12-16T17:09:15.406Z"
   },
   {
    "duration": 21,
    "start_time": "2024-12-16T17:09:15.439Z"
   },
   {
    "duration": 6,
    "start_time": "2024-12-16T17:09:15.461Z"
   },
   {
    "duration": 9,
    "start_time": "2024-12-16T17:09:15.469Z"
   },
   {
    "duration": 6,
    "start_time": "2024-12-16T17:09:15.480Z"
   },
   {
    "duration": 69,
    "start_time": "2024-12-16T17:09:15.487Z"
   },
   {
    "duration": 30,
    "start_time": "2024-12-16T17:09:15.558Z"
   },
   {
    "duration": 35,
    "start_time": "2024-12-16T17:09:15.590Z"
   },
   {
    "duration": 46,
    "start_time": "2024-12-16T17:09:15.627Z"
   },
   {
    "duration": 674,
    "start_time": "2024-12-16T17:09:15.675Z"
   },
   {
    "duration": 15,
    "start_time": "2024-12-16T17:09:16.351Z"
   },
   {
    "duration": 38,
    "start_time": "2024-12-16T17:09:16.367Z"
   },
   {
    "duration": 25,
    "start_time": "2024-12-16T17:09:16.407Z"
   },
   {
    "duration": 13,
    "start_time": "2024-12-16T17:09:16.434Z"
   },
   {
    "duration": 2593,
    "start_time": "2024-12-16T17:09:16.450Z"
   },
   {
    "duration": 221,
    "start_time": "2024-12-16T17:09:19.045Z"
   },
   {
    "duration": 69,
    "start_time": "2024-12-16T17:09:19.268Z"
   },
   {
    "duration": 9,
    "start_time": "2024-12-16T17:09:19.339Z"
   },
   {
    "duration": 2470,
    "start_time": "2024-12-16T17:09:19.350Z"
   },
   {
    "duration": 61,
    "start_time": "2024-12-16T17:09:21.827Z"
   },
   {
    "duration": 245,
    "start_time": "2024-12-16T17:09:21.891Z"
   },
   {
    "duration": 33,
    "start_time": "2024-12-16T17:09:22.138Z"
   },
   {
    "duration": 97,
    "start_time": "2024-12-16T17:09:22.173Z"
   },
   {
    "duration": 18,
    "start_time": "2024-12-16T17:09:22.274Z"
   },
   {
    "duration": 2870,
    "start_time": "2024-12-16T17:09:22.295Z"
   },
   {
    "duration": 14,
    "start_time": "2024-12-16T17:09:25.167Z"
   },
   {
    "duration": 44,
    "start_time": "2024-12-16T17:09:25.182Z"
   },
   {
    "duration": 13,
    "start_time": "2024-12-16T17:09:25.229Z"
   },
   {
    "duration": 82,
    "start_time": "2024-12-16T17:09:25.244Z"
   },
   {
    "duration": 1205,
    "start_time": "2024-12-16T17:09:25.328Z"
   },
   {
    "duration": 236,
    "start_time": "2024-12-16T17:09:26.536Z"
   },
   {
    "duration": 553,
    "start_time": "2024-12-16T17:09:26.774Z"
   },
   {
    "duration": 43,
    "start_time": "2024-12-16T17:09:27.328Z"
   },
   {
    "duration": 98,
    "start_time": "2024-12-16T17:09:27.373Z"
   },
   {
    "duration": 3,
    "start_time": "2024-12-16T17:09:27.473Z"
   },
   {
    "duration": 10,
    "start_time": "2024-12-16T17:09:27.478Z"
   },
   {
    "duration": 61,
    "start_time": "2024-12-16T17:09:27.489Z"
   },
   {
    "duration": 3946,
    "start_time": "2024-12-16T17:09:27.552Z"
   },
   {
    "duration": 24000,
    "start_time": "2024-12-16T17:09:31.500Z"
   },
   {
    "duration": 80,
    "start_time": "2024-12-16T17:09:55.502Z"
   },
   {
    "duration": 4,
    "start_time": "2024-12-16T17:09:55.584Z"
   },
   {
    "duration": 126,
    "start_time": "2024-12-16T17:09:55.590Z"
   },
   {
    "duration": 3,
    "start_time": "2024-12-16T17:09:55.723Z"
   },
   {
    "duration": 4107,
    "start_time": "2024-12-16T17:09:55.728Z"
   },
   {
    "duration": 9,
    "start_time": "2024-12-16T17:11:19.044Z"
   },
   {
    "duration": 229,
    "start_time": "2024-12-16T17:13:46.170Z"
   },
   {
    "duration": 290,
    "start_time": "2024-12-16T17:16:03.921Z"
   },
   {
    "duration": 84,
    "start_time": "2024-12-16T17:17:06.275Z"
   },
   {
    "duration": 91,
    "start_time": "2024-12-16T17:17:38.390Z"
   },
   {
    "duration": 1045,
    "start_time": "2024-12-16T17:28:46.166Z"
   },
   {
    "duration": 433,
    "start_time": "2024-12-16T17:28:47.214Z"
   },
   {
    "duration": 143,
    "start_time": "2024-12-16T17:28:47.648Z"
   },
   {
    "duration": 114,
    "start_time": "2024-12-16T17:28:47.794Z"
   },
   {
    "duration": 80,
    "start_time": "2024-12-16T17:28:47.909Z"
   },
   {
    "duration": 3,
    "start_time": "2024-12-16T17:28:47.991Z"
   },
   {
    "duration": 534,
    "start_time": "2024-12-16T17:28:47.996Z"
   },
   {
    "duration": 3,
    "start_time": "2024-12-16T17:28:48.531Z"
   },
   {
    "duration": 12,
    "start_time": "2024-12-16T17:28:48.536Z"
   },
   {
    "duration": 21,
    "start_time": "2024-12-16T17:28:48.552Z"
   },
   {
    "duration": 6,
    "start_time": "2024-12-16T17:28:48.575Z"
   },
   {
    "duration": 42,
    "start_time": "2024-12-16T17:28:48.582Z"
   },
   {
    "duration": 5,
    "start_time": "2024-12-16T17:28:48.626Z"
   },
   {
    "duration": 36,
    "start_time": "2024-12-16T17:28:48.632Z"
   },
   {
    "duration": 54,
    "start_time": "2024-12-16T17:28:48.670Z"
   },
   {
    "duration": 20,
    "start_time": "2024-12-16T17:28:48.726Z"
   },
   {
    "duration": 45,
    "start_time": "2024-12-16T17:28:48.749Z"
   },
   {
    "duration": 679,
    "start_time": "2024-12-16T17:28:48.796Z"
   },
   {
    "duration": 14,
    "start_time": "2024-12-16T17:28:49.477Z"
   },
   {
    "duration": 46,
    "start_time": "2024-12-16T17:28:49.492Z"
   },
   {
    "duration": 14,
    "start_time": "2024-12-16T17:28:49.540Z"
   },
   {
    "duration": 14,
    "start_time": "2024-12-16T17:28:49.556Z"
   },
   {
    "duration": 2592,
    "start_time": "2024-12-16T17:28:49.572Z"
   },
   {
    "duration": 211,
    "start_time": "2024-12-16T17:28:52.166Z"
   },
   {
    "duration": 70,
    "start_time": "2024-12-16T17:28:52.379Z"
   },
   {
    "duration": 10,
    "start_time": "2024-12-16T17:28:52.450Z"
   },
   {
    "duration": 2429,
    "start_time": "2024-12-16T17:28:52.462Z"
   },
   {
    "duration": 67,
    "start_time": "2024-12-16T17:28:54.895Z"
   },
   {
    "duration": 190,
    "start_time": "2024-12-16T17:28:54.964Z"
   },
   {
    "duration": 34,
    "start_time": "2024-12-16T17:28:55.155Z"
   },
   {
    "duration": 84,
    "start_time": "2024-12-16T17:28:55.191Z"
   },
   {
    "duration": 15,
    "start_time": "2024-12-16T17:28:55.276Z"
   },
   {
    "duration": 2913,
    "start_time": "2024-12-16T17:28:55.292Z"
   },
   {
    "duration": 20,
    "start_time": "2024-12-16T17:28:58.207Z"
   },
   {
    "duration": 30,
    "start_time": "2024-12-16T17:28:58.229Z"
   },
   {
    "duration": 18,
    "start_time": "2024-12-16T17:28:58.260Z"
   },
   {
    "duration": 90,
    "start_time": "2024-12-16T17:28:58.280Z"
   },
   {
    "duration": 1182,
    "start_time": "2024-12-16T17:28:58.372Z"
   },
   {
    "duration": 241,
    "start_time": "2024-12-16T17:28:59.556Z"
   },
   {
    "duration": 546,
    "start_time": "2024-12-16T17:28:59.798Z"
   },
   {
    "duration": 53,
    "start_time": "2024-12-16T17:29:00.345Z"
   },
   {
    "duration": 98,
    "start_time": "2024-12-16T17:29:00.400Z"
   },
   {
    "duration": 3,
    "start_time": "2024-12-16T17:29:00.500Z"
   },
   {
    "duration": 22,
    "start_time": "2024-12-16T17:29:00.505Z"
   },
   {
    "duration": 38,
    "start_time": "2024-12-16T17:29:00.528Z"
   },
   {
    "duration": 4003,
    "start_time": "2024-12-16T17:29:00.568Z"
   },
   {
    "duration": 25577,
    "start_time": "2024-12-16T17:29:04.573Z"
   },
   {
    "duration": 88,
    "start_time": "2024-12-16T17:29:30.152Z"
   },
   {
    "duration": 159,
    "start_time": "2024-12-16T17:29:30.242Z"
   },
   {
    "duration": 277,
    "start_time": "2024-12-16T17:29:30.403Z"
   },
   {
    "duration": 19845,
    "start_time": "2024-12-16T17:29:30.682Z"
   },
   {
    "duration": 2951,
    "start_time": "2024-12-16T17:29:50.528Z"
   },
   {
    "duration": 394,
    "start_time": "2024-12-16T17:33:25.815Z"
   },
   {
    "duration": 9,
    "start_time": "2024-12-16T17:33:38.354Z"
   },
   {
    "duration": 13,
    "start_time": "2024-12-16T17:36:03.677Z"
   },
   {
    "duration": 78,
    "start_time": "2024-12-16T17:36:40.274Z"
   },
   {
    "duration": 19,
    "start_time": "2024-12-16T17:37:18.414Z"
   },
   {
    "duration": 8,
    "start_time": "2024-12-16T17:37:33.104Z"
   },
   {
    "duration": 15712,
    "start_time": "2024-12-16T17:37:45.127Z"
   },
   {
    "duration": 12048,
    "start_time": "2024-12-16T17:39:03.187Z"
   },
   {
    "duration": 20298,
    "start_time": "2024-12-16T17:39:25.941Z"
   },
   {
    "duration": 22744,
    "start_time": "2024-12-16T17:40:26.685Z"
   },
   {
    "duration": 21807,
    "start_time": "2024-12-16T17:41:16.241Z"
   },
   {
    "duration": 21520,
    "start_time": "2024-12-16T17:42:01.322Z"
   },
   {
    "duration": 25005,
    "start_time": "2024-12-16T17:43:21.044Z"
   },
   {
    "duration": 19603,
    "start_time": "2024-12-16T17:44:00.636Z"
   },
   {
    "duration": 19150,
    "start_time": "2024-12-16T17:44:42.690Z"
   },
   {
    "duration": 4412,
    "start_time": "2024-12-16T17:45:54.215Z"
   },
   {
    "duration": 4348,
    "start_time": "2024-12-16T17:46:20.877Z"
   },
   {
    "duration": 3748,
    "start_time": "2024-12-16T17:46:43.186Z"
   },
   {
    "duration": 4445,
    "start_time": "2024-12-16T17:46:57.393Z"
   },
   {
    "duration": 1013,
    "start_time": "2024-12-16T17:47:35.377Z"
   },
   {
    "duration": 406,
    "start_time": "2024-12-16T17:47:36.392Z"
   },
   {
    "duration": 104,
    "start_time": "2024-12-16T17:47:36.799Z"
   },
   {
    "duration": 101,
    "start_time": "2024-12-16T17:47:36.905Z"
   },
   {
    "duration": 69,
    "start_time": "2024-12-16T17:47:37.009Z"
   },
   {
    "duration": 3,
    "start_time": "2024-12-16T17:47:37.080Z"
   },
   {
    "duration": 512,
    "start_time": "2024-12-16T17:47:37.085Z"
   },
   {
    "duration": 3,
    "start_time": "2024-12-16T17:47:37.599Z"
   },
   {
    "duration": 25,
    "start_time": "2024-12-16T17:47:37.604Z"
   },
   {
    "duration": 21,
    "start_time": "2024-12-16T17:47:37.631Z"
   },
   {
    "duration": 6,
    "start_time": "2024-12-16T17:47:37.654Z"
   },
   {
    "duration": 9,
    "start_time": "2024-12-16T17:47:37.661Z"
   },
   {
    "duration": 5,
    "start_time": "2024-12-16T17:47:37.672Z"
   },
   {
    "duration": 71,
    "start_time": "2024-12-16T17:47:37.681Z"
   },
   {
    "duration": 31,
    "start_time": "2024-12-16T17:47:37.753Z"
   },
   {
    "duration": 22,
    "start_time": "2024-12-16T17:47:37.785Z"
   },
   {
    "duration": 66,
    "start_time": "2024-12-16T17:47:37.809Z"
   },
   {
    "duration": 726,
    "start_time": "2024-12-16T17:47:37.877Z"
   },
   {
    "duration": 20,
    "start_time": "2024-12-16T17:47:38.605Z"
   },
   {
    "duration": 36,
    "start_time": "2024-12-16T17:47:38.627Z"
   },
   {
    "duration": 14,
    "start_time": "2024-12-16T17:47:38.665Z"
   },
   {
    "duration": 14,
    "start_time": "2024-12-16T17:47:38.680Z"
   },
   {
    "duration": 2655,
    "start_time": "2024-12-16T17:47:38.695Z"
   },
   {
    "duration": 217,
    "start_time": "2024-12-16T17:47:41.352Z"
   },
   {
    "duration": 71,
    "start_time": "2024-12-16T17:47:41.570Z"
   },
   {
    "duration": 9,
    "start_time": "2024-12-16T17:47:41.643Z"
   },
   {
    "duration": 2446,
    "start_time": "2024-12-16T17:47:41.653Z"
   },
   {
    "duration": 68,
    "start_time": "2024-12-16T17:47:44.101Z"
   },
   {
    "duration": 193,
    "start_time": "2024-12-16T17:47:44.171Z"
   },
   {
    "duration": 33,
    "start_time": "2024-12-16T17:47:44.365Z"
   },
   {
    "duration": 81,
    "start_time": "2024-12-16T17:47:44.400Z"
   },
   {
    "duration": 13,
    "start_time": "2024-12-16T17:47:44.485Z"
   },
   {
    "duration": 2884,
    "start_time": "2024-12-16T17:47:44.500Z"
   },
   {
    "duration": 13,
    "start_time": "2024-12-16T17:47:47.387Z"
   },
   {
    "duration": 37,
    "start_time": "2024-12-16T17:47:47.403Z"
   },
   {
    "duration": 14,
    "start_time": "2024-12-16T17:47:47.441Z"
   },
   {
    "duration": 86,
    "start_time": "2024-12-16T17:47:47.457Z"
   },
   {
    "duration": 1243,
    "start_time": "2024-12-16T17:47:47.545Z"
   },
   {
    "duration": 243,
    "start_time": "2024-12-16T17:47:48.790Z"
   },
   {
    "duration": 541,
    "start_time": "2024-12-16T17:47:49.036Z"
   },
   {
    "duration": 53,
    "start_time": "2024-12-16T17:47:49.582Z"
   },
   {
    "duration": 91,
    "start_time": "2024-12-16T17:47:49.636Z"
   },
   {
    "duration": 3,
    "start_time": "2024-12-16T17:47:49.729Z"
   },
   {
    "duration": 10,
    "start_time": "2024-12-16T17:47:49.734Z"
   },
   {
    "duration": 40,
    "start_time": "2024-12-16T17:47:49.745Z"
   },
   {
    "duration": 4004,
    "start_time": "2024-12-16T17:47:49.787Z"
   },
   {
    "duration": 24131,
    "start_time": "2024-12-16T17:47:53.793Z"
   },
   {
    "duration": 71,
    "start_time": "2024-12-16T17:48:17.926Z"
   },
   {
    "duration": 3,
    "start_time": "2024-12-16T17:48:17.999Z"
   },
   {
    "duration": 115,
    "start_time": "2024-12-16T17:48:18.004Z"
   },
   {
    "duration": 4410,
    "start_time": "2024-12-16T17:48:18.124Z"
   },
   {
    "duration": 290,
    "start_time": "2024-12-16T17:48:22.536Z"
   },
   {
    "duration": 20441,
    "start_time": "2024-12-16T17:48:56.495Z"
   },
   {
    "duration": 22162,
    "start_time": "2024-12-16T17:49:43.880Z"
   },
   {
    "duration": 21757,
    "start_time": "2024-12-16T17:50:20.873Z"
   },
   {
    "duration": 21078,
    "start_time": "2024-12-16T17:51:04.955Z"
   },
   {
    "duration": 22773,
    "start_time": "2024-12-16T17:51:36.982Z"
   },
   {
    "duration": 25928,
    "start_time": "2024-12-16T17:52:25.212Z"
   },
   {
    "duration": 19635,
    "start_time": "2024-12-16T17:53:42.513Z"
   },
   {
    "duration": 20470,
    "start_time": "2024-12-16T17:54:16.768Z"
   },
   {
    "duration": 19116,
    "start_time": "2024-12-16T17:54:45.008Z"
   },
   {
    "duration": 5,
    "start_time": "2024-12-16T17:57:35.083Z"
   },
   {
    "duration": 3821,
    "start_time": "2024-12-16T17:57:41.609Z"
   },
   {
    "duration": 21408,
    "start_time": "2024-12-16T17:58:05.322Z"
   },
   {
    "duration": 3745,
    "start_time": "2024-12-16T18:05:00.796Z"
   },
   {
    "duration": 2119,
    "start_time": "2024-12-16T18:07:16.663Z"
   },
   {
    "duration": 4,
    "start_time": "2024-12-16T18:07:35.273Z"
   },
   {
    "duration": 5,
    "start_time": "2024-12-16T18:07:44.959Z"
   },
   {
    "duration": 1032,
    "start_time": "2024-12-16T18:07:56.782Z"
   },
   {
    "duration": 422,
    "start_time": "2024-12-16T18:07:57.817Z"
   },
   {
    "duration": 115,
    "start_time": "2024-12-16T18:07:58.241Z"
   },
   {
    "duration": 115,
    "start_time": "2024-12-16T18:07:58.359Z"
   },
   {
    "duration": 70,
    "start_time": "2024-12-16T18:07:58.477Z"
   },
   {
    "duration": 3,
    "start_time": "2024-12-16T18:07:58.549Z"
   },
   {
    "duration": 507,
    "start_time": "2024-12-16T18:07:58.554Z"
   },
   {
    "duration": 4,
    "start_time": "2024-12-16T18:07:59.063Z"
   },
   {
    "duration": 12,
    "start_time": "2024-12-16T18:07:59.069Z"
   },
   {
    "duration": 20,
    "start_time": "2024-12-16T18:07:59.084Z"
   },
   {
    "duration": 23,
    "start_time": "2024-12-16T18:07:59.106Z"
   },
   {
    "duration": 10,
    "start_time": "2024-12-16T18:07:59.130Z"
   },
   {
    "duration": 5,
    "start_time": "2024-12-16T18:07:59.141Z"
   },
   {
    "duration": 38,
    "start_time": "2024-12-16T18:07:59.148Z"
   },
   {
    "duration": 54,
    "start_time": "2024-12-16T18:07:59.188Z"
   },
   {
    "duration": 19,
    "start_time": "2024-12-16T18:07:59.244Z"
   },
   {
    "duration": 63,
    "start_time": "2024-12-16T18:07:59.265Z"
   },
   {
    "duration": 660,
    "start_time": "2024-12-16T18:07:59.329Z"
   },
   {
    "duration": 14,
    "start_time": "2024-12-16T18:07:59.991Z"
   },
   {
    "duration": 45,
    "start_time": "2024-12-16T18:08:00.007Z"
   },
   {
    "duration": 13,
    "start_time": "2024-12-16T18:08:00.054Z"
   },
   {
    "duration": 14,
    "start_time": "2024-12-16T18:08:00.069Z"
   },
   {
    "duration": 2564,
    "start_time": "2024-12-16T18:08:00.084Z"
   },
   {
    "duration": 224,
    "start_time": "2024-12-16T18:08:02.650Z"
   },
   {
    "duration": 69,
    "start_time": "2024-12-16T18:08:02.876Z"
   },
   {
    "duration": 9,
    "start_time": "2024-12-16T18:08:02.947Z"
   },
   {
    "duration": 2397,
    "start_time": "2024-12-16T18:08:02.958Z"
   },
   {
    "duration": 66,
    "start_time": "2024-12-16T18:08:05.359Z"
   },
   {
    "duration": 229,
    "start_time": "2024-12-16T18:08:05.427Z"
   },
   {
    "duration": 33,
    "start_time": "2024-12-16T18:08:05.657Z"
   },
   {
    "duration": 80,
    "start_time": "2024-12-16T18:08:05.692Z"
   },
   {
    "duration": 15,
    "start_time": "2024-12-16T18:08:05.773Z"
   },
   {
    "duration": 2878,
    "start_time": "2024-12-16T18:08:05.789Z"
   },
   {
    "duration": 14,
    "start_time": "2024-12-16T18:08:08.669Z"
   },
   {
    "duration": 45,
    "start_time": "2024-12-16T18:08:08.685Z"
   },
   {
    "duration": 15,
    "start_time": "2024-12-16T18:08:08.732Z"
   },
   {
    "duration": 80,
    "start_time": "2024-12-16T18:08:08.749Z"
   },
   {
    "duration": 1188,
    "start_time": "2024-12-16T18:08:08.831Z"
   },
   {
    "duration": 254,
    "start_time": "2024-12-16T18:08:10.025Z"
   },
   {
    "duration": 539,
    "start_time": "2024-12-16T18:08:10.281Z"
   },
   {
    "duration": 43,
    "start_time": "2024-12-16T18:08:10.825Z"
   },
   {
    "duration": 95,
    "start_time": "2024-12-16T18:08:10.869Z"
   },
   {
    "duration": 3,
    "start_time": "2024-12-16T18:08:10.965Z"
   },
   {
    "duration": 9,
    "start_time": "2024-12-16T18:08:10.970Z"
   },
   {
    "duration": 58,
    "start_time": "2024-12-16T18:08:10.981Z"
   },
   {
    "duration": 3935,
    "start_time": "2024-12-16T18:08:11.041Z"
   },
   {
    "duration": 23908,
    "start_time": "2024-12-16T18:08:14.978Z"
   },
   {
    "duration": 82,
    "start_time": "2024-12-16T18:08:38.888Z"
   },
   {
    "duration": 4,
    "start_time": "2024-12-16T18:08:38.971Z"
   },
   {
    "duration": 113,
    "start_time": "2024-12-16T18:08:38.976Z"
   },
   {
    "duration": 19148,
    "start_time": "2024-12-16T18:08:39.091Z"
   },
   {
    "duration": 3592,
    "start_time": "2024-12-16T18:08:58.241Z"
   },
   {
    "duration": 4,
    "start_time": "2024-12-16T18:09:01.834Z"
   },
   {
    "duration": 3428,
    "start_time": "2024-12-16T18:09:14.499Z"
   },
   {
    "duration": 3,
    "start_time": "2024-12-16T18:10:06.316Z"
   },
   {
    "duration": 6,
    "start_time": "2024-12-16T18:10:17.315Z"
   },
   {
    "duration": 1020,
    "start_time": "2024-12-16T18:10:17.323Z"
   },
   {
    "duration": 430,
    "start_time": "2024-12-16T18:10:18.345Z"
   },
   {
    "duration": 93,
    "start_time": "2024-12-16T18:10:18.776Z"
   },
   {
    "duration": 100,
    "start_time": "2024-12-16T18:10:18.872Z"
   },
   {
    "duration": 80,
    "start_time": "2024-12-16T18:10:18.974Z"
   },
   {
    "duration": 3,
    "start_time": "2024-12-16T18:10:19.056Z"
   },
   {
    "duration": 551,
    "start_time": "2024-12-16T18:10:19.061Z"
   },
   {
    "duration": 12,
    "start_time": "2024-12-16T18:10:19.614Z"
   },
   {
    "duration": 13,
    "start_time": "2024-12-16T18:10:19.627Z"
   },
   {
    "duration": 21,
    "start_time": "2024-12-16T18:10:19.641Z"
   },
   {
    "duration": 6,
    "start_time": "2024-12-16T18:10:19.665Z"
   },
   {
    "duration": 9,
    "start_time": "2024-12-16T18:10:19.673Z"
   },
   {
    "duration": 38,
    "start_time": "2024-12-16T18:10:19.686Z"
   },
   {
    "duration": 39,
    "start_time": "2024-12-16T18:10:19.727Z"
   },
   {
    "duration": 32,
    "start_time": "2024-12-16T18:10:19.768Z"
   },
   {
    "duration": 71,
    "start_time": "2024-12-16T18:10:19.802Z"
   },
   {
    "duration": 58,
    "start_time": "2024-12-16T18:10:19.876Z"
   },
   {
    "duration": 699,
    "start_time": "2024-12-16T18:10:19.936Z"
   },
   {
    "duration": 16,
    "start_time": "2024-12-16T18:10:20.637Z"
   },
   {
    "duration": 39,
    "start_time": "2024-12-16T18:10:20.655Z"
   },
   {
    "duration": 41,
    "start_time": "2024-12-16T18:10:20.696Z"
   },
   {
    "duration": 17,
    "start_time": "2024-12-16T18:10:20.738Z"
   },
   {
    "duration": 2694,
    "start_time": "2024-12-16T18:10:20.757Z"
   },
   {
    "duration": 219,
    "start_time": "2024-12-16T18:10:23.453Z"
   },
   {
    "duration": 72,
    "start_time": "2024-12-16T18:10:23.674Z"
   },
   {
    "duration": 10,
    "start_time": "2024-12-16T18:10:23.748Z"
   },
   {
    "duration": 2380,
    "start_time": "2024-12-16T18:10:23.759Z"
   },
   {
    "duration": 58,
    "start_time": "2024-12-16T18:10:26.140Z"
   },
   {
    "duration": 248,
    "start_time": "2024-12-16T18:10:26.200Z"
   },
   {
    "duration": 33,
    "start_time": "2024-12-16T18:10:26.451Z"
   },
   {
    "duration": 83,
    "start_time": "2024-12-16T18:10:26.486Z"
   },
   {
    "duration": 15,
    "start_time": "2024-12-16T18:10:26.570Z"
   },
   {
    "duration": 2924,
    "start_time": "2024-12-16T18:10:26.587Z"
   },
   {
    "duration": 19,
    "start_time": "2024-12-16T18:10:29.513Z"
   },
   {
    "duration": 28,
    "start_time": "2024-12-16T18:10:29.534Z"
   },
   {
    "duration": 15,
    "start_time": "2024-12-16T18:10:29.563Z"
   },
   {
    "duration": 87,
    "start_time": "2024-12-16T18:10:29.581Z"
   },
   {
    "duration": 1187,
    "start_time": "2024-12-16T18:10:29.670Z"
   },
   {
    "duration": 254,
    "start_time": "2024-12-16T18:10:30.859Z"
   },
   {
    "duration": 554,
    "start_time": "2024-12-16T18:10:31.123Z"
   },
   {
    "duration": 53,
    "start_time": "2024-12-16T18:10:31.679Z"
   },
   {
    "duration": 92,
    "start_time": "2024-12-16T18:10:31.733Z"
   },
   {
    "duration": 3,
    "start_time": "2024-12-16T18:10:31.828Z"
   },
   {
    "duration": 11,
    "start_time": "2024-12-16T18:10:31.833Z"
   },
   {
    "duration": 37,
    "start_time": "2024-12-16T18:10:31.845Z"
   },
   {
    "duration": 3971,
    "start_time": "2024-12-16T18:10:31.884Z"
   },
   {
    "duration": 24051,
    "start_time": "2024-12-16T18:10:35.857Z"
   },
   {
    "duration": 77,
    "start_time": "2024-12-16T18:10:59.910Z"
   },
   {
    "duration": 4,
    "start_time": "2024-12-16T18:10:59.989Z"
   },
   {
    "duration": 110,
    "start_time": "2024-12-16T18:10:59.995Z"
   },
   {
    "duration": 20240,
    "start_time": "2024-12-16T18:11:00.107Z"
   },
   {
    "duration": 3511,
    "start_time": "2024-12-16T18:11:20.349Z"
   },
   {
    "duration": 14025,
    "start_time": "2024-12-16T18:12:06.224Z"
   },
   {
    "duration": 1054,
    "start_time": "2024-12-16T18:18:21.190Z"
   },
   {
    "duration": 417,
    "start_time": "2024-12-16T18:18:22.246Z"
   },
   {
    "duration": 96,
    "start_time": "2024-12-16T18:18:22.665Z"
   },
   {
    "duration": 97,
    "start_time": "2024-12-16T18:18:22.764Z"
   },
   {
    "duration": 66,
    "start_time": "2024-12-16T18:18:22.864Z"
   },
   {
    "duration": 3,
    "start_time": "2024-12-16T18:18:22.932Z"
   },
   {
    "duration": 468,
    "start_time": "2024-12-16T18:18:22.937Z"
   },
   {
    "duration": 4,
    "start_time": "2024-12-16T18:18:23.406Z"
   },
   {
    "duration": 12,
    "start_time": "2024-12-16T18:18:23.424Z"
   },
   {
    "duration": 19,
    "start_time": "2024-12-16T18:18:23.440Z"
   },
   {
    "duration": 6,
    "start_time": "2024-12-16T18:18:23.461Z"
   },
   {
    "duration": 10,
    "start_time": "2024-12-16T18:18:23.468Z"
   },
   {
    "duration": 5,
    "start_time": "2024-12-16T18:18:23.479Z"
   },
   {
    "duration": 69,
    "start_time": "2024-12-16T18:18:23.486Z"
   },
   {
    "duration": 31,
    "start_time": "2024-12-16T18:18:23.557Z"
   },
   {
    "duration": 39,
    "start_time": "2024-12-16T18:18:23.590Z"
   },
   {
    "duration": 64,
    "start_time": "2024-12-16T18:18:23.631Z"
   },
   {
    "duration": 688,
    "start_time": "2024-12-16T18:18:23.697Z"
   },
   {
    "duration": 15,
    "start_time": "2024-12-16T18:18:24.387Z"
   },
   {
    "duration": 46,
    "start_time": "2024-12-16T18:18:24.404Z"
   },
   {
    "duration": 14,
    "start_time": "2024-12-16T18:18:24.451Z"
   },
   {
    "duration": 14,
    "start_time": "2024-12-16T18:18:24.467Z"
   },
   {
    "duration": 2620,
    "start_time": "2024-12-16T18:18:24.482Z"
   },
   {
    "duration": 247,
    "start_time": "2024-12-16T18:18:27.104Z"
   },
   {
    "duration": 57,
    "start_time": "2024-12-16T18:18:27.353Z"
   },
   {
    "duration": 19,
    "start_time": "2024-12-16T18:18:27.412Z"
   },
   {
    "duration": 2500,
    "start_time": "2024-12-16T18:18:27.433Z"
   },
   {
    "duration": 55,
    "start_time": "2024-12-16T18:18:29.938Z"
   },
   {
    "duration": 249,
    "start_time": "2024-12-16T18:18:29.995Z"
   },
   {
    "duration": 33,
    "start_time": "2024-12-16T18:18:30.245Z"
   },
   {
    "duration": 80,
    "start_time": "2024-12-16T18:18:30.280Z"
   },
   {
    "duration": 15,
    "start_time": "2024-12-16T18:18:30.362Z"
   },
   {
    "duration": 2816,
    "start_time": "2024-12-16T18:18:30.378Z"
   },
   {
    "duration": 14,
    "start_time": "2024-12-16T18:18:33.196Z"
   },
   {
    "duration": 28,
    "start_time": "2024-12-16T18:18:33.224Z"
   },
   {
    "duration": 17,
    "start_time": "2024-12-16T18:18:33.256Z"
   },
   {
    "duration": 81,
    "start_time": "2024-12-16T18:18:33.274Z"
   },
   {
    "duration": 1220,
    "start_time": "2024-12-16T18:18:33.357Z"
   },
   {
    "duration": 245,
    "start_time": "2024-12-16T18:18:34.579Z"
   },
   {
    "duration": 558,
    "start_time": "2024-12-16T18:18:34.825Z"
   },
   {
    "duration": 60,
    "start_time": "2024-12-16T18:18:35.385Z"
   },
   {
    "duration": 95,
    "start_time": "2024-12-16T18:18:35.446Z"
   },
   {
    "duration": 3,
    "start_time": "2024-12-16T18:18:35.542Z"
   },
   {
    "duration": 10,
    "start_time": "2024-12-16T18:18:35.547Z"
   },
   {
    "duration": 39,
    "start_time": "2024-12-16T18:18:35.559Z"
   },
   {
    "duration": 3976,
    "start_time": "2024-12-16T18:18:35.600Z"
   },
   {
    "duration": 0,
    "start_time": "2024-12-16T18:18:39.578Z"
   },
   {
    "duration": 0,
    "start_time": "2024-12-16T18:18:39.580Z"
   },
   {
    "duration": 0,
    "start_time": "2024-12-16T18:18:39.580Z"
   },
   {
    "duration": 0,
    "start_time": "2024-12-16T18:18:39.581Z"
   },
   {
    "duration": 0,
    "start_time": "2024-12-16T18:18:39.582Z"
   },
   {
    "duration": 0,
    "start_time": "2024-12-16T18:18:39.583Z"
   },
   {
    "duration": 0,
    "start_time": "2024-12-16T18:18:39.584Z"
   },
   {
    "duration": 1074,
    "start_time": "2024-12-16T18:20:14.146Z"
   },
   {
    "duration": 403,
    "start_time": "2024-12-16T18:20:15.223Z"
   },
   {
    "duration": 100,
    "start_time": "2024-12-16T18:20:15.627Z"
   },
   {
    "duration": 94,
    "start_time": "2024-12-16T18:20:15.730Z"
   },
   {
    "duration": 57,
    "start_time": "2024-12-16T18:20:15.825Z"
   },
   {
    "duration": 3,
    "start_time": "2024-12-16T18:20:15.883Z"
   },
   {
    "duration": 481,
    "start_time": "2024-12-16T18:20:15.888Z"
   },
   {
    "duration": 3,
    "start_time": "2024-12-16T18:20:16.370Z"
   },
   {
    "duration": 13,
    "start_time": "2024-12-16T18:20:16.376Z"
   },
   {
    "duration": 37,
    "start_time": "2024-12-16T18:20:16.392Z"
   },
   {
    "duration": 7,
    "start_time": "2024-12-16T18:20:16.430Z"
   },
   {
    "duration": 12,
    "start_time": "2024-12-16T18:20:16.439Z"
   },
   {
    "duration": 5,
    "start_time": "2024-12-16T18:20:16.453Z"
   },
   {
    "duration": 37,
    "start_time": "2024-12-16T18:20:16.460Z"
   },
   {
    "duration": 30,
    "start_time": "2024-12-16T18:20:16.523Z"
   },
   {
    "duration": 21,
    "start_time": "2024-12-16T18:20:16.555Z"
   },
   {
    "duration": 63,
    "start_time": "2024-12-16T18:20:16.578Z"
   },
   {
    "duration": 664,
    "start_time": "2024-12-16T18:20:16.642Z"
   },
   {
    "duration": 18,
    "start_time": "2024-12-16T18:20:17.308Z"
   },
   {
    "duration": 38,
    "start_time": "2024-12-16T18:20:17.327Z"
   },
   {
    "duration": 14,
    "start_time": "2024-12-16T18:20:17.367Z"
   },
   {
    "duration": 13,
    "start_time": "2024-12-16T18:20:17.382Z"
   },
   {
    "duration": 2656,
    "start_time": "2024-12-16T18:20:17.397Z"
   },
   {
    "duration": 212,
    "start_time": "2024-12-16T18:20:20.055Z"
   },
   {
    "duration": 66,
    "start_time": "2024-12-16T18:20:20.269Z"
   },
   {
    "duration": 10,
    "start_time": "2024-12-16T18:20:20.337Z"
   },
   {
    "duration": 2396,
    "start_time": "2024-12-16T18:20:20.349Z"
   },
   {
    "duration": 61,
    "start_time": "2024-12-16T18:20:22.749Z"
   },
   {
    "duration": 233,
    "start_time": "2024-12-16T18:20:22.811Z"
   },
   {
    "duration": 33,
    "start_time": "2024-12-16T18:20:23.046Z"
   },
   {
    "duration": 83,
    "start_time": "2024-12-16T18:20:23.081Z"
   },
   {
    "duration": 13,
    "start_time": "2024-12-16T18:20:23.166Z"
   },
   {
    "duration": 2882,
    "start_time": "2024-12-16T18:20:23.181Z"
   },
   {
    "duration": 14,
    "start_time": "2024-12-16T18:20:26.065Z"
   },
   {
    "duration": 28,
    "start_time": "2024-12-16T18:20:26.080Z"
   },
   {
    "duration": 14,
    "start_time": "2024-12-16T18:20:26.124Z"
   },
   {
    "duration": 65,
    "start_time": "2024-12-16T18:20:26.140Z"
   },
   {
    "duration": 1182,
    "start_time": "2024-12-16T18:20:26.206Z"
   },
   {
    "duration": 245,
    "start_time": "2024-12-16T18:20:27.389Z"
   },
   {
    "duration": 564,
    "start_time": "2024-12-16T18:20:27.636Z"
   },
   {
    "duration": 54,
    "start_time": "2024-12-16T18:20:28.202Z"
   },
   {
    "duration": 94,
    "start_time": "2024-12-16T18:20:28.257Z"
   },
   {
    "duration": 3,
    "start_time": "2024-12-16T18:20:28.352Z"
   },
   {
    "duration": 9,
    "start_time": "2024-12-16T18:20:28.357Z"
   },
   {
    "duration": 63,
    "start_time": "2024-12-16T18:20:28.368Z"
   },
   {
    "duration": 3940,
    "start_time": "2024-12-16T18:20:28.433Z"
   },
   {
    "duration": 24395,
    "start_time": "2024-12-16T18:20:32.375Z"
   },
   {
    "duration": 0,
    "start_time": "2024-12-16T18:20:56.772Z"
   },
   {
    "duration": 0,
    "start_time": "2024-12-16T18:20:56.773Z"
   },
   {
    "duration": 0,
    "start_time": "2024-12-16T18:20:56.774Z"
   },
   {
    "duration": 0,
    "start_time": "2024-12-16T18:20:56.775Z"
   },
   {
    "duration": 0,
    "start_time": "2024-12-16T18:20:56.777Z"
   },
   {
    "duration": 0,
    "start_time": "2024-12-16T18:20:56.778Z"
   },
   {
    "duration": 69,
    "start_time": "2024-12-16T18:21:25.766Z"
   },
   {
    "duration": 4,
    "start_time": "2024-12-16T18:21:27.907Z"
   },
   {
    "duration": 101,
    "start_time": "2024-12-16T18:21:30.823Z"
   },
   {
    "duration": 4,
    "start_time": "2024-12-16T18:21:40.352Z"
   },
   {
    "duration": 12074,
    "start_time": "2024-12-16T18:21:54.652Z"
   },
   {
    "duration": 234,
    "start_time": "2024-12-16T18:50:28.948Z"
   },
   {
    "duration": 70,
    "start_time": "2024-12-16T18:51:18.953Z"
   },
   {
    "duration": 1055,
    "start_time": "2024-12-16T18:51:52.658Z"
   },
   {
    "duration": 409,
    "start_time": "2024-12-16T18:51:53.716Z"
   },
   {
    "duration": 100,
    "start_time": "2024-12-16T18:51:54.126Z"
   },
   {
    "duration": 96,
    "start_time": "2024-12-16T18:51:54.229Z"
   },
   {
    "duration": 58,
    "start_time": "2024-12-16T18:51:54.327Z"
   },
   {
    "duration": 3,
    "start_time": "2024-12-16T18:51:54.387Z"
   },
   {
    "duration": 502,
    "start_time": "2024-12-16T18:51:54.392Z"
   },
   {
    "duration": 3,
    "start_time": "2024-12-16T18:51:54.896Z"
   },
   {
    "duration": 24,
    "start_time": "2024-12-16T18:51:54.902Z"
   },
   {
    "duration": 21,
    "start_time": "2024-12-16T18:51:54.931Z"
   },
   {
    "duration": 6,
    "start_time": "2024-12-16T18:51:54.954Z"
   },
   {
    "duration": 10,
    "start_time": "2024-12-16T18:51:54.961Z"
   },
   {
    "duration": 5,
    "start_time": "2024-12-16T18:51:54.972Z"
   },
   {
    "duration": 70,
    "start_time": "2024-12-16T18:51:54.979Z"
   },
   {
    "duration": 30,
    "start_time": "2024-12-16T18:51:55.050Z"
   },
   {
    "duration": 96,
    "start_time": "2024-12-16T18:51:55.082Z"
   },
   {
    "duration": 55,
    "start_time": "2024-12-16T18:51:55.180Z"
   },
   {
    "duration": 664,
    "start_time": "2024-12-16T18:51:55.237Z"
   },
   {
    "duration": 22,
    "start_time": "2024-12-16T18:51:55.903Z"
   },
   {
    "duration": 37,
    "start_time": "2024-12-16T18:51:55.927Z"
   },
   {
    "duration": 13,
    "start_time": "2024-12-16T18:51:55.965Z"
   },
   {
    "duration": 14,
    "start_time": "2024-12-16T18:51:55.980Z"
   },
   {
    "duration": 2651,
    "start_time": "2024-12-16T18:51:55.995Z"
   },
   {
    "duration": 211,
    "start_time": "2024-12-16T18:51:58.648Z"
   },
   {
    "duration": 66,
    "start_time": "2024-12-16T18:51:58.862Z"
   },
   {
    "duration": 10,
    "start_time": "2024-12-16T18:51:58.930Z"
   },
   {
    "duration": 2466,
    "start_time": "2024-12-16T18:51:58.941Z"
   },
   {
    "duration": 62,
    "start_time": "2024-12-16T18:52:01.411Z"
   },
   {
    "duration": 188,
    "start_time": "2024-12-16T18:52:01.475Z"
   },
   {
    "duration": 33,
    "start_time": "2024-12-16T18:52:01.665Z"
   },
   {
    "duration": 68,
    "start_time": "2024-12-16T18:52:01.723Z"
   },
   {
    "duration": 14,
    "start_time": "2024-12-16T18:52:01.792Z"
   },
   {
    "duration": 2901,
    "start_time": "2024-12-16T18:52:01.808Z"
   },
   {
    "duration": 22,
    "start_time": "2024-12-16T18:52:04.711Z"
   },
   {
    "duration": 28,
    "start_time": "2024-12-16T18:52:04.735Z"
   },
   {
    "duration": 14,
    "start_time": "2024-12-16T18:52:04.764Z"
   },
   {
    "duration": 88,
    "start_time": "2024-12-16T18:52:04.779Z"
   },
   {
    "duration": 1188,
    "start_time": "2024-12-16T18:52:04.869Z"
   },
   {
    "duration": 225,
    "start_time": "2024-12-16T18:52:06.059Z"
   },
   {
    "duration": 556,
    "start_time": "2024-12-16T18:52:06.286Z"
   },
   {
    "duration": 43,
    "start_time": "2024-12-16T18:52:06.844Z"
   },
   {
    "duration": 99,
    "start_time": "2024-12-16T18:52:06.889Z"
   },
   {
    "duration": 3,
    "start_time": "2024-12-16T18:52:06.990Z"
   },
   {
    "duration": 10,
    "start_time": "2024-12-16T18:52:06.994Z"
   },
   {
    "duration": 50,
    "start_time": "2024-12-16T18:52:07.006Z"
   },
   {
    "duration": 5957,
    "start_time": "2024-12-16T18:52:07.058Z"
   },
   {
    "duration": 26016,
    "start_time": "2024-12-16T18:52:13.017Z"
   },
   {
    "duration": 74,
    "start_time": "2024-12-16T18:52:39.035Z"
   },
   {
    "duration": 4,
    "start_time": "2024-12-16T18:52:39.111Z"
   },
   {
    "duration": 109,
    "start_time": "2024-12-16T18:52:39.116Z"
   },
   {
    "duration": 3,
    "start_time": "2024-12-16T18:52:39.228Z"
   },
   {
    "duration": 14100,
    "start_time": "2024-12-16T18:52:39.233Z"
   },
   {
    "duration": 2099,
    "start_time": "2024-12-16T18:52:53.335Z"
   },
   {
    "duration": 1006,
    "start_time": "2024-12-16T19:03:16.078Z"
   },
   {
    "duration": 407,
    "start_time": "2024-12-16T19:03:17.086Z"
   },
   {
    "duration": 105,
    "start_time": "2024-12-16T19:03:17.495Z"
   },
   {
    "duration": 94,
    "start_time": "2024-12-16T19:03:17.603Z"
   },
   {
    "duration": 79,
    "start_time": "2024-12-16T19:03:17.699Z"
   },
   {
    "duration": 3,
    "start_time": "2024-12-16T19:03:17.780Z"
   },
   {
    "duration": 474,
    "start_time": "2024-12-16T19:03:17.785Z"
   },
   {
    "duration": 3,
    "start_time": "2024-12-16T19:03:18.262Z"
   },
   {
    "duration": 12,
    "start_time": "2024-12-16T19:03:18.267Z"
   },
   {
    "duration": 20,
    "start_time": "2024-12-16T19:03:18.281Z"
   },
   {
    "duration": 23,
    "start_time": "2024-12-16T19:03:18.304Z"
   },
   {
    "duration": 10,
    "start_time": "2024-12-16T19:03:18.329Z"
   },
   {
    "duration": 5,
    "start_time": "2024-12-16T19:03:18.340Z"
   },
   {
    "duration": 36,
    "start_time": "2024-12-16T19:03:18.350Z"
   },
   {
    "duration": 56,
    "start_time": "2024-12-16T19:03:18.387Z"
   },
   {
    "duration": 54,
    "start_time": "2024-12-16T19:03:18.445Z"
   },
   {
    "duration": 58,
    "start_time": "2024-12-16T19:03:18.501Z"
   },
   {
    "duration": 675,
    "start_time": "2024-12-16T19:03:18.560Z"
   },
   {
    "duration": 14,
    "start_time": "2024-12-16T19:03:19.237Z"
   },
   {
    "duration": 38,
    "start_time": "2024-12-16T19:03:19.254Z"
   },
   {
    "duration": 32,
    "start_time": "2024-12-16T19:03:19.295Z"
   },
   {
    "duration": 14,
    "start_time": "2024-12-16T19:03:19.329Z"
   },
   {
    "duration": 2618,
    "start_time": "2024-12-16T19:03:19.344Z"
   },
   {
    "duration": 215,
    "start_time": "2024-12-16T19:03:21.964Z"
   },
   {
    "duration": 84,
    "start_time": "2024-12-16T19:03:22.181Z"
   },
   {
    "duration": 10,
    "start_time": "2024-12-16T19:03:22.267Z"
   },
   {
    "duration": 2415,
    "start_time": "2024-12-16T19:03:22.279Z"
   },
   {
    "duration": 65,
    "start_time": "2024-12-16T19:03:24.696Z"
   },
   {
    "duration": 200,
    "start_time": "2024-12-16T19:03:24.763Z"
   },
   {
    "duration": 33,
    "start_time": "2024-12-16T19:03:24.965Z"
   },
   {
    "duration": 79,
    "start_time": "2024-12-16T19:03:25.000Z"
   },
   {
    "duration": 13,
    "start_time": "2024-12-16T19:03:25.081Z"
   },
   {
    "duration": 2885,
    "start_time": "2024-12-16T19:03:25.096Z"
   },
   {
    "duration": 14,
    "start_time": "2024-12-16T19:03:27.983Z"
   },
   {
    "duration": 44,
    "start_time": "2024-12-16T19:03:27.999Z"
   },
   {
    "duration": 14,
    "start_time": "2024-12-16T19:03:28.045Z"
   },
   {
    "duration": 82,
    "start_time": "2024-12-16T19:03:28.061Z"
   },
   {
    "duration": 1190,
    "start_time": "2024-12-16T19:03:28.144Z"
   },
   {
    "duration": 259,
    "start_time": "2024-12-16T19:03:29.336Z"
   },
   {
    "duration": 538,
    "start_time": "2024-12-16T19:03:29.596Z"
   },
   {
    "duration": 44,
    "start_time": "2024-12-16T19:03:30.140Z"
   },
   {
    "duration": 98,
    "start_time": "2024-12-16T19:03:30.186Z"
   },
   {
    "duration": 3,
    "start_time": "2024-12-16T19:03:30.286Z"
   },
   {
    "duration": 13,
    "start_time": "2024-12-16T19:03:30.290Z"
   },
   {
    "duration": 52,
    "start_time": "2024-12-16T19:03:30.304Z"
   },
   {
    "duration": 298,
    "start_time": "2024-12-16T19:03:30.358Z"
   },
   {
    "duration": 0,
    "start_time": "2024-12-16T19:03:30.658Z"
   },
   {
    "duration": 0,
    "start_time": "2024-12-16T19:03:30.660Z"
   },
   {
    "duration": 0,
    "start_time": "2024-12-16T19:03:30.661Z"
   },
   {
    "duration": 0,
    "start_time": "2024-12-16T19:03:30.663Z"
   },
   {
    "duration": 0,
    "start_time": "2024-12-16T19:03:30.664Z"
   },
   {
    "duration": 0,
    "start_time": "2024-12-16T19:03:30.665Z"
   },
   {
    "duration": 0,
    "start_time": "2024-12-16T19:03:30.666Z"
   },
   {
    "duration": 5999,
    "start_time": "2024-12-16T19:07:16.046Z"
   },
   {
    "duration": 19,
    "start_time": "2024-12-16T19:10:41.985Z"
   },
   {
    "duration": 1016,
    "start_time": "2024-12-16T19:10:53.902Z"
   },
   {
    "duration": 422,
    "start_time": "2024-12-16T19:10:54.920Z"
   },
   {
    "duration": 142,
    "start_time": "2024-12-16T19:10:55.345Z"
   },
   {
    "duration": 113,
    "start_time": "2024-12-16T19:10:55.489Z"
   },
   {
    "duration": 71,
    "start_time": "2024-12-16T19:10:55.606Z"
   },
   {
    "duration": 4,
    "start_time": "2024-12-16T19:10:55.679Z"
   },
   {
    "duration": 504,
    "start_time": "2024-12-16T19:10:55.685Z"
   },
   {
    "duration": 4,
    "start_time": "2024-12-16T19:10:56.191Z"
   },
   {
    "duration": 13,
    "start_time": "2024-12-16T19:10:56.197Z"
   },
   {
    "duration": 24,
    "start_time": "2024-12-16T19:10:56.224Z"
   },
   {
    "duration": 6,
    "start_time": "2024-12-16T19:10:56.250Z"
   },
   {
    "duration": 9,
    "start_time": "2024-12-16T19:10:56.258Z"
   },
   {
    "duration": 7,
    "start_time": "2024-12-16T19:10:56.271Z"
   },
   {
    "duration": 76,
    "start_time": "2024-12-16T19:10:56.282Z"
   },
   {
    "duration": 30,
    "start_time": "2024-12-16T19:10:56.360Z"
   },
   {
    "duration": 213,
    "start_time": "2024-12-16T19:10:56.392Z"
   },
   {
    "duration": 67,
    "start_time": "2024-12-16T19:10:56.607Z"
   },
   {
    "duration": 861,
    "start_time": "2024-12-16T19:10:56.678Z"
   },
   {
    "duration": 15,
    "start_time": "2024-12-16T19:10:57.544Z"
   },
   {
    "duration": 38,
    "start_time": "2024-12-16T19:10:57.560Z"
   },
   {
    "duration": 31,
    "start_time": "2024-12-16T19:10:57.599Z"
   },
   {
    "duration": 14,
    "start_time": "2024-12-16T19:10:57.631Z"
   },
   {
    "duration": 2923,
    "start_time": "2024-12-16T19:10:57.646Z"
   },
   {
    "duration": 210,
    "start_time": "2024-12-16T19:11:00.570Z"
   },
   {
    "duration": 98,
    "start_time": "2024-12-16T19:11:00.782Z"
   },
   {
    "duration": 9,
    "start_time": "2024-12-16T19:11:00.883Z"
   },
   {
    "duration": 2544,
    "start_time": "2024-12-16T19:11:00.894Z"
   },
   {
    "duration": 59,
    "start_time": "2024-12-16T19:11:03.441Z"
   },
   {
    "duration": 241,
    "start_time": "2024-12-16T19:11:03.502Z"
   },
   {
    "duration": 34,
    "start_time": "2024-12-16T19:11:03.744Z"
   },
   {
    "duration": 88,
    "start_time": "2024-12-16T19:11:03.780Z"
   },
   {
    "duration": 15,
    "start_time": "2024-12-16T19:11:03.871Z"
   },
   {
    "duration": 3031,
    "start_time": "2024-12-16T19:11:03.888Z"
   },
   {
    "duration": 14,
    "start_time": "2024-12-16T19:11:06.925Z"
   },
   {
    "duration": 27,
    "start_time": "2024-12-16T19:11:06.941Z"
   },
   {
    "duration": 14,
    "start_time": "2024-12-16T19:11:06.970Z"
   },
   {
    "duration": 92,
    "start_time": "2024-12-16T19:11:06.986Z"
   },
   {
    "duration": 1231,
    "start_time": "2024-12-16T19:11:07.080Z"
   },
   {
    "duration": 247,
    "start_time": "2024-12-16T19:11:08.314Z"
   },
   {
    "duration": 540,
    "start_time": "2024-12-16T19:11:08.562Z"
   },
   {
    "duration": 54,
    "start_time": "2024-12-16T19:11:09.107Z"
   },
   {
    "duration": 92,
    "start_time": "2024-12-16T19:11:09.162Z"
   },
   {
    "duration": 3,
    "start_time": "2024-12-16T19:11:09.256Z"
   },
   {
    "duration": 11,
    "start_time": "2024-12-16T19:11:09.261Z"
   },
   {
    "duration": 60,
    "start_time": "2024-12-16T19:11:09.273Z"
   },
   {
    "duration": 5933,
    "start_time": "2024-12-16T19:11:09.335Z"
   },
   {
    "duration": 26238,
    "start_time": "2024-12-16T19:11:15.269Z"
   },
   {
    "duration": 70,
    "start_time": "2024-12-16T19:11:41.509Z"
   },
   {
    "duration": 5,
    "start_time": "2024-12-16T19:11:41.580Z"
   },
   {
    "duration": 106,
    "start_time": "2024-12-16T19:11:41.586Z"
   },
   {
    "duration": 3,
    "start_time": "2024-12-16T19:11:41.694Z"
   },
   {
    "duration": 14955,
    "start_time": "2024-12-16T19:11:41.699Z"
   },
   {
    "duration": 2073,
    "start_time": "2024-12-16T19:11:56.656Z"
   },
   {
    "duration": 2022,
    "start_time": "2024-12-16T19:13:50.726Z"
   },
   {
    "duration": 1955,
    "start_time": "2024-12-16T19:14:59.904Z"
   },
   {
    "duration": 537,
    "start_time": "2024-12-16T19:23:32.389Z"
   },
   {
    "duration": 4,
    "start_time": "2024-12-16T19:24:09.958Z"
   },
   {
    "duration": 8,
    "start_time": "2024-12-16T19:24:18.403Z"
   },
   {
    "duration": 8,
    "start_time": "2024-12-16T19:24:46.370Z"
   },
   {
    "duration": 3,
    "start_time": "2024-12-16T19:43:43.763Z"
   },
   {
    "duration": 1102,
    "start_time": "2024-12-16T20:00:53.979Z"
   },
   {
    "duration": 409,
    "start_time": "2024-12-16T20:00:55.083Z"
   },
   {
    "duration": 118,
    "start_time": "2024-12-16T20:00:55.494Z"
   },
   {
    "duration": 86,
    "start_time": "2024-12-16T20:00:55.623Z"
   },
   {
    "duration": 64,
    "start_time": "2024-12-16T20:00:55.710Z"
   },
   {
    "duration": 4,
    "start_time": "2024-12-16T20:00:55.776Z"
   },
   {
    "duration": 476,
    "start_time": "2024-12-16T20:00:55.781Z"
   },
   {
    "duration": 3,
    "start_time": "2024-12-16T20:00:56.259Z"
   },
   {
    "duration": 12,
    "start_time": "2024-12-16T20:00:56.264Z"
   },
   {
    "duration": 21,
    "start_time": "2024-12-16T20:00:56.280Z"
   },
   {
    "duration": 26,
    "start_time": "2024-12-16T20:00:56.302Z"
   },
   {
    "duration": 10,
    "start_time": "2024-12-16T20:00:56.329Z"
   },
   {
    "duration": 8,
    "start_time": "2024-12-16T20:00:56.340Z"
   },
   {
    "duration": 36,
    "start_time": "2024-12-16T20:00:56.350Z"
   },
   {
    "duration": 51,
    "start_time": "2024-12-16T20:00:56.388Z"
   },
   {
    "duration": 92,
    "start_time": "2024-12-16T20:00:56.441Z"
   },
   {
    "duration": 46,
    "start_time": "2024-12-16T20:00:56.535Z"
   },
   {
    "duration": 697,
    "start_time": "2024-12-16T20:00:56.583Z"
   },
   {
    "duration": 14,
    "start_time": "2024-12-16T20:00:57.283Z"
   },
   {
    "duration": 45,
    "start_time": "2024-12-16T20:00:57.301Z"
   },
   {
    "duration": 13,
    "start_time": "2024-12-16T20:00:57.348Z"
   },
   {
    "duration": 13,
    "start_time": "2024-12-16T20:00:57.363Z"
   },
   {
    "duration": 2933,
    "start_time": "2024-12-16T20:00:57.379Z"
   },
   {
    "duration": 241,
    "start_time": "2024-12-16T20:01:00.315Z"
   },
   {
    "duration": 82,
    "start_time": "2024-12-16T20:01:00.557Z"
   },
   {
    "duration": 10,
    "start_time": "2024-12-16T20:01:00.641Z"
   },
   {
    "duration": 2471,
    "start_time": "2024-12-16T20:01:00.653Z"
   },
   {
    "duration": 64,
    "start_time": "2024-12-16T20:01:03.129Z"
   },
   {
    "duration": 246,
    "start_time": "2024-12-16T20:01:03.200Z"
   },
   {
    "duration": 33,
    "start_time": "2024-12-16T20:01:03.448Z"
   },
   {
    "duration": 83,
    "start_time": "2024-12-16T20:01:03.483Z"
   },
   {
    "duration": 15,
    "start_time": "2024-12-16T20:01:03.568Z"
   },
   {
    "duration": 2940,
    "start_time": "2024-12-16T20:01:03.585Z"
   },
   {
    "duration": 17,
    "start_time": "2024-12-16T20:01:06.528Z"
   },
   {
    "duration": 34,
    "start_time": "2024-12-16T20:01:06.547Z"
   },
   {
    "duration": 14,
    "start_time": "2024-12-16T20:01:06.582Z"
   },
   {
    "duration": 92,
    "start_time": "2024-12-16T20:01:06.598Z"
   },
   {
    "duration": 1235,
    "start_time": "2024-12-16T20:01:06.692Z"
   },
   {
    "duration": 249,
    "start_time": "2024-12-16T20:01:07.929Z"
   },
   {
    "duration": 588,
    "start_time": "2024-12-16T20:01:08.180Z"
   },
   {
    "duration": 55,
    "start_time": "2024-12-16T20:01:08.770Z"
   },
   {
    "duration": 84,
    "start_time": "2024-12-16T20:01:08.827Z"
   },
   {
    "duration": 4,
    "start_time": "2024-12-16T20:01:08.924Z"
   },
   {
    "duration": 11,
    "start_time": "2024-12-16T20:01:08.929Z"
   },
   {
    "duration": 40,
    "start_time": "2024-12-16T20:01:08.942Z"
   },
   {
    "duration": 5998,
    "start_time": "2024-12-16T20:01:08.984Z"
   },
   {
    "duration": 26471,
    "start_time": "2024-12-16T20:01:14.984Z"
   },
   {
    "duration": 80,
    "start_time": "2024-12-16T20:01:41.457Z"
   },
   {
    "duration": 3,
    "start_time": "2024-12-16T20:01:41.539Z"
   },
   {
    "duration": 145,
    "start_time": "2024-12-16T20:01:41.544Z"
   },
   {
    "duration": 4,
    "start_time": "2024-12-16T20:01:41.691Z"
   },
   {
    "duration": 126295,
    "start_time": "2024-12-16T20:01:41.697Z"
   },
   {
    "duration": 0,
    "start_time": "2024-12-16T20:03:47.995Z"
   },
   {
    "duration": 0,
    "start_time": "2024-12-16T20:03:47.996Z"
   },
   {
    "duration": 0,
    "start_time": "2024-12-16T20:03:47.997Z"
   },
   {
    "duration": 0,
    "start_time": "2024-12-16T20:03:47.999Z"
   },
   {
    "duration": 4,
    "start_time": "2024-12-16T20:03:56.129Z"
   },
   {
    "duration": 59904,
    "start_time": "2024-12-16T20:03:59.662Z"
   },
   {
    "duration": 57,
    "start_time": "2024-12-16T20:06:15.615Z"
   },
   {
    "duration": 36,
    "start_time": "2024-12-16T20:06:41.966Z"
   },
   {
    "duration": 4,
    "start_time": "2024-12-16T20:06:53.889Z"
   },
   {
    "duration": 1063,
    "start_time": "2024-12-16T20:22:27.173Z"
   },
   {
    "duration": 417,
    "start_time": "2024-12-16T20:22:28.238Z"
   },
   {
    "duration": 96,
    "start_time": "2024-12-16T20:22:28.657Z"
   },
   {
    "duration": 95,
    "start_time": "2024-12-16T20:22:28.755Z"
   },
   {
    "duration": 57,
    "start_time": "2024-12-16T20:22:28.853Z"
   },
   {
    "duration": 4,
    "start_time": "2024-12-16T20:22:28.923Z"
   },
   {
    "duration": 468,
    "start_time": "2024-12-16T20:22:28.928Z"
   },
   {
    "duration": 5,
    "start_time": "2024-12-16T20:22:29.398Z"
   },
   {
    "duration": 28,
    "start_time": "2024-12-16T20:22:29.404Z"
   },
   {
    "duration": 20,
    "start_time": "2024-12-16T20:22:29.435Z"
   },
   {
    "duration": 6,
    "start_time": "2024-12-16T20:22:29.457Z"
   },
   {
    "duration": 9,
    "start_time": "2024-12-16T20:22:29.464Z"
   },
   {
    "duration": 5,
    "start_time": "2024-12-16T20:22:29.475Z"
   },
   {
    "duration": 65,
    "start_time": "2024-12-16T20:22:29.481Z"
   },
   {
    "duration": 30,
    "start_time": "2024-12-16T20:22:29.548Z"
   },
   {
    "duration": 68,
    "start_time": "2024-12-16T20:22:29.580Z"
   },
   {
    "duration": 46,
    "start_time": "2024-12-16T20:22:29.650Z"
   },
   {
    "duration": 702,
    "start_time": "2024-12-16T20:22:29.698Z"
   },
   {
    "duration": 22,
    "start_time": "2024-12-16T20:22:30.402Z"
   },
   {
    "duration": 38,
    "start_time": "2024-12-16T20:22:30.426Z"
   },
   {
    "duration": 13,
    "start_time": "2024-12-16T20:22:30.466Z"
   },
   {
    "duration": 13,
    "start_time": "2024-12-16T20:22:30.481Z"
   },
   {
    "duration": 2620,
    "start_time": "2024-12-16T20:22:30.495Z"
   },
   {
    "duration": 235,
    "start_time": "2024-12-16T20:22:33.124Z"
   },
   {
    "duration": 66,
    "start_time": "2024-12-16T20:22:33.360Z"
   },
   {
    "duration": 9,
    "start_time": "2024-12-16T20:22:33.427Z"
   },
   {
    "duration": 2347,
    "start_time": "2024-12-16T20:22:33.438Z"
   },
   {
    "duration": 66,
    "start_time": "2024-12-16T20:22:35.790Z"
   },
   {
    "duration": 203,
    "start_time": "2024-12-16T20:22:35.858Z"
   },
   {
    "duration": 34,
    "start_time": "2024-12-16T20:22:36.063Z"
   },
   {
    "duration": 81,
    "start_time": "2024-12-16T20:22:36.099Z"
   },
   {
    "duration": 14,
    "start_time": "2024-12-16T20:22:36.182Z"
   },
   {
    "duration": 2918,
    "start_time": "2024-12-16T20:22:36.198Z"
   },
   {
    "duration": 14,
    "start_time": "2024-12-16T20:22:39.124Z"
   },
   {
    "duration": 27,
    "start_time": "2024-12-16T20:22:39.140Z"
   },
   {
    "duration": 14,
    "start_time": "2024-12-16T20:22:39.169Z"
   },
   {
    "duration": 86,
    "start_time": "2024-12-16T20:22:39.185Z"
   },
   {
    "duration": 1183,
    "start_time": "2024-12-16T20:22:39.273Z"
   },
   {
    "duration": 241,
    "start_time": "2024-12-16T20:22:40.458Z"
   },
   {
    "duration": 551,
    "start_time": "2024-12-16T20:22:40.700Z"
   },
   {
    "duration": 43,
    "start_time": "2024-12-16T20:22:41.253Z"
   },
   {
    "duration": 101,
    "start_time": "2024-12-16T20:22:41.298Z"
   },
   {
    "duration": 3,
    "start_time": "2024-12-16T20:22:41.401Z"
   },
   {
    "duration": 20,
    "start_time": "2024-12-16T20:22:41.405Z"
   },
   {
    "duration": 37,
    "start_time": "2024-12-16T20:22:41.427Z"
   },
   {
    "duration": 5953,
    "start_time": "2024-12-16T20:22:41.466Z"
   },
   {
    "duration": 26834,
    "start_time": "2024-12-16T20:22:47.421Z"
   },
   {
    "duration": 70,
    "start_time": "2024-12-16T20:23:14.257Z"
   },
   {
    "duration": 3,
    "start_time": "2024-12-16T20:23:14.329Z"
   },
   {
    "duration": 109,
    "start_time": "2024-12-16T20:23:14.334Z"
   },
   {
    "duration": 3,
    "start_time": "2024-12-16T20:23:14.445Z"
   },
   {
    "duration": 14878,
    "start_time": "2024-12-16T20:23:14.451Z"
   },
   {
    "duration": 2218,
    "start_time": "2024-12-16T20:23:29.331Z"
   },
   {
    "duration": 9,
    "start_time": "2024-12-16T20:23:31.550Z"
   },
   {
    "duration": 4,
    "start_time": "2024-12-16T20:24:27.387Z"
   },
   {
    "duration": 229,
    "start_time": "2024-12-16T20:24:33.900Z"
   },
   {
    "duration": 14,
    "start_time": "2024-12-16T20:25:14.465Z"
   },
   {
    "duration": 1078,
    "start_time": "2024-12-16T20:27:05.540Z"
   },
   {
    "duration": 398,
    "start_time": "2024-12-16T20:27:06.620Z"
   },
   {
    "duration": 107,
    "start_time": "2024-12-16T20:27:07.020Z"
   },
   {
    "duration": 95,
    "start_time": "2024-12-16T20:27:07.129Z"
   },
   {
    "duration": 57,
    "start_time": "2024-12-16T20:27:07.225Z"
   },
   {
    "duration": 3,
    "start_time": "2024-12-16T20:27:07.284Z"
   },
   {
    "duration": 497,
    "start_time": "2024-12-16T20:27:07.289Z"
   },
   {
    "duration": 2,
    "start_time": "2024-12-16T20:27:07.788Z"
   },
   {
    "duration": 13,
    "start_time": "2024-12-16T20:27:07.792Z"
   },
   {
    "duration": 33,
    "start_time": "2024-12-16T20:27:07.808Z"
   },
   {
    "duration": 7,
    "start_time": "2024-12-16T20:27:07.843Z"
   },
   {
    "duration": 9,
    "start_time": "2024-12-16T20:27:07.852Z"
   },
   {
    "duration": 5,
    "start_time": "2024-12-16T20:27:07.862Z"
   },
   {
    "duration": 79,
    "start_time": "2024-12-16T20:27:07.869Z"
   },
   {
    "duration": 33,
    "start_time": "2024-12-16T20:27:07.950Z"
   },
   {
    "duration": 110,
    "start_time": "2024-12-16T20:27:07.985Z"
   },
   {
    "duration": 49,
    "start_time": "2024-12-16T20:27:08.097Z"
   },
   {
    "duration": 679,
    "start_time": "2024-12-16T20:27:08.149Z"
   },
   {
    "duration": 14,
    "start_time": "2024-12-16T20:27:08.830Z"
   },
   {
    "duration": 37,
    "start_time": "2024-12-16T20:27:08.846Z"
   },
   {
    "duration": 13,
    "start_time": "2024-12-16T20:27:08.885Z"
   },
   {
    "duration": 33,
    "start_time": "2024-12-16T20:27:08.900Z"
   },
   {
    "duration": 2622,
    "start_time": "2024-12-16T20:27:08.935Z"
   },
   {
    "duration": 200,
    "start_time": "2024-12-16T20:27:11.559Z"
   },
   {
    "duration": 68,
    "start_time": "2024-12-16T20:27:11.761Z"
   },
   {
    "duration": 10,
    "start_time": "2024-12-16T20:27:11.831Z"
   },
   {
    "duration": 2505,
    "start_time": "2024-12-16T20:27:11.842Z"
   },
   {
    "duration": 59,
    "start_time": "2024-12-16T20:27:14.351Z"
   },
   {
    "duration": 230,
    "start_time": "2024-12-16T20:27:14.425Z"
   },
   {
    "duration": 33,
    "start_time": "2024-12-16T20:27:14.657Z"
   },
   {
    "duration": 79,
    "start_time": "2024-12-16T20:27:14.692Z"
   },
   {
    "duration": 14,
    "start_time": "2024-12-16T20:27:14.772Z"
   },
   {
    "duration": 2876,
    "start_time": "2024-12-16T20:27:14.787Z"
   },
   {
    "duration": 15,
    "start_time": "2024-12-16T20:27:17.664Z"
   },
   {
    "duration": 45,
    "start_time": "2024-12-16T20:27:17.680Z"
   },
   {
    "duration": 19,
    "start_time": "2024-12-16T20:27:17.727Z"
   },
   {
    "duration": 82,
    "start_time": "2024-12-16T20:27:17.748Z"
   },
   {
    "duration": 1227,
    "start_time": "2024-12-16T20:27:17.833Z"
   },
   {
    "duration": 241,
    "start_time": "2024-12-16T20:27:19.062Z"
   },
   {
    "duration": 540,
    "start_time": "2024-12-16T20:27:19.306Z"
   },
   {
    "duration": 52,
    "start_time": "2024-12-16T20:27:19.848Z"
   },
   {
    "duration": 99,
    "start_time": "2024-12-16T20:27:19.903Z"
   },
   {
    "duration": 5,
    "start_time": "2024-12-16T20:27:20.005Z"
   },
   {
    "duration": 18,
    "start_time": "2024-12-16T20:27:20.013Z"
   },
   {
    "duration": 38,
    "start_time": "2024-12-16T20:27:20.033Z"
   },
   {
    "duration": 5986,
    "start_time": "2024-12-16T20:27:20.075Z"
   },
   {
    "duration": 26170,
    "start_time": "2024-12-16T20:27:26.063Z"
   },
   {
    "duration": 84,
    "start_time": "2024-12-16T20:27:52.235Z"
   },
   {
    "duration": 4,
    "start_time": "2024-12-16T20:27:52.321Z"
   },
   {
    "duration": 115,
    "start_time": "2024-12-16T20:27:52.327Z"
   },
   {
    "duration": 3,
    "start_time": "2024-12-16T20:27:52.445Z"
   },
   {
    "duration": 20894,
    "start_time": "2024-12-16T20:27:52.450Z"
   },
   {
    "duration": 3478,
    "start_time": "2024-12-16T20:28:13.346Z"
   },
   {
    "duration": 9,
    "start_time": "2024-12-16T20:28:16.825Z"
   },
   {
    "duration": 238,
    "start_time": "2024-12-16T20:28:44.057Z"
   },
   {
    "duration": 1055,
    "start_time": "2024-12-16T20:29:19.469Z"
   },
   {
    "duration": 420,
    "start_time": "2024-12-16T20:29:20.526Z"
   },
   {
    "duration": 96,
    "start_time": "2024-12-16T20:29:20.948Z"
   },
   {
    "duration": 96,
    "start_time": "2024-12-16T20:29:21.046Z"
   },
   {
    "duration": 60,
    "start_time": "2024-12-16T20:29:21.144Z"
   },
   {
    "duration": 17,
    "start_time": "2024-12-16T20:29:21.207Z"
   },
   {
    "duration": 465,
    "start_time": "2024-12-16T20:29:21.226Z"
   },
   {
    "duration": 3,
    "start_time": "2024-12-16T20:29:21.693Z"
   },
   {
    "duration": 29,
    "start_time": "2024-12-16T20:29:21.698Z"
   },
   {
    "duration": 21,
    "start_time": "2024-12-16T20:29:21.731Z"
   },
   {
    "duration": 6,
    "start_time": "2024-12-16T20:29:21.754Z"
   },
   {
    "duration": 9,
    "start_time": "2024-12-16T20:29:21.761Z"
   },
   {
    "duration": 5,
    "start_time": "2024-12-16T20:29:21.772Z"
   },
   {
    "duration": 76,
    "start_time": "2024-12-16T20:29:21.778Z"
   },
   {
    "duration": 43,
    "start_time": "2024-12-16T20:29:21.856Z"
   },
   {
    "duration": 34,
    "start_time": "2024-12-16T20:29:21.901Z"
   },
   {
    "duration": 45,
    "start_time": "2024-12-16T20:29:21.937Z"
   },
   {
    "duration": 693,
    "start_time": "2024-12-16T20:29:21.984Z"
   },
   {
    "duration": 14,
    "start_time": "2024-12-16T20:29:22.679Z"
   },
   {
    "duration": 46,
    "start_time": "2024-12-16T20:29:22.694Z"
   },
   {
    "duration": 14,
    "start_time": "2024-12-16T20:29:22.741Z"
   },
   {
    "duration": 14,
    "start_time": "2024-12-16T20:29:22.756Z"
   },
   {
    "duration": 2632,
    "start_time": "2024-12-16T20:29:22.771Z"
   },
   {
    "duration": 253,
    "start_time": "2024-12-16T20:29:25.405Z"
   },
   {
    "duration": 73,
    "start_time": "2024-12-16T20:29:25.660Z"
   },
   {
    "duration": 11,
    "start_time": "2024-12-16T20:29:25.735Z"
   },
   {
    "duration": 2477,
    "start_time": "2024-12-16T20:29:25.749Z"
   },
   {
    "duration": 60,
    "start_time": "2024-12-16T20:29:28.231Z"
   },
   {
    "duration": 235,
    "start_time": "2024-12-16T20:29:28.293Z"
   },
   {
    "duration": 33,
    "start_time": "2024-12-16T20:29:28.529Z"
   },
   {
    "duration": 80,
    "start_time": "2024-12-16T20:29:28.563Z"
   },
   {
    "duration": 13,
    "start_time": "2024-12-16T20:29:28.644Z"
   },
   {
    "duration": 2886,
    "start_time": "2024-12-16T20:29:28.659Z"
   },
   {
    "duration": 14,
    "start_time": "2024-12-16T20:29:31.547Z"
   },
   {
    "duration": 28,
    "start_time": "2024-12-16T20:29:31.563Z"
   },
   {
    "duration": 35,
    "start_time": "2024-12-16T20:29:31.592Z"
   },
   {
    "duration": 66,
    "start_time": "2024-12-16T20:29:31.629Z"
   },
   {
    "duration": 1211,
    "start_time": "2024-12-16T20:29:31.696Z"
   },
   {
    "duration": 222,
    "start_time": "2024-12-16T20:29:32.908Z"
   },
   {
    "duration": 556,
    "start_time": "2024-12-16T20:29:33.132Z"
   },
   {
    "duration": 53,
    "start_time": "2024-12-16T20:29:33.690Z"
   },
   {
    "duration": 99,
    "start_time": "2024-12-16T20:29:33.745Z"
   },
   {
    "duration": 3,
    "start_time": "2024-12-16T20:29:33.846Z"
   },
   {
    "duration": 11,
    "start_time": "2024-12-16T20:29:33.851Z"
   },
   {
    "duration": 60,
    "start_time": "2024-12-16T20:29:33.864Z"
   },
   {
    "duration": 5984,
    "start_time": "2024-12-16T20:29:33.926Z"
   },
   {
    "duration": 26612,
    "start_time": "2024-12-16T20:29:39.913Z"
   },
   {
    "duration": 69,
    "start_time": "2024-12-16T20:30:06.527Z"
   },
   {
    "duration": 3,
    "start_time": "2024-12-16T20:30:06.598Z"
   },
   {
    "duration": 115,
    "start_time": "2024-12-16T20:30:06.603Z"
   },
   {
    "duration": 4,
    "start_time": "2024-12-16T20:30:06.720Z"
   },
   {
    "duration": 14511,
    "start_time": "2024-12-16T20:30:06.725Z"
   },
   {
    "duration": 2192,
    "start_time": "2024-12-16T20:30:21.238Z"
   },
   {
    "duration": 8,
    "start_time": "2024-12-16T20:30:23.432Z"
   },
   {
    "duration": 2694,
    "start_time": "2024-12-17T01:21:57.991Z"
   },
   {
    "duration": 471,
    "start_time": "2024-12-17T01:22:00.687Z"
   },
   {
    "duration": 102,
    "start_time": "2024-12-17T01:22:01.160Z"
   },
   {
    "duration": 97,
    "start_time": "2024-12-17T01:22:01.264Z"
   },
   {
    "duration": 67,
    "start_time": "2024-12-17T01:22:01.362Z"
   },
   {
    "duration": 4,
    "start_time": "2024-12-17T01:22:01.430Z"
   },
   {
    "duration": 475,
    "start_time": "2024-12-17T01:22:01.436Z"
   },
   {
    "duration": 12,
    "start_time": "2024-12-17T01:22:01.913Z"
   },
   {
    "duration": 12,
    "start_time": "2024-12-17T01:22:01.928Z"
   },
   {
    "duration": 21,
    "start_time": "2024-12-17T01:22:01.944Z"
   },
   {
    "duration": 6,
    "start_time": "2024-12-17T01:22:01.967Z"
   },
   {
    "duration": 8,
    "start_time": "2024-12-17T01:22:01.975Z"
   },
   {
    "duration": 6,
    "start_time": "2024-12-17T01:22:01.985Z"
   },
   {
    "duration": 67,
    "start_time": "2024-12-17T01:22:01.993Z"
   },
   {
    "duration": 30,
    "start_time": "2024-12-17T01:22:02.062Z"
   },
   {
    "duration": 106,
    "start_time": "2024-12-17T01:22:02.094Z"
   },
   {
    "duration": 54,
    "start_time": "2024-12-17T01:22:02.202Z"
   },
   {
    "duration": 671,
    "start_time": "2024-12-17T01:22:02.257Z"
   },
   {
    "duration": 14,
    "start_time": "2024-12-17T01:22:02.930Z"
   },
   {
    "duration": 36,
    "start_time": "2024-12-17T01:22:02.946Z"
   },
   {
    "duration": 13,
    "start_time": "2024-12-17T01:22:02.984Z"
   },
   {
    "duration": 35,
    "start_time": "2024-12-17T01:22:02.998Z"
   },
   {
    "duration": 2571,
    "start_time": "2024-12-17T01:22:03.035Z"
   },
   {
    "duration": 263,
    "start_time": "2024-12-17T01:22:05.609Z"
   },
   {
    "duration": 64,
    "start_time": "2024-12-17T01:22:05.874Z"
   },
   {
    "duration": 11,
    "start_time": "2024-12-17T01:22:05.942Z"
   },
   {
    "duration": 2444,
    "start_time": "2024-12-17T01:22:05.955Z"
   },
   {
    "duration": 66,
    "start_time": "2024-12-17T01:22:08.404Z"
   },
   {
    "duration": 191,
    "start_time": "2024-12-17T01:22:08.472Z"
   },
   {
    "duration": 32,
    "start_time": "2024-12-17T01:22:08.665Z"
   },
   {
    "duration": 82,
    "start_time": "2024-12-17T01:22:08.698Z"
   },
   {
    "duration": 14,
    "start_time": "2024-12-17T01:22:08.781Z"
   },
   {
    "duration": 2871,
    "start_time": "2024-12-17T01:22:08.797Z"
   },
   {
    "duration": 14,
    "start_time": "2024-12-17T01:22:11.670Z"
   },
   {
    "duration": 44,
    "start_time": "2024-12-17T01:22:11.686Z"
   },
   {
    "duration": 14,
    "start_time": "2024-12-17T01:22:11.731Z"
   },
   {
    "duration": 76,
    "start_time": "2024-12-17T01:22:11.748Z"
   },
   {
    "duration": 1207,
    "start_time": "2024-12-17T01:22:11.826Z"
   },
   {
    "duration": 218,
    "start_time": "2024-12-17T01:22:13.034Z"
   },
   {
    "duration": 562,
    "start_time": "2024-12-17T01:22:13.254Z"
   },
   {
    "duration": 50,
    "start_time": "2024-12-17T01:22:13.825Z"
   },
   {
    "duration": 95,
    "start_time": "2024-12-17T01:22:13.876Z"
   },
   {
    "duration": 3,
    "start_time": "2024-12-17T01:22:13.974Z"
   },
   {
    "duration": 10,
    "start_time": "2024-12-17T01:22:13.978Z"
   },
   {
    "duration": 49,
    "start_time": "2024-12-17T01:22:13.989Z"
   },
   {
    "duration": 5951,
    "start_time": "2024-12-17T01:22:14.040Z"
   },
   {
    "duration": 26932,
    "start_time": "2024-12-17T01:22:19.992Z"
   },
   {
    "duration": 84,
    "start_time": "2024-12-17T01:22:46.927Z"
   },
   {
    "duration": 12,
    "start_time": "2024-12-17T01:22:47.013Z"
   },
   {
    "duration": 109,
    "start_time": "2024-12-17T01:22:47.028Z"
   },
   {
    "duration": 4,
    "start_time": "2024-12-17T01:22:47.138Z"
   },
   {
    "duration": 14292,
    "start_time": "2024-12-17T01:22:47.144Z"
   },
   {
    "duration": 2025,
    "start_time": "2024-12-17T01:23:01.439Z"
   },
   {
    "duration": 64,
    "start_time": "2024-12-17T01:23:03.466Z"
   },
   {
    "duration": 1028,
    "start_time": "2024-12-17T01:36:56.005Z"
   },
   {
    "duration": 405,
    "start_time": "2024-12-17T01:36:57.035Z"
   },
   {
    "duration": 105,
    "start_time": "2024-12-17T01:36:57.442Z"
   },
   {
    "duration": 97,
    "start_time": "2024-12-17T01:36:57.549Z"
   },
   {
    "duration": 62,
    "start_time": "2024-12-17T01:36:57.649Z"
   },
   {
    "duration": 12,
    "start_time": "2024-12-17T01:36:57.713Z"
   },
   {
    "duration": 482,
    "start_time": "2024-12-17T01:36:57.727Z"
   },
   {
    "duration": 3,
    "start_time": "2024-12-17T01:36:58.211Z"
   },
   {
    "duration": 13,
    "start_time": "2024-12-17T01:36:58.225Z"
   },
   {
    "duration": 20,
    "start_time": "2024-12-17T01:36:58.243Z"
   },
   {
    "duration": 7,
    "start_time": "2024-12-17T01:36:58.264Z"
   },
   {
    "duration": 8,
    "start_time": "2024-12-17T01:36:58.273Z"
   },
   {
    "duration": 5,
    "start_time": "2024-12-17T01:36:58.283Z"
   },
   {
    "duration": 70,
    "start_time": "2024-12-17T01:36:58.289Z"
   },
   {
    "duration": 30,
    "start_time": "2024-12-17T01:36:58.361Z"
   },
   {
    "duration": 33,
    "start_time": "2024-12-17T01:36:58.393Z"
   },
   {
    "duration": 47,
    "start_time": "2024-12-17T01:36:58.427Z"
   },
   {
    "duration": 672,
    "start_time": "2024-12-17T01:36:58.476Z"
   },
   {
    "duration": 14,
    "start_time": "2024-12-17T01:36:59.150Z"
   },
   {
    "duration": 38,
    "start_time": "2024-12-17T01:36:59.165Z"
   },
   {
    "duration": 31,
    "start_time": "2024-12-17T01:36:59.204Z"
   },
   {
    "duration": 14,
    "start_time": "2024-12-17T01:36:59.236Z"
   },
   {
    "duration": 2598,
    "start_time": "2024-12-17T01:36:59.251Z"
   },
   {
    "duration": 218,
    "start_time": "2024-12-17T01:37:01.851Z"
   },
   {
    "duration": 67,
    "start_time": "2024-12-17T01:37:02.071Z"
   },
   {
    "duration": 9,
    "start_time": "2024-12-17T01:37:02.140Z"
   },
   {
    "duration": 2436,
    "start_time": "2024-12-17T01:37:02.151Z"
   },
   {
    "duration": 61,
    "start_time": "2024-12-17T01:37:04.592Z"
   },
   {
    "duration": 210,
    "start_time": "2024-12-17T01:37:04.655Z"
   },
   {
    "duration": 33,
    "start_time": "2024-12-17T01:37:04.867Z"
   },
   {
    "duration": 79,
    "start_time": "2024-12-17T01:37:04.901Z"
   },
   {
    "duration": 14,
    "start_time": "2024-12-17T01:37:04.981Z"
   },
   {
    "duration": 3065,
    "start_time": "2024-12-17T01:37:04.996Z"
   },
   {
    "duration": 14,
    "start_time": "2024-12-17T01:37:08.063Z"
   },
   {
    "duration": 28,
    "start_time": "2024-12-17T01:37:08.078Z"
   },
   {
    "duration": 28,
    "start_time": "2024-12-17T01:37:08.107Z"
   },
   {
    "duration": 87,
    "start_time": "2024-12-17T01:37:08.137Z"
   },
   {
    "duration": 1214,
    "start_time": "2024-12-17T01:37:08.226Z"
   },
   {
    "duration": 235,
    "start_time": "2024-12-17T01:37:09.441Z"
   },
   {
    "duration": 550,
    "start_time": "2024-12-17T01:37:09.678Z"
   },
   {
    "duration": 49,
    "start_time": "2024-12-17T01:37:10.229Z"
   },
   {
    "duration": 97,
    "start_time": "2024-12-17T01:37:10.280Z"
   },
   {
    "duration": 3,
    "start_time": "2024-12-17T01:37:10.380Z"
   },
   {
    "duration": 10,
    "start_time": "2024-12-17T01:37:10.385Z"
   },
   {
    "duration": 53,
    "start_time": "2024-12-17T01:37:10.397Z"
   },
   {
    "duration": 5935,
    "start_time": "2024-12-17T01:37:10.451Z"
   },
   {
    "duration": 25788,
    "start_time": "2024-12-17T01:37:16.388Z"
   },
   {
    "duration": 332,
    "start_time": "2024-12-17T01:37:42.178Z"
   },
   {
    "duration": 0,
    "start_time": "2024-12-17T01:37:42.512Z"
   },
   {
    "duration": 0,
    "start_time": "2024-12-17T01:37:42.513Z"
   },
   {
    "duration": 0,
    "start_time": "2024-12-17T01:37:42.515Z"
   },
   {
    "duration": 0,
    "start_time": "2024-12-17T01:37:42.524Z"
   },
   {
    "duration": 0,
    "start_time": "2024-12-17T01:37:42.525Z"
   },
   {
    "duration": 0,
    "start_time": "2024-12-17T01:37:42.527Z"
   },
   {
    "duration": 1,
    "start_time": "2024-12-17T01:37:42.528Z"
   },
   {
    "duration": 171,
    "start_time": "2024-12-17T02:37:32.823Z"
   },
   {
    "duration": 2809,
    "start_time": "2024-12-17T02:37:41.289Z"
   },
   {
    "duration": 530,
    "start_time": "2024-12-17T02:37:44.100Z"
   },
   {
    "duration": 111,
    "start_time": "2024-12-17T02:37:44.631Z"
   },
   {
    "duration": 114,
    "start_time": "2024-12-17T02:37:44.745Z"
   },
   {
    "duration": 64,
    "start_time": "2024-12-17T02:37:44.861Z"
   },
   {
    "duration": 4,
    "start_time": "2024-12-17T02:37:44.926Z"
   },
   {
    "duration": 469,
    "start_time": "2024-12-17T02:37:44.932Z"
   },
   {
    "duration": 5,
    "start_time": "2024-12-17T02:37:45.405Z"
   },
   {
    "duration": 14,
    "start_time": "2024-12-17T02:37:45.412Z"
   },
   {
    "duration": 21,
    "start_time": "2024-12-17T02:37:45.430Z"
   },
   {
    "duration": 6,
    "start_time": "2024-12-17T02:37:45.452Z"
   },
   {
    "duration": 9,
    "start_time": "2024-12-17T02:37:45.461Z"
   },
   {
    "duration": 37,
    "start_time": "2024-12-17T02:37:45.472Z"
   },
   {
    "duration": 39,
    "start_time": "2024-12-17T02:37:45.511Z"
   },
   {
    "duration": 58,
    "start_time": "2024-12-17T02:37:45.552Z"
   },
   {
    "duration": 29,
    "start_time": "2024-12-17T02:37:45.612Z"
   },
   {
    "duration": 79,
    "start_time": "2024-12-17T02:37:45.642Z"
   },
   {
    "duration": 711,
    "start_time": "2024-12-17T02:37:45.723Z"
   },
   {
    "duration": 14,
    "start_time": "2024-12-17T02:37:46.436Z"
   },
   {
    "duration": 36,
    "start_time": "2024-12-17T02:37:46.452Z"
   },
   {
    "duration": 27,
    "start_time": "2024-12-17T02:37:46.490Z"
   },
   {
    "duration": 20,
    "start_time": "2024-12-17T02:37:46.518Z"
   },
   {
    "duration": 2730,
    "start_time": "2024-12-17T02:37:46.540Z"
   },
   {
    "duration": 289,
    "start_time": "2024-12-17T02:37:49.272Z"
   },
   {
    "duration": 94,
    "start_time": "2024-12-17T02:37:49.563Z"
   },
   {
    "duration": 9,
    "start_time": "2024-12-17T02:37:49.659Z"
   },
   {
    "duration": 2413,
    "start_time": "2024-12-17T02:37:49.670Z"
   },
   {
    "duration": 61,
    "start_time": "2024-12-17T02:37:52.088Z"
   },
   {
    "duration": 217,
    "start_time": "2024-12-17T02:37:52.151Z"
   },
   {
    "duration": 41,
    "start_time": "2024-12-17T02:37:52.372Z"
   },
   {
    "duration": 68,
    "start_time": "2024-12-17T02:37:52.415Z"
   },
   {
    "duration": 37,
    "start_time": "2024-12-17T02:37:52.485Z"
   },
   {
    "duration": 2859,
    "start_time": "2024-12-17T02:37:52.524Z"
   },
   {
    "duration": 14,
    "start_time": "2024-12-17T02:37:55.385Z"
   },
   {
    "duration": 33,
    "start_time": "2024-12-17T02:37:55.401Z"
   },
   {
    "duration": 15,
    "start_time": "2024-12-17T02:37:55.436Z"
   },
   {
    "duration": 102,
    "start_time": "2024-12-17T02:37:55.452Z"
   },
   {
    "duration": 1218,
    "start_time": "2024-12-17T02:37:55.555Z"
   },
   {
    "duration": 241,
    "start_time": "2024-12-17T02:37:56.775Z"
   },
   {
    "duration": 581,
    "start_time": "2024-12-17T02:37:57.018Z"
   },
   {
    "duration": 48,
    "start_time": "2024-12-17T02:37:57.609Z"
   },
   {
    "duration": 116,
    "start_time": "2024-12-17T02:37:57.659Z"
   },
   {
    "duration": 3,
    "start_time": "2024-12-17T02:37:57.777Z"
   },
   {
    "duration": 25,
    "start_time": "2024-12-17T02:37:57.783Z"
   },
   {
    "duration": 45,
    "start_time": "2024-12-17T02:37:57.810Z"
   },
   {
    "duration": 5988,
    "start_time": "2024-12-17T02:37:57.857Z"
   },
   {
    "duration": 26422,
    "start_time": "2024-12-17T02:38:03.848Z"
   },
   {
    "duration": 547,
    "start_time": "2024-12-17T02:38:30.272Z"
   },
   {
    "duration": 0,
    "start_time": "2024-12-17T02:38:30.821Z"
   },
   {
    "duration": 0,
    "start_time": "2024-12-17T02:38:30.821Z"
   },
   {
    "duration": 0,
    "start_time": "2024-12-17T02:38:30.823Z"
   },
   {
    "duration": 0,
    "start_time": "2024-12-17T02:38:30.828Z"
   },
   {
    "duration": 0,
    "start_time": "2024-12-17T02:38:30.830Z"
   },
   {
    "duration": 0,
    "start_time": "2024-12-17T02:38:30.831Z"
   },
   {
    "duration": 0,
    "start_time": "2024-12-17T02:38:30.832Z"
   },
   {
    "duration": 109,
    "start_time": "2024-12-17T02:39:01.344Z"
   },
   {
    "duration": 142,
    "start_time": "2024-12-17T02:39:38.079Z"
   },
   {
    "duration": 62,
    "start_time": "2024-12-17T02:40:59.679Z"
   },
   {
    "duration": 61,
    "start_time": "2024-12-17T02:47:35.384Z"
   },
   {
    "duration": 3,
    "start_time": "2024-12-17T02:47:37.106Z"
   },
   {
    "duration": 129,
    "start_time": "2024-12-17T02:47:38.987Z"
   },
   {
    "duration": 5,
    "start_time": "2024-12-17T02:47:42.987Z"
   },
   {
    "duration": 1008,
    "start_time": "2024-12-17T02:48:23.187Z"
   },
   {
    "duration": 433,
    "start_time": "2024-12-17T02:48:24.197Z"
   },
   {
    "duration": 133,
    "start_time": "2024-12-17T02:48:24.632Z"
   },
   {
    "duration": 91,
    "start_time": "2024-12-17T02:48:24.770Z"
   },
   {
    "duration": 66,
    "start_time": "2024-12-17T02:48:24.863Z"
   },
   {
    "duration": 3,
    "start_time": "2024-12-17T02:48:24.930Z"
   },
   {
    "duration": 491,
    "start_time": "2024-12-17T02:48:24.935Z"
   },
   {
    "duration": 3,
    "start_time": "2024-12-17T02:48:25.428Z"
   },
   {
    "duration": 17,
    "start_time": "2024-12-17T02:48:25.433Z"
   },
   {
    "duration": 26,
    "start_time": "2024-12-17T02:48:25.453Z"
   },
   {
    "duration": 6,
    "start_time": "2024-12-17T02:48:25.481Z"
   },
   {
    "duration": 10,
    "start_time": "2024-12-17T02:48:25.508Z"
   },
   {
    "duration": 5,
    "start_time": "2024-12-17T02:48:25.520Z"
   },
   {
    "duration": 38,
    "start_time": "2024-12-17T02:48:25.527Z"
   },
   {
    "duration": 53,
    "start_time": "2024-12-17T02:48:25.567Z"
   },
   {
    "duration": 23,
    "start_time": "2024-12-17T02:48:25.623Z"
   },
   {
    "duration": 67,
    "start_time": "2024-12-17T02:48:25.648Z"
   },
   {
    "duration": 723,
    "start_time": "2024-12-17T02:48:25.717Z"
   },
   {
    "duration": 25,
    "start_time": "2024-12-17T02:48:26.442Z"
   },
   {
    "duration": 74,
    "start_time": "2024-12-17T02:48:26.469Z"
   },
   {
    "duration": 21,
    "start_time": "2024-12-17T02:48:26.546Z"
   },
   {
    "duration": 20,
    "start_time": "2024-12-17T02:48:26.569Z"
   },
   {
    "duration": 3104,
    "start_time": "2024-12-17T02:48:26.591Z"
   },
   {
    "duration": 279,
    "start_time": "2024-12-17T02:48:29.697Z"
   },
   {
    "duration": 95,
    "start_time": "2024-12-17T02:48:29.978Z"
   },
   {
    "duration": 10,
    "start_time": "2024-12-17T02:48:30.075Z"
   },
   {
    "duration": 2862,
    "start_time": "2024-12-17T02:48:30.087Z"
   },
   {
    "duration": 88,
    "start_time": "2024-12-17T02:48:32.955Z"
   },
   {
    "duration": 203,
    "start_time": "2024-12-17T02:48:33.046Z"
   },
   {
    "duration": 58,
    "start_time": "2024-12-17T02:48:33.251Z"
   },
   {
    "duration": 99,
    "start_time": "2024-12-17T02:48:33.312Z"
   },
   {
    "duration": 18,
    "start_time": "2024-12-17T02:48:33.412Z"
   },
   {
    "duration": 2871,
    "start_time": "2024-12-17T02:48:33.432Z"
   },
   {
    "duration": 21,
    "start_time": "2024-12-17T02:48:36.309Z"
   },
   {
    "duration": 39,
    "start_time": "2024-12-17T02:48:36.332Z"
   },
   {
    "duration": 36,
    "start_time": "2024-12-17T02:48:36.375Z"
   },
   {
    "duration": 66,
    "start_time": "2024-12-17T02:48:36.413Z"
   },
   {
    "duration": 1303,
    "start_time": "2024-12-17T02:48:36.482Z"
   },
   {
    "duration": 270,
    "start_time": "2024-12-17T02:48:37.787Z"
   },
   {
    "duration": 555,
    "start_time": "2024-12-17T02:48:38.061Z"
   },
   {
    "duration": 44,
    "start_time": "2024-12-17T02:48:38.618Z"
   },
   {
    "duration": 117,
    "start_time": "2024-12-17T02:48:38.664Z"
   },
   {
    "duration": 3,
    "start_time": "2024-12-17T02:48:38.783Z"
   },
   {
    "duration": 23,
    "start_time": "2024-12-17T02:48:38.787Z"
   },
   {
    "duration": 41,
    "start_time": "2024-12-17T02:48:38.813Z"
   },
   {
    "duration": 5974,
    "start_time": "2024-12-17T02:48:38.856Z"
   },
   {
    "duration": 27005,
    "start_time": "2024-12-17T02:48:44.833Z"
   },
   {
    "duration": 50,
    "start_time": "2024-12-17T02:49:11.840Z"
   },
   {
    "duration": 160,
    "start_time": "2024-12-17T02:49:11.891Z"
   },
   {
    "duration": 3,
    "start_time": "2024-12-17T02:49:12.053Z"
   },
   {
    "duration": 126,
    "start_time": "2024-12-17T02:49:12.058Z"
   },
   {
    "duration": 4,
    "start_time": "2024-12-17T02:49:12.186Z"
   },
   {
    "duration": 1074,
    "start_time": "2024-12-17T02:50:31.833Z"
   },
   {
    "duration": 424,
    "start_time": "2024-12-17T02:50:32.910Z"
   },
   {
    "duration": 95,
    "start_time": "2024-12-17T02:50:33.336Z"
   },
   {
    "duration": 100,
    "start_time": "2024-12-17T02:50:33.434Z"
   },
   {
    "duration": 59,
    "start_time": "2024-12-17T02:50:33.536Z"
   },
   {
    "duration": 13,
    "start_time": "2024-12-17T02:50:33.596Z"
   },
   {
    "duration": 470,
    "start_time": "2024-12-17T02:50:33.611Z"
   },
   {
    "duration": 3,
    "start_time": "2024-12-17T02:50:34.084Z"
   },
   {
    "duration": 20,
    "start_time": "2024-12-17T02:50:34.091Z"
   },
   {
    "duration": 22,
    "start_time": "2024-12-17T02:50:34.115Z"
   },
   {
    "duration": 7,
    "start_time": "2024-12-17T02:50:34.139Z"
   },
   {
    "duration": 11,
    "start_time": "2024-12-17T02:50:34.147Z"
   },
   {
    "duration": 5,
    "start_time": "2024-12-17T02:50:34.160Z"
   },
   {
    "duration": 69,
    "start_time": "2024-12-17T02:50:34.166Z"
   },
   {
    "duration": 31,
    "start_time": "2024-12-17T02:50:34.237Z"
   },
   {
    "duration": 84,
    "start_time": "2024-12-17T02:50:34.270Z"
   },
   {
    "duration": 76,
    "start_time": "2024-12-17T02:50:34.357Z"
   },
   {
    "duration": 790,
    "start_time": "2024-12-17T02:50:34.435Z"
   },
   {
    "duration": 19,
    "start_time": "2024-12-17T02:50:35.227Z"
   },
   {
    "duration": 71,
    "start_time": "2024-12-17T02:50:35.247Z"
   },
   {
    "duration": 20,
    "start_time": "2024-12-17T02:50:35.320Z"
   },
   {
    "duration": 19,
    "start_time": "2024-12-17T02:50:35.341Z"
   },
   {
    "duration": 2836,
    "start_time": "2024-12-17T02:50:35.362Z"
   },
   {
    "duration": 240,
    "start_time": "2024-12-17T02:50:38.208Z"
   },
   {
    "duration": 65,
    "start_time": "2024-12-17T02:50:38.450Z"
   },
   {
    "duration": 11,
    "start_time": "2024-12-17T02:50:38.517Z"
   },
   {
    "duration": 2500,
    "start_time": "2024-12-17T02:50:38.530Z"
   },
   {
    "duration": 59,
    "start_time": "2024-12-17T02:50:41.035Z"
   },
   {
    "duration": 229,
    "start_time": "2024-12-17T02:50:41.108Z"
   },
   {
    "duration": 54,
    "start_time": "2024-12-17T02:50:41.339Z"
   },
   {
    "duration": 95,
    "start_time": "2024-12-17T02:50:41.395Z"
   },
   {
    "duration": 20,
    "start_time": "2024-12-17T02:50:41.492Z"
   },
   {
    "duration": 2910,
    "start_time": "2024-12-17T02:50:41.515Z"
   },
   {
    "duration": 15,
    "start_time": "2024-12-17T02:50:44.427Z"
   },
   {
    "duration": 39,
    "start_time": "2024-12-17T02:50:44.444Z"
   },
   {
    "duration": 36,
    "start_time": "2024-12-17T02:50:44.485Z"
   },
   {
    "duration": 66,
    "start_time": "2024-12-17T02:50:44.523Z"
   },
   {
    "duration": 1277,
    "start_time": "2024-12-17T02:50:44.591Z"
   },
   {
    "duration": 259,
    "start_time": "2024-12-17T02:50:45.870Z"
   },
   {
    "duration": 568,
    "start_time": "2024-12-17T02:50:46.132Z"
   },
   {
    "duration": 48,
    "start_time": "2024-12-17T02:50:46.709Z"
   },
   {
    "duration": 98,
    "start_time": "2024-12-17T02:50:46.758Z"
   },
   {
    "duration": 3,
    "start_time": "2024-12-17T02:50:46.858Z"
   },
   {
    "duration": 9,
    "start_time": "2024-12-17T02:50:46.863Z"
   },
   {
    "duration": 60,
    "start_time": "2024-12-17T02:50:46.874Z"
   },
   {
    "duration": 6109,
    "start_time": "2024-12-17T02:50:46.936Z"
   },
   {
    "duration": 26935,
    "start_time": "2024-12-17T02:50:53.047Z"
   },
   {
    "duration": 53,
    "start_time": "2024-12-17T02:51:19.984Z"
   },
   {
    "duration": 167,
    "start_time": "2024-12-17T02:51:20.042Z"
   },
   {
    "duration": 3,
    "start_time": "2024-12-17T02:51:20.211Z"
   },
   {
    "duration": 138,
    "start_time": "2024-12-17T02:51:20.217Z"
   },
   {
    "duration": 4,
    "start_time": "2024-12-17T02:51:20.356Z"
   },
   {
    "duration": 0,
    "start_time": "2024-12-17T02:57:07.543Z"
   },
   {
    "duration": 78,
    "start_time": "2024-12-17T02:57:15.256Z"
   },
   {
    "duration": 1101,
    "start_time": "2024-12-17T02:59:05.614Z"
   },
   {
    "duration": 447,
    "start_time": "2024-12-17T02:59:06.719Z"
   },
   {
    "duration": 118,
    "start_time": "2024-12-17T02:59:07.168Z"
   },
   {
    "duration": 101,
    "start_time": "2024-12-17T02:59:07.289Z"
   },
   {
    "duration": 71,
    "start_time": "2024-12-17T02:59:07.392Z"
   },
   {
    "duration": 4,
    "start_time": "2024-12-17T02:59:07.464Z"
   },
   {
    "duration": 516,
    "start_time": "2024-12-17T02:59:07.471Z"
   },
   {
    "duration": 3,
    "start_time": "2024-12-17T02:59:07.989Z"
   },
   {
    "duration": 26,
    "start_time": "2024-12-17T02:59:07.994Z"
   },
   {
    "duration": 24,
    "start_time": "2024-12-17T02:59:08.024Z"
   },
   {
    "duration": 7,
    "start_time": "2024-12-17T02:59:08.050Z"
   },
   {
    "duration": 11,
    "start_time": "2024-12-17T02:59:08.058Z"
   },
   {
    "duration": 5,
    "start_time": "2024-12-17T02:59:08.071Z"
   },
   {
    "duration": 70,
    "start_time": "2024-12-17T02:59:08.078Z"
   },
   {
    "duration": 31,
    "start_time": "2024-12-17T02:59:08.150Z"
   },
   {
    "duration": 92,
    "start_time": "2024-12-17T02:59:08.183Z"
   },
   {
    "duration": 72,
    "start_time": "2024-12-17T02:59:08.279Z"
   },
   {
    "duration": 704,
    "start_time": "2024-12-17T02:59:08.352Z"
   },
   {
    "duration": 15,
    "start_time": "2024-12-17T02:59:09.058Z"
   },
   {
    "duration": 54,
    "start_time": "2024-12-17T02:59:09.075Z"
   },
   {
    "duration": 20,
    "start_time": "2024-12-17T02:59:09.132Z"
   },
   {
    "duration": 21,
    "start_time": "2024-12-17T02:59:09.153Z"
   },
   {
    "duration": 2628,
    "start_time": "2024-12-17T02:59:09.182Z"
   },
   {
    "duration": 256,
    "start_time": "2024-12-17T02:59:11.812Z"
   },
   {
    "duration": 66,
    "start_time": "2024-12-17T02:59:12.070Z"
   },
   {
    "duration": 11,
    "start_time": "2024-12-17T02:59:12.138Z"
   },
   {
    "duration": 2507,
    "start_time": "2024-12-17T02:59:12.152Z"
   },
   {
    "duration": 69,
    "start_time": "2024-12-17T02:59:14.665Z"
   },
   {
    "duration": 224,
    "start_time": "2024-12-17T02:59:14.735Z"
   },
   {
    "duration": 50,
    "start_time": "2024-12-17T02:59:14.961Z"
   },
   {
    "duration": 69,
    "start_time": "2024-12-17T02:59:15.013Z"
   },
   {
    "duration": 27,
    "start_time": "2024-12-17T02:59:15.083Z"
   },
   {
    "duration": 2920,
    "start_time": "2024-12-17T02:59:15.112Z"
   },
   {
    "duration": 15,
    "start_time": "2024-12-17T02:59:18.034Z"
   },
   {
    "duration": 39,
    "start_time": "2024-12-17T02:59:18.050Z"
   },
   {
    "duration": 19,
    "start_time": "2024-12-17T02:59:18.109Z"
   },
   {
    "duration": 99,
    "start_time": "2024-12-17T02:59:18.130Z"
   },
   {
    "duration": 1199,
    "start_time": "2024-12-17T02:59:18.231Z"
   },
   {
    "duration": 248,
    "start_time": "2024-12-17T02:59:19.432Z"
   },
   {
    "duration": 561,
    "start_time": "2024-12-17T02:59:19.682Z"
   },
   {
    "duration": 64,
    "start_time": "2024-12-17T02:59:20.245Z"
   },
   {
    "duration": 83,
    "start_time": "2024-12-17T02:59:20.311Z"
   },
   {
    "duration": 14,
    "start_time": "2024-12-17T02:59:20.396Z"
   },
   {
    "duration": 10,
    "start_time": "2024-12-17T02:59:20.411Z"
   },
   {
    "duration": 47,
    "start_time": "2024-12-17T02:59:20.422Z"
   },
   {
    "duration": 6006,
    "start_time": "2024-12-17T02:59:20.471Z"
   },
   {
    "duration": 26712,
    "start_time": "2024-12-17T02:59:26.479Z"
   },
   {
    "duration": 126,
    "start_time": "2024-12-17T02:59:53.193Z"
   },
   {
    "duration": 146,
    "start_time": "2024-12-17T02:59:53.321Z"
   },
   {
    "duration": 6,
    "start_time": "2024-12-17T02:59:53.471Z"
   },
   {
    "duration": 170,
    "start_time": "2024-12-17T02:59:53.479Z"
   },
   {
    "duration": 4,
    "start_time": "2024-12-17T02:59:53.651Z"
   },
   {
    "duration": 55967,
    "start_time": "2024-12-17T02:59:53.656Z"
   },
   {
    "duration": 2024,
    "start_time": "2024-12-17T03:00:49.627Z"
   },
   {
    "duration": 61,
    "start_time": "2024-12-17T03:00:51.652Z"
   },
   {
    "duration": 1090,
    "start_time": "2024-12-17T03:07:27.434Z"
   },
   {
    "duration": 439,
    "start_time": "2024-12-17T03:07:28.526Z"
   },
   {
    "duration": 161,
    "start_time": "2024-12-17T03:07:28.967Z"
   },
   {
    "duration": 205,
    "start_time": "2024-12-17T03:07:29.131Z"
   },
   {
    "duration": 109,
    "start_time": "2024-12-17T03:07:29.337Z"
   },
   {
    "duration": 3,
    "start_time": "2024-12-17T03:07:29.448Z"
   },
   {
    "duration": 501,
    "start_time": "2024-12-17T03:07:29.454Z"
   },
   {
    "duration": 3,
    "start_time": "2024-12-17T03:07:29.957Z"
   },
   {
    "duration": 19,
    "start_time": "2024-12-17T03:07:29.962Z"
   },
   {
    "duration": 38,
    "start_time": "2024-12-17T03:07:29.984Z"
   },
   {
    "duration": 6,
    "start_time": "2024-12-17T03:07:30.024Z"
   },
   {
    "duration": 9,
    "start_time": "2024-12-17T03:07:30.032Z"
   },
   {
    "duration": 5,
    "start_time": "2024-12-17T03:07:30.042Z"
   },
   {
    "duration": 61,
    "start_time": "2024-12-17T03:07:30.049Z"
   },
   {
    "duration": 31,
    "start_time": "2024-12-17T03:07:30.111Z"
   },
   {
    "duration": 28,
    "start_time": "2024-12-17T03:07:30.143Z"
   },
   {
    "duration": 60,
    "start_time": "2024-12-17T03:07:30.173Z"
   },
   {
    "duration": 674,
    "start_time": "2024-12-17T03:07:30.235Z"
   },
   {
    "duration": 15,
    "start_time": "2024-12-17T03:07:30.910Z"
   },
   {
    "duration": 36,
    "start_time": "2024-12-17T03:07:30.927Z"
   },
   {
    "duration": 15,
    "start_time": "2024-12-17T03:07:30.965Z"
   },
   {
    "duration": 35,
    "start_time": "2024-12-17T03:07:30.981Z"
   },
   {
    "duration": 2696,
    "start_time": "2024-12-17T03:07:31.018Z"
   },
   {
    "duration": 224,
    "start_time": "2024-12-17T03:07:33.716Z"
   },
   {
    "duration": 66,
    "start_time": "2024-12-17T03:07:33.943Z"
   },
   {
    "duration": 10,
    "start_time": "2024-12-17T03:07:34.012Z"
   },
   {
    "duration": 2465,
    "start_time": "2024-12-17T03:07:34.024Z"
   },
   {
    "duration": 61,
    "start_time": "2024-12-17T03:07:36.494Z"
   },
   {
    "duration": 203,
    "start_time": "2024-12-17T03:07:36.557Z"
   },
   {
    "duration": 62,
    "start_time": "2024-12-17T03:07:36.762Z"
   },
   {
    "duration": 66,
    "start_time": "2024-12-17T03:07:36.826Z"
   },
   {
    "duration": 26,
    "start_time": "2024-12-17T03:07:36.894Z"
   },
   {
    "duration": 2918,
    "start_time": "2024-12-17T03:07:36.922Z"
   },
   {
    "duration": 15,
    "start_time": "2024-12-17T03:07:39.842Z"
   },
   {
    "duration": 28,
    "start_time": "2024-12-17T03:07:39.858Z"
   },
   {
    "duration": 31,
    "start_time": "2024-12-17T03:07:39.887Z"
   },
   {
    "duration": 64,
    "start_time": "2024-12-17T03:07:39.920Z"
   },
   {
    "duration": 1193,
    "start_time": "2024-12-17T03:07:39.985Z"
   },
   {
    "duration": 229,
    "start_time": "2024-12-17T03:07:41.180Z"
   },
   {
    "duration": 550,
    "start_time": "2024-12-17T03:07:41.410Z"
   },
   {
    "duration": 52,
    "start_time": "2024-12-17T03:07:41.962Z"
   },
   {
    "duration": 95,
    "start_time": "2024-12-17T03:07:42.016Z"
   },
   {
    "duration": 3,
    "start_time": "2024-12-17T03:07:42.113Z"
   },
   {
    "duration": 10,
    "start_time": "2024-12-17T03:07:42.118Z"
   },
   {
    "duration": 45,
    "start_time": "2024-12-17T03:07:42.129Z"
   },
   {
    "duration": 5982,
    "start_time": "2024-12-17T03:07:42.176Z"
   },
   {
    "duration": 26410,
    "start_time": "2024-12-17T03:07:48.160Z"
   },
   {
    "duration": 44,
    "start_time": "2024-12-17T03:08:14.572Z"
   },
   {
    "duration": 224,
    "start_time": "2024-12-17T03:08:14.618Z"
   },
   {
    "duration": 3,
    "start_time": "2024-12-17T03:08:14.844Z"
   },
   {
    "duration": 107,
    "start_time": "2024-12-17T03:08:14.849Z"
   },
   {
    "duration": 4,
    "start_time": "2024-12-17T03:08:14.957Z"
   },
   {
    "duration": 14258,
    "start_time": "2024-12-17T03:08:14.963Z"
   },
   {
    "duration": 2104,
    "start_time": "2024-12-17T03:08:29.223Z"
   },
   {
    "duration": 9,
    "start_time": "2024-12-17T03:08:31.329Z"
   },
   {
    "duration": 495,
    "start_time": "2024-12-17T03:13:48.139Z"
   },
   {
    "duration": 8,
    "start_time": "2024-12-17T03:15:12.574Z"
   }
  ],
  "celltoolbar": "Raw Cell Format",
  "kernelspec": {
   "display_name": "base",
   "language": "python",
   "name": "python3"
  },
  "language_info": {
   "codemirror_mode": {
    "name": "ipython",
    "version": 3
   },
   "file_extension": ".py",
   "mimetype": "text/x-python",
   "name": "python",
   "nbconvert_exporter": "python",
   "pygments_lexer": "ipython3",
   "version": "3.11.7"
  },
  "toc": {
   "base_numbering": 1,
   "nav_menu": {},
   "number_sections": true,
   "sideBar": true,
   "skip_h1_title": true,
   "title_cell": "Table of Contents",
   "title_sidebar": "Contents",
   "toc_cell": false,
   "toc_position": {},
   "toc_section_display": true,
   "toc_window_display": false
  }
 },
 "nbformat": 4,
 "nbformat_minor": 2
}
